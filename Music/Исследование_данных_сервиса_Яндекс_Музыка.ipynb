{
 "cells": [
  {
   "cell_type": "markdown",
   "metadata": {
    "id": "E0vqbgi9ay0H"
   },
   "source": [
    "# Яндекс.Музыка"
   ]
  },
  {
   "cell_type": "markdown",
   "metadata": {
    "id": "VUC88oWjTJw2"
   },
   "source": [
    "Сравнение Москвы и Петербурга окружено мифами. Например:\n",
    " * Москва — мегаполис, подчинённый жёсткому ритму рабочей недели;\n",
    " * Петербург — культурная столица, со своими вкусами.\n",
    "\n",
    "На данных Яндекс.Музыки вы сравните поведение пользователей двух столиц.\n",
    "\n",
    "**Цель исследования** — проверьте три гипотезы:\n",
    "1. Активность пользователей зависит от дня недели. Причём в Москве и Петербурге это проявляется по-разному.\n",
    "2. В понедельник утром в Москве преобладают одни жанры, а в Петербурге — другие. Так же и вечером пятницы преобладают разные жанры — в зависимости от города. \n",
    "3. Москва и Петербург предпочитают разные жанры музыки. В Москве чаще слушают поп-музыку, в Петербурге — русский рэп.\n",
    "\n",
    "**Ход исследования**\n",
    "\n",
    "Данные о поведении пользователей вы получите из файла `yandex_music_project.csv`. О качестве данных ничего не известно. Поэтому перед проверкой гипотез понадобится обзор данных. \n",
    "\n",
    "Вы проверите данные на ошибки и оцените их влияние на исследование. Затем, на этапе предобработки вы поищете возможность исправить самые критичные ошибки данных.\n",
    " \n",
    "Таким образом, исследование пройдёт в три этапа:\n",
    " 1. Обзор данных.\n",
    " 2. Предобработка данных.\n",
    " 3. Проверка гипотез.\n",
    "\n"
   ]
  },
  {
   "cell_type": "markdown",
   "metadata": {
    "id": "Ml1hmfXC_Zcs"
   },
   "source": [
    "## Обзор данных\n",
    "\n",
    "Составьте первое представление о данных Яндекс.Музыки.\n",
    "\n",
    "\n"
   ]
  },
  {
   "cell_type": "markdown",
   "metadata": {
    "id": "57eAOGIz_Zcs"
   },
   "source": [
    "Основной инструмент аналитика — `pandas`. Импортируйте эту библиотеку."
   ]
  },
  {
   "cell_type": "code",
   "execution_count": 9,
   "metadata": {
    "id": "AXN7PHPN_Zcs"
   },
   "outputs": [],
   "source": [
    "import pandas as pd"
   ]
  },
  {
   "cell_type": "markdown",
   "metadata": {
    "id": "SG23P8tt_Zcs"
   },
   "source": [
    "Прочитайте файл `yandex_music_project.csv` из папки `/datasets` и сохраните его в переменной `df`:"
   ]
  },
  {
   "cell_type": "code",
   "execution_count": 10,
   "metadata": {
    "id": "fFVu7vqh_Zct"
   },
   "outputs": [],
   "source": [
    "df = pd.read_csv('/datasets/yandex_music_project.csv')"
   ]
  },
  {
   "cell_type": "markdown",
   "metadata": {
    "id": "rDoOMd3uTqnZ"
   },
   "source": [
    "Выведите на экран первые десять строк таблицы:"
   ]
  },
  {
   "cell_type": "code",
   "execution_count": 11,
   "metadata": {
    "id": "oWTVX3gW_Zct"
   },
   "outputs": [
    {
     "data": {
      "text/html": [
       "<div>\n",
       "<style scoped>\n",
       "    .dataframe tbody tr th:only-of-type {\n",
       "        vertical-align: middle;\n",
       "    }\n",
       "\n",
       "    .dataframe tbody tr th {\n",
       "        vertical-align: top;\n",
       "    }\n",
       "\n",
       "    .dataframe thead th {\n",
       "        text-align: right;\n",
       "    }\n",
       "</style>\n",
       "<table border=\"1\" class=\"dataframe\">\n",
       "  <thead>\n",
       "    <tr style=\"text-align: right;\">\n",
       "      <th></th>\n",
       "      <th>userID</th>\n",
       "      <th>Track</th>\n",
       "      <th>artist</th>\n",
       "      <th>genre</th>\n",
       "      <th>City</th>\n",
       "      <th>time</th>\n",
       "      <th>Day</th>\n",
       "    </tr>\n",
       "  </thead>\n",
       "  <tbody>\n",
       "    <tr>\n",
       "      <th>0</th>\n",
       "      <td>FFB692EC</td>\n",
       "      <td>Kamigata To Boots</td>\n",
       "      <td>The Mass Missile</td>\n",
       "      <td>rock</td>\n",
       "      <td>Saint-Petersburg</td>\n",
       "      <td>20:28:33</td>\n",
       "      <td>Wednesday</td>\n",
       "    </tr>\n",
       "    <tr>\n",
       "      <th>1</th>\n",
       "      <td>55204538</td>\n",
       "      <td>Delayed Because of Accident</td>\n",
       "      <td>Andreas Rönnberg</td>\n",
       "      <td>rock</td>\n",
       "      <td>Moscow</td>\n",
       "      <td>14:07:09</td>\n",
       "      <td>Friday</td>\n",
       "    </tr>\n",
       "    <tr>\n",
       "      <th>2</th>\n",
       "      <td>20EC38</td>\n",
       "      <td>Funiculì funiculà</td>\n",
       "      <td>Mario Lanza</td>\n",
       "      <td>pop</td>\n",
       "      <td>Saint-Petersburg</td>\n",
       "      <td>20:58:07</td>\n",
       "      <td>Wednesday</td>\n",
       "    </tr>\n",
       "    <tr>\n",
       "      <th>3</th>\n",
       "      <td>A3DD03C9</td>\n",
       "      <td>Dragons in the Sunset</td>\n",
       "      <td>Fire + Ice</td>\n",
       "      <td>folk</td>\n",
       "      <td>Saint-Petersburg</td>\n",
       "      <td>08:37:09</td>\n",
       "      <td>Monday</td>\n",
       "    </tr>\n",
       "    <tr>\n",
       "      <th>4</th>\n",
       "      <td>E2DC1FAE</td>\n",
       "      <td>Soul People</td>\n",
       "      <td>Space Echo</td>\n",
       "      <td>dance</td>\n",
       "      <td>Moscow</td>\n",
       "      <td>08:34:34</td>\n",
       "      <td>Monday</td>\n",
       "    </tr>\n",
       "    <tr>\n",
       "      <th>5</th>\n",
       "      <td>842029A1</td>\n",
       "      <td>Преданная</td>\n",
       "      <td>IMPERVTOR</td>\n",
       "      <td>rusrap</td>\n",
       "      <td>Saint-Petersburg</td>\n",
       "      <td>13:09:41</td>\n",
       "      <td>Friday</td>\n",
       "    </tr>\n",
       "    <tr>\n",
       "      <th>6</th>\n",
       "      <td>4CB90AA5</td>\n",
       "      <td>True</td>\n",
       "      <td>Roman Messer</td>\n",
       "      <td>dance</td>\n",
       "      <td>Moscow</td>\n",
       "      <td>13:00:07</td>\n",
       "      <td>Wednesday</td>\n",
       "    </tr>\n",
       "    <tr>\n",
       "      <th>7</th>\n",
       "      <td>F03E1C1F</td>\n",
       "      <td>Feeling This Way</td>\n",
       "      <td>Polina Griffith</td>\n",
       "      <td>dance</td>\n",
       "      <td>Moscow</td>\n",
       "      <td>20:47:49</td>\n",
       "      <td>Wednesday</td>\n",
       "    </tr>\n",
       "    <tr>\n",
       "      <th>8</th>\n",
       "      <td>8FA1D3BE</td>\n",
       "      <td>И вновь продолжается бой</td>\n",
       "      <td>NaN</td>\n",
       "      <td>ruspop</td>\n",
       "      <td>Moscow</td>\n",
       "      <td>09:17:40</td>\n",
       "      <td>Friday</td>\n",
       "    </tr>\n",
       "    <tr>\n",
       "      <th>9</th>\n",
       "      <td>E772D5C0</td>\n",
       "      <td>Pessimist</td>\n",
       "      <td>NaN</td>\n",
       "      <td>dance</td>\n",
       "      <td>Saint-Petersburg</td>\n",
       "      <td>21:20:49</td>\n",
       "      <td>Wednesday</td>\n",
       "    </tr>\n",
       "  </tbody>\n",
       "</table>\n",
       "</div>"
      ],
      "text/plain": [
       "     userID                        Track            artist   genre  \\\n",
       "0  FFB692EC            Kamigata To Boots  The Mass Missile    rock   \n",
       "1  55204538  Delayed Because of Accident  Andreas Rönnberg    rock   \n",
       "2    20EC38            Funiculì funiculà       Mario Lanza     pop   \n",
       "3  A3DD03C9        Dragons in the Sunset        Fire + Ice    folk   \n",
       "4  E2DC1FAE                  Soul People        Space Echo   dance   \n",
       "5  842029A1                    Преданная         IMPERVTOR  rusrap   \n",
       "6  4CB90AA5                         True      Roman Messer   dance   \n",
       "7  F03E1C1F             Feeling This Way   Polina Griffith   dance   \n",
       "8  8FA1D3BE     И вновь продолжается бой               NaN  ruspop   \n",
       "9  E772D5C0                    Pessimist               NaN   dance   \n",
       "\n",
       "             City        time        Day  \n",
       "0  Saint-Petersburg  20:28:33  Wednesday  \n",
       "1            Moscow  14:07:09     Friday  \n",
       "2  Saint-Petersburg  20:58:07  Wednesday  \n",
       "3  Saint-Petersburg  08:37:09     Monday  \n",
       "4            Moscow  08:34:34     Monday  \n",
       "5  Saint-Petersburg  13:09:41     Friday  \n",
       "6            Moscow  13:00:07  Wednesday  \n",
       "7            Moscow  20:47:49  Wednesday  \n",
       "8            Moscow  09:17:40     Friday  \n",
       "9  Saint-Petersburg  21:20:49  Wednesday  "
      ]
     },
     "metadata": {},
     "output_type": "display_data"
    }
   ],
   "source": [
    "display(df.head(10))"
   ]
  },
  {
   "cell_type": "markdown",
   "metadata": {
    "id": "EO73Kwic_Zct"
   },
   "source": [
    "Одной командой получить общую информацию о таблице:"
   ]
  },
  {
   "cell_type": "code",
   "execution_count": 12,
   "metadata": {
    "id": "DSf2kIb-_Zct"
   },
   "outputs": [
    {
     "name": "stdout",
     "output_type": "stream",
     "text": [
      "<class 'pandas.core.frame.DataFrame'>\n",
      "RangeIndex: 65079 entries, 0 to 65078\n",
      "Data columns (total 7 columns):\n",
      " #   Column    Non-Null Count  Dtype \n",
      "---  ------    --------------  ----- \n",
      " 0     userID  65079 non-null  object\n",
      " 1   Track     63848 non-null  object\n",
      " 2   artist    57876 non-null  object\n",
      " 3   genre     63881 non-null  object\n",
      " 4     City    65079 non-null  object\n",
      " 5   time      65079 non-null  object\n",
      " 6   Day       65079 non-null  object\n",
      "dtypes: object(7)\n",
      "memory usage: 3.5+ MB\n"
     ]
    }
   ],
   "source": [
    "df.info()"
   ]
  },
  {
   "cell_type": "markdown",
   "metadata": {
    "id": "TaQ2Iwbr_Zct"
   },
   "source": [
    "Итак, в таблице семь столбцов. Тип данных во всех столбцах — `object`.\n",
    "\n",
    "Согласно документации к данным:\n",
    "* `userID` — идентификатор пользователя;\n",
    "* `Track` — название трека;  \n",
    "* `artist` — имя исполнителя;\n",
    "* `genre` — название жанра;\n",
    "* `City` — город пользователя;\n",
    "* `time` — время начала прослушивания;\n",
    "* `Day` — день недели.\n",
    "\n",
    "В названиях колонок видны три нарушения стиля:\n",
    "1. Строчные буквы сочетаются с прописными.\n",
    "2. Встречаются пробелы.\n",
    "3. userID - необходимо веревести в \"змеиный\" регистр из \"верблюжьего\"\n",
    "\n",
    "\n",
    "\n",
    "Количество значений в столбцах различается. Значит, в данных есть пропущенные значения.\n"
   ]
  },
  {
   "cell_type": "markdown",
   "metadata": {
    "id": "MCB6-dXG_Zct"
   },
   "source": [
    "**Выводы**\n",
    "\n",
    "В каждой строке таблицы — данные о прослушанном треке. Часть колонок описывает саму композицию: название, исполнителя и жанр. Остальные данные рассказывают о пользователе: из какого он города, когда он слушал музыку. \n",
    "\n",
    "Предварительно можно утверждать, что, данных достаточно для проверки гипотез. Но встречаются пропуски в данных, а в названиях колонок — расхождения с хорошим стилем.\n",
    "\n",
    "Чтобы двигаться дальше, нужно устранить проблемы в данных."
   ]
  },
  {
   "cell_type": "markdown",
   "metadata": {
    "id": "SjYF6Ub9_Zct"
   },
   "source": [
    "## Предобработка данных\n",
    "Исправьте стиль в заголовках столбцов, исключите пропуски. Затем проверьте данные на дубликаты."
   ]
  },
  {
   "cell_type": "markdown",
   "metadata": {
    "id": "dIaKXr29_Zct"
   },
   "source": [
    "### Стиль заголовков\n",
    "Выведите на экран названия столбцов:"
   ]
  },
  {
   "cell_type": "code",
   "execution_count": 13,
   "metadata": {
    "id": "oKOTdF_Q_Zct"
   },
   "outputs": [
    {
     "name": "stdout",
     "output_type": "stream",
     "text": [
      "Index(['  userID', 'Track', 'artist', 'genre', '  City  ', 'time', 'Day'], dtype='object')\n"
     ]
    }
   ],
   "source": [
    "print(df.columns)"
   ]
  },
  {
   "cell_type": "markdown",
   "metadata": {
    "id": "zj5534cv_Zct"
   },
   "source": [
    "Приведите названия в соответствие с хорошим стилем:\n",
    "* несколько слов в названии запишите в «змеином_регистре»,\n",
    "* все символы сделайте строчными,\n",
    "* устраните пробелы.\n",
    "\n",
    "Для этого переименуйте колонки так:\n",
    "* `'  userID'` → `'user_id'`;\n",
    "* `'Track'` → `'track'`;\n",
    "* `'  City  '` → `'city'`;\n",
    "* `'Day'` → `'day'`."
   ]
  },
  {
   "cell_type": "code",
   "execution_count": 14,
   "metadata": {
    "id": "ISlFqs5y_Zct"
   },
   "outputs": [],
   "source": [
    "df = df.rename(columns={'  userID': 'user_id', 'Track': 'track', '  City  ': 'city', 'Day': 'day'})"
   ]
  },
  {
   "cell_type": "markdown",
   "metadata": {
    "id": "1dqbh00J_Zct"
   },
   "source": [
    "Проверьте результат. Для этого ещё раз выведите на экран названия столбцов:"
   ]
  },
  {
   "cell_type": "code",
   "execution_count": 15,
   "metadata": {
    "id": "d4NOAmTW_Zct"
   },
   "outputs": [
    {
     "name": "stdout",
     "output_type": "stream",
     "text": [
      "Index(['user_id', 'track', 'artist', 'genre', 'city', 'time', 'day'], dtype='object')\n"
     ]
    }
   ],
   "source": [
    "print(df.columns)"
   ]
  },
  {
   "cell_type": "code",
   "execution_count": 16,
   "metadata": {},
   "outputs": [
    {
     "data": {
      "text/plain": [
       "Index(['user_id', 'track', 'artist', 'genre', 'city', 'time', 'day'], dtype='object')"
      ]
     },
     "execution_count": 16,
     "metadata": {},
     "output_type": "execute_result"
    }
   ],
   "source": [
    "df.columns"
   ]
  },
  {
   "cell_type": "markdown",
   "metadata": {
    "id": "5ISfbcfY_Zct"
   },
   "source": [
    "### Пропуски значений\n",
    "Сначала посчитайте, сколько в таблице пропущенных значений. Для этого достаточно двух методов `pandas`:"
   ]
  },
  {
   "cell_type": "code",
   "execution_count": 17,
   "metadata": {
    "id": "RskX29qr_Zct"
   },
   "outputs": [
    {
     "name": "stdout",
     "output_type": "stream",
     "text": [
      "user_id       0\n",
      "track      1231\n",
      "artist     7203\n",
      "genre      1198\n",
      "city          0\n",
      "time          0\n",
      "day           0\n",
      "dtype: int64\n"
     ]
    }
   ],
   "source": [
    "print(df.isna().sum())"
   ]
  },
  {
   "cell_type": "markdown",
   "metadata": {
    "id": "qubhgnlO_Zct"
   },
   "source": [
    "Не все пропущенные значения влияют на исследование. Так в `track` и `artist` пропуски не важны для вашей работы. Достаточно заменить их явными обозначениями.\n",
    "\n",
    "Но пропуски в `genre` могут помешать сравнению музыкальных вкусов в Москве и Санкт-Петербурге. На практике было бы правильно установить причину пропусков и восстановить данные. Такой возможности нет в учебном проекте. Придётся:\n",
    "* заполнить и эти пропуски явными обозначениями,\n",
    "* оценить, насколько они повредят расчётам. "
   ]
  },
  {
   "cell_type": "markdown",
   "metadata": {
    "id": "fSv2laPA_Zct"
   },
   "source": [
    "Замените пропущенные значения в столбцах `track`, `artist` и `genre` на строку `'unknown'`. Для этого создайте список `columns_to_replace`, переберите его элементы циклом `for` и для каждого столбца выполните замену пропущенных значений:"
   ]
  },
  {
   "cell_type": "code",
   "execution_count": 18,
   "metadata": {
    "id": "KplB5qWs_Zct"
   },
   "outputs": [],
   "source": [
    "df['track'] = df['track'].fillna('unknown')\n",
    "df['artist'] = df['artist'].fillna('unknown')\n",
    "df['genre'] = df['genre'].fillna('unknown')"
   ]
  },
  {
   "cell_type": "markdown",
   "metadata": {
    "id": "Ilsm-MZo_Zct"
   },
   "source": [
    "Убедитесь, что в таблице не осталось пропусков. Для этого ещё раз посчитайте пропущенные значения."
   ]
  },
  {
   "cell_type": "code",
   "execution_count": 19,
   "metadata": {
    "id": "Tq4nYRX4_Zct"
   },
   "outputs": [
    {
     "name": "stdout",
     "output_type": "stream",
     "text": [
      "user_id    0\n",
      "track      0\n",
      "artist     0\n",
      "genre      0\n",
      "city       0\n",
      "time       0\n",
      "day        0\n",
      "dtype: int64\n"
     ]
    }
   ],
   "source": [
    "print(df.isna().sum())"
   ]
  },
  {
   "cell_type": "markdown",
   "metadata": {
    "id": "BWKRtBJ3_Zct"
   },
   "source": [
    "### Дубликаты\n",
    "Посчитайте явные дубликаты в таблице одной командой:"
   ]
  },
  {
   "cell_type": "code",
   "execution_count": 20,
   "metadata": {
    "id": "36eES_S0_Zct"
   },
   "outputs": [
    {
     "name": "stdout",
     "output_type": "stream",
     "text": [
      "3826\n"
     ]
    }
   ],
   "source": [
    "print(df.duplicated().sum())"
   ]
  },
  {
   "cell_type": "markdown",
   "metadata": {
    "id": "Ot25h6XR_Zct"
   },
   "source": [
    "Вызовите специальный метод `pandas`, чтобы удалить явные дубликаты:"
   ]
  },
  {
   "cell_type": "code",
   "execution_count": 21,
   "metadata": {
    "id": "exFHq6tt_Zct"
   },
   "outputs": [],
   "source": [
    "df = df.drop_duplicates().reset_index(drop=True)"
   ]
  },
  {
   "cell_type": "markdown",
   "metadata": {
    "id": "Im2YwBEG_Zct"
   },
   "source": [
    "Ещё раз посчитайте явные дубликаты в таблице — убедитесь, что полностью от них избавились:"
   ]
  },
  {
   "cell_type": "code",
   "execution_count": 22,
   "metadata": {
    "id": "-8PuNWQ0_Zct"
   },
   "outputs": [
    {
     "name": "stdout",
     "output_type": "stream",
     "text": [
      "0\n"
     ]
    }
   ],
   "source": [
    "print(df.duplicated().sum())"
   ]
  },
  {
   "cell_type": "markdown",
   "metadata": {
    "id": "QlFBsxAr_Zct"
   },
   "source": [
    "Теперь избавьтесь от неявных дубликатов в колонке `genre`. Например, название одного и того же жанра может быть записано немного по-разному. Такие ошибки тоже повлияют на результат исследования."
   ]
  },
  {
   "cell_type": "markdown",
   "metadata": {
    "id": "eSjWwsOh_Zct"
   },
   "source": [
    "Выведите на экран список уникальных названий жанров, отсортированный в алфавитном порядке. Для этого:\n",
    "* извлеките нужный столбец датафрейма, \n",
    "* примените к нему метод сортировки,\n",
    "* для отсортированного столбца вызовите метод, который вернёт уникальные значения из столбца."
   ]
  },
  {
   "cell_type": "code",
   "execution_count": 23,
   "metadata": {
    "id": "JIUcqzZN_Zct"
   },
   "outputs": [
    {
     "name": "stdout",
     "output_type": "stream",
     "text": [
      "['acid', 'acoustic', 'action', 'adult', 'africa', 'afrikaans', 'alternative', 'alternativepunk', 'ambient', 'americana', 'animated', 'anime', 'arabesk', 'arabic', 'arena', 'argentinetango', 'art', 'audiobook', 'author', 'avantgarde', 'axé', 'baile', 'balkan', 'beats', 'bigroom', 'black', 'bluegrass', 'blues', 'bollywood', 'bossa', 'brazilian', 'breakbeat', 'breaks', 'broadway', 'cantautori', 'cantopop', 'canzone', 'caribbean', 'caucasian', 'celtic', 'chamber', 'chanson', 'children', 'chill', 'chinese', 'choral', 'christian', 'christmas', 'classical', 'classicmetal', 'club', 'colombian', 'comedy', 'conjazz', 'contemporary', 'country', 'cuban', 'dance', 'dancehall', 'dancepop', 'dark', 'death', 'deep', 'deutschrock', 'deutschspr', 'dirty', 'disco', 'dnb', 'documentary', 'downbeat', 'downtempo', 'drum', 'dub', 'dubstep', 'eastern', 'easy', 'electronic', 'electropop', 'emo', 'entehno', 'epicmetal', 'estrada', 'ethnic', 'eurofolk', 'european', 'experimental', 'extrememetal', 'fado', 'fairytail', 'film', 'fitness', 'flamenco', 'folk', 'folklore', 'folkmetal', 'folkrock', 'folktronica', 'forró', 'frankreich', 'französisch', 'french', 'funk', 'future', 'gangsta', 'garage', 'german', 'ghazal', 'gitarre', 'glitch', 'gospel', 'gothic', 'grime', 'grunge', 'gypsy', 'handsup', \"hard'n'heavy\", 'hardcore', 'hardstyle', 'hardtechno', 'hip', 'hip-hop', 'hiphop', 'historisch', 'holiday', 'hop', 'horror', 'house', 'hymn', 'idm', 'independent', 'indian', 'indie', 'indipop', 'industrial', 'inspirational', 'instrumental', 'international', 'irish', 'jam', 'japanese', 'jazz', 'jewish', 'jpop', 'jungle', 'k-pop', 'karadeniz', 'karaoke', 'kayokyoku', 'korean', 'laiko', 'latin', 'latino', 'leftfield', 'local', 'lounge', 'loungeelectronic', 'lovers', 'malaysian', 'mandopop', 'marschmusik', 'meditative', 'mediterranean', 'melodic', 'metal', 'metalcore', 'mexican', 'middle', 'minimal', 'miscellaneous', 'modern', 'mood', 'mpb', 'muslim', 'native', 'neoklassik', 'neue', 'new', 'newage', 'newwave', 'nu', 'nujazz', 'numetal', 'oceania', 'old', 'opera', 'orchestral', 'other', 'piano', 'podcasts', 'pop', 'popdance', 'popelectronic', 'popeurodance', 'poprussian', 'post', 'posthardcore', 'postrock', 'power', 'progmetal', 'progressive', 'psychedelic', 'punjabi', 'punk', 'quebecois', 'ragga', 'ram', 'rancheras', 'rap', 'rave', 'reggae', 'reggaeton', 'regional', 'relax', 'religious', 'retro', 'rhythm', 'rnb', 'rnr', 'rock', 'rockabilly', 'rockalternative', 'rockindie', 'rockother', 'romance', 'roots', 'ruspop', 'rusrap', 'rusrock', 'russian', 'salsa', 'samba', 'scenic', 'schlager', 'self', 'sertanejo', 'shanson', 'shoegazing', 'showtunes', 'singer', 'ska', 'skarock', 'slow', 'smooth', 'soft', 'soul', 'soulful', 'sound', 'soundtrack', 'southern', 'specialty', 'speech', 'spiritual', 'sport', 'stonerrock', 'surf', 'swing', 'synthpop', 'synthrock', 'sängerportrait', 'tango', 'tanzorchester', 'taraftar', 'tatar', 'tech', 'techno', 'teen', 'thrash', 'top', 'traditional', 'tradjazz', 'trance', 'tribal', 'trip', 'triphop', 'tropical', 'türk', 'türkçe', 'ukrrock', 'unknown', 'urban', 'uzbek', 'variété', 'vi', 'videogame', 'vocal', 'western', 'world', 'worldbeat', 'ïîï', 'электроника']\n"
     ]
    }
   ],
   "source": [
    "print(sorted(df['genre'].unique()))"
   ]
  },
  {
   "cell_type": "markdown",
   "metadata": {
    "id": "qej-Qmuo_Zct"
   },
   "source": [
    "Просмотрите список и найдите неявные дубликаты названия `hiphop`. Это могут быть названия с ошибками или альтернативные названия того же жанра.\n",
    "\n",
    "Вы увидите следующие неявные дубликаты:\n",
    "* *hip*,\n",
    "* *hop*,\n",
    "* *hip-hop*.\n",
    "\n",
    "Чтобы очистить от них таблицу, напишите функцию `replace_wrong_genres()` с двумя параметрами: \n",
    "* `wrong_genres` — список дубликатов,\n",
    "* `correct_genre` — строка с правильным значением.\n",
    "\n",
    "Функция должна исправить колонку `genre` в таблице `df`: заменить каждое значение из списка `wrong_genres` на значение из `correct_genre`."
   ]
  },
  {
   "cell_type": "code",
   "execution_count": 24,
   "metadata": {
    "id": "ErNDkmns_Zct"
   },
   "outputs": [],
   "source": [
    "def replace_wrong_genres(wrong_genres, correct_genre):\n",
    "        for wrong_genres in wrong_genres:\n",
    "            df['genre'] = df['genre'].replace(wrong_genres, correct_genre)"
   ]
  },
  {
   "cell_type": "markdown",
   "metadata": {
    "id": "aDoBJxbA_Zct"
   },
   "source": [
    "Вызовите `replace_wrong_genres()` и передайте ей такие аргументы, чтобы она устранила неявные дубликаты: вместо `hip`, `hop` и `hip-hop` в таблице должно быть значение `hiphop`:"
   ]
  },
  {
   "cell_type": "code",
   "execution_count": 25,
   "metadata": {
    "id": "YN5i2hpmSo09"
   },
   "outputs": [],
   "source": [
    "duplicates = ['hip', 'hop', 'hip-hop']\n",
    "name = 'hiphop'\n",
    "replace_wrong_genres(duplicates, name) "
   ]
  },
  {
   "cell_type": "markdown",
   "metadata": {
    "id": "zQKF16_RG15m"
   },
   "source": [
    "Проверьте, что заменили неправильные названия:\n",
    "\n",
    "*   hip\n",
    "*   hop\n",
    "*   hip-hop\n",
    "\n",
    "Выведите отсортированный список уникальных значений столбца `genre`:"
   ]
  },
  {
   "cell_type": "code",
   "execution_count": 26,
   "metadata": {
    "id": "wvixALnFG15m"
   },
   "outputs": [
    {
     "name": "stdout",
     "output_type": "stream",
     "text": [
      "['acid', 'acoustic', 'action', 'adult', 'africa', 'afrikaans', 'alternative', 'alternativepunk', 'ambient', 'americana', 'animated', 'anime', 'arabesk', 'arabic', 'arena', 'argentinetango', 'art', 'audiobook', 'author', 'avantgarde', 'axé', 'baile', 'balkan', 'beats', 'bigroom', 'black', 'bluegrass', 'blues', 'bollywood', 'bossa', 'brazilian', 'breakbeat', 'breaks', 'broadway', 'cantautori', 'cantopop', 'canzone', 'caribbean', 'caucasian', 'celtic', 'chamber', 'chanson', 'children', 'chill', 'chinese', 'choral', 'christian', 'christmas', 'classical', 'classicmetal', 'club', 'colombian', 'comedy', 'conjazz', 'contemporary', 'country', 'cuban', 'dance', 'dancehall', 'dancepop', 'dark', 'death', 'deep', 'deutschrock', 'deutschspr', 'dirty', 'disco', 'dnb', 'documentary', 'downbeat', 'downtempo', 'drum', 'dub', 'dubstep', 'eastern', 'easy', 'electronic', 'electropop', 'emo', 'entehno', 'epicmetal', 'estrada', 'ethnic', 'eurofolk', 'european', 'experimental', 'extrememetal', 'fado', 'fairytail', 'film', 'fitness', 'flamenco', 'folk', 'folklore', 'folkmetal', 'folkrock', 'folktronica', 'forró', 'frankreich', 'französisch', 'french', 'funk', 'future', 'gangsta', 'garage', 'german', 'ghazal', 'gitarre', 'glitch', 'gospel', 'gothic', 'grime', 'grunge', 'gypsy', 'handsup', \"hard'n'heavy\", 'hardcore', 'hardstyle', 'hardtechno', 'hiphop', 'historisch', 'holiday', 'horror', 'house', 'hymn', 'idm', 'independent', 'indian', 'indie', 'indipop', 'industrial', 'inspirational', 'instrumental', 'international', 'irish', 'jam', 'japanese', 'jazz', 'jewish', 'jpop', 'jungle', 'k-pop', 'karadeniz', 'karaoke', 'kayokyoku', 'korean', 'laiko', 'latin', 'latino', 'leftfield', 'local', 'lounge', 'loungeelectronic', 'lovers', 'malaysian', 'mandopop', 'marschmusik', 'meditative', 'mediterranean', 'melodic', 'metal', 'metalcore', 'mexican', 'middle', 'minimal', 'miscellaneous', 'modern', 'mood', 'mpb', 'muslim', 'native', 'neoklassik', 'neue', 'new', 'newage', 'newwave', 'nu', 'nujazz', 'numetal', 'oceania', 'old', 'opera', 'orchestral', 'other', 'piano', 'podcasts', 'pop', 'popdance', 'popelectronic', 'popeurodance', 'poprussian', 'post', 'posthardcore', 'postrock', 'power', 'progmetal', 'progressive', 'psychedelic', 'punjabi', 'punk', 'quebecois', 'ragga', 'ram', 'rancheras', 'rap', 'rave', 'reggae', 'reggaeton', 'regional', 'relax', 'religious', 'retro', 'rhythm', 'rnb', 'rnr', 'rock', 'rockabilly', 'rockalternative', 'rockindie', 'rockother', 'romance', 'roots', 'ruspop', 'rusrap', 'rusrock', 'russian', 'salsa', 'samba', 'scenic', 'schlager', 'self', 'sertanejo', 'shanson', 'shoegazing', 'showtunes', 'singer', 'ska', 'skarock', 'slow', 'smooth', 'soft', 'soul', 'soulful', 'sound', 'soundtrack', 'southern', 'specialty', 'speech', 'spiritual', 'sport', 'stonerrock', 'surf', 'swing', 'synthpop', 'synthrock', 'sängerportrait', 'tango', 'tanzorchester', 'taraftar', 'tatar', 'tech', 'techno', 'teen', 'thrash', 'top', 'traditional', 'tradjazz', 'trance', 'tribal', 'trip', 'triphop', 'tropical', 'türk', 'türkçe', 'ukrrock', 'unknown', 'urban', 'uzbek', 'variété', 'vi', 'videogame', 'vocal', 'western', 'world', 'worldbeat', 'ïîï', 'электроника']\n"
     ]
    }
   ],
   "source": [
    "print(sorted(df['genre'].unique()))"
   ]
  },
  {
   "cell_type": "markdown",
   "metadata": {
    "id": "jz6a9-7HQUDd"
   },
   "source": [
    "**Выводы**\n",
    "\n",
    "Предобработка обнаружила три проблемы в данных:\n",
    "\n",
    "- нарушения в стиле заголовков,\n",
    "- пропущенные значения,\n",
    "- дубликаты — явные и неявные.\n",
    "\n",
    "Вы исправили заголовки, чтобы упростить работу с таблицей. Без дубликатов исследование станет более точным.\n",
    "\n",
    "Пропущенные значения вы заменили на `'unknown'`. Ещё предстоит увидеть, не повредят ли исследованию пропуски в колонке `genre`.\n",
    "\n",
    "Теперь можно перейти к проверке гипотез. "
   ]
  },
  {
   "cell_type": "markdown",
   "metadata": {
    "id": "WttZHXH0SqKk"
   },
   "source": [
    "## Проверка гипотез"
   ]
  },
  {
   "cell_type": "markdown",
   "metadata": {
    "id": "Im936VVi_Zcu"
   },
   "source": [
    "### Сравнение поведения пользователей двух столиц"
   ]
  },
  {
   "cell_type": "markdown",
   "metadata": {
    "id": "nwt_MuaL_Zcu"
   },
   "source": [
    "Первая гипотеза утверждает, что пользователи по-разному слушают музыку в Москве и Санкт-Петербурге. Проверьте это предположение по данным о трёх днях недели — понедельнике, среде и пятнице. Для этого:\n",
    "\n",
    "* Разделите пользователей Москвы и Санкт-Петербурга\n",
    "* Сравните, сколько треков послушала каждая группа пользователей в понедельник, среду и пятницу.\n"
   ]
  },
  {
   "cell_type": "markdown",
   "metadata": {
    "id": "8Dw_YMmT_Zcu"
   },
   "source": [
    "Для тренировки сначала выполните каждый из расчётов по отдельности. \n",
    "\n",
    "Оцените активность пользователей в каждом городе. Сгруппируйте данные по городу и посчитайте прослушивания в каждой группе.\n",
    "\n"
   ]
  },
  {
   "cell_type": "code",
   "execution_count": 27,
   "metadata": {
    "id": "0_Qs96oh_Zcu"
   },
   "outputs": [
    {
     "name": "stdout",
     "output_type": "stream",
     "text": [
      "city\n",
      "Moscow              42741\n",
      "Saint-Petersburg    18512\n",
      "Name: track, dtype: int64\n"
     ]
    }
   ],
   "source": [
    "number = df.groupby('city')['track'].count()\n",
    "print(number)"
   ]
  },
  {
   "cell_type": "markdown",
   "metadata": {
    "id": "dzli3w8o_Zcu"
   },
   "source": [
    "В Москве прослушиваний больше, чем в Петербурге. Из этого не следует, что московские пользователи чаще слушают музыку. Просто самих пользователей в Москве больше.\n",
    "\n",
    "Теперь сгруппируйте данные по дню недели и подсчитайте прослушивания в понедельник, среду и пятницу. Учтите, что в данных есть информация только о прослушиваниях только за эти дни.\n"
   ]
  },
  {
   "cell_type": "code",
   "execution_count": 28,
   "metadata": {
    "id": "uZMKjiJz_Zcu"
   },
   "outputs": [
    {
     "name": "stdout",
     "output_type": "stream",
     "text": [
      "day\n",
      "Friday       21840\n",
      "Monday       21354\n",
      "Wednesday    18059\n",
      "Name: track, dtype: int64\n"
     ]
    }
   ],
   "source": [
    "number = df.groupby('day')['track'].count()\n",
    "print(number)"
   ]
  },
  {
   "cell_type": "markdown",
   "metadata": {
    "id": "cC2tNrlL_Zcu"
   },
   "source": [
    "В среднем пользователи из двух городов менее активны по средам. Но картина может измениться, если рассмотреть каждый город в отдельности."
   ]
  },
  {
   "cell_type": "markdown",
   "metadata": {
    "id": "POzs8bGa_Zcu"
   },
   "source": [
    "Вы видели, как работает группировка по городу и по дням недели. Теперь напишите функцию, которая объединит два эти расчёта.\n",
    "\n",
    "Создайте функцию `number_tracks()`, которая посчитает прослушивания для заданного дня и города. Ей понадобятся два параметра:\n",
    "* день недели,\n",
    "* название города.\n",
    "\n",
    "В функции сохраните в переменную строки исходной таблицы, у которых значение:\n",
    "  * в колонке `day` равно параметру `day`,\n",
    "  * в колонке `city` равно параметру `city`.\n",
    "\n",
    "Для этого примените последовательную фильтрацию с логической индексацией.\n",
    "\n",
    "Затем посчитайте значения в столбце `user_id` получившейся таблицы. Результат сохраните в новую переменную. Верните эту переменную из функции."
   ]
  },
  {
   "cell_type": "code",
   "execution_count": 29,
   "metadata": {
    "id": "Nz3GdQB1_Zcu"
   },
   "outputs": [],
   "source": [
    "def number_tracks(day, city):\n",
    "    track_list = df[df['day']==day]\n",
    "    track_list = track_list[track_list['city']==city]\n",
    "    track_list_count = track_list['user_id'].count()\n",
    "    return  track_list_count"
   ]
  },
  {
   "cell_type": "markdown",
   "metadata": {
    "id": "ytf7xFrFJQ2r"
   },
   "source": [
    "Вызовите `number_tracks()` шесть раз, меняя значение параметров — так, чтобы получить данные для каждого города в каждый из трёх дней."
   ]
  },
  {
   "cell_type": "code",
   "execution_count": 30,
   "metadata": {
    "id": "rJcRATNQ_Zcu"
   },
   "outputs": [
    {
     "data": {
      "text/plain": [
       "15740"
      ]
     },
     "execution_count": 30,
     "metadata": {},
     "output_type": "execute_result"
    }
   ],
   "source": [
    "number_tracks('Monday', 'Moscow')"
   ]
  },
  {
   "cell_type": "code",
   "execution_count": 31,
   "metadata": {
    "id": "hq_ncZ5T_Zcu"
   },
   "outputs": [
    {
     "data": {
      "text/plain": [
       "5614"
      ]
     },
     "execution_count": 31,
     "metadata": {},
     "output_type": "execute_result"
    }
   ],
   "source": [
    "number_tracks('Monday', 'Saint-Petersburg')"
   ]
  },
  {
   "cell_type": "code",
   "execution_count": 32,
   "metadata": {
    "id": "_NTy2VPU_Zcu"
   },
   "outputs": [
    {
     "data": {
      "text/plain": [
       "11056"
      ]
     },
     "execution_count": 32,
     "metadata": {},
     "output_type": "execute_result"
    }
   ],
   "source": [
    "number_tracks('Wednesday', 'Moscow')"
   ]
  },
  {
   "cell_type": "code",
   "execution_count": 33,
   "metadata": {
    "id": "j2y3TAwo_Zcu"
   },
   "outputs": [
    {
     "data": {
      "text/plain": [
       "7003"
      ]
     },
     "execution_count": 33,
     "metadata": {},
     "output_type": "execute_result"
    }
   ],
   "source": [
    "number_tracks('Wednesday', 'Saint-Petersburg')"
   ]
  },
  {
   "cell_type": "code",
   "execution_count": 34,
   "metadata": {
    "id": "vYDw5u_K_Zcu"
   },
   "outputs": [
    {
     "data": {
      "text/plain": [
       "15945"
      ]
     },
     "execution_count": 34,
     "metadata": {},
     "output_type": "execute_result"
    }
   ],
   "source": [
    "number_tracks('Friday', 'Moscow')"
   ]
  },
  {
   "cell_type": "code",
   "execution_count": 35,
   "metadata": {
    "id": "8_yzFtW3_Zcu"
   },
   "outputs": [
    {
     "data": {
      "text/plain": [
       "5895"
      ]
     },
     "execution_count": 35,
     "metadata": {},
     "output_type": "execute_result"
    }
   ],
   "source": [
    "number_tracks('Friday', 'Saint-Petersburg')"
   ]
  },
  {
   "cell_type": "markdown",
   "metadata": {
    "id": "7QXffbO-_Zcu"
   },
   "source": [
    "Создайте c помощью конструктора `pd.DataFrame` таблицу, где\n",
    "* названия колонок — `['city', 'monday', 'wednesday', 'friday']`;\n",
    "* данные — результаты, которые вы получили с помощью `number_tracks`."
   ]
  },
  {
   "cell_type": "code",
   "execution_count": 36,
   "metadata": {
    "id": "APAcLpOr_Zcu"
   },
   "outputs": [
    {
     "name": "stdout",
     "output_type": "stream",
     "text": [
      "               city  monday  wednesday  friday\n",
      "0            Moscow   15740      11056   15945\n",
      "1  Saint-Petersburg    5614       7003    5895\n"
     ]
    }
   ],
   "source": [
    "data = [['Moscow', 15740, 11056, 15945],\n",
    "       ['Saint-Petersburg', 5614, 7003, 5895]]\n",
    "header = ['city', 'monday', 'wednesday', 'friday']\n",
    "yandex_music = pd.DataFrame(data=data, columns=header)\n",
    "print(yandex_music)\n"
   ]
  },
  {
   "cell_type": "markdown",
   "metadata": {
    "id": "-EgPIHYu_Zcu"
   },
   "source": [
    "**Выводы**\n",
    "\n",
    "Данные показывают разницу поведения пользователей:\n",
    "\n",
    "- В Москве пик прослушиваний приходится на понедельник и пятницу, а в среду заметен спад.\n",
    "- В Петербурге, наоборот, больше слушают музыку по средам. Активность в понедельник и пятницу здесь почти в равной мере уступает среде.\n",
    "\n",
    "Значит, данные говорят в пользу первой гипотезы."
   ]
  },
  {
   "cell_type": "markdown",
   "metadata": {
    "id": "atZAxtq4_Zcu"
   },
   "source": [
    "### Музыка в начале и в конце недели"
   ]
  },
  {
   "cell_type": "markdown",
   "metadata": {
    "id": "eXrQqXFH_Zcu"
   },
   "source": [
    "Согласно второй гипотезе, утром в понедельник в Москве преобладают одни жанры, а в Петербурге — другие. Так же и вечером пятницы преобладают разные жанры — в зависимости от города."
   ]
  },
  {
   "cell_type": "markdown",
   "metadata": {
    "id": "S8UcW6Hw_Zcu"
   },
   "source": [
    "Сохраните таблицы с данными в две переменные:\n",
    "* по Москве — в `moscow_general`;\n",
    "* по Санкт-Петербургу — в `spb_general`."
   ]
  },
  {
   "cell_type": "code",
   "execution_count": 37,
   "metadata": {
    "id": "qeaFfM_P_Zcu"
   },
   "outputs": [
    {
     "data": {
      "text/html": [
       "<div>\n",
       "<style scoped>\n",
       "    .dataframe tbody tr th:only-of-type {\n",
       "        vertical-align: middle;\n",
       "    }\n",
       "\n",
       "    .dataframe tbody tr th {\n",
       "        vertical-align: top;\n",
       "    }\n",
       "\n",
       "    .dataframe thead th {\n",
       "        text-align: right;\n",
       "    }\n",
       "</style>\n",
       "<table border=\"1\" class=\"dataframe\">\n",
       "  <thead>\n",
       "    <tr style=\"text-align: right;\">\n",
       "      <th></th>\n",
       "      <th>user_id</th>\n",
       "      <th>track</th>\n",
       "      <th>artist</th>\n",
       "      <th>genre</th>\n",
       "      <th>city</th>\n",
       "      <th>time</th>\n",
       "      <th>day</th>\n",
       "    </tr>\n",
       "  </thead>\n",
       "  <tbody>\n",
       "    <tr>\n",
       "      <th>1</th>\n",
       "      <td>55204538</td>\n",
       "      <td>Delayed Because of Accident</td>\n",
       "      <td>Andreas Rönnberg</td>\n",
       "      <td>rock</td>\n",
       "      <td>Moscow</td>\n",
       "      <td>14:07:09</td>\n",
       "      <td>Friday</td>\n",
       "    </tr>\n",
       "    <tr>\n",
       "      <th>4</th>\n",
       "      <td>E2DC1FAE</td>\n",
       "      <td>Soul People</td>\n",
       "      <td>Space Echo</td>\n",
       "      <td>dance</td>\n",
       "      <td>Moscow</td>\n",
       "      <td>08:34:34</td>\n",
       "      <td>Monday</td>\n",
       "    </tr>\n",
       "    <tr>\n",
       "      <th>6</th>\n",
       "      <td>4CB90AA5</td>\n",
       "      <td>True</td>\n",
       "      <td>Roman Messer</td>\n",
       "      <td>dance</td>\n",
       "      <td>Moscow</td>\n",
       "      <td>13:00:07</td>\n",
       "      <td>Wednesday</td>\n",
       "    </tr>\n",
       "    <tr>\n",
       "      <th>7</th>\n",
       "      <td>F03E1C1F</td>\n",
       "      <td>Feeling This Way</td>\n",
       "      <td>Polina Griffith</td>\n",
       "      <td>dance</td>\n",
       "      <td>Moscow</td>\n",
       "      <td>20:47:49</td>\n",
       "      <td>Wednesday</td>\n",
       "    </tr>\n",
       "    <tr>\n",
       "      <th>8</th>\n",
       "      <td>8FA1D3BE</td>\n",
       "      <td>И вновь продолжается бой</td>\n",
       "      <td>unknown</td>\n",
       "      <td>ruspop</td>\n",
       "      <td>Moscow</td>\n",
       "      <td>09:17:40</td>\n",
       "      <td>Friday</td>\n",
       "    </tr>\n",
       "  </tbody>\n",
       "</table>\n",
       "</div>"
      ],
      "text/plain": [
       "    user_id                        track            artist   genre    city  \\\n",
       "1  55204538  Delayed Because of Accident  Andreas Rönnberg    rock  Moscow   \n",
       "4  E2DC1FAE                  Soul People        Space Echo   dance  Moscow   \n",
       "6  4CB90AA5                         True      Roman Messer   dance  Moscow   \n",
       "7  F03E1C1F             Feeling This Way   Polina Griffith   dance  Moscow   \n",
       "8  8FA1D3BE     И вновь продолжается бой           unknown  ruspop  Moscow   \n",
       "\n",
       "       time        day  \n",
       "1  14:07:09     Friday  \n",
       "4  08:34:34     Monday  \n",
       "6  13:00:07  Wednesday  \n",
       "7  20:47:49  Wednesday  \n",
       "8  09:17:40     Friday  "
      ]
     },
     "metadata": {},
     "output_type": "display_data"
    }
   ],
   "source": [
    "moscow_general = df[df['city'] == 'Moscow']\n",
    "display(moscow_general.head())"
   ]
  },
  {
   "cell_type": "code",
   "execution_count": 38,
   "metadata": {
    "id": "ORaVRKto_Zcu"
   },
   "outputs": [
    {
     "data": {
      "text/html": [
       "<div>\n",
       "<style scoped>\n",
       "    .dataframe tbody tr th:only-of-type {\n",
       "        vertical-align: middle;\n",
       "    }\n",
       "\n",
       "    .dataframe tbody tr th {\n",
       "        vertical-align: top;\n",
       "    }\n",
       "\n",
       "    .dataframe thead th {\n",
       "        text-align: right;\n",
       "    }\n",
       "</style>\n",
       "<table border=\"1\" class=\"dataframe\">\n",
       "  <thead>\n",
       "    <tr style=\"text-align: right;\">\n",
       "      <th></th>\n",
       "      <th>user_id</th>\n",
       "      <th>track</th>\n",
       "      <th>artist</th>\n",
       "      <th>genre</th>\n",
       "      <th>city</th>\n",
       "      <th>time</th>\n",
       "      <th>day</th>\n",
       "    </tr>\n",
       "  </thead>\n",
       "  <tbody>\n",
       "    <tr>\n",
       "      <th>1</th>\n",
       "      <td>55204538</td>\n",
       "      <td>Delayed Because of Accident</td>\n",
       "      <td>Andreas Rönnberg</td>\n",
       "      <td>rock</td>\n",
       "      <td>Moscow</td>\n",
       "      <td>14:07:09</td>\n",
       "      <td>Friday</td>\n",
       "    </tr>\n",
       "    <tr>\n",
       "      <th>4</th>\n",
       "      <td>E2DC1FAE</td>\n",
       "      <td>Soul People</td>\n",
       "      <td>Space Echo</td>\n",
       "      <td>dance</td>\n",
       "      <td>Moscow</td>\n",
       "      <td>08:34:34</td>\n",
       "      <td>Monday</td>\n",
       "    </tr>\n",
       "    <tr>\n",
       "      <th>6</th>\n",
       "      <td>4CB90AA5</td>\n",
       "      <td>True</td>\n",
       "      <td>Roman Messer</td>\n",
       "      <td>dance</td>\n",
       "      <td>Moscow</td>\n",
       "      <td>13:00:07</td>\n",
       "      <td>Wednesday</td>\n",
       "    </tr>\n",
       "    <tr>\n",
       "      <th>7</th>\n",
       "      <td>F03E1C1F</td>\n",
       "      <td>Feeling This Way</td>\n",
       "      <td>Polina Griffith</td>\n",
       "      <td>dance</td>\n",
       "      <td>Moscow</td>\n",
       "      <td>20:47:49</td>\n",
       "      <td>Wednesday</td>\n",
       "    </tr>\n",
       "    <tr>\n",
       "      <th>8</th>\n",
       "      <td>8FA1D3BE</td>\n",
       "      <td>И вновь продолжается бой</td>\n",
       "      <td>unknown</td>\n",
       "      <td>ruspop</td>\n",
       "      <td>Moscow</td>\n",
       "      <td>09:17:40</td>\n",
       "      <td>Friday</td>\n",
       "    </tr>\n",
       "  </tbody>\n",
       "</table>\n",
       "</div>"
      ],
      "text/plain": [
       "    user_id                        track            artist   genre    city  \\\n",
       "1  55204538  Delayed Because of Accident  Andreas Rönnberg    rock  Moscow   \n",
       "4  E2DC1FAE                  Soul People        Space Echo   dance  Moscow   \n",
       "6  4CB90AA5                         True      Roman Messer   dance  Moscow   \n",
       "7  F03E1C1F             Feeling This Way   Polina Griffith   dance  Moscow   \n",
       "8  8FA1D3BE     И вновь продолжается бой           unknown  ruspop  Moscow   \n",
       "\n",
       "       time        day  \n",
       "1  14:07:09     Friday  \n",
       "4  08:34:34     Monday  \n",
       "6  13:00:07  Wednesday  \n",
       "7  20:47:49  Wednesday  \n",
       "8  09:17:40     Friday  "
      ]
     },
     "metadata": {},
     "output_type": "display_data"
    }
   ],
   "source": [
    "spb_general = df[df['city'] == 'Saint-Petersburg']\n",
    "display(moscow_general.head())"
   ]
  },
  {
   "cell_type": "markdown",
   "metadata": {
    "id": "MEJV-CX2_Zcu"
   },
   "source": [
    "Создайте функцию `genre_weekday()` с четырьмя параметрами:\n",
    "* таблица (датафрейм) с данными,\n",
    "* день недели,\n",
    "* начальная временная метка в формате 'hh:mm', \n",
    "* последняя временная метка в формате 'hh:mm'.\n",
    "\n",
    "Функция должна вернуть информацию о топ-10 жанров тех треков, которые прослушивали в указанный день, в промежутке между двумя отметками времени."
   ]
  },
  {
   "cell_type": "code",
   "execution_count": 39,
   "metadata": {
    "id": "laJT9BYl_Zcu"
   },
   "outputs": [],
   "source": [
    "def genre_weekday(table, day, time1, time2):\n",
    "    genre_df = table[(table['day']==day) & (df['time']>time1) & (df['time']<time2)]\n",
    "    genre_df_count = genre_df.groupby('genre')['genre'].count()\n",
    "    genre_df_sorted = genre_df_count.sort_values(ascending=False)\n",
    "    return genre_df_sorted.head(10)"
   ]
  },
  {
   "cell_type": "markdown",
   "metadata": {
    "id": "la2s2_PF_Zcu"
   },
   "source": [
    "Cравните результаты функции `genre_weekday()` для Москвы и Санкт-Петербурга в понедельник утром (с 7:00 до 11:00) и в пятницу вечером (с 17:00 до 23:00):"
   ]
  },
  {
   "cell_type": "code",
   "execution_count": 40,
   "metadata": {
    "id": "yz7itPUQ_Zcu"
   },
   "outputs": [
    {
     "name": "stderr",
     "output_type": "stream",
     "text": [
      "/tmp/ipykernel_48/3840172827.py:2: UserWarning: Boolean Series key will be reindexed to match DataFrame index.\n",
      "  genre_df = table[(table['day']==day) & (df['time']>time1) & (df['time']<time2)]\n"
     ]
    },
    {
     "data": {
      "text/plain": [
       "genre\n",
       "pop            781\n",
       "dance          549\n",
       "electronic     480\n",
       "rock           474\n",
       "hiphop         286\n",
       "ruspop         186\n",
       "world          181\n",
       "rusrap         175\n",
       "alternative    164\n",
       "unknown        161\n",
       "Name: genre, dtype: int64"
      ]
     },
     "execution_count": 40,
     "metadata": {},
     "output_type": "execute_result"
    }
   ],
   "source": [
    "genre_weekday(moscow_general, 'Monday', '07:00', '11:00')"
   ]
  },
  {
   "cell_type": "code",
   "execution_count": 41,
   "metadata": {
    "id": "kwUcHPdy_Zcu"
   },
   "outputs": [
    {
     "name": "stderr",
     "output_type": "stream",
     "text": [
      "/tmp/ipykernel_48/3840172827.py:2: UserWarning: Boolean Series key will be reindexed to match DataFrame index.\n",
      "  genre_df = table[(table['day']==day) & (df['time']>time1) & (df['time']<time2)]\n"
     ]
    },
    {
     "data": {
      "text/plain": [
       "genre\n",
       "pop            218\n",
       "dance          182\n",
       "rock           162\n",
       "electronic     147\n",
       "hiphop          80\n",
       "ruspop          64\n",
       "alternative     58\n",
       "rusrap          55\n",
       "jazz            44\n",
       "classical       40\n",
       "Name: genre, dtype: int64"
      ]
     },
     "execution_count": 41,
     "metadata": {},
     "output_type": "execute_result"
    }
   ],
   "source": [
    "genre_weekday(spb_general, 'Monday', '07:00', '11:00')"
   ]
  },
  {
   "cell_type": "code",
   "execution_count": 42,
   "metadata": {
    "id": "EzXVRE1o_Zcu"
   },
   "outputs": [
    {
     "name": "stderr",
     "output_type": "stream",
     "text": [
      "/tmp/ipykernel_48/3840172827.py:2: UserWarning: Boolean Series key will be reindexed to match DataFrame index.\n",
      "  genre_df = table[(table['day']==day) & (df['time']>time1) & (df['time']<time2)]\n"
     ]
    },
    {
     "data": {
      "text/plain": [
       "genre\n",
       "pop            713\n",
       "rock           517\n",
       "dance          495\n",
       "electronic     482\n",
       "hiphop         273\n",
       "world          208\n",
       "ruspop         170\n",
       "alternative    163\n",
       "classical      163\n",
       "rusrap         142\n",
       "Name: genre, dtype: int64"
      ]
     },
     "execution_count": 42,
     "metadata": {},
     "output_type": "execute_result"
    }
   ],
   "source": [
    "genre_weekday(moscow_general, 'Friday', '17:00', '23:00')"
   ]
  },
  {
   "cell_type": "code",
   "execution_count": 43,
   "metadata": {
    "id": "JZaEKu5v_Zcu"
   },
   "outputs": [
    {
     "name": "stderr",
     "output_type": "stream",
     "text": [
      "/tmp/ipykernel_48/3840172827.py:2: UserWarning: Boolean Series key will be reindexed to match DataFrame index.\n",
      "  genre_df = table[(table['day']==day) & (df['time']>time1) & (df['time']<time2)]\n"
     ]
    },
    {
     "data": {
      "text/plain": [
       "genre\n",
       "pop            256\n",
       "electronic     216\n",
       "rock           216\n",
       "dance          210\n",
       "hiphop          97\n",
       "alternative     63\n",
       "jazz            61\n",
       "classical       60\n",
       "rusrap          59\n",
       "world           54\n",
       "Name: genre, dtype: int64"
      ]
     },
     "execution_count": 43,
     "metadata": {},
     "output_type": "execute_result"
    }
   ],
   "source": [
    "genre_weekday(spb_general, 'Friday', '17:00', '23:00')"
   ]
  },
  {
   "cell_type": "markdown",
   "metadata": {
    "id": "wrCe4MNX_Zcu"
   },
   "source": [
    "**Выводы**\n",
    "\n",
    "Если сравнить топ-10 жанров в понедельник утром, можно сделать такие выводы:\n",
    "\n",
    "1. В Москве и Петербурге слушают похожую музыку. Единственное отличие — в московский рейтинг вошёл жанр “world”, а в петербургский — джаз и классика.\n",
    "\n",
    "2. В Москве пропущенных значений оказалось так много, что значение `'unknown'` заняло десятое место среди самых популярных жанров. Значит, пропущенные значения занимают существенную долю в данных и угрожают достоверности исследования.\n",
    "\n",
    "Вечер пятницы не меняет эту картину. Некоторые жанры поднимаются немного выше, другие спускаются, но в целом топ-10 остаётся тем же самым.\n",
    "\n",
    "Таким образом, вторая гипотеза подтвердилась лишь частично:\n",
    "* Пользователи слушают похожую музыку в начале недели и в конце.\n",
    "* Разница между Москвой и Петербургом не слишком выражена. В Москве чаще слушают русскую популярную музыку, в Петербурге — джаз.\n",
    "\n",
    "Однако пропуски в данных ставят под сомнение этот результат. В Москве их так много, что рейтинг топ-10 мог бы выглядеть иначе, если бы не утерянные  данные о жанрах."
   ]
  },
  {
   "cell_type": "markdown",
   "metadata": {
    "id": "JolODAqr_Zcu"
   },
   "source": [
    "### Жанровые предпочтения в Москве и Петербурге\n",
    "\n",
    "Гипотеза: Петербург — столица рэпа, музыку этого жанра там слушают чаще, чем в Москве.  А Москва — город контрастов, в котором, тем не менее, преобладает поп-музыка."
   ]
  },
  {
   "cell_type": "markdown",
   "metadata": {
    "id": "DlegSvaT_Zcu"
   },
   "source": [
    "Сгруппируйте таблицу `moscow_general` по жанру и посчитайте прослушивания треков каждого жанра методом `count()`. Затем отсортируйте результат в порядке убывания и сохраните его в таблице `moscow_genres`."
   ]
  },
  {
   "cell_type": "code",
   "execution_count": 44,
   "metadata": {
    "id": "r19lIPke_Zcu"
   },
   "outputs": [],
   "source": [
    "moscow_general = moscow_general.groupby('genre')['genre'].count()\n",
    "moscow_genres = moscow_general.sort_values(ascending=False)"
   ]
  },
  {
   "cell_type": "code",
   "execution_count": 49,
   "metadata": {},
   "outputs": [
    {
     "data": {
      "text/plain": [
       "genre\n",
       "acid         1\n",
       "acoustic     1\n",
       "action       1\n",
       "adult        1\n",
       "africa       1\n",
       "            ..\n",
       "vocal        1\n",
       "western      1\n",
       "world        1\n",
       "worldbeat    1\n",
       "ïîï          1\n",
       "Name: genre, Length: 267, dtype: int64"
      ]
     },
     "execution_count": 49,
     "metadata": {},
     "output_type": "execute_result"
    }
   ],
   "source": [
    "# Код ревьюера\n",
    "moscow_general.groupby('genre').count()"
   ]
  },
  {
   "cell_type": "markdown",
   "metadata": {
    "id": "6kMuomxTiIr8"
   },
   "source": [
    "Выведите на экран первые десять строк `moscow_genres`:"
   ]
  },
  {
   "cell_type": "code",
   "execution_count": 46,
   "metadata": {
    "id": "WhCSooF8_Zcv"
   },
   "outputs": [
    {
     "data": {
      "text/plain": [
       "genre\n",
       "pop            5892\n",
       "dance          4435\n",
       "rock           3965\n",
       "electronic     3786\n",
       "hiphop         2096\n",
       "classical      1616\n",
       "world          1432\n",
       "alternative    1379\n",
       "ruspop         1372\n",
       "rusrap         1161\n",
       "Name: genre, dtype: int64"
      ]
     },
     "metadata": {},
     "output_type": "display_data"
    }
   ],
   "source": [
    "display(moscow_genres.head(10))"
   ]
  },
  {
   "cell_type": "markdown",
   "metadata": {
    "id": "cnPG2vnN_Zcv"
   },
   "source": [
    "Теперь повторите то же и для Петербурга.\n",
    "\n",
    "Сгруппируйте таблицу `spb_general` по жанру. Посчитайте прослушивания треков каждого жанра. Результат отсортируйте в порядке убывания и сохраните в таблице `spb_genres`:\n"
   ]
  },
  {
   "cell_type": "code",
   "execution_count": 51,
   "metadata": {
    "id": "gluLIpE7_Zcv"
   },
   "outputs": [
    {
     "data": {
      "text/plain": [
       "genre\n",
       "acoustic           1\n",
       "adult              1\n",
       "africa             1\n",
       "alternative        1\n",
       "alternativepunk    1\n",
       "                  ..\n",
       "vocal              1\n",
       "western            1\n",
       "world              1\n",
       "worldbeat          1\n",
       "электроника        1\n",
       "Name: genre, Length: 211, dtype: int64"
      ]
     },
     "execution_count": 51,
     "metadata": {},
     "output_type": "execute_result"
    }
   ],
   "source": [
    "spb_general.groupby('genre').count()\n"
   ]
  },
  {
   "cell_type": "markdown",
   "metadata": {
    "id": "5Doha_ODgyQ8"
   },
   "source": [
    "Выведите на экран первые десять строк `spb_genres`:"
   ]
  },
  {
   "cell_type": "code",
   "execution_count": 48,
   "metadata": {
    "id": "uaGJHjVU_Zcv"
   },
   "outputs": [
    {
     "data": {
      "text/plain": [
       "genre\n",
       "pop            2431\n",
       "dance          1932\n",
       "rock           1879\n",
       "electronic     1736\n",
       "hiphop          960\n",
       "alternative     649\n",
       "classical       646\n",
       "rusrap          564\n",
       "ruspop          538\n",
       "world           515\n",
       "Name: genre, dtype: int64"
      ]
     },
     "metadata": {},
     "output_type": "display_data"
    }
   ],
   "source": [
    "display(spb_genres.head(10))"
   ]
  },
  {
   "cell_type": "markdown",
   "metadata": {
    "id": "RY51YJYu_Zcv"
   },
   "source": [
    "**Выводы**"
   ]
  },
  {
   "cell_type": "markdown",
   "metadata": {
    "id": "nVhnJEm__Zcv"
   },
   "source": [
    "Гипотеза частично подтвердилась:\n",
    "* Поп-музыка — самый популярный жанр в Москве, как и предполагала гипотеза. Более того, в топ-10 жанров встречается близкий жанр — русская популярная музыка.\n",
    "* Вопреки ожиданиям, рэп одинаково популярен в Москве и Петербурге. \n"
   ]
  },
  {
   "cell_type": "markdown",
   "metadata": {
    "id": "ykKQ0N65_Zcv"
   },
   "source": [
    "## Итоги исследования"
   ]
  },
  {
   "cell_type": "markdown",
   "metadata": {
    "id": "tjUwbHb3_Zcv"
   },
   "source": [
    "Вы проверили три гипотезы и установили:\n",
    "\n",
    "1. День недели по-разному влияет на активность пользователей в Москве и Петербурге. \n",
    "\n",
    "Первая гипотеза полностью подтвердилась.\n",
    "\n",
    "2. Музыкальные предпочтения не сильно меняются в течение недели — будь то Москва или Петербург. Небольшие различия заметны в начале недели, по понедельникам:\n",
    "* в Москве слушают музыку жанра “world”,\n",
    "* в Петербурге — джаз и классику.\n",
    "\n",
    "Таким образом, вторая гипотеза подтвердилась лишь отчасти. Этот результат мог оказаться иным, если бы не пропуски в данных.\n",
    "\n",
    "3. Во вкусах пользователей Москвы и Петербурга больше общего чем различий. Вопреки ожиданиям, предпочтения жанров в Петербурге напоминают московские.\n",
    "\n",
    "Третья гипотеза не подтвердилась. Если различия в предпочтениях и существуют, на основной массе пользователей они незаметны.\n",
    "\n",
    "**На практике исследования содержат проверки статистических гипотез.**\n",
    "Из данных одного сервиса не всегда можно сделать вывод о всех жителях города.\n",
    "Проверки статистических гипотез покажут, насколько они достоверны, исходя из имеющихся данных. \n",
    "С методами проверок гипотез вы ещё познакомитесь в следующих темах."
   ]
  }
 ],
 "metadata": {
  "ExecuteTimeLog": [
   {
    "duration": 570,
    "start_time": "2022-02-04T15:44:56.924Z"
   },
   {
    "duration": 139,
    "start_time": "2022-02-04T15:46:15.370Z"
   },
   {
    "duration": 270,
    "start_time": "2022-02-04T15:47:22.595Z"
   },
   {
    "duration": 8,
    "start_time": "2022-02-04T15:47:38.037Z"
   },
   {
    "duration": 23,
    "start_time": "2022-02-04T15:48:41.055Z"
   },
   {
    "duration": 4,
    "start_time": "2022-02-04T15:59:07.438Z"
   },
   {
    "duration": 24,
    "start_time": "2022-02-04T15:59:16.818Z"
   },
   {
    "duration": 3,
    "start_time": "2022-02-04T15:59:30.483Z"
   },
   {
    "duration": 22,
    "start_time": "2022-02-04T16:04:19.910Z"
   },
   {
    "duration": 17,
    "start_time": "2022-02-04T16:10:50.501Z"
   },
   {
    "duration": 22,
    "start_time": "2022-02-04T16:11:05.846Z"
   },
   {
    "duration": 58,
    "start_time": "2022-02-04T16:17:41.860Z"
   },
   {
    "duration": 72,
    "start_time": "2022-02-04T16:19:17.368Z"
   },
   {
    "duration": 49,
    "start_time": "2022-02-04T16:19:31.258Z"
   },
   {
    "duration": 7,
    "start_time": "2022-02-04T16:22:50.733Z"
   },
   {
    "duration": 6,
    "start_time": "2022-02-04T16:25:51.425Z"
   },
   {
    "duration": 75,
    "start_time": "2022-02-04T16:37:51.915Z"
   },
   {
    "duration": 64,
    "start_time": "2022-02-04T16:46:40.775Z"
   },
   {
    "duration": 3,
    "start_time": "2022-02-04T16:46:56.078Z"
   },
   {
    "duration": 11,
    "start_time": "2022-02-04T16:48:12.592Z"
   },
   {
    "duration": 6,
    "start_time": "2022-02-04T16:48:32.372Z"
   },
   {
    "duration": 28,
    "start_time": "2022-02-04T16:55:59.713Z"
   },
   {
    "duration": 288,
    "start_time": "2022-02-04T16:57:08.407Z"
   },
   {
    "duration": 30,
    "start_time": "2022-02-04T16:57:16.054Z"
   },
   {
    "duration": 198,
    "start_time": "2022-02-04T16:58:28.931Z"
   },
   {
    "duration": 4417,
    "start_time": "2022-02-04T16:58:42.476Z"
   },
   {
    "duration": 38,
    "start_time": "2022-02-04T16:59:04.622Z"
   },
   {
    "duration": 65,
    "start_time": "2022-02-04T17:00:59.721Z"
   },
   {
    "duration": 203,
    "start_time": "2022-02-04T17:01:10.937Z"
   },
   {
    "duration": 208,
    "start_time": "2022-02-04T17:02:00.686Z"
   },
   {
    "duration": 10,
    "start_time": "2022-02-04T17:02:19.658Z"
   },
   {
    "duration": 11,
    "start_time": "2022-02-04T19:27:20.265Z"
   },
   {
    "duration": 5,
    "start_time": "2022-02-04T20:47:35.935Z"
   },
   {
    "duration": 25,
    "start_time": "2022-02-04T20:48:30.742Z"
   },
   {
    "duration": 19,
    "start_time": "2022-02-04T20:49:38.636Z"
   },
   {
    "duration": 16,
    "start_time": "2022-02-04T20:51:38.045Z"
   },
   {
    "duration": 14,
    "start_time": "2022-02-04T20:51:40.157Z"
   },
   {
    "duration": 14,
    "start_time": "2022-02-04T20:51:41.790Z"
   },
   {
    "duration": 23,
    "start_time": "2022-02-04T20:51:43.628Z"
   },
   {
    "duration": 15,
    "start_time": "2022-02-04T20:51:45.592Z"
   },
   {
    "duration": 237,
    "start_time": "2022-02-04T20:59:37.839Z"
   },
   {
    "duration": 288,
    "start_time": "2022-02-04T21:01:20.442Z"
   },
   {
    "duration": 207,
    "start_time": "2022-02-04T21:16:32.762Z"
   },
   {
    "duration": 11,
    "start_time": "2022-02-04T21:16:53.230Z"
   },
   {
    "duration": 18,
    "start_time": "2022-02-04T21:26:33.549Z"
   },
   {
    "duration": 17,
    "start_time": "2022-02-04T21:27:30.890Z"
   },
   {
    "duration": 5,
    "start_time": "2022-02-04T21:29:28.737Z"
   },
   {
    "duration": 61,
    "start_time": "2022-02-04T21:30:19.319Z"
   },
   {
    "duration": 82,
    "start_time": "2022-02-04T21:31:11.462Z"
   },
   {
    "duration": 66,
    "start_time": "2022-02-04T21:32:06.581Z"
   },
   {
    "duration": 71,
    "start_time": "2022-02-04T21:32:47.790Z"
   },
   {
    "duration": 187,
    "start_time": "2022-02-04T21:40:38.635Z"
   },
   {
    "duration": 30,
    "start_time": "2022-02-04T21:41:48.015Z"
   },
   {
    "duration": 211,
    "start_time": "2022-02-04T21:44:00.820Z"
   },
   {
    "duration": 239,
    "start_time": "2022-02-04T21:45:16.183Z"
   },
   {
    "duration": 239,
    "start_time": "2022-02-04T21:45:56.927Z"
   },
   {
    "duration": 249,
    "start_time": "2022-02-04T21:48:32.474Z"
   },
   {
    "duration": 193,
    "start_time": "2022-02-04T21:49:29.564Z"
   },
   {
    "duration": 197,
    "start_time": "2022-02-04T21:50:45.882Z"
   },
   {
    "duration": 6,
    "start_time": "2022-02-04T21:54:21.444Z"
   },
   {
    "duration": 7,
    "start_time": "2022-02-04T21:54:36.126Z"
   },
   {
    "duration": 24,
    "start_time": "2022-02-04T21:57:11.480Z"
   },
   {
    "duration": 7,
    "start_time": "2022-02-04T21:57:30.247Z"
   },
   {
    "duration": 5,
    "start_time": "2022-02-04T21:58:34.201Z"
   },
   {
    "duration": 203,
    "start_time": "2022-02-04T22:02:45.532Z"
   },
   {
    "duration": 220,
    "start_time": "2022-02-04T22:03:15.786Z"
   },
   {
    "duration": 5,
    "start_time": "2022-02-04T22:03:36.949Z"
   },
   {
    "duration": 6,
    "start_time": "2022-02-04T22:03:40.052Z"
   },
   {
    "duration": 198,
    "start_time": "2022-02-04T22:15:30.245Z"
   },
   {
    "duration": 6,
    "start_time": "2022-02-04T22:16:56.273Z"
   },
   {
    "duration": 207,
    "start_time": "2022-02-04T22:17:43.284Z"
   },
   {
    "duration": 207,
    "start_time": "2022-02-04T22:19:07.963Z"
   },
   {
    "duration": 210,
    "start_time": "2022-02-04T22:19:28.883Z"
   },
   {
    "duration": 7,
    "start_time": "2022-02-04T22:19:59.838Z"
   },
   {
    "duration": 6,
    "start_time": "2022-02-04T22:20:03.793Z"
   },
   {
    "duration": 124,
    "start_time": "2022-02-04T22:22:31.911Z"
   },
   {
    "duration": 6,
    "start_time": "2022-02-04T22:23:05.026Z"
   },
   {
    "duration": 6,
    "start_time": "2022-02-04T22:23:07.671Z"
   },
   {
    "duration": 11,
    "start_time": "2022-02-04T22:23:25.114Z"
   },
   {
    "duration": 6,
    "start_time": "2022-02-04T22:23:27.538Z"
   },
   {
    "duration": 810,
    "start_time": "2022-02-12T15:17:44.757Z"
   },
   {
    "duration": 201,
    "start_time": "2022-02-12T15:17:45.570Z"
   },
   {
    "duration": 11,
    "start_time": "2022-02-12T15:17:45.774Z"
   },
   {
    "duration": 36,
    "start_time": "2022-02-12T15:17:45.788Z"
   },
   {
    "duration": 5,
    "start_time": "2022-02-12T15:17:45.827Z"
   },
   {
    "duration": 37,
    "start_time": "2022-02-12T15:17:45.871Z"
   },
   {
    "duration": 14,
    "start_time": "2022-02-12T15:17:45.911Z"
   },
   {
    "duration": 57,
    "start_time": "2022-02-12T15:17:45.929Z"
   },
   {
    "duration": 27,
    "start_time": "2022-02-12T15:17:45.990Z"
   },
   {
    "duration": 66,
    "start_time": "2022-02-12T15:17:46.020Z"
   },
   {
    "duration": 140,
    "start_time": "2022-02-12T15:17:46.089Z"
   },
   {
    "duration": 156,
    "start_time": "2022-02-12T15:17:46.232Z"
   },
   {
    "duration": 126,
    "start_time": "2022-02-12T15:17:46.391Z"
   },
   {
    "duration": 8,
    "start_time": "2022-02-12T15:17:46.519Z"
   },
   {
    "duration": 5,
    "start_time": "2022-02-12T15:17:46.530Z"
   },
   {
    "duration": 52,
    "start_time": "2022-02-12T15:17:46.538Z"
   },
   {
    "duration": 10,
    "start_time": "2022-02-12T15:17:46.594Z"
   },
   {
    "duration": 24,
    "start_time": "2022-02-12T15:17:46.607Z"
   },
   {
    "duration": 41,
    "start_time": "2022-02-12T15:17:46.634Z"
   },
   {
    "duration": 4,
    "start_time": "2022-02-12T15:17:46.678Z"
   },
   {
    "duration": 33,
    "start_time": "2022-02-12T15:17:46.685Z"
   },
   {
    "duration": 49,
    "start_time": "2022-02-12T15:17:46.720Z"
   },
   {
    "duration": 19,
    "start_time": "2022-02-12T15:17:46.774Z"
   },
   {
    "duration": 17,
    "start_time": "2022-02-12T15:17:46.796Z"
   },
   {
    "duration": 57,
    "start_time": "2022-02-12T15:17:46.816Z"
   },
   {
    "duration": 20,
    "start_time": "2022-02-12T15:17:46.875Z"
   },
   {
    "duration": 10,
    "start_time": "2022-02-12T15:17:46.897Z"
   },
   {
    "duration": 60,
    "start_time": "2022-02-12T15:17:46.909Z"
   },
   {
    "duration": 23,
    "start_time": "2022-02-12T15:17:46.972Z"
   },
   {
    "duration": 5,
    "start_time": "2022-02-12T15:17:46.997Z"
   },
   {
    "duration": 110,
    "start_time": "2022-02-12T15:17:47.005Z"
   },
   {
    "duration": 106,
    "start_time": "2022-02-12T15:17:47.117Z"
   },
   {
    "duration": 88,
    "start_time": "2022-02-12T15:17:47.225Z"
   },
   {
    "duration": 165,
    "start_time": "2022-02-12T15:17:47.316Z"
   },
   {
    "duration": 123,
    "start_time": "2022-02-12T15:17:47.484Z"
   },
   {
    "duration": 13,
    "start_time": "2022-02-12T15:17:47.610Z"
   },
   {
    "duration": 70,
    "start_time": "2022-02-12T15:17:47.626Z"
   },
   {
    "duration": 13,
    "start_time": "2022-02-12T15:17:47.699Z"
   },
   {
    "duration": 6,
    "start_time": "2022-02-12T15:19:59.250Z"
   },
   {
    "duration": 43,
    "start_time": "2022-02-12T15:28:32.405Z"
   },
   {
    "duration": 336,
    "start_time": "2022-02-12T18:58:54.279Z"
   },
   {
    "duration": 353,
    "start_time": "2022-02-12T19:01:13.713Z"
   },
   {
    "duration": 336,
    "start_time": "2022-02-12T19:01:47.581Z"
   },
   {
    "duration": 315,
    "start_time": "2022-02-12T19:02:48.600Z"
   },
   {
    "duration": 418,
    "start_time": "2022-02-12T19:04:50.739Z"
   },
   {
    "duration": 103,
    "start_time": "2022-02-12T19:07:26.450Z"
   },
   {
    "duration": 337,
    "start_time": "2022-02-12T19:07:49.501Z"
   },
   {
    "duration": 315,
    "start_time": "2022-02-12T19:08:23.592Z"
   },
   {
    "duration": 374,
    "start_time": "2022-02-12T19:08:43.016Z"
   },
   {
    "duration": 612,
    "start_time": "2022-02-12T19:10:32.238Z"
   },
   {
    "duration": 130,
    "start_time": "2022-02-12T19:10:36.757Z"
   },
   {
    "duration": 7,
    "start_time": "2022-02-12T19:10:40.240Z"
   },
   {
    "duration": 15,
    "start_time": "2022-02-12T19:11:01.672Z"
   },
   {
    "duration": 21,
    "start_time": "2022-02-12T19:11:20.411Z"
   },
   {
    "duration": 3,
    "start_time": "2022-02-12T19:11:31.505Z"
   },
   {
    "duration": 19,
    "start_time": "2022-02-12T19:11:47.017Z"
   },
   {
    "duration": 3,
    "start_time": "2022-02-12T19:11:50.507Z"
   },
   {
    "duration": 4,
    "start_time": "2022-02-12T19:11:53.842Z"
   },
   {
    "duration": 20,
    "start_time": "2022-02-12T19:11:58.843Z"
   },
   {
    "duration": 17,
    "start_time": "2022-02-12T19:12:07.720Z"
   },
   {
    "duration": 20,
    "start_time": "2022-02-12T19:12:11.397Z"
   },
   {
    "duration": 55,
    "start_time": "2022-02-12T19:12:15.689Z"
   },
   {
    "duration": 60,
    "start_time": "2022-02-12T19:12:19.632Z"
   },
   {
    "duration": 46,
    "start_time": "2022-02-12T19:12:23.084Z"
   },
   {
    "duration": 6,
    "start_time": "2022-02-12T19:12:28.217Z"
   },
   {
    "duration": 3,
    "start_time": "2022-02-12T19:12:34.187Z"
   },
   {
    "duration": 9,
    "start_time": "2022-02-12T19:12:37.576Z"
   },
   {
    "duration": 6,
    "start_time": "2022-02-12T19:12:41.254Z"
   },
   {
    "duration": 11,
    "start_time": "2022-02-12T19:12:54.373Z"
   },
   {
    "duration": 10,
    "start_time": "2022-02-12T19:13:00.481Z"
   },
   {
    "duration": 3,
    "start_time": "2022-02-12T19:13:18.138Z"
   },
   {
    "duration": 16,
    "start_time": "2022-02-12T19:13:21.234Z"
   },
   {
    "duration": 13,
    "start_time": "2022-02-12T19:13:23.323Z"
   },
   {
    "duration": 14,
    "start_time": "2022-02-12T19:13:24.868Z"
   },
   {
    "duration": 14,
    "start_time": "2022-02-12T19:13:26.076Z"
   },
   {
    "duration": 17,
    "start_time": "2022-02-12T19:13:27.318Z"
   },
   {
    "duration": 14,
    "start_time": "2022-02-12T19:13:29.274Z"
   },
   {
    "duration": 6,
    "start_time": "2022-02-12T19:13:32.881Z"
   },
   {
    "duration": 18,
    "start_time": "2022-02-12T19:13:40.562Z"
   },
   {
    "duration": 15,
    "start_time": "2022-02-12T19:13:46.688Z"
   },
   {
    "duration": 4,
    "start_time": "2022-02-12T19:13:59.683Z"
   },
   {
    "duration": 47,
    "start_time": "2022-02-12T19:14:05.805Z"
   },
   {
    "duration": 57,
    "start_time": "2022-02-12T19:14:09.970Z"
   },
   {
    "duration": 44,
    "start_time": "2022-02-12T19:14:13.092Z"
   },
   {
    "duration": 53,
    "start_time": "2022-02-12T19:14:15.563Z"
   },
   {
    "duration": 44,
    "start_time": "2022-02-12T19:14:23.709Z"
   },
   {
    "duration": 27,
    "start_time": "2022-02-12T19:14:32.724Z"
   },
   {
    "duration": 44,
    "start_time": "2022-02-12T19:14:48.058Z"
   },
   {
    "duration": 43,
    "start_time": "2022-02-12T19:15:07.830Z"
   },
   {
    "duration": 24,
    "start_time": "2022-02-12T19:16:47.251Z"
   },
   {
    "duration": 22,
    "start_time": "2022-02-12T19:17:18.659Z"
   },
   {
    "duration": 10,
    "start_time": "2022-02-12T19:17:59.914Z"
   },
   {
    "duration": 9,
    "start_time": "2022-02-12T19:18:31.022Z"
   },
   {
    "duration": 19,
    "start_time": "2022-02-12T19:20:19.658Z"
   },
   {
    "duration": 10,
    "start_time": "2022-02-12T19:20:22.241Z"
   },
   {
    "duration": 6,
    "start_time": "2022-02-12T19:28:16.919Z"
   },
   {
    "duration": 5,
    "start_time": "2022-02-12T19:28:19.457Z"
   },
   {
    "duration": 8,
    "start_time": "2022-02-12T19:28:25.022Z"
   },
   {
    "duration": 5,
    "start_time": "2022-02-12T19:29:16.034Z"
   },
   {
    "duration": 8,
    "start_time": "2022-02-12T19:29:19.537Z"
   },
   {
    "duration": 5,
    "start_time": "2022-02-12T19:31:05.529Z"
   },
   {
    "duration": 7,
    "start_time": "2022-02-12T19:31:09.642Z"
   },
   {
    "duration": 395,
    "start_time": "2022-02-12T19:32:54.779Z"
   },
   {
    "duration": 306,
    "start_time": "2022-02-12T19:34:52.842Z"
   },
   {
    "duration": 2126,
    "start_time": "2022-02-12T19:35:42.118Z"
   },
   {
    "duration": 8,
    "start_time": "2022-02-12T19:35:45.803Z"
   },
   {
    "duration": 1035,
    "start_time": "2022-02-12T19:36:02.887Z"
   },
   {
    "duration": 5,
    "start_time": "2022-02-12T19:36:16.411Z"
   },
   {
    "duration": 7,
    "start_time": "2022-02-12T19:36:21.537Z"
   },
   {
    "duration": 361,
    "start_time": "2022-02-12T19:38:18.531Z"
   },
   {
    "duration": 346,
    "start_time": "2022-02-12T19:38:30.663Z"
   },
   {
    "duration": 8,
    "start_time": "2022-02-12T19:38:46.862Z"
   },
   {
    "duration": 1362,
    "start_time": "2022-02-12T19:40:13.270Z"
   },
   {
    "duration": 7,
    "start_time": "2022-02-12T19:40:33.361Z"
   },
   {
    "duration": 603,
    "start_time": "2022-02-12T19:40:42.437Z"
   },
   {
    "duration": 4,
    "start_time": "2022-02-12T19:43:17.615Z"
   },
   {
    "duration": 8,
    "start_time": "2022-02-12T19:43:24.207Z"
   },
   {
    "duration": 327,
    "start_time": "2022-02-12T19:43:50.894Z"
   },
   {
    "duration": 352,
    "start_time": "2022-02-12T19:44:24.695Z"
   },
   {
    "duration": 6,
    "start_time": "2022-02-12T19:44:37.971Z"
   },
   {
    "duration": 5,
    "start_time": "2022-02-12T19:44:41.762Z"
   },
   {
    "duration": 4,
    "start_time": "2022-02-12T19:45:08.752Z"
   },
   {
    "duration": 5,
    "start_time": "2022-02-12T19:45:13.168Z"
   },
   {
    "duration": 311,
    "start_time": "2022-02-12T19:46:57.350Z"
   },
   {
    "duration": 5,
    "start_time": "2022-02-12T19:47:16.874Z"
   },
   {
    "duration": 6,
    "start_time": "2022-02-12T19:47:19.957Z"
   },
   {
    "duration": 5,
    "start_time": "2022-02-12T19:47:45.144Z"
   },
   {
    "duration": 5,
    "start_time": "2022-02-12T19:47:48.186Z"
   },
   {
    "duration": 309,
    "start_time": "2022-02-12T19:48:15.821Z"
   },
   {
    "duration": 4,
    "start_time": "2022-02-12T19:48:24.036Z"
   },
   {
    "duration": 305,
    "start_time": "2022-02-12T19:48:37.121Z"
   },
   {
    "duration": 5,
    "start_time": "2022-02-12T19:49:47.635Z"
   },
   {
    "duration": 6,
    "start_time": "2022-02-12T19:49:54.734Z"
   },
   {
    "duration": 322,
    "start_time": "2022-02-12T19:50:26.053Z"
   },
   {
    "duration": 319,
    "start_time": "2022-02-12T19:50:48.931Z"
   },
   {
    "duration": 329,
    "start_time": "2022-02-12T19:51:38.545Z"
   },
   {
    "duration": 302,
    "start_time": "2022-02-12T19:52:12.816Z"
   },
   {
    "duration": 6,
    "start_time": "2022-02-12T19:52:26.715Z"
   },
   {
    "duration": 6,
    "start_time": "2022-02-12T19:52:31.173Z"
   },
   {
    "duration": 298,
    "start_time": "2022-02-12T19:53:06.883Z"
   },
   {
    "duration": 4,
    "start_time": "2022-02-12T19:53:18.184Z"
   },
   {
    "duration": 17,
    "start_time": "2022-02-12T19:53:25.574Z"
   },
   {
    "duration": 15,
    "start_time": "2022-02-12T19:53:33.226Z"
   },
   {
    "duration": 321,
    "start_time": "2022-02-12T19:53:40.308Z"
   },
   {
    "duration": 6,
    "start_time": "2022-02-12T19:53:56.819Z"
   },
   {
    "duration": 5,
    "start_time": "2022-02-12T19:54:00.632Z"
   },
   {
    "duration": 5,
    "start_time": "2022-02-12T19:56:07.737Z"
   },
   {
    "duration": 6,
    "start_time": "2022-02-12T19:56:16.142Z"
   },
   {
    "duration": 5,
    "start_time": "2022-02-12T19:56:20.861Z"
   },
   {
    "duration": 322,
    "start_time": "2022-02-12T19:56:38.074Z"
   },
   {
    "duration": 308,
    "start_time": "2022-02-12T19:57:43.322Z"
   },
   {
    "duration": 5,
    "start_time": "2022-02-12T19:57:52.259Z"
   },
   {
    "duration": 4,
    "start_time": "2022-02-12T19:58:03.915Z"
   },
   {
    "duration": 329,
    "start_time": "2022-02-12T20:00:46.256Z"
   },
   {
    "duration": 4,
    "start_time": "2022-02-12T20:00:55.584Z"
   },
   {
    "duration": 3,
    "start_time": "2022-02-12T20:01:04.948Z"
   },
   {
    "duration": 122,
    "start_time": "2022-02-12T20:01:08.049Z"
   },
   {
    "duration": 10,
    "start_time": "2022-02-12T20:01:11.109Z"
   },
   {
    "duration": 21,
    "start_time": "2022-02-12T20:01:16.987Z"
   },
   {
    "duration": 4,
    "start_time": "2022-02-12T20:01:22.005Z"
   },
   {
    "duration": 18,
    "start_time": "2022-02-12T20:01:25.007Z"
   },
   {
    "duration": 3,
    "start_time": "2022-02-12T20:01:27.494Z"
   },
   {
    "duration": 3,
    "start_time": "2022-02-12T20:01:30.634Z"
   },
   {
    "duration": 20,
    "start_time": "2022-02-12T20:01:34.145Z"
   },
   {
    "duration": 15,
    "start_time": "2022-02-12T20:01:40.934Z"
   },
   {
    "duration": 19,
    "start_time": "2022-02-12T20:01:44.036Z"
   },
   {
    "duration": 46,
    "start_time": "2022-02-12T20:01:47.329Z"
   },
   {
    "duration": 55,
    "start_time": "2022-02-12T20:01:52.806Z"
   },
   {
    "duration": 57,
    "start_time": "2022-02-12T20:01:55.352Z"
   },
   {
    "duration": 7,
    "start_time": "2022-02-12T20:01:58.583Z"
   },
   {
    "duration": 3,
    "start_time": "2022-02-12T20:02:05.793Z"
   },
   {
    "duration": 9,
    "start_time": "2022-02-12T20:02:08.146Z"
   },
   {
    "duration": 6,
    "start_time": "2022-02-12T20:02:11.811Z"
   },
   {
    "duration": 10,
    "start_time": "2022-02-12T20:02:17.984Z"
   },
   {
    "duration": 10,
    "start_time": "2022-02-12T20:02:22.375Z"
   },
   {
    "duration": 4,
    "start_time": "2022-02-12T20:02:26.450Z"
   },
   {
    "duration": 17,
    "start_time": "2022-02-12T20:02:29.764Z"
   },
   {
    "duration": 15,
    "start_time": "2022-02-12T20:02:31.276Z"
   },
   {
    "duration": 15,
    "start_time": "2022-02-12T20:02:31.890Z"
   },
   {
    "duration": 14,
    "start_time": "2022-02-12T20:02:32.514Z"
   },
   {
    "duration": 15,
    "start_time": "2022-02-12T20:02:33.076Z"
   },
   {
    "duration": 13,
    "start_time": "2022-02-12T20:02:33.656Z"
   },
   {
    "duration": 6,
    "start_time": "2022-02-12T20:02:37.497Z"
   },
   {
    "duration": 17,
    "start_time": "2022-02-12T20:02:50.442Z"
   },
   {
    "duration": 19,
    "start_time": "2022-02-12T20:02:56.201Z"
   },
   {
    "duration": 4,
    "start_time": "2022-02-12T20:02:59.885Z"
   },
   {
    "duration": 47,
    "start_time": "2022-02-12T20:03:03.262Z"
   },
   {
    "duration": 59,
    "start_time": "2022-02-12T20:03:05.032Z"
   },
   {
    "duration": 45,
    "start_time": "2022-02-12T20:03:05.956Z"
   },
   {
    "duration": 55,
    "start_time": "2022-02-12T20:03:06.804Z"
   },
   {
    "duration": 13,
    "start_time": "2022-02-12T20:04:57.696Z"
   },
   {
    "duration": 5,
    "start_time": "2022-02-12T20:05:07.654Z"
   },
   {
    "duration": 7,
    "start_time": "2022-02-12T20:06:10.851Z"
   },
   {
    "duration": 5,
    "start_time": "2022-02-12T20:06:14.790Z"
   },
   {
    "duration": 571,
    "start_time": "2022-02-13T11:01:03.639Z"
   },
   {
    "duration": 115,
    "start_time": "2022-02-13T11:01:04.212Z"
   },
   {
    "duration": 15,
    "start_time": "2022-02-13T11:01:04.329Z"
   },
   {
    "duration": 33,
    "start_time": "2022-02-13T11:01:04.345Z"
   },
   {
    "duration": 3,
    "start_time": "2022-02-13T11:01:04.379Z"
   },
   {
    "duration": 20,
    "start_time": "2022-02-13T11:01:04.383Z"
   },
   {
    "duration": 3,
    "start_time": "2022-02-13T11:01:04.404Z"
   },
   {
    "duration": 5,
    "start_time": "2022-02-13T11:01:04.409Z"
   },
   {
    "duration": 20,
    "start_time": "2022-02-13T11:01:04.416Z"
   },
   {
    "duration": 39,
    "start_time": "2022-02-13T11:01:04.438Z"
   },
   {
    "duration": 20,
    "start_time": "2022-02-13T11:01:04.479Z"
   },
   {
    "duration": 71,
    "start_time": "2022-02-13T11:01:04.501Z"
   },
   {
    "duration": 59,
    "start_time": "2022-02-13T11:01:04.574Z"
   },
   {
    "duration": 57,
    "start_time": "2022-02-13T11:01:04.635Z"
   },
   {
    "duration": 7,
    "start_time": "2022-02-13T11:01:04.694Z"
   },
   {
    "duration": 3,
    "start_time": "2022-02-13T11:01:04.703Z"
   },
   {
    "duration": 10,
    "start_time": "2022-02-13T11:01:04.708Z"
   },
   {
    "duration": 7,
    "start_time": "2022-02-13T11:01:04.720Z"
   },
   {
    "duration": 48,
    "start_time": "2022-02-13T11:01:04.729Z"
   },
   {
    "duration": 12,
    "start_time": "2022-02-13T11:01:04.779Z"
   },
   {
    "duration": 4,
    "start_time": "2022-02-13T11:01:04.792Z"
   },
   {
    "duration": 17,
    "start_time": "2022-02-13T11:01:04.798Z"
   },
   {
    "duration": 14,
    "start_time": "2022-02-13T11:01:04.817Z"
   },
   {
    "duration": 52,
    "start_time": "2022-02-13T11:01:04.832Z"
   },
   {
    "duration": 13,
    "start_time": "2022-02-13T11:01:04.887Z"
   },
   {
    "duration": 14,
    "start_time": "2022-02-13T11:01:04.902Z"
   },
   {
    "duration": 12,
    "start_time": "2022-02-13T11:01:04.919Z"
   },
   {
    "duration": 6,
    "start_time": "2022-02-13T11:01:04.933Z"
   },
   {
    "duration": 18,
    "start_time": "2022-02-13T11:01:04.971Z"
   },
   {
    "duration": 14,
    "start_time": "2022-02-13T11:01:04.991Z"
   },
   {
    "duration": 3,
    "start_time": "2022-02-13T11:01:05.007Z"
   },
   {
    "duration": 74,
    "start_time": "2022-02-13T11:01:05.011Z"
   },
   {
    "duration": 61,
    "start_time": "2022-02-13T11:01:05.086Z"
   },
   {
    "duration": 60,
    "start_time": "2022-02-13T11:01:05.148Z"
   },
   {
    "duration": 67,
    "start_time": "2022-02-13T11:01:05.209Z"
   },
   {
    "duration": 9,
    "start_time": "2022-02-13T11:01:05.277Z"
   },
   {
    "duration": 7,
    "start_time": "2022-02-13T11:01:05.287Z"
   },
   {
    "duration": 7,
    "start_time": "2022-02-13T11:01:05.295Z"
   },
   {
    "duration": 8,
    "start_time": "2022-02-13T11:01:05.303Z"
   },
   {
    "duration": 6,
    "start_time": "2022-02-13T11:01:05.313Z"
   },
   {
    "duration": 422,
    "start_time": "2023-07-14T16:55:03.980Z"
   },
   {
    "duration": 464,
    "start_time": "2023-07-14T16:55:15.208Z"
   },
   {
    "duration": 68,
    "start_time": "2023-07-14T17:16:21.882Z"
   },
   {
    "duration": 7,
    "start_time": "2023-07-14T17:16:43.286Z"
   },
   {
    "duration": 8,
    "start_time": "2023-07-14T17:17:11.187Z"
   },
   {
    "duration": 7,
    "start_time": "2023-07-14T17:17:18.730Z"
   },
   {
    "duration": 7,
    "start_time": "2023-07-14T17:19:47.354Z"
   },
   {
    "duration": 8,
    "start_time": "2023-07-14T17:20:12.181Z"
   },
   {
    "duration": 2,
    "start_time": "2023-07-14T17:22:04.326Z"
   },
   {
    "duration": 192,
    "start_time": "2023-07-14T17:22:04.334Z"
   },
   {
    "duration": 32,
    "start_time": "2023-07-14T17:22:04.528Z"
   },
   {
    "duration": 58,
    "start_time": "2023-07-14T17:22:04.562Z"
   },
   {
    "duration": 3,
    "start_time": "2023-07-14T17:22:04.622Z"
   },
   {
    "duration": 17,
    "start_time": "2023-07-14T17:22:04.627Z"
   },
   {
    "duration": 3,
    "start_time": "2023-07-14T17:22:04.646Z"
   },
   {
    "duration": 261,
    "start_time": "2023-07-14T17:22:04.650Z"
   },
   {
    "duration": 28,
    "start_time": "2023-07-14T17:22:04.913Z"
   },
   {
    "duration": 27,
    "start_time": "2023-07-14T17:22:04.944Z"
   },
   {
    "duration": 35,
    "start_time": "2023-07-14T17:22:04.973Z"
   },
   {
    "duration": 82,
    "start_time": "2023-07-14T17:22:05.010Z"
   },
   {
    "duration": 88,
    "start_time": "2023-07-14T17:22:05.094Z"
   },
   {
    "duration": 63,
    "start_time": "2023-07-14T17:22:05.184Z"
   },
   {
    "duration": 7,
    "start_time": "2023-07-14T17:22:05.259Z"
   },
   {
    "duration": 32,
    "start_time": "2023-07-14T17:22:05.268Z"
   },
   {
    "duration": 11,
    "start_time": "2023-07-14T17:22:05.303Z"
   },
   {
    "duration": 7,
    "start_time": "2023-07-14T17:22:05.316Z"
   },
   {
    "duration": 15,
    "start_time": "2023-07-14T17:22:05.325Z"
   },
   {
    "duration": 20,
    "start_time": "2023-07-14T17:22:05.341Z"
   },
   {
    "duration": 3,
    "start_time": "2023-07-14T17:22:05.363Z"
   },
   {
    "duration": 25,
    "start_time": "2023-07-14T17:22:05.369Z"
   },
   {
    "duration": 18,
    "start_time": "2023-07-14T17:22:05.396Z"
   },
   {
    "duration": 50,
    "start_time": "2023-07-14T17:22:05.416Z"
   },
   {
    "duration": 15,
    "start_time": "2023-07-14T17:22:05.468Z"
   },
   {
    "duration": 17,
    "start_time": "2023-07-14T17:22:05.485Z"
   },
   {
    "duration": 16,
    "start_time": "2023-07-14T17:22:05.504Z"
   },
   {
    "duration": 7,
    "start_time": "2023-07-14T17:22:05.522Z"
   },
   {
    "duration": 46,
    "start_time": "2023-07-14T17:22:05.532Z"
   },
   {
    "duration": 19,
    "start_time": "2023-07-14T17:22:05.580Z"
   },
   {
    "duration": 9,
    "start_time": "2023-07-14T17:22:05.601Z"
   },
   {
    "duration": 75,
    "start_time": "2023-07-14T17:22:05.611Z"
   },
   {
    "duration": 52,
    "start_time": "2023-07-14T17:22:05.688Z"
   },
   {
    "duration": 57,
    "start_time": "2023-07-14T17:22:05.743Z"
   },
   {
    "duration": 69,
    "start_time": "2023-07-14T17:22:05.802Z"
   },
   {
    "duration": 10,
    "start_time": "2023-07-14T17:22:05.872Z"
   },
   {
    "duration": 18,
    "start_time": "2023-07-14T17:22:05.884Z"
   },
   {
    "duration": 20,
    "start_time": "2023-07-14T17:22:05.903Z"
   },
   {
    "duration": 33,
    "start_time": "2023-07-14T17:22:05.925Z"
   },
   {
    "duration": 12,
    "start_time": "2023-07-14T17:22:05.960Z"
   },
   {
    "duration": 8,
    "start_time": "2023-07-14T17:23:51.060Z"
   },
   {
    "duration": 11,
    "start_time": "2023-07-14T17:24:30.551Z"
   },
   {
    "duration": 6,
    "start_time": "2023-07-14T17:25:07.387Z"
   }
  ],
  "colab": {
   "collapsed_sections": [
    "E0vqbgi9ay0H",
    "VUC88oWjTJw2"
   ],
   "name": "yandex_music_project_2021.2.ipynb",
   "provenance": []
  },
  "kernelspec": {
   "display_name": "Python 3 (ipykernel)",
   "language": "python",
   "name": "python3"
  },
  "language_info": {
   "codemirror_mode": {
    "name": "ipython",
    "version": 3
   },
   "file_extension": ".py",
   "mimetype": "text/x-python",
   "name": "python",
   "nbconvert_exporter": "python",
   "pygments_lexer": "ipython3",
   "version": "3.10.12"
  },
  "toc": {
   "base_numbering": 1,
   "nav_menu": {},
   "number_sections": true,
   "sideBar": true,
   "skip_h1_title": true,
   "title_cell": "Table of Contents",
   "title_sidebar": "Contents",
   "toc_cell": false,
   "toc_position": {},
   "toc_section_display": true,
   "toc_window_display": false
  }
 },
 "nbformat": 4,
 "nbformat_minor": 1
}
