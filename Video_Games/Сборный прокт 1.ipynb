{
 "cells": [
  {
   "cell_type": "markdown",
   "metadata": {},
   "source": [
    "# Сборный проект"
   ]
  },
  {
   "cell_type": "markdown",
   "metadata": {},
   "source": [
    "Целью проекта является анализ продаж интернет-магазина \"Стримчик\" копьютерных игр. Необходимо выявить определяющие успешности игр для дальнйшего планирования рекламной компании"
   ]
  },
  {
   "cell_type": "code",
   "execution_count": 17,
   "metadata": {},
   "outputs": [],
   "source": [
    "#!/usr/bin/python\n",
    "# -*- coding: utf-8 -*-\n",
    "import sys\n",
    "\n",
    "import getopt\n",
    "from datetime import datetime\n",
    "\n",
    "import pandas as pd\n",
    "import psycopg2\n",
    "\n",
    "from sqlalchemy import create_engine\n",
    "\n",
    "db_config = {'user': 'praktikum_student', # имя пользователя\n",
    "            'pwd': 'Sdf4$2;d-d30pp', # пароль\n",
    "            'host': 'rc1b-wcoijxj3yxfsf3fs.mdb.yandexcloud.net',\n",
    "            'port': 6432, # порт подключения\n",
    "            'db': 'data-analyst-zen-project-db'} # название базы данных\n",
    "\n",
    "connection_string = 'postgresql://{}:{}@{}:{}/{}'.format(db_config['user'],\n",
    "                                                db_config['pwd'],\n",
    "                                                db_config['host'],\n",
    "                                                db_config['port'],\n",
    "                                                db_config['db'])\n",
    "\n",
    "engine = create_engine(connection_string) \n",
    "\n",
    "\n",
    "query = ''' SELECT * \n",
    "            FROM dash_visits\n",
    "        '''\n",
    "\n",
    "dash_visits = pd.io.sql.read_sql(query, con = engine)\n",
    "\n",
    "dash_visits.to_csv('dash_visits.csv', index=False)"
   ]
  },
  {
   "cell_type": "code",
   "execution_count": 18,
   "metadata": {},
   "outputs": [],
   "source": [
    "pd.set_option('display.max_columns', 500)\n",
    "pd.options.display.float_format = '{:,.2f}'.format"
   ]
  },
  {
   "cell_type": "markdown",
   "metadata": {},
   "source": [
    "# 1. Изучение данных и общей информации"
   ]
  },
  {
   "cell_type": "code",
   "execution_count": 19,
   "metadata": {},
   "outputs": [
    {
     "data": {
      "text/html": [
       "<div>\n",
       "<style scoped>\n",
       "    .dataframe tbody tr th:only-of-type {\n",
       "        vertical-align: middle;\n",
       "    }\n",
       "\n",
       "    .dataframe tbody tr th {\n",
       "        vertical-align: top;\n",
       "    }\n",
       "\n",
       "    .dataframe thead th {\n",
       "        text-align: right;\n",
       "    }\n",
       "</style>\n",
       "<table border=\"1\" class=\"dataframe\">\n",
       "  <thead>\n",
       "    <tr style=\"text-align: right;\">\n",
       "      <th></th>\n",
       "      <th>Name</th>\n",
       "      <th>Platform</th>\n",
       "      <th>Year_of_Release</th>\n",
       "      <th>Genre</th>\n",
       "      <th>NA_sales</th>\n",
       "      <th>EU_sales</th>\n",
       "      <th>JP_sales</th>\n",
       "      <th>Other_sales</th>\n",
       "      <th>Critic_Score</th>\n",
       "      <th>User_Score</th>\n",
       "      <th>Rating</th>\n",
       "    </tr>\n",
       "  </thead>\n",
       "  <tbody>\n",
       "    <tr>\n",
       "      <th>0</th>\n",
       "      <td>Wii Sports</td>\n",
       "      <td>Wii</td>\n",
       "      <td>2,006.00</td>\n",
       "      <td>Sports</td>\n",
       "      <td>41.36</td>\n",
       "      <td>28.96</td>\n",
       "      <td>3.77</td>\n",
       "      <td>8.45</td>\n",
       "      <td>76.00</td>\n",
       "      <td>8</td>\n",
       "      <td>E</td>\n",
       "    </tr>\n",
       "    <tr>\n",
       "      <th>1</th>\n",
       "      <td>Super Mario Bros.</td>\n",
       "      <td>NES</td>\n",
       "      <td>1,985.00</td>\n",
       "      <td>Platform</td>\n",
       "      <td>29.08</td>\n",
       "      <td>3.58</td>\n",
       "      <td>6.81</td>\n",
       "      <td>0.77</td>\n",
       "      <td>NaN</td>\n",
       "      <td>NaN</td>\n",
       "      <td>NaN</td>\n",
       "    </tr>\n",
       "    <tr>\n",
       "      <th>2</th>\n",
       "      <td>Mario Kart Wii</td>\n",
       "      <td>Wii</td>\n",
       "      <td>2,008.00</td>\n",
       "      <td>Racing</td>\n",
       "      <td>15.68</td>\n",
       "      <td>12.76</td>\n",
       "      <td>3.79</td>\n",
       "      <td>3.29</td>\n",
       "      <td>82.00</td>\n",
       "      <td>8.3</td>\n",
       "      <td>E</td>\n",
       "    </tr>\n",
       "    <tr>\n",
       "      <th>3</th>\n",
       "      <td>Wii Sports Resort</td>\n",
       "      <td>Wii</td>\n",
       "      <td>2,009.00</td>\n",
       "      <td>Sports</td>\n",
       "      <td>15.61</td>\n",
       "      <td>10.93</td>\n",
       "      <td>3.28</td>\n",
       "      <td>2.95</td>\n",
       "      <td>80.00</td>\n",
       "      <td>8</td>\n",
       "      <td>E</td>\n",
       "    </tr>\n",
       "    <tr>\n",
       "      <th>4</th>\n",
       "      <td>Pokemon Red/Pokemon Blue</td>\n",
       "      <td>GB</td>\n",
       "      <td>1,996.00</td>\n",
       "      <td>Role-Playing</td>\n",
       "      <td>11.27</td>\n",
       "      <td>8.89</td>\n",
       "      <td>10.22</td>\n",
       "      <td>1.00</td>\n",
       "      <td>NaN</td>\n",
       "      <td>NaN</td>\n",
       "      <td>NaN</td>\n",
       "    </tr>\n",
       "    <tr>\n",
       "      <th>5</th>\n",
       "      <td>Tetris</td>\n",
       "      <td>GB</td>\n",
       "      <td>1,989.00</td>\n",
       "      <td>Puzzle</td>\n",
       "      <td>23.20</td>\n",
       "      <td>2.26</td>\n",
       "      <td>4.22</td>\n",
       "      <td>0.58</td>\n",
       "      <td>NaN</td>\n",
       "      <td>NaN</td>\n",
       "      <td>NaN</td>\n",
       "    </tr>\n",
       "    <tr>\n",
       "      <th>6</th>\n",
       "      <td>New Super Mario Bros.</td>\n",
       "      <td>DS</td>\n",
       "      <td>2,006.00</td>\n",
       "      <td>Platform</td>\n",
       "      <td>11.28</td>\n",
       "      <td>9.14</td>\n",
       "      <td>6.50</td>\n",
       "      <td>2.88</td>\n",
       "      <td>89.00</td>\n",
       "      <td>8.5</td>\n",
       "      <td>E</td>\n",
       "    </tr>\n",
       "    <tr>\n",
       "      <th>7</th>\n",
       "      <td>Wii Play</td>\n",
       "      <td>Wii</td>\n",
       "      <td>2,006.00</td>\n",
       "      <td>Misc</td>\n",
       "      <td>13.96</td>\n",
       "      <td>9.18</td>\n",
       "      <td>2.93</td>\n",
       "      <td>2.84</td>\n",
       "      <td>58.00</td>\n",
       "      <td>6.6</td>\n",
       "      <td>E</td>\n",
       "    </tr>\n",
       "    <tr>\n",
       "      <th>8</th>\n",
       "      <td>New Super Mario Bros. Wii</td>\n",
       "      <td>Wii</td>\n",
       "      <td>2,009.00</td>\n",
       "      <td>Platform</td>\n",
       "      <td>14.44</td>\n",
       "      <td>6.94</td>\n",
       "      <td>4.70</td>\n",
       "      <td>2.24</td>\n",
       "      <td>87.00</td>\n",
       "      <td>8.4</td>\n",
       "      <td>E</td>\n",
       "    </tr>\n",
       "    <tr>\n",
       "      <th>9</th>\n",
       "      <td>Duck Hunt</td>\n",
       "      <td>NES</td>\n",
       "      <td>1,984.00</td>\n",
       "      <td>Shooter</td>\n",
       "      <td>26.93</td>\n",
       "      <td>0.63</td>\n",
       "      <td>0.28</td>\n",
       "      <td>0.47</td>\n",
       "      <td>NaN</td>\n",
       "      <td>NaN</td>\n",
       "      <td>NaN</td>\n",
       "    </tr>\n",
       "    <tr>\n",
       "      <th>10</th>\n",
       "      <td>Nintendogs</td>\n",
       "      <td>DS</td>\n",
       "      <td>2,005.00</td>\n",
       "      <td>Simulation</td>\n",
       "      <td>9.05</td>\n",
       "      <td>10.95</td>\n",
       "      <td>1.93</td>\n",
       "      <td>2.74</td>\n",
       "      <td>NaN</td>\n",
       "      <td>NaN</td>\n",
       "      <td>NaN</td>\n",
       "    </tr>\n",
       "    <tr>\n",
       "      <th>11</th>\n",
       "      <td>Mario Kart DS</td>\n",
       "      <td>DS</td>\n",
       "      <td>2,005.00</td>\n",
       "      <td>Racing</td>\n",
       "      <td>9.71</td>\n",
       "      <td>7.47</td>\n",
       "      <td>4.13</td>\n",
       "      <td>1.90</td>\n",
       "      <td>91.00</td>\n",
       "      <td>8.6</td>\n",
       "      <td>E</td>\n",
       "    </tr>\n",
       "    <tr>\n",
       "      <th>12</th>\n",
       "      <td>Pokemon Gold/Pokemon Silver</td>\n",
       "      <td>GB</td>\n",
       "      <td>1,999.00</td>\n",
       "      <td>Role-Playing</td>\n",
       "      <td>9.00</td>\n",
       "      <td>6.18</td>\n",
       "      <td>7.20</td>\n",
       "      <td>0.71</td>\n",
       "      <td>NaN</td>\n",
       "      <td>NaN</td>\n",
       "      <td>NaN</td>\n",
       "    </tr>\n",
       "    <tr>\n",
       "      <th>13</th>\n",
       "      <td>Wii Fit</td>\n",
       "      <td>Wii</td>\n",
       "      <td>2,007.00</td>\n",
       "      <td>Sports</td>\n",
       "      <td>8.92</td>\n",
       "      <td>8.03</td>\n",
       "      <td>3.60</td>\n",
       "      <td>2.15</td>\n",
       "      <td>80.00</td>\n",
       "      <td>7.7</td>\n",
       "      <td>E</td>\n",
       "    </tr>\n",
       "    <tr>\n",
       "      <th>14</th>\n",
       "      <td>Kinect Adventures!</td>\n",
       "      <td>X360</td>\n",
       "      <td>2,010.00</td>\n",
       "      <td>Misc</td>\n",
       "      <td>15.00</td>\n",
       "      <td>4.89</td>\n",
       "      <td>0.24</td>\n",
       "      <td>1.69</td>\n",
       "      <td>61.00</td>\n",
       "      <td>6.3</td>\n",
       "      <td>E</td>\n",
       "    </tr>\n",
       "    <tr>\n",
       "      <th>15</th>\n",
       "      <td>Wii Fit Plus</td>\n",
       "      <td>Wii</td>\n",
       "      <td>2,009.00</td>\n",
       "      <td>Sports</td>\n",
       "      <td>9.01</td>\n",
       "      <td>8.49</td>\n",
       "      <td>2.53</td>\n",
       "      <td>1.77</td>\n",
       "      <td>80.00</td>\n",
       "      <td>7.4</td>\n",
       "      <td>E</td>\n",
       "    </tr>\n",
       "    <tr>\n",
       "      <th>16</th>\n",
       "      <td>Grand Theft Auto V</td>\n",
       "      <td>PS3</td>\n",
       "      <td>2,013.00</td>\n",
       "      <td>Action</td>\n",
       "      <td>7.02</td>\n",
       "      <td>9.09</td>\n",
       "      <td>0.98</td>\n",
       "      <td>3.96</td>\n",
       "      <td>97.00</td>\n",
       "      <td>8.2</td>\n",
       "      <td>M</td>\n",
       "    </tr>\n",
       "    <tr>\n",
       "      <th>17</th>\n",
       "      <td>Grand Theft Auto: San Andreas</td>\n",
       "      <td>PS2</td>\n",
       "      <td>2,004.00</td>\n",
       "      <td>Action</td>\n",
       "      <td>9.43</td>\n",
       "      <td>0.40</td>\n",
       "      <td>0.41</td>\n",
       "      <td>10.57</td>\n",
       "      <td>95.00</td>\n",
       "      <td>9</td>\n",
       "      <td>M</td>\n",
       "    </tr>\n",
       "    <tr>\n",
       "      <th>18</th>\n",
       "      <td>Super Mario World</td>\n",
       "      <td>SNES</td>\n",
       "      <td>1,990.00</td>\n",
       "      <td>Platform</td>\n",
       "      <td>12.78</td>\n",
       "      <td>3.75</td>\n",
       "      <td>3.54</td>\n",
       "      <td>0.55</td>\n",
       "      <td>NaN</td>\n",
       "      <td>NaN</td>\n",
       "      <td>NaN</td>\n",
       "    </tr>\n",
       "    <tr>\n",
       "      <th>19</th>\n",
       "      <td>Brain Age: Train Your Brain in Minutes a Day</td>\n",
       "      <td>DS</td>\n",
       "      <td>2,005.00</td>\n",
       "      <td>Misc</td>\n",
       "      <td>4.74</td>\n",
       "      <td>9.20</td>\n",
       "      <td>4.16</td>\n",
       "      <td>2.04</td>\n",
       "      <td>77.00</td>\n",
       "      <td>7.9</td>\n",
       "      <td>E</td>\n",
       "    </tr>\n",
       "  </tbody>\n",
       "</table>\n",
       "</div>"
      ],
      "text/plain": [
       "                                            Name Platform  Year_of_Release  \\\n",
       "0                                     Wii Sports      Wii         2,006.00   \n",
       "1                              Super Mario Bros.      NES         1,985.00   \n",
       "2                                 Mario Kart Wii      Wii         2,008.00   \n",
       "3                              Wii Sports Resort      Wii         2,009.00   \n",
       "4                       Pokemon Red/Pokemon Blue       GB         1,996.00   \n",
       "5                                         Tetris       GB         1,989.00   \n",
       "6                          New Super Mario Bros.       DS         2,006.00   \n",
       "7                                       Wii Play      Wii         2,006.00   \n",
       "8                      New Super Mario Bros. Wii      Wii         2,009.00   \n",
       "9                                      Duck Hunt      NES         1,984.00   \n",
       "10                                    Nintendogs       DS         2,005.00   \n",
       "11                                 Mario Kart DS       DS         2,005.00   \n",
       "12                   Pokemon Gold/Pokemon Silver       GB         1,999.00   \n",
       "13                                       Wii Fit      Wii         2,007.00   \n",
       "14                            Kinect Adventures!     X360         2,010.00   \n",
       "15                                  Wii Fit Plus      Wii         2,009.00   \n",
       "16                            Grand Theft Auto V      PS3         2,013.00   \n",
       "17                 Grand Theft Auto: San Andreas      PS2         2,004.00   \n",
       "18                             Super Mario World     SNES         1,990.00   \n",
       "19  Brain Age: Train Your Brain in Minutes a Day       DS         2,005.00   \n",
       "\n",
       "           Genre  NA_sales  EU_sales  JP_sales  Other_sales  Critic_Score  \\\n",
       "0         Sports     41.36     28.96      3.77         8.45         76.00   \n",
       "1       Platform     29.08      3.58      6.81         0.77           NaN   \n",
       "2         Racing     15.68     12.76      3.79         3.29         82.00   \n",
       "3         Sports     15.61     10.93      3.28         2.95         80.00   \n",
       "4   Role-Playing     11.27      8.89     10.22         1.00           NaN   \n",
       "5         Puzzle     23.20      2.26      4.22         0.58           NaN   \n",
       "6       Platform     11.28      9.14      6.50         2.88         89.00   \n",
       "7           Misc     13.96      9.18      2.93         2.84         58.00   \n",
       "8       Platform     14.44      6.94      4.70         2.24         87.00   \n",
       "9        Shooter     26.93      0.63      0.28         0.47           NaN   \n",
       "10    Simulation      9.05     10.95      1.93         2.74           NaN   \n",
       "11        Racing      9.71      7.47      4.13         1.90         91.00   \n",
       "12  Role-Playing      9.00      6.18      7.20         0.71           NaN   \n",
       "13        Sports      8.92      8.03      3.60         2.15         80.00   \n",
       "14          Misc     15.00      4.89      0.24         1.69         61.00   \n",
       "15        Sports      9.01      8.49      2.53         1.77         80.00   \n",
       "16        Action      7.02      9.09      0.98         3.96         97.00   \n",
       "17        Action      9.43      0.40      0.41        10.57         95.00   \n",
       "18      Platform     12.78      3.75      3.54         0.55           NaN   \n",
       "19          Misc      4.74      9.20      4.16         2.04         77.00   \n",
       "\n",
       "   User_Score Rating  \n",
       "0           8      E  \n",
       "1         NaN    NaN  \n",
       "2         8.3      E  \n",
       "3           8      E  \n",
       "4         NaN    NaN  \n",
       "5         NaN    NaN  \n",
       "6         8.5      E  \n",
       "7         6.6      E  \n",
       "8         8.4      E  \n",
       "9         NaN    NaN  \n",
       "10        NaN    NaN  \n",
       "11        8.6      E  \n",
       "12        NaN    NaN  \n",
       "13        7.7      E  \n",
       "14        6.3      E  \n",
       "15        7.4      E  \n",
       "16        8.2      M  \n",
       "17          9      M  \n",
       "18        NaN    NaN  \n",
       "19        7.9      E  "
      ]
     },
     "execution_count": 19,
     "metadata": {},
     "output_type": "execute_result"
    }
   ],
   "source": [
    "games = pd.read_csv('/datasets/games.csv')\n",
    "games.head(20)"
   ]
  },
  {
   "cell_type": "code",
   "execution_count": 20,
   "metadata": {},
   "outputs": [
    {
     "name": "stdout",
     "output_type": "stream",
     "text": [
      "<class 'pandas.core.frame.DataFrame'>\n",
      "RangeIndex: 16715 entries, 0 to 16714\n",
      "Data columns (total 11 columns):\n",
      " #   Column           Non-Null Count  Dtype  \n",
      "---  ------           --------------  -----  \n",
      " 0   Name             16713 non-null  object \n",
      " 1   Platform         16715 non-null  object \n",
      " 2   Year_of_Release  16446 non-null  float64\n",
      " 3   Genre            16713 non-null  object \n",
      " 4   NA_sales         16715 non-null  float64\n",
      " 5   EU_sales         16715 non-null  float64\n",
      " 6   JP_sales         16715 non-null  float64\n",
      " 7   Other_sales      16715 non-null  float64\n",
      " 8   Critic_Score     8137 non-null   float64\n",
      " 9   User_Score       10014 non-null  object \n",
      " 10  Rating           9949 non-null   object \n",
      "dtypes: float64(6), object(5)\n",
      "memory usage: 1.4+ MB\n"
     ]
    }
   ],
   "source": [
    "games.info()"
   ]
  },
  {
   "cell_type": "markdown",
   "metadata": {},
   "source": [
    "На остновании первичного анализа - необходимо привести заголовки столбцов к нижнему регистру, преобразовать данные в нужные типы, также провести работу с пропусками"
   ]
  },
  {
   "cell_type": "code",
   "execution_count": 13,
   "metadata": {},
   "outputs": [
    {
     "data": {
      "text/html": [
       "<div>\n",
       "<style scoped>\n",
       "    .dataframe tbody tr th:only-of-type {\n",
       "        vertical-align: middle;\n",
       "    }\n",
       "\n",
       "    .dataframe tbody tr th {\n",
       "        vertical-align: top;\n",
       "    }\n",
       "\n",
       "    .dataframe thead th {\n",
       "        text-align: right;\n",
       "    }\n",
       "</style>\n",
       "<table border=\"1\" class=\"dataframe\">\n",
       "  <thead>\n",
       "    <tr style=\"text-align: right;\">\n",
       "      <th></th>\n",
       "      <th>count</th>\n",
       "      <th>mean</th>\n",
       "      <th>std</th>\n",
       "      <th>min</th>\n",
       "      <th>25%</th>\n",
       "      <th>50%</th>\n",
       "      <th>75%</th>\n",
       "      <th>max</th>\n",
       "    </tr>\n",
       "  </thead>\n",
       "  <tbody>\n",
       "    <tr>\n",
       "      <th>Year_of_Release</th>\n",
       "      <td>16,446.00</td>\n",
       "      <td>2,006.48</td>\n",
       "      <td>5.88</td>\n",
       "      <td>1,980.00</td>\n",
       "      <td>2,003.00</td>\n",
       "      <td>2,007.00</td>\n",
       "      <td>2,010.00</td>\n",
       "      <td>2,016.00</td>\n",
       "    </tr>\n",
       "    <tr>\n",
       "      <th>NA_sales</th>\n",
       "      <td>16,715.00</td>\n",
       "      <td>0.26</td>\n",
       "      <td>0.81</td>\n",
       "      <td>0.00</td>\n",
       "      <td>0.00</td>\n",
       "      <td>0.08</td>\n",
       "      <td>0.24</td>\n",
       "      <td>41.36</td>\n",
       "    </tr>\n",
       "    <tr>\n",
       "      <th>EU_sales</th>\n",
       "      <td>16,715.00</td>\n",
       "      <td>0.15</td>\n",
       "      <td>0.50</td>\n",
       "      <td>0.00</td>\n",
       "      <td>0.00</td>\n",
       "      <td>0.02</td>\n",
       "      <td>0.11</td>\n",
       "      <td>28.96</td>\n",
       "    </tr>\n",
       "    <tr>\n",
       "      <th>JP_sales</th>\n",
       "      <td>16,715.00</td>\n",
       "      <td>0.08</td>\n",
       "      <td>0.31</td>\n",
       "      <td>0.00</td>\n",
       "      <td>0.00</td>\n",
       "      <td>0.00</td>\n",
       "      <td>0.04</td>\n",
       "      <td>10.22</td>\n",
       "    </tr>\n",
       "    <tr>\n",
       "      <th>Other_sales</th>\n",
       "      <td>16,715.00</td>\n",
       "      <td>0.05</td>\n",
       "      <td>0.19</td>\n",
       "      <td>0.00</td>\n",
       "      <td>0.00</td>\n",
       "      <td>0.01</td>\n",
       "      <td>0.03</td>\n",
       "      <td>10.57</td>\n",
       "    </tr>\n",
       "    <tr>\n",
       "      <th>Critic_Score</th>\n",
       "      <td>8,137.00</td>\n",
       "      <td>68.97</td>\n",
       "      <td>13.94</td>\n",
       "      <td>13.00</td>\n",
       "      <td>60.00</td>\n",
       "      <td>71.00</td>\n",
       "      <td>79.00</td>\n",
       "      <td>98.00</td>\n",
       "    </tr>\n",
       "  </tbody>\n",
       "</table>\n",
       "</div>"
      ],
      "text/plain": [
       "                    count     mean   std      min      25%      50%      75%  \\\n",
       "Year_of_Release 16,446.00 2,006.48  5.88 1,980.00 2,003.00 2,007.00 2,010.00   \n",
       "NA_sales        16,715.00     0.26  0.81     0.00     0.00     0.08     0.24   \n",
       "EU_sales        16,715.00     0.15  0.50     0.00     0.00     0.02     0.11   \n",
       "JP_sales        16,715.00     0.08  0.31     0.00     0.00     0.00     0.04   \n",
       "Other_sales     16,715.00     0.05  0.19     0.00     0.00     0.01     0.03   \n",
       "Critic_Score     8,137.00    68.97 13.94    13.00    60.00    71.00    79.00   \n",
       "\n",
       "                     max  \n",
       "Year_of_Release 2,016.00  \n",
       "NA_sales           41.36  \n",
       "EU_sales           28.96  \n",
       "JP_sales           10.22  \n",
       "Other_sales        10.57  \n",
       "Critic_Score       98.00  "
      ]
     },
     "execution_count": 13,
     "metadata": {},
     "output_type": "execute_result"
    }
   ],
   "source": [
    "games.describe().T"
   ]
  },
  {
   "cell_type": "markdown",
   "metadata": {},
   "source": [
    "# 2. Подготовка данных"
   ]
  },
  {
   "cell_type": "markdown",
   "metadata": {},
   "source": [
    "Приведем наименование столбцов к нижнему регистру"
   ]
  },
  {
   "cell_type": "code",
   "execution_count": 14,
   "metadata": {},
   "outputs": [],
   "source": [
    "games.columns = games.columns.str.lower()"
   ]
  },
  {
   "cell_type": "markdown",
   "metadata": {},
   "source": [
    "Проверим результат"
   ]
  },
  {
   "cell_type": "code",
   "execution_count": 15,
   "metadata": {},
   "outputs": [
    {
     "data": {
      "text/plain": [
       "['name',\n",
       " 'platform',\n",
       " 'year_of_release',\n",
       " 'genre',\n",
       " 'na_sales',\n",
       " 'eu_sales',\n",
       " 'jp_sales',\n",
       " 'other_sales',\n",
       " 'critic_score',\n",
       " 'user_score',\n",
       " 'rating']"
      ]
     },
     "execution_count": 15,
     "metadata": {},
     "output_type": "execute_result"
    }
   ],
   "source": [
    "games.columns.tolist()"
   ]
  },
  {
   "cell_type": "markdown",
   "metadata": {},
   "source": [
    "Из информации о файле с данными видим, что необходимо преобразовать тип данных в стобцах \"Year_of_Release\" и \"User_Score\""
   ]
  },
  {
   "cell_type": "code",
   "execution_count": 16,
   "metadata": {},
   "outputs": [
    {
     "data": {
      "text/html": [
       "<div>\n",
       "<style scoped>\n",
       "    .dataframe tbody tr th:only-of-type {\n",
       "        vertical-align: middle;\n",
       "    }\n",
       "\n",
       "    .dataframe tbody tr th {\n",
       "        vertical-align: top;\n",
       "    }\n",
       "\n",
       "    .dataframe thead th {\n",
       "        text-align: right;\n",
       "    }\n",
       "</style>\n",
       "<table border=\"1\" class=\"dataframe\">\n",
       "  <thead>\n",
       "    <tr style=\"text-align: right;\">\n",
       "      <th></th>\n",
       "      <th>name</th>\n",
       "      <th>platform</th>\n",
       "      <th>year_of_release</th>\n",
       "      <th>genre</th>\n",
       "      <th>na_sales</th>\n",
       "      <th>eu_sales</th>\n",
       "      <th>jp_sales</th>\n",
       "      <th>other_sales</th>\n",
       "      <th>critic_score</th>\n",
       "      <th>user_score</th>\n",
       "      <th>rating</th>\n",
       "    </tr>\n",
       "  </thead>\n",
       "  <tbody>\n",
       "    <tr>\n",
       "      <th>0</th>\n",
       "      <td>Wii Sports</td>\n",
       "      <td>Wii</td>\n",
       "      <td>2006</td>\n",
       "      <td>Sports</td>\n",
       "      <td>41.36</td>\n",
       "      <td>28.96</td>\n",
       "      <td>3.77</td>\n",
       "      <td>8.45</td>\n",
       "      <td>76.00</td>\n",
       "      <td>8</td>\n",
       "      <td>E</td>\n",
       "    </tr>\n",
       "    <tr>\n",
       "      <th>1</th>\n",
       "      <td>Super Mario Bros.</td>\n",
       "      <td>NES</td>\n",
       "      <td>1985</td>\n",
       "      <td>Platform</td>\n",
       "      <td>29.08</td>\n",
       "      <td>3.58</td>\n",
       "      <td>6.81</td>\n",
       "      <td>0.77</td>\n",
       "      <td>NaN</td>\n",
       "      <td>NaN</td>\n",
       "      <td>NaN</td>\n",
       "    </tr>\n",
       "    <tr>\n",
       "      <th>2</th>\n",
       "      <td>Mario Kart Wii</td>\n",
       "      <td>Wii</td>\n",
       "      <td>2008</td>\n",
       "      <td>Racing</td>\n",
       "      <td>15.68</td>\n",
       "      <td>12.76</td>\n",
       "      <td>3.79</td>\n",
       "      <td>3.29</td>\n",
       "      <td>82.00</td>\n",
       "      <td>8.3</td>\n",
       "      <td>E</td>\n",
       "    </tr>\n",
       "    <tr>\n",
       "      <th>3</th>\n",
       "      <td>Wii Sports Resort</td>\n",
       "      <td>Wii</td>\n",
       "      <td>2009</td>\n",
       "      <td>Sports</td>\n",
       "      <td>15.61</td>\n",
       "      <td>10.93</td>\n",
       "      <td>3.28</td>\n",
       "      <td>2.95</td>\n",
       "      <td>80.00</td>\n",
       "      <td>8</td>\n",
       "      <td>E</td>\n",
       "    </tr>\n",
       "    <tr>\n",
       "      <th>4</th>\n",
       "      <td>Pokemon Red/Pokemon Blue</td>\n",
       "      <td>GB</td>\n",
       "      <td>1996</td>\n",
       "      <td>Role-Playing</td>\n",
       "      <td>11.27</td>\n",
       "      <td>8.89</td>\n",
       "      <td>10.22</td>\n",
       "      <td>1.00</td>\n",
       "      <td>NaN</td>\n",
       "      <td>NaN</td>\n",
       "      <td>NaN</td>\n",
       "    </tr>\n",
       "    <tr>\n",
       "      <th>5</th>\n",
       "      <td>Tetris</td>\n",
       "      <td>GB</td>\n",
       "      <td>1989</td>\n",
       "      <td>Puzzle</td>\n",
       "      <td>23.20</td>\n",
       "      <td>2.26</td>\n",
       "      <td>4.22</td>\n",
       "      <td>0.58</td>\n",
       "      <td>NaN</td>\n",
       "      <td>NaN</td>\n",
       "      <td>NaN</td>\n",
       "    </tr>\n",
       "    <tr>\n",
       "      <th>6</th>\n",
       "      <td>New Super Mario Bros.</td>\n",
       "      <td>DS</td>\n",
       "      <td>2006</td>\n",
       "      <td>Platform</td>\n",
       "      <td>11.28</td>\n",
       "      <td>9.14</td>\n",
       "      <td>6.50</td>\n",
       "      <td>2.88</td>\n",
       "      <td>89.00</td>\n",
       "      <td>8.5</td>\n",
       "      <td>E</td>\n",
       "    </tr>\n",
       "    <tr>\n",
       "      <th>7</th>\n",
       "      <td>Wii Play</td>\n",
       "      <td>Wii</td>\n",
       "      <td>2006</td>\n",
       "      <td>Misc</td>\n",
       "      <td>13.96</td>\n",
       "      <td>9.18</td>\n",
       "      <td>2.93</td>\n",
       "      <td>2.84</td>\n",
       "      <td>58.00</td>\n",
       "      <td>6.6</td>\n",
       "      <td>E</td>\n",
       "    </tr>\n",
       "    <tr>\n",
       "      <th>8</th>\n",
       "      <td>New Super Mario Bros. Wii</td>\n",
       "      <td>Wii</td>\n",
       "      <td>2009</td>\n",
       "      <td>Platform</td>\n",
       "      <td>14.44</td>\n",
       "      <td>6.94</td>\n",
       "      <td>4.70</td>\n",
       "      <td>2.24</td>\n",
       "      <td>87.00</td>\n",
       "      <td>8.4</td>\n",
       "      <td>E</td>\n",
       "    </tr>\n",
       "    <tr>\n",
       "      <th>9</th>\n",
       "      <td>Duck Hunt</td>\n",
       "      <td>NES</td>\n",
       "      <td>1984</td>\n",
       "      <td>Shooter</td>\n",
       "      <td>26.93</td>\n",
       "      <td>0.63</td>\n",
       "      <td>0.28</td>\n",
       "      <td>0.47</td>\n",
       "      <td>NaN</td>\n",
       "      <td>NaN</td>\n",
       "      <td>NaN</td>\n",
       "    </tr>\n",
       "    <tr>\n",
       "      <th>10</th>\n",
       "      <td>Nintendogs</td>\n",
       "      <td>DS</td>\n",
       "      <td>2005</td>\n",
       "      <td>Simulation</td>\n",
       "      <td>9.05</td>\n",
       "      <td>10.95</td>\n",
       "      <td>1.93</td>\n",
       "      <td>2.74</td>\n",
       "      <td>NaN</td>\n",
       "      <td>NaN</td>\n",
       "      <td>NaN</td>\n",
       "    </tr>\n",
       "    <tr>\n",
       "      <th>11</th>\n",
       "      <td>Mario Kart DS</td>\n",
       "      <td>DS</td>\n",
       "      <td>2005</td>\n",
       "      <td>Racing</td>\n",
       "      <td>9.71</td>\n",
       "      <td>7.47</td>\n",
       "      <td>4.13</td>\n",
       "      <td>1.90</td>\n",
       "      <td>91.00</td>\n",
       "      <td>8.6</td>\n",
       "      <td>E</td>\n",
       "    </tr>\n",
       "    <tr>\n",
       "      <th>12</th>\n",
       "      <td>Pokemon Gold/Pokemon Silver</td>\n",
       "      <td>GB</td>\n",
       "      <td>1999</td>\n",
       "      <td>Role-Playing</td>\n",
       "      <td>9.00</td>\n",
       "      <td>6.18</td>\n",
       "      <td>7.20</td>\n",
       "      <td>0.71</td>\n",
       "      <td>NaN</td>\n",
       "      <td>NaN</td>\n",
       "      <td>NaN</td>\n",
       "    </tr>\n",
       "    <tr>\n",
       "      <th>13</th>\n",
       "      <td>Wii Fit</td>\n",
       "      <td>Wii</td>\n",
       "      <td>2007</td>\n",
       "      <td>Sports</td>\n",
       "      <td>8.92</td>\n",
       "      <td>8.03</td>\n",
       "      <td>3.60</td>\n",
       "      <td>2.15</td>\n",
       "      <td>80.00</td>\n",
       "      <td>7.7</td>\n",
       "      <td>E</td>\n",
       "    </tr>\n",
       "    <tr>\n",
       "      <th>14</th>\n",
       "      <td>Kinect Adventures!</td>\n",
       "      <td>X360</td>\n",
       "      <td>2010</td>\n",
       "      <td>Misc</td>\n",
       "      <td>15.00</td>\n",
       "      <td>4.89</td>\n",
       "      <td>0.24</td>\n",
       "      <td>1.69</td>\n",
       "      <td>61.00</td>\n",
       "      <td>6.3</td>\n",
       "      <td>E</td>\n",
       "    </tr>\n",
       "    <tr>\n",
       "      <th>15</th>\n",
       "      <td>Wii Fit Plus</td>\n",
       "      <td>Wii</td>\n",
       "      <td>2009</td>\n",
       "      <td>Sports</td>\n",
       "      <td>9.01</td>\n",
       "      <td>8.49</td>\n",
       "      <td>2.53</td>\n",
       "      <td>1.77</td>\n",
       "      <td>80.00</td>\n",
       "      <td>7.4</td>\n",
       "      <td>E</td>\n",
       "    </tr>\n",
       "    <tr>\n",
       "      <th>16</th>\n",
       "      <td>Grand Theft Auto V</td>\n",
       "      <td>PS3</td>\n",
       "      <td>2013</td>\n",
       "      <td>Action</td>\n",
       "      <td>7.02</td>\n",
       "      <td>9.09</td>\n",
       "      <td>0.98</td>\n",
       "      <td>3.96</td>\n",
       "      <td>97.00</td>\n",
       "      <td>8.2</td>\n",
       "      <td>M</td>\n",
       "    </tr>\n",
       "    <tr>\n",
       "      <th>17</th>\n",
       "      <td>Grand Theft Auto: San Andreas</td>\n",
       "      <td>PS2</td>\n",
       "      <td>2004</td>\n",
       "      <td>Action</td>\n",
       "      <td>9.43</td>\n",
       "      <td>0.40</td>\n",
       "      <td>0.41</td>\n",
       "      <td>10.57</td>\n",
       "      <td>95.00</td>\n",
       "      <td>9</td>\n",
       "      <td>M</td>\n",
       "    </tr>\n",
       "    <tr>\n",
       "      <th>18</th>\n",
       "      <td>Super Mario World</td>\n",
       "      <td>SNES</td>\n",
       "      <td>1990</td>\n",
       "      <td>Platform</td>\n",
       "      <td>12.78</td>\n",
       "      <td>3.75</td>\n",
       "      <td>3.54</td>\n",
       "      <td>0.55</td>\n",
       "      <td>NaN</td>\n",
       "      <td>NaN</td>\n",
       "      <td>NaN</td>\n",
       "    </tr>\n",
       "    <tr>\n",
       "      <th>19</th>\n",
       "      <td>Brain Age: Train Your Brain in Minutes a Day</td>\n",
       "      <td>DS</td>\n",
       "      <td>2005</td>\n",
       "      <td>Misc</td>\n",
       "      <td>4.74</td>\n",
       "      <td>9.20</td>\n",
       "      <td>4.16</td>\n",
       "      <td>2.04</td>\n",
       "      <td>77.00</td>\n",
       "      <td>7.9</td>\n",
       "      <td>E</td>\n",
       "    </tr>\n",
       "  </tbody>\n",
       "</table>\n",
       "</div>"
      ],
      "text/plain": [
       "                                            name platform  year_of_release  \\\n",
       "0                                     Wii Sports      Wii             2006   \n",
       "1                              Super Mario Bros.      NES             1985   \n",
       "2                                 Mario Kart Wii      Wii             2008   \n",
       "3                              Wii Sports Resort      Wii             2009   \n",
       "4                       Pokemon Red/Pokemon Blue       GB             1996   \n",
       "5                                         Tetris       GB             1989   \n",
       "6                          New Super Mario Bros.       DS             2006   \n",
       "7                                       Wii Play      Wii             2006   \n",
       "8                      New Super Mario Bros. Wii      Wii             2009   \n",
       "9                                      Duck Hunt      NES             1984   \n",
       "10                                    Nintendogs       DS             2005   \n",
       "11                                 Mario Kart DS       DS             2005   \n",
       "12                   Pokemon Gold/Pokemon Silver       GB             1999   \n",
       "13                                       Wii Fit      Wii             2007   \n",
       "14                            Kinect Adventures!     X360             2010   \n",
       "15                                  Wii Fit Plus      Wii             2009   \n",
       "16                            Grand Theft Auto V      PS3             2013   \n",
       "17                 Grand Theft Auto: San Andreas      PS2             2004   \n",
       "18                             Super Mario World     SNES             1990   \n",
       "19  Brain Age: Train Your Brain in Minutes a Day       DS             2005   \n",
       "\n",
       "           genre  na_sales  eu_sales  jp_sales  other_sales  critic_score  \\\n",
       "0         Sports     41.36     28.96      3.77         8.45         76.00   \n",
       "1       Platform     29.08      3.58      6.81         0.77           NaN   \n",
       "2         Racing     15.68     12.76      3.79         3.29         82.00   \n",
       "3         Sports     15.61     10.93      3.28         2.95         80.00   \n",
       "4   Role-Playing     11.27      8.89     10.22         1.00           NaN   \n",
       "5         Puzzle     23.20      2.26      4.22         0.58           NaN   \n",
       "6       Platform     11.28      9.14      6.50         2.88         89.00   \n",
       "7           Misc     13.96      9.18      2.93         2.84         58.00   \n",
       "8       Platform     14.44      6.94      4.70         2.24         87.00   \n",
       "9        Shooter     26.93      0.63      0.28         0.47           NaN   \n",
       "10    Simulation      9.05     10.95      1.93         2.74           NaN   \n",
       "11        Racing      9.71      7.47      4.13         1.90         91.00   \n",
       "12  Role-Playing      9.00      6.18      7.20         0.71           NaN   \n",
       "13        Sports      8.92      8.03      3.60         2.15         80.00   \n",
       "14          Misc     15.00      4.89      0.24         1.69         61.00   \n",
       "15        Sports      9.01      8.49      2.53         1.77         80.00   \n",
       "16        Action      7.02      9.09      0.98         3.96         97.00   \n",
       "17        Action      9.43      0.40      0.41        10.57         95.00   \n",
       "18      Platform     12.78      3.75      3.54         0.55           NaN   \n",
       "19          Misc      4.74      9.20      4.16         2.04         77.00   \n",
       "\n",
       "   user_score rating  \n",
       "0           8      E  \n",
       "1         NaN    NaN  \n",
       "2         8.3      E  \n",
       "3           8      E  \n",
       "4         NaN    NaN  \n",
       "5         NaN    NaN  \n",
       "6         8.5      E  \n",
       "7         6.6      E  \n",
       "8         8.4      E  \n",
       "9         NaN    NaN  \n",
       "10        NaN    NaN  \n",
       "11        8.6      E  \n",
       "12        NaN    NaN  \n",
       "13        7.7      E  \n",
       "14        6.3      E  \n",
       "15        7.4      E  \n",
       "16        8.2      M  \n",
       "17          9      M  \n",
       "18        NaN    NaN  \n",
       "19        7.9      E  "
      ]
     },
     "execution_count": 16,
     "metadata": {},
     "output_type": "execute_result"
    }
   ],
   "source": [
    "games.drop(games[games['year_of_release'].isnull()].index, inplace=True)\n",
    "games['year_of_release'] = games['year_of_release'].astype('int')\n",
    "games['year_of_release'] = pd.to_datetime(games['year_of_release'], format='%Y').dt.year\n",
    "games.head(20)"
   ]
  },
  {
   "cell_type": "markdown",
   "metadata": {},
   "source": [
    "Так же удалили строки где имелись пропуски в столбце \"year_of_release\", т.к. их небольшое количество, и потеря этих данных не привед к икажению картины"
   ]
  },
  {
   "cell_type": "code",
   "execution_count": 17,
   "metadata": {},
   "outputs": [
    {
     "data": {
      "text/plain": [
       "array(['8', nan, '8.3', '8.5', '6.6', '8.4', '8.6', '7.7', '6.3', '7.4',\n",
       "       '8.2', '9', '7.9', '8.1', '8.7', '7.1', '3.4', '5.3', '4.8', '3.2',\n",
       "       '8.9', '6.4', '7.8', '7.5', '2.6', '7.2', '9.2', '7', '7.3', '4.3',\n",
       "       '7.6', '5.7', '5', '9.1', '6.5', 'tbd', '8.8', '6.9', '9.4', '6.8',\n",
       "       '6.1', '6.7', '5.4', '4', '4.9', '4.5', '9.3', '6.2', '4.2', '6',\n",
       "       '3.7', '4.1', '5.8', '5.6', '5.5', '4.4', '4.6', '5.9', '3.9',\n",
       "       '3.1', '2.9', '5.2', '3.3', '4.7', '5.1', '3.5', '2.5', '1.9', '3',\n",
       "       '2.7', '2.2', '2', '9.5', '2.1', '3.6', '2.8', '1.8', '3.8', '0',\n",
       "       '1.6', '9.6', '2.4', '1.7', '1.1', '0.3', '1.5', '0.7', '1.2',\n",
       "       '2.3', '0.5', '1.3', '0.2', '0.6', '1.4', '0.9', '1', '9.7'],\n",
       "      dtype=object)"
      ]
     },
     "execution_count": 17,
     "metadata": {},
     "output_type": "execute_result"
    }
   ],
   "source": [
    "games['user_score'].unique()"
   ]
  },
  {
   "cell_type": "code",
   "execution_count": 18,
   "metadata": {},
   "outputs": [],
   "source": [
    "games.loc[games['user_score'] == 'tbd','user_score'] = np.nan\n",
    "games['user_score'] = games['user_score'].astype('float')"
   ]
  },
  {
   "cell_type": "markdown",
   "metadata": {},
   "source": [
    "TBD служит для отметки неясностей или пропусков, которые надо заполнить."
   ]
  },
  {
   "cell_type": "code",
   "execution_count": 19,
   "metadata": {},
   "outputs": [
    {
     "name": "stdout",
     "output_type": "stream",
     "text": [
      "<class 'pandas.core.frame.DataFrame'>\n",
      "Int64Index: 16446 entries, 0 to 16714\n",
      "Data columns (total 11 columns):\n",
      " #   Column           Non-Null Count  Dtype  \n",
      "---  ------           --------------  -----  \n",
      " 0   name             16444 non-null  object \n",
      " 1   platform         16446 non-null  object \n",
      " 2   year_of_release  16446 non-null  int64  \n",
      " 3   genre            16444 non-null  object \n",
      " 4   na_sales         16446 non-null  float64\n",
      " 5   eu_sales         16446 non-null  float64\n",
      " 6   jp_sales         16446 non-null  float64\n",
      " 7   other_sales      16446 non-null  float64\n",
      " 8   critic_score     7983 non-null   float64\n",
      " 9   user_score       7463 non-null   float64\n",
      " 10  rating           9768 non-null   object \n",
      "dtypes: float64(6), int64(1), object(4)\n",
      "memory usage: 1.5+ MB\n"
     ]
    }
   ],
   "source": [
    "games.info()"
   ]
  },
  {
   "cell_type": "markdown",
   "metadata": {},
   "source": [
    "Обработка пропусков"
   ]
  },
  {
   "cell_type": "code",
   "execution_count": 20,
   "metadata": {},
   "outputs": [
    {
     "name": "stdout",
     "output_type": "stream",
     "text": [
      "name              0.00\n",
      "platform          0.00\n",
      "year_of_release   0.00\n",
      "genre             0.00\n",
      "na_sales          0.00\n",
      "eu_sales          0.00\n",
      "jp_sales          0.00\n",
      "other_sales       0.00\n",
      "critic_score      0.51\n",
      "user_score        0.55\n",
      "rating            0.41\n",
      "dtype: float64\n"
     ]
    }
   ],
   "source": [
    "print(games.isna().mean())"
   ]
  },
  {
   "cell_type": "markdown",
   "metadata": {},
   "source": [
    "Видим, что пропуски остались в столбцах \"critic_score\", \"user_score\" и \"rating\". В столбцах с оценкой заменять пропуски (например средней величиной) считаю не коррктно, все таки это субъективное мнение, поэтому оставим их. А вот пропуски в колонке рейтинг заполним фразой \"no rating\", возможно каким то играм рейтинг не присваивается, например для данных игр не возрастных ограничений"
   ]
  },
  {
   "cell_type": "code",
   "execution_count": 21,
   "metadata": {},
   "outputs": [
    {
     "data": {
      "text/html": [
       "<div>\n",
       "<style scoped>\n",
       "    .dataframe tbody tr th:only-of-type {\n",
       "        vertical-align: middle;\n",
       "    }\n",
       "\n",
       "    .dataframe tbody tr th {\n",
       "        vertical-align: top;\n",
       "    }\n",
       "\n",
       "    .dataframe thead th {\n",
       "        text-align: right;\n",
       "    }\n",
       "</style>\n",
       "<table border=\"1\" class=\"dataframe\">\n",
       "  <thead>\n",
       "    <tr style=\"text-align: right;\">\n",
       "      <th></th>\n",
       "      <th>name</th>\n",
       "      <th>platform</th>\n",
       "      <th>year_of_release</th>\n",
       "      <th>genre</th>\n",
       "      <th>na_sales</th>\n",
       "      <th>eu_sales</th>\n",
       "      <th>jp_sales</th>\n",
       "      <th>other_sales</th>\n",
       "      <th>critic_score</th>\n",
       "      <th>user_score</th>\n",
       "      <th>rating</th>\n",
       "    </tr>\n",
       "  </thead>\n",
       "  <tbody>\n",
       "    <tr>\n",
       "      <th>0</th>\n",
       "      <td>Wii Sports</td>\n",
       "      <td>Wii</td>\n",
       "      <td>2006</td>\n",
       "      <td>Sports</td>\n",
       "      <td>41.36</td>\n",
       "      <td>28.96</td>\n",
       "      <td>3.77</td>\n",
       "      <td>8.45</td>\n",
       "      <td>76.00</td>\n",
       "      <td>8.00</td>\n",
       "      <td>E</td>\n",
       "    </tr>\n",
       "    <tr>\n",
       "      <th>1</th>\n",
       "      <td>Super Mario Bros.</td>\n",
       "      <td>NES</td>\n",
       "      <td>1985</td>\n",
       "      <td>Platform</td>\n",
       "      <td>29.08</td>\n",
       "      <td>3.58</td>\n",
       "      <td>6.81</td>\n",
       "      <td>0.77</td>\n",
       "      <td>NaN</td>\n",
       "      <td>NaN</td>\n",
       "      <td>no rating</td>\n",
       "    </tr>\n",
       "    <tr>\n",
       "      <th>2</th>\n",
       "      <td>Mario Kart Wii</td>\n",
       "      <td>Wii</td>\n",
       "      <td>2008</td>\n",
       "      <td>Racing</td>\n",
       "      <td>15.68</td>\n",
       "      <td>12.76</td>\n",
       "      <td>3.79</td>\n",
       "      <td>3.29</td>\n",
       "      <td>82.00</td>\n",
       "      <td>8.30</td>\n",
       "      <td>E</td>\n",
       "    </tr>\n",
       "    <tr>\n",
       "      <th>3</th>\n",
       "      <td>Wii Sports Resort</td>\n",
       "      <td>Wii</td>\n",
       "      <td>2009</td>\n",
       "      <td>Sports</td>\n",
       "      <td>15.61</td>\n",
       "      <td>10.93</td>\n",
       "      <td>3.28</td>\n",
       "      <td>2.95</td>\n",
       "      <td>80.00</td>\n",
       "      <td>8.00</td>\n",
       "      <td>E</td>\n",
       "    </tr>\n",
       "    <tr>\n",
       "      <th>4</th>\n",
       "      <td>Pokemon Red/Pokemon Blue</td>\n",
       "      <td>GB</td>\n",
       "      <td>1996</td>\n",
       "      <td>Role-Playing</td>\n",
       "      <td>11.27</td>\n",
       "      <td>8.89</td>\n",
       "      <td>10.22</td>\n",
       "      <td>1.00</td>\n",
       "      <td>NaN</td>\n",
       "      <td>NaN</td>\n",
       "      <td>no rating</td>\n",
       "    </tr>\n",
       "    <tr>\n",
       "      <th>5</th>\n",
       "      <td>Tetris</td>\n",
       "      <td>GB</td>\n",
       "      <td>1989</td>\n",
       "      <td>Puzzle</td>\n",
       "      <td>23.20</td>\n",
       "      <td>2.26</td>\n",
       "      <td>4.22</td>\n",
       "      <td>0.58</td>\n",
       "      <td>NaN</td>\n",
       "      <td>NaN</td>\n",
       "      <td>no rating</td>\n",
       "    </tr>\n",
       "    <tr>\n",
       "      <th>6</th>\n",
       "      <td>New Super Mario Bros.</td>\n",
       "      <td>DS</td>\n",
       "      <td>2006</td>\n",
       "      <td>Platform</td>\n",
       "      <td>11.28</td>\n",
       "      <td>9.14</td>\n",
       "      <td>6.50</td>\n",
       "      <td>2.88</td>\n",
       "      <td>89.00</td>\n",
       "      <td>8.50</td>\n",
       "      <td>E</td>\n",
       "    </tr>\n",
       "    <tr>\n",
       "      <th>7</th>\n",
       "      <td>Wii Play</td>\n",
       "      <td>Wii</td>\n",
       "      <td>2006</td>\n",
       "      <td>Misc</td>\n",
       "      <td>13.96</td>\n",
       "      <td>9.18</td>\n",
       "      <td>2.93</td>\n",
       "      <td>2.84</td>\n",
       "      <td>58.00</td>\n",
       "      <td>6.60</td>\n",
       "      <td>E</td>\n",
       "    </tr>\n",
       "    <tr>\n",
       "      <th>8</th>\n",
       "      <td>New Super Mario Bros. Wii</td>\n",
       "      <td>Wii</td>\n",
       "      <td>2009</td>\n",
       "      <td>Platform</td>\n",
       "      <td>14.44</td>\n",
       "      <td>6.94</td>\n",
       "      <td>4.70</td>\n",
       "      <td>2.24</td>\n",
       "      <td>87.00</td>\n",
       "      <td>8.40</td>\n",
       "      <td>E</td>\n",
       "    </tr>\n",
       "    <tr>\n",
       "      <th>9</th>\n",
       "      <td>Duck Hunt</td>\n",
       "      <td>NES</td>\n",
       "      <td>1984</td>\n",
       "      <td>Shooter</td>\n",
       "      <td>26.93</td>\n",
       "      <td>0.63</td>\n",
       "      <td>0.28</td>\n",
       "      <td>0.47</td>\n",
       "      <td>NaN</td>\n",
       "      <td>NaN</td>\n",
       "      <td>no rating</td>\n",
       "    </tr>\n",
       "    <tr>\n",
       "      <th>10</th>\n",
       "      <td>Nintendogs</td>\n",
       "      <td>DS</td>\n",
       "      <td>2005</td>\n",
       "      <td>Simulation</td>\n",
       "      <td>9.05</td>\n",
       "      <td>10.95</td>\n",
       "      <td>1.93</td>\n",
       "      <td>2.74</td>\n",
       "      <td>NaN</td>\n",
       "      <td>NaN</td>\n",
       "      <td>no rating</td>\n",
       "    </tr>\n",
       "    <tr>\n",
       "      <th>11</th>\n",
       "      <td>Mario Kart DS</td>\n",
       "      <td>DS</td>\n",
       "      <td>2005</td>\n",
       "      <td>Racing</td>\n",
       "      <td>9.71</td>\n",
       "      <td>7.47</td>\n",
       "      <td>4.13</td>\n",
       "      <td>1.90</td>\n",
       "      <td>91.00</td>\n",
       "      <td>8.60</td>\n",
       "      <td>E</td>\n",
       "    </tr>\n",
       "    <tr>\n",
       "      <th>12</th>\n",
       "      <td>Pokemon Gold/Pokemon Silver</td>\n",
       "      <td>GB</td>\n",
       "      <td>1999</td>\n",
       "      <td>Role-Playing</td>\n",
       "      <td>9.00</td>\n",
       "      <td>6.18</td>\n",
       "      <td>7.20</td>\n",
       "      <td>0.71</td>\n",
       "      <td>NaN</td>\n",
       "      <td>NaN</td>\n",
       "      <td>no rating</td>\n",
       "    </tr>\n",
       "    <tr>\n",
       "      <th>13</th>\n",
       "      <td>Wii Fit</td>\n",
       "      <td>Wii</td>\n",
       "      <td>2007</td>\n",
       "      <td>Sports</td>\n",
       "      <td>8.92</td>\n",
       "      <td>8.03</td>\n",
       "      <td>3.60</td>\n",
       "      <td>2.15</td>\n",
       "      <td>80.00</td>\n",
       "      <td>7.70</td>\n",
       "      <td>E</td>\n",
       "    </tr>\n",
       "    <tr>\n",
       "      <th>14</th>\n",
       "      <td>Kinect Adventures!</td>\n",
       "      <td>X360</td>\n",
       "      <td>2010</td>\n",
       "      <td>Misc</td>\n",
       "      <td>15.00</td>\n",
       "      <td>4.89</td>\n",
       "      <td>0.24</td>\n",
       "      <td>1.69</td>\n",
       "      <td>61.00</td>\n",
       "      <td>6.30</td>\n",
       "      <td>E</td>\n",
       "    </tr>\n",
       "    <tr>\n",
       "      <th>15</th>\n",
       "      <td>Wii Fit Plus</td>\n",
       "      <td>Wii</td>\n",
       "      <td>2009</td>\n",
       "      <td>Sports</td>\n",
       "      <td>9.01</td>\n",
       "      <td>8.49</td>\n",
       "      <td>2.53</td>\n",
       "      <td>1.77</td>\n",
       "      <td>80.00</td>\n",
       "      <td>7.40</td>\n",
       "      <td>E</td>\n",
       "    </tr>\n",
       "    <tr>\n",
       "      <th>16</th>\n",
       "      <td>Grand Theft Auto V</td>\n",
       "      <td>PS3</td>\n",
       "      <td>2013</td>\n",
       "      <td>Action</td>\n",
       "      <td>7.02</td>\n",
       "      <td>9.09</td>\n",
       "      <td>0.98</td>\n",
       "      <td>3.96</td>\n",
       "      <td>97.00</td>\n",
       "      <td>8.20</td>\n",
       "      <td>M</td>\n",
       "    </tr>\n",
       "    <tr>\n",
       "      <th>17</th>\n",
       "      <td>Grand Theft Auto: San Andreas</td>\n",
       "      <td>PS2</td>\n",
       "      <td>2004</td>\n",
       "      <td>Action</td>\n",
       "      <td>9.43</td>\n",
       "      <td>0.40</td>\n",
       "      <td>0.41</td>\n",
       "      <td>10.57</td>\n",
       "      <td>95.00</td>\n",
       "      <td>9.00</td>\n",
       "      <td>M</td>\n",
       "    </tr>\n",
       "    <tr>\n",
       "      <th>18</th>\n",
       "      <td>Super Mario World</td>\n",
       "      <td>SNES</td>\n",
       "      <td>1990</td>\n",
       "      <td>Platform</td>\n",
       "      <td>12.78</td>\n",
       "      <td>3.75</td>\n",
       "      <td>3.54</td>\n",
       "      <td>0.55</td>\n",
       "      <td>NaN</td>\n",
       "      <td>NaN</td>\n",
       "      <td>no rating</td>\n",
       "    </tr>\n",
       "    <tr>\n",
       "      <th>19</th>\n",
       "      <td>Brain Age: Train Your Brain in Minutes a Day</td>\n",
       "      <td>DS</td>\n",
       "      <td>2005</td>\n",
       "      <td>Misc</td>\n",
       "      <td>4.74</td>\n",
       "      <td>9.20</td>\n",
       "      <td>4.16</td>\n",
       "      <td>2.04</td>\n",
       "      <td>77.00</td>\n",
       "      <td>7.90</td>\n",
       "      <td>E</td>\n",
       "    </tr>\n",
       "  </tbody>\n",
       "</table>\n",
       "</div>"
      ],
      "text/plain": [
       "                                            name platform  year_of_release  \\\n",
       "0                                     Wii Sports      Wii             2006   \n",
       "1                              Super Mario Bros.      NES             1985   \n",
       "2                                 Mario Kart Wii      Wii             2008   \n",
       "3                              Wii Sports Resort      Wii             2009   \n",
       "4                       Pokemon Red/Pokemon Blue       GB             1996   \n",
       "5                                         Tetris       GB             1989   \n",
       "6                          New Super Mario Bros.       DS             2006   \n",
       "7                                       Wii Play      Wii             2006   \n",
       "8                      New Super Mario Bros. Wii      Wii             2009   \n",
       "9                                      Duck Hunt      NES             1984   \n",
       "10                                    Nintendogs       DS             2005   \n",
       "11                                 Mario Kart DS       DS             2005   \n",
       "12                   Pokemon Gold/Pokemon Silver       GB             1999   \n",
       "13                                       Wii Fit      Wii             2007   \n",
       "14                            Kinect Adventures!     X360             2010   \n",
       "15                                  Wii Fit Plus      Wii             2009   \n",
       "16                            Grand Theft Auto V      PS3             2013   \n",
       "17                 Grand Theft Auto: San Andreas      PS2             2004   \n",
       "18                             Super Mario World     SNES             1990   \n",
       "19  Brain Age: Train Your Brain in Minutes a Day       DS             2005   \n",
       "\n",
       "           genre  na_sales  eu_sales  jp_sales  other_sales  critic_score  \\\n",
       "0         Sports     41.36     28.96      3.77         8.45         76.00   \n",
       "1       Platform     29.08      3.58      6.81         0.77           NaN   \n",
       "2         Racing     15.68     12.76      3.79         3.29         82.00   \n",
       "3         Sports     15.61     10.93      3.28         2.95         80.00   \n",
       "4   Role-Playing     11.27      8.89     10.22         1.00           NaN   \n",
       "5         Puzzle     23.20      2.26      4.22         0.58           NaN   \n",
       "6       Platform     11.28      9.14      6.50         2.88         89.00   \n",
       "7           Misc     13.96      9.18      2.93         2.84         58.00   \n",
       "8       Platform     14.44      6.94      4.70         2.24         87.00   \n",
       "9        Shooter     26.93      0.63      0.28         0.47           NaN   \n",
       "10    Simulation      9.05     10.95      1.93         2.74           NaN   \n",
       "11        Racing      9.71      7.47      4.13         1.90         91.00   \n",
       "12  Role-Playing      9.00      6.18      7.20         0.71           NaN   \n",
       "13        Sports      8.92      8.03      3.60         2.15         80.00   \n",
       "14          Misc     15.00      4.89      0.24         1.69         61.00   \n",
       "15        Sports      9.01      8.49      2.53         1.77         80.00   \n",
       "16        Action      7.02      9.09      0.98         3.96         97.00   \n",
       "17        Action      9.43      0.40      0.41        10.57         95.00   \n",
       "18      Platform     12.78      3.75      3.54         0.55           NaN   \n",
       "19          Misc      4.74      9.20      4.16         2.04         77.00   \n",
       "\n",
       "    user_score     rating  \n",
       "0         8.00          E  \n",
       "1          NaN  no rating  \n",
       "2         8.30          E  \n",
       "3         8.00          E  \n",
       "4          NaN  no rating  \n",
       "5          NaN  no rating  \n",
       "6         8.50          E  \n",
       "7         6.60          E  \n",
       "8         8.40          E  \n",
       "9          NaN  no rating  \n",
       "10         NaN  no rating  \n",
       "11        8.60          E  \n",
       "12         NaN  no rating  \n",
       "13        7.70          E  \n",
       "14        6.30          E  \n",
       "15        7.40          E  \n",
       "16        8.20          M  \n",
       "17        9.00          M  \n",
       "18         NaN  no rating  \n",
       "19        7.90          E  "
      ]
     },
     "execution_count": 21,
     "metadata": {},
     "output_type": "execute_result"
    }
   ],
   "source": [
    "games['rating'] = games['rating'].fillna('no rating')\n",
    "games.head(20)"
   ]
  },
  {
   "cell_type": "markdown",
   "metadata": {},
   "source": [
    "Посчитаем суммарные продажи по всем регионам"
   ]
  },
  {
   "cell_type": "code",
   "execution_count": 22,
   "metadata": {},
   "outputs": [
    {
     "data": {
      "text/html": [
       "<div>\n",
       "<style scoped>\n",
       "    .dataframe tbody tr th:only-of-type {\n",
       "        vertical-align: middle;\n",
       "    }\n",
       "\n",
       "    .dataframe tbody tr th {\n",
       "        vertical-align: top;\n",
       "    }\n",
       "\n",
       "    .dataframe thead th {\n",
       "        text-align: right;\n",
       "    }\n",
       "</style>\n",
       "<table border=\"1\" class=\"dataframe\">\n",
       "  <thead>\n",
       "    <tr style=\"text-align: right;\">\n",
       "      <th></th>\n",
       "      <th>name</th>\n",
       "      <th>platform</th>\n",
       "      <th>year_of_release</th>\n",
       "      <th>genre</th>\n",
       "      <th>na_sales</th>\n",
       "      <th>eu_sales</th>\n",
       "      <th>jp_sales</th>\n",
       "      <th>other_sales</th>\n",
       "      <th>critic_score</th>\n",
       "      <th>user_score</th>\n",
       "      <th>rating</th>\n",
       "      <th>total_sales</th>\n",
       "    </tr>\n",
       "  </thead>\n",
       "  <tbody>\n",
       "    <tr>\n",
       "      <th>0</th>\n",
       "      <td>Wii Sports</td>\n",
       "      <td>Wii</td>\n",
       "      <td>2006</td>\n",
       "      <td>Sports</td>\n",
       "      <td>41.36</td>\n",
       "      <td>28.96</td>\n",
       "      <td>3.77</td>\n",
       "      <td>8.45</td>\n",
       "      <td>76.00</td>\n",
       "      <td>8.00</td>\n",
       "      <td>E</td>\n",
       "      <td>82.54</td>\n",
       "    </tr>\n",
       "    <tr>\n",
       "      <th>1</th>\n",
       "      <td>Super Mario Bros.</td>\n",
       "      <td>NES</td>\n",
       "      <td>1985</td>\n",
       "      <td>Platform</td>\n",
       "      <td>29.08</td>\n",
       "      <td>3.58</td>\n",
       "      <td>6.81</td>\n",
       "      <td>0.77</td>\n",
       "      <td>NaN</td>\n",
       "      <td>NaN</td>\n",
       "      <td>no rating</td>\n",
       "      <td>40.24</td>\n",
       "    </tr>\n",
       "    <tr>\n",
       "      <th>2</th>\n",
       "      <td>Mario Kart Wii</td>\n",
       "      <td>Wii</td>\n",
       "      <td>2008</td>\n",
       "      <td>Racing</td>\n",
       "      <td>15.68</td>\n",
       "      <td>12.76</td>\n",
       "      <td>3.79</td>\n",
       "      <td>3.29</td>\n",
       "      <td>82.00</td>\n",
       "      <td>8.30</td>\n",
       "      <td>E</td>\n",
       "      <td>35.52</td>\n",
       "    </tr>\n",
       "    <tr>\n",
       "      <th>3</th>\n",
       "      <td>Wii Sports Resort</td>\n",
       "      <td>Wii</td>\n",
       "      <td>2009</td>\n",
       "      <td>Sports</td>\n",
       "      <td>15.61</td>\n",
       "      <td>10.93</td>\n",
       "      <td>3.28</td>\n",
       "      <td>2.95</td>\n",
       "      <td>80.00</td>\n",
       "      <td>8.00</td>\n",
       "      <td>E</td>\n",
       "      <td>32.77</td>\n",
       "    </tr>\n",
       "    <tr>\n",
       "      <th>4</th>\n",
       "      <td>Pokemon Red/Pokemon Blue</td>\n",
       "      <td>GB</td>\n",
       "      <td>1996</td>\n",
       "      <td>Role-Playing</td>\n",
       "      <td>11.27</td>\n",
       "      <td>8.89</td>\n",
       "      <td>10.22</td>\n",
       "      <td>1.00</td>\n",
       "      <td>NaN</td>\n",
       "      <td>NaN</td>\n",
       "      <td>no rating</td>\n",
       "      <td>31.38</td>\n",
       "    </tr>\n",
       "    <tr>\n",
       "      <th>5</th>\n",
       "      <td>Tetris</td>\n",
       "      <td>GB</td>\n",
       "      <td>1989</td>\n",
       "      <td>Puzzle</td>\n",
       "      <td>23.20</td>\n",
       "      <td>2.26</td>\n",
       "      <td>4.22</td>\n",
       "      <td>0.58</td>\n",
       "      <td>NaN</td>\n",
       "      <td>NaN</td>\n",
       "      <td>no rating</td>\n",
       "      <td>30.26</td>\n",
       "    </tr>\n",
       "    <tr>\n",
       "      <th>6</th>\n",
       "      <td>New Super Mario Bros.</td>\n",
       "      <td>DS</td>\n",
       "      <td>2006</td>\n",
       "      <td>Platform</td>\n",
       "      <td>11.28</td>\n",
       "      <td>9.14</td>\n",
       "      <td>6.50</td>\n",
       "      <td>2.88</td>\n",
       "      <td>89.00</td>\n",
       "      <td>8.50</td>\n",
       "      <td>E</td>\n",
       "      <td>29.80</td>\n",
       "    </tr>\n",
       "    <tr>\n",
       "      <th>7</th>\n",
       "      <td>Wii Play</td>\n",
       "      <td>Wii</td>\n",
       "      <td>2006</td>\n",
       "      <td>Misc</td>\n",
       "      <td>13.96</td>\n",
       "      <td>9.18</td>\n",
       "      <td>2.93</td>\n",
       "      <td>2.84</td>\n",
       "      <td>58.00</td>\n",
       "      <td>6.60</td>\n",
       "      <td>E</td>\n",
       "      <td>28.91</td>\n",
       "    </tr>\n",
       "    <tr>\n",
       "      <th>8</th>\n",
       "      <td>New Super Mario Bros. Wii</td>\n",
       "      <td>Wii</td>\n",
       "      <td>2009</td>\n",
       "      <td>Platform</td>\n",
       "      <td>14.44</td>\n",
       "      <td>6.94</td>\n",
       "      <td>4.70</td>\n",
       "      <td>2.24</td>\n",
       "      <td>87.00</td>\n",
       "      <td>8.40</td>\n",
       "      <td>E</td>\n",
       "      <td>28.32</td>\n",
       "    </tr>\n",
       "    <tr>\n",
       "      <th>9</th>\n",
       "      <td>Duck Hunt</td>\n",
       "      <td>NES</td>\n",
       "      <td>1984</td>\n",
       "      <td>Shooter</td>\n",
       "      <td>26.93</td>\n",
       "      <td>0.63</td>\n",
       "      <td>0.28</td>\n",
       "      <td>0.47</td>\n",
       "      <td>NaN</td>\n",
       "      <td>NaN</td>\n",
       "      <td>no rating</td>\n",
       "      <td>28.31</td>\n",
       "    </tr>\n",
       "    <tr>\n",
       "      <th>10</th>\n",
       "      <td>Nintendogs</td>\n",
       "      <td>DS</td>\n",
       "      <td>2005</td>\n",
       "      <td>Simulation</td>\n",
       "      <td>9.05</td>\n",
       "      <td>10.95</td>\n",
       "      <td>1.93</td>\n",
       "      <td>2.74</td>\n",
       "      <td>NaN</td>\n",
       "      <td>NaN</td>\n",
       "      <td>no rating</td>\n",
       "      <td>24.67</td>\n",
       "    </tr>\n",
       "    <tr>\n",
       "      <th>11</th>\n",
       "      <td>Mario Kart DS</td>\n",
       "      <td>DS</td>\n",
       "      <td>2005</td>\n",
       "      <td>Racing</td>\n",
       "      <td>9.71</td>\n",
       "      <td>7.47</td>\n",
       "      <td>4.13</td>\n",
       "      <td>1.90</td>\n",
       "      <td>91.00</td>\n",
       "      <td>8.60</td>\n",
       "      <td>E</td>\n",
       "      <td>23.21</td>\n",
       "    </tr>\n",
       "    <tr>\n",
       "      <th>12</th>\n",
       "      <td>Pokemon Gold/Pokemon Silver</td>\n",
       "      <td>GB</td>\n",
       "      <td>1999</td>\n",
       "      <td>Role-Playing</td>\n",
       "      <td>9.00</td>\n",
       "      <td>6.18</td>\n",
       "      <td>7.20</td>\n",
       "      <td>0.71</td>\n",
       "      <td>NaN</td>\n",
       "      <td>NaN</td>\n",
       "      <td>no rating</td>\n",
       "      <td>23.09</td>\n",
       "    </tr>\n",
       "    <tr>\n",
       "      <th>13</th>\n",
       "      <td>Wii Fit</td>\n",
       "      <td>Wii</td>\n",
       "      <td>2007</td>\n",
       "      <td>Sports</td>\n",
       "      <td>8.92</td>\n",
       "      <td>8.03</td>\n",
       "      <td>3.60</td>\n",
       "      <td>2.15</td>\n",
       "      <td>80.00</td>\n",
       "      <td>7.70</td>\n",
       "      <td>E</td>\n",
       "      <td>22.70</td>\n",
       "    </tr>\n",
       "    <tr>\n",
       "      <th>14</th>\n",
       "      <td>Kinect Adventures!</td>\n",
       "      <td>X360</td>\n",
       "      <td>2010</td>\n",
       "      <td>Misc</td>\n",
       "      <td>15.00</td>\n",
       "      <td>4.89</td>\n",
       "      <td>0.24</td>\n",
       "      <td>1.69</td>\n",
       "      <td>61.00</td>\n",
       "      <td>6.30</td>\n",
       "      <td>E</td>\n",
       "      <td>21.82</td>\n",
       "    </tr>\n",
       "    <tr>\n",
       "      <th>15</th>\n",
       "      <td>Wii Fit Plus</td>\n",
       "      <td>Wii</td>\n",
       "      <td>2009</td>\n",
       "      <td>Sports</td>\n",
       "      <td>9.01</td>\n",
       "      <td>8.49</td>\n",
       "      <td>2.53</td>\n",
       "      <td>1.77</td>\n",
       "      <td>80.00</td>\n",
       "      <td>7.40</td>\n",
       "      <td>E</td>\n",
       "      <td>21.80</td>\n",
       "    </tr>\n",
       "    <tr>\n",
       "      <th>16</th>\n",
       "      <td>Grand Theft Auto V</td>\n",
       "      <td>PS3</td>\n",
       "      <td>2013</td>\n",
       "      <td>Action</td>\n",
       "      <td>7.02</td>\n",
       "      <td>9.09</td>\n",
       "      <td>0.98</td>\n",
       "      <td>3.96</td>\n",
       "      <td>97.00</td>\n",
       "      <td>8.20</td>\n",
       "      <td>M</td>\n",
       "      <td>21.05</td>\n",
       "    </tr>\n",
       "    <tr>\n",
       "      <th>17</th>\n",
       "      <td>Grand Theft Auto: San Andreas</td>\n",
       "      <td>PS2</td>\n",
       "      <td>2004</td>\n",
       "      <td>Action</td>\n",
       "      <td>9.43</td>\n",
       "      <td>0.40</td>\n",
       "      <td>0.41</td>\n",
       "      <td>10.57</td>\n",
       "      <td>95.00</td>\n",
       "      <td>9.00</td>\n",
       "      <td>M</td>\n",
       "      <td>20.81</td>\n",
       "    </tr>\n",
       "    <tr>\n",
       "      <th>18</th>\n",
       "      <td>Super Mario World</td>\n",
       "      <td>SNES</td>\n",
       "      <td>1990</td>\n",
       "      <td>Platform</td>\n",
       "      <td>12.78</td>\n",
       "      <td>3.75</td>\n",
       "      <td>3.54</td>\n",
       "      <td>0.55</td>\n",
       "      <td>NaN</td>\n",
       "      <td>NaN</td>\n",
       "      <td>no rating</td>\n",
       "      <td>20.62</td>\n",
       "    </tr>\n",
       "    <tr>\n",
       "      <th>19</th>\n",
       "      <td>Brain Age: Train Your Brain in Minutes a Day</td>\n",
       "      <td>DS</td>\n",
       "      <td>2005</td>\n",
       "      <td>Misc</td>\n",
       "      <td>4.74</td>\n",
       "      <td>9.20</td>\n",
       "      <td>4.16</td>\n",
       "      <td>2.04</td>\n",
       "      <td>77.00</td>\n",
       "      <td>7.90</td>\n",
       "      <td>E</td>\n",
       "      <td>20.14</td>\n",
       "    </tr>\n",
       "  </tbody>\n",
       "</table>\n",
       "</div>"
      ],
      "text/plain": [
       "                                            name platform  year_of_release  \\\n",
       "0                                     Wii Sports      Wii             2006   \n",
       "1                              Super Mario Bros.      NES             1985   \n",
       "2                                 Mario Kart Wii      Wii             2008   \n",
       "3                              Wii Sports Resort      Wii             2009   \n",
       "4                       Pokemon Red/Pokemon Blue       GB             1996   \n",
       "5                                         Tetris       GB             1989   \n",
       "6                          New Super Mario Bros.       DS             2006   \n",
       "7                                       Wii Play      Wii             2006   \n",
       "8                      New Super Mario Bros. Wii      Wii             2009   \n",
       "9                                      Duck Hunt      NES             1984   \n",
       "10                                    Nintendogs       DS             2005   \n",
       "11                                 Mario Kart DS       DS             2005   \n",
       "12                   Pokemon Gold/Pokemon Silver       GB             1999   \n",
       "13                                       Wii Fit      Wii             2007   \n",
       "14                            Kinect Adventures!     X360             2010   \n",
       "15                                  Wii Fit Plus      Wii             2009   \n",
       "16                            Grand Theft Auto V      PS3             2013   \n",
       "17                 Grand Theft Auto: San Andreas      PS2             2004   \n",
       "18                             Super Mario World     SNES             1990   \n",
       "19  Brain Age: Train Your Brain in Minutes a Day       DS             2005   \n",
       "\n",
       "           genre  na_sales  eu_sales  jp_sales  other_sales  critic_score  \\\n",
       "0         Sports     41.36     28.96      3.77         8.45         76.00   \n",
       "1       Platform     29.08      3.58      6.81         0.77           NaN   \n",
       "2         Racing     15.68     12.76      3.79         3.29         82.00   \n",
       "3         Sports     15.61     10.93      3.28         2.95         80.00   \n",
       "4   Role-Playing     11.27      8.89     10.22         1.00           NaN   \n",
       "5         Puzzle     23.20      2.26      4.22         0.58           NaN   \n",
       "6       Platform     11.28      9.14      6.50         2.88         89.00   \n",
       "7           Misc     13.96      9.18      2.93         2.84         58.00   \n",
       "8       Platform     14.44      6.94      4.70         2.24         87.00   \n",
       "9        Shooter     26.93      0.63      0.28         0.47           NaN   \n",
       "10    Simulation      9.05     10.95      1.93         2.74           NaN   \n",
       "11        Racing      9.71      7.47      4.13         1.90         91.00   \n",
       "12  Role-Playing      9.00      6.18      7.20         0.71           NaN   \n",
       "13        Sports      8.92      8.03      3.60         2.15         80.00   \n",
       "14          Misc     15.00      4.89      0.24         1.69         61.00   \n",
       "15        Sports      9.01      8.49      2.53         1.77         80.00   \n",
       "16        Action      7.02      9.09      0.98         3.96         97.00   \n",
       "17        Action      9.43      0.40      0.41        10.57         95.00   \n",
       "18      Platform     12.78      3.75      3.54         0.55           NaN   \n",
       "19          Misc      4.74      9.20      4.16         2.04         77.00   \n",
       "\n",
       "    user_score     rating  total_sales  \n",
       "0         8.00          E        82.54  \n",
       "1          NaN  no rating        40.24  \n",
       "2         8.30          E        35.52  \n",
       "3         8.00          E        32.77  \n",
       "4          NaN  no rating        31.38  \n",
       "5          NaN  no rating        30.26  \n",
       "6         8.50          E        29.80  \n",
       "7         6.60          E        28.91  \n",
       "8         8.40          E        28.32  \n",
       "9          NaN  no rating        28.31  \n",
       "10         NaN  no rating        24.67  \n",
       "11        8.60          E        23.21  \n",
       "12         NaN  no rating        23.09  \n",
       "13        7.70          E        22.70  \n",
       "14        6.30          E        21.82  \n",
       "15        7.40          E        21.80  \n",
       "16        8.20          M        21.05  \n",
       "17        9.00          M        20.81  \n",
       "18         NaN  no rating        20.62  \n",
       "19        7.90          E        20.14  "
      ]
     },
     "execution_count": 22,
     "metadata": {},
     "output_type": "execute_result"
    }
   ],
   "source": [
    "games['total_sales'] = games['na_sales'] + games['eu_sales'] + games['jp_sales'] + games['other_sales']\n",
    "games.head(20)"
   ]
  },
  {
   "cell_type": "markdown",
   "metadata": {},
   "source": [
    "# 3. Исследовательский анализ данных"
   ]
  },
  {
   "cell_type": "code",
   "execution_count": 23,
   "metadata": {},
   "outputs": [
    {
     "data": {
      "image/png": "[encoded data removed]",
      "text/plain": [
       "<Figure size 1440x288 with 1 Axes>"
      ]
     },
     "metadata": {
      "needs_background": "light"
     },
     "output_type": "display_data"
    }
   ],
   "source": [
    "games.groupby('year_of_release')['year_of_release'].count().plot(kind='bar', figsize=(20,4))\n",
    "sb.set()\n",
    "sb.set_palette('Set2')\n",
    "plt.ylabel('Игр выпущено')\n",
    "plt.xlabel('Год релиза')\n",
    "plt.show()"
   ]
  },
  {
   "cell_type": "markdown",
   "metadata": {},
   "source": [
    "На основании задания для исследования необходимо спрогнозировать 2017 год, поэтому скорее всего не целесообразно брать для анализа информацию за все представленные года. Как видно из графика можно взять информацию за последние пять лет 2012-2016, тем более количество выпущенных игр в эти годы имеют незначительное колебание."
   ]
  },
  {
   "cell_type": "code",
   "execution_count": 24,
   "metadata": {},
   "outputs": [
    {
     "data": {
      "image/png": "[encoded data removed]",
      "text/plain": [
       "<Figure size 1440x360 with 1 Axes>"
      ]
     },
     "metadata": {},
     "output_type": "display_data"
    }
   ],
   "source": [
    "platform_pivot = (games.pivot_table(index='platform', values='total_sales', aggfunc='sum').sort_values(by='total_sales'))\n",
    "platform_pivot.plot(kind='bar', figsize=(20,5))\n",
    "plt.ylabel('Продажи')\n",
    "plt.xlabel('Платформа')\n",
    "plt.show()"
   ]
  },
  {
   "cell_type": "markdown",
   "metadata": {},
   "source": [
    "На основе анализа графика можно отметить платформы с наибольшим количеством продаж, к ним относятся PS, DS, Wii, PS3, X360, PS2"
   ]
  },
  {
   "cell_type": "code",
   "execution_count": 25,
   "metadata": {},
   "outputs": [
    {
     "data": {
      "text/html": [
       "<div>\n",
       "<style scoped>\n",
       "    .dataframe tbody tr th:only-of-type {\n",
       "        vertical-align: middle;\n",
       "    }\n",
       "\n",
       "    .dataframe tbody tr th {\n",
       "        vertical-align: top;\n",
       "    }\n",
       "\n",
       "    .dataframe thead th {\n",
       "        text-align: right;\n",
       "    }\n",
       "</style>\n",
       "<table border=\"1\" class=\"dataframe\">\n",
       "  <thead>\n",
       "    <tr style=\"text-align: right;\">\n",
       "      <th></th>\n",
       "      <th>name</th>\n",
       "      <th>platform</th>\n",
       "      <th>year_of_release</th>\n",
       "      <th>genre</th>\n",
       "      <th>na_sales</th>\n",
       "      <th>eu_sales</th>\n",
       "      <th>jp_sales</th>\n",
       "      <th>other_sales</th>\n",
       "      <th>critic_score</th>\n",
       "      <th>user_score</th>\n",
       "      <th>rating</th>\n",
       "      <th>total_sales</th>\n",
       "    </tr>\n",
       "  </thead>\n",
       "  <tbody>\n",
       "    <tr>\n",
       "      <th>0</th>\n",
       "      <td>Wii Sports</td>\n",
       "      <td>Wii</td>\n",
       "      <td>2006</td>\n",
       "      <td>Sports</td>\n",
       "      <td>41.36</td>\n",
       "      <td>28.96</td>\n",
       "      <td>3.77</td>\n",
       "      <td>8.45</td>\n",
       "      <td>76.00</td>\n",
       "      <td>8.00</td>\n",
       "      <td>E</td>\n",
       "      <td>82.54</td>\n",
       "    </tr>\n",
       "    <tr>\n",
       "      <th>2</th>\n",
       "      <td>Mario Kart Wii</td>\n",
       "      <td>Wii</td>\n",
       "      <td>2008</td>\n",
       "      <td>Racing</td>\n",
       "      <td>15.68</td>\n",
       "      <td>12.76</td>\n",
       "      <td>3.79</td>\n",
       "      <td>3.29</td>\n",
       "      <td>82.00</td>\n",
       "      <td>8.30</td>\n",
       "      <td>E</td>\n",
       "      <td>35.52</td>\n",
       "    </tr>\n",
       "    <tr>\n",
       "      <th>3</th>\n",
       "      <td>Wii Sports Resort</td>\n",
       "      <td>Wii</td>\n",
       "      <td>2009</td>\n",
       "      <td>Sports</td>\n",
       "      <td>15.61</td>\n",
       "      <td>10.93</td>\n",
       "      <td>3.28</td>\n",
       "      <td>2.95</td>\n",
       "      <td>80.00</td>\n",
       "      <td>8.00</td>\n",
       "      <td>E</td>\n",
       "      <td>32.77</td>\n",
       "    </tr>\n",
       "    <tr>\n",
       "      <th>6</th>\n",
       "      <td>New Super Mario Bros.</td>\n",
       "      <td>DS</td>\n",
       "      <td>2006</td>\n",
       "      <td>Platform</td>\n",
       "      <td>11.28</td>\n",
       "      <td>9.14</td>\n",
       "      <td>6.50</td>\n",
       "      <td>2.88</td>\n",
       "      <td>89.00</td>\n",
       "      <td>8.50</td>\n",
       "      <td>E</td>\n",
       "      <td>29.80</td>\n",
       "    </tr>\n",
       "    <tr>\n",
       "      <th>7</th>\n",
       "      <td>Wii Play</td>\n",
       "      <td>Wii</td>\n",
       "      <td>2006</td>\n",
       "      <td>Misc</td>\n",
       "      <td>13.96</td>\n",
       "      <td>9.18</td>\n",
       "      <td>2.93</td>\n",
       "      <td>2.84</td>\n",
       "      <td>58.00</td>\n",
       "      <td>6.60</td>\n",
       "      <td>E</td>\n",
       "      <td>28.91</td>\n",
       "    </tr>\n",
       "    <tr>\n",
       "      <th>...</th>\n",
       "      <td>...</td>\n",
       "      <td>...</td>\n",
       "      <td>...</td>\n",
       "      <td>...</td>\n",
       "      <td>...</td>\n",
       "      <td>...</td>\n",
       "      <td>...</td>\n",
       "      <td>...</td>\n",
       "      <td>...</td>\n",
       "      <td>...</td>\n",
       "      <td>...</td>\n",
       "      <td>...</td>\n",
       "    </tr>\n",
       "    <tr>\n",
       "      <th>16700</th>\n",
       "      <td>Mezase!! Tsuri Master DS</td>\n",
       "      <td>DS</td>\n",
       "      <td>2009</td>\n",
       "      <td>Sports</td>\n",
       "      <td>0.00</td>\n",
       "      <td>0.00</td>\n",
       "      <td>0.01</td>\n",
       "      <td>0.00</td>\n",
       "      <td>NaN</td>\n",
       "      <td>NaN</td>\n",
       "      <td>no rating</td>\n",
       "      <td>0.01</td>\n",
       "    </tr>\n",
       "    <tr>\n",
       "      <th>16704</th>\n",
       "      <td>Plushees</td>\n",
       "      <td>DS</td>\n",
       "      <td>2008</td>\n",
       "      <td>Simulation</td>\n",
       "      <td>0.01</td>\n",
       "      <td>0.00</td>\n",
       "      <td>0.00</td>\n",
       "      <td>0.00</td>\n",
       "      <td>NaN</td>\n",
       "      <td>NaN</td>\n",
       "      <td>E</td>\n",
       "      <td>0.01</td>\n",
       "    </tr>\n",
       "    <tr>\n",
       "      <th>16709</th>\n",
       "      <td>SCORE International Baja 1000: The Official Game</td>\n",
       "      <td>PS2</td>\n",
       "      <td>2008</td>\n",
       "      <td>Racing</td>\n",
       "      <td>0.00</td>\n",
       "      <td>0.00</td>\n",
       "      <td>0.00</td>\n",
       "      <td>0.00</td>\n",
       "      <td>NaN</td>\n",
       "      <td>NaN</td>\n",
       "      <td>no rating</td>\n",
       "      <td>0.00</td>\n",
       "    </tr>\n",
       "    <tr>\n",
       "      <th>16710</th>\n",
       "      <td>Samurai Warriors: Sanada Maru</td>\n",
       "      <td>PS3</td>\n",
       "      <td>2016</td>\n",
       "      <td>Action</td>\n",
       "      <td>0.00</td>\n",
       "      <td>0.00</td>\n",
       "      <td>0.01</td>\n",
       "      <td>0.00</td>\n",
       "      <td>NaN</td>\n",
       "      <td>NaN</td>\n",
       "      <td>no rating</td>\n",
       "      <td>0.01</td>\n",
       "    </tr>\n",
       "    <tr>\n",
       "      <th>16711</th>\n",
       "      <td>LMA Manager 2007</td>\n",
       "      <td>X360</td>\n",
       "      <td>2006</td>\n",
       "      <td>Sports</td>\n",
       "      <td>0.00</td>\n",
       "      <td>0.01</td>\n",
       "      <td>0.00</td>\n",
       "      <td>0.00</td>\n",
       "      <td>NaN</td>\n",
       "      <td>NaN</td>\n",
       "      <td>no rating</td>\n",
       "      <td>0.01</td>\n",
       "    </tr>\n",
       "  </tbody>\n",
       "</table>\n",
       "<p>9262 rows × 12 columns</p>\n",
       "</div>"
      ],
      "text/plain": [
       "                                                   name platform  \\\n",
       "0                                            Wii Sports      Wii   \n",
       "2                                        Mario Kart Wii      Wii   \n",
       "3                                     Wii Sports Resort      Wii   \n",
       "6                                 New Super Mario Bros.       DS   \n",
       "7                                              Wii Play      Wii   \n",
       "...                                                 ...      ...   \n",
       "16700                          Mezase!! Tsuri Master DS       DS   \n",
       "16704                                          Plushees       DS   \n",
       "16709  SCORE International Baja 1000: The Official Game      PS2   \n",
       "16710                     Samurai Warriors: Sanada Maru      PS3   \n",
       "16711                                  LMA Manager 2007     X360   \n",
       "\n",
       "       year_of_release       genre  na_sales  eu_sales  jp_sales  other_sales  \\\n",
       "0                 2006      Sports     41.36     28.96      3.77         8.45   \n",
       "2                 2008      Racing     15.68     12.76      3.79         3.29   \n",
       "3                 2009      Sports     15.61     10.93      3.28         2.95   \n",
       "6                 2006    Platform     11.28      9.14      6.50         2.88   \n",
       "7                 2006        Misc     13.96      9.18      2.93         2.84   \n",
       "...                ...         ...       ...       ...       ...          ...   \n",
       "16700             2009      Sports      0.00      0.00      0.01         0.00   \n",
       "16704             2008  Simulation      0.01      0.00      0.00         0.00   \n",
       "16709             2008      Racing      0.00      0.00      0.00         0.00   \n",
       "16710             2016      Action      0.00      0.00      0.01         0.00   \n",
       "16711             2006      Sports      0.00      0.01      0.00         0.00   \n",
       "\n",
       "       critic_score  user_score     rating  total_sales  \n",
       "0             76.00        8.00          E        82.54  \n",
       "2             82.00        8.30          E        35.52  \n",
       "3             80.00        8.00          E        32.77  \n",
       "6             89.00        8.50          E        29.80  \n",
       "7             58.00        6.60          E        28.91  \n",
       "...             ...         ...        ...          ...  \n",
       "16700           NaN         NaN  no rating         0.01  \n",
       "16704           NaN         NaN          E         0.01  \n",
       "16709           NaN         NaN  no rating         0.00  \n",
       "16710           NaN         NaN  no rating         0.01  \n",
       "16711           NaN         NaN  no rating         0.01  \n",
       "\n",
       "[9262 rows x 12 columns]"
      ]
     },
     "execution_count": 25,
     "metadata": {},
     "output_type": "execute_result"
    }
   ],
   "source": [
    "platforms = platform_pivot.sort_values(by='total_sales', ascending=False)[0:6].index\n",
    "games_platforms = games.query('platform in @platforms')\n",
    "games_platforms"
   ]
  },
  {
   "cell_type": "markdown",
   "metadata": {},
   "source": [
    "Используем функцию для распределения по годам"
   ]
  },
  {
   "cell_type": "code",
   "execution_count": 26,
   "metadata": {},
   "outputs": [
    {
     "data": {
      "image/png": "[encoded data removed]",
      "text/plain": [
       "<Figure size 1080x1080 with 6 Axes>"
      ]
     },
     "metadata": {},
     "output_type": "display_data"
    }
   ],
   "source": [
    "def platform_sales(data, my_list,n,m, ysize):\n",
    "    temp = data.pivot_table(index=['platform','year_of_release'], values='total_sales', aggfunc='sum')\n",
    "    plt.subplots(n,m,figsize=(15,ysize))\n",
    "    i = 1\n",
    "    for platform in my_list:\n",
    "        ax = plt.subplot(n,m,i)\n",
    "        l = list(temp.query('platform==@platform').index.get_level_values(1))\n",
    "        temp.query('platform==@platform').plot(kind='bar', ax=ax, label=platform)\n",
    "        plt.legend()\n",
    "        plt.xlabel(platform)\n",
    "        i+=1\n",
    "        ax.set_xticklabels(l)\n",
    "    plt.tight_layout()\n",
    "platform_sales(games_platforms, platforms,2,3, 15)"
   ]
  },
  {
   "cell_type": "markdown",
   "metadata": {},
   "source": [
    "Из графиков можно сделать вывод, аномально себя проявила платформа Wii, она после появления резко стала популяной, а затем ее популярность так же резко снизилась. Остальные платформы ведут себя более предсказуемо, после входа они набирают популярность и достигнув своего пика, популярность их снижается. Такой цикл длится примерно в течении десяти лет."
   ]
  },
  {
   "cell_type": "markdown",
   "metadata": {},
   "source": [
    "Выделим данные за актуальный период 2012-2016 в отдельную таблицу"
   ]
  },
  {
   "cell_type": "code",
   "execution_count": 27,
   "metadata": {},
   "outputs": [
    {
     "data": {
      "text/plain": [
       "platform\n",
       "PS4    314.14\n",
       "PS3    288.79\n",
       "X360   236.54\n",
       "3DS    194.61\n",
       "XOne   159.32\n",
       "WiiU    82.19\n",
       "PC      62.65\n",
       "PSV     49.18\n",
       "Wii     35.37\n",
       "DS      12.55\n",
       "PSP     11.19\n",
       "Name: total_sales, dtype: float64"
      ]
     },
     "execution_count": 27,
     "metadata": {},
     "output_type": "execute_result"
    }
   ],
   "source": [
    "games_period = games.query('2012 <= year_of_release <= 2016')\n",
    "games_period.groupby('platform')['total_sales'].sum().sort_values(ascending=False)"
   ]
  },
  {
   "cell_type": "markdown",
   "metadata": {},
   "source": [
    "Выберем из спика пять наиболее прибыльных платформ"
   ]
  },
  {
   "cell_type": "code",
   "execution_count": 28,
   "metadata": {},
   "outputs": [
    {
     "data": {
      "image/png": "[encoded data removed]",
      "text/plain": [
       "<Figure size 1080x432 with 5 Axes>"
      ]
     },
     "metadata": {},
     "output_type": "display_data"
    }
   ],
   "source": [
    "top_platforms = games_period.groupby('platform')['total_sales'].sum().sort_values(ascending=False).index[0:5]\n",
    "games_top5_platforms = games_period.query('platform in @top_platforms')\n",
    "platform_sales(games_top5_platforms, top_platforms, 1, 5, 6)"
   ]
  },
  {
   "cell_type": "markdown",
   "metadata": {},
   "source": [
    "Как видно из графиков для интерисуещего нас периода 2017 года, актуальными по прибыльности могут оставаться только PS4, 3DS и XOne"
   ]
  },
  {
   "cell_type": "markdown",
   "metadata": {},
   "source": [
    "Проанализируем самые продаваемые игры"
   ]
  },
  {
   "cell_type": "code",
   "execution_count": 29,
   "metadata": {},
   "outputs": [
    {
     "data": {
      "image/png": "[encoded data removed]",
      "text/plain": [
       "<Figure size 2016x576 with 1 Axes>"
      ]
     },
     "metadata": {},
     "output_type": "display_data"
    }
   ],
   "source": [
    "top10_games = games_period.groupby('name')['total_sales'].sum().sort_values(ascending=False)[0:10]\n",
    "plt.figure(figsize=(28,8))\n",
    "sb.boxplot(data=games_period.query('name in @top10_games.index'), x='name', y='total_sales')\n",
    "plt.show()"
   ]
  },
  {
   "cell_type": "code",
   "execution_count": 30,
   "metadata": {},
   "outputs": [
    {
     "data": {
      "image/png": "[encoded data removed]",
      "text/plain": [
       "<Figure size 1080x576 with 10 Axes>"
      ]
     },
     "metadata": {},
     "output_type": "display_data"
    }
   ],
   "source": [
    "plt.subplots(2,5,figsize=(15,8))\n",
    "i = 1\n",
    "for game in top10_games.index:\n",
    "    ax=plt.subplot(2,5,i)\n",
    "    games_period.query('name==@game').plot(kind='bar', x='platform', y='total_sales', ax=ax)\n",
    "    ax.set_xlabel(game)\n",
    "    i += 1\n",
    "plt.tight_layout()"
   ]
  },
  {
   "cell_type": "markdown",
   "metadata": {},
   "source": [
    "Как видно из графиков, самые популярные игры имеют самые высокие продажи для самых популярных платформ PS3, PS4, X360,XOne"
   ]
  },
  {
   "cell_type": "markdown",
   "metadata": {},
   "source": [
    "Проанализируем продажи по платформам"
   ]
  },
  {
   "cell_type": "code",
   "execution_count": 31,
   "metadata": {},
   "outputs": [
    {
     "data": {
      "image/png": "[encoded data removed]",
      "text/plain": [
       "<Figure size 720x360 with 1 Axes>"
      ]
     },
     "metadata": {},
     "output_type": "display_data"
    }
   ],
   "source": [
    "plt.figure(figsize=(10,5))\n",
    "sb.boxplot(data=games_top5_platforms, x='platform', y='total_sales')\n",
    "plt.ylim(0,10)\n",
    "plt.show()"
   ]
  },
  {
   "cell_type": "markdown",
   "metadata": {},
   "source": [
    "Все патформы выпускают самые продаваемые игры"
   ]
  },
  {
   "cell_type": "markdown",
   "metadata": {},
   "source": [
    "Рассмотрим как влияют отзывы пользователей и критиков на продажи на одной популярной платформе, для примера возьмем X360"
   ]
  },
  {
   "cell_type": "code",
   "execution_count": 32,
   "metadata": {},
   "outputs": [
    {
     "data": {
      "image/png": "[encoded data removed]",
      "text/plain": [
       "<Figure size 432x288 with 1 Axes>"
      ]
     },
     "metadata": {},
     "output_type": "display_data"
    }
   ],
   "source": [
    "games_period.query('platform==\"X360\"').plot(kind='scatter', x='critic_score', y='total_sales')\n",
    "plt.show()"
   ]
  },
  {
   "cell_type": "code",
   "execution_count": 33,
   "metadata": {},
   "outputs": [
    {
     "data": {
      "text/plain": [
       "0.3605734888507336"
      ]
     },
     "execution_count": 33,
     "metadata": {},
     "output_type": "execute_result"
    }
   ],
   "source": [
    "games_period.query('platform==\"X360\"')['critic_score'].corr(games_period.query('platform==\"X360\"')['total_sales'])"
   ]
  },
  {
   "cell_type": "code",
   "execution_count": 34,
   "metadata": {},
   "outputs": [
    {
     "data": {
      "image/png": "[encoded data removed]",
      "text/plain": [
       "<Figure size 432x288 with 1 Axes>"
      ]
     },
     "metadata": {},
     "output_type": "display_data"
    }
   ],
   "source": [
    "games_period.query('platform==\"X360\"').plot(kind='scatter', x='user_score', y='total_sales')\n",
    "plt.show()"
   ]
  },
  {
   "cell_type": "code",
   "execution_count": 35,
   "metadata": {},
   "outputs": [
    {
     "data": {
      "text/plain": [
       "0.006163978646213326"
      ]
     },
     "execution_count": 35,
     "metadata": {},
     "output_type": "execute_result"
    }
   ],
   "source": [
    "games_period.query('platform==\"X360\"')['user_score'].corr(games_period.query('platform==\"X360\"')['total_sales'])"
   ]
  },
  {
   "cell_type": "markdown",
   "metadata": {},
   "source": [
    "На основании данных диаграмм рассеяния и корреляции Пирсона можно сделать вывод, отзывы критиков не занчительно, но влияют на продажи. Тогда как отзывы пользователей практически не оказывают влияниния на продажи"
   ]
  },
  {
   "cell_type": "markdown",
   "metadata": {},
   "source": [
    "Расчитаем корреляцию для других платформ"
   ]
  },
  {
   "cell_type": "markdown",
   "metadata": {},
   "source": [
    "На основании оценки критиков"
   ]
  },
  {
   "cell_type": "code",
   "execution_count": 36,
   "metadata": {},
   "outputs": [
    {
     "name": "stdout",
     "output_type": "stream",
     "text": [
      "PS3 коэффициент корреляции: 0.3314972592629587\n",
      "X360 коэффициент корреляции: 0.3605734888507336\n",
      "PS4 коэффициент корреляции: 0.40656790206178095\n",
      "3DS коэффициент корреляции: 0.3208028695360785\n",
      "DS коэффициент корреляции: nan\n",
      "XOne коэффициент корреляции: 0.4169983280084017\n",
      "WiiU коэффициент корреляции: 0.34837976012017485\n",
      "Wii коэффициент корреляции: -0.4243413011077494\n",
      "PC коэффициент корреляции: 0.23724324311567915\n",
      "PSV коэффициент корреляции: 0.0944878992931617\n",
      "PSP коэффициент корреляции: nan\n"
     ]
    }
   ],
   "source": [
    "platforms = games_period['platform'].unique()\n",
    "for platform in platforms:\n",
    "    temp = games_period.query('platform==@platform')\n",
    "    print(platform,'коэффициент корреляции:',temp['critic_score'].corr(temp['total_sales']))"
   ]
  },
  {
   "cell_type": "markdown",
   "metadata": {},
   "source": [
    "На основании оценки пользователей"
   ]
  },
  {
   "cell_type": "code",
   "execution_count": 37,
   "metadata": {},
   "outputs": [
    {
     "name": "stdout",
     "output_type": "stream",
     "text": [
      "PS3 коэффициент корреляции: -0.005143522887113828\n",
      "X360 коэффициент корреляции: 0.006163978646213326\n",
      "PS4 коэффициент корреляции: -0.031957110204556376\n",
      "3DS коэффициент корреляции: 0.19758263411038599\n",
      "DS коэффициент корреляции: 0.88270872757644\n",
      "XOne коэффициент корреляции: -0.06892505328279414\n",
      "WiiU коэффициент корреляции: 0.4002190202148617\n",
      "Wii коэффициент корреляции: 0.29619680007479526\n",
      "PC коэффициент корреляции: -0.12186747630735577\n",
      "PSV коэффициент корреляции: -0.004339437514314869\n",
      "PSP коэффициент корреляции: -0.802302061939321\n"
     ]
    }
   ],
   "source": [
    "latforms = games_period['platform'].unique()\n",
    "for platform in platforms:\n",
    "    temp = games_period.query('platform==@platform')\n",
    "    print(platform,'коэффициент корреляции:',temp['user_score'].corr(temp['total_sales']))"
   ]
  },
  {
   "cell_type": "markdown",
   "metadata": {},
   "source": [
    "Результат подтверждаем ранее сделанные выводы.\n",
    "Продажи в определенной степени зависят от оценки критиков, особенно ярко это видно на примерере платформ входящих в топ по продажам. \n",
    "А оценка пользователей на большенстве платформ не оказывает влияния продажи, но есть исключение как мы видим из полученных данных - это платформы DS, WiiU, Wii. При этом на данных платформах значительно низко влияние отзывов критиков, возможно в этом причина. Покупатели в этом случае опираютмся на отзывы пользователей "
   ]
  },
  {
   "cell_type": "markdown",
   "metadata": {},
   "source": [
    "Рассмотрим распределение игр по жанрам"
   ]
  },
  {
   "cell_type": "code",
   "execution_count": 38,
   "metadata": {},
   "outputs": [
    {
     "data": {
      "text/plain": [
       "array(['Sports', 'Platform', 'Racing', 'Role-Playing', 'Puzzle', 'Misc',\n",
       "       'Shooter', 'Simulation', 'Action', 'Fighting', 'Adventure',\n",
       "       'Strategy', nan], dtype=object)"
      ]
     },
     "execution_count": 38,
     "metadata": {},
     "output_type": "execute_result"
    }
   ],
   "source": [
    "games['genre'].unique()"
   ]
  },
  {
   "cell_type": "code",
   "execution_count": 39,
   "metadata": {},
   "outputs": [
    {
     "data": {
      "image/png": "[encoded data removed]",
      "text/plain": [
       "<Figure size 432x288 with 1 Axes>"
      ]
     },
     "metadata": {},
     "output_type": "display_data"
    }
   ],
   "source": [
    "games_period.groupby('genre')['name'].count().sort_values(ascending=False).plot(kind='bar', label='число игр', legend=True)\n",
    "plt.show()"
   ]
  },
  {
   "cell_type": "code",
   "execution_count": 40,
   "metadata": {},
   "outputs": [
    {
     "data": {
      "image/png": "[encoded data removed]",
      "text/plain": [
       "<Figure size 432x288 with 1 Axes>"
      ]
     },
     "metadata": {},
     "output_type": "display_data"
    }
   ],
   "source": [
    "games_period.groupby('genre')['total_sales'].sum().sort_values(ascending=False).plot(kind='bar', label='продажи', legend=True)\n",
    "plt.show()"
   ]
  },
  {
   "cell_type": "markdown",
   "metadata": {},
   "source": [
    "Как видно из графиков лидер по количеству выпускаемых игр и объему продаж жанр - Action. Так же можно выделить такие жанры как: Adventure - здесь мы видим большое количетво выпускаемых игр, но при этом продажи очень низкие, Shooter - игр выпускают в данном жанре не так много, но при этом они пользуются высоким спросом у пользователей"
   ]
  },
  {
   "cell_type": "code",
   "execution_count": 41,
   "metadata": {},
   "outputs": [
    {
     "data": {
      "image/png": "[encoded data removed]",
      "text/plain": [
       "<Figure size 432x288 with 1 Axes>"
      ]
     },
     "metadata": {},
     "output_type": "display_data"
    }
   ],
   "source": [
    "games_period.groupby('genre')['total_sales'].median().sort_values(ascending=False).plot(kind='bar', label='продажи', legend=True)\n",
    "plt.show()"
   ]
  },
  {
   "cell_type": "markdown",
   "metadata": {},
   "source": [
    "Ответ студента: при анализе продаж с примененим метода медианных продаж, картина меняется. Можно отметить, что наиболее высокий доход приносят игры в жанре \"Shooter\", при этом колличество выпускаемых игр в данном жанре не высокое. При этом лидер по выпуску игр на рынок жанр \"Action\" при данном подходе к анализу данных по прибыльности имеет достаточно скромный результат. Видимо небольшое количество коммерчески успешных проектов, перекрывает досточно скромные результаты по остальным позициям из данного жанра"
   ]
  },
  {
   "cell_type": "markdown",
   "metadata": {},
   "source": [
    "# 4. Портрет пользователя по регионам"
   ]
  },
  {
   "cell_type": "markdown",
   "metadata": {},
   "source": [
    "Рассмотрим популярность платформ по регионам"
   ]
  },
  {
   "cell_type": "code",
   "execution_count": 42,
   "metadata": {},
   "outputs": [
    {
     "data": {
      "text/plain": [
       "<AxesSubplot:xlabel='platform'>"
      ]
     },
     "execution_count": 42,
     "metadata": {},
     "output_type": "execute_result"
    },
    {
     "data": {
      "image/png": "[encoded data removed]",
      "text/plain": [
       "<Figure size 432x288 with 1 Axes>"
      ]
     },
     "metadata": {},
     "output_type": "display_data"
    },
    {
     "data": {
      "image/png": "[encoded data removed]",
      "text/plain": [
       "<Figure size 432x288 with 1 Axes>"
      ]
     },
     "metadata": {},
     "output_type": "display_data"
    },
    {
     "data": {
      "image/png": "[encoded data removed]",
      "text/plain": [
       "<Figure size 432x288 with 1 Axes>"
      ]
     },
     "metadata": {},
     "output_type": "display_data"
    }
   ],
   "source": [
    "games.groupby(by='platform').agg({'na_sales':'sum'}).sort_values(by='na_sales', ascending=False).head(5).plot(kind='bar')\n",
    "games.groupby(by='platform').agg({'eu_sales':'sum'}).sort_values(by='eu_sales', ascending=False).head(5).plot(kind='bar')\n",
    "games.groupby(by='platform').agg({'jp_sales':'sum'}).sort_values(by='jp_sales', ascending=False).head(5).plot(kind='bar')"
   ]
  },
  {
   "cell_type": "markdown",
   "metadata": {},
   "source": [
    "Из полученных графиков можно сделать вывод: предпочтения пользователей в Северной Америке и Европе похожи, а вот в Японии большей популярность пользуется платформа DS. "
   ]
  },
  {
   "cell_type": "markdown",
   "metadata": {},
   "source": [
    "Рассмотрим популярность жанров по регионам"
   ]
  },
  {
   "cell_type": "code",
   "execution_count": 43,
   "metadata": {},
   "outputs": [
    {
     "data": {
      "text/plain": [
       "<AxesSubplot:xlabel='genre'>"
      ]
     },
     "execution_count": 43,
     "metadata": {},
     "output_type": "execute_result"
    },
    {
     "data": {
      "image/png": "[encoded data removed]",
      "text/plain": [
       "<Figure size 432x288 with 1 Axes>"
      ]
     },
     "metadata": {},
     "output_type": "display_data"
    },
    {
     "data": {
      "image/png": "[encoded data removed]",
      "text/plain": [
       "<Figure size 432x288 with 1 Axes>"
      ]
     },
     "metadata": {},
     "output_type": "display_data"
    },
    {
     "data": {
      "image/png": "[encoded data removed]",
      "text/plain": [
       "<Figure size 432x288 with 1 Axes>"
      ]
     },
     "metadata": {},
     "output_type": "display_data"
    }
   ],
   "source": [
    "games.groupby(by='genre').agg({'na_sales':'sum'}).sort_values(by='na_sales', ascending=False).head(5).plot(kind='bar')\n",
    "games.groupby(by='genre').agg({'eu_sales':'sum'}).sort_values(by='eu_sales', ascending=False).head(5).plot(kind='bar')\n",
    "games.groupby(by='genre').agg({'jp_sales':'sum'}).sort_values(by='jp_sales', ascending=False).head(5).plot(kind='bar')"
   ]
  },
  {
   "cell_type": "markdown",
   "metadata": {},
   "source": [
    "Из полученных графиков можно сделать вывод: предпочтения пользователей из Северонй Америки и Европы практически не отличаются, топ-3 по жанрам вообщее идентичны. В Японии большее предпочтение пользователи от дают жанру \"Role-Playing\". Скорее всего большое влияние оказывает разница культур, если пользователи Северной Америки и Европы в этом плане близки, то рынок в Японии очень спецефичен"
   ]
  },
  {
   "cell_type": "markdown",
   "metadata": {},
   "source": [
    "Влияние рейтинга ESRB на продажи по регионам"
   ]
  },
  {
   "cell_type": "code",
   "execution_count": 50,
   "metadata": {},
   "outputs": [
    {
     "data": {
      "text/plain": [
       "<AxesSubplot:xlabel='rating'>"
      ]
     },
     "execution_count": 50,
     "metadata": {},
     "output_type": "execute_result"
    },
    {
     "data": {
      "image/png": "[encoded data removed]",
      "text/plain": [
       "<Figure size 432x288 with 1 Axes>"
      ]
     },
     "metadata": {},
     "output_type": "display_data"
    },
    {
     "data": {
      "image/png": "[encoded data removed]",
      "text/plain": [
       "<Figure size 432x288 with 1 Axes>"
      ]
     },
     "metadata": {},
     "output_type": "display_data"
    },
    {
     "data": {
      "image/png": "[encoded data removed]",
      "text/plain": [
       "<Figure size 432x288 with 1 Axes>"
      ]
     },
     "metadata": {},
     "output_type": "display_data"
    }
   ],
   "source": [
    "games_with_rating = games.loc[games['rating'] != 'no rating']\n",
    "games_with_rating.groupby(by='rating').agg({'na_sales':'sum'}).sort_values(by='na_sales', ascending=False).head(5).plot(kind='bar')\n",
    "games_with_rating.groupby(by='rating').agg({'eu_sales':'sum'}).sort_values(by='eu_sales', ascending=False).head(5).plot(kind='bar')\n",
    "games_with_rating.groupby(by='rating').agg({'jp_sales':'sum'}).sort_values(by='jp_sales', ascending=False).head(5).plot(kind='bar')"
   ]
  },
  {
   "cell_type": "markdown",
   "metadata": {},
   "source": [
    "Во все трех регионах сымые популярные игры имеют рейтинг «E» («Everyone») — «Для всех», так же в топ-3 входят игры с рейтинком «M» («Mature») — «Для взрослых» и «T» («Teen») — «Подросткам». При этом в Европе отдают предпочтению играм с рейтингом «T» («Teen») — «Подросткам» больше, чем имеющим рейтинг «M» («Mature») — «Для взрослых»"
   ]
  },
  {
   "cell_type": "markdown",
   "metadata": {},
   "source": [
    "# 5. Проверка гипотиз"
   ]
  },
  {
   "cell_type": "markdown",
   "metadata": {},
   "source": [
    "Необходимо проверить гипотизы\n",
    "- Средний пользовательский рейтинг платформ Xbox One и PC одинаковый\n",
    "- Средний пользовательский рейтинг жанров Action и Sports разный"
   ]
  },
  {
   "cell_type": "markdown",
   "metadata": {},
   "source": [
    "Нулевая гипотиза всегда формулируется так, чтобы использовать знак равенства.\n",
    "equal_var берем False так как дисперсии выборок не равны.\n",
    "Общепринятые пороговые значения — 5% и 1%. Для данной работы берем 5%."
   ]
  },
  {
   "cell_type": "markdown",
   "metadata": {},
   "source": [
    "Первая гипотиза\n",
    "\n",
    "- H0: средний пользовательский рейтинг платформ Xbox One и PC одинаковый \n",
    "- H1: средний пользовательский рейтинг платформ Xbox One и PC различается"
   ]
  },
  {
   "cell_type": "code",
   "execution_count": 45,
   "metadata": {},
   "outputs": [
    {
     "name": "stdout",
     "output_type": "stream",
     "text": [
      "1.9069968429360695\n",
      "2.349224375076853\n",
      "p-значение: 4.5385802963771776e-06\n",
      "Отвергаем нулевую гипотезу\n"
     ]
    }
   ],
   "source": [
    "alpha = 0.05\n",
    "\n",
    "XOne = games[(games['platform'] == 'XOne') & (games['user_score'] > 0)]['user_score']\n",
    "PC = games[(games['platform'] == 'PC') & (games['user_score'] > 0)]['user_score']\n",
    "\n",
    "print(XOne.var(ddof=1))\n",
    "print(PC.var(ddof=1))\n",
    "results = st.ttest_ind(XOne, PC, equal_var = False)\n",
    "print('p-значение:', results.pvalue)\n",
    "\n",
    "if results.pvalue < alpha:\n",
    "    print(\"Отвергаем нулевую гипотезу\")\n",
    "else:\n",
    "    print(\"Не получилось отвергнуть нулевую гипотезу\")"
   ]
  },
  {
   "cell_type": "markdown",
   "metadata": {},
   "source": [
    "Вторая гипотиза\n",
    "\n",
    "- H0: средний пользовательский рейтинг жанров Action и Sports одинаковый\n",
    "- H1: средний пользовательский рейтинг жанров Action и Sports различается"
   ]
  },
  {
   "cell_type": "code",
   "execution_count": 46,
   "metadata": {},
   "outputs": [
    {
     "name": "stdout",
     "output_type": "stream",
     "text": [
      "2.027493768262496\n",
      "2.623055812519272\n",
      "p-значение: 0.07370217419278534\n",
      "Не получилось отвергнуть нулевую гипотезу\n"
     ]
    }
   ],
   "source": [
    "action = games[(games['genre'] == 'Action') & (games['user_score'] > 0)]['user_score']\n",
    "sports = games[(games['genre'] == 'Sports') & (games['user_score'] > 0)]['user_score']\n",
    "\n",
    "print(action.var(ddof=1))\n",
    "print(sports.var(ddof=1))\n",
    "\n",
    "results = st.ttest_ind(action, sports, equal_var = False)\n",
    "print('p-значение:', results.pvalue)\n",
    "\n",
    "if results.pvalue < alpha:\n",
    "    print(\"Отвергаем нулевую гипотезу\")\n",
    "else:\n",
    "    print(\"Не получилось отвергнуть нулевую гипотезу\")"
   ]
  },
  {
   "cell_type": "markdown",
   "metadata": {},
   "source": [
    "На основании проверки гипотиз можно сделать выводы: Средний пользовательский рейтинг для платформ \"Xbox One\" и \"PC\" отличается, лидер \"PC\". Средний пользовательский рейтинг по жанрам \"Action\" и \"Sports\" практически равен, наблюдается небольшое преимущество \"Sports\""
   ]
  },
  {
   "cell_type": "markdown",
   "metadata": {},
   "source": [
    "# 6. Общий вывод"
   ]
  },
  {
   "cell_type": "markdown",
   "metadata": {},
   "source": [
    "Проведя анализ данных о продажах компьютерных игр можно дать следующие рекомендации для подготовки рекламной компании на 2017 год:\n",
    "1. Для анализа целесообразно взять период за последние пять лет 2012-2016\n",
    "2. Изходя из жанровых предпочтений пользователей на рынках в Европе и Северной Америке больший объем инвестиций в рекламные компании следует направить на продвижение игр в жанре \"Action\"\n",
    "3. Но при этом необходимо учесть предпочтения пользователей в выборе платформы в данных регионах, пользователи Европы большее предпочтение отдают \"PS3\", тогда как в Северной Америке большей полулярностью пользуется \"XBox One\"\n",
    "4. Рекламная компания для Японского рынка должна быть принципиально другой, сильное вляние может иметь большое культурное отличие данного региона. Как показал анализ данных в этом регионе пользователи отдают предпочтения играм в жанре \"Role-Playing\" для платформы \"DS\""
   ]
  }
 ],
 "metadata": {
  "ExecuteTimeLog": [
   {
    "duration": 1749,
    "start_time": "2022-04-23T17:49:24.623Z"
   },
   {
    "duration": 3,
    "start_time": "2022-04-23T17:49:28.766Z"
   },
   {
    "duration": 70,
    "start_time": "2022-04-23T17:50:30.330Z"
   },
   {
    "duration": 16,
    "start_time": "2022-04-23T17:51:37.872Z"
   },
   {
    "duration": 43,
    "start_time": "2022-04-23T18:10:59.703Z"
   },
   {
    "duration": 14,
    "start_time": "2022-04-23T18:11:25.509Z"
   },
   {
    "duration": 5,
    "start_time": "2022-04-23T18:19:45.667Z"
   },
   {
    "duration": 4,
    "start_time": "2022-04-23T18:20:18.281Z"
   },
   {
    "duration": 153,
    "start_time": "2022-04-23T18:25:43.352Z"
   },
   {
    "duration": 4,
    "start_time": "2022-04-23T18:26:01.599Z"
   },
   {
    "duration": 5,
    "start_time": "2022-04-23T18:26:01.605Z"
   },
   {
    "duration": 70,
    "start_time": "2022-04-23T18:26:01.612Z"
   },
   {
    "duration": 20,
    "start_time": "2022-04-23T18:26:01.684Z"
   },
   {
    "duration": 4,
    "start_time": "2022-04-23T18:26:01.706Z"
   },
   {
    "duration": 9,
    "start_time": "2022-04-23T18:26:01.712Z"
   },
   {
    "duration": 41,
    "start_time": "2022-04-23T18:26:01.723Z"
   },
   {
    "duration": 13,
    "start_time": "2022-04-23T18:26:28.388Z"
   },
   {
    "duration": 22,
    "start_time": "2022-04-23T18:27:38.108Z"
   },
   {
    "duration": 16,
    "start_time": "2022-04-23T18:28:38.829Z"
   },
   {
    "duration": 6,
    "start_time": "2022-04-23T18:29:55.166Z"
   },
   {
    "duration": 9,
    "start_time": "2022-04-23T18:30:26.890Z"
   },
   {
    "duration": 13,
    "start_time": "2022-04-23T18:30:31.971Z"
   },
   {
    "duration": 8,
    "start_time": "2022-04-23T18:38:14.515Z"
   },
   {
    "duration": 17,
    "start_time": "2022-04-23T18:56:23.828Z"
   },
   {
    "duration": 18,
    "start_time": "2022-04-23T18:58:16.957Z"
   },
   {
    "duration": 23,
    "start_time": "2022-04-23T18:58:53.069Z"
   },
   {
    "duration": 309,
    "start_time": "2022-04-23T19:02:03.499Z"
   },
   {
    "duration": 531,
    "start_time": "2022-04-23T19:11:32.278Z"
   },
   {
    "duration": 33,
    "start_time": "2022-04-23T19:21:13.455Z"
   },
   {
    "duration": 22,
    "start_time": "2022-04-23T19:21:53.007Z"
   },
   {
    "duration": 24,
    "start_time": "2022-04-23T19:22:22.727Z"
   },
   {
    "duration": 2097,
    "start_time": "2022-04-23T19:24:48.717Z"
   },
   {
    "duration": 11,
    "start_time": "2022-04-23T19:32:51.320Z"
   },
   {
    "duration": 613,
    "start_time": "2022-04-23T19:36:25.084Z"
   },
   {
    "duration": 832,
    "start_time": "2022-04-23T19:39:16.857Z"
   },
   {
    "duration": 1301,
    "start_time": "2022-04-25T21:56:15.289Z"
   },
   {
    "duration": 3,
    "start_time": "2022-04-25T21:56:16.592Z"
   },
   {
    "duration": 54,
    "start_time": "2022-04-25T21:56:16.596Z"
   },
   {
    "duration": 14,
    "start_time": "2022-04-25T21:56:16.652Z"
   },
   {
    "duration": 3,
    "start_time": "2022-04-25T21:56:16.668Z"
   },
   {
    "duration": 7,
    "start_time": "2022-04-25T21:56:16.672Z"
   },
   {
    "duration": 22,
    "start_time": "2022-04-25T21:56:16.692Z"
   },
   {
    "duration": 5,
    "start_time": "2022-04-25T21:56:16.715Z"
   },
   {
    "duration": 7,
    "start_time": "2022-04-25T21:56:16.721Z"
   },
   {
    "duration": 12,
    "start_time": "2022-04-25T21:56:16.731Z"
   },
   {
    "duration": 7,
    "start_time": "2022-04-25T21:56:16.744Z"
   },
   {
    "duration": 45,
    "start_time": "2022-04-25T21:56:16.752Z"
   },
   {
    "duration": 15,
    "start_time": "2022-04-25T21:56:16.798Z"
   },
   {
    "duration": 297,
    "start_time": "2022-04-25T21:56:16.815Z"
   },
   {
    "duration": 326,
    "start_time": "2022-04-25T21:56:17.114Z"
   },
   {
    "duration": 20,
    "start_time": "2022-04-25T21:56:17.442Z"
   },
   {
    "duration": 1620,
    "start_time": "2022-04-25T21:56:17.463Z"
   },
   {
    "duration": 11,
    "start_time": "2022-04-25T21:56:19.093Z"
   },
   {
    "duration": 752,
    "start_time": "2022-04-25T21:56:19.105Z"
   },
   {
    "duration": 274,
    "start_time": "2022-04-25T22:00:32.435Z"
   },
   {
    "duration": 1695,
    "start_time": "2022-04-25T22:01:05.348Z"
   },
   {
    "duration": 163,
    "start_time": "2022-04-25T22:08:15.437Z"
   },
   {
    "duration": 186,
    "start_time": "2022-04-25T22:14:50.968Z"
   },
   {
    "duration": 10,
    "start_time": "2022-04-25T22:18:13.172Z"
   },
   {
    "duration": 137,
    "start_time": "2022-04-25T22:18:47.706Z"
   },
   {
    "duration": 13,
    "start_time": "2022-04-25T22:19:19.571Z"
   },
   {
    "duration": 34,
    "start_time": "2022-04-25T22:24:31.329Z"
   },
   {
    "duration": 36,
    "start_time": "2022-04-25T22:25:17.227Z"
   },
   {
    "duration": 175,
    "start_time": "2022-04-25T22:36:37.151Z"
   },
   {
    "duration": 261,
    "start_time": "2022-04-25T22:37:13.668Z"
   },
   {
    "duration": 7,
    "start_time": "2022-04-25T22:39:17.066Z"
   },
   {
    "duration": 7,
    "start_time": "2022-04-25T22:40:07.549Z"
   },
   {
    "duration": 269,
    "start_time": "2022-04-25T22:40:08.543Z"
   },
   {
    "duration": 5,
    "start_time": "2022-04-25T22:43:56.077Z"
   },
   {
    "duration": 454,
    "start_time": "2022-04-25T22:50:12.025Z"
   },
   {
    "duration": 395,
    "start_time": "2022-04-25T22:56:08.091Z"
   },
   {
    "duration": 378,
    "start_time": "2022-04-25T22:56:53.178Z"
   },
   {
    "duration": 374,
    "start_time": "2022-04-25T23:09:53.684Z"
   },
   {
    "duration": 384,
    "start_time": "2022-04-25T23:11:09.524Z"
   },
   {
    "duration": 11,
    "start_time": "2022-04-25T23:26:32.374Z"
   },
   {
    "duration": 12,
    "start_time": "2022-04-25T23:26:53.455Z"
   },
   {
    "duration": 104,
    "start_time": "2022-04-25T23:28:33.674Z"
   },
   {
    "duration": 15,
    "start_time": "2022-04-25T23:29:13.434Z"
   },
   {
    "duration": 12,
    "start_time": "2022-04-25T23:29:44.785Z"
   },
   {
    "duration": 3,
    "start_time": "2022-04-25T23:53:52.041Z"
   },
   {
    "duration": 9,
    "start_time": "2022-04-25T23:53:52.046Z"
   },
   {
    "duration": 45,
    "start_time": "2022-04-25T23:53:52.057Z"
   },
   {
    "duration": 13,
    "start_time": "2022-04-25T23:53:52.104Z"
   },
   {
    "duration": 8,
    "start_time": "2022-04-25T23:53:52.119Z"
   },
   {
    "duration": 10,
    "start_time": "2022-04-25T23:53:52.129Z"
   },
   {
    "duration": 21,
    "start_time": "2022-04-25T23:53:52.140Z"
   },
   {
    "duration": 5,
    "start_time": "2022-04-25T23:53:52.162Z"
   },
   {
    "duration": 6,
    "start_time": "2022-04-25T23:53:52.193Z"
   },
   {
    "duration": 13,
    "start_time": "2022-04-25T23:53:52.202Z"
   },
   {
    "duration": 8,
    "start_time": "2022-04-25T23:53:52.216Z"
   },
   {
    "duration": 15,
    "start_time": "2022-04-25T23:53:52.225Z"
   },
   {
    "duration": 16,
    "start_time": "2022-04-25T23:53:52.241Z"
   },
   {
    "duration": 369,
    "start_time": "2022-04-25T23:53:52.259Z"
   },
   {
    "duration": 420,
    "start_time": "2022-04-25T23:53:52.630Z"
   },
   {
    "duration": 20,
    "start_time": "2022-04-25T23:53:53.051Z"
   },
   {
    "duration": 1427,
    "start_time": "2022-04-25T23:53:53.073Z"
   },
   {
    "duration": 10,
    "start_time": "2022-04-25T23:53:54.502Z"
   },
   {
    "duration": 739,
    "start_time": "2022-04-25T23:53:54.513Z"
   },
   {
    "duration": 390,
    "start_time": "2022-04-25T23:53:55.253Z"
   },
   {
    "duration": 1548,
    "start_time": "2022-04-25T23:53:55.644Z"
   },
   {
    "duration": 155,
    "start_time": "2022-04-25T23:53:57.194Z"
   },
   {
    "duration": 165,
    "start_time": "2022-04-25T23:53:57.350Z"
   },
   {
    "duration": 9,
    "start_time": "2022-04-25T23:53:57.517Z"
   },
   {
    "duration": 257,
    "start_time": "2022-04-25T23:53:57.529Z"
   },
   {
    "duration": 11,
    "start_time": "2022-04-25T23:53:57.787Z"
   },
   {
    "duration": 36,
    "start_time": "2022-04-25T23:53:57.799Z"
   },
   {
    "duration": 29,
    "start_time": "2022-04-25T23:53:57.838Z"
   },
   {
    "duration": 25,
    "start_time": "2022-04-25T23:53:57.869Z"
   },
   {
    "duration": 175,
    "start_time": "2022-04-25T23:53:57.895Z"
   },
   {
    "duration": 170,
    "start_time": "2022-04-25T23:53:58.071Z"
   },
   {
    "duration": 380,
    "start_time": "2022-04-25T23:53:58.243Z"
   },
   {
    "duration": 374,
    "start_time": "2022-04-25T23:53:58.624Z"
   },
   {
    "duration": 373,
    "start_time": "2022-04-25T23:53:59.000Z"
   },
   {
    "duration": 19,
    "start_time": "2022-04-25T23:53:59.375Z"
   },
   {
    "duration": 11,
    "start_time": "2022-04-25T23:53:59.396Z"
   },
   {
    "duration": 52,
    "start_time": "2022-05-01T16:06:01.254Z"
   },
   {
    "duration": 6,
    "start_time": "2022-05-01T16:06:32.813Z"
   },
   {
    "duration": 1477,
    "start_time": "2022-05-01T16:07:16.833Z"
   },
   {
    "duration": 3,
    "start_time": "2022-05-01T16:07:18.312Z"
   },
   {
    "duration": 56,
    "start_time": "2022-05-01T16:07:20.263Z"
   },
   {
    "duration": 15,
    "start_time": "2022-05-01T16:07:27.711Z"
   },
   {
    "duration": 30,
    "start_time": "2022-05-01T16:07:34.523Z"
   },
   {
    "duration": 65,
    "start_time": "2022-05-01T16:19:27.922Z"
   },
   {
    "duration": 4,
    "start_time": "2022-05-01T16:19:41.270Z"
   },
   {
    "duration": 5,
    "start_time": "2022-05-01T16:19:41.277Z"
   },
   {
    "duration": 56,
    "start_time": "2022-05-01T16:19:41.285Z"
   },
   {
    "duration": 14,
    "start_time": "2022-05-01T16:19:41.343Z"
   },
   {
    "duration": 29,
    "start_time": "2022-05-01T16:19:41.358Z"
   },
   {
    "duration": 2,
    "start_time": "2022-05-01T16:19:41.390Z"
   },
   {
    "duration": 9,
    "start_time": "2022-05-01T16:19:41.394Z"
   },
   {
    "duration": 23,
    "start_time": "2022-05-01T16:19:41.434Z"
   },
   {
    "duration": 5,
    "start_time": "2022-05-01T16:19:41.459Z"
   },
   {
    "duration": 9,
    "start_time": "2022-05-01T16:19:41.465Z"
   },
   {
    "duration": 13,
    "start_time": "2022-05-01T16:19:41.476Z"
   },
   {
    "duration": 41,
    "start_time": "2022-05-01T16:19:41.492Z"
   },
   {
    "duration": 15,
    "start_time": "2022-05-01T16:19:41.535Z"
   },
   {
    "duration": 19,
    "start_time": "2022-05-01T16:19:41.552Z"
   },
   {
    "duration": 351,
    "start_time": "2022-05-01T16:19:41.573Z"
   },
   {
    "duration": 378,
    "start_time": "2022-05-01T16:19:41.932Z"
   },
   {
    "duration": 122,
    "start_time": "2022-05-01T16:19:42.312Z"
   },
   {
    "duration": 1666,
    "start_time": "2022-05-01T16:19:42.436Z"
   },
   {
    "duration": 10,
    "start_time": "2022-05-01T16:19:44.104Z"
   },
   {
    "duration": 849,
    "start_time": "2022-05-01T16:19:44.116Z"
   },
   {
    "duration": 452,
    "start_time": "2022-05-01T16:19:44.967Z"
   },
   {
    "duration": 1855,
    "start_time": "2022-05-01T16:19:45.421Z"
   },
   {
    "duration": 189,
    "start_time": "2022-05-01T16:19:47.278Z"
   },
   {
    "duration": 201,
    "start_time": "2022-05-01T16:19:47.468Z"
   },
   {
    "duration": 9,
    "start_time": "2022-05-01T16:19:47.671Z"
   },
   {
    "duration": 168,
    "start_time": "2022-05-01T16:19:47.682Z"
   },
   {
    "duration": 10,
    "start_time": "2022-05-01T16:19:47.852Z"
   },
   {
    "duration": 36,
    "start_time": "2022-05-01T16:19:47.863Z"
   },
   {
    "duration": 85,
    "start_time": "2022-05-01T16:19:47.900Z"
   },
   {
    "duration": 45,
    "start_time": "2022-05-01T16:19:47.990Z"
   },
   {
    "duration": 331,
    "start_time": "2022-05-01T16:19:48.037Z"
   },
   {
    "duration": 205,
    "start_time": "2022-05-01T16:19:48.370Z"
   },
   {
    "duration": 207,
    "start_time": "2022-05-01T16:19:48.577Z"
   },
   {
    "duration": 451,
    "start_time": "2022-05-01T16:19:48.786Z"
   },
   {
    "duration": 468,
    "start_time": "2022-05-01T16:19:49.238Z"
   },
   {
    "duration": 480,
    "start_time": "2022-05-01T16:19:49.708Z"
   },
   {
    "duration": 12,
    "start_time": "2022-05-01T16:19:50.190Z"
   },
   {
    "duration": 15,
    "start_time": "2022-05-01T16:19:50.204Z"
   },
   {
    "duration": 493,
    "start_time": "2022-05-01T16:32:00.097Z"
   },
   {
    "duration": 565,
    "start_time": "2022-05-01T16:32:35.667Z"
   },
   {
    "duration": 26,
    "start_time": "2022-05-01T16:33:19.933Z"
   },
   {
    "duration": 434,
    "start_time": "2022-05-01T16:33:50.094Z"
   },
   {
    "duration": 19886,
    "start_time": "2022-07-20T22:48:20.572Z"
   },
   {
    "duration": 7582,
    "start_time": "2023-07-14T15:56:02.259Z"
   },
   {
    "duration": 22693,
    "start_time": "2023-07-14T16:00:10.154Z"
   },
   {
    "duration": 453,
    "start_time": "2023-07-14T16:00:32.850Z"
   },
   {
    "duration": 2,
    "start_time": "2023-07-14T16:00:33.306Z"
   },
   {
    "duration": 212,
    "start_time": "2023-07-14T16:00:33.310Z"
   },
   {
    "duration": 16,
    "start_time": "2023-07-14T16:04:09.634Z"
   },
   {
    "duration": 20120,
    "start_time": "2023-07-14T16:04:21.191Z"
   },
   {
    "duration": 482,
    "start_time": "2023-07-14T16:04:41.314Z"
   },
   {
    "duration": 4,
    "start_time": "2023-07-14T16:04:42.313Z"
   },
   {
    "duration": 438,
    "start_time": "2023-07-14T16:41:03.459Z"
   },
   {
    "duration": 64,
    "start_time": "2023-07-14T16:41:29.522Z"
   },
   {
    "duration": 20278,
    "start_time": "2023-07-14T16:41:40.116Z"
   },
   {
    "duration": 491,
    "start_time": "2023-07-14T16:42:02.346Z"
   },
   {
    "duration": 4,
    "start_time": "2023-07-14T16:42:08.533Z"
   },
   {
    "duration": 60,
    "start_time": "2023-07-14T16:42:12.800Z"
   },
   {
    "duration": 21,
    "start_time": "2023-07-14T16:42:13.927Z"
   },
   {
    "duration": 453,
    "start_time": "2023-07-14T16:42:33.608Z"
   },
   {
    "duration": 4,
    "start_time": "2023-07-14T16:42:42.017Z"
   },
   {
    "duration": 61,
    "start_time": "2023-07-14T16:42:46.187Z"
   },
   {
    "duration": 16,
    "start_time": "2023-07-14T16:42:57.632Z"
   }
  ],
  "kernelspec": {
   "display_name": "Python 3 (ipykernel)",
   "language": "python",
   "name": "python3"
  },
  "language_info": {
   "codemirror_mode": {
    "name": "ipython",
    "version": 3
   },
   "file_extension": ".py",
   "mimetype": "text/x-python",
   "name": "python",
   "nbconvert_exporter": "python",
   "pygments_lexer": "ipython3",
   "version": "3.9.5"
  },
  "toc": {
   "base_numbering": 1,
   "nav_menu": {},
   "number_sections": true,
   "sideBar": true,
   "skip_h1_title": true,
   "title_cell": "Table of Contents",
   "title_sidebar": "Contents",
   "toc_cell": false,
   "toc_position": {},
   "toc_section_display": true,
   "toc_window_display": true
  }
 },
 "nbformat": 4,
 "nbformat_minor": 2
}
