{
 "cells": [
  {
   "cell_type": "markdown",
   "metadata": {},
   "source": [
    "# 1. Знакомство с данными, изучение общей информации"
   ]
  },
  {
   "cell_type": "markdown",
   "metadata": {},
   "source": [
    "В рамках данного проекта мы рассмотрим данные предоставленные сотовым оператом «Мегалайна». В выборку для анализа попали данные по 500 пользователям за 2018 год. В результате анализа данных предстоит определить на основании поведения клиентов какой тариф лучше."
   ]
  },
  {
   "cell_type": "code",
   "execution_count": 66,
   "metadata": {},
   "outputs": [],
   "source": [
    "import pandas as pd\n",
    "import numpy as np\n",
    "import matplotlib.pyplot as plt\n",
    "\n",
    "from datetime import datetime\n",
    "from scipy import stats as st\n",
    "\n",
    "pd.set_option('display.max_columns', 500)\n",
    "pd.options.display.float_format = '{:,.2f}'.format"
   ]
  },
  {
   "cell_type": "code",
   "execution_count": 67,
   "metadata": {},
   "outputs": [],
   "source": [
    "calls = pd.read_csv('/datasets/calls.csv')\n",
    "internet = pd.read_csv('/datasets/internet.csv', index_col=0)\n",
    "messages = pd.read_csv('/datasets/messages.csv')\n",
    "tariffs = pd.read_csv('/datasets/tariffs.csv')\n",
    "users = pd.read_csv('/datasets/users.csv')"
   ]
  },
  {
   "cell_type": "code",
   "execution_count": 68,
   "metadata": {},
   "outputs": [
    {
     "data": {
      "text/html": [
       "<div>\n",
       "<style scoped>\n",
       "    .dataframe tbody tr th:only-of-type {\n",
       "        vertical-align: middle;\n",
       "    }\n",
       "\n",
       "    .dataframe tbody tr th {\n",
       "        vertical-align: top;\n",
       "    }\n",
       "\n",
       "    .dataframe thead th {\n",
       "        text-align: right;\n",
       "    }\n",
       "</style>\n",
       "<table border=\"1\" class=\"dataframe\">\n",
       "  <thead>\n",
       "    <tr style=\"text-align: right;\">\n",
       "      <th></th>\n",
       "      <th>id</th>\n",
       "      <th>call_date</th>\n",
       "      <th>duration</th>\n",
       "      <th>user_id</th>\n",
       "    </tr>\n",
       "  </thead>\n",
       "  <tbody>\n",
       "    <tr>\n",
       "      <th>0</th>\n",
       "      <td>1000_0</td>\n",
       "      <td>2018-07-25</td>\n",
       "      <td>0.00</td>\n",
       "      <td>1000</td>\n",
       "    </tr>\n",
       "    <tr>\n",
       "      <th>1</th>\n",
       "      <td>1000_1</td>\n",
       "      <td>2018-08-17</td>\n",
       "      <td>0.00</td>\n",
       "      <td>1000</td>\n",
       "    </tr>\n",
       "    <tr>\n",
       "      <th>2</th>\n",
       "      <td>1000_2</td>\n",
       "      <td>2018-06-11</td>\n",
       "      <td>2.85</td>\n",
       "      <td>1000</td>\n",
       "    </tr>\n",
       "    <tr>\n",
       "      <th>3</th>\n",
       "      <td>1000_3</td>\n",
       "      <td>2018-09-21</td>\n",
       "      <td>13.80</td>\n",
       "      <td>1000</td>\n",
       "    </tr>\n",
       "    <tr>\n",
       "      <th>4</th>\n",
       "      <td>1000_4</td>\n",
       "      <td>2018-12-15</td>\n",
       "      <td>5.18</td>\n",
       "      <td>1000</td>\n",
       "    </tr>\n",
       "  </tbody>\n",
       "</table>\n",
       "</div>"
      ],
      "text/plain": [
       "       id   call_date  duration  user_id\n",
       "0  1000_0  2018-07-25      0.00     1000\n",
       "1  1000_1  2018-08-17      0.00     1000\n",
       "2  1000_2  2018-06-11      2.85     1000\n",
       "3  1000_3  2018-09-21     13.80     1000\n",
       "4  1000_4  2018-12-15      5.18     1000"
      ]
     },
     "execution_count": 68,
     "metadata": {},
     "output_type": "execute_result"
    }
   ],
   "source": [
    "calls.head()"
   ]
  },
  {
   "cell_type": "code",
   "execution_count": 69,
   "metadata": {},
   "outputs": [
    {
     "name": "stdout",
     "output_type": "stream",
     "text": [
      "<class 'pandas.core.frame.DataFrame'>\n",
      "RangeIndex: 202607 entries, 0 to 202606\n",
      "Data columns (total 4 columns):\n",
      " #   Column     Non-Null Count   Dtype  \n",
      "---  ------     --------------   -----  \n",
      " 0   id         202607 non-null  object \n",
      " 1   call_date  202607 non-null  object \n",
      " 2   duration   202607 non-null  float64\n",
      " 3   user_id    202607 non-null  int64  \n",
      "dtypes: float64(1), int64(1), object(2)\n",
      "memory usage: 6.2+ MB\n"
     ]
    }
   ],
   "source": [
    "calls.info()"
   ]
  },
  {
   "cell_type": "markdown",
   "metadata": {},
   "source": [
    "До перехода к анализу данных необходимо изменить тип данных в столбцах: \"call_date\", \"id\", \"duration\". Длительность звонков округлить вверх, по условиям оператора связи"
   ]
  },
  {
   "cell_type": "code",
   "execution_count": 70,
   "metadata": {},
   "outputs": [
    {
     "data": {
      "text/html": [
       "<div>\n",
       "<style scoped>\n",
       "    .dataframe tbody tr th:only-of-type {\n",
       "        vertical-align: middle;\n",
       "    }\n",
       "\n",
       "    .dataframe tbody tr th {\n",
       "        vertical-align: top;\n",
       "    }\n",
       "\n",
       "    .dataframe thead th {\n",
       "        text-align: right;\n",
       "    }\n",
       "</style>\n",
       "<table border=\"1\" class=\"dataframe\">\n",
       "  <thead>\n",
       "    <tr style=\"text-align: right;\">\n",
       "      <th></th>\n",
       "      <th>id</th>\n",
       "      <th>mb_used</th>\n",
       "      <th>session_date</th>\n",
       "      <th>user_id</th>\n",
       "    </tr>\n",
       "  </thead>\n",
       "  <tbody>\n",
       "    <tr>\n",
       "      <th>0</th>\n",
       "      <td>1000_0</td>\n",
       "      <td>112.95</td>\n",
       "      <td>2018-11-25</td>\n",
       "      <td>1000</td>\n",
       "    </tr>\n",
       "    <tr>\n",
       "      <th>1</th>\n",
       "      <td>1000_1</td>\n",
       "      <td>1,052.81</td>\n",
       "      <td>2018-09-07</td>\n",
       "      <td>1000</td>\n",
       "    </tr>\n",
       "    <tr>\n",
       "      <th>2</th>\n",
       "      <td>1000_2</td>\n",
       "      <td>1,197.26</td>\n",
       "      <td>2018-06-25</td>\n",
       "      <td>1000</td>\n",
       "    </tr>\n",
       "    <tr>\n",
       "      <th>3</th>\n",
       "      <td>1000_3</td>\n",
       "      <td>550.27</td>\n",
       "      <td>2018-08-22</td>\n",
       "      <td>1000</td>\n",
       "    </tr>\n",
       "    <tr>\n",
       "      <th>4</th>\n",
       "      <td>1000_4</td>\n",
       "      <td>302.56</td>\n",
       "      <td>2018-09-24</td>\n",
       "      <td>1000</td>\n",
       "    </tr>\n",
       "  </tbody>\n",
       "</table>\n",
       "</div>"
      ],
      "text/plain": [
       "       id  mb_used session_date  user_id\n",
       "0  1000_0   112.95   2018-11-25     1000\n",
       "1  1000_1 1,052.81   2018-09-07     1000\n",
       "2  1000_2 1,197.26   2018-06-25     1000\n",
       "3  1000_3   550.27   2018-08-22     1000\n",
       "4  1000_4   302.56   2018-09-24     1000"
      ]
     },
     "execution_count": 70,
     "metadata": {},
     "output_type": "execute_result"
    }
   ],
   "source": [
    "internet.head()"
   ]
  },
  {
   "cell_type": "code",
   "execution_count": 71,
   "metadata": {
    "scrolled": true
   },
   "outputs": [
    {
     "name": "stdout",
     "output_type": "stream",
     "text": [
      "<class 'pandas.core.frame.DataFrame'>\n",
      "Int64Index: 149396 entries, 0 to 149395\n",
      "Data columns (total 4 columns):\n",
      " #   Column        Non-Null Count   Dtype  \n",
      "---  ------        --------------   -----  \n",
      " 0   id            149396 non-null  object \n",
      " 1   mb_used       149396 non-null  float64\n",
      " 2   session_date  149396 non-null  object \n",
      " 3   user_id       149396 non-null  int64  \n",
      "dtypes: float64(1), int64(1), object(2)\n",
      "memory usage: 5.7+ MB\n"
     ]
    }
   ],
   "source": [
    "internet.info()"
   ]
  },
  {
   "cell_type": "markdown",
   "metadata": {},
   "source": [
    "В данной таблице необходимо изменить тип данных в столбцах: \"id\", \"session_date\""
   ]
  },
  {
   "cell_type": "code",
   "execution_count": 72,
   "metadata": {},
   "outputs": [
    {
     "data": {
      "text/html": [
       "<div>\n",
       "<style scoped>\n",
       "    .dataframe tbody tr th:only-of-type {\n",
       "        vertical-align: middle;\n",
       "    }\n",
       "\n",
       "    .dataframe tbody tr th {\n",
       "        vertical-align: top;\n",
       "    }\n",
       "\n",
       "    .dataframe thead th {\n",
       "        text-align: right;\n",
       "    }\n",
       "</style>\n",
       "<table border=\"1\" class=\"dataframe\">\n",
       "  <thead>\n",
       "    <tr style=\"text-align: right;\">\n",
       "      <th></th>\n",
       "      <th>id</th>\n",
       "      <th>message_date</th>\n",
       "      <th>user_id</th>\n",
       "    </tr>\n",
       "  </thead>\n",
       "  <tbody>\n",
       "    <tr>\n",
       "      <th>0</th>\n",
       "      <td>1000_0</td>\n",
       "      <td>2018-06-27</td>\n",
       "      <td>1000</td>\n",
       "    </tr>\n",
       "    <tr>\n",
       "      <th>1</th>\n",
       "      <td>1000_1</td>\n",
       "      <td>2018-10-08</td>\n",
       "      <td>1000</td>\n",
       "    </tr>\n",
       "    <tr>\n",
       "      <th>2</th>\n",
       "      <td>1000_2</td>\n",
       "      <td>2018-08-04</td>\n",
       "      <td>1000</td>\n",
       "    </tr>\n",
       "    <tr>\n",
       "      <th>3</th>\n",
       "      <td>1000_3</td>\n",
       "      <td>2018-06-16</td>\n",
       "      <td>1000</td>\n",
       "    </tr>\n",
       "    <tr>\n",
       "      <th>4</th>\n",
       "      <td>1000_4</td>\n",
       "      <td>2018-12-05</td>\n",
       "      <td>1000</td>\n",
       "    </tr>\n",
       "  </tbody>\n",
       "</table>\n",
       "</div>"
      ],
      "text/plain": [
       "       id message_date  user_id\n",
       "0  1000_0   2018-06-27     1000\n",
       "1  1000_1   2018-10-08     1000\n",
       "2  1000_2   2018-08-04     1000\n",
       "3  1000_3   2018-06-16     1000\n",
       "4  1000_4   2018-12-05     1000"
      ]
     },
     "execution_count": 72,
     "metadata": {},
     "output_type": "execute_result"
    }
   ],
   "source": [
    "messages.head()"
   ]
  },
  {
   "cell_type": "code",
   "execution_count": 73,
   "metadata": {},
   "outputs": [
    {
     "name": "stdout",
     "output_type": "stream",
     "text": [
      "<class 'pandas.core.frame.DataFrame'>\n",
      "RangeIndex: 123036 entries, 0 to 123035\n",
      "Data columns (total 3 columns):\n",
      " #   Column        Non-Null Count   Dtype \n",
      "---  ------        --------------   ----- \n",
      " 0   id            123036 non-null  object\n",
      " 1   message_date  123036 non-null  object\n",
      " 2   user_id       123036 non-null  int64 \n",
      "dtypes: int64(1), object(2)\n",
      "memory usage: 2.8+ MB\n"
     ]
    }
   ],
   "source": [
    "messages.info()"
   ]
  },
  {
   "cell_type": "markdown",
   "metadata": {},
   "source": [
    "В данной таблице необходимо изменить тип данных в столбцах: \"id\", \"message_date\""
   ]
  },
  {
   "cell_type": "code",
   "execution_count": 74,
   "metadata": {},
   "outputs": [
    {
     "data": {
      "text/html": [
       "<div>\n",
       "<style scoped>\n",
       "    .dataframe tbody tr th:only-of-type {\n",
       "        vertical-align: middle;\n",
       "    }\n",
       "\n",
       "    .dataframe tbody tr th {\n",
       "        vertical-align: top;\n",
       "    }\n",
       "\n",
       "    .dataframe thead th {\n",
       "        text-align: right;\n",
       "    }\n",
       "</style>\n",
       "<table border=\"1\" class=\"dataframe\">\n",
       "  <thead>\n",
       "    <tr style=\"text-align: right;\">\n",
       "      <th></th>\n",
       "      <th>messages_included</th>\n",
       "      <th>mb_per_month_included</th>\n",
       "      <th>minutes_included</th>\n",
       "      <th>rub_monthly_fee</th>\n",
       "      <th>rub_per_gb</th>\n",
       "      <th>rub_per_message</th>\n",
       "      <th>rub_per_minute</th>\n",
       "      <th>tariff_name</th>\n",
       "    </tr>\n",
       "  </thead>\n",
       "  <tbody>\n",
       "    <tr>\n",
       "      <th>0</th>\n",
       "      <td>50</td>\n",
       "      <td>15360</td>\n",
       "      <td>500</td>\n",
       "      <td>550</td>\n",
       "      <td>200</td>\n",
       "      <td>3</td>\n",
       "      <td>3</td>\n",
       "      <td>smart</td>\n",
       "    </tr>\n",
       "    <tr>\n",
       "      <th>1</th>\n",
       "      <td>1000</td>\n",
       "      <td>30720</td>\n",
       "      <td>3000</td>\n",
       "      <td>1950</td>\n",
       "      <td>150</td>\n",
       "      <td>1</td>\n",
       "      <td>1</td>\n",
       "      <td>ultra</td>\n",
       "    </tr>\n",
       "  </tbody>\n",
       "</table>\n",
       "</div>"
      ],
      "text/plain": [
       "   messages_included  mb_per_month_included  minutes_included  \\\n",
       "0                 50                  15360               500   \n",
       "1               1000                  30720              3000   \n",
       "\n",
       "   rub_monthly_fee  rub_per_gb  rub_per_message  rub_per_minute tariff_name  \n",
       "0              550         200                3               3       smart  \n",
       "1             1950         150                1               1       ultra  "
      ]
     },
     "execution_count": 74,
     "metadata": {},
     "output_type": "execute_result"
    }
   ],
   "source": [
    "tariffs.head()"
   ]
  },
  {
   "cell_type": "code",
   "execution_count": 75,
   "metadata": {},
   "outputs": [
    {
     "name": "stdout",
     "output_type": "stream",
     "text": [
      "<class 'pandas.core.frame.DataFrame'>\n",
      "RangeIndex: 2 entries, 0 to 1\n",
      "Data columns (total 8 columns):\n",
      " #   Column                 Non-Null Count  Dtype \n",
      "---  ------                 --------------  ----- \n",
      " 0   messages_included      2 non-null      int64 \n",
      " 1   mb_per_month_included  2 non-null      int64 \n",
      " 2   minutes_included       2 non-null      int64 \n",
      " 3   rub_monthly_fee        2 non-null      int64 \n",
      " 4   rub_per_gb             2 non-null      int64 \n",
      " 5   rub_per_message        2 non-null      int64 \n",
      " 6   rub_per_minute         2 non-null      int64 \n",
      " 7   tariff_name            2 non-null      object\n",
      "dtypes: int64(7), object(1)\n",
      "memory usage: 256.0+ bytes\n"
     ]
    }
   ],
   "source": [
    "tariffs.info()"
   ]
  },
  {
   "cell_type": "markdown",
   "metadata": {},
   "source": [
    "Таблица не содержит ошибок"
   ]
  },
  {
   "cell_type": "code",
   "execution_count": 76,
   "metadata": {},
   "outputs": [
    {
     "data": {
      "text/html": [
       "<div>\n",
       "<style scoped>\n",
       "    .dataframe tbody tr th:only-of-type {\n",
       "        vertical-align: middle;\n",
       "    }\n",
       "\n",
       "    .dataframe tbody tr th {\n",
       "        vertical-align: top;\n",
       "    }\n",
       "\n",
       "    .dataframe thead th {\n",
       "        text-align: right;\n",
       "    }\n",
       "</style>\n",
       "<table border=\"1\" class=\"dataframe\">\n",
       "  <thead>\n",
       "    <tr style=\"text-align: right;\">\n",
       "      <th></th>\n",
       "      <th>user_id</th>\n",
       "      <th>age</th>\n",
       "      <th>churn_date</th>\n",
       "      <th>city</th>\n",
       "      <th>first_name</th>\n",
       "      <th>last_name</th>\n",
       "      <th>reg_date</th>\n",
       "      <th>tariff</th>\n",
       "    </tr>\n",
       "  </thead>\n",
       "  <tbody>\n",
       "    <tr>\n",
       "      <th>0</th>\n",
       "      <td>1000</td>\n",
       "      <td>52</td>\n",
       "      <td>NaN</td>\n",
       "      <td>Краснодар</td>\n",
       "      <td>Рафаил</td>\n",
       "      <td>Верещагин</td>\n",
       "      <td>2018-05-25</td>\n",
       "      <td>ultra</td>\n",
       "    </tr>\n",
       "    <tr>\n",
       "      <th>1</th>\n",
       "      <td>1001</td>\n",
       "      <td>41</td>\n",
       "      <td>NaN</td>\n",
       "      <td>Москва</td>\n",
       "      <td>Иван</td>\n",
       "      <td>Ежов</td>\n",
       "      <td>2018-11-01</td>\n",
       "      <td>smart</td>\n",
       "    </tr>\n",
       "    <tr>\n",
       "      <th>2</th>\n",
       "      <td>1002</td>\n",
       "      <td>59</td>\n",
       "      <td>NaN</td>\n",
       "      <td>Стерлитамак</td>\n",
       "      <td>Евгений</td>\n",
       "      <td>Абрамович</td>\n",
       "      <td>2018-06-17</td>\n",
       "      <td>smart</td>\n",
       "    </tr>\n",
       "    <tr>\n",
       "      <th>3</th>\n",
       "      <td>1003</td>\n",
       "      <td>23</td>\n",
       "      <td>NaN</td>\n",
       "      <td>Москва</td>\n",
       "      <td>Белла</td>\n",
       "      <td>Белякова</td>\n",
       "      <td>2018-08-17</td>\n",
       "      <td>ultra</td>\n",
       "    </tr>\n",
       "    <tr>\n",
       "      <th>4</th>\n",
       "      <td>1004</td>\n",
       "      <td>68</td>\n",
       "      <td>NaN</td>\n",
       "      <td>Новокузнецк</td>\n",
       "      <td>Татьяна</td>\n",
       "      <td>Авдеенко</td>\n",
       "      <td>2018-05-14</td>\n",
       "      <td>ultra</td>\n",
       "    </tr>\n",
       "  </tbody>\n",
       "</table>\n",
       "</div>"
      ],
      "text/plain": [
       "   user_id  age churn_date         city first_name  last_name    reg_date  \\\n",
       "0     1000   52        NaN    Краснодар     Рафаил  Верещагин  2018-05-25   \n",
       "1     1001   41        NaN       Москва       Иван       Ежов  2018-11-01   \n",
       "2     1002   59        NaN  Стерлитамак    Евгений  Абрамович  2018-06-17   \n",
       "3     1003   23        NaN       Москва      Белла   Белякова  2018-08-17   \n",
       "4     1004   68        NaN  Новокузнецк    Татьяна   Авдеенко  2018-05-14   \n",
       "\n",
       "  tariff  \n",
       "0  ultra  \n",
       "1  smart  \n",
       "2  smart  \n",
       "3  ultra  \n",
       "4  ultra  "
      ]
     },
     "execution_count": 76,
     "metadata": {},
     "output_type": "execute_result"
    }
   ],
   "source": [
    "users.head()"
   ]
  },
  {
   "cell_type": "code",
   "execution_count": 77,
   "metadata": {},
   "outputs": [
    {
     "name": "stdout",
     "output_type": "stream",
     "text": [
      "<class 'pandas.core.frame.DataFrame'>\n",
      "RangeIndex: 500 entries, 0 to 499\n",
      "Data columns (total 8 columns):\n",
      " #   Column      Non-Null Count  Dtype \n",
      "---  ------      --------------  ----- \n",
      " 0   user_id     500 non-null    int64 \n",
      " 1   age         500 non-null    int64 \n",
      " 2   churn_date  38 non-null     object\n",
      " 3   city        500 non-null    object\n",
      " 4   first_name  500 non-null    object\n",
      " 5   last_name   500 non-null    object\n",
      " 6   reg_date    500 non-null    object\n",
      " 7   tariff      500 non-null    object\n",
      "dtypes: int64(2), object(6)\n",
      "memory usage: 31.4+ KB\n"
     ]
    }
   ],
   "source": [
    "users.info()"
   ]
  },
  {
   "cell_type": "markdown",
   "metadata": {},
   "source": [
    "В данной таблице необходимо изменить тип данных в столбцах: \"churn_date\", \"reg_date\". Так же изходя из описательной части проекта видим, что 38 пользователей прекратили использование тарифа"
   ]
  },
  {
   "cell_type": "markdown",
   "metadata": {},
   "source": [
    "# 2. Подготовка данных"
   ]
  },
  {
   "cell_type": "markdown",
   "metadata": {},
   "source": [
    "Округлим длительность звонков вверх"
   ]
  },
  {
   "cell_type": "code",
   "execution_count": 78,
   "metadata": {},
   "outputs": [],
   "source": [
    "calls['duration'] = np.ceil(calls['duration'])"
   ]
  },
  {
   "cell_type": "markdown",
   "metadata": {},
   "source": [
    "Приведем данные в таблицах к нужным типам"
   ]
  },
  {
   "cell_type": "code",
   "execution_count": 79,
   "metadata": {},
   "outputs": [],
   "source": [
    "users['churn_date'] = pd.to_datetime(users['churn_date'], format=\"%Y-%m-%d\")\n",
    "users['reg_date'] = pd.to_datetime(users['reg_date'], format=\"%Y-%m-%d\")\n",
    "\n",
    "calls['call_date'] = pd.to_datetime(calls['call_date'], format=\"%Y-%m-%d\")\n",
    "calls['id'] = calls['id'].astype('int')\n",
    "calls['duration'] = calls['duration'].astype('int')\n",
    "\n",
    "messages['id'] = messages['id'].astype('int')\n",
    "messages['message_date'] = pd.to_datetime(messages['message_date'], format=\"%Y-%m-%d\")\n",
    "\n",
    "internet['id'] = internet['id'].astype('int')\n",
    "internet['session_date'] = pd.to_datetime(internet['session_date'], format=\"%Y-%m-%d\")\n"
   ]
  },
  {
   "cell_type": "markdown",
   "metadata": {},
   "source": [
    "Других ошибок в данных не выявлено"
   ]
  },
  {
   "cell_type": "markdown",
   "metadata": {},
   "source": [
    "Расчитаем количество сделанных звонков и израсходованных минут разговора по месяцам"
   ]
  },
  {
   "cell_type": "code",
   "execution_count": 80,
   "metadata": {},
   "outputs": [
    {
     "data": {
      "text/html": [
       "<div>\n",
       "<style scoped>\n",
       "    .dataframe tbody tr th:only-of-type {\n",
       "        vertical-align: middle;\n",
       "    }\n",
       "\n",
       "    .dataframe tbody tr th {\n",
       "        vertical-align: top;\n",
       "    }\n",
       "\n",
       "    .dataframe thead th {\n",
       "        text-align: right;\n",
       "    }\n",
       "</style>\n",
       "<table border=\"1\" class=\"dataframe\">\n",
       "  <thead>\n",
       "    <tr style=\"text-align: right;\">\n",
       "      <th></th>\n",
       "      <th>user_id</th>\n",
       "      <th>month</th>\n",
       "      <th>calls_duration</th>\n",
       "      <th>calls_total</th>\n",
       "    </tr>\n",
       "  </thead>\n",
       "  <tbody>\n",
       "    <tr>\n",
       "      <th>0</th>\n",
       "      <td>1000</td>\n",
       "      <td>5</td>\n",
       "      <td>159</td>\n",
       "      <td>22</td>\n",
       "    </tr>\n",
       "    <tr>\n",
       "      <th>1</th>\n",
       "      <td>1000</td>\n",
       "      <td>6</td>\n",
       "      <td>172</td>\n",
       "      <td>43</td>\n",
       "    </tr>\n",
       "    <tr>\n",
       "      <th>2</th>\n",
       "      <td>1000</td>\n",
       "      <td>7</td>\n",
       "      <td>340</td>\n",
       "      <td>47</td>\n",
       "    </tr>\n",
       "    <tr>\n",
       "      <th>3</th>\n",
       "      <td>1000</td>\n",
       "      <td>8</td>\n",
       "      <td>408</td>\n",
       "      <td>52</td>\n",
       "    </tr>\n",
       "    <tr>\n",
       "      <th>4</th>\n",
       "      <td>1000</td>\n",
       "      <td>9</td>\n",
       "      <td>466</td>\n",
       "      <td>58</td>\n",
       "    </tr>\n",
       "    <tr>\n",
       "      <th>5</th>\n",
       "      <td>1000</td>\n",
       "      <td>10</td>\n",
       "      <td>350</td>\n",
       "      <td>57</td>\n",
       "    </tr>\n",
       "    <tr>\n",
       "      <th>6</th>\n",
       "      <td>1000</td>\n",
       "      <td>11</td>\n",
       "      <td>338</td>\n",
       "      <td>43</td>\n",
       "    </tr>\n",
       "    <tr>\n",
       "      <th>7</th>\n",
       "      <td>1000</td>\n",
       "      <td>12</td>\n",
       "      <td>333</td>\n",
       "      <td>46</td>\n",
       "    </tr>\n",
       "    <tr>\n",
       "      <th>8</th>\n",
       "      <td>1001</td>\n",
       "      <td>11</td>\n",
       "      <td>430</td>\n",
       "      <td>59</td>\n",
       "    </tr>\n",
       "    <tr>\n",
       "      <th>9</th>\n",
       "      <td>1001</td>\n",
       "      <td>12</td>\n",
       "      <td>414</td>\n",
       "      <td>63</td>\n",
       "    </tr>\n",
       "    <tr>\n",
       "      <th>10</th>\n",
       "      <td>1002</td>\n",
       "      <td>6</td>\n",
       "      <td>117</td>\n",
       "      <td>15</td>\n",
       "    </tr>\n",
       "    <tr>\n",
       "      <th>11</th>\n",
       "      <td>1002</td>\n",
       "      <td>7</td>\n",
       "      <td>214</td>\n",
       "      <td>26</td>\n",
       "    </tr>\n",
       "    <tr>\n",
       "      <th>12</th>\n",
       "      <td>1002</td>\n",
       "      <td>8</td>\n",
       "      <td>289</td>\n",
       "      <td>42</td>\n",
       "    </tr>\n",
       "    <tr>\n",
       "      <th>13</th>\n",
       "      <td>1002</td>\n",
       "      <td>9</td>\n",
       "      <td>206</td>\n",
       "      <td>36</td>\n",
       "    </tr>\n",
       "    <tr>\n",
       "      <th>14</th>\n",
       "      <td>1002</td>\n",
       "      <td>10</td>\n",
       "      <td>212</td>\n",
       "      <td>33</td>\n",
       "    </tr>\n",
       "  </tbody>\n",
       "</table>\n",
       "</div>"
      ],
      "text/plain": [
       "    user_id  month  calls_duration  calls_total\n",
       "0      1000      5             159           22\n",
       "1      1000      6             172           43\n",
       "2      1000      7             340           47\n",
       "3      1000      8             408           52\n",
       "4      1000      9             466           58\n",
       "5      1000     10             350           57\n",
       "6      1000     11             338           43\n",
       "7      1000     12             333           46\n",
       "8      1001     11             430           59\n",
       "9      1001     12             414           63\n",
       "10     1002      6             117           15\n",
       "11     1002      7             214           26\n",
       "12     1002      8             289           42\n",
       "13     1002      9             206           36\n",
       "14     1002     10             212           33"
      ]
     },
     "execution_count": 80,
     "metadata": {},
     "output_type": "execute_result"
    }
   ],
   "source": [
    "calls['month'] = calls['call_date'].dt.month\n",
    "user_calls = calls.groupby(['user_id', 'month'])\\\n",
    "                  .agg({'duration':'sum', 'id':'count'})\\\n",
    "                  .reset_index()\\\n",
    "                  .rename(columns={'duration':'calls_duration','id':'calls_total'})\n",
    "user_calls.head(15)"
   ]
  },
  {
   "cell_type": "markdown",
   "metadata": {},
   "source": [
    "Расчитаем количество отправленных сообщений по месяцам"
   ]
  },
  {
   "cell_type": "code",
   "execution_count": 81,
   "metadata": {},
   "outputs": [
    {
     "data": {
      "text/html": [
       "<div>\n",
       "<style scoped>\n",
       "    .dataframe tbody tr th:only-of-type {\n",
       "        vertical-align: middle;\n",
       "    }\n",
       "\n",
       "    .dataframe tbody tr th {\n",
       "        vertical-align: top;\n",
       "    }\n",
       "\n",
       "    .dataframe thead th {\n",
       "        text-align: right;\n",
       "    }\n",
       "</style>\n",
       "<table border=\"1\" class=\"dataframe\">\n",
       "  <thead>\n",
       "    <tr style=\"text-align: right;\">\n",
       "      <th></th>\n",
       "      <th>user_id</th>\n",
       "      <th>month</th>\n",
       "      <th>sms_total</th>\n",
       "    </tr>\n",
       "  </thead>\n",
       "  <tbody>\n",
       "    <tr>\n",
       "      <th>0</th>\n",
       "      <td>1000</td>\n",
       "      <td>5</td>\n",
       "      <td>22</td>\n",
       "    </tr>\n",
       "    <tr>\n",
       "      <th>1</th>\n",
       "      <td>1000</td>\n",
       "      <td>6</td>\n",
       "      <td>60</td>\n",
       "    </tr>\n",
       "    <tr>\n",
       "      <th>2</th>\n",
       "      <td>1000</td>\n",
       "      <td>7</td>\n",
       "      <td>75</td>\n",
       "    </tr>\n",
       "    <tr>\n",
       "      <th>3</th>\n",
       "      <td>1000</td>\n",
       "      <td>8</td>\n",
       "      <td>81</td>\n",
       "    </tr>\n",
       "    <tr>\n",
       "      <th>4</th>\n",
       "      <td>1000</td>\n",
       "      <td>9</td>\n",
       "      <td>57</td>\n",
       "    </tr>\n",
       "    <tr>\n",
       "      <th>5</th>\n",
       "      <td>1000</td>\n",
       "      <td>10</td>\n",
       "      <td>73</td>\n",
       "    </tr>\n",
       "    <tr>\n",
       "      <th>6</th>\n",
       "      <td>1000</td>\n",
       "      <td>11</td>\n",
       "      <td>58</td>\n",
       "    </tr>\n",
       "    <tr>\n",
       "      <th>7</th>\n",
       "      <td>1000</td>\n",
       "      <td>12</td>\n",
       "      <td>70</td>\n",
       "    </tr>\n",
       "    <tr>\n",
       "      <th>8</th>\n",
       "      <td>1002</td>\n",
       "      <td>6</td>\n",
       "      <td>4</td>\n",
       "    </tr>\n",
       "    <tr>\n",
       "      <th>9</th>\n",
       "      <td>1002</td>\n",
       "      <td>7</td>\n",
       "      <td>11</td>\n",
       "    </tr>\n",
       "    <tr>\n",
       "      <th>10</th>\n",
       "      <td>1002</td>\n",
       "      <td>8</td>\n",
       "      <td>13</td>\n",
       "    </tr>\n",
       "    <tr>\n",
       "      <th>11</th>\n",
       "      <td>1002</td>\n",
       "      <td>9</td>\n",
       "      <td>4</td>\n",
       "    </tr>\n",
       "    <tr>\n",
       "      <th>12</th>\n",
       "      <td>1002</td>\n",
       "      <td>10</td>\n",
       "      <td>10</td>\n",
       "    </tr>\n",
       "    <tr>\n",
       "      <th>13</th>\n",
       "      <td>1002</td>\n",
       "      <td>11</td>\n",
       "      <td>16</td>\n",
       "    </tr>\n",
       "    <tr>\n",
       "      <th>14</th>\n",
       "      <td>1002</td>\n",
       "      <td>12</td>\n",
       "      <td>12</td>\n",
       "    </tr>\n",
       "  </tbody>\n",
       "</table>\n",
       "</div>"
      ],
      "text/plain": [
       "    user_id  month  sms_total\n",
       "0      1000      5         22\n",
       "1      1000      6         60\n",
       "2      1000      7         75\n",
       "3      1000      8         81\n",
       "4      1000      9         57\n",
       "5      1000     10         73\n",
       "6      1000     11         58\n",
       "7      1000     12         70\n",
       "8      1002      6          4\n",
       "9      1002      7         11\n",
       "10     1002      8         13\n",
       "11     1002      9          4\n",
       "12     1002     10         10\n",
       "13     1002     11         16\n",
       "14     1002     12         12"
      ]
     },
     "execution_count": 81,
     "metadata": {},
     "output_type": "execute_result"
    }
   ],
   "source": [
    "messages['month'] = messages['message_date'].dt.month\n",
    "user_messages = messages.groupby(['user_id', 'month'])\\\n",
    "                        .agg({'id':'count'})\\\n",
    "                        .reset_index()\\\n",
    "                        .rename(columns={'id':'sms_total'})\n",
    "user_messages.head(15)"
   ]
  },
  {
   "cell_type": "markdown",
   "metadata": {},
   "source": [
    "Расчитаем объем израсходованного интернет-трафика по месяцам"
   ]
  },
  {
   "cell_type": "code",
   "execution_count": 82,
   "metadata": {},
   "outputs": [
    {
     "data": {
      "text/html": [
       "<div>\n",
       "<style scoped>\n",
       "    .dataframe tbody tr th:only-of-type {\n",
       "        vertical-align: middle;\n",
       "    }\n",
       "\n",
       "    .dataframe tbody tr th {\n",
       "        vertical-align: top;\n",
       "    }\n",
       "\n",
       "    .dataframe thead th {\n",
       "        text-align: right;\n",
       "    }\n",
       "</style>\n",
       "<table border=\"1\" class=\"dataframe\">\n",
       "  <thead>\n",
       "    <tr style=\"text-align: right;\">\n",
       "      <th></th>\n",
       "      <th>user_id</th>\n",
       "      <th>month</th>\n",
       "      <th>mb_total</th>\n",
       "    </tr>\n",
       "  </thead>\n",
       "  <tbody>\n",
       "    <tr>\n",
       "      <th>0</th>\n",
       "      <td>1000</td>\n",
       "      <td>5</td>\n",
       "      <td>2,253.49</td>\n",
       "    </tr>\n",
       "    <tr>\n",
       "      <th>1</th>\n",
       "      <td>1000</td>\n",
       "      <td>6</td>\n",
       "      <td>23,233.77</td>\n",
       "    </tr>\n",
       "    <tr>\n",
       "      <th>2</th>\n",
       "      <td>1000</td>\n",
       "      <td>7</td>\n",
       "      <td>14,003.64</td>\n",
       "    </tr>\n",
       "    <tr>\n",
       "      <th>3</th>\n",
       "      <td>1000</td>\n",
       "      <td>8</td>\n",
       "      <td>14,055.93</td>\n",
       "    </tr>\n",
       "    <tr>\n",
       "      <th>4</th>\n",
       "      <td>1000</td>\n",
       "      <td>9</td>\n",
       "      <td>14,568.91</td>\n",
       "    </tr>\n",
       "    <tr>\n",
       "      <th>5</th>\n",
       "      <td>1000</td>\n",
       "      <td>10</td>\n",
       "      <td>14,702.49</td>\n",
       "    </tr>\n",
       "    <tr>\n",
       "      <th>6</th>\n",
       "      <td>1000</td>\n",
       "      <td>11</td>\n",
       "      <td>14,756.47</td>\n",
       "    </tr>\n",
       "    <tr>\n",
       "      <th>7</th>\n",
       "      <td>1000</td>\n",
       "      <td>12</td>\n",
       "      <td>9,817.61</td>\n",
       "    </tr>\n",
       "    <tr>\n",
       "      <th>8</th>\n",
       "      <td>1001</td>\n",
       "      <td>11</td>\n",
       "      <td>18,429.34</td>\n",
       "    </tr>\n",
       "    <tr>\n",
       "      <th>9</th>\n",
       "      <td>1001</td>\n",
       "      <td>12</td>\n",
       "      <td>14,036.66</td>\n",
       "    </tr>\n",
       "    <tr>\n",
       "      <th>10</th>\n",
       "      <td>1002</td>\n",
       "      <td>6</td>\n",
       "      <td>10,856.82</td>\n",
       "    </tr>\n",
       "    <tr>\n",
       "      <th>11</th>\n",
       "      <td>1002</td>\n",
       "      <td>7</td>\n",
       "      <td>17,580.10</td>\n",
       "    </tr>\n",
       "    <tr>\n",
       "      <th>12</th>\n",
       "      <td>1002</td>\n",
       "      <td>8</td>\n",
       "      <td>20,319.26</td>\n",
       "    </tr>\n",
       "    <tr>\n",
       "      <th>13</th>\n",
       "      <td>1002</td>\n",
       "      <td>9</td>\n",
       "      <td>16,691.08</td>\n",
       "    </tr>\n",
       "    <tr>\n",
       "      <th>14</th>\n",
       "      <td>1002</td>\n",
       "      <td>10</td>\n",
       "      <td>13,888.25</td>\n",
       "    </tr>\n",
       "  </tbody>\n",
       "</table>\n",
       "</div>"
      ],
      "text/plain": [
       "    user_id  month  mb_total\n",
       "0      1000      5  2,253.49\n",
       "1      1000      6 23,233.77\n",
       "2      1000      7 14,003.64\n",
       "3      1000      8 14,055.93\n",
       "4      1000      9 14,568.91\n",
       "5      1000     10 14,702.49\n",
       "6      1000     11 14,756.47\n",
       "7      1000     12  9,817.61\n",
       "8      1001     11 18,429.34\n",
       "9      1001     12 14,036.66\n",
       "10     1002      6 10,856.82\n",
       "11     1002      7 17,580.10\n",
       "12     1002      8 20,319.26\n",
       "13     1002      9 16,691.08\n",
       "14     1002     10 13,888.25"
      ]
     },
     "execution_count": 82,
     "metadata": {},
     "output_type": "execute_result"
    }
   ],
   "source": [
    "internet['month'] = internet['session_date'].dt.month\n",
    "user_internet = internet.groupby(['user_id', 'month'])\\\n",
    "                        .agg({'mb_used':'sum'})\\\n",
    "                        .reset_index()\\\n",
    "                        .rename(columns={'mb_used':'mb_total'})\n",
    "user_internet.head(15)"
   ]
  },
  {
   "cell_type": "markdown",
   "metadata": {},
   "source": [
    "Расчитаем месячную выручку по пользователям"
   ]
  },
  {
   "cell_type": "code",
   "execution_count": 83,
   "metadata": {
    "scrolled": true
   },
   "outputs": [
    {
     "data": {
      "text/html": [
       "<div>\n",
       "<style scoped>\n",
       "    .dataframe tbody tr th:only-of-type {\n",
       "        vertical-align: middle;\n",
       "    }\n",
       "\n",
       "    .dataframe tbody tr th {\n",
       "        vertical-align: top;\n",
       "    }\n",
       "\n",
       "    .dataframe thead th {\n",
       "        text-align: right;\n",
       "    }\n",
       "</style>\n",
       "<table border=\"1\" class=\"dataframe\">\n",
       "  <thead>\n",
       "    <tr style=\"text-align: right;\">\n",
       "      <th></th>\n",
       "      <th>user_id</th>\n",
       "      <th>month</th>\n",
       "      <th>calls_duration</th>\n",
       "      <th>calls_total</th>\n",
       "      <th>sms_total</th>\n",
       "      <th>mb_total</th>\n",
       "      <th>age</th>\n",
       "      <th>churn_date</th>\n",
       "      <th>city</th>\n",
       "      <th>first_name</th>\n",
       "      <th>last_name</th>\n",
       "      <th>reg_date</th>\n",
       "      <th>tariff</th>\n",
       "      <th>messages_included</th>\n",
       "      <th>mb_per_month_included</th>\n",
       "      <th>minutes_included</th>\n",
       "      <th>rub_monthly_fee</th>\n",
       "      <th>rub_per_gb</th>\n",
       "      <th>rub_per_message</th>\n",
       "      <th>rub_per_minute</th>\n",
       "      <th>tariff_name</th>\n",
       "    </tr>\n",
       "  </thead>\n",
       "  <tbody>\n",
       "    <tr>\n",
       "      <th>0</th>\n",
       "      <td>1000</td>\n",
       "      <td>5</td>\n",
       "      <td>159.00</td>\n",
       "      <td>22.00</td>\n",
       "      <td>22.00</td>\n",
       "      <td>2,253.49</td>\n",
       "      <td>52</td>\n",
       "      <td>NaT</td>\n",
       "      <td>Краснодар</td>\n",
       "      <td>Рафаил</td>\n",
       "      <td>Верещагин</td>\n",
       "      <td>2018-05-25</td>\n",
       "      <td>ultra</td>\n",
       "      <td>1000</td>\n",
       "      <td>30720</td>\n",
       "      <td>3000</td>\n",
       "      <td>1950</td>\n",
       "      <td>150</td>\n",
       "      <td>1</td>\n",
       "      <td>1</td>\n",
       "      <td>ultra</td>\n",
       "    </tr>\n",
       "    <tr>\n",
       "      <th>1</th>\n",
       "      <td>1000</td>\n",
       "      <td>6</td>\n",
       "      <td>172.00</td>\n",
       "      <td>43.00</td>\n",
       "      <td>60.00</td>\n",
       "      <td>23,233.77</td>\n",
       "      <td>52</td>\n",
       "      <td>NaT</td>\n",
       "      <td>Краснодар</td>\n",
       "      <td>Рафаил</td>\n",
       "      <td>Верещагин</td>\n",
       "      <td>2018-05-25</td>\n",
       "      <td>ultra</td>\n",
       "      <td>1000</td>\n",
       "      <td>30720</td>\n",
       "      <td>3000</td>\n",
       "      <td>1950</td>\n",
       "      <td>150</td>\n",
       "      <td>1</td>\n",
       "      <td>1</td>\n",
       "      <td>ultra</td>\n",
       "    </tr>\n",
       "    <tr>\n",
       "      <th>2</th>\n",
       "      <td>1000</td>\n",
       "      <td>7</td>\n",
       "      <td>340.00</td>\n",
       "      <td>47.00</td>\n",
       "      <td>75.00</td>\n",
       "      <td>14,003.64</td>\n",
       "      <td>52</td>\n",
       "      <td>NaT</td>\n",
       "      <td>Краснодар</td>\n",
       "      <td>Рафаил</td>\n",
       "      <td>Верещагин</td>\n",
       "      <td>2018-05-25</td>\n",
       "      <td>ultra</td>\n",
       "      <td>1000</td>\n",
       "      <td>30720</td>\n",
       "      <td>3000</td>\n",
       "      <td>1950</td>\n",
       "      <td>150</td>\n",
       "      <td>1</td>\n",
       "      <td>1</td>\n",
       "      <td>ultra</td>\n",
       "    </tr>\n",
       "    <tr>\n",
       "      <th>3</th>\n",
       "      <td>1000</td>\n",
       "      <td>8</td>\n",
       "      <td>408.00</td>\n",
       "      <td>52.00</td>\n",
       "      <td>81.00</td>\n",
       "      <td>14,055.93</td>\n",
       "      <td>52</td>\n",
       "      <td>NaT</td>\n",
       "      <td>Краснодар</td>\n",
       "      <td>Рафаил</td>\n",
       "      <td>Верещагин</td>\n",
       "      <td>2018-05-25</td>\n",
       "      <td>ultra</td>\n",
       "      <td>1000</td>\n",
       "      <td>30720</td>\n",
       "      <td>3000</td>\n",
       "      <td>1950</td>\n",
       "      <td>150</td>\n",
       "      <td>1</td>\n",
       "      <td>1</td>\n",
       "      <td>ultra</td>\n",
       "    </tr>\n",
       "    <tr>\n",
       "      <th>4</th>\n",
       "      <td>1000</td>\n",
       "      <td>9</td>\n",
       "      <td>466.00</td>\n",
       "      <td>58.00</td>\n",
       "      <td>57.00</td>\n",
       "      <td>14,568.91</td>\n",
       "      <td>52</td>\n",
       "      <td>NaT</td>\n",
       "      <td>Краснодар</td>\n",
       "      <td>Рафаил</td>\n",
       "      <td>Верещагин</td>\n",
       "      <td>2018-05-25</td>\n",
       "      <td>ultra</td>\n",
       "      <td>1000</td>\n",
       "      <td>30720</td>\n",
       "      <td>3000</td>\n",
       "      <td>1950</td>\n",
       "      <td>150</td>\n",
       "      <td>1</td>\n",
       "      <td>1</td>\n",
       "      <td>ultra</td>\n",
       "    </tr>\n",
       "    <tr>\n",
       "      <th>5</th>\n",
       "      <td>1000</td>\n",
       "      <td>10</td>\n",
       "      <td>350.00</td>\n",
       "      <td>57.00</td>\n",
       "      <td>73.00</td>\n",
       "      <td>14,702.49</td>\n",
       "      <td>52</td>\n",
       "      <td>NaT</td>\n",
       "      <td>Краснодар</td>\n",
       "      <td>Рафаил</td>\n",
       "      <td>Верещагин</td>\n",
       "      <td>2018-05-25</td>\n",
       "      <td>ultra</td>\n",
       "      <td>1000</td>\n",
       "      <td>30720</td>\n",
       "      <td>3000</td>\n",
       "      <td>1950</td>\n",
       "      <td>150</td>\n",
       "      <td>1</td>\n",
       "      <td>1</td>\n",
       "      <td>ultra</td>\n",
       "    </tr>\n",
       "    <tr>\n",
       "      <th>6</th>\n",
       "      <td>1000</td>\n",
       "      <td>11</td>\n",
       "      <td>338.00</td>\n",
       "      <td>43.00</td>\n",
       "      <td>58.00</td>\n",
       "      <td>14,756.47</td>\n",
       "      <td>52</td>\n",
       "      <td>NaT</td>\n",
       "      <td>Краснодар</td>\n",
       "      <td>Рафаил</td>\n",
       "      <td>Верещагин</td>\n",
       "      <td>2018-05-25</td>\n",
       "      <td>ultra</td>\n",
       "      <td>1000</td>\n",
       "      <td>30720</td>\n",
       "      <td>3000</td>\n",
       "      <td>1950</td>\n",
       "      <td>150</td>\n",
       "      <td>1</td>\n",
       "      <td>1</td>\n",
       "      <td>ultra</td>\n",
       "    </tr>\n",
       "    <tr>\n",
       "      <th>7</th>\n",
       "      <td>1000</td>\n",
       "      <td>12</td>\n",
       "      <td>333.00</td>\n",
       "      <td>46.00</td>\n",
       "      <td>70.00</td>\n",
       "      <td>9,817.61</td>\n",
       "      <td>52</td>\n",
       "      <td>NaT</td>\n",
       "      <td>Краснодар</td>\n",
       "      <td>Рафаил</td>\n",
       "      <td>Верещагин</td>\n",
       "      <td>2018-05-25</td>\n",
       "      <td>ultra</td>\n",
       "      <td>1000</td>\n",
       "      <td>30720</td>\n",
       "      <td>3000</td>\n",
       "      <td>1950</td>\n",
       "      <td>150</td>\n",
       "      <td>1</td>\n",
       "      <td>1</td>\n",
       "      <td>ultra</td>\n",
       "    </tr>\n",
       "    <tr>\n",
       "      <th>8</th>\n",
       "      <td>1001</td>\n",
       "      <td>11</td>\n",
       "      <td>430.00</td>\n",
       "      <td>59.00</td>\n",
       "      <td>NaN</td>\n",
       "      <td>18,429.34</td>\n",
       "      <td>41</td>\n",
       "      <td>NaT</td>\n",
       "      <td>Москва</td>\n",
       "      <td>Иван</td>\n",
       "      <td>Ежов</td>\n",
       "      <td>2018-11-01</td>\n",
       "      <td>smart</td>\n",
       "      <td>50</td>\n",
       "      <td>15360</td>\n",
       "      <td>500</td>\n",
       "      <td>550</td>\n",
       "      <td>200</td>\n",
       "      <td>3</td>\n",
       "      <td>3</td>\n",
       "      <td>smart</td>\n",
       "    </tr>\n",
       "    <tr>\n",
       "      <th>9</th>\n",
       "      <td>1001</td>\n",
       "      <td>12</td>\n",
       "      <td>414.00</td>\n",
       "      <td>63.00</td>\n",
       "      <td>NaN</td>\n",
       "      <td>14,036.66</td>\n",
       "      <td>41</td>\n",
       "      <td>NaT</td>\n",
       "      <td>Москва</td>\n",
       "      <td>Иван</td>\n",
       "      <td>Ежов</td>\n",
       "      <td>2018-11-01</td>\n",
       "      <td>smart</td>\n",
       "      <td>50</td>\n",
       "      <td>15360</td>\n",
       "      <td>500</td>\n",
       "      <td>550</td>\n",
       "      <td>200</td>\n",
       "      <td>3</td>\n",
       "      <td>3</td>\n",
       "      <td>smart</td>\n",
       "    </tr>\n",
       "    <tr>\n",
       "      <th>10</th>\n",
       "      <td>1002</td>\n",
       "      <td>6</td>\n",
       "      <td>117.00</td>\n",
       "      <td>15.00</td>\n",
       "      <td>4.00</td>\n",
       "      <td>10,856.82</td>\n",
       "      <td>59</td>\n",
       "      <td>NaT</td>\n",
       "      <td>Стерлитамак</td>\n",
       "      <td>Евгений</td>\n",
       "      <td>Абрамович</td>\n",
       "      <td>2018-06-17</td>\n",
       "      <td>smart</td>\n",
       "      <td>50</td>\n",
       "      <td>15360</td>\n",
       "      <td>500</td>\n",
       "      <td>550</td>\n",
       "      <td>200</td>\n",
       "      <td>3</td>\n",
       "      <td>3</td>\n",
       "      <td>smart</td>\n",
       "    </tr>\n",
       "    <tr>\n",
       "      <th>11</th>\n",
       "      <td>1002</td>\n",
       "      <td>7</td>\n",
       "      <td>214.00</td>\n",
       "      <td>26.00</td>\n",
       "      <td>11.00</td>\n",
       "      <td>17,580.10</td>\n",
       "      <td>59</td>\n",
       "      <td>NaT</td>\n",
       "      <td>Стерлитамак</td>\n",
       "      <td>Евгений</td>\n",
       "      <td>Абрамович</td>\n",
       "      <td>2018-06-17</td>\n",
       "      <td>smart</td>\n",
       "      <td>50</td>\n",
       "      <td>15360</td>\n",
       "      <td>500</td>\n",
       "      <td>550</td>\n",
       "      <td>200</td>\n",
       "      <td>3</td>\n",
       "      <td>3</td>\n",
       "      <td>smart</td>\n",
       "    </tr>\n",
       "    <tr>\n",
       "      <th>12</th>\n",
       "      <td>1002</td>\n",
       "      <td>8</td>\n",
       "      <td>289.00</td>\n",
       "      <td>42.00</td>\n",
       "      <td>13.00</td>\n",
       "      <td>20,319.26</td>\n",
       "      <td>59</td>\n",
       "      <td>NaT</td>\n",
       "      <td>Стерлитамак</td>\n",
       "      <td>Евгений</td>\n",
       "      <td>Абрамович</td>\n",
       "      <td>2018-06-17</td>\n",
       "      <td>smart</td>\n",
       "      <td>50</td>\n",
       "      <td>15360</td>\n",
       "      <td>500</td>\n",
       "      <td>550</td>\n",
       "      <td>200</td>\n",
       "      <td>3</td>\n",
       "      <td>3</td>\n",
       "      <td>smart</td>\n",
       "    </tr>\n",
       "    <tr>\n",
       "      <th>13</th>\n",
       "      <td>1002</td>\n",
       "      <td>9</td>\n",
       "      <td>206.00</td>\n",
       "      <td>36.00</td>\n",
       "      <td>4.00</td>\n",
       "      <td>16,691.08</td>\n",
       "      <td>59</td>\n",
       "      <td>NaT</td>\n",
       "      <td>Стерлитамак</td>\n",
       "      <td>Евгений</td>\n",
       "      <td>Абрамович</td>\n",
       "      <td>2018-06-17</td>\n",
       "      <td>smart</td>\n",
       "      <td>50</td>\n",
       "      <td>15360</td>\n",
       "      <td>500</td>\n",
       "      <td>550</td>\n",
       "      <td>200</td>\n",
       "      <td>3</td>\n",
       "      <td>3</td>\n",
       "      <td>smart</td>\n",
       "    </tr>\n",
       "    <tr>\n",
       "      <th>14</th>\n",
       "      <td>1002</td>\n",
       "      <td>10</td>\n",
       "      <td>212.00</td>\n",
       "      <td>33.00</td>\n",
       "      <td>10.00</td>\n",
       "      <td>13,888.25</td>\n",
       "      <td>59</td>\n",
       "      <td>NaT</td>\n",
       "      <td>Стерлитамак</td>\n",
       "      <td>Евгений</td>\n",
       "      <td>Абрамович</td>\n",
       "      <td>2018-06-17</td>\n",
       "      <td>smart</td>\n",
       "      <td>50</td>\n",
       "      <td>15360</td>\n",
       "      <td>500</td>\n",
       "      <td>550</td>\n",
       "      <td>200</td>\n",
       "      <td>3</td>\n",
       "      <td>3</td>\n",
       "      <td>smart</td>\n",
       "    </tr>\n",
       "  </tbody>\n",
       "</table>\n",
       "</div>"
      ],
      "text/plain": [
       "    user_id  month  calls_duration  calls_total  sms_total  mb_total  age  \\\n",
       "0      1000      5          159.00        22.00      22.00  2,253.49   52   \n",
       "1      1000      6          172.00        43.00      60.00 23,233.77   52   \n",
       "2      1000      7          340.00        47.00      75.00 14,003.64   52   \n",
       "3      1000      8          408.00        52.00      81.00 14,055.93   52   \n",
       "4      1000      9          466.00        58.00      57.00 14,568.91   52   \n",
       "5      1000     10          350.00        57.00      73.00 14,702.49   52   \n",
       "6      1000     11          338.00        43.00      58.00 14,756.47   52   \n",
       "7      1000     12          333.00        46.00      70.00  9,817.61   52   \n",
       "8      1001     11          430.00        59.00        NaN 18,429.34   41   \n",
       "9      1001     12          414.00        63.00        NaN 14,036.66   41   \n",
       "10     1002      6          117.00        15.00       4.00 10,856.82   59   \n",
       "11     1002      7          214.00        26.00      11.00 17,580.10   59   \n",
       "12     1002      8          289.00        42.00      13.00 20,319.26   59   \n",
       "13     1002      9          206.00        36.00       4.00 16,691.08   59   \n",
       "14     1002     10          212.00        33.00      10.00 13,888.25   59   \n",
       "\n",
       "   churn_date         city first_name  last_name   reg_date tariff  \\\n",
       "0         NaT    Краснодар     Рафаил  Верещагин 2018-05-25  ultra   \n",
       "1         NaT    Краснодар     Рафаил  Верещагин 2018-05-25  ultra   \n",
       "2         NaT    Краснодар     Рафаил  Верещагин 2018-05-25  ultra   \n",
       "3         NaT    Краснодар     Рафаил  Верещагин 2018-05-25  ultra   \n",
       "4         NaT    Краснодар     Рафаил  Верещагин 2018-05-25  ultra   \n",
       "5         NaT    Краснодар     Рафаил  Верещагин 2018-05-25  ultra   \n",
       "6         NaT    Краснодар     Рафаил  Верещагин 2018-05-25  ultra   \n",
       "7         NaT    Краснодар     Рафаил  Верещагин 2018-05-25  ultra   \n",
       "8         NaT       Москва       Иван       Ежов 2018-11-01  smart   \n",
       "9         NaT       Москва       Иван       Ежов 2018-11-01  smart   \n",
       "10        NaT  Стерлитамак    Евгений  Абрамович 2018-06-17  smart   \n",
       "11        NaT  Стерлитамак    Евгений  Абрамович 2018-06-17  smart   \n",
       "12        NaT  Стерлитамак    Евгений  Абрамович 2018-06-17  smart   \n",
       "13        NaT  Стерлитамак    Евгений  Абрамович 2018-06-17  smart   \n",
       "14        NaT  Стерлитамак    Евгений  Абрамович 2018-06-17  smart   \n",
       "\n",
       "    messages_included  mb_per_month_included  minutes_included  \\\n",
       "0                1000                  30720              3000   \n",
       "1                1000                  30720              3000   \n",
       "2                1000                  30720              3000   \n",
       "3                1000                  30720              3000   \n",
       "4                1000                  30720              3000   \n",
       "5                1000                  30720              3000   \n",
       "6                1000                  30720              3000   \n",
       "7                1000                  30720              3000   \n",
       "8                  50                  15360               500   \n",
       "9                  50                  15360               500   \n",
       "10                 50                  15360               500   \n",
       "11                 50                  15360               500   \n",
       "12                 50                  15360               500   \n",
       "13                 50                  15360               500   \n",
       "14                 50                  15360               500   \n",
       "\n",
       "    rub_monthly_fee  rub_per_gb  rub_per_message  rub_per_minute tariff_name  \n",
       "0              1950         150                1               1       ultra  \n",
       "1              1950         150                1               1       ultra  \n",
       "2              1950         150                1               1       ultra  \n",
       "3              1950         150                1               1       ultra  \n",
       "4              1950         150                1               1       ultra  \n",
       "5              1950         150                1               1       ultra  \n",
       "6              1950         150                1               1       ultra  \n",
       "7              1950         150                1               1       ultra  \n",
       "8               550         200                3               3       smart  \n",
       "9               550         200                3               3       smart  \n",
       "10              550         200                3               3       smart  \n",
       "11              550         200                3               3       smart  \n",
       "12              550         200                3               3       smart  \n",
       "13              550         200                3               3       smart  \n",
       "14              550         200                3               3       smart  "
      ]
     },
     "execution_count": 83,
     "metadata": {},
     "output_type": "execute_result"
    }
   ],
   "source": [
    "data = user_calls.merge(user_messages, on=['user_id','month'], how='outer')\n",
    "data = data.merge(user_internet, on=['user_id','month'], how = 'outer')\n",
    "data = data.merge(users, on='user_id', how='left')\n",
    "data = data.merge(tariffs, left_on = 'tariff', right_on = 'tariff_name', how='left')\n",
    "data.head(15)"
   ]
  },
  {
   "cell_type": "code",
   "execution_count": 84,
   "metadata": {},
   "outputs": [
    {
     "data": {
      "text/plain": [
       "user_id                     0\n",
       "month                       0\n",
       "calls_duration             40\n",
       "calls_total                40\n",
       "sms_total                 497\n",
       "mb_total                   11\n",
       "age                         0\n",
       "churn_date               3027\n",
       "city                        0\n",
       "first_name                  0\n",
       "last_name                   0\n",
       "reg_date                    0\n",
       "tariff                      0\n",
       "messages_included           0\n",
       "mb_per_month_included       0\n",
       "minutes_included            0\n",
       "rub_monthly_fee             0\n",
       "rub_per_gb                  0\n",
       "rub_per_message             0\n",
       "rub_per_minute              0\n",
       "tariff_name                 0\n",
       "dtype: int64"
      ]
     },
     "execution_count": 84,
     "metadata": {},
     "output_type": "execute_result"
    }
   ],
   "source": [
    "data.isna().sum()"
   ]
  },
  {
   "cell_type": "markdown",
   "metadata": {},
   "source": [
    "Скорее всего пропуски связаны с тем, что абонет не пользовался данным типом услуги, поэтому заменим их \"0\""
   ]
  },
  {
   "cell_type": "code",
   "execution_count": 85,
   "metadata": {},
   "outputs": [],
   "source": [
    "data['sms_total'] = data['sms_total'].fillna(0)\n",
    "data['mb_total'] = data['mb_total'].fillna(0)\n",
    "data['month_calls'] = data['calls_duration'].fillna(0)\n",
    "data['calls_total'] = data['calls_total'].fillna(0)"
   ]
  },
  {
   "cell_type": "markdown",
   "metadata": {},
   "source": [
    "Расчитаем выручку за месяц"
   ]
  },
  {
   "cell_type": "code",
   "execution_count": 86,
   "metadata": {},
   "outputs": [],
   "source": [
    "def revenue(row):\n",
    "    sms = (row['sms_total'] - row['messages_included']) * row['rub_per_message']\n",
    "    mins = (row['calls_duration'] - row['minutes_included']) * row['rub_per_minute']\n",
    "    mbs = np.ceil((row['mb_total'] - row['mb_per_month_included']) / 1024) * row['rub_per_gb']\n",
    "    total = 0\n",
    "    for i in [sms, mins, mbs]:\n",
    "        if i > 0:\n",
    "            total += i\n",
    "    return total"
   ]
  },
  {
   "cell_type": "code",
   "execution_count": 87,
   "metadata": {},
   "outputs": [
    {
     "data": {
      "text/html": [
       "<div>\n",
       "<style scoped>\n",
       "    .dataframe tbody tr th:only-of-type {\n",
       "        vertical-align: middle;\n",
       "    }\n",
       "\n",
       "    .dataframe tbody tr th {\n",
       "        vertical-align: top;\n",
       "    }\n",
       "\n",
       "    .dataframe thead th {\n",
       "        text-align: right;\n",
       "    }\n",
       "</style>\n",
       "<table border=\"1\" class=\"dataframe\">\n",
       "  <thead>\n",
       "    <tr style=\"text-align: right;\">\n",
       "      <th></th>\n",
       "      <th>user_id</th>\n",
       "      <th>month</th>\n",
       "      <th>calls_duration</th>\n",
       "      <th>calls_total</th>\n",
       "      <th>sms_total</th>\n",
       "      <th>mb_total</th>\n",
       "      <th>age</th>\n",
       "      <th>churn_date</th>\n",
       "      <th>city</th>\n",
       "      <th>first_name</th>\n",
       "      <th>last_name</th>\n",
       "      <th>reg_date</th>\n",
       "      <th>tariff</th>\n",
       "      <th>messages_included</th>\n",
       "      <th>mb_per_month_included</th>\n",
       "      <th>minutes_included</th>\n",
       "      <th>rub_monthly_fee</th>\n",
       "      <th>rub_per_gb</th>\n",
       "      <th>rub_per_message</th>\n",
       "      <th>rub_per_minute</th>\n",
       "      <th>tariff_name</th>\n",
       "      <th>month_calls</th>\n",
       "      <th>revenue</th>\n",
       "      <th>total_paid</th>\n",
       "    </tr>\n",
       "  </thead>\n",
       "  <tbody>\n",
       "    <tr>\n",
       "      <th>1793</th>\n",
       "      <td>1286</td>\n",
       "      <td>12</td>\n",
       "      <td>739.00</td>\n",
       "      <td>95.00</td>\n",
       "      <td>68.00</td>\n",
       "      <td>35,108.07</td>\n",
       "      <td>19</td>\n",
       "      <td>NaT</td>\n",
       "      <td>Москва</td>\n",
       "      <td>Рашид</td>\n",
       "      <td>Троицкий</td>\n",
       "      <td>2018-11-27</td>\n",
       "      <td>smart</td>\n",
       "      <td>50</td>\n",
       "      <td>15360</td>\n",
       "      <td>500</td>\n",
       "      <td>550</td>\n",
       "      <td>200</td>\n",
       "      <td>3</td>\n",
       "      <td>3</td>\n",
       "      <td>smart</td>\n",
       "      <td>739.00</td>\n",
       "      <td>4,771.00</td>\n",
       "      <td>5,321.00</td>\n",
       "    </tr>\n",
       "    <tr>\n",
       "      <th>1622</th>\n",
       "      <td>1261</td>\n",
       "      <td>12</td>\n",
       "      <td>1,074.00</td>\n",
       "      <td>141.00</td>\n",
       "      <td>22.00</td>\n",
       "      <td>32,650.91</td>\n",
       "      <td>46</td>\n",
       "      <td>NaT</td>\n",
       "      <td>Казань</td>\n",
       "      <td>Мадина</td>\n",
       "      <td>Пантелеева</td>\n",
       "      <td>2018-10-30</td>\n",
       "      <td>smart</td>\n",
       "      <td>50</td>\n",
       "      <td>15360</td>\n",
       "      <td>500</td>\n",
       "      <td>550</td>\n",
       "      <td>200</td>\n",
       "      <td>3</td>\n",
       "      <td>3</td>\n",
       "      <td>smart</td>\n",
       "      <td>1,074.00</td>\n",
       "      <td>5,122.00</td>\n",
       "      <td>5,672.00</td>\n",
       "    </tr>\n",
       "    <tr>\n",
       "      <th>3105</th>\n",
       "      <td>1486</td>\n",
       "      <td>11</td>\n",
       "      <td>764.00</td>\n",
       "      <td>108.00</td>\n",
       "      <td>96.00</td>\n",
       "      <td>36,266.11</td>\n",
       "      <td>35</td>\n",
       "      <td>NaT</td>\n",
       "      <td>Нижний Новгород</td>\n",
       "      <td>Матвей</td>\n",
       "      <td>Моргунов</td>\n",
       "      <td>2018-10-31</td>\n",
       "      <td>smart</td>\n",
       "      <td>50</td>\n",
       "      <td>15360</td>\n",
       "      <td>500</td>\n",
       "      <td>550</td>\n",
       "      <td>200</td>\n",
       "      <td>3</td>\n",
       "      <td>3</td>\n",
       "      <td>smart</td>\n",
       "      <td>764.00</td>\n",
       "      <td>5,130.00</td>\n",
       "      <td>5,680.00</td>\n",
       "    </tr>\n",
       "    <tr>\n",
       "      <th>260</th>\n",
       "      <td>1042</td>\n",
       "      <td>12</td>\n",
       "      <td>728.00</td>\n",
       "      <td>121.00</td>\n",
       "      <td>75.00</td>\n",
       "      <td>37,165.69</td>\n",
       "      <td>42</td>\n",
       "      <td>NaT</td>\n",
       "      <td>Хабаровск</td>\n",
       "      <td>Константин</td>\n",
       "      <td>Добрынин</td>\n",
       "      <td>2018-11-25</td>\n",
       "      <td>smart</td>\n",
       "      <td>50</td>\n",
       "      <td>15360</td>\n",
       "      <td>500</td>\n",
       "      <td>550</td>\n",
       "      <td>200</td>\n",
       "      <td>3</td>\n",
       "      <td>3</td>\n",
       "      <td>smart</td>\n",
       "      <td>728.00</td>\n",
       "      <td>5,159.00</td>\n",
       "      <td>5,709.00</td>\n",
       "    </tr>\n",
       "    <tr>\n",
       "      <th>3106</th>\n",
       "      <td>1486</td>\n",
       "      <td>12</td>\n",
       "      <td>1,007.00</td>\n",
       "      <td>133.00</td>\n",
       "      <td>83.00</td>\n",
       "      <td>38,552.45</td>\n",
       "      <td>35</td>\n",
       "      <td>NaT</td>\n",
       "      <td>Нижний Новгород</td>\n",
       "      <td>Матвей</td>\n",
       "      <td>Моргунов</td>\n",
       "      <td>2018-10-31</td>\n",
       "      <td>smart</td>\n",
       "      <td>50</td>\n",
       "      <td>15360</td>\n",
       "      <td>500</td>\n",
       "      <td>550</td>\n",
       "      <td>200</td>\n",
       "      <td>3</td>\n",
       "      <td>3</td>\n",
       "      <td>smart</td>\n",
       "      <td>1,007.00</td>\n",
       "      <td>6,220.00</td>\n",
       "      <td>6,770.00</td>\n",
       "    </tr>\n",
       "  </tbody>\n",
       "</table>\n",
       "</div>"
      ],
      "text/plain": [
       "      user_id  month  calls_duration  calls_total  sms_total  mb_total  age  \\\n",
       "1793     1286     12          739.00        95.00      68.00 35,108.07   19   \n",
       "1622     1261     12        1,074.00       141.00      22.00 32,650.91   46   \n",
       "3105     1486     11          764.00       108.00      96.00 36,266.11   35   \n",
       "260      1042     12          728.00       121.00      75.00 37,165.69   42   \n",
       "3106     1486     12        1,007.00       133.00      83.00 38,552.45   35   \n",
       "\n",
       "     churn_date             city  first_name   last_name   reg_date tariff  \\\n",
       "1793        NaT           Москва       Рашид    Троицкий 2018-11-27  smart   \n",
       "1622        NaT           Казань      Мадина  Пантелеева 2018-10-30  smart   \n",
       "3105        NaT  Нижний Новгород      Матвей    Моргунов 2018-10-31  smart   \n",
       "260         NaT        Хабаровск  Константин    Добрынин 2018-11-25  smart   \n",
       "3106        NaT  Нижний Новгород      Матвей    Моргунов 2018-10-31  smart   \n",
       "\n",
       "      messages_included  mb_per_month_included  minutes_included  \\\n",
       "1793                 50                  15360               500   \n",
       "1622                 50                  15360               500   \n",
       "3105                 50                  15360               500   \n",
       "260                  50                  15360               500   \n",
       "3106                 50                  15360               500   \n",
       "\n",
       "      rub_monthly_fee  rub_per_gb  rub_per_message  rub_per_minute  \\\n",
       "1793              550         200                3               3   \n",
       "1622              550         200                3               3   \n",
       "3105              550         200                3               3   \n",
       "260               550         200                3               3   \n",
       "3106              550         200                3               3   \n",
       "\n",
       "     tariff_name  month_calls  revenue  total_paid  \n",
       "1793       smart       739.00 4,771.00    5,321.00  \n",
       "1622       smart     1,074.00 5,122.00    5,672.00  \n",
       "3105       smart       764.00 5,130.00    5,680.00  \n",
       "260        smart       728.00 5,159.00    5,709.00  \n",
       "3106       smart     1,007.00 6,220.00    6,770.00  "
      ]
     },
     "execution_count": 87,
     "metadata": {},
     "output_type": "execute_result"
    }
   ],
   "source": [
    "data['revenue'] = data.apply(lambda x: revenue(x), axis=1)\n",
    "data['total_paid'] = data['rub_monthly_fee'] + data['revenue']\n",
    "data.sort_values(by='total_paid').tail()"
   ]
  },
  {
   "cell_type": "markdown",
   "metadata": {},
   "source": [
    "# 3. Анализ данных"
   ]
  },
  {
   "cell_type": "markdown",
   "metadata": {},
   "source": [
    "Проведем сравнение платежа абонента с абоненской платой по тарифу"
   ]
  },
  {
   "cell_type": "code",
   "execution_count": 88,
   "metadata": {
    "scrolled": true
   },
   "outputs": [
    {
     "data": {
      "text/html": [
       "<div>\n",
       "<style scoped>\n",
       "    .dataframe tbody tr th:only-of-type {\n",
       "        vertical-align: middle;\n",
       "    }\n",
       "\n",
       "    .dataframe tbody tr th {\n",
       "        vertical-align: top;\n",
       "    }\n",
       "\n",
       "    .dataframe thead th {\n",
       "        text-align: right;\n",
       "    }\n",
       "</style>\n",
       "<table border=\"1\" class=\"dataframe\">\n",
       "  <thead>\n",
       "    <tr style=\"text-align: right;\">\n",
       "      <th></th>\n",
       "      <th>revenue</th>\n",
       "      <th>total_paid</th>\n",
       "    </tr>\n",
       "  </thead>\n",
       "  <tbody>\n",
       "    <tr>\n",
       "      <th>count</th>\n",
       "      <td>3,214.00</td>\n",
       "      <td>3,214.00</td>\n",
       "    </tr>\n",
       "    <tr>\n",
       "      <th>mean</th>\n",
       "      <td>550.02</td>\n",
       "      <td>1,529.08</td>\n",
       "    </tr>\n",
       "    <tr>\n",
       "      <th>std</th>\n",
       "      <td>767.77</td>\n",
       "      <td>798.25</td>\n",
       "    </tr>\n",
       "    <tr>\n",
       "      <th>min</th>\n",
       "      <td>0.00</td>\n",
       "      <td>550.00</td>\n",
       "    </tr>\n",
       "    <tr>\n",
       "      <th>25%</th>\n",
       "      <td>0.00</td>\n",
       "      <td>750.00</td>\n",
       "    </tr>\n",
       "    <tr>\n",
       "      <th>50%</th>\n",
       "      <td>163.50</td>\n",
       "      <td>1,653.50</td>\n",
       "    </tr>\n",
       "    <tr>\n",
       "      <th>75%</th>\n",
       "      <td>938.00</td>\n",
       "      <td>1,950.00</td>\n",
       "    </tr>\n",
       "    <tr>\n",
       "      <th>max</th>\n",
       "      <td>6,220.00</td>\n",
       "      <td>6,770.00</td>\n",
       "    </tr>\n",
       "  </tbody>\n",
       "</table>\n",
       "</div>"
      ],
      "text/plain": [
       "       revenue  total_paid\n",
       "count 3,214.00    3,214.00\n",
       "mean    550.02    1,529.08\n",
       "std     767.77      798.25\n",
       "min       0.00      550.00\n",
       "25%       0.00      750.00\n",
       "50%     163.50    1,653.50\n",
       "75%     938.00    1,950.00\n",
       "max   6,220.00    6,770.00"
      ]
     },
     "execution_count": 88,
     "metadata": {},
     "output_type": "execute_result"
    }
   ],
   "source": [
    "data[['revenue', 'total_paid']].describe()"
   ]
  },
  {
   "cell_type": "code",
   "execution_count": 89,
   "metadata": {},
   "outputs": [
    {
     "data": {
      "text/plain": [
       "smart    2229\n",
       "ultra     985\n",
       "Name: tariff, dtype: int64"
      ]
     },
     "execution_count": 89,
     "metadata": {},
     "output_type": "execute_result"
    }
   ],
   "source": [
    "data['tariff'].value_counts()"
   ]
  },
  {
   "cell_type": "code",
   "execution_count": 90,
   "metadata": {},
   "outputs": [
    {
     "data": {
      "image/png": "[encoded data removed]",
      "text/plain": [
       "<Figure size 432x288 with 1 Axes>"
      ]
     },
     "metadata": {
      "needs_background": "light"
     },
     "output_type": "display_data"
    }
   ],
   "source": [
    "data[data['tariff'] == 'ultra']['total_paid'].plot(kind='hist', bins=10)\n",
    "plt.show()"
   ]
  },
  {
   "cell_type": "code",
   "execution_count": 91,
   "metadata": {},
   "outputs": [
    {
     "data": {
      "image/png": "[encoded data removed]",
      "text/plain": [
       "<Figure size 432x288 with 1 Axes>"
      ]
     },
     "metadata": {
      "needs_background": "light"
     },
     "output_type": "display_data"
    }
   ],
   "source": [
    "data[data['tariff'] == 'smart']['total_paid'].plot(kind='hist', bins=10)\n",
    "plt.show()"
   ]
  },
  {
   "cell_type": "code",
   "execution_count": 92,
   "metadata": {
    "scrolled": true
   },
   "outputs": [
    {
     "data": {
      "text/html": [
       "<style  type=\"text/css\" >\n",
       "</style><table id=\"T_f011b_\" ><thead>    <tr>        <th class=\"blank level0\" ></th>        <th class=\"col_heading level0 col0\" colspan=\"4\">total_paid</th>    </tr>    <tr>        <th class=\"blank level1\" ></th>        <th class=\"col_heading level1 col0\" >median</th>        <th class=\"col_heading level1 col1\" >mean</th>        <th class=\"col_heading level1 col2\" >var</th>        <th class=\"col_heading level1 col3\" >std</th>    </tr>    <tr>        <th class=\"index_name level0\" >tariff</th>        <th class=\"blank\" ></th>        <th class=\"blank\" ></th>        <th class=\"blank\" ></th>        <th class=\"blank\" ></th>    </tr></thead><tbody>\n",
       "                <tr>\n",
       "                        <th id=\"T_f011b_level0_row0\" class=\"row_heading level0 row0\" >smart</th>\n",
       "                        <td id=\"T_f011b_row0_col0\" class=\"data row0 col0\" >1023.00</td>\n",
       "                        <td id=\"T_f011b_row0_col1\" class=\"data row0 col1\" >1289.97</td>\n",
       "                        <td id=\"T_f011b_row0_col2\" class=\"data row0 col2\" >669785.71</td>\n",
       "                        <td id=\"T_f011b_row0_col3\" class=\"data row0 col3\" >818.40</td>\n",
       "            </tr>\n",
       "            <tr>\n",
       "                        <th id=\"T_f011b_level0_row1\" class=\"row_heading level0 row1\" >ultra</th>\n",
       "                        <td id=\"T_f011b_row1_col0\" class=\"data row1 col0\" >1950.00</td>\n",
       "                        <td id=\"T_f011b_row1_col1\" class=\"data row1 col1\" >2070.15</td>\n",
       "                        <td id=\"T_f011b_row1_col2\" class=\"data row1 col2\" >141516.75</td>\n",
       "                        <td id=\"T_f011b_row1_col3\" class=\"data row1 col3\" >376.19</td>\n",
       "            </tr>\n",
       "    </tbody></table>"
      ],
      "text/plain": [
       "<pandas.io.formats.style.Styler at 0x7f081bc6a6d0>"
      ]
     },
     "execution_count": 92,
     "metadata": {},
     "output_type": "execute_result"
    }
   ],
   "source": [
    "data.groupby('tariff').agg({'total_paid':['median','mean','var','std']}).style.format(\"{:.2f}\")"
   ]
  },
  {
   "cell_type": "markdown",
   "metadata": {},
   "source": [
    "Проанализировав данные можно сделать вывод, что абоненты использующие тариф \"Ультра\" чаще всего укладываютмя в абоненскую плату за месяц, тогда как абоненты использующие тариф \"Смарт\" часто превышают лимит установленный тарифом"
   ]
  },
  {
   "cell_type": "markdown",
   "metadata": {},
   "source": [
    "Количество минут в месяц, используемых на разных тарифах"
   ]
  },
  {
   "cell_type": "code",
   "execution_count": 93,
   "metadata": {},
   "outputs": [
    {
     "data": {
      "text/html": [
       "<style  type=\"text/css\" >\n",
       "</style><table id=\"T_07bae_\" ><thead>    <tr>        <th class=\"blank level0\" ></th>        <th class=\"col_heading level0 col0\" colspan=\"4\">calls_duration</th>    </tr>    <tr>        <th class=\"blank level1\" ></th>        <th class=\"col_heading level1 col0\" >median</th>        <th class=\"col_heading level1 col1\" >mean</th>        <th class=\"col_heading level1 col2\" >var</th>        <th class=\"col_heading level1 col3\" >std</th>    </tr>    <tr>        <th class=\"index_name level0\" >tariff</th>        <th class=\"blank\" ></th>        <th class=\"blank\" ></th>        <th class=\"blank\" ></th>        <th class=\"blank\" ></th>    </tr></thead><tbody>\n",
       "                <tr>\n",
       "                        <th id=\"T_07bae_level0_row0\" class=\"row_heading level0 row0\" >smart</th>\n",
       "                        <td id=\"T_07bae_row0_col0\" class=\"data row0 col0\" >423.00</td>\n",
       "                        <td id=\"T_07bae_row0_col1\" class=\"data row0 col1\" >419.06</td>\n",
       "                        <td id=\"T_07bae_row0_col2\" class=\"data row0 col2\" >35844.19</td>\n",
       "                        <td id=\"T_07bae_row0_col3\" class=\"data row0 col3\" >189.33</td>\n",
       "            </tr>\n",
       "            <tr>\n",
       "                        <th id=\"T_07bae_level0_row1\" class=\"row_heading level0 row1\" >ultra</th>\n",
       "                        <td id=\"T_07bae_row1_col0\" class=\"data row1 col0\" >528.00</td>\n",
       "                        <td id=\"T_07bae_row1_col1\" class=\"data row1 col1\" >545.45</td>\n",
       "                        <td id=\"T_07bae_row1_col2\" class=\"data row1 col2\" >94203.42</td>\n",
       "                        <td id=\"T_07bae_row1_col3\" class=\"data row1 col3\" >306.93</td>\n",
       "            </tr>\n",
       "    </tbody></table>"
      ],
      "text/plain": [
       "<pandas.io.formats.style.Styler at 0x7f081c19a910>"
      ]
     },
     "execution_count": 93,
     "metadata": {},
     "output_type": "execute_result"
    }
   ],
   "source": [
    "data.groupby('tariff').agg({'calls_duration':['median','mean','var','std']}).style.format(\"{:.2f}\")"
   ]
  },
  {
   "cell_type": "code",
   "execution_count": 94,
   "metadata": {},
   "outputs": [
    {
     "data": {
      "image/png": "[encoded data removed]",
      "text/plain": [
       "<Figure size 432x288 with 1 Axes>"
      ]
     },
     "metadata": {
      "needs_background": "light"
     },
     "output_type": "display_data"
    }
   ],
   "source": [
    "data[data['tariff'] == 'smart']['calls_duration'].plot(kind='hist', bins=10)\n",
    "plt.title('Количество минут на тарифе \"Смарт\"')\n",
    "plt.show()"
   ]
  },
  {
   "cell_type": "code",
   "execution_count": 95,
   "metadata": {},
   "outputs": [
    {
     "data": {
      "image/png": "[encoded data removed]",
      "text/plain": [
       "<Figure size 432x288 with 1 Axes>"
      ]
     },
     "metadata": {
      "needs_background": "light"
     },
     "output_type": "display_data"
    }
   ],
   "source": [
    "data[data['tariff'] == 'ultra']['calls_duration'].plot(kind='hist', bins=10)\n",
    "plt.title('Количество минут на тарифе \"Ультра\"')\n",
    "plt.show()"
   ]
  },
  {
   "cell_type": "markdown",
   "metadata": {},
   "source": [
    "По результатм анлиза данных можно сделать вывод: абоненты тарифа \"Смарт\" укладываются в колличесво минут в рамках абоненской платы, тогда как у пользователей тарифа \"Ультра\" остается большое количество не израсходованных минут предусмотренных абоненской платой. Судя по среднему значению, количество использованных минут не значительно отличается в зависимости от используемого тарифного плана"
   ]
  },
  {
   "cell_type": "markdown",
   "metadata": {},
   "source": [
    "Интернет трафик в месяц, используемый на разных тарифах"
   ]
  },
  {
   "cell_type": "code",
   "execution_count": 96,
   "metadata": {},
   "outputs": [
    {
     "data": {
      "text/html": [
       "<style  type=\"text/css\" >\n",
       "</style><table id=\"T_80d99_\" ><thead>    <tr>        <th class=\"blank level0\" ></th>        <th class=\"col_heading level0 col0\" colspan=\"4\">mb_total</th>    </tr>    <tr>        <th class=\"blank level1\" ></th>        <th class=\"col_heading level1 col0\" >median</th>        <th class=\"col_heading level1 col1\" >mean</th>        <th class=\"col_heading level1 col2\" >var</th>        <th class=\"col_heading level1 col3\" >std</th>    </tr>    <tr>        <th class=\"index_name level0\" >tariff</th>        <th class=\"blank\" ></th>        <th class=\"blank\" ></th>        <th class=\"blank\" ></th>        <th class=\"blank\" ></th>    </tr></thead><tbody>\n",
       "                <tr>\n",
       "                        <th id=\"T_80d99_level0_row0\" class=\"row_heading level0 row0\" >smart</th>\n",
       "                        <td id=\"T_80d99_row0_col0\" class=\"data row0 col0\" >16506.84</td>\n",
       "                        <td id=\"T_80d99_row0_col1\" class=\"data row0 col1\" >16208.39</td>\n",
       "                        <td id=\"T_80d99_row0_col2\" class=\"data row0 col2\" >34462496.46</td>\n",
       "                        <td id=\"T_80d99_row0_col3\" class=\"data row0 col3\" >5870.48</td>\n",
       "            </tr>\n",
       "            <tr>\n",
       "                        <th id=\"T_80d99_level0_row1\" class=\"row_heading level0 row1\" >ultra</th>\n",
       "                        <td id=\"T_80d99_row1_col0\" class=\"data row1 col0\" >19308.01</td>\n",
       "                        <td id=\"T_80d99_row1_col1\" class=\"data row1 col1\" >19468.81</td>\n",
       "                        <td id=\"T_80d99_row1_col2\" class=\"data row1 col2\" >101751013.78</td>\n",
       "                        <td id=\"T_80d99_row1_col3\" class=\"data row1 col3\" >10087.17</td>\n",
       "            </tr>\n",
       "    </tbody></table>"
      ],
      "text/plain": [
       "<pandas.io.formats.style.Styler at 0x7f081d48bee0>"
      ]
     },
     "execution_count": 96,
     "metadata": {},
     "output_type": "execute_result"
    }
   ],
   "source": [
    "data.groupby('tariff').agg({'mb_total':['median','mean','var','std']}).style.format(\"{:.2f}\")"
   ]
  },
  {
   "cell_type": "code",
   "execution_count": 97,
   "metadata": {},
   "outputs": [
    {
     "data": {
      "image/png": "[encoded data removed]",
      "text/plain": [
       "<Figure size 432x288 with 1 Axes>"
      ]
     },
     "metadata": {
      "needs_background": "light"
     },
     "output_type": "display_data"
    }
   ],
   "source": [
    "data[data['tariff'] == 'smart']['mb_total'].plot(kind='hist', bins=10)\n",
    "plt.title('Количество МБ на тарифе \"Смарт\"')\n",
    "plt.show()"
   ]
  },
  {
   "cell_type": "code",
   "execution_count": 98,
   "metadata": {},
   "outputs": [
    {
     "data": {
      "image/png": "[encoded data removed]",
      "text/plain": [
       "<Figure size 432x288 with 1 Axes>"
      ]
     },
     "metadata": {
      "needs_background": "light"
     },
     "output_type": "display_data"
    }
   ],
   "source": [
    "data[data['tariff'] == 'ultra']['mb_total'].plot(kind='hist', bins=10)\n",
    "plt.title('Количество МБ на тарифе \"Ультра\"')\n",
    "plt.show()"
   ]
  },
  {
   "cell_type": "markdown",
   "metadata": {},
   "source": [
    "По результатм анлиза данных можно сделать вывод: пользователи на тарифе \"Смарт\" часто превышают количество МБ предусмотренных тарифным планом, тогда как у атонентов на тарифе \"Ультра\" остается большой запас не израсходованного интернет трафика. Используеме количество МБ ха месяц у пользователей разных тарифов так де отличается не существенно, что мы видим при анализе средней"
   ]
  },
  {
   "cell_type": "markdown",
   "metadata": {},
   "source": [
    "Количество СМС в месяц, используемый на разных тарифах"
   ]
  },
  {
   "cell_type": "code",
   "execution_count": 99,
   "metadata": {},
   "outputs": [
    {
     "data": {
      "text/html": [
       "<style  type=\"text/css\" >\n",
       "</style><table id=\"T_8d38b_\" ><thead>    <tr>        <th class=\"blank level0\" ></th>        <th class=\"col_heading level0 col0\" colspan=\"4\">sms_total</th>    </tr>    <tr>        <th class=\"blank level1\" ></th>        <th class=\"col_heading level1 col0\" >median</th>        <th class=\"col_heading level1 col1\" >mean</th>        <th class=\"col_heading level1 col2\" >var</th>        <th class=\"col_heading level1 col3\" >std</th>    </tr>    <tr>        <th class=\"index_name level0\" >tariff</th>        <th class=\"blank\" ></th>        <th class=\"blank\" ></th>        <th class=\"blank\" ></th>        <th class=\"blank\" ></th>    </tr></thead><tbody>\n",
       "                <tr>\n",
       "                        <th id=\"T_8d38b_level0_row0\" class=\"row_heading level0 row0\" >smart</th>\n",
       "                        <td id=\"T_8d38b_row0_col0\" class=\"data row0 col0\" >28.00</td>\n",
       "                        <td id=\"T_8d38b_row0_col1\" class=\"data row0 col1\" >33.38</td>\n",
       "                        <td id=\"T_8d38b_row0_col2\" class=\"data row0 col2\" >796.81</td>\n",
       "                        <td id=\"T_8d38b_row0_col3\" class=\"data row0 col3\" >28.23</td>\n",
       "            </tr>\n",
       "            <tr>\n",
       "                        <th id=\"T_8d38b_level0_row1\" class=\"row_heading level0 row1\" >ultra</th>\n",
       "                        <td id=\"T_8d38b_row1_col0\" class=\"data row1 col0\" >38.00</td>\n",
       "                        <td id=\"T_8d38b_row1_col1\" class=\"data row1 col1\" >49.36</td>\n",
       "                        <td id=\"T_8d38b_row1_col2\" class=\"data row1 col2\" >2285.27</td>\n",
       "                        <td id=\"T_8d38b_row1_col3\" class=\"data row1 col3\" >47.80</td>\n",
       "            </tr>\n",
       "    </tbody></table>"
      ],
      "text/plain": [
       "<pandas.io.formats.style.Styler at 0x7f081bc8ab50>"
      ]
     },
     "execution_count": 99,
     "metadata": {},
     "output_type": "execute_result"
    }
   ],
   "source": [
    "data.groupby('tariff').agg({'sms_total':['median','mean','var','std']}).style.format(\"{:.2f}\")"
   ]
  },
  {
   "cell_type": "code",
   "execution_count": 100,
   "metadata": {},
   "outputs": [
    {
     "data": {
      "image/png": "[encoded data removed]",
      "text/plain": [
       "<Figure size 432x288 with 1 Axes>"
      ]
     },
     "metadata": {
      "needs_background": "light"
     },
     "output_type": "display_data"
    }
   ],
   "source": [
    "data[data['tariff'] == 'smart']['sms_total'].plot(kind='hist', bins=10)\n",
    "plt.title('Количество СМС на тарифе \"Смарт\"')\n",
    "plt.show()"
   ]
  },
  {
   "cell_type": "code",
   "execution_count": 101,
   "metadata": {
    "scrolled": true
   },
   "outputs": [
    {
     "data": {
      "image/png": "[encoded data removed]",
      "text/plain": [
       "<Figure size 432x288 with 1 Axes>"
      ]
     },
     "metadata": {
      "needs_background": "light"
     },
     "output_type": "display_data"
    }
   ],
   "source": [
    "data[data['tariff'] == 'ultra']['sms_total'].plot(kind='hist', bins=10)\n",
    "plt.title('Количество СМС на тарифе \"Ультра\"')\n",
    "plt.show()"
   ]
  },
  {
   "cell_type": "markdown",
   "metadata": {},
   "source": [
    "Так же как и в предыдущих пунктах наблюдаем незнаичтельную разницу по количеству отправляемых СМС между абонентами использующих разные тарифы. Так же можно отметить, что использование количества СМС значительно ниже, чем включено в размер абоненской платы по тарифам, видимо это связано с общим снижением использования СМС, при развитии новых мессенжеров таких как \"Viber\", \"WhatsApp\", \"Telegram\""
   ]
  },
  {
   "cell_type": "markdown",
   "metadata": {},
   "source": [
    "# 4. Проверка гипотиз"
   ]
  },
  {
   "cell_type": "markdown",
   "metadata": {},
   "source": [
    "Удалим выбросы"
   ]
  },
  {
   "cell_type": "code",
   "execution_count": 102,
   "metadata": {},
   "outputs": [],
   "source": [
    "def delete_outliers(data, column, graphic=0, x = 10, y = 10):\n",
    "    q1 = data[column].quantile(0.25)                 \n",
    "    q3 = data[column].quantile(0.75)\n",
    "    iqr = q3 - q1\n",
    "    iqr_test = (data[column] >= (q1 - 1.5 * iqr)) & (data[column] <= (q3 + 1.5 * iqr))\n",
    "    if graphic == 1:\n",
    "        return data.loc[iqr_test].boxplot([column], figsize=(x,y))\n",
    "    else:\n",
    "        return data.loc[iqr_test]"
   ]
  },
  {
   "cell_type": "markdown",
   "metadata": {},
   "source": [
    "Сравниваемые выборки являются независимыми между собой, поэтому для использования возьмем t-критерий Стьюдента."
   ]
  },
  {
   "cell_type": "markdown",
   "metadata": {},
   "source": [
    "Опираясь на теорию данного курса:\n",
    "1. Нулевая гипотиза всегда формулируется так, чтобы использовать знак равенства.\n",
    "2. Общепринятые пороговые значения — 5% и 1%. Для данной работы берем 5%."
   ]
  },
  {
   "cell_type": "markdown",
   "metadata": {},
   "source": [
    "Проверка первой гипотизы\n",
    "H0 Средняя выручка абонентов тарифов \"Смарт\" и \"Ультра\" равна\n",
    "H1 Средняя выручка абонентов тарифов \"Смарт\" и \"Ультра\" не равна"
   ]
  },
  {
   "cell_type": "code",
   "execution_count": 103,
   "metadata": {
    "scrolled": true
   },
   "outputs": [
    {
     "name": "stdout",
     "output_type": "stream",
     "text": [
      "p-value: 6.199325734910118e-155\n",
      "Отвергаем нулевую гипотезу\n"
     ]
    }
   ],
   "source": [
    "ultra = data[data['tariff'] == 'ultra']\n",
    "ultra = delete_outliers(ultra, 'total_paid', 0)\n",
    "ultra = ultra['total_paid']\n",
    "\n",
    "smart = data[data['tariff'] == 'smart']\n",
    "smart = delete_outliers(smart, 'total_paid', 0)\n",
    "smart = smart['total_paid']\n",
    "alpha = 0.05\n",
    "results = st.ttest_ind(ultra, smart)\n",
    "print('p-value:', results.pvalue)\n",
    "\n",
    "if (results.pvalue < alpha):\n",
    "    print(\"Отвергаем нулевую гипотезу\")\n",
    "else:\n",
    "    print(\"Не получилось отвергнуть нулевую гипотезу\")"
   ]
  },
  {
   "cell_type": "markdown",
   "metadata": {},
   "source": [
    "Проверка второй гипотизы\n",
    "H0 Средняя выручка абонентов из Москвы равна средней выручке пользователей из других регионов\n",
    "H1 Средняя выручка абонентов из Москвы  не равна средней выручке пользователей из других регионов"
   ]
  },
  {
   "cell_type": "code",
   "execution_count": 104,
   "metadata": {},
   "outputs": [
    {
     "data": {
      "text/plain": [
       "array(['Краснодар', 'Москва', 'Стерлитамак', 'Новокузнецк',\n",
       "       'Набережные Челны', 'Ульяновск', 'Челябинск', 'Пермь', 'Тюмень',\n",
       "       'Самара', 'Санкт-Петербург', 'Иваново', 'Чебоксары', 'Омск', 'Уфа',\n",
       "       'Томск', 'Чита', 'Мурманск', 'Петрозаводск', 'Тверь',\n",
       "       'Екатеринбург', 'Махачкала', 'Вологда', 'Череповец', 'Ярославль',\n",
       "       'Сочи', 'Хабаровск', 'Ставрополь', 'Рязань', 'Улан-Удэ', 'Тула',\n",
       "       'Саратов', 'Ростов-на-Дону', 'Казань', 'Иркутск', 'Курск',\n",
       "       'Калуга', 'Якутск', 'Астрахань', 'Химки', 'Владикавказ',\n",
       "       'Волгоград', 'Саранск', 'Ижевск', 'Новосибирск', 'Брянск',\n",
       "       'Тольятти', 'Нижний Тагил', 'Орёл', 'Белгород', 'Воронеж',\n",
       "       'Курган', 'Барнаул', 'Красноярск', 'Архангельск', 'Липецк',\n",
       "       'Кемерово', 'Киров', 'Сургут', 'Пенза', 'Волжский', 'Магнитогорск',\n",
       "       'Нижний Новгород', 'Кострома', 'Владивосток', 'Тамбов', 'Балашиха',\n",
       "       'Севастополь', 'Калининград', 'Оренбург', 'Смоленск',\n",
       "       'Нижневартовск', 'Владимир', 'Новороссийск', 'Грозный', 'Подольск'],\n",
       "      dtype=object)"
      ]
     },
     "execution_count": 104,
     "metadata": {},
     "output_type": "execute_result"
    }
   ],
   "source": [
    "data['city'].unique()"
   ]
  },
  {
   "cell_type": "code",
   "execution_count": 105,
   "metadata": {
    "scrolled": true
   },
   "outputs": [
    {
     "name": "stdout",
     "output_type": "stream",
     "text": [
      "p-value: 0.29404256281786195\n",
      "Не получилось отвергнуть нулевую гипотезу\n"
     ]
    }
   ],
   "source": [
    "data['region'] = np.where(data['city'] == 'Москва', 'Москва', 'Регионы')\n",
    "\n",
    "moscow = data[data['region'] == 'Москва']\n",
    "moscow = delete_outliers(moscow, 'total_paid', 0)\n",
    "moscow = moscow['total_paid']\n",
    "\n",
    "region = data[data['region'] == 'Регионы']\n",
    "region = delete_outliers(region, 'total_paid', 0)\n",
    "region = region['total_paid']\n",
    "alpha = 0.05\n",
    "results = st.ttest_ind(moscow, region)\n",
    "\n",
    "print('p-value:', results.pvalue)\n",
    "\n",
    "if (results.pvalue < alpha):\n",
    "    print(\"Отвергаем нулевую гипотезу\")\n",
    "else:\n",
    "    print(\"Не получилось отвергнуть нулевую гипотезу\")"
   ]
  },
  {
   "cell_type": "markdown",
   "metadata": {},
   "source": [
    "# 5. Общий вывод"
   ]
  },
  {
   "cell_type": "markdown",
   "metadata": {},
   "source": [
    "На основании проведенного исследования можно сделать следующие выводы:\n",
    "1. Средняя выручка между абонентами тарифов \"Смарт\" и \"Ультра\" значительно различается. Думаю это предлолагалось изначально при разработке данных тарифов, т.к. они были расчитаны на разные категории пользователей.\n",
    "2. Средняя выручка между абонентами из Москвы и других регионов отличается незначительно, скорее всего это связано со стандартным набором услуг мобильной связи\n",
    "3. На основании проведенного анализа выручки, для сотового оператора выгодныее тариф \"Смарт\". Не смотря на то, что для тарифа \"Ультра\" установлена более высокая абоненская плата, пользователи укладываются в данную сумму в течении месяца. Тогда как пользователи тарифного плана \"Смарт\" регулярно оплачивают услуги сверх абоненской плтаты, что влечет к расту выручки поставщика услуг"
   ]
  }
 ],
 "metadata": {
  "ExecuteTimeLog": [
   {
    "duration": 1214,
    "start_time": "2022-03-21T21:58:08.876Z"
   },
   {
    "duration": 172,
    "start_time": "2022-03-21T22:03:27.423Z"
   },
   {
    "duration": 386,
    "start_time": "2022-03-21T22:04:04.322Z"
   },
   {
    "duration": 8,
    "start_time": "2022-03-21T22:10:03.169Z"
   },
   {
    "duration": 12,
    "start_time": "2022-03-21T22:10:21.570Z"
   },
   {
    "duration": 35,
    "start_time": "2022-03-21T22:10:58.940Z"
   },
   {
    "duration": 9,
    "start_time": "2022-03-21T22:12:55.899Z"
   },
   {
    "duration": 23,
    "start_time": "2022-03-21T22:13:28.189Z"
   },
   {
    "duration": 7,
    "start_time": "2022-03-21T22:14:01.679Z"
   },
   {
    "duration": 20,
    "start_time": "2022-03-21T22:14:17.004Z"
   },
   {
    "duration": 8,
    "start_time": "2022-03-21T22:14:46.246Z"
   },
   {
    "duration": 10,
    "start_time": "2022-03-21T22:15:07.997Z"
   },
   {
    "duration": 10,
    "start_time": "2022-03-21T22:15:38.973Z"
   },
   {
    "duration": 11,
    "start_time": "2022-03-21T22:16:04.657Z"
   },
   {
    "duration": 121,
    "start_time": "2022-03-21T22:50:35.262Z"
   },
   {
    "duration": 6,
    "start_time": "2022-03-21T23:13:13.753Z"
   },
   {
    "duration": 49,
    "start_time": "2022-03-21T23:17:23.858Z"
   },
   {
    "duration": 51,
    "start_time": "2022-03-21T23:17:36.413Z"
   },
   {
    "duration": 1381,
    "start_time": "2022-03-24T23:26:46.717Z"
   },
   {
    "duration": 434,
    "start_time": "2022-03-24T23:26:48.102Z"
   },
   {
    "duration": 12,
    "start_time": "2022-03-24T23:26:48.538Z"
   },
   {
    "duration": 26,
    "start_time": "2022-03-24T23:26:48.552Z"
   },
   {
    "duration": 8,
    "start_time": "2022-03-24T23:26:48.580Z"
   },
   {
    "duration": 22,
    "start_time": "2022-03-24T23:26:48.589Z"
   },
   {
    "duration": 7,
    "start_time": "2022-03-24T23:26:48.614Z"
   },
   {
    "duration": 20,
    "start_time": "2022-03-24T23:26:48.622Z"
   },
   {
    "duration": 9,
    "start_time": "2022-03-24T23:26:48.644Z"
   },
   {
    "duration": 10,
    "start_time": "2022-03-24T23:26:48.655Z"
   },
   {
    "duration": 11,
    "start_time": "2022-03-24T23:26:48.667Z"
   },
   {
    "duration": 11,
    "start_time": "2022-03-24T23:26:48.679Z"
   },
   {
    "duration": 143,
    "start_time": "2022-03-24T23:26:48.692Z"
   },
   {
    "duration": 4,
    "start_time": "2022-03-24T23:26:48.837Z"
   },
   {
    "duration": 73,
    "start_time": "2022-03-24T23:26:48.843Z"
   },
   {
    "duration": 35,
    "start_time": "2022-03-24T23:34:31.860Z"
   },
   {
    "duration": 41,
    "start_time": "2022-03-24T23:39:53.705Z"
   },
   {
    "duration": 109,
    "start_time": "2022-03-24T23:47:26.344Z"
   },
   {
    "duration": 24,
    "start_time": "2022-03-24T23:49:00.584Z"
   },
   {
    "duration": 27,
    "start_time": "2022-03-24T23:49:23.234Z"
   },
   {
    "duration": 26,
    "start_time": "2022-03-24T23:50:23.694Z"
   },
   {
    "duration": 29,
    "start_time": "2022-03-24T23:57:15.417Z"
   },
   {
    "duration": 4,
    "start_time": "2022-03-24T23:58:30.543Z"
   },
   {
    "duration": 445,
    "start_time": "2022-03-24T23:58:30.549Z"
   },
   {
    "duration": 9,
    "start_time": "2022-03-24T23:58:30.996Z"
   },
   {
    "duration": 28,
    "start_time": "2022-03-24T23:58:31.006Z"
   },
   {
    "duration": 11,
    "start_time": "2022-03-24T23:58:31.037Z"
   },
   {
    "duration": 28,
    "start_time": "2022-03-24T23:58:31.050Z"
   },
   {
    "duration": 9,
    "start_time": "2022-03-24T23:58:31.102Z"
   },
   {
    "duration": 22,
    "start_time": "2022-03-24T23:58:31.113Z"
   },
   {
    "duration": 9,
    "start_time": "2022-03-24T23:58:31.137Z"
   },
   {
    "duration": 17,
    "start_time": "2022-03-24T23:58:31.147Z"
   },
   {
    "duration": 38,
    "start_time": "2022-03-24T23:58:31.167Z"
   },
   {
    "duration": 12,
    "start_time": "2022-03-24T23:58:31.206Z"
   },
   {
    "duration": 136,
    "start_time": "2022-03-24T23:58:31.220Z"
   },
   {
    "duration": 4,
    "start_time": "2022-03-24T23:58:31.358Z"
   },
   {
    "duration": 62,
    "start_time": "2022-03-24T23:58:31.364Z"
   },
   {
    "duration": 32,
    "start_time": "2022-03-24T23:58:31.428Z"
   },
   {
    "duration": 54,
    "start_time": "2022-03-24T23:58:31.462Z"
   },
   {
    "duration": 29,
    "start_time": "2022-03-24T23:58:31.518Z"
   },
   {
    "duration": 28,
    "start_time": "2022-03-24T23:58:46.051Z"
   },
   {
    "duration": 34,
    "start_time": "2022-03-25T00:01:58.856Z"
   },
   {
    "duration": 192,
    "start_time": "2022-03-25T00:07:46.375Z"
   },
   {
    "duration": 227,
    "start_time": "2022-03-25T00:10:21.087Z"
   },
   {
    "duration": 31,
    "start_time": "2022-03-25T00:12:07.112Z"
   },
   {
    "duration": 37,
    "start_time": "2022-03-25T00:12:58.657Z"
   },
   {
    "duration": 41,
    "start_time": "2022-03-25T00:13:04.409Z"
   },
   {
    "duration": 10,
    "start_time": "2022-03-25T00:13:50.037Z"
   },
   {
    "duration": 9,
    "start_time": "2022-03-25T00:13:56.947Z"
   },
   {
    "duration": 7,
    "start_time": "2022-03-25T00:20:34.909Z"
   },
   {
    "duration": 4,
    "start_time": "2022-03-25T00:22:15.853Z"
   },
   {
    "duration": 126,
    "start_time": "2022-03-25T00:23:32.997Z"
   },
   {
    "duration": 16,
    "start_time": "2022-03-25T00:27:53.883Z"
   },
   {
    "duration": 6,
    "start_time": "2022-03-25T00:29:28.690Z"
   },
   {
    "duration": 136,
    "start_time": "2022-03-25T00:30:15.503Z"
   },
   {
    "duration": 119,
    "start_time": "2022-03-25T00:30:56.039Z"
   },
   {
    "duration": 50,
    "start_time": "2022-03-25T00:33:09.920Z"
   },
   {
    "duration": 12,
    "start_time": "2022-03-25T00:38:12.490Z"
   },
   {
    "duration": 141,
    "start_time": "2022-03-25T00:40:13.039Z"
   },
   {
    "duration": 136,
    "start_time": "2022-03-25T00:41:55.170Z"
   },
   {
    "duration": 11,
    "start_time": "2022-03-25T00:49:30.241Z"
   },
   {
    "duration": 127,
    "start_time": "2022-03-25T00:50:47.371Z"
   },
   {
    "duration": 135,
    "start_time": "2022-03-25T00:52:19.205Z"
   },
   {
    "duration": 12,
    "start_time": "2022-03-25T00:58:09.258Z"
   },
   {
    "duration": 214,
    "start_time": "2022-03-25T00:59:20.178Z"
   },
   {
    "duration": 209,
    "start_time": "2022-03-25T00:59:41.888Z"
   },
   {
    "duration": 196,
    "start_time": "2022-03-25T01:00:55.782Z"
   },
   {
    "duration": 1459,
    "start_time": "2022-03-27T21:04:45.999Z"
   },
   {
    "duration": 426,
    "start_time": "2022-03-27T21:04:47.461Z"
   },
   {
    "duration": 13,
    "start_time": "2022-03-27T21:04:47.889Z"
   },
   {
    "duration": 29,
    "start_time": "2022-03-27T21:04:47.904Z"
   },
   {
    "duration": 10,
    "start_time": "2022-03-27T21:04:47.935Z"
   },
   {
    "duration": 27,
    "start_time": "2022-03-27T21:04:47.947Z"
   },
   {
    "duration": 30,
    "start_time": "2022-03-27T21:04:47.976Z"
   },
   {
    "duration": 21,
    "start_time": "2022-03-27T21:04:48.008Z"
   },
   {
    "duration": 9,
    "start_time": "2022-03-27T21:04:48.031Z"
   },
   {
    "duration": 12,
    "start_time": "2022-03-27T21:04:48.043Z"
   },
   {
    "duration": 54,
    "start_time": "2022-03-27T21:04:48.057Z"
   },
   {
    "duration": 24,
    "start_time": "2022-03-27T21:04:48.113Z"
   },
   {
    "duration": 163,
    "start_time": "2022-03-27T21:04:48.139Z"
   },
   {
    "duration": 5,
    "start_time": "2022-03-27T21:04:48.304Z"
   },
   {
    "duration": 54,
    "start_time": "2022-03-27T21:04:48.311Z"
   },
   {
    "duration": 55,
    "start_time": "2022-03-27T21:04:48.367Z"
   },
   {
    "duration": 43,
    "start_time": "2022-03-27T21:04:48.424Z"
   },
   {
    "duration": 88,
    "start_time": "2022-03-27T21:04:48.469Z"
   },
   {
    "duration": 13,
    "start_time": "2022-03-27T21:04:48.560Z"
   },
   {
    "duration": 25,
    "start_time": "2022-03-27T21:04:48.576Z"
   },
   {
    "duration": 6,
    "start_time": "2022-03-27T21:04:48.604Z"
   },
   {
    "duration": 157,
    "start_time": "2022-03-27T21:04:48.613Z"
   },
   {
    "duration": 29,
    "start_time": "2022-03-27T21:04:48.773Z"
   },
   {
    "duration": 10,
    "start_time": "2022-03-27T21:04:48.804Z"
   },
   {
    "duration": 160,
    "start_time": "2022-03-27T21:04:48.816Z"
   },
   {
    "duration": 166,
    "start_time": "2022-03-27T21:04:48.978Z"
   },
   {
    "duration": 58,
    "start_time": "2022-03-27T21:04:49.146Z"
   },
   {
    "duration": 11,
    "start_time": "2022-03-27T21:04:49.208Z"
   },
   {
    "duration": 166,
    "start_time": "2022-03-27T21:04:49.221Z"
   },
   {
    "duration": 168,
    "start_time": "2022-03-27T21:04:49.389Z"
   },
   {
    "duration": 20,
    "start_time": "2022-03-27T21:04:49.558Z"
   },
   {
    "duration": 245,
    "start_time": "2022-03-27T21:04:49.581Z"
   },
   {
    "duration": 150,
    "start_time": "2022-03-27T21:04:49.828Z"
   },
   {
    "duration": 21,
    "start_time": "2022-03-27T21:04:49.980Z"
   },
   {
    "duration": 155,
    "start_time": "2022-03-27T21:04:50.003Z"
   },
   {
    "duration": 143,
    "start_time": "2022-03-27T21:04:50.160Z"
   },
   {
    "duration": 6,
    "start_time": "2022-03-27T21:14:49.939Z"
   },
   {
    "duration": 109,
    "start_time": "2022-03-27T21:21:07.311Z"
   },
   {
    "duration": 5,
    "start_time": "2022-03-27T21:22:36.952Z"
   },
   {
    "duration": 21,
    "start_time": "2022-03-27T21:22:40.964Z"
   },
   {
    "duration": 5,
    "start_time": "2022-03-27T21:23:16.541Z"
   },
   {
    "duration": 155,
    "start_time": "2022-03-27T21:23:20.302Z"
   },
   {
    "duration": 18,
    "start_time": "2022-03-27T21:30:24.637Z"
   },
   {
    "duration": 6,
    "start_time": "2022-03-27T21:46:15.603Z"
   },
   {
    "duration": 22,
    "start_time": "2022-03-27T21:51:29.166Z"
   },
   {
    "duration": 5,
    "start_time": "2022-03-27T22:10:45.783Z"
   },
   {
    "duration": 474,
    "start_time": "2022-03-27T22:10:45.791Z"
   },
   {
    "duration": 9,
    "start_time": "2022-03-27T22:10:46.268Z"
   },
   {
    "duration": 30,
    "start_time": "2022-03-27T22:10:46.280Z"
   },
   {
    "duration": 10,
    "start_time": "2022-03-27T22:10:46.312Z"
   },
   {
    "duration": 25,
    "start_time": "2022-03-27T22:10:46.324Z"
   },
   {
    "duration": 8,
    "start_time": "2022-03-27T22:10:46.351Z"
   },
   {
    "duration": 49,
    "start_time": "2022-03-27T22:10:46.361Z"
   },
   {
    "duration": 8,
    "start_time": "2022-03-27T22:10:46.412Z"
   },
   {
    "duration": 12,
    "start_time": "2022-03-27T22:10:46.422Z"
   },
   {
    "duration": 12,
    "start_time": "2022-03-27T22:10:46.437Z"
   },
   {
    "duration": 17,
    "start_time": "2022-03-27T22:10:46.451Z"
   },
   {
    "duration": 139,
    "start_time": "2022-03-27T22:10:46.501Z"
   },
   {
    "duration": 5,
    "start_time": "2022-03-27T22:10:46.642Z"
   },
   {
    "duration": 74,
    "start_time": "2022-03-27T22:10:46.648Z"
   },
   {
    "duration": 37,
    "start_time": "2022-03-27T22:10:46.724Z"
   },
   {
    "duration": 64,
    "start_time": "2022-03-27T22:10:46.763Z"
   },
   {
    "duration": 39,
    "start_time": "2022-03-27T22:10:46.828Z"
   },
   {
    "duration": 10,
    "start_time": "2022-03-27T22:10:46.868Z"
   },
   {
    "duration": 9,
    "start_time": "2022-03-27T22:10:46.901Z"
   },
   {
    "duration": 14,
    "start_time": "2022-03-27T22:10:46.912Z"
   },
   {
    "duration": 148,
    "start_time": "2022-03-27T22:10:46.928Z"
   },
   {
    "duration": 24,
    "start_time": "2022-03-27T22:10:47.078Z"
   },
   {
    "duration": 6,
    "start_time": "2022-03-27T22:10:47.104Z"
   },
   {
    "duration": 141,
    "start_time": "2022-03-27T22:10:47.112Z"
   },
   {
    "duration": 146,
    "start_time": "2022-03-27T22:10:47.255Z"
   },
   {
    "duration": 12,
    "start_time": "2022-03-27T22:10:47.403Z"
   },
   {
    "duration": 13,
    "start_time": "2022-03-27T22:10:47.417Z"
   },
   {
    "duration": 163,
    "start_time": "2022-03-27T22:10:47.432Z"
   },
   {
    "duration": 156,
    "start_time": "2022-03-27T22:10:47.601Z"
   },
   {
    "duration": 13,
    "start_time": "2022-03-27T22:10:47.758Z"
   },
   {
    "duration": 165,
    "start_time": "2022-03-27T22:10:47.772Z"
   },
   {
    "duration": 162,
    "start_time": "2022-03-27T22:10:47.939Z"
   },
   {
    "duration": 12,
    "start_time": "2022-03-27T22:10:48.104Z"
   },
   {
    "duration": 173,
    "start_time": "2022-03-27T22:10:48.119Z"
   },
   {
    "duration": 144,
    "start_time": "2022-03-27T22:10:48.294Z"
   },
   {
    "duration": 6,
    "start_time": "2022-03-27T22:10:48.442Z"
   },
   {
    "duration": 21,
    "start_time": "2022-03-27T22:10:48.450Z"
   },
   {
    "duration": 30,
    "start_time": "2022-03-27T22:10:48.473Z"
   },
   {
    "duration": 20,
    "start_time": "2022-03-27T22:10:48.507Z"
   },
   {
    "duration": 579,
    "start_time": "2022-04-07T15:58:29.986Z"
   },
   {
    "duration": 58,
    "start_time": "2022-04-07T21:11:59.413Z"
   },
   {
    "duration": 7,
    "start_time": "2022-04-07T21:14:16.480Z"
   },
   {
    "duration": 1363,
    "start_time": "2022-04-07T21:14:35.100Z"
   },
   {
    "duration": 462,
    "start_time": "2022-04-07T21:14:36.465Z"
   },
   {
    "duration": 13,
    "start_time": "2022-04-07T21:14:40.043Z"
   },
   {
    "duration": 26,
    "start_time": "2022-04-07T21:14:41.592Z"
   },
   {
    "duration": 9,
    "start_time": "2022-04-07T21:14:49.644Z"
   },
   {
    "duration": 3,
    "start_time": "2022-04-07T21:15:19.303Z"
   },
   {
    "duration": 483,
    "start_time": "2022-04-07T21:15:20.100Z"
   },
   {
    "duration": 8,
    "start_time": "2022-04-07T21:15:22.151Z"
   },
   {
    "duration": 8,
    "start_time": "2022-04-07T21:15:26.767Z"
   },
   {
    "duration": 23,
    "start_time": "2022-04-07T21:15:29.590Z"
   },
   {
    "duration": 5,
    "start_time": "2022-04-07T21:16:29.734Z"
   },
   {
    "duration": 532,
    "start_time": "2022-04-07T21:16:29.743Z"
   },
   {
    "duration": 9,
    "start_time": "2022-04-07T21:16:30.277Z"
   },
   {
    "duration": 29,
    "start_time": "2022-04-07T21:16:30.289Z"
   },
   {
    "duration": 9,
    "start_time": "2022-04-07T21:16:30.320Z"
   },
   {
    "duration": 44,
    "start_time": "2022-04-07T21:16:30.331Z"
   },
   {
    "duration": 9,
    "start_time": "2022-04-07T21:16:30.377Z"
   },
   {
    "duration": 22,
    "start_time": "2022-04-07T21:16:30.388Z"
   },
   {
    "duration": 8,
    "start_time": "2022-04-07T21:16:30.413Z"
   },
   {
    "duration": 26,
    "start_time": "2022-04-07T21:16:30.423Z"
   },
   {
    "duration": 11,
    "start_time": "2022-04-07T21:16:30.451Z"
   },
   {
    "duration": 18,
    "start_time": "2022-04-07T21:16:30.463Z"
   },
   {
    "duration": 144,
    "start_time": "2022-04-07T21:16:30.483Z"
   },
   {
    "duration": 6,
    "start_time": "2022-04-07T21:16:30.631Z"
   },
   {
    "duration": 66,
    "start_time": "2022-04-07T21:16:30.639Z"
   },
   {
    "duration": 51,
    "start_time": "2022-04-07T21:16:30.708Z"
   },
   {
    "duration": 40,
    "start_time": "2022-04-07T21:16:30.761Z"
   },
   {
    "duration": 58,
    "start_time": "2022-04-07T21:16:30.803Z"
   },
   {
    "duration": 8,
    "start_time": "2022-04-07T21:16:30.863Z"
   },
   {
    "duration": 7,
    "start_time": "2022-04-07T21:16:30.873Z"
   },
   {
    "duration": 7,
    "start_time": "2022-04-07T21:16:30.882Z"
   },
   {
    "duration": 189,
    "start_time": "2022-04-07T21:16:30.891Z"
   },
   {
    "duration": 16,
    "start_time": "2022-04-07T21:16:31.082Z"
   },
   {
    "duration": 6,
    "start_time": "2022-04-07T21:16:31.101Z"
   },
   {
    "duration": 185,
    "start_time": "2022-04-07T21:16:31.108Z"
   },
   {
    "duration": 167,
    "start_time": "2022-04-07T21:16:31.295Z"
   },
   {
    "duration": 44,
    "start_time": "2022-04-07T21:16:31.464Z"
   },
   {
    "duration": 25,
    "start_time": "2022-04-07T21:16:31.510Z"
   },
   {
    "duration": 175,
    "start_time": "2022-04-07T21:16:31.537Z"
   },
   {
    "duration": 175,
    "start_time": "2022-04-07T21:16:31.714Z"
   },
   {
    "duration": 10,
    "start_time": "2022-04-07T21:16:31.891Z"
   },
   {
    "duration": 184,
    "start_time": "2022-04-07T21:16:31.903Z"
   },
   {
    "duration": 171,
    "start_time": "2022-04-07T21:16:32.089Z"
   },
   {
    "duration": 11,
    "start_time": "2022-04-07T21:16:32.262Z"
   },
   {
    "duration": 189,
    "start_time": "2022-04-07T21:16:32.275Z"
   },
   {
    "duration": 152,
    "start_time": "2022-04-07T21:16:32.466Z"
   },
   {
    "duration": 12,
    "start_time": "2022-04-07T21:16:32.620Z"
   },
   {
    "duration": 27,
    "start_time": "2022-04-07T21:16:32.634Z"
   },
   {
    "duration": 9,
    "start_time": "2022-04-07T21:16:32.662Z"
   },
   {
    "duration": 104,
    "start_time": "2022-04-07T21:16:32.672Z"
   },
   {
    "duration": 65,
    "start_time": "2022-04-07T21:22:38.259Z"
   },
   {
    "duration": 6,
    "start_time": "2022-04-07T21:22:54.116Z"
   },
   {
    "duration": 50,
    "start_time": "2022-04-07T21:23:15.264Z"
   },
   {
    "duration": 50,
    "start_time": "2022-04-07T21:23:29.367Z"
   },
   {
    "duration": 50,
    "start_time": "2022-04-07T21:23:36.948Z"
   },
   {
    "duration": 40,
    "start_time": "2022-04-07T21:23:43.829Z"
   },
   {
    "duration": 49,
    "start_time": "2022-04-07T21:23:56.510Z"
   },
   {
    "duration": 37,
    "start_time": "2022-04-07T21:24:17.495Z"
   },
   {
    "duration": 10,
    "start_time": "2022-04-07T21:24:44.889Z"
   },
   {
    "duration": 6,
    "start_time": "2022-04-07T21:24:55.168Z"
   },
   {
    "duration": 3,
    "start_time": "2022-04-07T21:36:28.422Z"
   },
   {
    "duration": 4,
    "start_time": "2022-04-07T21:36:45.360Z"
   },
   {
    "duration": 154,
    "start_time": "2022-04-07T21:36:51.951Z"
   },
   {
    "duration": 3,
    "start_time": "2022-04-07T22:00:51.318Z"
   },
   {
    "duration": 574,
    "start_time": "2022-04-07T22:00:51.323Z"
   },
   {
    "duration": 8,
    "start_time": "2022-04-07T22:00:51.899Z"
   },
   {
    "duration": 42,
    "start_time": "2022-04-07T22:00:51.909Z"
   },
   {
    "duration": 15,
    "start_time": "2022-04-07T22:00:51.954Z"
   },
   {
    "duration": 31,
    "start_time": "2022-04-07T22:00:51.971Z"
   },
   {
    "duration": 7,
    "start_time": "2022-04-07T22:00:52.004Z"
   },
   {
    "duration": 61,
    "start_time": "2022-04-07T22:00:52.013Z"
   },
   {
    "duration": 18,
    "start_time": "2022-04-07T22:00:52.076Z"
   },
   {
    "duration": 23,
    "start_time": "2022-04-07T22:00:52.096Z"
   },
   {
    "duration": 47,
    "start_time": "2022-04-07T22:00:52.122Z"
   },
   {
    "duration": 20,
    "start_time": "2022-04-07T22:00:52.171Z"
   },
   {
    "duration": 18,
    "start_time": "2022-04-07T22:00:52.193Z"
   },
   {
    "duration": 164,
    "start_time": "2022-04-07T22:00:52.213Z"
   },
   {
    "duration": 63,
    "start_time": "2022-04-07T22:00:52.379Z"
   },
   {
    "duration": 40,
    "start_time": "2022-04-07T22:00:52.445Z"
   },
   {
    "duration": 73,
    "start_time": "2022-04-07T22:00:52.487Z"
   },
   {
    "duration": 38,
    "start_time": "2022-04-07T22:00:52.562Z"
   },
   {
    "duration": 8,
    "start_time": "2022-04-07T22:00:52.602Z"
   },
   {
    "duration": 25,
    "start_time": "2022-04-07T22:00:52.612Z"
   },
   {
    "duration": 21,
    "start_time": "2022-04-07T22:00:52.641Z"
   },
   {
    "duration": 193,
    "start_time": "2022-04-07T22:00:52.664Z"
   },
   {
    "duration": 15,
    "start_time": "2022-04-07T22:00:52.860Z"
   },
   {
    "duration": 6,
    "start_time": "2022-04-07T22:00:52.877Z"
   },
   {
    "duration": 157,
    "start_time": "2022-04-07T22:00:52.885Z"
   },
   {
    "duration": 153,
    "start_time": "2022-04-07T22:00:53.044Z"
   },
   {
    "duration": 11,
    "start_time": "2022-04-07T22:00:53.199Z"
   },
   {
    "duration": 29,
    "start_time": "2022-04-07T22:00:53.212Z"
   },
   {
    "duration": 180,
    "start_time": "2022-04-07T22:00:53.246Z"
   },
   {
    "duration": 176,
    "start_time": "2022-04-07T22:00:53.428Z"
   },
   {
    "duration": 12,
    "start_time": "2022-04-07T22:00:53.606Z"
   },
   {
    "duration": 180,
    "start_time": "2022-04-07T22:00:53.631Z"
   },
   {
    "duration": 177,
    "start_time": "2022-04-07T22:00:53.813Z"
   },
   {
    "duration": 11,
    "start_time": "2022-04-07T22:00:53.993Z"
   },
   {
    "duration": 272,
    "start_time": "2022-04-07T22:00:54.006Z"
   },
   {
    "duration": 178,
    "start_time": "2022-04-07T22:00:54.280Z"
   },
   {
    "duration": 4,
    "start_time": "2022-04-07T22:00:54.460Z"
   },
   {
    "duration": 15,
    "start_time": "2022-04-07T22:00:54.466Z"
   },
   {
    "duration": 4,
    "start_time": "2022-04-07T22:00:54.483Z"
   },
   {
    "duration": 20,
    "start_time": "2022-04-07T22:00:54.489Z"
   },
   {
    "duration": 160,
    "start_time": "2022-04-08T16:01:33.720Z"
   }
  ],
  "kernelspec": {
   "display_name": "Python 3 (ipykernel)",
   "language": "python",
   "name": "python3"
  },
  "language_info": {
   "codemirror_mode": {
    "name": "ipython",
    "version": 3
   },
   "file_extension": ".py",
   "mimetype": "text/x-python",
   "name": "python",
   "nbconvert_exporter": "python",
   "pygments_lexer": "ipython3",
   "version": "3.9.5"
  },
  "toc": {
   "base_numbering": 1,
   "nav_menu": {},
   "number_sections": true,
   "sideBar": true,
   "skip_h1_title": true,
   "title_cell": "Table of Contents",
   "title_sidebar": "Contents",
   "toc_cell": false,
   "toc_position": {},
   "toc_section_display": true,
   "toc_window_display": false
  }
 },
 "nbformat": 4,
 "nbformat_minor": 2
}
