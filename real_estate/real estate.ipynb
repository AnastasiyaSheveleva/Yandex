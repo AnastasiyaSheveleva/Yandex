{
 "cells": [
  {
   "cell_type": "markdown",
   "metadata": {
    "toc": true
   },
   "source": [
    "<h1>Содержание<span class=\"tocSkip\"></span></h1>\n",
    "<div class=\"toc\"><ul class=\"toc-item\"><li><span><a href=\"#Изучение-данных-из-файла\" data-toc-modified-id=\"Изучение-данных-из-файла-1\"><span class=\"toc-item-num\">1&nbsp;&nbsp;</span>Изучение данных из файла</a></span><ul class=\"toc-item\"><li><span><a href=\"#Вывод\" data-toc-modified-id=\"Вывод-1.1\"><span class=\"toc-item-num\">1.1&nbsp;&nbsp;</span>Вывод</a></span></li></ul></li><li><span><a href=\"#Предобработка-данных\" data-toc-modified-id=\"Предобработка-данных-2\"><span class=\"toc-item-num\">2&nbsp;&nbsp;</span>Предобработка данных</a></span></li><li><span><a href=\"#Расчёты-и-добавление-результатов-в-таблицу\" data-toc-modified-id=\"Расчёты-и-добавление-результатов-в-таблицу-3\"><span class=\"toc-item-num\">3&nbsp;&nbsp;</span>Расчёты и добавление результатов в таблицу</a></span></li><li><span><a href=\"#Исследовательский-анализ-данных\" data-toc-modified-id=\"Исследовательский-анализ-данных-4\"><span class=\"toc-item-num\">4&nbsp;&nbsp;</span>Исследовательский анализ данных</a></span></li><li><span><a href=\"#Общий-вывод\" data-toc-modified-id=\"Общий-вывод-5\"><span class=\"toc-item-num\">5&nbsp;&nbsp;</span>Общий вывод</a></span></li></ul></div>"
   ]
  },
  {
   "cell_type": "markdown",
   "metadata": {},
   "source": [
    "# Исследование объявлений о продаже квартир\n",
    "\n",
    "В вашем распоряжении данные сервиса Яндекc Недвижимость — архив объявлений о продаже квартир в Санкт-Петербурге и соседних населённых пунктах за несколько лет. Нужно научиться определять рыночную стоимость объектов недвижимости. Ваша задача — установить параметры. Это позволит построить автоматизированную систему: она отследит аномалии и мошенническую деятельность. \n",
    "\n",
    "По каждой квартире на продажу доступны два вида данных. Первые вписаны пользователем, вторые получены автоматически на основе картографических данных. Например, расстояние до центра, аэропорта, ближайшего парка и водоёма. "
   ]
  },
  {
   "cell_type": "markdown",
   "metadata": {},
   "source": [
    "## Изучение данных из файла"
   ]
  },
  {
   "cell_type": "code",
   "execution_count": 59,
   "metadata": {},
   "outputs": [
    {
     "name": "stdout",
     "output_type": "stream",
     "text": [
      "<class 'pandas.core.frame.DataFrame'>\n",
      "RangeIndex: 23699 entries, 0 to 23698\n",
      "Data columns (total 22 columns):\n",
      " #   Column                Non-Null Count  Dtype  \n",
      "---  ------                --------------  -----  \n",
      " 0   total_images          23699 non-null  int64  \n",
      " 1   last_price            23699 non-null  float64\n",
      " 2   total_area            23699 non-null  float64\n",
      " 3   first_day_exposition  23699 non-null  object \n",
      " 4   rooms                 23699 non-null  int64  \n",
      " 5   ceiling_height        14504 non-null  float64\n",
      " 6   floors_total          23613 non-null  float64\n",
      " 7   living_area           21796 non-null  float64\n",
      " 8   floor                 23699 non-null  int64  \n",
      " 9   is_apartment          2775 non-null   object \n",
      " 10  studio                23699 non-null  bool   \n",
      " 11  open_plan             23699 non-null  bool   \n",
      " 12  kitchen_area          21421 non-null  float64\n",
      " 13  balcony               12180 non-null  float64\n",
      " 14  locality_name         23650 non-null  object \n",
      " 15  airports_nearest      18157 non-null  float64\n",
      " 16  cityCenters_nearest   18180 non-null  float64\n",
      " 17  parks_around3000      18181 non-null  float64\n",
      " 18  parks_nearest         8079 non-null   float64\n",
      " 19  ponds_around3000      18181 non-null  float64\n",
      " 20  ponds_nearest         9110 non-null   float64\n",
      " 21  days_exposition       20518 non-null  float64\n",
      "dtypes: bool(2), float64(14), int64(3), object(3)\n",
      "memory usage: 3.7+ MB\n"
     ]
    },
    {
     "data": {
      "text/html": [
       "<div>\n",
       "<style scoped>\n",
       "    .dataframe tbody tr th:only-of-type {\n",
       "        vertical-align: middle;\n",
       "    }\n",
       "\n",
       "    .dataframe tbody tr th {\n",
       "        vertical-align: top;\n",
       "    }\n",
       "\n",
       "    .dataframe thead th {\n",
       "        text-align: right;\n",
       "    }\n",
       "</style>\n",
       "<table border=\"1\" class=\"dataframe\">\n",
       "  <thead>\n",
       "    <tr style=\"text-align: right;\">\n",
       "      <th></th>\n",
       "      <th>total_images</th>\n",
       "      <th>last_price</th>\n",
       "      <th>total_area</th>\n",
       "      <th>first_day_exposition</th>\n",
       "      <th>rooms</th>\n",
       "      <th>ceiling_height</th>\n",
       "      <th>floors_total</th>\n",
       "      <th>living_area</th>\n",
       "      <th>floor</th>\n",
       "      <th>is_apartment</th>\n",
       "      <th>...</th>\n",
       "      <th>kitchen_area</th>\n",
       "      <th>balcony</th>\n",
       "      <th>locality_name</th>\n",
       "      <th>airports_nearest</th>\n",
       "      <th>cityCenters_nearest</th>\n",
       "      <th>parks_around3000</th>\n",
       "      <th>parks_nearest</th>\n",
       "      <th>ponds_around3000</th>\n",
       "      <th>ponds_nearest</th>\n",
       "      <th>days_exposition</th>\n",
       "    </tr>\n",
       "  </thead>\n",
       "  <tbody>\n",
       "    <tr>\n",
       "      <th>0</th>\n",
       "      <td>20</td>\n",
       "      <td>13000000.0</td>\n",
       "      <td>108.00</td>\n",
       "      <td>2019-03-07T00:00:00</td>\n",
       "      <td>3</td>\n",
       "      <td>2.70</td>\n",
       "      <td>16.0</td>\n",
       "      <td>51.00</td>\n",
       "      <td>8</td>\n",
       "      <td>NaN</td>\n",
       "      <td>...</td>\n",
       "      <td>25.00</td>\n",
       "      <td>NaN</td>\n",
       "      <td>Санкт-Петербург</td>\n",
       "      <td>18863.0</td>\n",
       "      <td>16028.0</td>\n",
       "      <td>1.0</td>\n",
       "      <td>482.0</td>\n",
       "      <td>2.0</td>\n",
       "      <td>755.0</td>\n",
       "      <td>NaN</td>\n",
       "    </tr>\n",
       "    <tr>\n",
       "      <th>1</th>\n",
       "      <td>7</td>\n",
       "      <td>3350000.0</td>\n",
       "      <td>40.40</td>\n",
       "      <td>2018-12-04T00:00:00</td>\n",
       "      <td>1</td>\n",
       "      <td>NaN</td>\n",
       "      <td>11.0</td>\n",
       "      <td>18.60</td>\n",
       "      <td>1</td>\n",
       "      <td>NaN</td>\n",
       "      <td>...</td>\n",
       "      <td>11.00</td>\n",
       "      <td>2.0</td>\n",
       "      <td>посёлок Шушары</td>\n",
       "      <td>12817.0</td>\n",
       "      <td>18603.0</td>\n",
       "      <td>0.0</td>\n",
       "      <td>NaN</td>\n",
       "      <td>0.0</td>\n",
       "      <td>NaN</td>\n",
       "      <td>81.0</td>\n",
       "    </tr>\n",
       "    <tr>\n",
       "      <th>2</th>\n",
       "      <td>10</td>\n",
       "      <td>5196000.0</td>\n",
       "      <td>56.00</td>\n",
       "      <td>2015-08-20T00:00:00</td>\n",
       "      <td>2</td>\n",
       "      <td>NaN</td>\n",
       "      <td>5.0</td>\n",
       "      <td>34.30</td>\n",
       "      <td>4</td>\n",
       "      <td>NaN</td>\n",
       "      <td>...</td>\n",
       "      <td>8.30</td>\n",
       "      <td>0.0</td>\n",
       "      <td>Санкт-Петербург</td>\n",
       "      <td>21741.0</td>\n",
       "      <td>13933.0</td>\n",
       "      <td>1.0</td>\n",
       "      <td>90.0</td>\n",
       "      <td>2.0</td>\n",
       "      <td>574.0</td>\n",
       "      <td>558.0</td>\n",
       "    </tr>\n",
       "    <tr>\n",
       "      <th>3</th>\n",
       "      <td>0</td>\n",
       "      <td>64900000.0</td>\n",
       "      <td>159.00</td>\n",
       "      <td>2015-07-24T00:00:00</td>\n",
       "      <td>3</td>\n",
       "      <td>NaN</td>\n",
       "      <td>14.0</td>\n",
       "      <td>NaN</td>\n",
       "      <td>9</td>\n",
       "      <td>NaN</td>\n",
       "      <td>...</td>\n",
       "      <td>NaN</td>\n",
       "      <td>0.0</td>\n",
       "      <td>Санкт-Петербург</td>\n",
       "      <td>28098.0</td>\n",
       "      <td>6800.0</td>\n",
       "      <td>2.0</td>\n",
       "      <td>84.0</td>\n",
       "      <td>3.0</td>\n",
       "      <td>234.0</td>\n",
       "      <td>424.0</td>\n",
       "    </tr>\n",
       "    <tr>\n",
       "      <th>4</th>\n",
       "      <td>2</td>\n",
       "      <td>10000000.0</td>\n",
       "      <td>100.00</td>\n",
       "      <td>2018-06-19T00:00:00</td>\n",
       "      <td>2</td>\n",
       "      <td>3.03</td>\n",
       "      <td>14.0</td>\n",
       "      <td>32.00</td>\n",
       "      <td>13</td>\n",
       "      <td>NaN</td>\n",
       "      <td>...</td>\n",
       "      <td>41.00</td>\n",
       "      <td>NaN</td>\n",
       "      <td>Санкт-Петербург</td>\n",
       "      <td>31856.0</td>\n",
       "      <td>8098.0</td>\n",
       "      <td>2.0</td>\n",
       "      <td>112.0</td>\n",
       "      <td>1.0</td>\n",
       "      <td>48.0</td>\n",
       "      <td>121.0</td>\n",
       "    </tr>\n",
       "    <tr>\n",
       "      <th>5</th>\n",
       "      <td>10</td>\n",
       "      <td>2890000.0</td>\n",
       "      <td>30.40</td>\n",
       "      <td>2018-09-10T00:00:00</td>\n",
       "      <td>1</td>\n",
       "      <td>NaN</td>\n",
       "      <td>12.0</td>\n",
       "      <td>14.40</td>\n",
       "      <td>5</td>\n",
       "      <td>NaN</td>\n",
       "      <td>...</td>\n",
       "      <td>9.10</td>\n",
       "      <td>NaN</td>\n",
       "      <td>городской посёлок Янино-1</td>\n",
       "      <td>NaN</td>\n",
       "      <td>NaN</td>\n",
       "      <td>NaN</td>\n",
       "      <td>NaN</td>\n",
       "      <td>NaN</td>\n",
       "      <td>NaN</td>\n",
       "      <td>55.0</td>\n",
       "    </tr>\n",
       "    <tr>\n",
       "      <th>6</th>\n",
       "      <td>6</td>\n",
       "      <td>3700000.0</td>\n",
       "      <td>37.30</td>\n",
       "      <td>2017-11-02T00:00:00</td>\n",
       "      <td>1</td>\n",
       "      <td>NaN</td>\n",
       "      <td>26.0</td>\n",
       "      <td>10.60</td>\n",
       "      <td>6</td>\n",
       "      <td>NaN</td>\n",
       "      <td>...</td>\n",
       "      <td>14.40</td>\n",
       "      <td>1.0</td>\n",
       "      <td>посёлок Парголово</td>\n",
       "      <td>52996.0</td>\n",
       "      <td>19143.0</td>\n",
       "      <td>0.0</td>\n",
       "      <td>NaN</td>\n",
       "      <td>0.0</td>\n",
       "      <td>NaN</td>\n",
       "      <td>155.0</td>\n",
       "    </tr>\n",
       "    <tr>\n",
       "      <th>7</th>\n",
       "      <td>5</td>\n",
       "      <td>7915000.0</td>\n",
       "      <td>71.60</td>\n",
       "      <td>2019-04-18T00:00:00</td>\n",
       "      <td>2</td>\n",
       "      <td>NaN</td>\n",
       "      <td>24.0</td>\n",
       "      <td>NaN</td>\n",
       "      <td>22</td>\n",
       "      <td>NaN</td>\n",
       "      <td>...</td>\n",
       "      <td>18.90</td>\n",
       "      <td>2.0</td>\n",
       "      <td>Санкт-Петербург</td>\n",
       "      <td>23982.0</td>\n",
       "      <td>11634.0</td>\n",
       "      <td>0.0</td>\n",
       "      <td>NaN</td>\n",
       "      <td>0.0</td>\n",
       "      <td>NaN</td>\n",
       "      <td>NaN</td>\n",
       "    </tr>\n",
       "    <tr>\n",
       "      <th>8</th>\n",
       "      <td>20</td>\n",
       "      <td>2900000.0</td>\n",
       "      <td>33.16</td>\n",
       "      <td>2018-05-23T00:00:00</td>\n",
       "      <td>1</td>\n",
       "      <td>NaN</td>\n",
       "      <td>27.0</td>\n",
       "      <td>15.43</td>\n",
       "      <td>26</td>\n",
       "      <td>NaN</td>\n",
       "      <td>...</td>\n",
       "      <td>8.81</td>\n",
       "      <td>NaN</td>\n",
       "      <td>посёлок Мурино</td>\n",
       "      <td>NaN</td>\n",
       "      <td>NaN</td>\n",
       "      <td>NaN</td>\n",
       "      <td>NaN</td>\n",
       "      <td>NaN</td>\n",
       "      <td>NaN</td>\n",
       "      <td>189.0</td>\n",
       "    </tr>\n",
       "    <tr>\n",
       "      <th>9</th>\n",
       "      <td>18</td>\n",
       "      <td>5400000.0</td>\n",
       "      <td>61.00</td>\n",
       "      <td>2017-02-26T00:00:00</td>\n",
       "      <td>3</td>\n",
       "      <td>2.50</td>\n",
       "      <td>9.0</td>\n",
       "      <td>43.60</td>\n",
       "      <td>7</td>\n",
       "      <td>NaN</td>\n",
       "      <td>...</td>\n",
       "      <td>6.50</td>\n",
       "      <td>2.0</td>\n",
       "      <td>Санкт-Петербург</td>\n",
       "      <td>50898.0</td>\n",
       "      <td>15008.0</td>\n",
       "      <td>0.0</td>\n",
       "      <td>NaN</td>\n",
       "      <td>0.0</td>\n",
       "      <td>NaN</td>\n",
       "      <td>289.0</td>\n",
       "    </tr>\n",
       "    <tr>\n",
       "      <th>10</th>\n",
       "      <td>5</td>\n",
       "      <td>5050000.0</td>\n",
       "      <td>39.60</td>\n",
       "      <td>2017-11-16T00:00:00</td>\n",
       "      <td>1</td>\n",
       "      <td>2.67</td>\n",
       "      <td>12.0</td>\n",
       "      <td>20.30</td>\n",
       "      <td>3</td>\n",
       "      <td>NaN</td>\n",
       "      <td>...</td>\n",
       "      <td>8.50</td>\n",
       "      <td>NaN</td>\n",
       "      <td>Санкт-Петербург</td>\n",
       "      <td>38357.0</td>\n",
       "      <td>13878.0</td>\n",
       "      <td>1.0</td>\n",
       "      <td>310.0</td>\n",
       "      <td>2.0</td>\n",
       "      <td>553.0</td>\n",
       "      <td>137.0</td>\n",
       "    </tr>\n",
       "    <tr>\n",
       "      <th>11</th>\n",
       "      <td>9</td>\n",
       "      <td>3300000.0</td>\n",
       "      <td>44.00</td>\n",
       "      <td>2018-08-27T00:00:00</td>\n",
       "      <td>2</td>\n",
       "      <td>NaN</td>\n",
       "      <td>5.0</td>\n",
       "      <td>31.00</td>\n",
       "      <td>4</td>\n",
       "      <td>False</td>\n",
       "      <td>...</td>\n",
       "      <td>6.00</td>\n",
       "      <td>1.0</td>\n",
       "      <td>Ломоносов</td>\n",
       "      <td>48252.0</td>\n",
       "      <td>51677.0</td>\n",
       "      <td>0.0</td>\n",
       "      <td>NaN</td>\n",
       "      <td>0.0</td>\n",
       "      <td>NaN</td>\n",
       "      <td>7.0</td>\n",
       "    </tr>\n",
       "    <tr>\n",
       "      <th>12</th>\n",
       "      <td>10</td>\n",
       "      <td>3890000.0</td>\n",
       "      <td>54.00</td>\n",
       "      <td>2016-06-30T00:00:00</td>\n",
       "      <td>2</td>\n",
       "      <td>NaN</td>\n",
       "      <td>5.0</td>\n",
       "      <td>30.00</td>\n",
       "      <td>5</td>\n",
       "      <td>NaN</td>\n",
       "      <td>...</td>\n",
       "      <td>9.00</td>\n",
       "      <td>0.0</td>\n",
       "      <td>Сертолово</td>\n",
       "      <td>NaN</td>\n",
       "      <td>NaN</td>\n",
       "      <td>NaN</td>\n",
       "      <td>NaN</td>\n",
       "      <td>NaN</td>\n",
       "      <td>NaN</td>\n",
       "      <td>90.0</td>\n",
       "    </tr>\n",
       "    <tr>\n",
       "      <th>13</th>\n",
       "      <td>20</td>\n",
       "      <td>3550000.0</td>\n",
       "      <td>42.80</td>\n",
       "      <td>2017-07-01T00:00:00</td>\n",
       "      <td>2</td>\n",
       "      <td>2.56</td>\n",
       "      <td>5.0</td>\n",
       "      <td>27.00</td>\n",
       "      <td>5</td>\n",
       "      <td>NaN</td>\n",
       "      <td>...</td>\n",
       "      <td>5.20</td>\n",
       "      <td>1.0</td>\n",
       "      <td>Петергоф</td>\n",
       "      <td>37868.0</td>\n",
       "      <td>33058.0</td>\n",
       "      <td>1.0</td>\n",
       "      <td>294.0</td>\n",
       "      <td>3.0</td>\n",
       "      <td>298.0</td>\n",
       "      <td>366.0</td>\n",
       "    </tr>\n",
       "    <tr>\n",
       "      <th>14</th>\n",
       "      <td>1</td>\n",
       "      <td>4400000.0</td>\n",
       "      <td>36.00</td>\n",
       "      <td>2016-06-23T00:00:00</td>\n",
       "      <td>1</td>\n",
       "      <td>NaN</td>\n",
       "      <td>6.0</td>\n",
       "      <td>17.00</td>\n",
       "      <td>1</td>\n",
       "      <td>NaN</td>\n",
       "      <td>...</td>\n",
       "      <td>8.00</td>\n",
       "      <td>0.0</td>\n",
       "      <td>Пушкин</td>\n",
       "      <td>20782.0</td>\n",
       "      <td>30759.0</td>\n",
       "      <td>0.0</td>\n",
       "      <td>NaN</td>\n",
       "      <td>1.0</td>\n",
       "      <td>96.0</td>\n",
       "      <td>203.0</td>\n",
       "    </tr>\n",
       "  </tbody>\n",
       "</table>\n",
       "<p>15 rows × 22 columns</p>\n",
       "</div>"
      ],
      "text/plain": [
       "    total_images  last_price  total_area first_day_exposition  rooms  \\\n",
       "0             20  13000000.0      108.00  2019-03-07T00:00:00      3   \n",
       "1              7   3350000.0       40.40  2018-12-04T00:00:00      1   \n",
       "2             10   5196000.0       56.00  2015-08-20T00:00:00      2   \n",
       "3              0  64900000.0      159.00  2015-07-24T00:00:00      3   \n",
       "4              2  10000000.0      100.00  2018-06-19T00:00:00      2   \n",
       "5             10   2890000.0       30.40  2018-09-10T00:00:00      1   \n",
       "6              6   3700000.0       37.30  2017-11-02T00:00:00      1   \n",
       "7              5   7915000.0       71.60  2019-04-18T00:00:00      2   \n",
       "8             20   2900000.0       33.16  2018-05-23T00:00:00      1   \n",
       "9             18   5400000.0       61.00  2017-02-26T00:00:00      3   \n",
       "10             5   5050000.0       39.60  2017-11-16T00:00:00      1   \n",
       "11             9   3300000.0       44.00  2018-08-27T00:00:00      2   \n",
       "12            10   3890000.0       54.00  2016-06-30T00:00:00      2   \n",
       "13            20   3550000.0       42.80  2017-07-01T00:00:00      2   \n",
       "14             1   4400000.0       36.00  2016-06-23T00:00:00      1   \n",
       "\n",
       "    ceiling_height  floors_total  living_area  floor is_apartment  ...  \\\n",
       "0             2.70          16.0        51.00      8          NaN  ...   \n",
       "1              NaN          11.0        18.60      1          NaN  ...   \n",
       "2              NaN           5.0        34.30      4          NaN  ...   \n",
       "3              NaN          14.0          NaN      9          NaN  ...   \n",
       "4             3.03          14.0        32.00     13          NaN  ...   \n",
       "5              NaN          12.0        14.40      5          NaN  ...   \n",
       "6              NaN          26.0        10.60      6          NaN  ...   \n",
       "7              NaN          24.0          NaN     22          NaN  ...   \n",
       "8              NaN          27.0        15.43     26          NaN  ...   \n",
       "9             2.50           9.0        43.60      7          NaN  ...   \n",
       "10            2.67          12.0        20.30      3          NaN  ...   \n",
       "11             NaN           5.0        31.00      4        False  ...   \n",
       "12             NaN           5.0        30.00      5          NaN  ...   \n",
       "13            2.56           5.0        27.00      5          NaN  ...   \n",
       "14             NaN           6.0        17.00      1          NaN  ...   \n",
       "\n",
       "    kitchen_area  balcony              locality_name  airports_nearest  \\\n",
       "0          25.00      NaN            Санкт-Петербург           18863.0   \n",
       "1          11.00      2.0             посёлок Шушары           12817.0   \n",
       "2           8.30      0.0            Санкт-Петербург           21741.0   \n",
       "3            NaN      0.0            Санкт-Петербург           28098.0   \n",
       "4          41.00      NaN            Санкт-Петербург           31856.0   \n",
       "5           9.10      NaN  городской посёлок Янино-1               NaN   \n",
       "6          14.40      1.0          посёлок Парголово           52996.0   \n",
       "7          18.90      2.0            Санкт-Петербург           23982.0   \n",
       "8           8.81      NaN             посёлок Мурино               NaN   \n",
       "9           6.50      2.0            Санкт-Петербург           50898.0   \n",
       "10          8.50      NaN            Санкт-Петербург           38357.0   \n",
       "11          6.00      1.0                  Ломоносов           48252.0   \n",
       "12          9.00      0.0                  Сертолово               NaN   \n",
       "13          5.20      1.0                   Петергоф           37868.0   \n",
       "14          8.00      0.0                     Пушкин           20782.0   \n",
       "\n",
       "   cityCenters_nearest  parks_around3000  parks_nearest  ponds_around3000  \\\n",
       "0              16028.0               1.0          482.0               2.0   \n",
       "1              18603.0               0.0            NaN               0.0   \n",
       "2              13933.0               1.0           90.0               2.0   \n",
       "3               6800.0               2.0           84.0               3.0   \n",
       "4               8098.0               2.0          112.0               1.0   \n",
       "5                  NaN               NaN            NaN               NaN   \n",
       "6              19143.0               0.0            NaN               0.0   \n",
       "7              11634.0               0.0            NaN               0.0   \n",
       "8                  NaN               NaN            NaN               NaN   \n",
       "9              15008.0               0.0            NaN               0.0   \n",
       "10             13878.0               1.0          310.0               2.0   \n",
       "11             51677.0               0.0            NaN               0.0   \n",
       "12                 NaN               NaN            NaN               NaN   \n",
       "13             33058.0               1.0          294.0               3.0   \n",
       "14             30759.0               0.0            NaN               1.0   \n",
       "\n",
       "    ponds_nearest  days_exposition  \n",
       "0           755.0              NaN  \n",
       "1             NaN             81.0  \n",
       "2           574.0            558.0  \n",
       "3           234.0            424.0  \n",
       "4            48.0            121.0  \n",
       "5             NaN             55.0  \n",
       "6             NaN            155.0  \n",
       "7             NaN              NaN  \n",
       "8             NaN            189.0  \n",
       "9             NaN            289.0  \n",
       "10          553.0            137.0  \n",
       "11            NaN              7.0  \n",
       "12            NaN             90.0  \n",
       "13          298.0            366.0  \n",
       "14           96.0            203.0  \n",
       "\n",
       "[15 rows x 22 columns]"
      ]
     },
     "metadata": {},
     "output_type": "display_data"
    }
   ],
   "source": [
    "import numpy as np\n",
    "import pandas as pd\n",
    "import matplotlib.pyplot as plt\n",
    "import seaborn as sns\n",
    "data = pd.read_csv('/datasets/real_estate_data.csv', sep='\\t')\n",
    "data.info()\n",
    "display(data.head(15))"
   ]
  },
  {
   "cell_type": "code",
   "execution_count": 60,
   "metadata": {},
   "outputs": [],
   "source": [
    "import warnings\n",
    "warnings.filterwarnings('ignore')"
   ]
  },
  {
   "cell_type": "markdown",
   "metadata": {},
   "source": [
    "### Вывод"
   ]
  },
  {
   "cell_type": "markdown",
   "metadata": {},
   "source": [
    "Изходя из данныйх полученных методом info() в данных большое колличесво пропусков, некоторые стобцы содержат неверный тип данных, есть некоррекно оформленные заголовки столбцов, необходимо провести предобработку данных."
   ]
  },
  {
   "cell_type": "markdown",
   "metadata": {},
   "source": [
    "## Предобработка данных"
   ]
  },
  {
   "cell_type": "markdown",
   "metadata": {},
   "source": [
    "Первый этап работаем с пропусками. Проверим долю пропущенных значений по столбцам"
   ]
  },
  {
   "cell_type": "code",
   "execution_count": 61,
   "metadata": {},
   "outputs": [
    {
     "name": "stdout",
     "output_type": "stream",
     "text": [
      "total_images            0.000000\n",
      "last_price              0.000000\n",
      "total_area              0.000000\n",
      "first_day_exposition    0.000000\n",
      "rooms                   0.000000\n",
      "ceiling_height          0.387991\n",
      "floors_total            0.003629\n",
      "living_area             0.080299\n",
      "floor                   0.000000\n",
      "is_apartment            0.882906\n",
      "studio                  0.000000\n",
      "open_plan               0.000000\n",
      "kitchen_area            0.096122\n",
      "balcony                 0.486054\n",
      "locality_name           0.002068\n",
      "airports_nearest        0.233850\n",
      "cityCenters_nearest     0.232879\n",
      "parks_around3000        0.232837\n",
      "parks_nearest           0.659100\n",
      "ponds_around3000        0.232837\n",
      "ponds_nearest           0.615596\n",
      "days_exposition         0.134225\n",
      "dtype: float64\n"
     ]
    }
   ],
   "source": [
    "print(data.isna().mean())"
   ]
  },
  {
   "cell_type": "markdown",
   "metadata": {},
   "source": [
    "Пропуски в столбце \"balcony\" - могут обозначать отсутствие балкона в квартире, поэтому логично заменить их на 0"
   ]
  },
  {
   "cell_type": "code",
   "execution_count": 62,
   "metadata": {},
   "outputs": [],
   "source": [
    "data.loc[data['balcony'].isnull(), 'balcony'] = 0"
   ]
  },
  {
   "cell_type": "markdown",
   "metadata": {},
   "source": [
    "Аналогичная ситуация со столбцом \"is_apartment\", пропуски в нем можно объянить, что данное объявление относиться к квартире. Поэтому пропуски логично заменить на False"
   ]
  },
  {
   "cell_type": "code",
   "execution_count": 63,
   "metadata": {},
   "outputs": [
    {
     "data": {
      "text/plain": [
       "array([False, True], dtype=object)"
      ]
     },
     "execution_count": 63,
     "metadata": {},
     "output_type": "execute_result"
    }
   ],
   "source": [
    "data.loc[data['is_apartment'].isnull(), 'is_apartment'] = False\n",
    "data.is_apartment.unique()"
   ]
  },
  {
   "cell_type": "markdown",
   "metadata": {},
   "source": [
    "Самый небольшой процент пропусков в столбцах \"locality_name\" и \"floors_total\" - эти строки можно удалить без ьпотери качества данных в файле"
   ]
  },
  {
   "cell_type": "code",
   "execution_count": 64,
   "metadata": {},
   "outputs": [],
   "source": [
    "data = data.dropna(subset=['locality_name'])\n",
    "data.drop(data[data['floors_total'].isnull()].index, inplace=True)"
   ]
  },
  {
   "cell_type": "markdown",
   "metadata": {},
   "source": [
    "Пропуски в столбцах \"ceiling_height\", \"living_area\" и \"kitchen_area\" - логично заменить медианным значением по столбцу"
   ]
  },
  {
   "cell_type": "code",
   "execution_count": 65,
   "metadata": {},
   "outputs": [],
   "source": [
    "ceiling_height_avg = data['ceiling_height'].median()\n",
    "data['ceiling_height'] = data['ceiling_height'].fillna(value=ceiling_height_avg)\n",
    "living_area_avg = data['living_area'].median()\n",
    "data['living_area'] = data['living_area'].fillna(value=living_area_avg)\n",
    "kitchen_area_avg = data['kitchen_area'].median()\n",
    "data['kitchen_area'] = data['kitchen_area'].fillna(value=kitchen_area_avg)"
   ]
  },
  {
   "cell_type": "markdown",
   "metadata": {},
   "source": [
    "Пропуски в столбце \"cityCenters_nearest\" можно заполнить медианным значением по столбцу, предварительно сгрупировав данные по населенным пунктам"
   ]
  },
  {
   "cell_type": "code",
   "execution_count": 66,
   "metadata": {},
   "outputs": [],
   "source": [
    "cityCenters_nearest_avg = data['cityCenters_nearest'].fillna(data.groupby('locality_name')['cityCenters_nearest'].transform('median'))\n",
    "data['cityCenters_nearest'] = data['cityCenters_nearest'].fillna(value=cityCenters_nearest_avg)"
   ]
  },
  {
   "cell_type": "markdown",
   "metadata": {},
   "source": [
    "Пропуски в столбце \"airports_nearest\" можно заменить медианным значением по столбцу, т.к. аэропорты могут быть только в крпных городах области"
   ]
  },
  {
   "cell_type": "code",
   "execution_count": 67,
   "metadata": {},
   "outputs": [],
   "source": [
    "airports_nearest_avg = data['airports_nearest'].median()\n",
    "data['airports_nearest'] = data['airports_nearest'].fillna(value=airports_nearest_avg)"
   ]
  },
  {
   "cell_type": "markdown",
   "metadata": {},
   "source": [
    "Пропуски в столбце \"days_exposition\" скорее всего связаны с тем, что объявление еще не снято с публикации, заменим пропуски значеннием 0"
   ]
  },
  {
   "cell_type": "code",
   "execution_count": 68,
   "metadata": {},
   "outputs": [],
   "source": [
    "data['days_exposition'] = data['days_exposition'].fillna(0)"
   ]
  },
  {
   "cell_type": "markdown",
   "metadata": {},
   "source": [
    "Приведем значение столбца \"first_day_exposition\" к значению дата, т.к. время не указано"
   ]
  },
  {
   "cell_type": "code",
   "execution_count": 69,
   "metadata": {},
   "outputs": [],
   "source": [
    "data['first_day_exposition'] = pd.to_datetime(data['first_day_exposition'], format='%Y-%m-%d')"
   ]
  },
  {
   "cell_type": "markdown",
   "metadata": {},
   "source": [
    "Приведем данные в стобцах к целым числам, где это необходимо"
   ]
  },
  {
   "cell_type": "code",
   "execution_count": 70,
   "metadata": {},
   "outputs": [],
   "source": [
    "data['last_price'] = data['last_price'].astype('int')\n",
    "data['floors_total'] = data['floors_total'].astype('int')\n",
    "data['balcony'] = data['balcony'].astype('int')\n",
    "data['days_exposition'] = data['days_exposition'].astype('int')"
   ]
  },
  {
   "cell_type": "markdown",
   "metadata": {},
   "source": [
    "Переменуем некотороые столбцы для удобства восприятия информации"
   ]
  },
  {
   "cell_type": "code",
   "execution_count": 71,
   "metadata": {},
   "outputs": [],
   "source": [
    "data = data.rename(columns={'cityCenters_nearest': 'city_centers_nearest', 'parks_around3000': 'parks_around_3000', 'ponds_around3000': 'ponds_around_3000'})"
   ]
  },
  {
   "cell_type": "code",
   "execution_count": 72,
   "metadata": {},
   "outputs": [
    {
     "name": "stdout",
     "output_type": "stream",
     "text": [
      "<class 'pandas.core.frame.DataFrame'>\n",
      "Int64Index: 23565 entries, 0 to 23698\n",
      "Data columns (total 22 columns):\n",
      " #   Column                Non-Null Count  Dtype         \n",
      "---  ------                --------------  -----         \n",
      " 0   total_images          23565 non-null  int64         \n",
      " 1   last_price            23565 non-null  int64         \n",
      " 2   total_area            23565 non-null  float64       \n",
      " 3   first_day_exposition  23565 non-null  datetime64[ns]\n",
      " 4   rooms                 23565 non-null  int64         \n",
      " 5   ceiling_height        23565 non-null  float64       \n",
      " 6   floors_total          23565 non-null  int64         \n",
      " 7   living_area           23565 non-null  float64       \n",
      " 8   floor                 23565 non-null  int64         \n",
      " 9   is_apartment          23565 non-null  object        \n",
      " 10  studio                23565 non-null  bool          \n",
      " 11  open_plan             23565 non-null  bool          \n",
      " 12  kitchen_area          23565 non-null  float64       \n",
      " 13  balcony               23565 non-null  int64         \n",
      " 14  locality_name         23565 non-null  object        \n",
      " 15  airports_nearest      23565 non-null  float64       \n",
      " 16  city_centers_nearest  18133 non-null  float64       \n",
      " 17  parks_around_3000     18065 non-null  float64       \n",
      " 18  parks_nearest         8030 non-null   float64       \n",
      " 19  ponds_around_3000     18065 non-null  float64       \n",
      " 20  ponds_nearest         9036 non-null   float64       \n",
      " 21  days_exposition       23565 non-null  int64         \n",
      "dtypes: bool(2), datetime64[ns](1), float64(10), int64(7), object(2)\n",
      "memory usage: 3.8+ MB\n"
     ]
    },
    {
     "data": {
      "text/html": [
       "<div>\n",
       "<style scoped>\n",
       "    .dataframe tbody tr th:only-of-type {\n",
       "        vertical-align: middle;\n",
       "    }\n",
       "\n",
       "    .dataframe tbody tr th {\n",
       "        vertical-align: top;\n",
       "    }\n",
       "\n",
       "    .dataframe thead th {\n",
       "        text-align: right;\n",
       "    }\n",
       "</style>\n",
       "<table border=\"1\" class=\"dataframe\">\n",
       "  <thead>\n",
       "    <tr style=\"text-align: right;\">\n",
       "      <th></th>\n",
       "      <th>total_images</th>\n",
       "      <th>last_price</th>\n",
       "      <th>total_area</th>\n",
       "      <th>first_day_exposition</th>\n",
       "      <th>rooms</th>\n",
       "      <th>ceiling_height</th>\n",
       "      <th>floors_total</th>\n",
       "      <th>living_area</th>\n",
       "      <th>floor</th>\n",
       "      <th>is_apartment</th>\n",
       "      <th>...</th>\n",
       "      <th>kitchen_area</th>\n",
       "      <th>balcony</th>\n",
       "      <th>locality_name</th>\n",
       "      <th>airports_nearest</th>\n",
       "      <th>city_centers_nearest</th>\n",
       "      <th>parks_around_3000</th>\n",
       "      <th>parks_nearest</th>\n",
       "      <th>ponds_around_3000</th>\n",
       "      <th>ponds_nearest</th>\n",
       "      <th>days_exposition</th>\n",
       "    </tr>\n",
       "  </thead>\n",
       "  <tbody>\n",
       "    <tr>\n",
       "      <th>0</th>\n",
       "      <td>20</td>\n",
       "      <td>13000000</td>\n",
       "      <td>108.00</td>\n",
       "      <td>2019-03-07</td>\n",
       "      <td>3</td>\n",
       "      <td>2.70</td>\n",
       "      <td>16</td>\n",
       "      <td>51.00</td>\n",
       "      <td>8</td>\n",
       "      <td>False</td>\n",
       "      <td>...</td>\n",
       "      <td>25.00</td>\n",
       "      <td>0</td>\n",
       "      <td>Санкт-Петербург</td>\n",
       "      <td>18863.0</td>\n",
       "      <td>16028.0</td>\n",
       "      <td>1.0</td>\n",
       "      <td>482.0</td>\n",
       "      <td>2.0</td>\n",
       "      <td>755.0</td>\n",
       "      <td>0</td>\n",
       "    </tr>\n",
       "    <tr>\n",
       "      <th>1</th>\n",
       "      <td>7</td>\n",
       "      <td>3350000</td>\n",
       "      <td>40.40</td>\n",
       "      <td>2018-12-04</td>\n",
       "      <td>1</td>\n",
       "      <td>2.65</td>\n",
       "      <td>11</td>\n",
       "      <td>18.60</td>\n",
       "      <td>1</td>\n",
       "      <td>False</td>\n",
       "      <td>...</td>\n",
       "      <td>11.00</td>\n",
       "      <td>2</td>\n",
       "      <td>посёлок Шушары</td>\n",
       "      <td>12817.0</td>\n",
       "      <td>18603.0</td>\n",
       "      <td>0.0</td>\n",
       "      <td>NaN</td>\n",
       "      <td>0.0</td>\n",
       "      <td>NaN</td>\n",
       "      <td>81</td>\n",
       "    </tr>\n",
       "    <tr>\n",
       "      <th>2</th>\n",
       "      <td>10</td>\n",
       "      <td>5196000</td>\n",
       "      <td>56.00</td>\n",
       "      <td>2015-08-20</td>\n",
       "      <td>2</td>\n",
       "      <td>2.65</td>\n",
       "      <td>5</td>\n",
       "      <td>34.30</td>\n",
       "      <td>4</td>\n",
       "      <td>False</td>\n",
       "      <td>...</td>\n",
       "      <td>8.30</td>\n",
       "      <td>0</td>\n",
       "      <td>Санкт-Петербург</td>\n",
       "      <td>21741.0</td>\n",
       "      <td>13933.0</td>\n",
       "      <td>1.0</td>\n",
       "      <td>90.0</td>\n",
       "      <td>2.0</td>\n",
       "      <td>574.0</td>\n",
       "      <td>558</td>\n",
       "    </tr>\n",
       "    <tr>\n",
       "      <th>3</th>\n",
       "      <td>0</td>\n",
       "      <td>64900000</td>\n",
       "      <td>159.00</td>\n",
       "      <td>2015-07-24</td>\n",
       "      <td>3</td>\n",
       "      <td>2.65</td>\n",
       "      <td>14</td>\n",
       "      <td>30.00</td>\n",
       "      <td>9</td>\n",
       "      <td>False</td>\n",
       "      <td>...</td>\n",
       "      <td>9.10</td>\n",
       "      <td>0</td>\n",
       "      <td>Санкт-Петербург</td>\n",
       "      <td>28098.0</td>\n",
       "      <td>6800.0</td>\n",
       "      <td>2.0</td>\n",
       "      <td>84.0</td>\n",
       "      <td>3.0</td>\n",
       "      <td>234.0</td>\n",
       "      <td>424</td>\n",
       "    </tr>\n",
       "    <tr>\n",
       "      <th>4</th>\n",
       "      <td>2</td>\n",
       "      <td>10000000</td>\n",
       "      <td>100.00</td>\n",
       "      <td>2018-06-19</td>\n",
       "      <td>2</td>\n",
       "      <td>3.03</td>\n",
       "      <td>14</td>\n",
       "      <td>32.00</td>\n",
       "      <td>13</td>\n",
       "      <td>False</td>\n",
       "      <td>...</td>\n",
       "      <td>41.00</td>\n",
       "      <td>0</td>\n",
       "      <td>Санкт-Петербург</td>\n",
       "      <td>31856.0</td>\n",
       "      <td>8098.0</td>\n",
       "      <td>2.0</td>\n",
       "      <td>112.0</td>\n",
       "      <td>1.0</td>\n",
       "      <td>48.0</td>\n",
       "      <td>121</td>\n",
       "    </tr>\n",
       "    <tr>\n",
       "      <th>5</th>\n",
       "      <td>10</td>\n",
       "      <td>2890000</td>\n",
       "      <td>30.40</td>\n",
       "      <td>2018-09-10</td>\n",
       "      <td>1</td>\n",
       "      <td>2.65</td>\n",
       "      <td>12</td>\n",
       "      <td>14.40</td>\n",
       "      <td>5</td>\n",
       "      <td>False</td>\n",
       "      <td>...</td>\n",
       "      <td>9.10</td>\n",
       "      <td>0</td>\n",
       "      <td>городской посёлок Янино-1</td>\n",
       "      <td>26757.0</td>\n",
       "      <td>NaN</td>\n",
       "      <td>NaN</td>\n",
       "      <td>NaN</td>\n",
       "      <td>NaN</td>\n",
       "      <td>NaN</td>\n",
       "      <td>55</td>\n",
       "    </tr>\n",
       "    <tr>\n",
       "      <th>6</th>\n",
       "      <td>6</td>\n",
       "      <td>3700000</td>\n",
       "      <td>37.30</td>\n",
       "      <td>2017-11-02</td>\n",
       "      <td>1</td>\n",
       "      <td>2.65</td>\n",
       "      <td>26</td>\n",
       "      <td>10.60</td>\n",
       "      <td>6</td>\n",
       "      <td>False</td>\n",
       "      <td>...</td>\n",
       "      <td>14.40</td>\n",
       "      <td>1</td>\n",
       "      <td>посёлок Парголово</td>\n",
       "      <td>52996.0</td>\n",
       "      <td>19143.0</td>\n",
       "      <td>0.0</td>\n",
       "      <td>NaN</td>\n",
       "      <td>0.0</td>\n",
       "      <td>NaN</td>\n",
       "      <td>155</td>\n",
       "    </tr>\n",
       "    <tr>\n",
       "      <th>7</th>\n",
       "      <td>5</td>\n",
       "      <td>7915000</td>\n",
       "      <td>71.60</td>\n",
       "      <td>2019-04-18</td>\n",
       "      <td>2</td>\n",
       "      <td>2.65</td>\n",
       "      <td>24</td>\n",
       "      <td>30.00</td>\n",
       "      <td>22</td>\n",
       "      <td>False</td>\n",
       "      <td>...</td>\n",
       "      <td>18.90</td>\n",
       "      <td>2</td>\n",
       "      <td>Санкт-Петербург</td>\n",
       "      <td>23982.0</td>\n",
       "      <td>11634.0</td>\n",
       "      <td>0.0</td>\n",
       "      <td>NaN</td>\n",
       "      <td>0.0</td>\n",
       "      <td>NaN</td>\n",
       "      <td>0</td>\n",
       "    </tr>\n",
       "    <tr>\n",
       "      <th>8</th>\n",
       "      <td>20</td>\n",
       "      <td>2900000</td>\n",
       "      <td>33.16</td>\n",
       "      <td>2018-05-23</td>\n",
       "      <td>1</td>\n",
       "      <td>2.65</td>\n",
       "      <td>27</td>\n",
       "      <td>15.43</td>\n",
       "      <td>26</td>\n",
       "      <td>False</td>\n",
       "      <td>...</td>\n",
       "      <td>8.81</td>\n",
       "      <td>0</td>\n",
       "      <td>посёлок Мурино</td>\n",
       "      <td>26757.0</td>\n",
       "      <td>NaN</td>\n",
       "      <td>NaN</td>\n",
       "      <td>NaN</td>\n",
       "      <td>NaN</td>\n",
       "      <td>NaN</td>\n",
       "      <td>189</td>\n",
       "    </tr>\n",
       "    <tr>\n",
       "      <th>9</th>\n",
       "      <td>18</td>\n",
       "      <td>5400000</td>\n",
       "      <td>61.00</td>\n",
       "      <td>2017-02-26</td>\n",
       "      <td>3</td>\n",
       "      <td>2.50</td>\n",
       "      <td>9</td>\n",
       "      <td>43.60</td>\n",
       "      <td>7</td>\n",
       "      <td>False</td>\n",
       "      <td>...</td>\n",
       "      <td>6.50</td>\n",
       "      <td>2</td>\n",
       "      <td>Санкт-Петербург</td>\n",
       "      <td>50898.0</td>\n",
       "      <td>15008.0</td>\n",
       "      <td>0.0</td>\n",
       "      <td>NaN</td>\n",
       "      <td>0.0</td>\n",
       "      <td>NaN</td>\n",
       "      <td>289</td>\n",
       "    </tr>\n",
       "    <tr>\n",
       "      <th>10</th>\n",
       "      <td>5</td>\n",
       "      <td>5050000</td>\n",
       "      <td>39.60</td>\n",
       "      <td>2017-11-16</td>\n",
       "      <td>1</td>\n",
       "      <td>2.67</td>\n",
       "      <td>12</td>\n",
       "      <td>20.30</td>\n",
       "      <td>3</td>\n",
       "      <td>False</td>\n",
       "      <td>...</td>\n",
       "      <td>8.50</td>\n",
       "      <td>0</td>\n",
       "      <td>Санкт-Петербург</td>\n",
       "      <td>38357.0</td>\n",
       "      <td>13878.0</td>\n",
       "      <td>1.0</td>\n",
       "      <td>310.0</td>\n",
       "      <td>2.0</td>\n",
       "      <td>553.0</td>\n",
       "      <td>137</td>\n",
       "    </tr>\n",
       "    <tr>\n",
       "      <th>11</th>\n",
       "      <td>9</td>\n",
       "      <td>3300000</td>\n",
       "      <td>44.00</td>\n",
       "      <td>2018-08-27</td>\n",
       "      <td>2</td>\n",
       "      <td>2.65</td>\n",
       "      <td>5</td>\n",
       "      <td>31.00</td>\n",
       "      <td>4</td>\n",
       "      <td>False</td>\n",
       "      <td>...</td>\n",
       "      <td>6.00</td>\n",
       "      <td>1</td>\n",
       "      <td>Ломоносов</td>\n",
       "      <td>48252.0</td>\n",
       "      <td>51677.0</td>\n",
       "      <td>0.0</td>\n",
       "      <td>NaN</td>\n",
       "      <td>0.0</td>\n",
       "      <td>NaN</td>\n",
       "      <td>7</td>\n",
       "    </tr>\n",
       "    <tr>\n",
       "      <th>12</th>\n",
       "      <td>10</td>\n",
       "      <td>3890000</td>\n",
       "      <td>54.00</td>\n",
       "      <td>2016-06-30</td>\n",
       "      <td>2</td>\n",
       "      <td>2.65</td>\n",
       "      <td>5</td>\n",
       "      <td>30.00</td>\n",
       "      <td>5</td>\n",
       "      <td>False</td>\n",
       "      <td>...</td>\n",
       "      <td>9.00</td>\n",
       "      <td>0</td>\n",
       "      <td>Сертолово</td>\n",
       "      <td>26757.0</td>\n",
       "      <td>NaN</td>\n",
       "      <td>NaN</td>\n",
       "      <td>NaN</td>\n",
       "      <td>NaN</td>\n",
       "      <td>NaN</td>\n",
       "      <td>90</td>\n",
       "    </tr>\n",
       "    <tr>\n",
       "      <th>13</th>\n",
       "      <td>20</td>\n",
       "      <td>3550000</td>\n",
       "      <td>42.80</td>\n",
       "      <td>2017-07-01</td>\n",
       "      <td>2</td>\n",
       "      <td>2.56</td>\n",
       "      <td>5</td>\n",
       "      <td>27.00</td>\n",
       "      <td>5</td>\n",
       "      <td>False</td>\n",
       "      <td>...</td>\n",
       "      <td>5.20</td>\n",
       "      <td>1</td>\n",
       "      <td>Петергоф</td>\n",
       "      <td>37868.0</td>\n",
       "      <td>33058.0</td>\n",
       "      <td>1.0</td>\n",
       "      <td>294.0</td>\n",
       "      <td>3.0</td>\n",
       "      <td>298.0</td>\n",
       "      <td>366</td>\n",
       "    </tr>\n",
       "    <tr>\n",
       "      <th>14</th>\n",
       "      <td>1</td>\n",
       "      <td>4400000</td>\n",
       "      <td>36.00</td>\n",
       "      <td>2016-06-23</td>\n",
       "      <td>1</td>\n",
       "      <td>2.65</td>\n",
       "      <td>6</td>\n",
       "      <td>17.00</td>\n",
       "      <td>1</td>\n",
       "      <td>False</td>\n",
       "      <td>...</td>\n",
       "      <td>8.00</td>\n",
       "      <td>0</td>\n",
       "      <td>Пушкин</td>\n",
       "      <td>20782.0</td>\n",
       "      <td>30759.0</td>\n",
       "      <td>0.0</td>\n",
       "      <td>NaN</td>\n",
       "      <td>1.0</td>\n",
       "      <td>96.0</td>\n",
       "      <td>203</td>\n",
       "    </tr>\n",
       "  </tbody>\n",
       "</table>\n",
       "<p>15 rows × 22 columns</p>\n",
       "</div>"
      ],
      "text/plain": [
       "    total_images  last_price  total_area first_day_exposition  rooms  \\\n",
       "0             20    13000000      108.00           2019-03-07      3   \n",
       "1              7     3350000       40.40           2018-12-04      1   \n",
       "2             10     5196000       56.00           2015-08-20      2   \n",
       "3              0    64900000      159.00           2015-07-24      3   \n",
       "4              2    10000000      100.00           2018-06-19      2   \n",
       "5             10     2890000       30.40           2018-09-10      1   \n",
       "6              6     3700000       37.30           2017-11-02      1   \n",
       "7              5     7915000       71.60           2019-04-18      2   \n",
       "8             20     2900000       33.16           2018-05-23      1   \n",
       "9             18     5400000       61.00           2017-02-26      3   \n",
       "10             5     5050000       39.60           2017-11-16      1   \n",
       "11             9     3300000       44.00           2018-08-27      2   \n",
       "12            10     3890000       54.00           2016-06-30      2   \n",
       "13            20     3550000       42.80           2017-07-01      2   \n",
       "14             1     4400000       36.00           2016-06-23      1   \n",
       "\n",
       "    ceiling_height  floors_total  living_area  floor is_apartment  ...  \\\n",
       "0             2.70            16        51.00      8        False  ...   \n",
       "1             2.65            11        18.60      1        False  ...   \n",
       "2             2.65             5        34.30      4        False  ...   \n",
       "3             2.65            14        30.00      9        False  ...   \n",
       "4             3.03            14        32.00     13        False  ...   \n",
       "5             2.65            12        14.40      5        False  ...   \n",
       "6             2.65            26        10.60      6        False  ...   \n",
       "7             2.65            24        30.00     22        False  ...   \n",
       "8             2.65            27        15.43     26        False  ...   \n",
       "9             2.50             9        43.60      7        False  ...   \n",
       "10            2.67            12        20.30      3        False  ...   \n",
       "11            2.65             5        31.00      4        False  ...   \n",
       "12            2.65             5        30.00      5        False  ...   \n",
       "13            2.56             5        27.00      5        False  ...   \n",
       "14            2.65             6        17.00      1        False  ...   \n",
       "\n",
       "    kitchen_area  balcony              locality_name  airports_nearest  \\\n",
       "0          25.00        0            Санкт-Петербург           18863.0   \n",
       "1          11.00        2             посёлок Шушары           12817.0   \n",
       "2           8.30        0            Санкт-Петербург           21741.0   \n",
       "3           9.10        0            Санкт-Петербург           28098.0   \n",
       "4          41.00        0            Санкт-Петербург           31856.0   \n",
       "5           9.10        0  городской посёлок Янино-1           26757.0   \n",
       "6          14.40        1          посёлок Парголово           52996.0   \n",
       "7          18.90        2            Санкт-Петербург           23982.0   \n",
       "8           8.81        0             посёлок Мурино           26757.0   \n",
       "9           6.50        2            Санкт-Петербург           50898.0   \n",
       "10          8.50        0            Санкт-Петербург           38357.0   \n",
       "11          6.00        1                  Ломоносов           48252.0   \n",
       "12          9.00        0                  Сертолово           26757.0   \n",
       "13          5.20        1                   Петергоф           37868.0   \n",
       "14          8.00        0                     Пушкин           20782.0   \n",
       "\n",
       "   city_centers_nearest  parks_around_3000  parks_nearest  ponds_around_3000  \\\n",
       "0               16028.0                1.0          482.0                2.0   \n",
       "1               18603.0                0.0            NaN                0.0   \n",
       "2               13933.0                1.0           90.0                2.0   \n",
       "3                6800.0                2.0           84.0                3.0   \n",
       "4                8098.0                2.0          112.0                1.0   \n",
       "5                   NaN                NaN            NaN                NaN   \n",
       "6               19143.0                0.0            NaN                0.0   \n",
       "7               11634.0                0.0            NaN                0.0   \n",
       "8                   NaN                NaN            NaN                NaN   \n",
       "9               15008.0                0.0            NaN                0.0   \n",
       "10              13878.0                1.0          310.0                2.0   \n",
       "11              51677.0                0.0            NaN                0.0   \n",
       "12                  NaN                NaN            NaN                NaN   \n",
       "13              33058.0                1.0          294.0                3.0   \n",
       "14              30759.0                0.0            NaN                1.0   \n",
       "\n",
       "    ponds_nearest  days_exposition  \n",
       "0           755.0                0  \n",
       "1             NaN               81  \n",
       "2           574.0              558  \n",
       "3           234.0              424  \n",
       "4            48.0              121  \n",
       "5             NaN               55  \n",
       "6             NaN              155  \n",
       "7             NaN                0  \n",
       "8             NaN              189  \n",
       "9             NaN              289  \n",
       "10          553.0              137  \n",
       "11            NaN                7  \n",
       "12            NaN               90  \n",
       "13          298.0              366  \n",
       "14           96.0              203  \n",
       "\n",
       "[15 rows x 22 columns]"
      ]
     },
     "metadata": {},
     "output_type": "display_data"
    }
   ],
   "source": [
    "data.info()\n",
    "display(data.head(15))"
   ]
  },
  {
   "cell_type": "markdown",
   "metadata": {},
   "source": [
    "В результате предобработки данных удалось получить более пригодные данные для анализа. заполнили большенство пропусков, привели наименование столбцов к единому стилю, привели типы данных в столбцах в соотвествии типом информации хранящемся в данном столбце. "
   ]
  },
  {
   "cell_type": "markdown",
   "metadata": {},
   "source": [
    "## Расчёты и добавление результатов в таблицу"
   ]
  },
  {
   "cell_type": "code",
   "execution_count": 73,
   "metadata": {},
   "outputs": [
    {
     "name": "stdout",
     "output_type": "stream",
     "text": [
      "другой       17326\n",
      "последний     3330\n",
      "первый        2909\n",
      "Name: floor_name, dtype: int64\n"
     ]
    },
    {
     "data": {
      "text/html": [
       "<div>\n",
       "<style scoped>\n",
       "    .dataframe tbody tr th:only-of-type {\n",
       "        vertical-align: middle;\n",
       "    }\n",
       "\n",
       "    .dataframe tbody tr th {\n",
       "        vertical-align: top;\n",
       "    }\n",
       "\n",
       "    .dataframe thead th {\n",
       "        text-align: right;\n",
       "    }\n",
       "</style>\n",
       "<table border=\"1\" class=\"dataframe\">\n",
       "  <thead>\n",
       "    <tr style=\"text-align: right;\">\n",
       "      <th></th>\n",
       "      <th>total_images</th>\n",
       "      <th>last_price</th>\n",
       "      <th>total_area</th>\n",
       "      <th>first_day_exposition</th>\n",
       "      <th>rooms</th>\n",
       "      <th>ceiling_height</th>\n",
       "      <th>floors_total</th>\n",
       "      <th>living_area</th>\n",
       "      <th>floor</th>\n",
       "      <th>is_apartment</th>\n",
       "      <th>...</th>\n",
       "      <th>ponds_around_3000</th>\n",
       "      <th>ponds_nearest</th>\n",
       "      <th>days_exposition</th>\n",
       "      <th>price_per_square_meter</th>\n",
       "      <th>day</th>\n",
       "      <th>month</th>\n",
       "      <th>year</th>\n",
       "      <th>floor_name</th>\n",
       "      <th>living_total</th>\n",
       "      <th>kitchen_total</th>\n",
       "    </tr>\n",
       "  </thead>\n",
       "  <tbody>\n",
       "    <tr>\n",
       "      <th>0</th>\n",
       "      <td>20</td>\n",
       "      <td>13000000</td>\n",
       "      <td>108.00</td>\n",
       "      <td>2019-03-07</td>\n",
       "      <td>3</td>\n",
       "      <td>2.70</td>\n",
       "      <td>16</td>\n",
       "      <td>51.00</td>\n",
       "      <td>8</td>\n",
       "      <td>False</td>\n",
       "      <td>...</td>\n",
       "      <td>2.0</td>\n",
       "      <td>755.0</td>\n",
       "      <td>0</td>\n",
       "      <td>120370</td>\n",
       "      <td>7</td>\n",
       "      <td>3</td>\n",
       "      <td>2019</td>\n",
       "      <td>другой</td>\n",
       "      <td>0.472222</td>\n",
       "      <td>0.231481</td>\n",
       "    </tr>\n",
       "    <tr>\n",
       "      <th>1</th>\n",
       "      <td>7</td>\n",
       "      <td>3350000</td>\n",
       "      <td>40.40</td>\n",
       "      <td>2018-12-04</td>\n",
       "      <td>1</td>\n",
       "      <td>2.65</td>\n",
       "      <td>11</td>\n",
       "      <td>18.60</td>\n",
       "      <td>1</td>\n",
       "      <td>False</td>\n",
       "      <td>...</td>\n",
       "      <td>0.0</td>\n",
       "      <td>NaN</td>\n",
       "      <td>81</td>\n",
       "      <td>82920</td>\n",
       "      <td>4</td>\n",
       "      <td>12</td>\n",
       "      <td>2018</td>\n",
       "      <td>первый</td>\n",
       "      <td>0.460396</td>\n",
       "      <td>0.272277</td>\n",
       "    </tr>\n",
       "    <tr>\n",
       "      <th>2</th>\n",
       "      <td>10</td>\n",
       "      <td>5196000</td>\n",
       "      <td>56.00</td>\n",
       "      <td>2015-08-20</td>\n",
       "      <td>2</td>\n",
       "      <td>2.65</td>\n",
       "      <td>5</td>\n",
       "      <td>34.30</td>\n",
       "      <td>4</td>\n",
       "      <td>False</td>\n",
       "      <td>...</td>\n",
       "      <td>2.0</td>\n",
       "      <td>574.0</td>\n",
       "      <td>558</td>\n",
       "      <td>92785</td>\n",
       "      <td>20</td>\n",
       "      <td>8</td>\n",
       "      <td>2015</td>\n",
       "      <td>другой</td>\n",
       "      <td>0.612500</td>\n",
       "      <td>0.148214</td>\n",
       "    </tr>\n",
       "    <tr>\n",
       "      <th>3</th>\n",
       "      <td>0</td>\n",
       "      <td>64900000</td>\n",
       "      <td>159.00</td>\n",
       "      <td>2015-07-24</td>\n",
       "      <td>3</td>\n",
       "      <td>2.65</td>\n",
       "      <td>14</td>\n",
       "      <td>30.00</td>\n",
       "      <td>9</td>\n",
       "      <td>False</td>\n",
       "      <td>...</td>\n",
       "      <td>3.0</td>\n",
       "      <td>234.0</td>\n",
       "      <td>424</td>\n",
       "      <td>408176</td>\n",
       "      <td>24</td>\n",
       "      <td>7</td>\n",
       "      <td>2015</td>\n",
       "      <td>другой</td>\n",
       "      <td>0.188679</td>\n",
       "      <td>0.057233</td>\n",
       "    </tr>\n",
       "    <tr>\n",
       "      <th>4</th>\n",
       "      <td>2</td>\n",
       "      <td>10000000</td>\n",
       "      <td>100.00</td>\n",
       "      <td>2018-06-19</td>\n",
       "      <td>2</td>\n",
       "      <td>3.03</td>\n",
       "      <td>14</td>\n",
       "      <td>32.00</td>\n",
       "      <td>13</td>\n",
       "      <td>False</td>\n",
       "      <td>...</td>\n",
       "      <td>1.0</td>\n",
       "      <td>48.0</td>\n",
       "      <td>121</td>\n",
       "      <td>100000</td>\n",
       "      <td>19</td>\n",
       "      <td>6</td>\n",
       "      <td>2018</td>\n",
       "      <td>другой</td>\n",
       "      <td>0.320000</td>\n",
       "      <td>0.410000</td>\n",
       "    </tr>\n",
       "    <tr>\n",
       "      <th>5</th>\n",
       "      <td>10</td>\n",
       "      <td>2890000</td>\n",
       "      <td>30.40</td>\n",
       "      <td>2018-09-10</td>\n",
       "      <td>1</td>\n",
       "      <td>2.65</td>\n",
       "      <td>12</td>\n",
       "      <td>14.40</td>\n",
       "      <td>5</td>\n",
       "      <td>False</td>\n",
       "      <td>...</td>\n",
       "      <td>NaN</td>\n",
       "      <td>NaN</td>\n",
       "      <td>55</td>\n",
       "      <td>95065</td>\n",
       "      <td>10</td>\n",
       "      <td>9</td>\n",
       "      <td>2018</td>\n",
       "      <td>другой</td>\n",
       "      <td>0.473684</td>\n",
       "      <td>0.299342</td>\n",
       "    </tr>\n",
       "    <tr>\n",
       "      <th>6</th>\n",
       "      <td>6</td>\n",
       "      <td>3700000</td>\n",
       "      <td>37.30</td>\n",
       "      <td>2017-11-02</td>\n",
       "      <td>1</td>\n",
       "      <td>2.65</td>\n",
       "      <td>26</td>\n",
       "      <td>10.60</td>\n",
       "      <td>6</td>\n",
       "      <td>False</td>\n",
       "      <td>...</td>\n",
       "      <td>0.0</td>\n",
       "      <td>NaN</td>\n",
       "      <td>155</td>\n",
       "      <td>99195</td>\n",
       "      <td>2</td>\n",
       "      <td>11</td>\n",
       "      <td>2017</td>\n",
       "      <td>другой</td>\n",
       "      <td>0.284182</td>\n",
       "      <td>0.386059</td>\n",
       "    </tr>\n",
       "    <tr>\n",
       "      <th>7</th>\n",
       "      <td>5</td>\n",
       "      <td>7915000</td>\n",
       "      <td>71.60</td>\n",
       "      <td>2019-04-18</td>\n",
       "      <td>2</td>\n",
       "      <td>2.65</td>\n",
       "      <td>24</td>\n",
       "      <td>30.00</td>\n",
       "      <td>22</td>\n",
       "      <td>False</td>\n",
       "      <td>...</td>\n",
       "      <td>0.0</td>\n",
       "      <td>NaN</td>\n",
       "      <td>0</td>\n",
       "      <td>110544</td>\n",
       "      <td>18</td>\n",
       "      <td>4</td>\n",
       "      <td>2019</td>\n",
       "      <td>другой</td>\n",
       "      <td>0.418994</td>\n",
       "      <td>0.263966</td>\n",
       "    </tr>\n",
       "    <tr>\n",
       "      <th>8</th>\n",
       "      <td>20</td>\n",
       "      <td>2900000</td>\n",
       "      <td>33.16</td>\n",
       "      <td>2018-05-23</td>\n",
       "      <td>1</td>\n",
       "      <td>2.65</td>\n",
       "      <td>27</td>\n",
       "      <td>15.43</td>\n",
       "      <td>26</td>\n",
       "      <td>False</td>\n",
       "      <td>...</td>\n",
       "      <td>NaN</td>\n",
       "      <td>NaN</td>\n",
       "      <td>189</td>\n",
       "      <td>87454</td>\n",
       "      <td>23</td>\n",
       "      <td>5</td>\n",
       "      <td>2018</td>\n",
       "      <td>другой</td>\n",
       "      <td>0.465320</td>\n",
       "      <td>0.265682</td>\n",
       "    </tr>\n",
       "    <tr>\n",
       "      <th>9</th>\n",
       "      <td>18</td>\n",
       "      <td>5400000</td>\n",
       "      <td>61.00</td>\n",
       "      <td>2017-02-26</td>\n",
       "      <td>3</td>\n",
       "      <td>2.50</td>\n",
       "      <td>9</td>\n",
       "      <td>43.60</td>\n",
       "      <td>7</td>\n",
       "      <td>False</td>\n",
       "      <td>...</td>\n",
       "      <td>0.0</td>\n",
       "      <td>NaN</td>\n",
       "      <td>289</td>\n",
       "      <td>88524</td>\n",
       "      <td>26</td>\n",
       "      <td>2</td>\n",
       "      <td>2017</td>\n",
       "      <td>другой</td>\n",
       "      <td>0.714754</td>\n",
       "      <td>0.106557</td>\n",
       "    </tr>\n",
       "    <tr>\n",
       "      <th>10</th>\n",
       "      <td>5</td>\n",
       "      <td>5050000</td>\n",
       "      <td>39.60</td>\n",
       "      <td>2017-11-16</td>\n",
       "      <td>1</td>\n",
       "      <td>2.67</td>\n",
       "      <td>12</td>\n",
       "      <td>20.30</td>\n",
       "      <td>3</td>\n",
       "      <td>False</td>\n",
       "      <td>...</td>\n",
       "      <td>2.0</td>\n",
       "      <td>553.0</td>\n",
       "      <td>137</td>\n",
       "      <td>127525</td>\n",
       "      <td>16</td>\n",
       "      <td>11</td>\n",
       "      <td>2017</td>\n",
       "      <td>другой</td>\n",
       "      <td>0.512626</td>\n",
       "      <td>0.214646</td>\n",
       "    </tr>\n",
       "    <tr>\n",
       "      <th>11</th>\n",
       "      <td>9</td>\n",
       "      <td>3300000</td>\n",
       "      <td>44.00</td>\n",
       "      <td>2018-08-27</td>\n",
       "      <td>2</td>\n",
       "      <td>2.65</td>\n",
       "      <td>5</td>\n",
       "      <td>31.00</td>\n",
       "      <td>4</td>\n",
       "      <td>False</td>\n",
       "      <td>...</td>\n",
       "      <td>0.0</td>\n",
       "      <td>NaN</td>\n",
       "      <td>7</td>\n",
       "      <td>75000</td>\n",
       "      <td>27</td>\n",
       "      <td>8</td>\n",
       "      <td>2018</td>\n",
       "      <td>другой</td>\n",
       "      <td>0.704545</td>\n",
       "      <td>0.136364</td>\n",
       "    </tr>\n",
       "    <tr>\n",
       "      <th>12</th>\n",
       "      <td>10</td>\n",
       "      <td>3890000</td>\n",
       "      <td>54.00</td>\n",
       "      <td>2016-06-30</td>\n",
       "      <td>2</td>\n",
       "      <td>2.65</td>\n",
       "      <td>5</td>\n",
       "      <td>30.00</td>\n",
       "      <td>5</td>\n",
       "      <td>False</td>\n",
       "      <td>...</td>\n",
       "      <td>NaN</td>\n",
       "      <td>NaN</td>\n",
       "      <td>90</td>\n",
       "      <td>72037</td>\n",
       "      <td>30</td>\n",
       "      <td>6</td>\n",
       "      <td>2016</td>\n",
       "      <td>последний</td>\n",
       "      <td>0.555556</td>\n",
       "      <td>0.166667</td>\n",
       "    </tr>\n",
       "    <tr>\n",
       "      <th>13</th>\n",
       "      <td>20</td>\n",
       "      <td>3550000</td>\n",
       "      <td>42.80</td>\n",
       "      <td>2017-07-01</td>\n",
       "      <td>2</td>\n",
       "      <td>2.56</td>\n",
       "      <td>5</td>\n",
       "      <td>27.00</td>\n",
       "      <td>5</td>\n",
       "      <td>False</td>\n",
       "      <td>...</td>\n",
       "      <td>3.0</td>\n",
       "      <td>298.0</td>\n",
       "      <td>366</td>\n",
       "      <td>82943</td>\n",
       "      <td>1</td>\n",
       "      <td>7</td>\n",
       "      <td>2017</td>\n",
       "      <td>последний</td>\n",
       "      <td>0.630841</td>\n",
       "      <td>0.121495</td>\n",
       "    </tr>\n",
       "    <tr>\n",
       "      <th>14</th>\n",
       "      <td>1</td>\n",
       "      <td>4400000</td>\n",
       "      <td>36.00</td>\n",
       "      <td>2016-06-23</td>\n",
       "      <td>1</td>\n",
       "      <td>2.65</td>\n",
       "      <td>6</td>\n",
       "      <td>17.00</td>\n",
       "      <td>1</td>\n",
       "      <td>False</td>\n",
       "      <td>...</td>\n",
       "      <td>1.0</td>\n",
       "      <td>96.0</td>\n",
       "      <td>203</td>\n",
       "      <td>122222</td>\n",
       "      <td>23</td>\n",
       "      <td>6</td>\n",
       "      <td>2016</td>\n",
       "      <td>первый</td>\n",
       "      <td>0.472222</td>\n",
       "      <td>0.222222</td>\n",
       "    </tr>\n",
       "    <tr>\n",
       "      <th>15</th>\n",
       "      <td>16</td>\n",
       "      <td>4650000</td>\n",
       "      <td>39.00</td>\n",
       "      <td>2017-11-18</td>\n",
       "      <td>1</td>\n",
       "      <td>2.65</td>\n",
       "      <td>14</td>\n",
       "      <td>20.50</td>\n",
       "      <td>5</td>\n",
       "      <td>False</td>\n",
       "      <td>...</td>\n",
       "      <td>1.0</td>\n",
       "      <td>296.0</td>\n",
       "      <td>19</td>\n",
       "      <td>119230</td>\n",
       "      <td>18</td>\n",
       "      <td>11</td>\n",
       "      <td>2017</td>\n",
       "      <td>другой</td>\n",
       "      <td>0.525641</td>\n",
       "      <td>0.194872</td>\n",
       "    </tr>\n",
       "    <tr>\n",
       "      <th>16</th>\n",
       "      <td>11</td>\n",
       "      <td>6700000</td>\n",
       "      <td>82.00</td>\n",
       "      <td>2017-11-23</td>\n",
       "      <td>3</td>\n",
       "      <td>3.05</td>\n",
       "      <td>5</td>\n",
       "      <td>55.60</td>\n",
       "      <td>1</td>\n",
       "      <td>False</td>\n",
       "      <td>...</td>\n",
       "      <td>0.0</td>\n",
       "      <td>NaN</td>\n",
       "      <td>397</td>\n",
       "      <td>81707</td>\n",
       "      <td>23</td>\n",
       "      <td>11</td>\n",
       "      <td>2017</td>\n",
       "      <td>первый</td>\n",
       "      <td>0.678049</td>\n",
       "      <td>0.109756</td>\n",
       "    </tr>\n",
       "    <tr>\n",
       "      <th>17</th>\n",
       "      <td>6</td>\n",
       "      <td>4180000</td>\n",
       "      <td>36.00</td>\n",
       "      <td>2016-09-09</td>\n",
       "      <td>1</td>\n",
       "      <td>2.65</td>\n",
       "      <td>17</td>\n",
       "      <td>16.50</td>\n",
       "      <td>7</td>\n",
       "      <td>False</td>\n",
       "      <td>...</td>\n",
       "      <td>1.0</td>\n",
       "      <td>859.0</td>\n",
       "      <td>571</td>\n",
       "      <td>116111</td>\n",
       "      <td>9</td>\n",
       "      <td>9</td>\n",
       "      <td>2016</td>\n",
       "      <td>другой</td>\n",
       "      <td>0.458333</td>\n",
       "      <td>0.305556</td>\n",
       "    </tr>\n",
       "    <tr>\n",
       "      <th>18</th>\n",
       "      <td>8</td>\n",
       "      <td>3250000</td>\n",
       "      <td>31.00</td>\n",
       "      <td>2017-01-27</td>\n",
       "      <td>1</td>\n",
       "      <td>2.50</td>\n",
       "      <td>5</td>\n",
       "      <td>19.40</td>\n",
       "      <td>2</td>\n",
       "      <td>False</td>\n",
       "      <td>...</td>\n",
       "      <td>0.0</td>\n",
       "      <td>NaN</td>\n",
       "      <td>168</td>\n",
       "      <td>104838</td>\n",
       "      <td>27</td>\n",
       "      <td>1</td>\n",
       "      <td>2017</td>\n",
       "      <td>другой</td>\n",
       "      <td>0.625806</td>\n",
       "      <td>0.180645</td>\n",
       "    </tr>\n",
       "    <tr>\n",
       "      <th>19</th>\n",
       "      <td>16</td>\n",
       "      <td>14200000</td>\n",
       "      <td>121.00</td>\n",
       "      <td>2019-01-09</td>\n",
       "      <td>3</td>\n",
       "      <td>2.75</td>\n",
       "      <td>16</td>\n",
       "      <td>76.00</td>\n",
       "      <td>8</td>\n",
       "      <td>False</td>\n",
       "      <td>...</td>\n",
       "      <td>0.0</td>\n",
       "      <td>NaN</td>\n",
       "      <td>97</td>\n",
       "      <td>117355</td>\n",
       "      <td>9</td>\n",
       "      <td>1</td>\n",
       "      <td>2019</td>\n",
       "      <td>другой</td>\n",
       "      <td>0.628099</td>\n",
       "      <td>0.099174</td>\n",
       "    </tr>\n",
       "  </tbody>\n",
       "</table>\n",
       "<p>20 rows × 29 columns</p>\n",
       "</div>"
      ],
      "text/plain": [
       "    total_images  last_price  total_area first_day_exposition  rooms  \\\n",
       "0             20    13000000      108.00           2019-03-07      3   \n",
       "1              7     3350000       40.40           2018-12-04      1   \n",
       "2             10     5196000       56.00           2015-08-20      2   \n",
       "3              0    64900000      159.00           2015-07-24      3   \n",
       "4              2    10000000      100.00           2018-06-19      2   \n",
       "5             10     2890000       30.40           2018-09-10      1   \n",
       "6              6     3700000       37.30           2017-11-02      1   \n",
       "7              5     7915000       71.60           2019-04-18      2   \n",
       "8             20     2900000       33.16           2018-05-23      1   \n",
       "9             18     5400000       61.00           2017-02-26      3   \n",
       "10             5     5050000       39.60           2017-11-16      1   \n",
       "11             9     3300000       44.00           2018-08-27      2   \n",
       "12            10     3890000       54.00           2016-06-30      2   \n",
       "13            20     3550000       42.80           2017-07-01      2   \n",
       "14             1     4400000       36.00           2016-06-23      1   \n",
       "15            16     4650000       39.00           2017-11-18      1   \n",
       "16            11     6700000       82.00           2017-11-23      3   \n",
       "17             6     4180000       36.00           2016-09-09      1   \n",
       "18             8     3250000       31.00           2017-01-27      1   \n",
       "19            16    14200000      121.00           2019-01-09      3   \n",
       "\n",
       "    ceiling_height  floors_total  living_area  floor is_apartment  ...  \\\n",
       "0             2.70            16        51.00      8        False  ...   \n",
       "1             2.65            11        18.60      1        False  ...   \n",
       "2             2.65             5        34.30      4        False  ...   \n",
       "3             2.65            14        30.00      9        False  ...   \n",
       "4             3.03            14        32.00     13        False  ...   \n",
       "5             2.65            12        14.40      5        False  ...   \n",
       "6             2.65            26        10.60      6        False  ...   \n",
       "7             2.65            24        30.00     22        False  ...   \n",
       "8             2.65            27        15.43     26        False  ...   \n",
       "9             2.50             9        43.60      7        False  ...   \n",
       "10            2.67            12        20.30      3        False  ...   \n",
       "11            2.65             5        31.00      4        False  ...   \n",
       "12            2.65             5        30.00      5        False  ...   \n",
       "13            2.56             5        27.00      5        False  ...   \n",
       "14            2.65             6        17.00      1        False  ...   \n",
       "15            2.65            14        20.50      5        False  ...   \n",
       "16            3.05             5        55.60      1        False  ...   \n",
       "17            2.65            17        16.50      7        False  ...   \n",
       "18            2.50             5        19.40      2        False  ...   \n",
       "19            2.75            16        76.00      8        False  ...   \n",
       "\n",
       "    ponds_around_3000  ponds_nearest  days_exposition  price_per_square_meter  \\\n",
       "0                 2.0          755.0                0                  120370   \n",
       "1                 0.0            NaN               81                   82920   \n",
       "2                 2.0          574.0              558                   92785   \n",
       "3                 3.0          234.0              424                  408176   \n",
       "4                 1.0           48.0              121                  100000   \n",
       "5                 NaN            NaN               55                   95065   \n",
       "6                 0.0            NaN              155                   99195   \n",
       "7                 0.0            NaN                0                  110544   \n",
       "8                 NaN            NaN              189                   87454   \n",
       "9                 0.0            NaN              289                   88524   \n",
       "10                2.0          553.0              137                  127525   \n",
       "11                0.0            NaN                7                   75000   \n",
       "12                NaN            NaN               90                   72037   \n",
       "13                3.0          298.0              366                   82943   \n",
       "14                1.0           96.0              203                  122222   \n",
       "15                1.0          296.0               19                  119230   \n",
       "16                0.0            NaN              397                   81707   \n",
       "17                1.0          859.0              571                  116111   \n",
       "18                0.0            NaN              168                  104838   \n",
       "19                0.0            NaN               97                  117355   \n",
       "\n",
       "   day  month  year  floor_name  living_total  kitchen_total  \n",
       "0    7      3  2019      другой      0.472222       0.231481  \n",
       "1    4     12  2018      первый      0.460396       0.272277  \n",
       "2   20      8  2015      другой      0.612500       0.148214  \n",
       "3   24      7  2015      другой      0.188679       0.057233  \n",
       "4   19      6  2018      другой      0.320000       0.410000  \n",
       "5   10      9  2018      другой      0.473684       0.299342  \n",
       "6    2     11  2017      другой      0.284182       0.386059  \n",
       "7   18      4  2019      другой      0.418994       0.263966  \n",
       "8   23      5  2018      другой      0.465320       0.265682  \n",
       "9   26      2  2017      другой      0.714754       0.106557  \n",
       "10  16     11  2017      другой      0.512626       0.214646  \n",
       "11  27      8  2018      другой      0.704545       0.136364  \n",
       "12  30      6  2016   последний      0.555556       0.166667  \n",
       "13   1      7  2017   последний      0.630841       0.121495  \n",
       "14  23      6  2016      первый      0.472222       0.222222  \n",
       "15  18     11  2017      другой      0.525641       0.194872  \n",
       "16  23     11  2017      первый      0.678049       0.109756  \n",
       "17   9      9  2016      другой      0.458333       0.305556  \n",
       "18  27      1  2017      другой      0.625806       0.180645  \n",
       "19   9      1  2019      другой      0.628099       0.099174  \n",
       "\n",
       "[20 rows x 29 columns]"
      ]
     },
     "metadata": {},
     "output_type": "display_data"
    }
   ],
   "source": [
    "data['price_per_square_meter'] = data['last_price'] / data['total_area']\n",
    "data['price_per_square_meter'] = data['price_per_square_meter'].astype('int')\n",
    "data['day'] = data['first_day_exposition'].dt.day\n",
    "data['month'] = data['first_day_exposition'].dt.month\n",
    "data['year'] = data['first_day_exposition'].dt.year\n",
    "\n",
    "def floor_name(row):\n",
    "    floors_total = row['floors_total']\n",
    "    floor = row['floor']\n",
    "    if floor == 1:\n",
    "        return 'первый'\n",
    "    elif floor == floors_total:\n",
    "        return 'последний'\n",
    "    elif 1 < floor < floors_total:\n",
    "        return 'другой'\n",
    "    \n",
    "data['floor_name'] = data.apply(floor_name, axis = 1)\n",
    "print(data['floor_name'].value_counts())\n",
    "\n",
    "data['living_total'] = data['living_area'] / data['total_area']\n",
    "\n",
    "data['kitchen_total'] = data['kitchen_area'] / data['total_area']\n",
    "\n",
    "display(data.head(20))\n"
   ]
  },
  {
   "cell_type": "markdown",
   "metadata": {},
   "source": [
    "## Исследовательский анализ данных"
   ]
  },
  {
   "cell_type": "code",
   "execution_count": 74,
   "metadata": {},
   "outputs": [
    {
     "data": {
      "text/html": [
       "<div>\n",
       "<style scoped>\n",
       "    .dataframe tbody tr th:only-of-type {\n",
       "        vertical-align: middle;\n",
       "    }\n",
       "\n",
       "    .dataframe tbody tr th {\n",
       "        vertical-align: top;\n",
       "    }\n",
       "\n",
       "    .dataframe thead th {\n",
       "        text-align: right;\n",
       "    }\n",
       "</style>\n",
       "<table border=\"1\" class=\"dataframe\">\n",
       "  <thead>\n",
       "    <tr style=\"text-align: right;\">\n",
       "      <th></th>\n",
       "      <th>total_area</th>\n",
       "      <th>last_price</th>\n",
       "      <th>rooms</th>\n",
       "      <th>ceiling_height</th>\n",
       "    </tr>\n",
       "  </thead>\n",
       "  <tbody>\n",
       "    <tr>\n",
       "      <th>count</th>\n",
       "      <td>23565.000000</td>\n",
       "      <td>2.356500e+04</td>\n",
       "      <td>23565.000000</td>\n",
       "      <td>23565.000000</td>\n",
       "    </tr>\n",
       "    <tr>\n",
       "      <th>mean</th>\n",
       "      <td>60.322824</td>\n",
       "      <td>6.540058e+06</td>\n",
       "      <td>2.070656</td>\n",
       "      <td>2.724530</td>\n",
       "    </tr>\n",
       "    <tr>\n",
       "      <th>std</th>\n",
       "      <td>35.657060</td>\n",
       "      <td>1.091093e+07</td>\n",
       "      <td>1.078591</td>\n",
       "      <td>0.991026</td>\n",
       "    </tr>\n",
       "    <tr>\n",
       "      <th>min</th>\n",
       "      <td>12.000000</td>\n",
       "      <td>1.219000e+04</td>\n",
       "      <td>0.000000</td>\n",
       "      <td>1.000000</td>\n",
       "    </tr>\n",
       "    <tr>\n",
       "      <th>25%</th>\n",
       "      <td>40.000000</td>\n",
       "      <td>3.400000e+06</td>\n",
       "      <td>1.000000</td>\n",
       "      <td>2.600000</td>\n",
       "    </tr>\n",
       "    <tr>\n",
       "      <th>50%</th>\n",
       "      <td>52.000000</td>\n",
       "      <td>4.646000e+06</td>\n",
       "      <td>2.000000</td>\n",
       "      <td>2.650000</td>\n",
       "    </tr>\n",
       "    <tr>\n",
       "      <th>75%</th>\n",
       "      <td>69.700000</td>\n",
       "      <td>6.790000e+06</td>\n",
       "      <td>3.000000</td>\n",
       "      <td>2.700000</td>\n",
       "    </tr>\n",
       "    <tr>\n",
       "      <th>max</th>\n",
       "      <td>900.000000</td>\n",
       "      <td>7.630000e+08</td>\n",
       "      <td>19.000000</td>\n",
       "      <td>100.000000</td>\n",
       "    </tr>\n",
       "  </tbody>\n",
       "</table>\n",
       "</div>"
      ],
      "text/plain": [
       "         total_area    last_price         rooms  ceiling_height\n",
       "count  23565.000000  2.356500e+04  23565.000000    23565.000000\n",
       "mean      60.322824  6.540058e+06      2.070656        2.724530\n",
       "std       35.657060  1.091093e+07      1.078591        0.991026\n",
       "min       12.000000  1.219000e+04      0.000000        1.000000\n",
       "25%       40.000000  3.400000e+06      1.000000        2.600000\n",
       "50%       52.000000  4.646000e+06      2.000000        2.650000\n",
       "75%       69.700000  6.790000e+06      3.000000        2.700000\n",
       "max      900.000000  7.630000e+08     19.000000      100.000000"
      ]
     },
     "execution_count": 74,
     "metadata": {},
     "output_type": "execute_result"
    }
   ],
   "source": [
    "data[['total_area', 'last_price', 'rooms', 'ceiling_height']].describe()"
   ]
  },
  {
   "cell_type": "code",
   "execution_count": 75,
   "metadata": {},
   "outputs": [
    {
     "data": {
      "text/plain": [
       "<AxesSubplot:>"
      ]
     },
     "execution_count": 75,
     "metadata": {},
     "output_type": "execute_result"
    },
    {
     "data": {
      "image/png": "[encoded data removed]",
      "text/plain": [
       "<Figure size 432x288 with 1 Axes>"
      ]
     },
     "metadata": {
      "needs_background": "light"
     },
     "output_type": "display_data"
    }
   ],
   "source": [
    "data['total_area'].hist(bins=100, range=(0, 150))"
   ]
  },
  {
   "cell_type": "code",
   "execution_count": 76,
   "metadata": {},
   "outputs": [
    {
     "data": {
      "text/plain": [
       "<AxesSubplot:xlabel='total_area'>"
      ]
     },
     "execution_count": 76,
     "metadata": {},
     "output_type": "execute_result"
    },
    {
     "data": {
      "image/png": "[encoded data removed]",
      "text/plain": [
       "<Figure size 432x288 with 1 Axes>"
      ]
     },
     "metadata": {
      "needs_background": "light"
     },
     "output_type": "display_data"
    }
   ],
   "source": [
    "plt.xlim(0, 150)\n",
    "sns.boxplot(data['total_area'])"
   ]
  },
  {
   "cell_type": "code",
   "execution_count": 77,
   "metadata": {},
   "outputs": [
    {
     "data": {
      "text/plain": [
       "<AxesSubplot:>"
      ]
     },
     "execution_count": 77,
     "metadata": {},
     "output_type": "execute_result"
    },
    {
     "data": {
      "image/png": "[encoded data removed]",
      "text/plain": [
       "<Figure size 432x288 with 1 Axes>"
      ]
     },
     "metadata": {
      "needs_background": "light"
     },
     "output_type": "display_data"
    }
   ],
   "source": [
    "data['last_price'].hist(bins=500, range=(0, 15000000))"
   ]
  },
  {
   "cell_type": "code",
   "execution_count": 78,
   "metadata": {},
   "outputs": [
    {
     "data": {
      "text/plain": [
       "<AxesSubplot:xlabel='last_price'>"
      ]
     },
     "execution_count": 78,
     "metadata": {},
     "output_type": "execute_result"
    },
    {
     "data": {
      "image/png": "[encoded data removed]",
      "text/plain": [
       "<Figure size 432x288 with 1 Axes>"
      ]
     },
     "metadata": {
      "needs_background": "light"
     },
     "output_type": "display_data"
    }
   ],
   "source": [
    "plt.xlim(0, 15000000)\n",
    "sns.boxplot(data['last_price'])"
   ]
  },
  {
   "cell_type": "code",
   "execution_count": 79,
   "metadata": {},
   "outputs": [
    {
     "data": {
      "text/plain": [
       "<AxesSubplot:>"
      ]
     },
     "execution_count": 79,
     "metadata": {},
     "output_type": "execute_result"
    },
    {
     "data": {
      "image/png": "[encoded data removed]",
      "text/plain": [
       "<Figure size 432x288 with 1 Axes>"
      ]
     },
     "metadata": {
      "needs_background": "light"
     },
     "output_type": "display_data"
    }
   ],
   "source": [
    "data['rooms'].hist(range=(0, 10), bins=100)"
   ]
  },
  {
   "cell_type": "code",
   "execution_count": 80,
   "metadata": {},
   "outputs": [
    {
     "data": {
      "text/plain": [
       "<AxesSubplot:xlabel='rooms'>"
      ]
     },
     "execution_count": 80,
     "metadata": {},
     "output_type": "execute_result"
    },
    {
     "data": {
      "image/png": "[encoded data removed]",
      "text/plain": [
       "<Figure size 432x288 with 1 Axes>"
      ]
     },
     "metadata": {
      "needs_background": "light"
     },
     "output_type": "display_data"
    }
   ],
   "source": [
    "plt.xlim(0, 10)\n",
    "sns.boxplot(data['rooms'])"
   ]
  },
  {
   "cell_type": "code",
   "execution_count": 81,
   "metadata": {},
   "outputs": [
    {
     "data": {
      "text/plain": [
       "<AxesSubplot:>"
      ]
     },
     "execution_count": 81,
     "metadata": {},
     "output_type": "execute_result"
    },
    {
     "data": {
      "image/png": "[encoded data removed]",
      "text/plain": [
       "<Figure size 432x288 with 1 Axes>"
      ]
     },
     "metadata": {
      "needs_background": "light"
     },
     "output_type": "display_data"
    }
   ],
   "source": [
    "data['ceiling_height'].hist(bins=100, range=(1, 4))"
   ]
  },
  {
   "cell_type": "code",
   "execution_count": 82,
   "metadata": {},
   "outputs": [
    {
     "data": {
      "text/plain": [
       "<AxesSubplot:xlabel='rooms'>"
      ]
     },
     "execution_count": 82,
     "metadata": {},
     "output_type": "execute_result"
    },
    {
     "data": {
      "image/png": "[encoded data removed]",
      "text/plain": [
       "<Figure size 432x288 with 1 Axes>"
      ]
     },
     "metadata": {
      "needs_background": "light"
     },
     "output_type": "display_data"
    }
   ],
   "source": [
    "plt.xlim(1, 4)\n",
    "sns.boxplot(data['rooms'])"
   ]
  },
  {
   "cell_type": "markdown",
   "metadata": {},
   "source": [
    "На основании предоставленных данных можно сделать вывод по характеристикам средней квартиры предоставленной на рынке - это 2-х комнатнатная квартира, средней площадью 52 квадратных метра, с высотой потолком 2,65 метра и средней стоимостью 4,8 миллиона рублей"
   ]
  },
  {
   "cell_type": "code",
   "execution_count": 83,
   "metadata": {},
   "outputs": [
    {
     "data": {
      "text/html": [
       "<div>\n",
       "<style scoped>\n",
       "    .dataframe tbody tr th:only-of-type {\n",
       "        vertical-align: middle;\n",
       "    }\n",
       "\n",
       "    .dataframe tbody tr th {\n",
       "        vertical-align: top;\n",
       "    }\n",
       "\n",
       "    .dataframe thead th {\n",
       "        text-align: right;\n",
       "    }\n",
       "</style>\n",
       "<table border=\"1\" class=\"dataframe\">\n",
       "  <thead>\n",
       "    <tr style=\"text-align: right;\">\n",
       "      <th></th>\n",
       "      <th>days_exposition</th>\n",
       "    </tr>\n",
       "  </thead>\n",
       "  <tbody>\n",
       "    <tr>\n",
       "      <th>count</th>\n",
       "      <td>23565.000000</td>\n",
       "    </tr>\n",
       "    <tr>\n",
       "      <th>mean</th>\n",
       "      <td>156.420115</td>\n",
       "    </tr>\n",
       "    <tr>\n",
       "      <th>std</th>\n",
       "      <td>213.517293</td>\n",
       "    </tr>\n",
       "    <tr>\n",
       "      <th>min</th>\n",
       "      <td>0.000000</td>\n",
       "    </tr>\n",
       "    <tr>\n",
       "      <th>25%</th>\n",
       "      <td>22.000000</td>\n",
       "    </tr>\n",
       "    <tr>\n",
       "      <th>50%</th>\n",
       "      <td>73.000000</td>\n",
       "    </tr>\n",
       "    <tr>\n",
       "      <th>75%</th>\n",
       "      <td>198.000000</td>\n",
       "    </tr>\n",
       "    <tr>\n",
       "      <th>max</th>\n",
       "      <td>1580.000000</td>\n",
       "    </tr>\n",
       "  </tbody>\n",
       "</table>\n",
       "</div>"
      ],
      "text/plain": [
       "       days_exposition\n",
       "count     23565.000000\n",
       "mean        156.420115\n",
       "std         213.517293\n",
       "min           0.000000\n",
       "25%          22.000000\n",
       "50%          73.000000\n",
       "75%         198.000000\n",
       "max        1580.000000"
      ]
     },
     "execution_count": 83,
     "metadata": {},
     "output_type": "execute_result"
    }
   ],
   "source": [
    "data[['days_exposition']].describe()"
   ]
  },
  {
   "cell_type": "code",
   "execution_count": 84,
   "metadata": {},
   "outputs": [
    {
     "name": "stdout",
     "output_type": "stream",
     "text": [
      "73.0\n",
      "156.42011457670273\n"
     ]
    }
   ],
   "source": [
    "print(data['days_exposition'].median())\n",
    "print(data['days_exposition'].mean())"
   ]
  },
  {
   "cell_type": "code",
   "execution_count": 85,
   "metadata": {},
   "outputs": [
    {
     "data": {
      "text/plain": [
       "array([[<AxesSubplot:title={'center':'days_exposition'}>]], dtype=object)"
      ]
     },
     "execution_count": 85,
     "metadata": {},
     "output_type": "execute_result"
    },
    {
     "data": {
      "image/png": "[encoded data removed]",
      "text/plain": [
       "<Figure size 432x288 with 1 Axes>"
      ]
     },
     "metadata": {
      "needs_background": "light"
     },
     "output_type": "display_data"
    }
   ],
   "source": [
    "data[['days_exposition']].hist(bins=100, range=(0, 200))"
   ]
  },
  {
   "cell_type": "code",
   "execution_count": 86,
   "metadata": {},
   "outputs": [
    {
     "data": {
      "text/plain": [
       "<AxesSubplot:xlabel='days_exposition'>"
      ]
     },
     "execution_count": 86,
     "metadata": {},
     "output_type": "execute_result"
    },
    {
     "data": {
      "image/png": "[encoded data removed]",
      "text/plain": [
       "<Figure size 432x288 with 1 Axes>"
      ]
     },
     "metadata": {
      "needs_background": "light"
     },
     "output_type": "display_data"
    }
   ],
   "source": [
    "plt.xlim(0, 500)\n",
    "sns.boxplot(data['days_exposition'])"
   ]
  },
  {
   "cell_type": "markdown",
   "metadata": {},
   "source": [
    "Проанализаровав данные о количестве дней размещения объявления можно сделать вывод: долгими продажами можно назвать объявления которые были опубликованы более 12 меясцев, возможно цена данных объектов недвижимости является завышенной, либо данные объекты недвижимости не ликвидны на рынке. Короткий срок размещения объявления менее 30 дней может говорить либо о значительной снижении стоимости объекта, в связи со срочной продажей, либо о возможной мошеннической схеме - можно наблюдать аномальное колличесво объявлений снятых с публикации через считанные дни."
   ]
  },
  {
   "cell_type": "code",
   "execution_count": 87,
   "metadata": {},
   "outputs": [
    {
     "data": {
      "text/html": [
       "<div>\n",
       "<style scoped>\n",
       "    .dataframe tbody tr th:only-of-type {\n",
       "        vertical-align: middle;\n",
       "    }\n",
       "\n",
       "    .dataframe tbody tr th {\n",
       "        vertical-align: top;\n",
       "    }\n",
       "\n",
       "    .dataframe thead th {\n",
       "        text-align: right;\n",
       "    }\n",
       "</style>\n",
       "<table border=\"1\" class=\"dataframe\">\n",
       "  <thead>\n",
       "    <tr style=\"text-align: right;\">\n",
       "      <th></th>\n",
       "      <th>total_area</th>\n",
       "      <th>last_price</th>\n",
       "      <th>rooms</th>\n",
       "      <th>ceiling_height</th>\n",
       "      <th>days_exposition</th>\n",
       "    </tr>\n",
       "  </thead>\n",
       "  <tbody>\n",
       "    <tr>\n",
       "      <th>count</th>\n",
       "      <td>23565.000000</td>\n",
       "      <td>2.356500e+04</td>\n",
       "      <td>23565.000000</td>\n",
       "      <td>23565.000000</td>\n",
       "      <td>23565.000000</td>\n",
       "    </tr>\n",
       "    <tr>\n",
       "      <th>mean</th>\n",
       "      <td>60.322824</td>\n",
       "      <td>6.540058e+06</td>\n",
       "      <td>2.070656</td>\n",
       "      <td>2.724530</td>\n",
       "      <td>156.420115</td>\n",
       "    </tr>\n",
       "    <tr>\n",
       "      <th>std</th>\n",
       "      <td>35.657060</td>\n",
       "      <td>1.091093e+07</td>\n",
       "      <td>1.078591</td>\n",
       "      <td>0.991026</td>\n",
       "      <td>213.517293</td>\n",
       "    </tr>\n",
       "    <tr>\n",
       "      <th>min</th>\n",
       "      <td>12.000000</td>\n",
       "      <td>1.219000e+04</td>\n",
       "      <td>0.000000</td>\n",
       "      <td>1.000000</td>\n",
       "      <td>0.000000</td>\n",
       "    </tr>\n",
       "    <tr>\n",
       "      <th>25%</th>\n",
       "      <td>40.000000</td>\n",
       "      <td>3.400000e+06</td>\n",
       "      <td>1.000000</td>\n",
       "      <td>2.600000</td>\n",
       "      <td>22.000000</td>\n",
       "    </tr>\n",
       "    <tr>\n",
       "      <th>50%</th>\n",
       "      <td>52.000000</td>\n",
       "      <td>4.646000e+06</td>\n",
       "      <td>2.000000</td>\n",
       "      <td>2.650000</td>\n",
       "      <td>73.000000</td>\n",
       "    </tr>\n",
       "    <tr>\n",
       "      <th>75%</th>\n",
       "      <td>69.700000</td>\n",
       "      <td>6.790000e+06</td>\n",
       "      <td>3.000000</td>\n",
       "      <td>2.700000</td>\n",
       "      <td>198.000000</td>\n",
       "    </tr>\n",
       "    <tr>\n",
       "      <th>max</th>\n",
       "      <td>900.000000</td>\n",
       "      <td>7.630000e+08</td>\n",
       "      <td>19.000000</td>\n",
       "      <td>100.000000</td>\n",
       "      <td>1580.000000</td>\n",
       "    </tr>\n",
       "  </tbody>\n",
       "</table>\n",
       "</div>"
      ],
      "text/plain": [
       "         total_area    last_price         rooms  ceiling_height  \\\n",
       "count  23565.000000  2.356500e+04  23565.000000    23565.000000   \n",
       "mean      60.322824  6.540058e+06      2.070656        2.724530   \n",
       "std       35.657060  1.091093e+07      1.078591        0.991026   \n",
       "min       12.000000  1.219000e+04      0.000000        1.000000   \n",
       "25%       40.000000  3.400000e+06      1.000000        2.600000   \n",
       "50%       52.000000  4.646000e+06      2.000000        2.650000   \n",
       "75%       69.700000  6.790000e+06      3.000000        2.700000   \n",
       "max      900.000000  7.630000e+08     19.000000      100.000000   \n",
       "\n",
       "       days_exposition  \n",
       "count     23565.000000  \n",
       "mean        156.420115  \n",
       "std         213.517293  \n",
       "min           0.000000  \n",
       "25%          22.000000  \n",
       "50%          73.000000  \n",
       "75%         198.000000  \n",
       "max        1580.000000  "
      ]
     },
     "execution_count": 87,
     "metadata": {},
     "output_type": "execute_result"
    }
   ],
   "source": [
    "data[['total_area', 'last_price', 'rooms', 'ceiling_height', 'days_exposition']].describe()"
   ]
  },
  {
   "cell_type": "markdown",
   "metadata": {},
   "source": [
    "Выявление аномалий в данных"
   ]
  },
  {
   "cell_type": "code",
   "execution_count": 88,
   "metadata": {},
   "outputs": [],
   "source": [
    "def emissions(column):\n",
    "    statistics = data[column].describe()\n",
    "    scope = statistics[6] - statistics[4]\n",
    "        \n",
    "    left_mustache = round(statistics[4] - 1.5 * scope, 2)\n",
    "    right_mustache = round(statistics[6] + 1.5 * scope, 2)\n",
    "    if left_mustache < statistics[3]: left_mustache = statistics[3] \n",
    "    if right_mustache > statistics[7]: right_mustache = statistics[7]\n",
    "    return [left_mustache, right_mustache]"
   ]
  },
  {
   "cell_type": "code",
   "execution_count": 89,
   "metadata": {
    "scrolled": true
   },
   "outputs": [
    {
     "data": {
      "text/plain": [
       "[12.0, 114.25]"
      ]
     },
     "execution_count": 89,
     "metadata": {},
     "output_type": "execute_result"
    }
   ],
   "source": [
    "emissions('total_area')"
   ]
  },
  {
   "cell_type": "code",
   "execution_count": 90,
   "metadata": {},
   "outputs": [
    {
     "data": {
      "text/plain": [
       "[12190.0, 11875000.0]"
      ]
     },
     "execution_count": 90,
     "metadata": {},
     "output_type": "execute_result"
    }
   ],
   "source": [
    "emissions('last_price')"
   ]
  },
  {
   "cell_type": "code",
   "execution_count": 91,
   "metadata": {},
   "outputs": [
    {
     "data": {
      "text/plain": [
       "[0.0, 6.0]"
      ]
     },
     "execution_count": 91,
     "metadata": {},
     "output_type": "execute_result"
    }
   ],
   "source": [
    "emissions('rooms')"
   ]
  },
  {
   "cell_type": "code",
   "execution_count": 92,
   "metadata": {},
   "outputs": [
    {
     "data": {
      "text/plain": [
       "[2.45, 2.85]"
      ]
     },
     "execution_count": 92,
     "metadata": {},
     "output_type": "execute_result"
    }
   ],
   "source": [
    "emissions('ceiling_height')"
   ]
  },
  {
   "cell_type": "code",
   "execution_count": 93,
   "metadata": {},
   "outputs": [
    {
     "data": {
      "text/plain": [
       "[0.0, 462.0]"
      ]
     },
     "execution_count": 93,
     "metadata": {},
     "output_type": "execute_result"
    }
   ],
   "source": [
    "emissions('days_exposition')"
   ]
  },
  {
   "cell_type": "markdown",
   "metadata": {},
   "source": [
    "К анномалиям в данныхможно отнести: квартиры имеющие более 6 комнат, квартиры площадью более 200 квадратных метров, квартры где высота потолком меньше 1 метра и там где выше 4 метров, квартиры стоимостью более 20 миллионов рублей, квартиры срок публикации объявления о которым больше года"
   ]
  },
  {
   "cell_type": "markdown",
   "metadata": {},
   "source": [
    "Исключение аномальных значений из данных"
   ]
  },
  {
   "cell_type": "code",
   "execution_count": 94,
   "metadata": {},
   "outputs": [
    {
     "data": {
      "text/html": [
       "<div>\n",
       "<style scoped>\n",
       "    .dataframe tbody tr th:only-of-type {\n",
       "        vertical-align: middle;\n",
       "    }\n",
       "\n",
       "    .dataframe tbody tr th {\n",
       "        vertical-align: top;\n",
       "    }\n",
       "\n",
       "    .dataframe thead th {\n",
       "        text-align: right;\n",
       "    }\n",
       "</style>\n",
       "<table border=\"1\" class=\"dataframe\">\n",
       "  <thead>\n",
       "    <tr style=\"text-align: right;\">\n",
       "      <th></th>\n",
       "      <th>total_images</th>\n",
       "      <th>last_price</th>\n",
       "      <th>total_area</th>\n",
       "      <th>first_day_exposition</th>\n",
       "      <th>rooms</th>\n",
       "      <th>ceiling_height</th>\n",
       "      <th>floors_total</th>\n",
       "      <th>living_area</th>\n",
       "      <th>floor</th>\n",
       "      <th>is_apartment</th>\n",
       "      <th>...</th>\n",
       "      <th>year</th>\n",
       "      <th>floor_name</th>\n",
       "      <th>living_total</th>\n",
       "      <th>kitchen_total</th>\n",
       "      <th>final_large_area</th>\n",
       "      <th>final_expensive</th>\n",
       "      <th>final_rooms</th>\n",
       "      <th>final_ceiling</th>\n",
       "      <th>slow_sale</th>\n",
       "      <th>fast_sale</th>\n",
       "    </tr>\n",
       "  </thead>\n",
       "  <tbody>\n",
       "    <tr>\n",
       "      <th>0</th>\n",
       "      <td>7</td>\n",
       "      <td>3350000</td>\n",
       "      <td>40.40</td>\n",
       "      <td>2018-12-04</td>\n",
       "      <td>1</td>\n",
       "      <td>2.65</td>\n",
       "      <td>11</td>\n",
       "      <td>18.60</td>\n",
       "      <td>1</td>\n",
       "      <td>False</td>\n",
       "      <td>...</td>\n",
       "      <td>2018</td>\n",
       "      <td>первый</td>\n",
       "      <td>0.460396</td>\n",
       "      <td>0.272277</td>\n",
       "      <td>False</td>\n",
       "      <td>False</td>\n",
       "      <td>False</td>\n",
       "      <td>False</td>\n",
       "      <td>False</td>\n",
       "      <td>False</td>\n",
       "    </tr>\n",
       "    <tr>\n",
       "      <th>1</th>\n",
       "      <td>10</td>\n",
       "      <td>2890000</td>\n",
       "      <td>30.40</td>\n",
       "      <td>2018-09-10</td>\n",
       "      <td>1</td>\n",
       "      <td>2.65</td>\n",
       "      <td>12</td>\n",
       "      <td>14.40</td>\n",
       "      <td>5</td>\n",
       "      <td>False</td>\n",
       "      <td>...</td>\n",
       "      <td>2018</td>\n",
       "      <td>другой</td>\n",
       "      <td>0.473684</td>\n",
       "      <td>0.299342</td>\n",
       "      <td>False</td>\n",
       "      <td>False</td>\n",
       "      <td>False</td>\n",
       "      <td>False</td>\n",
       "      <td>False</td>\n",
       "      <td>False</td>\n",
       "    </tr>\n",
       "    <tr>\n",
       "      <th>2</th>\n",
       "      <td>6</td>\n",
       "      <td>3700000</td>\n",
       "      <td>37.30</td>\n",
       "      <td>2017-11-02</td>\n",
       "      <td>1</td>\n",
       "      <td>2.65</td>\n",
       "      <td>26</td>\n",
       "      <td>10.60</td>\n",
       "      <td>6</td>\n",
       "      <td>False</td>\n",
       "      <td>...</td>\n",
       "      <td>2017</td>\n",
       "      <td>другой</td>\n",
       "      <td>0.284182</td>\n",
       "      <td>0.386059</td>\n",
       "      <td>False</td>\n",
       "      <td>False</td>\n",
       "      <td>False</td>\n",
       "      <td>False</td>\n",
       "      <td>False</td>\n",
       "      <td>False</td>\n",
       "    </tr>\n",
       "    <tr>\n",
       "      <th>3</th>\n",
       "      <td>20</td>\n",
       "      <td>2900000</td>\n",
       "      <td>33.16</td>\n",
       "      <td>2018-05-23</td>\n",
       "      <td>1</td>\n",
       "      <td>2.65</td>\n",
       "      <td>27</td>\n",
       "      <td>15.43</td>\n",
       "      <td>26</td>\n",
       "      <td>False</td>\n",
       "      <td>...</td>\n",
       "      <td>2018</td>\n",
       "      <td>другой</td>\n",
       "      <td>0.465320</td>\n",
       "      <td>0.265682</td>\n",
       "      <td>False</td>\n",
       "      <td>False</td>\n",
       "      <td>False</td>\n",
       "      <td>False</td>\n",
       "      <td>False</td>\n",
       "      <td>False</td>\n",
       "    </tr>\n",
       "    <tr>\n",
       "      <th>4</th>\n",
       "      <td>18</td>\n",
       "      <td>5400000</td>\n",
       "      <td>61.00</td>\n",
       "      <td>2017-02-26</td>\n",
       "      <td>3</td>\n",
       "      <td>2.50</td>\n",
       "      <td>9</td>\n",
       "      <td>43.60</td>\n",
       "      <td>7</td>\n",
       "      <td>False</td>\n",
       "      <td>...</td>\n",
       "      <td>2017</td>\n",
       "      <td>другой</td>\n",
       "      <td>0.714754</td>\n",
       "      <td>0.106557</td>\n",
       "      <td>False</td>\n",
       "      <td>False</td>\n",
       "      <td>False</td>\n",
       "      <td>False</td>\n",
       "      <td>False</td>\n",
       "      <td>False</td>\n",
       "    </tr>\n",
       "    <tr>\n",
       "      <th>5</th>\n",
       "      <td>5</td>\n",
       "      <td>5050000</td>\n",
       "      <td>39.60</td>\n",
       "      <td>2017-11-16</td>\n",
       "      <td>1</td>\n",
       "      <td>2.67</td>\n",
       "      <td>12</td>\n",
       "      <td>20.30</td>\n",
       "      <td>3</td>\n",
       "      <td>False</td>\n",
       "      <td>...</td>\n",
       "      <td>2017</td>\n",
       "      <td>другой</td>\n",
       "      <td>0.512626</td>\n",
       "      <td>0.214646</td>\n",
       "      <td>False</td>\n",
       "      <td>False</td>\n",
       "      <td>False</td>\n",
       "      <td>False</td>\n",
       "      <td>False</td>\n",
       "      <td>False</td>\n",
       "    </tr>\n",
       "    <tr>\n",
       "      <th>6</th>\n",
       "      <td>10</td>\n",
       "      <td>3890000</td>\n",
       "      <td>54.00</td>\n",
       "      <td>2016-06-30</td>\n",
       "      <td>2</td>\n",
       "      <td>2.65</td>\n",
       "      <td>5</td>\n",
       "      <td>30.00</td>\n",
       "      <td>5</td>\n",
       "      <td>False</td>\n",
       "      <td>...</td>\n",
       "      <td>2016</td>\n",
       "      <td>последний</td>\n",
       "      <td>0.555556</td>\n",
       "      <td>0.166667</td>\n",
       "      <td>False</td>\n",
       "      <td>False</td>\n",
       "      <td>False</td>\n",
       "      <td>False</td>\n",
       "      <td>False</td>\n",
       "      <td>False</td>\n",
       "    </tr>\n",
       "    <tr>\n",
       "      <th>7</th>\n",
       "      <td>20</td>\n",
       "      <td>3550000</td>\n",
       "      <td>42.80</td>\n",
       "      <td>2017-07-01</td>\n",
       "      <td>2</td>\n",
       "      <td>2.56</td>\n",
       "      <td>5</td>\n",
       "      <td>27.00</td>\n",
       "      <td>5</td>\n",
       "      <td>False</td>\n",
       "      <td>...</td>\n",
       "      <td>2017</td>\n",
       "      <td>последний</td>\n",
       "      <td>0.630841</td>\n",
       "      <td>0.121495</td>\n",
       "      <td>False</td>\n",
       "      <td>False</td>\n",
       "      <td>False</td>\n",
       "      <td>False</td>\n",
       "      <td>False</td>\n",
       "      <td>False</td>\n",
       "    </tr>\n",
       "    <tr>\n",
       "      <th>8</th>\n",
       "      <td>1</td>\n",
       "      <td>4400000</td>\n",
       "      <td>36.00</td>\n",
       "      <td>2016-06-23</td>\n",
       "      <td>1</td>\n",
       "      <td>2.65</td>\n",
       "      <td>6</td>\n",
       "      <td>17.00</td>\n",
       "      <td>1</td>\n",
       "      <td>False</td>\n",
       "      <td>...</td>\n",
       "      <td>2016</td>\n",
       "      <td>первый</td>\n",
       "      <td>0.472222</td>\n",
       "      <td>0.222222</td>\n",
       "      <td>False</td>\n",
       "      <td>False</td>\n",
       "      <td>False</td>\n",
       "      <td>False</td>\n",
       "      <td>False</td>\n",
       "      <td>False</td>\n",
       "    </tr>\n",
       "    <tr>\n",
       "      <th>9</th>\n",
       "      <td>8</td>\n",
       "      <td>3250000</td>\n",
       "      <td>31.00</td>\n",
       "      <td>2017-01-27</td>\n",
       "      <td>1</td>\n",
       "      <td>2.50</td>\n",
       "      <td>5</td>\n",
       "      <td>19.40</td>\n",
       "      <td>2</td>\n",
       "      <td>False</td>\n",
       "      <td>...</td>\n",
       "      <td>2017</td>\n",
       "      <td>другой</td>\n",
       "      <td>0.625806</td>\n",
       "      <td>0.180645</td>\n",
       "      <td>False</td>\n",
       "      <td>False</td>\n",
       "      <td>False</td>\n",
       "      <td>False</td>\n",
       "      <td>False</td>\n",
       "      <td>False</td>\n",
       "    </tr>\n",
       "    <tr>\n",
       "      <th>10</th>\n",
       "      <td>12</td>\n",
       "      <td>6120000</td>\n",
       "      <td>80.00</td>\n",
       "      <td>2017-09-28</td>\n",
       "      <td>3</td>\n",
       "      <td>2.70</td>\n",
       "      <td>27</td>\n",
       "      <td>48.00</td>\n",
       "      <td>11</td>\n",
       "      <td>False</td>\n",
       "      <td>...</td>\n",
       "      <td>2017</td>\n",
       "      <td>другой</td>\n",
       "      <td>0.600000</td>\n",
       "      <td>0.150000</td>\n",
       "      <td>False</td>\n",
       "      <td>False</td>\n",
       "      <td>False</td>\n",
       "      <td>False</td>\n",
       "      <td>False</td>\n",
       "      <td>False</td>\n",
       "    </tr>\n",
       "    <tr>\n",
       "      <th>11</th>\n",
       "      <td>13</td>\n",
       "      <td>3200000</td>\n",
       "      <td>31.60</td>\n",
       "      <td>2018-03-14</td>\n",
       "      <td>1</td>\n",
       "      <td>2.65</td>\n",
       "      <td>5</td>\n",
       "      <td>16.90</td>\n",
       "      <td>2</td>\n",
       "      <td>False</td>\n",
       "      <td>...</td>\n",
       "      <td>2018</td>\n",
       "      <td>другой</td>\n",
       "      <td>0.534810</td>\n",
       "      <td>0.180380</td>\n",
       "      <td>False</td>\n",
       "      <td>False</td>\n",
       "      <td>False</td>\n",
       "      <td>False</td>\n",
       "      <td>False</td>\n",
       "      <td>False</td>\n",
       "    </tr>\n",
       "    <tr>\n",
       "      <th>12</th>\n",
       "      <td>20</td>\n",
       "      <td>5000000</td>\n",
       "      <td>58.00</td>\n",
       "      <td>2017-04-24</td>\n",
       "      <td>2</td>\n",
       "      <td>2.75</td>\n",
       "      <td>25</td>\n",
       "      <td>30.00</td>\n",
       "      <td>15</td>\n",
       "      <td>False</td>\n",
       "      <td>...</td>\n",
       "      <td>2017</td>\n",
       "      <td>другой</td>\n",
       "      <td>0.517241</td>\n",
       "      <td>0.189655</td>\n",
       "      <td>False</td>\n",
       "      <td>False</td>\n",
       "      <td>False</td>\n",
       "      <td>False</td>\n",
       "      <td>False</td>\n",
       "      <td>False</td>\n",
       "    </tr>\n",
       "    <tr>\n",
       "      <th>13</th>\n",
       "      <td>8</td>\n",
       "      <td>6500000</td>\n",
       "      <td>97.20</td>\n",
       "      <td>2015-10-31</td>\n",
       "      <td>2</td>\n",
       "      <td>2.65</td>\n",
       "      <td>3</td>\n",
       "      <td>46.50</td>\n",
       "      <td>1</td>\n",
       "      <td>False</td>\n",
       "      <td>...</td>\n",
       "      <td>2015</td>\n",
       "      <td>первый</td>\n",
       "      <td>0.478395</td>\n",
       "      <td>0.201646</td>\n",
       "      <td>False</td>\n",
       "      <td>False</td>\n",
       "      <td>False</td>\n",
       "      <td>False</td>\n",
       "      <td>False</td>\n",
       "      <td>False</td>\n",
       "    </tr>\n",
       "    <tr>\n",
       "      <th>14</th>\n",
       "      <td>3</td>\n",
       "      <td>6800000</td>\n",
       "      <td>76.00</td>\n",
       "      <td>2015-10-01</td>\n",
       "      <td>2</td>\n",
       "      <td>2.75</td>\n",
       "      <td>23</td>\n",
       "      <td>39.00</td>\n",
       "      <td>18</td>\n",
       "      <td>False</td>\n",
       "      <td>...</td>\n",
       "      <td>2015</td>\n",
       "      <td>другой</td>\n",
       "      <td>0.513158</td>\n",
       "      <td>0.197368</td>\n",
       "      <td>False</td>\n",
       "      <td>False</td>\n",
       "      <td>False</td>\n",
       "      <td>False</td>\n",
       "      <td>False</td>\n",
       "      <td>False</td>\n",
       "    </tr>\n",
       "  </tbody>\n",
       "</table>\n",
       "<p>15 rows × 35 columns</p>\n",
       "</div>"
      ],
      "text/plain": [
       "    total_images  last_price  total_area first_day_exposition  rooms  \\\n",
       "0              7     3350000       40.40           2018-12-04      1   \n",
       "1             10     2890000       30.40           2018-09-10      1   \n",
       "2              6     3700000       37.30           2017-11-02      1   \n",
       "3             20     2900000       33.16           2018-05-23      1   \n",
       "4             18     5400000       61.00           2017-02-26      3   \n",
       "5              5     5050000       39.60           2017-11-16      1   \n",
       "6             10     3890000       54.00           2016-06-30      2   \n",
       "7             20     3550000       42.80           2017-07-01      2   \n",
       "8              1     4400000       36.00           2016-06-23      1   \n",
       "9              8     3250000       31.00           2017-01-27      1   \n",
       "10            12     6120000       80.00           2017-09-28      3   \n",
       "11            13     3200000       31.60           2018-03-14      1   \n",
       "12            20     5000000       58.00           2017-04-24      2   \n",
       "13             8     6500000       97.20           2015-10-31      2   \n",
       "14             3     6800000       76.00           2015-10-01      2   \n",
       "\n",
       "    ceiling_height  floors_total  living_area  floor is_apartment  ...  year  \\\n",
       "0             2.65            11        18.60      1        False  ...  2018   \n",
       "1             2.65            12        14.40      5        False  ...  2018   \n",
       "2             2.65            26        10.60      6        False  ...  2017   \n",
       "3             2.65            27        15.43     26        False  ...  2018   \n",
       "4             2.50             9        43.60      7        False  ...  2017   \n",
       "5             2.67            12        20.30      3        False  ...  2017   \n",
       "6             2.65             5        30.00      5        False  ...  2016   \n",
       "7             2.56             5        27.00      5        False  ...  2017   \n",
       "8             2.65             6        17.00      1        False  ...  2016   \n",
       "9             2.50             5        19.40      2        False  ...  2017   \n",
       "10            2.70            27        48.00     11        False  ...  2017   \n",
       "11            2.65             5        16.90      2        False  ...  2018   \n",
       "12            2.75            25        30.00     15        False  ...  2017   \n",
       "13            2.65             3        46.50      1        False  ...  2015   \n",
       "14            2.75            23        39.00     18        False  ...  2015   \n",
       "\n",
       "    floor_name  living_total  kitchen_total final_large_area  final_expensive  \\\n",
       "0       первый      0.460396       0.272277            False            False   \n",
       "1       другой      0.473684       0.299342            False            False   \n",
       "2       другой      0.284182       0.386059            False            False   \n",
       "3       другой      0.465320       0.265682            False            False   \n",
       "4       другой      0.714754       0.106557            False            False   \n",
       "5       другой      0.512626       0.214646            False            False   \n",
       "6    последний      0.555556       0.166667            False            False   \n",
       "7    последний      0.630841       0.121495            False            False   \n",
       "8       первый      0.472222       0.222222            False            False   \n",
       "9       другой      0.625806       0.180645            False            False   \n",
       "10      другой      0.600000       0.150000            False            False   \n",
       "11      другой      0.534810       0.180380            False            False   \n",
       "12      другой      0.517241       0.189655            False            False   \n",
       "13      первый      0.478395       0.201646            False            False   \n",
       "14      другой      0.513158       0.197368            False            False   \n",
       "\n",
       "    final_rooms  final_ceiling  slow_sale  fast_sale  \n",
       "0         False          False      False      False  \n",
       "1         False          False      False      False  \n",
       "2         False          False      False      False  \n",
       "3         False          False      False      False  \n",
       "4         False          False      False      False  \n",
       "5         False          False      False      False  \n",
       "6         False          False      False      False  \n",
       "7         False          False      False      False  \n",
       "8         False          False      False      False  \n",
       "9         False          False      False      False  \n",
       "10        False          False      False      False  \n",
       "11        False          False      False      False  \n",
       "12        False          False      False      False  \n",
       "13        False          False      False      False  \n",
       "14        False          False      False      False  \n",
       "\n",
       "[15 rows x 35 columns]"
      ]
     },
     "metadata": {},
     "output_type": "display_data"
    },
    {
     "name": "stdout",
     "output_type": "stream",
     "text": [
      "<class 'pandas.core.frame.DataFrame'>\n",
      "RangeIndex: 12574 entries, 0 to 12573\n",
      "Data columns (total 35 columns):\n",
      " #   Column                  Non-Null Count  Dtype         \n",
      "---  ------                  --------------  -----         \n",
      " 0   total_images            12574 non-null  int64         \n",
      " 1   last_price              12574 non-null  int64         \n",
      " 2   total_area              12574 non-null  float64       \n",
      " 3   first_day_exposition    12574 non-null  datetime64[ns]\n",
      " 4   rooms                   12574 non-null  int64         \n",
      " 5   ceiling_height          12574 non-null  float64       \n",
      " 6   floors_total            12574 non-null  int64         \n",
      " 7   living_area             12574 non-null  float64       \n",
      " 8   floor                   12574 non-null  int64         \n",
      " 9   is_apartment            12574 non-null  object        \n",
      " 10  studio                  12574 non-null  bool          \n",
      " 11  open_plan               12574 non-null  bool          \n",
      " 12  kitchen_area            12574 non-null  float64       \n",
      " 13  balcony                 12574 non-null  int64         \n",
      " 14  locality_name           12574 non-null  object        \n",
      " 15  airports_nearest        12574 non-null  float64       \n",
      " 16  city_centers_nearest    9191 non-null   float64       \n",
      " 17  parks_around_3000       9177 non-null   float64       \n",
      " 18  parks_nearest           3498 non-null   float64       \n",
      " 19  ponds_around_3000       9177 non-null   float64       \n",
      " 20  ponds_nearest           4226 non-null   float64       \n",
      " 21  days_exposition         12574 non-null  int64         \n",
      " 22  price_per_square_meter  12574 non-null  int64         \n",
      " 23  day                     12574 non-null  int64         \n",
      " 24  month                   12574 non-null  int64         \n",
      " 25  year                    12574 non-null  int64         \n",
      " 26  floor_name              12574 non-null  object        \n",
      " 27  living_total            12574 non-null  float64       \n",
      " 28  kitchen_total           12574 non-null  float64       \n",
      " 29  final_large_area        12574 non-null  bool          \n",
      " 30  final_expensive         12574 non-null  bool          \n",
      " 31  final_rooms             12574 non-null  bool          \n",
      " 32  final_ceiling           12574 non-null  bool          \n",
      " 33  slow_sale               12574 non-null  bool          \n",
      " 34  fast_sale               12574 non-null  bool          \n",
      "dtypes: bool(8), datetime64[ns](1), float64(12), int64(11), object(3)\n",
      "memory usage: 2.7+ MB\n"
     ]
    }
   ],
   "source": [
    "data['final_large_area'] = data['total_area'] > emissions('total_area')[1]\n",
    "data['final_expensive'] = data['last_price'] > emissions('last_price')[1]\n",
    "data['final_rooms'] = data['rooms'] > emissions('rooms')[1]\n",
    "data['final_ceiling'] = (data['ceiling_height'] > emissions('ceiling_height')[1]) \\\n",
    "                        | (data['ceiling_height'] < emissions('ceiling_height')[0])\n",
    "data['slow_sale'] = data['days_exposition'] > emissions('days_exposition')[1]\n",
    "data['fast_sale'] = data['days_exposition'] < 30\n",
    "\n",
    "final_data = data[(data['final_large_area'] == False) & \n",
    "     (data['final_expensive'] == False) &\n",
    "     (data['final_rooms'] == False) &\n",
    "     (data['final_ceiling'] == False) &\n",
    "     (data['slow_sale'] == False) &\n",
    "     (data['fast_sale'] == False)].reset_index(drop=True)\n",
    "display(final_data.head(15))\n",
    "final_data.info()"
   ]
  },
  {
   "cell_type": "code",
   "execution_count": 95,
   "metadata": {
    "scrolled": true
   },
   "outputs": [
    {
     "data": {
      "text/html": [
       "<style  type=\"text/css\" >\n",
       "#T_1495a_row0_col0,#T_1495a_row1_col1,#T_1495a_row2_col2,#T_1495a_row3_col3,#T_1495a_row4_col4,#T_1495a_row5_col5,#T_1495a_row6_col6,#T_1495a_row7_col7{\n",
       "            background-color:  #b40426;\n",
       "            color:  #f1f1f1;\n",
       "        }#T_1495a_row0_col1{\n",
       "            background-color:  #f7a98b;\n",
       "            color:  #000000;\n",
       "        }#T_1495a_row0_col2{\n",
       "            background-color:  #dcdddd;\n",
       "            color:  #000000;\n",
       "        }#T_1495a_row0_col3{\n",
       "            background-color:  #a2c1ff;\n",
       "            color:  #000000;\n",
       "        }#T_1495a_row0_col4,#T_1495a_row2_col3,#T_1495a_row3_col2,#T_1495a_row4_col0,#T_1495a_row4_col1,#T_1495a_row6_col7,#T_1495a_row7_col5,#T_1495a_row7_col6{\n",
       "            background-color:  #3b4cc0;\n",
       "            color:  #f1f1f1;\n",
       "        }#T_1495a_row0_col5,#T_1495a_row6_col5{\n",
       "            background-color:  #4b64d5;\n",
       "            color:  #f1f1f1;\n",
       "        }#T_1495a_row0_col6,#T_1495a_row3_col7{\n",
       "            background-color:  #7597f6;\n",
       "            color:  #000000;\n",
       "        }#T_1495a_row0_col7,#T_1495a_row1_col6{\n",
       "            background-color:  #7295f4;\n",
       "            color:  #000000;\n",
       "        }#T_1495a_row1_col0{\n",
       "            background-color:  #f39577;\n",
       "            color:  #000000;\n",
       "        }#T_1495a_row1_col2{\n",
       "            background-color:  #e8765c;\n",
       "            color:  #000000;\n",
       "        }#T_1495a_row1_col3{\n",
       "            background-color:  #6788ee;\n",
       "            color:  #000000;\n",
       "        }#T_1495a_row1_col4,#T_1495a_row3_col6{\n",
       "            background-color:  #7396f5;\n",
       "            color:  #000000;\n",
       "        }#T_1495a_row1_col5{\n",
       "            background-color:  #4e68d8;\n",
       "            color:  #000000;\n",
       "        }#T_1495a_row1_col7,#T_1495a_row2_col7{\n",
       "            background-color:  #6384eb;\n",
       "            color:  #000000;\n",
       "        }#T_1495a_row2_col0{\n",
       "            background-color:  #ead5c9;\n",
       "            color:  #000000;\n",
       "        }#T_1495a_row2_col1{\n",
       "            background-color:  #eb7d62;\n",
       "            color:  #000000;\n",
       "        }#T_1495a_row2_col4{\n",
       "            background-color:  #7ea1fa;\n",
       "            color:  #000000;\n",
       "        }#T_1495a_row2_col5,#T_1495a_row5_col1{\n",
       "            background-color:  #506bda;\n",
       "            color:  #000000;\n",
       "        }#T_1495a_row2_col6{\n",
       "            background-color:  #7093f3;\n",
       "            color:  #000000;\n",
       "        }#T_1495a_row3_col0{\n",
       "            background-color:  #bbd1f8;\n",
       "            color:  #000000;\n",
       "        }#T_1495a_row3_col1,#T_1495a_row3_col5{\n",
       "            background-color:  #4f69d9;\n",
       "            color:  #000000;\n",
       "        }#T_1495a_row3_col4{\n",
       "            background-color:  #799cf8;\n",
       "            color:  #000000;\n",
       "        }#T_1495a_row4_col2{\n",
       "            background-color:  #5e7de7;\n",
       "            color:  #000000;\n",
       "        }#T_1495a_row4_col3{\n",
       "            background-color:  #5875e1;\n",
       "            color:  #000000;\n",
       "        }#T_1495a_row4_col5{\n",
       "            background-color:  #5470de;\n",
       "            color:  #000000;\n",
       "        }#T_1495a_row4_col6,#T_1495a_row5_col3,#T_1495a_row6_col2{\n",
       "            background-color:  #6a8bef;\n",
       "            color:  #000000;\n",
       "        }#T_1495a_row4_col7{\n",
       "            background-color:  #7699f6;\n",
       "            color:  #000000;\n",
       "        }#T_1495a_row5_col0{\n",
       "            background-color:  #86a9fc;\n",
       "            color:  #000000;\n",
       "        }#T_1495a_row5_col2{\n",
       "            background-color:  #6b8df0;\n",
       "            color:  #000000;\n",
       "        }#T_1495a_row5_col4{\n",
       "            background-color:  #8fb1fe;\n",
       "            color:  #000000;\n",
       "        }#T_1495a_row5_col6{\n",
       "            background-color:  #6e90f2;\n",
       "            color:  #000000;\n",
       "        }#T_1495a_row5_col7{\n",
       "            background-color:  #5d7ce6;\n",
       "            color:  #000000;\n",
       "        }#T_1495a_row6_col0,#T_1495a_row7_col4{\n",
       "            background-color:  #8db0fe;\n",
       "            color:  #000000;\n",
       "        }#T_1495a_row6_col1{\n",
       "            background-color:  #536edd;\n",
       "            color:  #000000;\n",
       "        }#T_1495a_row6_col3,#T_1495a_row7_col3{\n",
       "            background-color:  #6c8ff1;\n",
       "            color:  #000000;\n",
       "        }#T_1495a_row6_col4{\n",
       "            background-color:  #82a6fb;\n",
       "            color:  #000000;\n",
       "        }#T_1495a_row7_col0{\n",
       "            background-color:  #8badfd;\n",
       "            color:  #000000;\n",
       "        }#T_1495a_row7_col1{\n",
       "            background-color:  #4358cb;\n",
       "            color:  #f1f1f1;\n",
       "        }#T_1495a_row7_col2{\n",
       "            background-color:  #5b7ae5;\n",
       "            color:  #000000;\n",
       "        }</style><table id=\"T_1495a_\" ><thead>    <tr>        <th class=\"blank level0\" ></th>        <th class=\"col_heading level0 col0\" >last_price</th>        <th class=\"col_heading level0 col1\" >total_area</th>        <th class=\"col_heading level0 col2\" >rooms</th>        <th class=\"col_heading level0 col3\" >floor</th>        <th class=\"col_heading level0 col4\" >city_centers_nearest</th>        <th class=\"col_heading level0 col5\" >day</th>        <th class=\"col_heading level0 col6\" >month</th>        <th class=\"col_heading level0 col7\" >year</th>    </tr></thead><tbody>\n",
       "                <tr>\n",
       "                        <th id=\"T_1495a_level0_row0\" class=\"row_heading level0 row0\" >last_price</th>\n",
       "                        <td id=\"T_1495a_row0_col0\" class=\"data row0 col0\" >1.000000</td>\n",
       "                        <td id=\"T_1495a_row0_col1\" class=\"data row0 col1\" >0.686408</td>\n",
       "                        <td id=\"T_1495a_row0_col2\" class=\"data row0 col2\" >0.412530</td>\n",
       "                        <td id=\"T_1495a_row0_col3\" class=\"data row0 col3\" >0.193685</td>\n",
       "                        <td id=\"T_1495a_row0_col4\" class=\"data row0 col4\" >-0.312039</td>\n",
       "                        <td id=\"T_1495a_row0_col5\" class=\"data row0 col5\" >-0.004768</td>\n",
       "                        <td id=\"T_1495a_row0_col6\" class=\"data row0 col6\" >0.017023</td>\n",
       "                        <td id=\"T_1495a_row0_col7\" class=\"data row0 col7\" >0.005760</td>\n",
       "            </tr>\n",
       "            <tr>\n",
       "                        <th id=\"T_1495a_level0_row1\" class=\"row_heading level0 row1\" >total_area</th>\n",
       "                        <td id=\"T_1495a_row1_col0\" class=\"data row1 col0\" >0.686408</td>\n",
       "                        <td id=\"T_1495a_row1_col1\" class=\"data row1 col1\" >1.000000</td>\n",
       "                        <td id=\"T_1495a_row1_col2\" class=\"data row1 col2\" >0.801275</td>\n",
       "                        <td id=\"T_1495a_row1_col3\" class=\"data row1 col3\" >-0.003783</td>\n",
       "                        <td id=\"T_1495a_row1_col4\" class=\"data row1 col4\" >-0.077306</td>\n",
       "                        <td id=\"T_1495a_row1_col5\" class=\"data row1 col5\" >0.002610</td>\n",
       "                        <td id=\"T_1495a_row1_col6\" class=\"data row1 col6\" >0.007548</td>\n",
       "                        <td id=\"T_1495a_row1_col7\" class=\"data row1 col7\" >-0.047283</td>\n",
       "            </tr>\n",
       "            <tr>\n",
       "                        <th id=\"T_1495a_level0_row2\" class=\"row_heading level0 row2\" >rooms</th>\n",
       "                        <td id=\"T_1495a_row2_col0\" class=\"data row2 col0\" >0.412530</td>\n",
       "                        <td id=\"T_1495a_row2_col1\" class=\"data row2 col1\" >0.801275</td>\n",
       "                        <td id=\"T_1495a_row2_col2\" class=\"data row2 col2\" >1.000000</td>\n",
       "                        <td id=\"T_1495a_row2_col3\" class=\"data row2 col3\" >-0.171195</td>\n",
       "                        <td id=\"T_1495a_row2_col4\" class=\"data row2 col4\" >-0.036892</td>\n",
       "                        <td id=\"T_1495a_row2_col5\" class=\"data row2 col5\" >0.011028</td>\n",
       "                        <td id=\"T_1495a_row2_col6\" class=\"data row2 col6\" >0.003611</td>\n",
       "                        <td id=\"T_1495a_row2_col7\" class=\"data row2 col7\" >-0.044273</td>\n",
       "            </tr>\n",
       "            <tr>\n",
       "                        <th id=\"T_1495a_level0_row3\" class=\"row_heading level0 row3\" >floor</th>\n",
       "                        <td id=\"T_1495a_row3_col0\" class=\"data row3 col0\" >0.193685</td>\n",
       "                        <td id=\"T_1495a_row3_col1\" class=\"data row3 col1\" >-0.003783</td>\n",
       "                        <td id=\"T_1495a_row3_col2\" class=\"data row3 col2\" >-0.171195</td>\n",
       "                        <td id=\"T_1495a_row3_col3\" class=\"data row3 col3\" >1.000000</td>\n",
       "                        <td id=\"T_1495a_row3_col4\" class=\"data row3 col4\" >-0.060700</td>\n",
       "                        <td id=\"T_1495a_row3_col5\" class=\"data row3 col5\" >0.004678</td>\n",
       "                        <td id=\"T_1495a_row3_col6\" class=\"data row3 col6\" >0.012369</td>\n",
       "                        <td id=\"T_1495a_row3_col7\" class=\"data row3 col7\" >0.013791</td>\n",
       "            </tr>\n",
       "            <tr>\n",
       "                        <th id=\"T_1495a_level0_row4\" class=\"row_heading level0 row4\" >city_centers_nearest</th>\n",
       "                        <td id=\"T_1495a_row4_col0\" class=\"data row4 col0\" >-0.312039</td>\n",
       "                        <td id=\"T_1495a_row4_col1\" class=\"data row4 col1\" >-0.077306</td>\n",
       "                        <td id=\"T_1495a_row4_col2\" class=\"data row4 col2\" >-0.036892</td>\n",
       "                        <td id=\"T_1495a_row4_col3\" class=\"data row4 col3\" >-0.060700</td>\n",
       "                        <td id=\"T_1495a_row4_col4\" class=\"data row4 col4\" >1.000000</td>\n",
       "                        <td id=\"T_1495a_row4_col5\" class=\"data row4 col5\" >0.023505</td>\n",
       "                        <td id=\"T_1495a_row4_col6\" class=\"data row4 col6\" >-0.022431</td>\n",
       "                        <td id=\"T_1495a_row4_col7\" class=\"data row4 col7\" >0.019742</td>\n",
       "            </tr>\n",
       "            <tr>\n",
       "                        <th id=\"T_1495a_level0_row5\" class=\"row_heading level0 row5\" >day</th>\n",
       "                        <td id=\"T_1495a_row5_col0\" class=\"data row5 col0\" >-0.004768</td>\n",
       "                        <td id=\"T_1495a_row5_col1\" class=\"data row5 col1\" >0.002610</td>\n",
       "                        <td id=\"T_1495a_row5_col2\" class=\"data row5 col2\" >0.011028</td>\n",
       "                        <td id=\"T_1495a_row5_col3\" class=\"data row5 col3\" >0.004678</td>\n",
       "                        <td id=\"T_1495a_row5_col4\" class=\"data row5 col4\" >0.023505</td>\n",
       "                        <td id=\"T_1495a_row5_col5\" class=\"data row5 col5\" >1.000000</td>\n",
       "                        <td id=\"T_1495a_row5_col6\" class=\"data row5 col6\" >-0.006118</td>\n",
       "                        <td id=\"T_1495a_row5_col7\" class=\"data row5 col7\" >-0.066981</td>\n",
       "            </tr>\n",
       "            <tr>\n",
       "                        <th id=\"T_1495a_level0_row6\" class=\"row_heading level0 row6\" >month</th>\n",
       "                        <td id=\"T_1495a_row6_col0\" class=\"data row6 col0\" >0.017023</td>\n",
       "                        <td id=\"T_1495a_row6_col1\" class=\"data row6 col1\" >0.007548</td>\n",
       "                        <td id=\"T_1495a_row6_col2\" class=\"data row6 col2\" >0.003611</td>\n",
       "                        <td id=\"T_1495a_row6_col3\" class=\"data row6 col3\" >0.012369</td>\n",
       "                        <td id=\"T_1495a_row6_col4\" class=\"data row6 col4\" >-0.022431</td>\n",
       "                        <td id=\"T_1495a_row6_col5\" class=\"data row6 col5\" >-0.006118</td>\n",
       "                        <td id=\"T_1495a_row6_col6\" class=\"data row6 col6\" >1.000000</td>\n",
       "                        <td id=\"T_1495a_row6_col7\" class=\"data row6 col7\" >-0.202460</td>\n",
       "            </tr>\n",
       "            <tr>\n",
       "                        <th id=\"T_1495a_level0_row7\" class=\"row_heading level0 row7\" >year</th>\n",
       "                        <td id=\"T_1495a_row7_col0\" class=\"data row7 col0\" >0.005760</td>\n",
       "                        <td id=\"T_1495a_row7_col1\" class=\"data row7 col1\" >-0.047283</td>\n",
       "                        <td id=\"T_1495a_row7_col2\" class=\"data row7 col2\" >-0.044273</td>\n",
       "                        <td id=\"T_1495a_row7_col3\" class=\"data row7 col3\" >0.013791</td>\n",
       "                        <td id=\"T_1495a_row7_col4\" class=\"data row7 col4\" >0.019742</td>\n",
       "                        <td id=\"T_1495a_row7_col5\" class=\"data row7 col5\" >-0.066981</td>\n",
       "                        <td id=\"T_1495a_row7_col6\" class=\"data row7 col6\" >-0.202460</td>\n",
       "                        <td id=\"T_1495a_row7_col7\" class=\"data row7 col7\" >1.000000</td>\n",
       "            </tr>\n",
       "    </tbody></table>"
      ],
      "text/plain": [
       "<pandas.io.formats.style.Styler at 0x7ff97d2a7880>"
      ]
     },
     "execution_count": 95,
     "metadata": {},
     "output_type": "execute_result"
    }
   ],
   "source": [
    "corr = final_data[['last_price',\\\n",
    "           'total_area',\\\n",
    "           'rooms',\\\n",
    "           'floor',\\\n",
    "           'city_centers_nearest',\\\n",
    "           'day',\\\n",
    "           'month',\\\n",
    "            'year'    \n",
    "               ]].corr()\n",
    "corr.style.background_gradient(cmap='coolwarm')"
   ]
  },
  {
   "cell_type": "markdown",
   "metadata": {},
   "source": [
    "Для анлиза ффакторов влияющих на стоимоть кадратного метра мприменяем метод корреляции. В результате исследования выявлено самое большое влияние на стоимость оказываю площадь квартиры и количество комнат, остальные факторы имеют очень слабое влияние на цену за квадратный метр. И практически ни какого влияния не оказывает дата размещения объявления"
   ]
  },
  {
   "cell_type": "markdown",
   "metadata": {},
   "source": [
    "Комментарий студента: Нелинейную зависимость выявим построив графики медианной цены с группировкой по выбранным параметрам выше"
   ]
  },
  {
   "cell_type": "code",
   "execution_count": 96,
   "metadata": {},
   "outputs": [
    {
     "data": {
      "text/plain": [
       "<AxesSubplot:xlabel='total_area'>"
      ]
     },
     "execution_count": 96,
     "metadata": {},
     "output_type": "execute_result"
    },
    {
     "data": {
      "image/png": "[encoded data removed]",
      "text/plain": [
       "<Figure size 432x288 with 1 Axes>"
      ]
     },
     "metadata": {
      "needs_background": "light"
     },
     "output_type": "display_data"
    }
   ],
   "source": [
    "final_data.groupby('total_area').agg({'price_per_square_meter': 'median'}).plot()"
   ]
  },
  {
   "cell_type": "code",
   "execution_count": 97,
   "metadata": {},
   "outputs": [
    {
     "data": {
      "text/plain": [
       "<AxesSubplot:xlabel='rooms'>"
      ]
     },
     "execution_count": 97,
     "metadata": {},
     "output_type": "execute_result"
    },
    {
     "data": {
      "image/png": "[encoded data removed]",
      "text/plain": [
       "<Figure size 432x288 with 1 Axes>"
      ]
     },
     "metadata": {
      "needs_background": "light"
     },
     "output_type": "display_data"
    }
   ],
   "source": [
    "final_data.groupby('rooms').agg({'price_per_square_meter': 'median'}).plot()"
   ]
  },
  {
   "cell_type": "code",
   "execution_count": 98,
   "metadata": {},
   "outputs": [
    {
     "data": {
      "text/plain": [
       "<AxesSubplot:xlabel='floor'>"
      ]
     },
     "execution_count": 98,
     "metadata": {},
     "output_type": "execute_result"
    },
    {
     "data": {
      "image/png": "[encoded data removed]",
      "text/plain": [
       "<Figure size 432x288 with 1 Axes>"
      ]
     },
     "metadata": {
      "needs_background": "light"
     },
     "output_type": "display_data"
    }
   ],
   "source": [
    "final_data.groupby('floor').agg({'price_per_square_meter': 'median'}).plot()"
   ]
  },
  {
   "cell_type": "code",
   "execution_count": 99,
   "metadata": {},
   "outputs": [
    {
     "data": {
      "text/plain": [
       "<AxesSubplot:xlabel='city_centers_nearest'>"
      ]
     },
     "execution_count": 99,
     "metadata": {},
     "output_type": "execute_result"
    },
    {
     "data": {
      "image/png": "[encoded data removed]",
      "text/plain": [
       "<Figure size 432x288 with 1 Axes>"
      ]
     },
     "metadata": {
      "needs_background": "light"
     },
     "output_type": "display_data"
    }
   ],
   "source": [
    "final_data.groupby('city_centers_nearest').agg({'price_per_square_meter': 'median'}).plot()"
   ]
  },
  {
   "cell_type": "code",
   "execution_count": 100,
   "metadata": {},
   "outputs": [
    {
     "data": {
      "text/plain": [
       "<AxesSubplot:xlabel='year'>"
      ]
     },
     "execution_count": 100,
     "metadata": {},
     "output_type": "execute_result"
    },
    {
     "data": {
      "image/png": "[encoded data removed]",
      "text/plain": [
       "<Figure size 432x288 with 1 Axes>"
      ]
     },
     "metadata": {
      "needs_background": "light"
     },
     "output_type": "display_data"
    }
   ],
   "source": [
    "final_data.groupby('year').agg({'price_per_square_meter': 'median'}).plot()"
   ]
  },
  {
   "cell_type": "markdown",
   "metadata": {},
   "source": [
    "На основании проведенного анализа зависимости цены квадратного метра от выбранных параметров можно сделать следующие выводы:\n",
    "1. Площадь объекта недвижимости оказывает самое слабое влияние на цену квадратного метра\n",
    "2. Наблюдем прямую зависимость стоимости квадратного метра от количества комнат, чем больше комнат в кватире тем меньше стоимость квадратного метра\n",
    "3. Судя по цене за квадратный метр предпочтение отдаеется этажам расположенным в середине дома, \"крайние\" этажи не пользуются большим спросом\n",
    "4. Удаленность от центра города оказывает значительное влияние на стоимость объекта недвижимости, выраженную в данном случае в стоимости за квадратный метр, чем дальше объект расположен от центра города, тем ниже его стоимость\n",
    "5. После 2017 года наблюдаем резкий рост цен на рынке недвижимоти, скорее всего это связано с развитием льготной ипотеки. Рост спроса на недвижимоть привел к росту цен на рынке. Как говорится \"законы экономики работают, даже если они нам не нравяться\"."
   ]
  },
  {
   "cell_type": "markdown",
   "metadata": {},
   "source": [
    "Для составления списка данных для 10 городом используем сводную таблицу"
   ]
  },
  {
   "cell_type": "code",
   "execution_count": 101,
   "metadata": {},
   "outputs": [
    {
     "data": {
      "text/html": [
       "<div>\n",
       "<style scoped>\n",
       "    .dataframe tbody tr th:only-of-type {\n",
       "        vertical-align: middle;\n",
       "    }\n",
       "\n",
       "    .dataframe tbody tr th {\n",
       "        vertical-align: top;\n",
       "    }\n",
       "\n",
       "    .dataframe thead th {\n",
       "        text-align: right;\n",
       "    }\n",
       "</style>\n",
       "<table border=\"1\" class=\"dataframe\">\n",
       "  <thead>\n",
       "    <tr style=\"text-align: right;\">\n",
       "      <th></th>\n",
       "      <th>count</th>\n",
       "      <th>mean</th>\n",
       "    </tr>\n",
       "    <tr>\n",
       "      <th>locality_name</th>\n",
       "      <th></th>\n",
       "      <th></th>\n",
       "    </tr>\n",
       "  </thead>\n",
       "  <tbody>\n",
       "    <tr>\n",
       "      <th>Санкт-Петербург</th>\n",
       "      <td>7674</td>\n",
       "      <td>103441.093432</td>\n",
       "    </tr>\n",
       "    <tr>\n",
       "      <th>посёлок Мурино</th>\n",
       "      <td>359</td>\n",
       "      <td>85703.295265</td>\n",
       "    </tr>\n",
       "    <tr>\n",
       "      <th>посёлок Шушары</th>\n",
       "      <td>310</td>\n",
       "      <td>77964.858065</td>\n",
       "    </tr>\n",
       "    <tr>\n",
       "      <th>Всеволожск</th>\n",
       "      <td>253</td>\n",
       "      <td>67007.537549</td>\n",
       "    </tr>\n",
       "    <tr>\n",
       "      <th>посёлок Парголово</th>\n",
       "      <td>229</td>\n",
       "      <td>89048.183406</td>\n",
       "    </tr>\n",
       "    <tr>\n",
       "      <th>деревня Кудрово</th>\n",
       "      <td>212</td>\n",
       "      <td>92918.707547</td>\n",
       "    </tr>\n",
       "    <tr>\n",
       "      <th>Колпино</th>\n",
       "      <td>207</td>\n",
       "      <td>74289.956522</td>\n",
       "    </tr>\n",
       "    <tr>\n",
       "      <th>Гатчина</th>\n",
       "      <td>187</td>\n",
       "      <td>67326.368984</td>\n",
       "    </tr>\n",
       "    <tr>\n",
       "      <th>Пушкин</th>\n",
       "      <td>187</td>\n",
       "      <td>97928.368984</td>\n",
       "    </tr>\n",
       "    <tr>\n",
       "      <th>Выборг</th>\n",
       "      <td>151</td>\n",
       "      <td>56179.384106</td>\n",
       "    </tr>\n",
       "  </tbody>\n",
       "</table>\n",
       "</div>"
      ],
      "text/plain": [
       "                   count           mean\n",
       "locality_name                          \n",
       "Санкт-Петербург     7674  103441.093432\n",
       "посёлок Мурино       359   85703.295265\n",
       "посёлок Шушары       310   77964.858065\n",
       "Всеволожск           253   67007.537549\n",
       "посёлок Парголово    229   89048.183406\n",
       "деревня Кудрово      212   92918.707547\n",
       "Колпино              207   74289.956522\n",
       "Гатчина              187   67326.368984\n",
       "Пушкин               187   97928.368984\n",
       "Выборг               151   56179.384106"
      ]
     },
     "execution_count": 101,
     "metadata": {},
     "output_type": "execute_result"
    }
   ],
   "source": [
    "ten_cities = final_data.pivot_table(index='locality_name', values='price_per_square_meter', aggfunc=['count', 'mean'])\n",
    "ten_cities.columns = ['count', 'mean']\n",
    "ten_cities.sort_values('count', ascending=False).head(10)"
   ]
  },
  {
   "cell_type": "markdown",
   "metadata": {},
   "source": [
    "На основании анализа данные среди городов с самым большим количеством объявлений самая высокая цена квадратного метра жилья в Санкт-Петербурге, самая низкая в Выборге"
   ]
  },
  {
   "cell_type": "code",
   "execution_count": 102,
   "metadata": {},
   "outputs": [
    {
     "data": {
      "text/html": [
       "<div>\n",
       "<style scoped>\n",
       "    .dataframe tbody tr th:only-of-type {\n",
       "        vertical-align: middle;\n",
       "    }\n",
       "\n",
       "    .dataframe tbody tr th {\n",
       "        vertical-align: top;\n",
       "    }\n",
       "\n",
       "    .dataframe thead th {\n",
       "        text-align: right;\n",
       "    }\n",
       "</style>\n",
       "<table border=\"1\" class=\"dataframe\">\n",
       "  <thead>\n",
       "    <tr style=\"text-align: right;\">\n",
       "      <th></th>\n",
       "      <th>last_price</th>\n",
       "      <th>price_per_square_meter</th>\n",
       "    </tr>\n",
       "    <tr>\n",
       "      <th>final_data</th>\n",
       "      <th></th>\n",
       "      <th></th>\n",
       "    </tr>\n",
       "  </thead>\n",
       "  <tbody>\n",
       "    <tr>\n",
       "      <th>0.0</th>\n",
       "      <td>6100000</td>\n",
       "      <td>126560.0</td>\n",
       "    </tr>\n",
       "    <tr>\n",
       "      <th>1.0</th>\n",
       "      <td>7700000</td>\n",
       "      <td>106172.0</td>\n",
       "    </tr>\n",
       "    <tr>\n",
       "      <th>2.0</th>\n",
       "      <td>8200000</td>\n",
       "      <td>112307.0</td>\n",
       "    </tr>\n",
       "    <tr>\n",
       "      <th>3.0</th>\n",
       "      <td>6250000</td>\n",
       "      <td>106394.0</td>\n",
       "    </tr>\n",
       "    <tr>\n",
       "      <th>4.0</th>\n",
       "      <td>6900000</td>\n",
       "      <td>112333.0</td>\n",
       "    </tr>\n",
       "  </tbody>\n",
       "</table>\n",
       "</div>"
      ],
      "text/plain": [
       "            last_price  price_per_square_meter\n",
       "final_data                                    \n",
       "0.0            6100000                126560.0\n",
       "1.0            7700000                106172.0\n",
       "2.0            8200000                112307.0\n",
       "3.0            6250000                106394.0\n",
       "4.0            6900000                112333.0"
      ]
     },
     "execution_count": 102,
     "metadata": {},
     "output_type": "execute_result"
    }
   ],
   "source": [
    "data['city_centers_km'] = round(data['city_centers_nearest'] / 1000, 0)\n",
    "data['final_data'] = data['city_centers_km'].astype('int', errors='ignore')\n",
    "final_data = data[(data['final_large_area'] == False) & \n",
    "     (data['final_expensive'] == False) &\n",
    "     (data['final_rooms'] == False) &\n",
    "     (data['final_ceiling'] == False) &\n",
    "     (data['slow_sale'] == False) &\n",
    "     (data['fast_sale'] == False)].reset_index(drop=True)\n",
    "\n",
    "final_data.loc[(final_data['locality_name'] == 'Санкт-Петербург') & (final_data['city_centers_km'].notna()), 'city_centers_km'].apply(round)\n",
    "spb_city = final_data.query('locality_name == \"Санкт-Петербург\"')\n",
    "spb_center = spb_city.pivot_table(index='final_data', values=['price_per_square_meter', 'last_price'], aggfunc='median')\n",
    "spb_center.head()"
   ]
  },
  {
   "cell_type": "code",
   "execution_count": 103,
   "metadata": {},
   "outputs": [
    {
     "data": {
      "image/png": "[encoded data removed]",
      "text/plain": [
       "<Figure size 432x288 with 1 Axes>"
      ]
     },
     "metadata": {
      "needs_background": "light"
     },
     "output_type": "display_data"
    }
   ],
   "source": [
    "sns.lineplot(x=spb_center.index, y='last_price', data=spb_center).grid ()\n",
    "plt.title('Зависимость цены от расстояния')\n",
    "plt.ylabel('Цена')\n",
    "plt.xlabel('Расстояние')\n",
    "plt.show()"
   ]
  },
  {
   "cell_type": "markdown",
   "metadata": {},
   "source": [
    "Изучив график видим, что резкое падение стоимости происходит на растоянии 7 километров от центра города. Возьмеи за центральную зону расстояние до 7 киломестров"
   ]
  },
  {
   "cell_type": "code",
   "execution_count": 104,
   "metadata": {},
   "outputs": [
    {
     "data": {
      "text/html": [
       "<div>\n",
       "<style scoped>\n",
       "    .dataframe tbody tr th:only-of-type {\n",
       "        vertical-align: middle;\n",
       "    }\n",
       "\n",
       "    .dataframe tbody tr th {\n",
       "        vertical-align: top;\n",
       "    }\n",
       "\n",
       "    .dataframe thead th {\n",
       "        text-align: right;\n",
       "    }\n",
       "</style>\n",
       "<table border=\"1\" class=\"dataframe\">\n",
       "  <thead>\n",
       "    <tr style=\"text-align: right;\">\n",
       "      <th></th>\n",
       "      <th>total_area</th>\n",
       "      <th>last_price</th>\n",
       "      <th>rooms</th>\n",
       "      <th>ceiling_height</th>\n",
       "    </tr>\n",
       "  </thead>\n",
       "  <tbody>\n",
       "    <tr>\n",
       "      <th>count</th>\n",
       "      <td>825.000000</td>\n",
       "      <td>8.250000e+02</td>\n",
       "      <td>825.000000</td>\n",
       "      <td>825.00000</td>\n",
       "    </tr>\n",
       "    <tr>\n",
       "      <th>mean</th>\n",
       "      <td>61.519491</td>\n",
       "      <td>7.086143e+06</td>\n",
       "      <td>2.122424</td>\n",
       "      <td>2.65703</td>\n",
       "    </tr>\n",
       "    <tr>\n",
       "      <th>std</th>\n",
       "      <td>20.054537</td>\n",
       "      <td>2.141633e+06</td>\n",
       "      <td>0.915505</td>\n",
       "      <td>0.07126</td>\n",
       "    </tr>\n",
       "    <tr>\n",
       "      <th>min</th>\n",
       "      <td>12.000000</td>\n",
       "      <td>2.400000e+06</td>\n",
       "      <td>0.000000</td>\n",
       "      <td>2.46000</td>\n",
       "    </tr>\n",
       "    <tr>\n",
       "      <th>25%</th>\n",
       "      <td>45.000000</td>\n",
       "      <td>5.400000e+06</td>\n",
       "      <td>1.000000</td>\n",
       "      <td>2.65000</td>\n",
       "    </tr>\n",
       "    <tr>\n",
       "      <th>50%</th>\n",
       "      <td>60.000000</td>\n",
       "      <td>6.850000e+06</td>\n",
       "      <td>2.000000</td>\n",
       "      <td>2.65000</td>\n",
       "    </tr>\n",
       "    <tr>\n",
       "      <th>75%</th>\n",
       "      <td>75.000000</td>\n",
       "      <td>8.600000e+06</td>\n",
       "      <td>3.000000</td>\n",
       "      <td>2.65000</td>\n",
       "    </tr>\n",
       "    <tr>\n",
       "      <th>max</th>\n",
       "      <td>114.200000</td>\n",
       "      <td>1.186686e+07</td>\n",
       "      <td>6.000000</td>\n",
       "      <td>2.85000</td>\n",
       "    </tr>\n",
       "  </tbody>\n",
       "</table>\n",
       "</div>"
      ],
      "text/plain": [
       "       total_area    last_price       rooms  ceiling_height\n",
       "count  825.000000  8.250000e+02  825.000000       825.00000\n",
       "mean    61.519491  7.086143e+06    2.122424         2.65703\n",
       "std     20.054537  2.141633e+06    0.915505         0.07126\n",
       "min     12.000000  2.400000e+06    0.000000         2.46000\n",
       "25%     45.000000  5.400000e+06    1.000000         2.65000\n",
       "50%     60.000000  6.850000e+06    2.000000         2.65000\n",
       "75%     75.000000  8.600000e+06    3.000000         2.65000\n",
       "max    114.200000  1.186686e+07    6.000000         2.85000"
      ]
     },
     "execution_count": 104,
     "metadata": {},
     "output_type": "execute_result"
    }
   ],
   "source": [
    "spb_center = final_data[(final_data['city_centers_km'] <= 7) & (final_data['locality_name'] == 'Санкт-Петербург')]\n",
    "spb_center[['total_area', 'last_price', 'rooms', 'ceiling_height']].describe()"
   ]
  },
  {
   "cell_type": "code",
   "execution_count": 105,
   "metadata": {},
   "outputs": [
    {
     "data": {
      "text/plain": [
       "<AxesSubplot:xlabel='total_area'>"
      ]
     },
     "execution_count": 105,
     "metadata": {},
     "output_type": "execute_result"
    },
    {
     "data": {
      "image/png": "[encoded data removed]",
      "text/plain": [
       "<Figure size 432x288 with 1 Axes>"
      ]
     },
     "metadata": {
      "needs_background": "light"
     },
     "output_type": "display_data"
    }
   ],
   "source": [
    "sns.boxplot(spb_center['total_area'])"
   ]
  },
  {
   "cell_type": "code",
   "execution_count": 106,
   "metadata": {},
   "outputs": [
    {
     "data": {
      "text/plain": [
       "<AxesSubplot:xlabel='last_price'>"
      ]
     },
     "execution_count": 106,
     "metadata": {},
     "output_type": "execute_result"
    },
    {
     "data": {
      "image/png": "[encoded data removed]",
      "text/plain": [
       "<Figure size 432x288 with 1 Axes>"
      ]
     },
     "metadata": {
      "needs_background": "light"
     },
     "output_type": "display_data"
    }
   ],
   "source": [
    "sns.boxplot(spb_center['last_price'])"
   ]
  },
  {
   "cell_type": "code",
   "execution_count": 107,
   "metadata": {},
   "outputs": [
    {
     "data": {
      "text/plain": [
       "<AxesSubplot:xlabel='rooms'>"
      ]
     },
     "execution_count": 107,
     "metadata": {},
     "output_type": "execute_result"
    },
    {
     "data": {
      "image/png": "[encoded data removed]",
      "text/plain": [
       "<Figure size 432x288 with 1 Axes>"
      ]
     },
     "metadata": {
      "needs_background": "light"
     },
     "output_type": "display_data"
    }
   ],
   "source": [
    "sns.boxplot(spb_center['rooms'])"
   ]
  },
  {
   "cell_type": "code",
   "execution_count": 108,
   "metadata": {},
   "outputs": [
    {
     "data": {
      "text/plain": [
       "<AxesSubplot:xlabel='ceiling_height'>"
      ]
     },
     "execution_count": 108,
     "metadata": {},
     "output_type": "execute_result"
    },
    {
     "data": {
      "image/png": "[encoded data removed]",
      "text/plain": [
       "<Figure size 432x288 with 1 Axes>"
      ]
     },
     "metadata": {
      "needs_background": "light"
     },
     "output_type": "display_data"
    }
   ],
   "source": [
    "sns.boxplot(spb_center['ceiling_height'])"
   ]
  },
  {
   "cell_type": "markdown",
   "metadata": {},
   "source": [
    "На основании данных можно сделать следующие выводы - средняя площадь продаваемых квартир в центре Санкт-Петербурга больше чем в общих данных ( 60 кв.м. и 52 соотвественно), по прежнему чаше на рынке преставлены двхкомнатные квартиры, средняя цена ожидаемо выше в центре Санк-Петербрга по отношению с общими данными (6,8 млн. рублей центр гоода и 4,8 для общих данных, средняя высота потолков не отличается."
   ]
  },
  {
   "cell_type": "code",
   "execution_count": 109,
   "metadata": {},
   "outputs": [
    {
     "data": {
      "text/html": [
       "<style  type=\"text/css\" >\n",
       "#T_06c1a_row0_col0,#T_06c1a_row1_col1,#T_06c1a_row2_col2,#T_06c1a_row3_col3,#T_06c1a_row4_col4,#T_06c1a_row5_col5,#T_06c1a_row6_col6,#T_06c1a_row7_col7{\n",
       "            background-color:  #b40426;\n",
       "            color:  #f1f1f1;\n",
       "        }#T_06c1a_row0_col1{\n",
       "            background-color:  #f4987a;\n",
       "            color:  #000000;\n",
       "        }#T_06c1a_row0_col2{\n",
       "            background-color:  #e0dbd8;\n",
       "            color:  #000000;\n",
       "        }#T_06c1a_row0_col3{\n",
       "            background-color:  #97b8ff;\n",
       "            color:  #000000;\n",
       "        }#T_06c1a_row0_col4,#T_06c1a_row0_col5,#T_06c1a_row1_col7,#T_06c1a_row5_col7{\n",
       "            background-color:  #4f69d9;\n",
       "            color:  #000000;\n",
       "        }#T_06c1a_row0_col6,#T_06c1a_row7_col3{\n",
       "            background-color:  #6f92f3;\n",
       "            color:  #000000;\n",
       "        }#T_06c1a_row0_col7,#T_06c1a_row1_col6,#T_06c1a_row3_col7,#T_06c1a_row6_col2{\n",
       "            background-color:  #779af7;\n",
       "            color:  #000000;\n",
       "        }#T_06c1a_row1_col0{\n",
       "            background-color:  #f5a081;\n",
       "            color:  #000000;\n",
       "        }#T_06c1a_row1_col2{\n",
       "            background-color:  #eb7d62;\n",
       "            color:  #000000;\n",
       "        }#T_06c1a_row1_col3{\n",
       "            background-color:  #5875e1;\n",
       "            color:  #000000;\n",
       "        }#T_06c1a_row1_col4,#T_06c1a_row2_col3,#T_06c1a_row2_col4,#T_06c1a_row2_col5,#T_06c1a_row4_col0,#T_06c1a_row4_col1,#T_06c1a_row4_col2,#T_06c1a_row6_col7,#T_06c1a_row7_col6{\n",
       "            background-color:  #3b4cc0;\n",
       "            color:  #f1f1f1;\n",
       "        }#T_06c1a_row1_col5{\n",
       "            background-color:  #4358cb;\n",
       "            color:  #f1f1f1;\n",
       "        }#T_06c1a_row2_col0{\n",
       "            background-color:  #d7dce3;\n",
       "            color:  #000000;\n",
       "        }#T_06c1a_row2_col1{\n",
       "            background-color:  #ea7b60;\n",
       "            color:  #000000;\n",
       "        }#T_06c1a_row2_col6{\n",
       "            background-color:  #7a9df8;\n",
       "            color:  #000000;\n",
       "        }#T_06c1a_row2_col7,#T_06c1a_row5_col1{\n",
       "            background-color:  #5470de;\n",
       "            color:  #000000;\n",
       "        }#T_06c1a_row3_col0{\n",
       "            background-color:  #8caffe;\n",
       "            color:  #000000;\n",
       "        }#T_06c1a_row3_col1{\n",
       "            background-color:  #5f7fe8;\n",
       "            color:  #000000;\n",
       "        }#T_06c1a_row3_col2{\n",
       "            background-color:  #4055c8;\n",
       "            color:  #f1f1f1;\n",
       "        }#T_06c1a_row3_col4{\n",
       "            background-color:  #c4d5f3;\n",
       "            color:  #000000;\n",
       "        }#T_06c1a_row3_col5{\n",
       "            background-color:  #6384eb;\n",
       "            color:  #000000;\n",
       "        }#T_06c1a_row3_col6,#T_06c1a_row5_col4,#T_06c1a_row6_col4{\n",
       "            background-color:  #7597f6;\n",
       "            color:  #000000;\n",
       "        }#T_06c1a_row4_col3{\n",
       "            background-color:  #bfd3f6;\n",
       "            color:  #000000;\n",
       "        }#T_06c1a_row4_col5{\n",
       "            background-color:  #6485ec;\n",
       "            color:  #000000;\n",
       "        }#T_06c1a_row4_col6,#T_06c1a_row6_col1{\n",
       "            background-color:  #7699f6;\n",
       "            color:  #000000;\n",
       "        }#T_06c1a_row4_col7{\n",
       "            background-color:  #80a3fa;\n",
       "            color:  #000000;\n",
       "        }#T_06c1a_row5_col0,#T_06c1a_row5_col2{\n",
       "            background-color:  #4a63d3;\n",
       "            color:  #f1f1f1;\n",
       "        }#T_06c1a_row5_col3,#T_06c1a_row6_col3{\n",
       "            background-color:  #6b8df0;\n",
       "            color:  #000000;\n",
       "        }#T_06c1a_row5_col6{\n",
       "            background-color:  #5b7ae5;\n",
       "            color:  #000000;\n",
       "        }#T_06c1a_row6_col0{\n",
       "            background-color:  #5977e3;\n",
       "            color:  #000000;\n",
       "        }#T_06c1a_row6_col5{\n",
       "            background-color:  #4961d2;\n",
       "            color:  #f1f1f1;\n",
       "        }#T_06c1a_row7_col0{\n",
       "            background-color:  #6282ea;\n",
       "            color:  #000000;\n",
       "        }#T_06c1a_row7_col1{\n",
       "            background-color:  #4e68d8;\n",
       "            color:  #000000;\n",
       "        }#T_06c1a_row7_col2{\n",
       "            background-color:  #516ddb;\n",
       "            color:  #000000;\n",
       "        }#T_06c1a_row7_col4{\n",
       "            background-color:  #7ea1fa;\n",
       "            color:  #000000;\n",
       "        }#T_06c1a_row7_col5{\n",
       "            background-color:  #3d50c3;\n",
       "            color:  #f1f1f1;\n",
       "        }</style><table id=\"T_06c1a_\" ><thead>    <tr>        <th class=\"blank level0\" ></th>        <th class=\"col_heading level0 col0\" >last_price</th>        <th class=\"col_heading level0 col1\" >total_area</th>        <th class=\"col_heading level0 col2\" >rooms</th>        <th class=\"col_heading level0 col3\" >floor</th>        <th class=\"col_heading level0 col4\" >city_centers_nearest</th>        <th class=\"col_heading level0 col5\" >day</th>        <th class=\"col_heading level0 col6\" >month</th>        <th class=\"col_heading level0 col7\" >year</th>    </tr></thead><tbody>\n",
       "                <tr>\n",
       "                        <th id=\"T_06c1a_level0_row0\" class=\"row_heading level0 row0\" >last_price</th>\n",
       "                        <td id=\"T_06c1a_row0_col0\" class=\"data row0 col0\" >1.000000</td>\n",
       "                        <td id=\"T_06c1a_row0_col1\" class=\"data row0 col1\" >0.711748</td>\n",
       "                        <td id=\"T_06c1a_row0_col2\" class=\"data row0 col2\" >0.437353</td>\n",
       "                        <td id=\"T_06c1a_row0_col3\" class=\"data row0 col3\" >0.186780</td>\n",
       "                        <td id=\"T_06c1a_row0_col4\" class=\"data row0 col4\" >-0.082105</td>\n",
       "                        <td id=\"T_06c1a_row0_col5\" class=\"data row0 col5\" >-0.023704</td>\n",
       "                        <td id=\"T_06c1a_row0_col6\" class=\"data row0 col6\" >0.024786</td>\n",
       "                        <td id=\"T_06c1a_row0_col7\" class=\"data row0 col7\" >0.053670</td>\n",
       "            </tr>\n",
       "            <tr>\n",
       "                        <th id=\"T_06c1a_level0_row1\" class=\"row_heading level0 row1\" >total_area</th>\n",
       "                        <td id=\"T_06c1a_row1_col0\" class=\"data row1 col0\" >0.711748</td>\n",
       "                        <td id=\"T_06c1a_row1_col1\" class=\"data row1 col1\" >1.000000</td>\n",
       "                        <td id=\"T_06c1a_row1_col2\" class=\"data row1 col2\" >0.787087</td>\n",
       "                        <td id=\"T_06c1a_row1_col3\" class=\"data row1 col3\" >-0.024106</td>\n",
       "                        <td id=\"T_06c1a_row1_col4\" class=\"data row1 col4\" >-0.161252</td>\n",
       "                        <td id=\"T_06c1a_row1_col5\" class=\"data row1 col5\" >-0.064627</td>\n",
       "                        <td id=\"T_06c1a_row1_col6\" class=\"data row1 col6\" >0.055499</td>\n",
       "                        <td id=\"T_06c1a_row1_col7\" class=\"data row1 col7\" >-0.088546</td>\n",
       "            </tr>\n",
       "            <tr>\n",
       "                        <th id=\"T_06c1a_level0_row2\" class=\"row_heading level0 row2\" >rooms</th>\n",
       "                        <td id=\"T_06c1a_row2_col0\" class=\"data row2 col0\" >0.437353</td>\n",
       "                        <td id=\"T_06c1a_row2_col1\" class=\"data row2 col1\" >0.787087</td>\n",
       "                        <td id=\"T_06c1a_row2_col2\" class=\"data row2 col2\" >1.000000</td>\n",
       "                        <td id=\"T_06c1a_row2_col3\" class=\"data row2 col3\" >-0.131416</td>\n",
       "                        <td id=\"T_06c1a_row2_col4\" class=\"data row2 col4\" >-0.157678</td>\n",
       "                        <td id=\"T_06c1a_row2_col5\" class=\"data row2 col5\" >-0.097201</td>\n",
       "                        <td id=\"T_06c1a_row2_col6\" class=\"data row2 col6\" >0.062910</td>\n",
       "                        <td id=\"T_06c1a_row2_col7\" class=\"data row2 col7\" >-0.071548</td>\n",
       "            </tr>\n",
       "            <tr>\n",
       "                        <th id=\"T_06c1a_level0_row3\" class=\"row_heading level0 row3\" >floor</th>\n",
       "                        <td id=\"T_06c1a_row3_col0\" class=\"data row3 col0\" >0.186780</td>\n",
       "                        <td id=\"T_06c1a_row3_col1\" class=\"data row3 col1\" >-0.024106</td>\n",
       "                        <td id=\"T_06c1a_row3_col2\" class=\"data row3 col2\" >-0.131416</td>\n",
       "                        <td id=\"T_06c1a_row3_col3\" class=\"data row3 col3\" >1.000000</td>\n",
       "                        <td id=\"T_06c1a_row3_col4\" class=\"data row3 col4\" >0.318860</td>\n",
       "                        <td id=\"T_06c1a_row3_col5\" class=\"data row3 col5\" >0.044571</td>\n",
       "                        <td id=\"T_06c1a_row3_col6\" class=\"data row3 col6\" >0.042245</td>\n",
       "                        <td id=\"T_06c1a_row3_col7\" class=\"data row3 col7\" >0.054495</td>\n",
       "            </tr>\n",
       "            <tr>\n",
       "                        <th id=\"T_06c1a_level0_row4\" class=\"row_heading level0 row4\" >city_centers_nearest</th>\n",
       "                        <td id=\"T_06c1a_row4_col0\" class=\"data row4 col0\" >-0.082105</td>\n",
       "                        <td id=\"T_06c1a_row4_col1\" class=\"data row4 col1\" >-0.161252</td>\n",
       "                        <td id=\"T_06c1a_row4_col2\" class=\"data row4 col2\" >-0.157678</td>\n",
       "                        <td id=\"T_06c1a_row4_col3\" class=\"data row4 col3\" >0.318860</td>\n",
       "                        <td id=\"T_06c1a_row4_col4\" class=\"data row4 col4\" >1.000000</td>\n",
       "                        <td id=\"T_06c1a_row4_col5\" class=\"data row4 col5\" >0.051878</td>\n",
       "                        <td id=\"T_06c1a_row4_col6\" class=\"data row4 col6\" >0.050245</td>\n",
       "                        <td id=\"T_06c1a_row4_col7\" class=\"data row4 col7\" >0.079576</td>\n",
       "            </tr>\n",
       "            <tr>\n",
       "                        <th id=\"T_06c1a_level0_row5\" class=\"row_heading level0 row5\" >day</th>\n",
       "                        <td id=\"T_06c1a_row5_col0\" class=\"data row5 col0\" >-0.023704</td>\n",
       "                        <td id=\"T_06c1a_row5_col1\" class=\"data row5 col1\" >-0.064627</td>\n",
       "                        <td id=\"T_06c1a_row5_col2\" class=\"data row5 col2\" >-0.097201</td>\n",
       "                        <td id=\"T_06c1a_row5_col3\" class=\"data row5 col3\" >0.044571</td>\n",
       "                        <td id=\"T_06c1a_row5_col4\" class=\"data row5 col4\" >0.051878</td>\n",
       "                        <td id=\"T_06c1a_row5_col5\" class=\"data row5 col5\" >1.000000</td>\n",
       "                        <td id=\"T_06c1a_row5_col6\" class=\"data row5 col6\" >-0.043024</td>\n",
       "                        <td id=\"T_06c1a_row5_col7\" class=\"data row5 col7\" >-0.087326</td>\n",
       "            </tr>\n",
       "            <tr>\n",
       "                        <th id=\"T_06c1a_level0_row6\" class=\"row_heading level0 row6\" >month</th>\n",
       "                        <td id=\"T_06c1a_row6_col0\" class=\"data row6 col0\" >0.024786</td>\n",
       "                        <td id=\"T_06c1a_row6_col1\" class=\"data row6 col1\" >0.055499</td>\n",
       "                        <td id=\"T_06c1a_row6_col2\" class=\"data row6 col2\" >0.062910</td>\n",
       "                        <td id=\"T_06c1a_row6_col3\" class=\"data row6 col3\" >0.042245</td>\n",
       "                        <td id=\"T_06c1a_row6_col4\" class=\"data row6 col4\" >0.050245</td>\n",
       "                        <td id=\"T_06c1a_row6_col5\" class=\"data row6 col5\" >-0.043024</td>\n",
       "                        <td id=\"T_06c1a_row6_col6\" class=\"data row6 col6\" >1.000000</td>\n",
       "                        <td id=\"T_06c1a_row6_col7\" class=\"data row6 col7\" >-0.167846</td>\n",
       "            </tr>\n",
       "            <tr>\n",
       "                        <th id=\"T_06c1a_level0_row7\" class=\"row_heading level0 row7\" >year</th>\n",
       "                        <td id=\"T_06c1a_row7_col0\" class=\"data row7 col0\" >0.053670</td>\n",
       "                        <td id=\"T_06c1a_row7_col1\" class=\"data row7 col1\" >-0.088546</td>\n",
       "                        <td id=\"T_06c1a_row7_col2\" class=\"data row7 col2\" >-0.071548</td>\n",
       "                        <td id=\"T_06c1a_row7_col3\" class=\"data row7 col3\" >0.054495</td>\n",
       "                        <td id=\"T_06c1a_row7_col4\" class=\"data row7 col4\" >0.079576</td>\n",
       "                        <td id=\"T_06c1a_row7_col5\" class=\"data row7 col5\" >-0.087326</td>\n",
       "                        <td id=\"T_06c1a_row7_col6\" class=\"data row7 col6\" >-0.167846</td>\n",
       "                        <td id=\"T_06c1a_row7_col7\" class=\"data row7 col7\" >1.000000</td>\n",
       "            </tr>\n",
       "    </tbody></table>"
      ],
      "text/plain": [
       "<pandas.io.formats.style.Styler at 0x7ff97b754730>"
      ]
     },
     "execution_count": 109,
     "metadata": {},
     "output_type": "execute_result"
    }
   ],
   "source": [
    "corr = spb_center[['last_price',\\\n",
    "                   'total_area',\\\n",
    "           'rooms',\\\n",
    "           'floor',\\\n",
    "           'city_centers_nearest',\\\n",
    "           'day',\\\n",
    "           'month',\\\n",
    "            'year'    \n",
    "               ]].corr()\n",
    "corr.style.background_gradient(cmap='coolwarm')"
   ]
  },
  {
   "cell_type": "markdown",
   "metadata": {},
   "source": [
    "На основании анализа данных можно сделать следующие выводы. На стоимость квартиры, как в центре Санкт-Петербурга, так и в общих данных значительное влияние оказывают количество комнат и общая площадь помещения. Этаж расположения квартиры как для центральной части Санкт-Пербурга, так и по базе данных оказывает слабое влияние на цену объекта. А вот расстояние от центральной части города в Санкт-Петербурге значительно влияет на стоимость квартиры, нежели в общих данных по области. Чем дальше от центра Санкт-Петербурга, тем быстрее снижается цена. Даты публикации объявлений также как и по базе данных в целом оказывают довольно слабое влияние на цену квартиры."
   ]
  },
  {
   "cell_type": "markdown",
   "metadata": {},
   "source": [
    "Комментарий студента: по аналогии с анализом базы данных об объектах недвижимости в целом по Ленинградской области, применим анализ нелинейной зависимости построив графики медианной цены для центральной части Санкт-Петербурга"
   ]
  },
  {
   "cell_type": "code",
   "execution_count": 110,
   "metadata": {},
   "outputs": [
    {
     "data": {
      "text/plain": [
       "<AxesSubplot:xlabel='total_area'>"
      ]
     },
     "execution_count": 110,
     "metadata": {},
     "output_type": "execute_result"
    },
    {
     "data": {
      "image/png": "[encoded data removed]",
      "text/plain": [
       "<Figure size 432x288 with 1 Axes>"
      ]
     },
     "metadata": {
      "needs_background": "light"
     },
     "output_type": "display_data"
    }
   ],
   "source": [
    "spb_center.groupby('total_area').agg({'price_per_square_meter': 'median'}).plot()"
   ]
  },
  {
   "cell_type": "code",
   "execution_count": 111,
   "metadata": {},
   "outputs": [
    {
     "data": {
      "text/plain": [
       "<AxesSubplot:xlabel='rooms'>"
      ]
     },
     "execution_count": 111,
     "metadata": {},
     "output_type": "execute_result"
    },
    {
     "data": {
      "image/png": "[encoded data removed]",
      "text/plain": [
       "<Figure size 432x288 with 1 Axes>"
      ]
     },
     "metadata": {
      "needs_background": "light"
     },
     "output_type": "display_data"
    }
   ],
   "source": [
    "spb_center.groupby('rooms').agg({'price_per_square_meter': 'median'}).plot()"
   ]
  },
  {
   "cell_type": "code",
   "execution_count": 112,
   "metadata": {},
   "outputs": [
    {
     "data": {
      "text/plain": [
       "<AxesSubplot:xlabel='floor'>"
      ]
     },
     "execution_count": 112,
     "metadata": {},
     "output_type": "execute_result"
    },
    {
     "data": {
      "image/png": "[encoded data removed]",
      "text/plain": [
       "<Figure size 432x288 with 1 Axes>"
      ]
     },
     "metadata": {
      "needs_background": "light"
     },
     "output_type": "display_data"
    }
   ],
   "source": [
    "spb_center.groupby('floor').agg({'price_per_square_meter': 'median'}).plot()"
   ]
  },
  {
   "cell_type": "code",
   "execution_count": 113,
   "metadata": {},
   "outputs": [
    {
     "data": {
      "text/plain": [
       "<AxesSubplot:xlabel='city_centers_nearest'>"
      ]
     },
     "execution_count": 113,
     "metadata": {},
     "output_type": "execute_result"
    },
    {
     "data": {
      "image/png": "[encoded data removed]",
      "text/plain": [
       "<Figure size 432x288 with 1 Axes>"
      ]
     },
     "metadata": {
      "needs_background": "light"
     },
     "output_type": "display_data"
    }
   ],
   "source": [
    "spb_center.groupby('city_centers_nearest').agg({'price_per_square_meter': 'median'}).plot()"
   ]
  },
  {
   "cell_type": "code",
   "execution_count": 114,
   "metadata": {},
   "outputs": [
    {
     "data": {
      "text/plain": [
       "<AxesSubplot:xlabel='year'>"
      ]
     },
     "execution_count": 114,
     "metadata": {},
     "output_type": "execute_result"
    },
    {
     "data": {
      "image/png": "[encoded data removed]",
      "text/plain": [
       "<Figure size 432x288 with 1 Axes>"
      ]
     },
     "metadata": {
      "needs_background": "light"
     },
     "output_type": "display_data"
    }
   ],
   "source": [
    "spb_center.groupby('year').agg({'price_per_square_meter': 'median'}).plot()"
   ]
  },
  {
   "cell_type": "markdown",
   "metadata": {},
   "source": [
    "На основании проведенного анализа,для объектов недвижимости расположенных в центральной части Санкт-Петербурга, зависимости цены квадратного метра от выбранных параметров можно сделать следующие выводы:\n",
    "1. В квартирах большей площадью стоимость квадратного метра ниже\n",
    "2. Этот эффектмы видим на графике с колличеством комнат в объекте недвижимоти, чем больше комнат тем ниже стоимость квадратного метра\n",
    "3. Для центра большого мегаполиса характерно, что покупатели начинаю отдавать предпочтение верхним этажам\n",
    "4. По всей центральной части Санкт-Петербурга наблюдаем равномерное распределение стоимости за квадратный метр, без существеного снижения от центральной части к границам\n",
    "5. Как видно из графика распредения данных по годам, наблюдался устойчивый рост цен на рынке недвижимости, но и сдесь можно отметить достаточно резкий скачек после 2018 года"
   ]
  },
  {
   "cell_type": "markdown",
   "metadata": {},
   "source": [
    "## Общий вывод"
   ]
  },
  {
   "cell_type": "markdown",
   "metadata": {},
   "source": [
    "После проведенных исследований можно сделать выводы:\n",
    "1. Самые распростанненых квартиры представленные на рыенке недвижимости Санкт-Терербурга и окресных говодов - это двухкомнатная квартира площадью 50-60 квадратных метров\n",
    "2. Влияние на цену этажа расположения квартиры снижается ближе к центральным районам городов\n",
    "3. Растояние от центра города оказывает значительное вляние на стоимость квартиры, центральные районы всегда предпочтительнее окраин.\n",
    "\n"
   ]
  },
  {
   "cell_type": "markdown",
   "metadata": {},
   "source": [
    "# Чек-лист готовности проекта\n",
    "\n",
    "Поставьте 'x' в выполненных пунктах. Далее нажмите Shift+Enter."
   ]
  },
  {
   "cell_type": "markdown",
   "metadata": {},
   "source": [
    "- [x]  открыт файл\n",
    "- [x]  определены пропущенные значения\n",
    "- [x]  заполнены пропущенные значения\n",
    "- [x]  есть пояснение, какие пропущенные значения обнаружены\n",
    "- [x]  изменены типы данных\n",
    "- [x]  есть пояснение, в каких столбцах изменены типы и почему\n",
    "- [x]  посчитано и добавлено в таблицу: цена квадратного метра\n",
    "- [x]  посчитано и добавлено в таблицу: день недели, месяц и год публикации объявления\n",
    "- [x]  посчитано и добавлено в таблицу: этаж квартиры; варианты — первый, последний, другой\n",
    "- [x]  посчитано и добавлено в таблицу: соотношение жилой и общей площади, а также отношение площади кухни к общей\n",
    "- [x]  изучены следующие параметры: площадь, цена, число комнат, высота потолков\n",
    "- [x]  построены гистограммы для каждого параметра\n",
    "- [x]  выполнено задание: «Изучите время продажи квартиры. Постройте гистограмму. Посчитайте среднее и медиану. Опишите, сколько обычно занимает продажа. Когда можно считать, что продажи прошли очень быстро, а когда необычно долго?»\n",
    "- [x]  выполнено задание: «Уберите редкие и выбивающиеся значения. Опишите, какие особенности обнаружили».\n",
    "- [x]  выполнено задание: «Какие факторы больше всего влияют на стоимость квартиры? Изучите, зависит ли цена от квадратного метра, числа комнат, этажа (первого или последнего), удалённости от центра. Также изучите зависимость от даты размещения: дня недели, месяца и года». \n",
    "- [x]  выполнено задание: «Выберите 10 населённых пунктов с наибольшим числом объявлений. Посчитайте среднюю цену квадратного метра в этих населённых пунктах. Выделите населённые пункты с самой высокой и низкой стоимостью жилья. Эти данные можно найти по имени в столбце `locality_name`».\n",
    "- [x]  выполнено задание: «Изучите предложения квартир: для каждой квартиры есть информация о расстоянии до центра. Выделите квартиры в Санкт-Петербурге (`locality_name`). Ваша задача — выяснить, какая область входит в центр. Создайте столбец с расстоянием до центра в километрах: округлите до целых значений. После этого посчитайте среднюю цену для каждого километра. Постройте график: он должен показывать, как цена зависит от удалённости от центра. Определите границу, где график сильно меняется — это и будет центральная зона».\n",
    "- [x]  выполнено задание: «Выделите сегмент квартир в центре. Проанализируйте эту территорию и изучите следующие параметры: площадь, цена, число комнат, высота потолков. Также выделите факторы, которые влияют на стоимость квартиры (число комнат, этаж, удалённость от центра, дата размещения объявления). Сделайте выводы. Отличаются ли они от общих выводов по всей базе?»\n",
    "- [x]  в каждом этапе есть выводы\n",
    "- [x]  есть общий вывод"
   ]
  }
 ],
 "metadata": {
  "ExecuteTimeLog": [
   {
    "duration": 866,
    "start_time": "2022-03-06T18:22:41.115Z"
   },
   {
    "duration": 27,
    "start_time": "2022-03-06T19:08:29.599Z"
   },
   {
    "duration": 3,
    "start_time": "2022-03-06T19:13:22.390Z"
   },
   {
    "duration": 25,
    "start_time": "2022-03-06T19:13:29.452Z"
   },
   {
    "duration": 71,
    "start_time": "2022-03-06T19:16:11.105Z"
   },
   {
    "duration": 71,
    "start_time": "2022-03-06T19:18:14.815Z"
   },
   {
    "duration": 65,
    "start_time": "2022-03-06T19:19:05.016Z"
   },
   {
    "duration": 82,
    "start_time": "2022-03-06T19:19:58.831Z"
   },
   {
    "duration": 19,
    "start_time": "2022-03-06T19:21:00.643Z"
   },
   {
    "duration": 19,
    "start_time": "2022-03-06T19:21:37.861Z"
   },
   {
    "duration": 19,
    "start_time": "2022-03-06T19:21:45.505Z"
   },
   {
    "duration": 7,
    "start_time": "2022-03-06T19:22:52.206Z"
   },
   {
    "duration": 28,
    "start_time": "2022-03-06T19:23:18.744Z"
   },
   {
    "duration": 11,
    "start_time": "2022-03-06T19:24:06.265Z"
   },
   {
    "duration": 13,
    "start_time": "2022-03-06T19:24:17.789Z"
   },
   {
    "duration": 345,
    "start_time": "2022-03-06T19:27:25.490Z"
   },
   {
    "duration": 11,
    "start_time": "2022-03-06T19:27:49.026Z"
   },
   {
    "duration": 261,
    "start_time": "2022-03-06T19:31:00.436Z"
   },
   {
    "duration": 80,
    "start_time": "2022-03-06T19:33:05.871Z"
   },
   {
    "duration": 83,
    "start_time": "2022-03-06T19:34:09.743Z"
   },
   {
    "duration": 79,
    "start_time": "2022-03-06T19:34:41.496Z"
   },
   {
    "duration": 76,
    "start_time": "2022-03-06T19:34:55.866Z"
   },
   {
    "duration": 10,
    "start_time": "2022-03-06T19:35:26.016Z"
   },
   {
    "duration": 20,
    "start_time": "2022-03-06T19:36:36.114Z"
   },
   {
    "duration": 19,
    "start_time": "2022-03-06T19:37:28.290Z"
   },
   {
    "duration": 19,
    "start_time": "2022-03-06T19:37:38.880Z"
   },
   {
    "duration": 22,
    "start_time": "2022-03-06T19:37:47.520Z"
   },
   {
    "duration": 81,
    "start_time": "2022-03-06T20:16:10.306Z"
   },
   {
    "duration": 216,
    "start_time": "2022-03-06T20:16:42.360Z"
   },
   {
    "duration": 24,
    "start_time": "2022-03-06T20:19:16.896Z"
   },
   {
    "duration": 125,
    "start_time": "2022-03-06T20:22:19.856Z"
   },
   {
    "duration": 3,
    "start_time": "2022-03-06T20:22:23.846Z"
   },
   {
    "duration": 24,
    "start_time": "2022-03-06T20:22:25.806Z"
   },
   {
    "duration": 232,
    "start_time": "2022-03-06T20:22:41.369Z"
   },
   {
    "duration": 11,
    "start_time": "2022-03-06T20:22:56.608Z"
   },
   {
    "duration": 16,
    "start_time": "2022-03-06T20:23:29.844Z"
   },
   {
    "duration": 11,
    "start_time": "2022-03-06T20:23:53.812Z"
   },
   {
    "duration": 124,
    "start_time": "2022-03-06T20:24:00.967Z"
   },
   {
    "duration": 3,
    "start_time": "2022-03-06T20:24:10.738Z"
   },
   {
    "duration": 20,
    "start_time": "2022-03-06T20:24:13.734Z"
   },
   {
    "duration": 24,
    "start_time": "2022-03-06T20:25:34.998Z"
   },
   {
    "duration": 126,
    "start_time": "2022-03-06T20:25:54.834Z"
   },
   {
    "duration": 4,
    "start_time": "2022-03-06T20:25:58.227Z"
   },
   {
    "duration": 24,
    "start_time": "2022-03-06T20:26:01.824Z"
   },
   {
    "duration": 230,
    "start_time": "2022-03-06T20:26:22.107Z"
   },
   {
    "duration": 266,
    "start_time": "2022-03-06T20:27:11.070Z"
   },
   {
    "duration": 1519,
    "start_time": "2022-03-06T20:29:17.191Z"
   },
   {
    "duration": 25,
    "start_time": "2022-03-06T20:29:37.609Z"
   },
   {
    "duration": 23,
    "start_time": "2022-03-06T20:29:55.748Z"
   },
   {
    "duration": 73,
    "start_time": "2022-03-06T20:30:03.259Z"
   },
   {
    "duration": 16,
    "start_time": "2022-03-06T20:30:14.914Z"
   },
   {
    "duration": 5,
    "start_time": "2022-03-06T20:30:16.767Z"
   },
   {
    "duration": 122,
    "start_time": "2022-03-06T20:30:26.698Z"
   },
   {
    "duration": 3,
    "start_time": "2022-03-06T20:30:29.743Z"
   },
   {
    "duration": 23,
    "start_time": "2022-03-06T20:30:33.105Z"
   },
   {
    "duration": 247,
    "start_time": "2022-03-06T20:31:54.106Z"
   },
   {
    "duration": 12,
    "start_time": "2022-03-06T20:53:27.675Z"
   },
   {
    "duration": 7,
    "start_time": "2022-03-06T21:00:19.243Z"
   },
   {
    "duration": 7,
    "start_time": "2022-03-06T21:06:57.220Z"
   },
   {
    "duration": 12,
    "start_time": "2022-03-06T21:08:19.789Z"
   },
   {
    "duration": 18,
    "start_time": "2022-03-06T21:08:39.471Z"
   },
   {
    "duration": 8,
    "start_time": "2022-03-06T21:09:12.504Z"
   },
   {
    "duration": 239,
    "start_time": "2022-03-06T21:13:52.708Z"
   },
   {
    "duration": 22,
    "start_time": "2022-03-06T21:14:03.303Z"
   },
   {
    "duration": 27,
    "start_time": "2022-03-06T21:14:58.426Z"
   },
   {
    "duration": 18,
    "start_time": "2022-03-06T21:16:12.656Z"
   },
   {
    "duration": 19,
    "start_time": "2022-03-06T21:16:46.651Z"
   },
   {
    "duration": 10,
    "start_time": "2022-03-06T21:18:37.726Z"
   },
   {
    "duration": 18,
    "start_time": "2022-03-06T21:18:47.024Z"
   },
   {
    "duration": 21,
    "start_time": "2022-03-06T21:31:49.660Z"
   },
   {
    "duration": 11,
    "start_time": "2022-03-06T21:32:46.770Z"
   },
   {
    "duration": 256,
    "start_time": "2022-03-06T21:43:03.598Z"
   },
   {
    "duration": 11,
    "start_time": "2022-03-06T21:43:24.739Z"
   },
   {
    "duration": 22,
    "start_time": "2022-03-06T21:44:34.831Z"
   },
   {
    "duration": 25,
    "start_time": "2022-03-06T21:45:33.150Z"
   },
   {
    "duration": 289,
    "start_time": "2022-03-06T21:51:53.619Z"
   },
   {
    "duration": 25,
    "start_time": "2022-03-06T21:52:04.820Z"
   },
   {
    "duration": 23,
    "start_time": "2022-03-06T21:54:41.439Z"
   },
   {
    "duration": 12,
    "start_time": "2022-03-06T21:54:59.684Z"
   },
   {
    "duration": 16,
    "start_time": "2022-03-06T21:58:54.396Z"
   },
   {
    "duration": 6,
    "start_time": "2022-03-06T21:59:23.110Z"
   },
   {
    "duration": 5,
    "start_time": "2022-03-06T22:09:01.706Z"
   },
   {
    "duration": 223,
    "start_time": "2022-03-06T22:14:30.531Z"
   },
   {
    "duration": 14,
    "start_time": "2022-03-06T22:14:42.913Z"
   },
   {
    "duration": 9,
    "start_time": "2022-03-06T22:18:45.146Z"
   },
   {
    "duration": 11,
    "start_time": "2022-03-06T22:23:52.222Z"
   },
   {
    "duration": 53,
    "start_time": "2022-03-06T22:24:32.070Z"
   },
   {
    "duration": 297,
    "start_time": "2022-03-06T22:48:50.579Z"
   },
   {
    "duration": 69,
    "start_time": "2022-03-06T22:49:38.122Z"
   },
   {
    "duration": 216,
    "start_time": "2022-03-06T22:50:01.728Z"
   },
   {
    "duration": 269,
    "start_time": "2022-03-06T23:00:12.591Z"
   },
   {
    "duration": 822,
    "start_time": "2022-03-06T23:00:34.748Z"
   },
   {
    "duration": 826,
    "start_time": "2022-03-06T23:01:25.176Z"
   },
   {
    "duration": 861,
    "start_time": "2022-03-06T23:01:42.591Z"
   },
   {
    "duration": 849,
    "start_time": "2022-03-06T23:03:41.311Z"
   },
   {
    "duration": 257,
    "start_time": "2022-03-08T20:57:41.825Z"
   },
   {
    "duration": 712,
    "start_time": "2022-03-08T20:57:54.716Z"
   },
   {
    "duration": 8,
    "start_time": "2022-03-08T20:57:55.430Z"
   },
   {
    "duration": 10,
    "start_time": "2022-03-08T20:57:55.440Z"
   },
   {
    "duration": 5,
    "start_time": "2022-03-08T20:57:55.452Z"
   },
   {
    "duration": 11,
    "start_time": "2022-03-08T20:57:55.459Z"
   },
   {
    "duration": 15,
    "start_time": "2022-03-08T20:57:55.471Z"
   },
   {
    "duration": 7,
    "start_time": "2022-03-08T20:57:55.488Z"
   },
   {
    "duration": 8,
    "start_time": "2022-03-08T20:57:55.497Z"
   },
   {
    "duration": 32,
    "start_time": "2022-03-08T20:57:55.506Z"
   },
   {
    "duration": 4,
    "start_time": "2022-03-08T20:57:55.539Z"
   },
   {
    "duration": 12,
    "start_time": "2022-03-08T20:57:55.544Z"
   },
   {
    "duration": 11,
    "start_time": "2022-03-08T20:57:55.557Z"
   },
   {
    "duration": 7,
    "start_time": "2022-03-08T20:57:55.569Z"
   },
   {
    "duration": 30,
    "start_time": "2022-03-08T20:57:55.578Z"
   },
   {
    "duration": 508,
    "start_time": "2022-03-08T20:57:55.609Z"
   },
   {
    "duration": 34,
    "start_time": "2022-03-08T20:57:56.118Z"
   },
   {
    "duration": 322,
    "start_time": "2022-03-08T21:00:38.739Z"
   },
   {
    "duration": 512,
    "start_time": "2022-03-08T21:08:11.611Z"
   },
   {
    "duration": 349,
    "start_time": "2022-03-08T21:10:20.728Z"
   },
   {
    "duration": 360,
    "start_time": "2022-03-08T21:11:31.636Z"
   },
   {
    "duration": 1082,
    "start_time": "2022-03-08T21:13:11.174Z"
   },
   {
    "duration": 361,
    "start_time": "2022-03-08T21:15:26.062Z"
   },
   {
    "duration": 337,
    "start_time": "2022-03-08T21:17:28.308Z"
   },
   {
    "duration": 348,
    "start_time": "2022-03-08T21:22:34.287Z"
   },
   {
    "duration": 351,
    "start_time": "2022-03-08T21:22:45.263Z"
   },
   {
    "duration": 100,
    "start_time": "2022-03-08T21:27:18.474Z"
   },
   {
    "duration": 2,
    "start_time": "2022-03-08T21:27:18.576Z"
   },
   {
    "duration": 14,
    "start_time": "2022-03-08T21:27:18.580Z"
   },
   {
    "duration": 5,
    "start_time": "2022-03-08T21:27:18.596Z"
   },
   {
    "duration": 36,
    "start_time": "2022-03-08T21:27:18.602Z"
   },
   {
    "duration": 16,
    "start_time": "2022-03-08T21:27:18.640Z"
   },
   {
    "duration": 7,
    "start_time": "2022-03-08T21:27:18.658Z"
   },
   {
    "duration": 10,
    "start_time": "2022-03-08T21:27:18.668Z"
   },
   {
    "duration": 4,
    "start_time": "2022-03-08T21:27:18.679Z"
   },
   {
    "duration": 4,
    "start_time": "2022-03-08T21:27:18.685Z"
   },
   {
    "duration": 14,
    "start_time": "2022-03-08T21:27:18.690Z"
   },
   {
    "duration": 38,
    "start_time": "2022-03-08T21:27:18.705Z"
   },
   {
    "duration": 9,
    "start_time": "2022-03-08T21:27:18.745Z"
   },
   {
    "duration": 32,
    "start_time": "2022-03-08T21:27:18.755Z"
   },
   {
    "duration": 627,
    "start_time": "2022-03-08T21:27:18.789Z"
   },
   {
    "duration": 37,
    "start_time": "2022-03-08T21:27:19.418Z"
   },
   {
    "duration": 392,
    "start_time": "2022-03-08T21:27:19.458Z"
   },
   {
    "duration": 1056,
    "start_time": "2022-03-08T21:27:19.852Z"
   },
   {
    "duration": 478,
    "start_time": "2022-03-08T21:27:20.910Z"
   },
   {
    "duration": 355,
    "start_time": "2022-03-08T21:27:21.390Z"
   },
   {
    "duration": 336,
    "start_time": "2022-03-08T21:29:11.837Z"
   },
   {
    "duration": 335,
    "start_time": "2022-03-08T21:30:59.081Z"
   },
   {
    "duration": 569,
    "start_time": "2022-03-08T21:34:56.885Z"
   },
   {
    "duration": 3,
    "start_time": "2022-03-08T21:34:57.456Z"
   },
   {
    "duration": 11,
    "start_time": "2022-03-08T21:34:57.461Z"
   },
   {
    "duration": 5,
    "start_time": "2022-03-08T21:34:57.474Z"
   },
   {
    "duration": 19,
    "start_time": "2022-03-08T21:34:57.481Z"
   },
   {
    "duration": 24,
    "start_time": "2022-03-08T21:34:57.501Z"
   },
   {
    "duration": 17,
    "start_time": "2022-03-08T21:34:57.526Z"
   },
   {
    "duration": 9,
    "start_time": "2022-03-08T21:34:57.546Z"
   },
   {
    "duration": 4,
    "start_time": "2022-03-08T21:34:57.557Z"
   },
   {
    "duration": 9,
    "start_time": "2022-03-08T21:34:57.563Z"
   },
   {
    "duration": 11,
    "start_time": "2022-03-08T21:34:57.574Z"
   },
   {
    "duration": 15,
    "start_time": "2022-03-08T21:34:57.587Z"
   },
   {
    "duration": 9,
    "start_time": "2022-03-08T21:34:57.604Z"
   },
   {
    "duration": 44,
    "start_time": "2022-03-08T21:34:57.639Z"
   },
   {
    "duration": 646,
    "start_time": "2022-03-08T21:34:57.685Z"
   },
   {
    "duration": 26,
    "start_time": "2022-03-08T21:34:58.333Z"
   },
   {
    "duration": 366,
    "start_time": "2022-03-08T21:34:58.360Z"
   },
   {
    "duration": 346,
    "start_time": "2022-03-08T21:34:58.728Z"
   },
   {
    "duration": -18,
    "start_time": "2022-03-08T21:34:59.094Z"
   },
   {
    "duration": -30,
    "start_time": "2022-03-08T21:34:59.106Z"
   },
   {
    "duration": -42,
    "start_time": "2022-03-08T21:34:59.119Z"
   },
   {
    "duration": 130,
    "start_time": "2022-03-08T21:36:07.242Z"
   },
   {
    "duration": 1002,
    "start_time": "2022-03-08T21:36:40.821Z"
   },
   {
    "duration": 122,
    "start_time": "2022-03-08T21:37:29.169Z"
   },
   {
    "duration": 297,
    "start_time": "2022-03-08T21:38:00.566Z"
   },
   {
    "duration": 142,
    "start_time": "2022-03-08T21:42:42.040Z"
   },
   {
    "duration": 356,
    "start_time": "2022-03-08T21:43:24.529Z"
   },
   {
    "duration": 357,
    "start_time": "2022-03-08T21:43:53.700Z"
   },
   {
    "duration": 343,
    "start_time": "2022-03-08T21:45:10.947Z"
   },
   {
    "duration": 126,
    "start_time": "2022-03-08T21:45:50.265Z"
   },
   {
    "duration": 334,
    "start_time": "2022-03-08T21:45:57.009Z"
   },
   {
    "duration": 326,
    "start_time": "2022-03-08T21:46:53.845Z"
   },
   {
    "duration": 130,
    "start_time": "2022-03-08T21:47:26.072Z"
   },
   {
    "duration": 14,
    "start_time": "2022-03-08T21:56:22.923Z"
   },
   {
    "duration": 13,
    "start_time": "2022-03-08T21:56:45.628Z"
   },
   {
    "duration": 318,
    "start_time": "2022-03-08T21:59:06.664Z"
   },
   {
    "duration": 171,
    "start_time": "2022-03-08T21:59:41.647Z"
   },
   {
    "duration": 190,
    "start_time": "2022-03-08T22:00:10.099Z"
   },
   {
    "duration": 538,
    "start_time": "2022-03-08T22:00:52.979Z"
   },
   {
    "duration": 322,
    "start_time": "2022-03-08T22:01:43.800Z"
   },
   {
    "duration": 180,
    "start_time": "2022-03-08T22:04:00.641Z"
   },
   {
    "duration": 60,
    "start_time": "2022-03-08T22:07:46.678Z"
   },
   {
    "duration": 60,
    "start_time": "2022-03-08T22:08:02.002Z"
   },
   {
    "duration": 63,
    "start_time": "2022-03-08T22:08:10.938Z"
   },
   {
    "duration": 63,
    "start_time": "2022-03-08T22:08:25.543Z"
   },
   {
    "duration": 220,
    "start_time": "2022-03-08T22:09:19.487Z"
   },
   {
    "duration": 7578,
    "start_time": "2022-03-08T22:09:57.558Z"
   },
   {
    "duration": 7780,
    "start_time": "2022-03-08T22:10:06.842Z"
   },
   {
    "duration": 346,
    "start_time": "2022-03-08T22:10:35.955Z"
   },
   {
    "duration": 138,
    "start_time": "2022-03-08T22:12:24.774Z"
   },
   {
    "duration": 5,
    "start_time": "2022-03-08T22:15:31.854Z"
   },
   {
    "duration": 816,
    "start_time": "2022-03-08T22:16:02.229Z"
   },
   {
    "duration": 152,
    "start_time": "2022-03-08T22:16:22.023Z"
   },
   {
    "duration": 124,
    "start_time": "2022-03-08T22:16:32.267Z"
   },
   {
    "duration": 29,
    "start_time": "2022-03-08T22:29:18.854Z"
   },
   {
    "duration": 4,
    "start_time": "2022-03-08T22:37:20.517Z"
   },
   {
    "duration": 9,
    "start_time": "2022-03-08T22:38:15.937Z"
   },
   {
    "duration": 8,
    "start_time": "2022-03-08T22:39:49.344Z"
   },
   {
    "duration": 8,
    "start_time": "2022-03-08T22:39:50.952Z"
   },
   {
    "duration": 9,
    "start_time": "2022-03-08T22:39:52.261Z"
   },
   {
    "duration": 9,
    "start_time": "2022-03-08T22:39:53.060Z"
   },
   {
    "duration": 9,
    "start_time": "2022-03-08T22:42:05.043Z"
   },
   {
    "duration": 9,
    "start_time": "2022-03-08T22:48:28.036Z"
   },
   {
    "duration": 7,
    "start_time": "2022-03-08T22:48:29.369Z"
   },
   {
    "duration": 7,
    "start_time": "2022-03-08T22:48:30.400Z"
   },
   {
    "duration": 9,
    "start_time": "2022-03-08T22:48:31.337Z"
   },
   {
    "duration": 8,
    "start_time": "2022-03-08T22:48:32.376Z"
   },
   {
    "duration": 196,
    "start_time": "2022-03-08T23:05:35.824Z"
   },
   {
    "duration": 59,
    "start_time": "2022-03-08T23:06:13.172Z"
   },
   {
    "duration": 73,
    "start_time": "2022-03-08T23:07:50.911Z"
   },
   {
    "duration": 78,
    "start_time": "2022-03-08T23:08:12.546Z"
   },
   {
    "duration": 58,
    "start_time": "2022-03-08T23:11:37.840Z"
   },
   {
    "duration": 195,
    "start_time": "2022-03-08T23:19:39.688Z"
   },
   {
    "duration": 337,
    "start_time": "2022-03-08T23:21:44.990Z"
   },
   {
    "duration": 184,
    "start_time": "2022-03-08T23:41:10.931Z"
   },
   {
    "duration": 200,
    "start_time": "2022-03-08T23:42:13.138Z"
   },
   {
    "duration": 207,
    "start_time": "2022-03-08T23:42:38.629Z"
   },
   {
    "duration": 105,
    "start_time": "2022-03-08T23:43:08.559Z"
   },
   {
    "duration": 2,
    "start_time": "2022-03-08T23:43:08.666Z"
   },
   {
    "duration": 12,
    "start_time": "2022-03-08T23:43:08.671Z"
   },
   {
    "duration": 5,
    "start_time": "2022-03-08T23:43:08.686Z"
   },
   {
    "duration": 15,
    "start_time": "2022-03-08T23:43:08.692Z"
   },
   {
    "duration": 40,
    "start_time": "2022-03-08T23:43:08.708Z"
   },
   {
    "duration": 8,
    "start_time": "2022-03-08T23:43:08.750Z"
   },
   {
    "duration": 9,
    "start_time": "2022-03-08T23:43:08.760Z"
   },
   {
    "duration": 4,
    "start_time": "2022-03-08T23:43:08.771Z"
   },
   {
    "duration": 5,
    "start_time": "2022-03-08T23:43:08.776Z"
   },
   {
    "duration": 14,
    "start_time": "2022-03-08T23:43:08.782Z"
   },
   {
    "duration": 11,
    "start_time": "2022-03-08T23:43:08.798Z"
   },
   {
    "duration": 33,
    "start_time": "2022-03-08T23:43:08.810Z"
   },
   {
    "duration": 35,
    "start_time": "2022-03-08T23:43:08.845Z"
   },
   {
    "duration": 506,
    "start_time": "2022-03-08T23:43:08.881Z"
   },
   {
    "duration": 27,
    "start_time": "2022-03-08T23:43:09.389Z"
   },
   {
    "duration": 367,
    "start_time": "2022-03-08T23:43:09.417Z"
   },
   {
    "duration": 143,
    "start_time": "2022-03-08T23:43:09.786Z"
   },
   {
    "duration": 1045,
    "start_time": "2022-03-08T23:43:09.931Z"
   },
   {
    "duration": 154,
    "start_time": "2022-03-08T23:43:10.978Z"
   },
   {
    "duration": 346,
    "start_time": "2022-03-08T23:43:11.137Z"
   },
   {
    "duration": 134,
    "start_time": "2022-03-08T23:43:11.485Z"
   },
   {
    "duration": 347,
    "start_time": "2022-03-08T23:43:11.623Z"
   },
   {
    "duration": 139,
    "start_time": "2022-03-08T23:43:11.972Z"
   },
   {
    "duration": 13,
    "start_time": "2022-03-08T23:43:12.112Z"
   },
   {
    "duration": 14,
    "start_time": "2022-03-08T23:43:12.127Z"
   },
   {
    "duration": 365,
    "start_time": "2022-03-08T23:43:12.142Z"
   },
   {
    "duration": 147,
    "start_time": "2022-03-08T23:43:12.509Z"
   },
   {
    "duration": 29,
    "start_time": "2022-03-08T23:43:12.658Z"
   },
   {
    "duration": 3,
    "start_time": "2022-03-08T23:43:12.689Z"
   },
   {
    "duration": 34,
    "start_time": "2022-03-08T23:43:12.693Z"
   },
   {
    "duration": 17,
    "start_time": "2022-03-08T23:43:12.728Z"
   },
   {
    "duration": 11,
    "start_time": "2022-03-08T23:43:12.747Z"
   },
   {
    "duration": 20,
    "start_time": "2022-03-08T23:43:12.760Z"
   },
   {
    "duration": 18,
    "start_time": "2022-03-08T23:43:12.781Z"
   },
   {
    "duration": 47,
    "start_time": "2022-03-08T23:43:12.801Z"
   },
   {
    "duration": 30,
    "start_time": "2022-03-08T23:43:12.849Z"
   },
   {
    "duration": 185,
    "start_time": "2022-03-08T23:43:12.880Z"
   },
   {
    "duration": 169,
    "start_time": "2022-03-08T23:43:19.281Z"
   },
   {
    "duration": 28,
    "start_time": "2022-03-08T23:43:27.896Z"
   },
   {
    "duration": 43,
    "start_time": "2022-03-08T23:43:35.131Z"
   },
   {
    "duration": 46,
    "start_time": "2022-03-08T23:43:48.068Z"
   },
   {
    "duration": 104,
    "start_time": "2022-03-08T23:44:02.574Z"
   },
   {
    "duration": 2,
    "start_time": "2022-03-08T23:44:02.680Z"
   },
   {
    "duration": 20,
    "start_time": "2022-03-08T23:44:02.684Z"
   },
   {
    "duration": 13,
    "start_time": "2022-03-08T23:44:02.706Z"
   },
   {
    "duration": 25,
    "start_time": "2022-03-08T23:44:02.720Z"
   },
   {
    "duration": 19,
    "start_time": "2022-03-08T23:44:02.746Z"
   },
   {
    "duration": 13,
    "start_time": "2022-03-08T23:44:02.767Z"
   },
   {
    "duration": 19,
    "start_time": "2022-03-08T23:44:02.782Z"
   },
   {
    "duration": 7,
    "start_time": "2022-03-08T23:44:02.803Z"
   },
   {
    "duration": 10,
    "start_time": "2022-03-08T23:44:02.811Z"
   },
   {
    "duration": 15,
    "start_time": "2022-03-08T23:44:02.823Z"
   },
   {
    "duration": 11,
    "start_time": "2022-03-08T23:44:02.839Z"
   },
   {
    "duration": 13,
    "start_time": "2022-03-08T23:44:02.852Z"
   },
   {
    "duration": 36,
    "start_time": "2022-03-08T23:44:02.867Z"
   },
   {
    "duration": 506,
    "start_time": "2022-03-08T23:44:02.905Z"
   },
   {
    "duration": 35,
    "start_time": "2022-03-08T23:44:03.413Z"
   },
   {
    "duration": 348,
    "start_time": "2022-03-08T23:44:03.450Z"
   },
   {
    "duration": 144,
    "start_time": "2022-03-08T23:44:03.800Z"
   },
   {
    "duration": 1599,
    "start_time": "2022-03-08T23:44:03.946Z"
   },
   {
    "duration": 145,
    "start_time": "2022-03-08T23:44:05.547Z"
   },
   {
    "duration": 340,
    "start_time": "2022-03-08T23:44:05.694Z"
   },
   {
    "duration": 135,
    "start_time": "2022-03-08T23:44:06.037Z"
   },
   {
    "duration": 341,
    "start_time": "2022-03-08T23:44:06.175Z"
   },
   {
    "duration": 135,
    "start_time": "2022-03-08T23:44:06.518Z"
   },
   {
    "duration": 13,
    "start_time": "2022-03-08T23:44:06.654Z"
   },
   {
    "duration": 4,
    "start_time": "2022-03-08T23:44:06.669Z"
   },
   {
    "duration": 379,
    "start_time": "2022-03-08T23:44:06.675Z"
   },
   {
    "duration": 139,
    "start_time": "2022-03-08T23:44:07.056Z"
   },
   {
    "duration": 27,
    "start_time": "2022-03-08T23:44:07.197Z"
   },
   {
    "duration": 13,
    "start_time": "2022-03-08T23:44:07.225Z"
   },
   {
    "duration": 13,
    "start_time": "2022-03-08T23:44:07.240Z"
   },
   {
    "duration": 6,
    "start_time": "2022-03-08T23:44:07.255Z"
   },
   {
    "duration": 6,
    "start_time": "2022-03-08T23:44:07.263Z"
   },
   {
    "duration": 7,
    "start_time": "2022-03-08T23:44:07.271Z"
   },
   {
    "duration": 7,
    "start_time": "2022-03-08T23:44:07.279Z"
   },
   {
    "duration": 78,
    "start_time": "2022-03-08T23:44:07.287Z"
   },
   {
    "duration": 29,
    "start_time": "2022-03-08T23:44:07.366Z"
   },
   {
    "duration": 183,
    "start_time": "2022-03-08T23:44:07.396Z"
   },
   {
    "duration": 5,
    "start_time": "2022-03-08T23:44:42.030Z"
   },
   {
    "duration": 8,
    "start_time": "2022-03-08T23:44:43.041Z"
   },
   {
    "duration": 7,
    "start_time": "2022-03-08T23:44:44.214Z"
   },
   {
    "duration": 8,
    "start_time": "2022-03-08T23:44:51.103Z"
   },
   {
    "duration": 9,
    "start_time": "2022-03-08T23:44:52.115Z"
   },
   {
    "duration": 9,
    "start_time": "2022-03-08T23:44:55.184Z"
   },
   {
    "duration": 4,
    "start_time": "2022-03-08T23:45:16.583Z"
   },
   {
    "duration": 8,
    "start_time": "2022-03-08T23:45:24.920Z"
   },
   {
    "duration": 4,
    "start_time": "2022-03-08T23:45:43.231Z"
   },
   {
    "duration": 8,
    "start_time": "2022-03-08T23:45:44.240Z"
   },
   {
    "duration": 8,
    "start_time": "2022-03-08T23:45:45.359Z"
   },
   {
    "duration": 8,
    "start_time": "2022-03-08T23:45:46.492Z"
   },
   {
    "duration": 9,
    "start_time": "2022-03-08T23:45:47.445Z"
   },
   {
    "duration": 9,
    "start_time": "2022-03-08T23:45:49.961Z"
   },
   {
    "duration": 61,
    "start_time": "2022-03-08T23:45:53.612Z"
   },
   {
    "duration": 32,
    "start_time": "2022-03-08T23:45:59.070Z"
   },
   {
    "duration": 202,
    "start_time": "2022-03-08T23:46:03.186Z"
   },
   {
    "duration": 168,
    "start_time": "2022-03-08T23:46:35.865Z"
   },
   {
    "duration": 9,
    "start_time": "2022-03-08T23:49:45.847Z"
   },
   {
    "duration": 486,
    "start_time": "2022-03-08T23:51:44.953Z"
   },
   {
    "duration": 14,
    "start_time": "2022-03-08T23:52:34.981Z"
   },
   {
    "duration": 194,
    "start_time": "2022-03-08T23:53:38.696Z"
   },
   {
    "duration": 16,
    "start_time": "2022-03-08T23:53:47.886Z"
   },
   {
    "duration": 16,
    "start_time": "2022-03-08T23:54:31.812Z"
   },
   {
    "duration": 440,
    "start_time": "2022-03-08T23:58:43.462Z"
   },
   {
    "duration": 429,
    "start_time": "2022-03-08T23:59:06.027Z"
   },
   {
    "duration": 55,
    "start_time": "2022-03-08T23:59:31.272Z"
   },
   {
    "duration": 444,
    "start_time": "2022-03-08T23:59:44.069Z"
   },
   {
    "duration": 31,
    "start_time": "2022-03-09T00:00:22.282Z"
   },
   {
    "duration": 30,
    "start_time": "2022-03-09T00:01:16.842Z"
   },
   {
    "duration": 22,
    "start_time": "2022-03-09T00:03:10.694Z"
   },
   {
    "duration": 329,
    "start_time": "2022-03-09T23:17:26.387Z"
   },
   {
    "duration": 1265,
    "start_time": "2022-03-09T23:17:38.601Z"
   },
   {
    "duration": 9,
    "start_time": "2022-03-09T23:17:39.867Z"
   },
   {
    "duration": 8,
    "start_time": "2022-03-09T23:17:39.879Z"
   },
   {
    "duration": 7,
    "start_time": "2022-03-09T23:17:39.889Z"
   },
   {
    "duration": 12,
    "start_time": "2022-03-09T23:17:39.898Z"
   },
   {
    "duration": 17,
    "start_time": "2022-03-09T23:17:39.911Z"
   },
   {
    "duration": 8,
    "start_time": "2022-03-09T23:17:39.930Z"
   },
   {
    "duration": 36,
    "start_time": "2022-03-09T23:17:39.941Z"
   },
   {
    "duration": 5,
    "start_time": "2022-03-09T23:17:39.979Z"
   },
   {
    "duration": 8,
    "start_time": "2022-03-09T23:17:39.986Z"
   },
   {
    "duration": 13,
    "start_time": "2022-03-09T23:17:39.996Z"
   },
   {
    "duration": 12,
    "start_time": "2022-03-09T23:17:40.011Z"
   },
   {
    "duration": 12,
    "start_time": "2022-03-09T23:17:40.025Z"
   },
   {
    "duration": 55,
    "start_time": "2022-03-09T23:17:40.039Z"
   },
   {
    "duration": 552,
    "start_time": "2022-03-09T23:17:40.095Z"
   },
   {
    "duration": 36,
    "start_time": "2022-03-09T23:17:40.649Z"
   },
   {
    "duration": 393,
    "start_time": "2022-03-09T23:17:40.687Z"
   },
   {
    "duration": 166,
    "start_time": "2022-03-09T23:17:41.081Z"
   },
   {
    "duration": 1245,
    "start_time": "2022-03-09T23:17:41.249Z"
   },
   {
    "duration": 165,
    "start_time": "2022-03-09T23:17:42.496Z"
   },
   {
    "duration": 399,
    "start_time": "2022-03-09T23:17:42.663Z"
   },
   {
    "duration": 151,
    "start_time": "2022-03-09T23:17:43.063Z"
   },
   {
    "duration": 389,
    "start_time": "2022-03-09T23:17:43.217Z"
   },
   {
    "duration": 245,
    "start_time": "2022-03-09T23:17:43.608Z"
   },
   {
    "duration": 23,
    "start_time": "2022-03-09T23:17:43.855Z"
   },
   {
    "duration": 5,
    "start_time": "2022-03-09T23:17:43.880Z"
   },
   {
    "duration": 421,
    "start_time": "2022-03-09T23:17:43.887Z"
   },
   {
    "duration": 152,
    "start_time": "2022-03-09T23:17:44.310Z"
   },
   {
    "duration": 38,
    "start_time": "2022-03-09T23:17:44.464Z"
   },
   {
    "duration": 4,
    "start_time": "2022-03-09T23:17:44.504Z"
   },
   {
    "duration": 25,
    "start_time": "2022-03-09T23:17:44.509Z"
   },
   {
    "duration": 13,
    "start_time": "2022-03-09T23:17:44.536Z"
   },
   {
    "duration": 14,
    "start_time": "2022-03-09T23:17:44.551Z"
   },
   {
    "duration": 15,
    "start_time": "2022-03-09T23:17:44.567Z"
   },
   {
    "duration": 15,
    "start_time": "2022-03-09T23:17:44.584Z"
   },
   {
    "duration": 88,
    "start_time": "2022-03-09T23:17:44.601Z"
   },
   {
    "duration": 381,
    "start_time": "2022-03-09T23:17:44.691Z"
   },
   {
    "duration": 29,
    "start_time": "2022-03-09T23:17:45.074Z"
   },
   {
    "duration": 348,
    "start_time": "2022-03-09T23:17:45.105Z"
   },
   {
    "duration": 298,
    "start_time": "2022-03-09T23:18:54.392Z"
   },
   {
    "duration": 38,
    "start_time": "2022-03-09T23:19:16.707Z"
   },
   {
    "duration": 35,
    "start_time": "2022-03-09T23:20:20.954Z"
   },
   {
    "duration": 35,
    "start_time": "2022-03-09T23:23:26.114Z"
   },
   {
    "duration": 224,
    "start_time": "2022-03-09T23:24:24.363Z"
   },
   {
    "duration": 217,
    "start_time": "2022-03-09T23:34:38.840Z"
   },
   {
    "duration": 8,
    "start_time": "2022-03-09T23:41:32.407Z"
   },
   {
    "duration": 27,
    "start_time": "2022-03-09T23:42:53.723Z"
   },
   {
    "duration": 150,
    "start_time": "2022-03-09T23:47:09.578Z"
   },
   {
    "duration": 146,
    "start_time": "2022-03-09T23:47:32.267Z"
   },
   {
    "duration": 153,
    "start_time": "2022-03-09T23:48:11.681Z"
   },
   {
    "duration": 156,
    "start_time": "2022-03-09T23:48:38.710Z"
   },
   {
    "duration": 29,
    "start_time": "2022-03-09T23:51:03.315Z"
   },
   {
    "duration": 26,
    "start_time": "2022-03-09T23:52:08.838Z"
   },
   {
    "duration": 136,
    "start_time": "2022-03-09T23:52:14.217Z"
   },
   {
    "duration": 27,
    "start_time": "2022-03-09T23:52:34.693Z"
   },
   {
    "duration": 26,
    "start_time": "2022-03-09T23:52:45.370Z"
   },
   {
    "duration": 25,
    "start_time": "2022-03-09T23:53:13.162Z"
   },
   {
    "duration": 40,
    "start_time": "2022-03-09T23:53:52.271Z"
   },
   {
    "duration": 221,
    "start_time": "2022-03-09T23:53:58.312Z"
   },
   {
    "duration": 26,
    "start_time": "2022-03-09T23:54:06.828Z"
   },
   {
    "duration": 24,
    "start_time": "2022-03-09T23:54:23.872Z"
   },
   {
    "duration": 252,
    "start_time": "2022-03-09T23:54:26.933Z"
   },
   {
    "duration": 147,
    "start_time": "2022-03-09T23:54:29.151Z"
   },
   {
    "duration": 143,
    "start_time": "2022-03-09T23:54:33.298Z"
   },
   {
    "duration": 161,
    "start_time": "2022-03-09T23:54:42.286Z"
   },
   {
    "duration": 30,
    "start_time": "2022-03-10T00:05:36.724Z"
   },
   {
    "duration": 31,
    "start_time": "2022-03-10T00:10:41.549Z"
   },
   {
    "duration": 114,
    "start_time": "2022-03-10T00:38:33.883Z"
   },
   {
    "duration": 3,
    "start_time": "2022-03-10T00:38:33.999Z"
   },
   {
    "duration": 15,
    "start_time": "2022-03-10T00:38:34.004Z"
   },
   {
    "duration": 11,
    "start_time": "2022-03-10T00:38:34.021Z"
   },
   {
    "duration": 23,
    "start_time": "2022-03-10T00:38:34.034Z"
   },
   {
    "duration": 30,
    "start_time": "2022-03-10T00:38:34.059Z"
   },
   {
    "duration": 9,
    "start_time": "2022-03-10T00:38:34.091Z"
   },
   {
    "duration": 10,
    "start_time": "2022-03-10T00:38:34.102Z"
   },
   {
    "duration": 4,
    "start_time": "2022-03-10T00:38:34.114Z"
   },
   {
    "duration": 11,
    "start_time": "2022-03-10T00:38:34.120Z"
   },
   {
    "duration": 45,
    "start_time": "2022-03-10T00:38:34.132Z"
   },
   {
    "duration": 8,
    "start_time": "2022-03-10T00:38:34.179Z"
   },
   {
    "duration": 8,
    "start_time": "2022-03-10T00:38:34.189Z"
   },
   {
    "duration": 37,
    "start_time": "2022-03-10T00:38:34.199Z"
   },
   {
    "duration": 576,
    "start_time": "2022-03-10T00:38:34.238Z"
   },
   {
    "duration": 25,
    "start_time": "2022-03-10T00:38:34.816Z"
   },
   {
    "duration": 405,
    "start_time": "2022-03-10T00:38:34.843Z"
   },
   {
    "duration": 164,
    "start_time": "2022-03-10T00:38:35.250Z"
   },
   {
    "duration": 1258,
    "start_time": "2022-03-10T00:38:35.416Z"
   },
   {
    "duration": 170,
    "start_time": "2022-03-10T00:38:36.676Z"
   },
   {
    "duration": 385,
    "start_time": "2022-03-10T00:38:36.847Z"
   },
   {
    "duration": 149,
    "start_time": "2022-03-10T00:38:37.233Z"
   },
   {
    "duration": 393,
    "start_time": "2022-03-10T00:38:37.385Z"
   },
   {
    "duration": 145,
    "start_time": "2022-03-10T00:38:37.780Z"
   },
   {
    "duration": 14,
    "start_time": "2022-03-10T00:38:37.926Z"
   },
   {
    "duration": 5,
    "start_time": "2022-03-10T00:38:37.942Z"
   },
   {
    "duration": 558,
    "start_time": "2022-03-10T00:38:37.949Z"
   },
   {
    "duration": 160,
    "start_time": "2022-03-10T00:38:38.509Z"
   },
   {
    "duration": 34,
    "start_time": "2022-03-10T00:38:38.671Z"
   },
   {
    "duration": 4,
    "start_time": "2022-03-10T00:38:38.707Z"
   },
   {
    "duration": 14,
    "start_time": "2022-03-10T00:38:38.712Z"
   },
   {
    "duration": 8,
    "start_time": "2022-03-10T00:38:38.727Z"
   },
   {
    "duration": 8,
    "start_time": "2022-03-10T00:38:38.737Z"
   },
   {
    "duration": 38,
    "start_time": "2022-03-10T00:38:38.746Z"
   },
   {
    "duration": 12,
    "start_time": "2022-03-10T00:38:38.786Z"
   },
   {
    "duration": 86,
    "start_time": "2022-03-10T00:38:38.799Z"
   },
   {
    "duration": 33,
    "start_time": "2022-03-10T00:38:38.887Z"
   },
   {
    "duration": 23,
    "start_time": "2022-03-10T00:38:38.922Z"
   },
   {
    "duration": 67,
    "start_time": "2022-03-10T00:38:38.947Z"
   },
   {
    "duration": 251,
    "start_time": "2022-03-10T00:38:39.016Z"
   },
   {
    "duration": 30,
    "start_time": "2022-03-10T00:38:39.268Z"
   },
   {
    "duration": 160,
    "start_time": "2022-03-10T00:38:39.300Z"
   },
   {
    "duration": 160,
    "start_time": "2022-03-10T00:38:39.461Z"
   },
   {
    "duration": 155,
    "start_time": "2022-03-10T00:38:39.623Z"
   },
   {
    "duration": 176,
    "start_time": "2022-03-10T00:38:39.780Z"
   },
   {
    "duration": 42,
    "start_time": "2022-03-10T00:38:39.957Z"
   },
   {
    "duration": 52,
    "start_time": "2022-03-19T16:34:19.552Z"
   },
   {
    "duration": 1547,
    "start_time": "2022-03-19T16:34:29.309Z"
   },
   {
    "duration": 3,
    "start_time": "2022-03-19T16:34:30.858Z"
   },
   {
    "duration": 15,
    "start_time": "2022-03-19T16:34:30.862Z"
   },
   {
    "duration": 4,
    "start_time": "2022-03-19T16:34:30.879Z"
   },
   {
    "duration": 21,
    "start_time": "2022-03-19T16:34:30.884Z"
   },
   {
    "duration": 18,
    "start_time": "2022-03-19T16:34:30.906Z"
   },
   {
    "duration": 9,
    "start_time": "2022-03-19T16:34:30.926Z"
   },
   {
    "duration": 7,
    "start_time": "2022-03-19T16:34:30.937Z"
   },
   {
    "duration": 10,
    "start_time": "2022-03-19T16:34:30.946Z"
   },
   {
    "duration": 5,
    "start_time": "2022-03-19T16:34:30.959Z"
   },
   {
    "duration": 15,
    "start_time": "2022-03-19T16:34:30.966Z"
   },
   {
    "duration": 11,
    "start_time": "2022-03-19T16:34:30.982Z"
   },
   {
    "duration": 6,
    "start_time": "2022-03-19T16:34:30.995Z"
   },
   {
    "duration": 64,
    "start_time": "2022-03-19T16:34:31.003Z"
   },
   {
    "duration": 351,
    "start_time": "2022-03-19T16:34:31.069Z"
   },
   {
    "duration": 32,
    "start_time": "2022-03-19T16:34:31.422Z"
   },
   {
    "duration": 285,
    "start_time": "2022-03-19T16:34:31.456Z"
   },
   {
    "duration": 135,
    "start_time": "2022-03-19T16:34:31.742Z"
   },
   {
    "duration": 856,
    "start_time": "2022-03-19T16:34:31.879Z"
   },
   {
    "duration": 121,
    "start_time": "2022-03-19T16:34:32.737Z"
   },
   {
    "duration": 287,
    "start_time": "2022-03-19T16:34:32.860Z"
   },
   {
    "duration": 100,
    "start_time": "2022-03-19T16:34:33.148Z"
   },
   {
    "duration": 260,
    "start_time": "2022-03-19T16:34:33.250Z"
   },
   {
    "duration": 101,
    "start_time": "2022-03-19T16:34:33.512Z"
   },
   {
    "duration": 21,
    "start_time": "2022-03-19T16:34:33.615Z"
   },
   {
    "duration": 4,
    "start_time": "2022-03-19T16:34:33.638Z"
   },
   {
    "duration": 372,
    "start_time": "2022-03-19T16:34:33.644Z"
   },
   {
    "duration": 97,
    "start_time": "2022-03-19T16:34:34.019Z"
   },
   {
    "duration": 37,
    "start_time": "2022-03-19T16:34:34.118Z"
   },
   {
    "duration": 3,
    "start_time": "2022-03-19T16:34:34.157Z"
   },
   {
    "duration": 13,
    "start_time": "2022-03-19T16:34:34.162Z"
   },
   {
    "duration": 6,
    "start_time": "2022-03-19T16:34:34.177Z"
   },
   {
    "duration": 6,
    "start_time": "2022-03-19T16:34:34.185Z"
   },
   {
    "duration": 38,
    "start_time": "2022-03-19T16:34:34.193Z"
   },
   {
    "duration": 7,
    "start_time": "2022-03-19T16:34:34.233Z"
   },
   {
    "duration": 64,
    "start_time": "2022-03-19T16:34:34.242Z"
   },
   {
    "duration": 86,
    "start_time": "2022-03-19T16:34:34.307Z"
   },
   {
    "duration": 156,
    "start_time": "2022-03-19T16:34:34.394Z"
   },
   {
    "duration": 24,
    "start_time": "2022-03-19T16:34:34.552Z"
   },
   {
    "duration": 55,
    "start_time": "2022-03-19T16:34:34.578Z"
   },
   {
    "duration": 175,
    "start_time": "2022-03-19T16:34:34.635Z"
   },
   {
    "duration": 29,
    "start_time": "2022-03-19T16:34:34.812Z"
   },
   {
    "duration": 109,
    "start_time": "2022-03-19T16:34:34.842Z"
   },
   {
    "duration": 107,
    "start_time": "2022-03-19T16:34:34.953Z"
   },
   {
    "duration": 112,
    "start_time": "2022-03-19T16:34:35.062Z"
   },
   {
    "duration": 123,
    "start_time": "2022-03-19T16:34:35.176Z"
   },
   {
    "duration": 33,
    "start_time": "2022-03-19T16:34:35.301Z"
   },
   {
    "duration": 160,
    "start_time": "2022-03-19T16:35:40.417Z"
   },
   {
    "duration": 152,
    "start_time": "2022-03-19T16:40:06.391Z"
   },
   {
    "duration": 150,
    "start_time": "2022-03-19T16:45:28.036Z"
   },
   {
    "duration": 158,
    "start_time": "2022-03-19T16:46:35.762Z"
   },
   {
    "duration": 164,
    "start_time": "2022-03-19T16:47:51.000Z"
   },
   {
    "duration": 158,
    "start_time": "2022-03-19T16:53:20.649Z"
   },
   {
    "duration": 155,
    "start_time": "2022-03-19T16:54:31.373Z"
   },
   {
    "duration": 162,
    "start_time": "2022-03-19T16:55:03.060Z"
   },
   {
    "duration": 274,
    "start_time": "2022-03-19T16:57:42.789Z"
   },
   {
    "duration": 155,
    "start_time": "2022-03-19T16:58:18.910Z"
   },
   {
    "duration": 145,
    "start_time": "2022-03-19T17:31:41.639Z"
   },
   {
    "duration": 3,
    "start_time": "2022-03-19T17:31:41.786Z"
   },
   {
    "duration": 15,
    "start_time": "2022-03-19T17:31:41.791Z"
   },
   {
    "duration": 24,
    "start_time": "2022-03-19T17:31:41.808Z"
   },
   {
    "duration": 26,
    "start_time": "2022-03-19T17:31:41.834Z"
   },
   {
    "duration": 27,
    "start_time": "2022-03-19T17:31:41.861Z"
   },
   {
    "duration": 22,
    "start_time": "2022-03-19T17:31:41.890Z"
   },
   {
    "duration": 10,
    "start_time": "2022-03-19T17:31:41.914Z"
   },
   {
    "duration": 6,
    "start_time": "2022-03-19T17:31:41.926Z"
   },
   {
    "duration": 9,
    "start_time": "2022-03-19T17:31:41.934Z"
   },
   {
    "duration": 27,
    "start_time": "2022-03-19T17:31:41.944Z"
   },
   {
    "duration": 21,
    "start_time": "2022-03-19T17:31:41.972Z"
   },
   {
    "duration": 29,
    "start_time": "2022-03-19T17:31:41.995Z"
   },
   {
    "duration": 54,
    "start_time": "2022-03-19T17:31:42.026Z"
   },
   {
    "duration": 351,
    "start_time": "2022-03-19T17:31:42.082Z"
   },
   {
    "duration": 26,
    "start_time": "2022-03-19T17:31:42.434Z"
   },
   {
    "duration": 284,
    "start_time": "2022-03-19T17:31:42.462Z"
   },
   {
    "duration": 129,
    "start_time": "2022-03-19T17:31:42.748Z"
   },
   {
    "duration": 962,
    "start_time": "2022-03-19T17:31:42.878Z"
   },
   {
    "duration": 124,
    "start_time": "2022-03-19T17:31:43.841Z"
   },
   {
    "duration": 272,
    "start_time": "2022-03-19T17:31:43.967Z"
   },
   {
    "duration": 102,
    "start_time": "2022-03-19T17:31:44.240Z"
   },
   {
    "duration": 275,
    "start_time": "2022-03-19T17:31:44.343Z"
   },
   {
    "duration": 117,
    "start_time": "2022-03-19T17:31:44.620Z"
   },
   {
    "duration": 14,
    "start_time": "2022-03-19T17:31:44.738Z"
   },
   {
    "duration": 7,
    "start_time": "2022-03-19T17:31:44.754Z"
   },
   {
    "duration": 335,
    "start_time": "2022-03-19T17:31:44.762Z"
   },
   {
    "duration": 111,
    "start_time": "2022-03-19T17:31:45.101Z"
   },
   {
    "duration": 39,
    "start_time": "2022-03-19T17:31:45.214Z"
   },
   {
    "duration": 4,
    "start_time": "2022-03-19T17:31:45.255Z"
   },
   {
    "duration": 29,
    "start_time": "2022-03-19T17:31:45.261Z"
   },
   {
    "duration": 9,
    "start_time": "2022-03-19T17:31:45.292Z"
   },
   {
    "duration": 21,
    "start_time": "2022-03-19T17:31:45.302Z"
   },
   {
    "duration": 16,
    "start_time": "2022-03-19T17:31:45.325Z"
   },
   {
    "duration": 20,
    "start_time": "2022-03-19T17:31:45.343Z"
   },
   {
    "duration": 66,
    "start_time": "2022-03-19T17:31:45.366Z"
   },
   {
    "duration": 26,
    "start_time": "2022-03-19T17:31:45.434Z"
   },
   {
    "duration": 173,
    "start_time": "2022-03-19T17:31:45.461Z"
   },
   {
    "duration": 166,
    "start_time": "2022-03-19T17:31:45.635Z"
   },
   {
    "duration": 164,
    "start_time": "2022-03-19T17:31:45.802Z"
   },
   {
    "duration": 317,
    "start_time": "2022-03-19T17:31:45.968Z"
   },
   {
    "duration": 179,
    "start_time": "2022-03-19T17:31:46.288Z"
   },
   {
    "duration": 23,
    "start_time": "2022-03-19T17:31:46.468Z"
   },
   {
    "duration": 54,
    "start_time": "2022-03-19T17:31:46.492Z"
   },
   {
    "duration": 168,
    "start_time": "2022-03-19T17:31:46.548Z"
   },
   {
    "duration": 32,
    "start_time": "2022-03-19T17:31:46.717Z"
   },
   {
    "duration": 107,
    "start_time": "2022-03-19T17:31:46.751Z"
   },
   {
    "duration": 129,
    "start_time": "2022-03-19T17:31:46.860Z"
   },
   {
    "duration": 112,
    "start_time": "2022-03-19T17:31:46.991Z"
   },
   {
    "duration": 117,
    "start_time": "2022-03-19T17:31:47.104Z"
   },
   {
    "duration": 32,
    "start_time": "2022-03-19T17:31:47.222Z"
   },
   {
    "duration": 179,
    "start_time": "2022-03-19T17:31:47.255Z"
   },
   {
    "duration": 166,
    "start_time": "2022-03-19T17:31:47.436Z"
   },
   {
    "duration": 176,
    "start_time": "2022-03-19T17:31:47.604Z"
   },
   {
    "duration": 169,
    "start_time": "2022-03-19T17:31:47.782Z"
   },
   {
    "duration": 171,
    "start_time": "2022-03-19T17:31:47.953Z"
   }
  ],
  "kernelspec": {
   "display_name": "Python 3 (ipykernel)",
   "language": "python",
   "name": "python3"
  },
  "language_info": {
   "codemirror_mode": {
    "name": "ipython",
    "version": 3
   },
   "file_extension": ".py",
   "mimetype": "text/x-python",
   "name": "python",
   "nbconvert_exporter": "python",
   "pygments_lexer": "ipython3",
   "version": "3.9.5"
  },
  "toc": {
   "base_numbering": 1,
   "nav_menu": {},
   "number_sections": true,
   "sideBar": true,
   "skip_h1_title": true,
   "title_cell": "Содержание",
   "title_sidebar": "Contents",
   "toc_cell": true,
   "toc_position": {},
   "toc_section_display": true,
   "toc_window_display": false
  }
 },
 "nbformat": 4,
 "nbformat_minor": 4
}
