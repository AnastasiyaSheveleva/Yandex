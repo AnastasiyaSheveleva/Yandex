{
 "cells": [
  {
   "cell_type": "markdown",
   "metadata": {},
   "source": [
    "Исследовательский анлиз на основе данных регионального банка - \"Метанпром\""
   ]
  },
  {
   "cell_type": "markdown",
   "metadata": {},
   "source": [
    "Задача исследования: Сегментация пользователей на основании данных о колличестве потребляемых продуктов банка"
   ]
  },
  {
   "cell_type": "markdown",
   "metadata": {},
   "source": [
    "# Дополнительные материалы:"
   ]
  },
  {
   "cell_type": "markdown",
   "metadata": {},
   "source": [
    "Презентация:\n",
    "https://disk.yandex.ru/i/ElDGd3qzLQ3loA"
   ]
  },
  {
   "cell_type": "markdown",
   "metadata": {},
   "source": [
    "Датасет содержит данные о клиентах банка «Метанпром». Банк располагается в Ярославле и областных городах: Ростов Великий и Рыбинск.\n",
    "\n",
    "Колонки:\n",
    "\n",
    "- `userid` — идентификатор пользователя,\n",
    "- `score` — баллы кредитного скоринга,\n",
    "- `City` — город,\n",
    "- `Gender` — пол,\n",
    "- `Age` — возраст,\n",
    "- `Objects` — количество объектов в собственности,\n",
    "- `Balance` — баланс на счёте,\n",
    "- `Products` — количество продуктов, которыми пользуется клиент,\n",
    "- `CreditCard` — есть ли кредитная карта,\n",
    "- `Loyalty` — активный клиент,\n",
    "- `estimated_salary` — заработная плата клиента,\n",
    "- `Churn` — ушёл или нет."
   ]
  },
  {
   "cell_type": "markdown",
   "metadata": {},
   "source": [
    "# 1. Загрузка данных"
   ]
  },
  {
   "cell_type": "code",
   "execution_count": 46,
   "metadata": {},
   "outputs": [],
   "source": [
    "import pandas as pd\n",
    "import numpy as np\n",
    "import matplotlib.pyplot as plt\n",
    "%matplotlib inline\n",
    "import seaborn as sns\n",
    "\n",
    "from sklearn.preprocessing import StandardScaler\n",
    "from sklearn.model_selection import train_test_split\n",
    "\n",
    "from sklearn.linear_model import LogisticRegression\n",
    "from sklearn.metrics import accuracy_score, precision_score, recall_score, f1_score\n",
    "\n",
    "from sklearn.tree import DecisionTreeRegressor, DecisionTreeClassifier\n",
    "from sklearn.ensemble import RandomForestRegressor, GradientBoostingRegressor\n",
    "from sklearn.ensemble import RandomForestClassifier, GradientBoostingClassifier\n",
    "from sklearn.metrics import accuracy_score, precision_score, recall_score\n",
    "from sklearn.cluster import KMeans\n",
    "from scipy.cluster.hierarchy import dendrogram, linkage\n",
    "import warnings\n",
    "warnings.filterwarnings('ignore')\n",
    "import math as mth\n",
    "from scipy import stats as st\n",
    "from statsmodels.stats.proportion import proportions_ztest"
   ]
  },
  {
   "cell_type": "code",
   "execution_count": 2,
   "metadata": {},
   "outputs": [
    {
     "data": {
      "text/html": [
       "<div>\n",
       "<style scoped>\n",
       "    .dataframe tbody tr th:only-of-type {\n",
       "        vertical-align: middle;\n",
       "    }\n",
       "\n",
       "    .dataframe tbody tr th {\n",
       "        vertical-align: top;\n",
       "    }\n",
       "\n",
       "    .dataframe thead th {\n",
       "        text-align: right;\n",
       "    }\n",
       "</style>\n",
       "<table border=\"1\" class=\"dataframe\">\n",
       "  <thead>\n",
       "    <tr style=\"text-align: right;\">\n",
       "      <th></th>\n",
       "      <th>userid</th>\n",
       "      <th>score</th>\n",
       "      <th>City</th>\n",
       "      <th>Gender</th>\n",
       "      <th>Age</th>\n",
       "      <th>Objects</th>\n",
       "      <th>Balance</th>\n",
       "      <th>Products</th>\n",
       "      <th>CreditCard</th>\n",
       "      <th>Loyalty</th>\n",
       "      <th>estimated_salary</th>\n",
       "      <th>Churn</th>\n",
       "    </tr>\n",
       "  </thead>\n",
       "  <tbody>\n",
       "    <tr>\n",
       "      <th>0</th>\n",
       "      <td>15677338</td>\n",
       "      <td>619</td>\n",
       "      <td>Ярославль</td>\n",
       "      <td>Ж</td>\n",
       "      <td>42</td>\n",
       "      <td>2</td>\n",
       "      <td>NaN</td>\n",
       "      <td>1</td>\n",
       "      <td>1</td>\n",
       "      <td>1</td>\n",
       "      <td>101348.88</td>\n",
       "      <td>1</td>\n",
       "    </tr>\n",
       "    <tr>\n",
       "      <th>1</th>\n",
       "      <td>15690047</td>\n",
       "      <td>608</td>\n",
       "      <td>Рыбинск</td>\n",
       "      <td>Ж</td>\n",
       "      <td>41</td>\n",
       "      <td>1</td>\n",
       "      <td>83807.86</td>\n",
       "      <td>1</td>\n",
       "      <td>0</td>\n",
       "      <td>1</td>\n",
       "      <td>112542.58</td>\n",
       "      <td>0</td>\n",
       "    </tr>\n",
       "    <tr>\n",
       "      <th>2</th>\n",
       "      <td>15662040</td>\n",
       "      <td>502</td>\n",
       "      <td>Ярославль</td>\n",
       "      <td>Ж</td>\n",
       "      <td>42</td>\n",
       "      <td>8</td>\n",
       "      <td>159660.80</td>\n",
       "      <td>3</td>\n",
       "      <td>1</td>\n",
       "      <td>0</td>\n",
       "      <td>113931.57</td>\n",
       "      <td>1</td>\n",
       "    </tr>\n",
       "    <tr>\n",
       "      <th>3</th>\n",
       "      <td>15744090</td>\n",
       "      <td>699</td>\n",
       "      <td>Ярославль</td>\n",
       "      <td>Ж</td>\n",
       "      <td>39</td>\n",
       "      <td>1</td>\n",
       "      <td>NaN</td>\n",
       "      <td>2</td>\n",
       "      <td>0</td>\n",
       "      <td>0</td>\n",
       "      <td>93826.63</td>\n",
       "      <td>0</td>\n",
       "    </tr>\n",
       "    <tr>\n",
       "      <th>4</th>\n",
       "      <td>15780624</td>\n",
       "      <td>850</td>\n",
       "      <td>Рыбинск</td>\n",
       "      <td>Ж</td>\n",
       "      <td>43</td>\n",
       "      <td>2</td>\n",
       "      <td>125510.82</td>\n",
       "      <td>1</td>\n",
       "      <td>1</td>\n",
       "      <td>1</td>\n",
       "      <td>79084.10</td>\n",
       "      <td>0</td>\n",
       "    </tr>\n",
       "  </tbody>\n",
       "</table>\n",
       "</div>"
      ],
      "text/plain": [
       "     userid  score       City Gender  Age  Objects    Balance  Products  \\\n",
       "0  15677338    619  Ярославль      Ж   42        2        NaN         1   \n",
       "1  15690047    608    Рыбинск      Ж   41        1   83807.86         1   \n",
       "2  15662040    502  Ярославль      Ж   42        8  159660.80         3   \n",
       "3  15744090    699  Ярославль      Ж   39        1        NaN         2   \n",
       "4  15780624    850    Рыбинск      Ж   43        2  125510.82         1   \n",
       "\n",
       "   CreditCard  Loyalty  estimated_salary  Churn  \n",
       "0           1        1         101348.88      1  \n",
       "1           0        1         112542.58      0  \n",
       "2           1        0         113931.57      1  \n",
       "3           0        0          93826.63      0  \n",
       "4           1        1          79084.10      0  "
      ]
     },
     "metadata": {},
     "output_type": "display_data"
    }
   ],
   "source": [
    "client_info = pd.read_csv('/datasets/bank_dataset.csv', sep=',')\n",
    "display(client_info.head())"
   ]
  },
  {
   "cell_type": "code",
   "execution_count": 3,
   "metadata": {},
   "outputs": [
    {
     "name": "stdout",
     "output_type": "stream",
     "text": [
      "<class 'pandas.core.frame.DataFrame'>\n",
      "RangeIndex: 10000 entries, 0 to 9999\n",
      "Data columns (total 12 columns):\n",
      " #   Column            Non-Null Count  Dtype  \n",
      "---  ------            --------------  -----  \n",
      " 0   userid            10000 non-null  int64  \n",
      " 1   score             10000 non-null  int64  \n",
      " 2   City              10000 non-null  object \n",
      " 3   Gender            10000 non-null  object \n",
      " 4   Age               10000 non-null  int64  \n",
      " 5   Objects           10000 non-null  int64  \n",
      " 6   Balance           6383 non-null   float64\n",
      " 7   Products          10000 non-null  int64  \n",
      " 8   CreditCard        10000 non-null  int64  \n",
      " 9   Loyalty           10000 non-null  int64  \n",
      " 10  estimated_salary  10000 non-null  float64\n",
      " 11  Churn             10000 non-null  int64  \n",
      "dtypes: float64(2), int64(8), object(2)\n",
      "memory usage: 937.6+ KB\n"
     ]
    }
   ],
   "source": [
    "client_info.info()"
   ]
  },
  {
   "cell_type": "markdown",
   "metadata": {},
   "source": [
    "# 2. Предобработка данных"
   ]
  },
  {
   "cell_type": "markdown",
   "metadata": {},
   "source": [
    "## 2.1 Приведение наименований столбцов к одному регистру"
   ]
  },
  {
   "cell_type": "markdown",
   "metadata": {},
   "source": [
    "Приведем наименования столбцов к нижнему регистру"
   ]
  },
  {
   "cell_type": "code",
   "execution_count": 4,
   "metadata": {},
   "outputs": [
    {
     "data": {
      "text/html": [
       "<div>\n",
       "<style scoped>\n",
       "    .dataframe tbody tr th:only-of-type {\n",
       "        vertical-align: middle;\n",
       "    }\n",
       "\n",
       "    .dataframe tbody tr th {\n",
       "        vertical-align: top;\n",
       "    }\n",
       "\n",
       "    .dataframe thead th {\n",
       "        text-align: right;\n",
       "    }\n",
       "</style>\n",
       "<table border=\"1\" class=\"dataframe\">\n",
       "  <thead>\n",
       "    <tr style=\"text-align: right;\">\n",
       "      <th></th>\n",
       "      <th>userid</th>\n",
       "      <th>score</th>\n",
       "      <th>city</th>\n",
       "      <th>gender</th>\n",
       "      <th>age</th>\n",
       "      <th>objects</th>\n",
       "      <th>balance</th>\n",
       "      <th>products</th>\n",
       "      <th>creditcard</th>\n",
       "      <th>loyalty</th>\n",
       "      <th>estimated_salary</th>\n",
       "      <th>churn</th>\n",
       "    </tr>\n",
       "  </thead>\n",
       "  <tbody>\n",
       "    <tr>\n",
       "      <th>0</th>\n",
       "      <td>15677338</td>\n",
       "      <td>619</td>\n",
       "      <td>Ярославль</td>\n",
       "      <td>Ж</td>\n",
       "      <td>42</td>\n",
       "      <td>2</td>\n",
       "      <td>NaN</td>\n",
       "      <td>1</td>\n",
       "      <td>1</td>\n",
       "      <td>1</td>\n",
       "      <td>101348.88</td>\n",
       "      <td>1</td>\n",
       "    </tr>\n",
       "    <tr>\n",
       "      <th>1</th>\n",
       "      <td>15690047</td>\n",
       "      <td>608</td>\n",
       "      <td>Рыбинск</td>\n",
       "      <td>Ж</td>\n",
       "      <td>41</td>\n",
       "      <td>1</td>\n",
       "      <td>83807.86</td>\n",
       "      <td>1</td>\n",
       "      <td>0</td>\n",
       "      <td>1</td>\n",
       "      <td>112542.58</td>\n",
       "      <td>0</td>\n",
       "    </tr>\n",
       "    <tr>\n",
       "      <th>2</th>\n",
       "      <td>15662040</td>\n",
       "      <td>502</td>\n",
       "      <td>Ярославль</td>\n",
       "      <td>Ж</td>\n",
       "      <td>42</td>\n",
       "      <td>8</td>\n",
       "      <td>159660.80</td>\n",
       "      <td>3</td>\n",
       "      <td>1</td>\n",
       "      <td>0</td>\n",
       "      <td>113931.57</td>\n",
       "      <td>1</td>\n",
       "    </tr>\n",
       "    <tr>\n",
       "      <th>3</th>\n",
       "      <td>15744090</td>\n",
       "      <td>699</td>\n",
       "      <td>Ярославль</td>\n",
       "      <td>Ж</td>\n",
       "      <td>39</td>\n",
       "      <td>1</td>\n",
       "      <td>NaN</td>\n",
       "      <td>2</td>\n",
       "      <td>0</td>\n",
       "      <td>0</td>\n",
       "      <td>93826.63</td>\n",
       "      <td>0</td>\n",
       "    </tr>\n",
       "    <tr>\n",
       "      <th>4</th>\n",
       "      <td>15780624</td>\n",
       "      <td>850</td>\n",
       "      <td>Рыбинск</td>\n",
       "      <td>Ж</td>\n",
       "      <td>43</td>\n",
       "      <td>2</td>\n",
       "      <td>125510.82</td>\n",
       "      <td>1</td>\n",
       "      <td>1</td>\n",
       "      <td>1</td>\n",
       "      <td>79084.10</td>\n",
       "      <td>0</td>\n",
       "    </tr>\n",
       "  </tbody>\n",
       "</table>\n",
       "</div>"
      ],
      "text/plain": [
       "     userid  score       city gender  age  objects    balance  products  \\\n",
       "0  15677338    619  Ярославль      Ж   42        2        NaN         1   \n",
       "1  15690047    608    Рыбинск      Ж   41        1   83807.86         1   \n",
       "2  15662040    502  Ярославль      Ж   42        8  159660.80         3   \n",
       "3  15744090    699  Ярославль      Ж   39        1        NaN         2   \n",
       "4  15780624    850    Рыбинск      Ж   43        2  125510.82         1   \n",
       "\n",
       "   creditcard  loyalty  estimated_salary  churn  \n",
       "0           1        1         101348.88      1  \n",
       "1           0        1         112542.58      0  \n",
       "2           1        0         113931.57      1  \n",
       "3           0        0          93826.63      0  \n",
       "4           1        1          79084.10      0  "
      ]
     },
     "metadata": {},
     "output_type": "display_data"
    }
   ],
   "source": [
    "client_info.columns = client_info.columns.str.lower()\n",
    "display(client_info.head())"
   ]
  },
  {
   "cell_type": "markdown",
   "metadata": {},
   "source": [
    "## 2.2 Проверка типов данных"
   ]
  },
  {
   "cell_type": "code",
   "execution_count": 5,
   "metadata": {},
   "outputs": [
    {
     "name": "stdout",
     "output_type": "stream",
     "text": [
      "<class 'pandas.core.frame.DataFrame'>\n",
      "RangeIndex: 10000 entries, 0 to 9999\n",
      "Data columns (total 12 columns):\n",
      " #   Column            Non-Null Count  Dtype  \n",
      "---  ------            --------------  -----  \n",
      " 0   userid            10000 non-null  int64  \n",
      " 1   score             10000 non-null  int64  \n",
      " 2   city              10000 non-null  object \n",
      " 3   gender            10000 non-null  object \n",
      " 4   age               10000 non-null  int64  \n",
      " 5   objects           10000 non-null  int64  \n",
      " 6   balance           6383 non-null   float64\n",
      " 7   products          10000 non-null  int64  \n",
      " 8   creditcard        10000 non-null  int64  \n",
      " 9   loyalty           10000 non-null  int64  \n",
      " 10  estimated_salary  10000 non-null  float64\n",
      " 11  churn             10000 non-null  int64  \n",
      "dtypes: float64(2), int64(8), object(2)\n",
      "memory usage: 937.6+ KB\n"
     ]
    }
   ],
   "source": [
    "client_info.info()"
   ]
  },
  {
   "cell_type": "markdown",
   "metadata": {},
   "source": [
    "Из анализа данных видим, что все типы данных соотвествуют значению столбцов"
   ]
  },
  {
   "cell_type": "markdown",
   "metadata": {},
   "source": [
    "## 2.3 Проверка на дубликаты"
   ]
  },
  {
   "cell_type": "code",
   "execution_count": 6,
   "metadata": {},
   "outputs": [
    {
     "data": {
      "text/plain": [
       "0"
      ]
     },
     "execution_count": 6,
     "metadata": {},
     "output_type": "execute_result"
    }
   ],
   "source": [
    "client_info.drop('userid', axis=1).duplicated().sum()"
   ]
  },
  {
   "cell_type": "markdown",
   "metadata": {},
   "source": [
    "Видим, что дубликатов нет."
   ]
  },
  {
   "cell_type": "markdown",
   "metadata": {},
   "source": [
    "## 2.4 Прверка данных на пропуски"
   ]
  },
  {
   "cell_type": "code",
   "execution_count": 7,
   "metadata": {},
   "outputs": [
    {
     "name": "stdout",
     "output_type": "stream",
     "text": [
      "<class 'pandas.core.frame.DataFrame'>\n",
      "RangeIndex: 10000 entries, 0 to 9999\n",
      "Data columns (total 12 columns):\n",
      " #   Column            Non-Null Count  Dtype  \n",
      "---  ------            --------------  -----  \n",
      " 0   userid            10000 non-null  int64  \n",
      " 1   score             10000 non-null  int64  \n",
      " 2   city              10000 non-null  object \n",
      " 3   gender            10000 non-null  object \n",
      " 4   age               10000 non-null  int64  \n",
      " 5   objects           10000 non-null  int64  \n",
      " 6   balance           6383 non-null   float64\n",
      " 7   products          10000 non-null  int64  \n",
      " 8   creditcard        10000 non-null  int64  \n",
      " 9   loyalty           10000 non-null  int64  \n",
      " 10  estimated_salary  10000 non-null  float64\n",
      " 11  churn             10000 non-null  int64  \n",
      "dtypes: float64(2), int64(8), object(2)\n",
      "memory usage: 937.6+ KB\n"
     ]
    }
   ],
   "source": [
    "client_info.info()"
   ]
  },
  {
   "cell_type": "markdown",
   "metadata": {},
   "source": [
    "На основании анализа данных видим, что пропуски есть только в столбце \"balance\""
   ]
  },
  {
   "cell_type": "markdown",
   "metadata": {},
   "source": [
    "Посмотрим какой процент нулевых значений"
   ]
  },
  {
   "cell_type": "code",
   "execution_count": 8,
   "metadata": {},
   "outputs": [
    {
     "data": {
      "text/html": [
       "<style  type=\"text/css\" >\n",
       "#T_7233b_row0_col0,#T_7233b_row1_col0,#T_7233b_row2_col0,#T_7233b_row3_col0,#T_7233b_row4_col0,#T_7233b_row5_col0,#T_7233b_row7_col0,#T_7233b_row8_col0,#T_7233b_row9_col0,#T_7233b_row10_col0,#T_7233b_row11_col0{\n",
       "            background-color:  #fff7fb;\n",
       "            color:  #000000;\n",
       "        }#T_7233b_row6_col0{\n",
       "            background-color:  #023858;\n",
       "            color:  #f1f1f1;\n",
       "        }</style><table id=\"T_7233b_\" ><thead>    <tr>        <th class=\"blank level0\" ></th>        <th class=\"col_heading level0 col0\" >0</th>    </tr></thead><tbody>\n",
       "                <tr>\n",
       "                        <th id=\"T_7233b_level0_row0\" class=\"row_heading level0 row0\" >userid</th>\n",
       "                        <td id=\"T_7233b_row0_col0\" class=\"data row0 col0\" >0.000000</td>\n",
       "            </tr>\n",
       "            <tr>\n",
       "                        <th id=\"T_7233b_level0_row1\" class=\"row_heading level0 row1\" >score</th>\n",
       "                        <td id=\"T_7233b_row1_col0\" class=\"data row1 col0\" >0.000000</td>\n",
       "            </tr>\n",
       "            <tr>\n",
       "                        <th id=\"T_7233b_level0_row2\" class=\"row_heading level0 row2\" >city</th>\n",
       "                        <td id=\"T_7233b_row2_col0\" class=\"data row2 col0\" >0.000000</td>\n",
       "            </tr>\n",
       "            <tr>\n",
       "                        <th id=\"T_7233b_level0_row3\" class=\"row_heading level0 row3\" >gender</th>\n",
       "                        <td id=\"T_7233b_row3_col0\" class=\"data row3 col0\" >0.000000</td>\n",
       "            </tr>\n",
       "            <tr>\n",
       "                        <th id=\"T_7233b_level0_row4\" class=\"row_heading level0 row4\" >age</th>\n",
       "                        <td id=\"T_7233b_row4_col0\" class=\"data row4 col0\" >0.000000</td>\n",
       "            </tr>\n",
       "            <tr>\n",
       "                        <th id=\"T_7233b_level0_row5\" class=\"row_heading level0 row5\" >objects</th>\n",
       "                        <td id=\"T_7233b_row5_col0\" class=\"data row5 col0\" >0.000000</td>\n",
       "            </tr>\n",
       "            <tr>\n",
       "                        <th id=\"T_7233b_level0_row6\" class=\"row_heading level0 row6\" >balance</th>\n",
       "                        <td id=\"T_7233b_row6_col0\" class=\"data row6 col0\" >36.170000</td>\n",
       "            </tr>\n",
       "            <tr>\n",
       "                        <th id=\"T_7233b_level0_row7\" class=\"row_heading level0 row7\" >products</th>\n",
       "                        <td id=\"T_7233b_row7_col0\" class=\"data row7 col0\" >0.000000</td>\n",
       "            </tr>\n",
       "            <tr>\n",
       "                        <th id=\"T_7233b_level0_row8\" class=\"row_heading level0 row8\" >creditcard</th>\n",
       "                        <td id=\"T_7233b_row8_col0\" class=\"data row8 col0\" >0.000000</td>\n",
       "            </tr>\n",
       "            <tr>\n",
       "                        <th id=\"T_7233b_level0_row9\" class=\"row_heading level0 row9\" >loyalty</th>\n",
       "                        <td id=\"T_7233b_row9_col0\" class=\"data row9 col0\" >0.000000</td>\n",
       "            </tr>\n",
       "            <tr>\n",
       "                        <th id=\"T_7233b_level0_row10\" class=\"row_heading level0 row10\" >estimated_salary</th>\n",
       "                        <td id=\"T_7233b_row10_col0\" class=\"data row10 col0\" >0.000000</td>\n",
       "            </tr>\n",
       "            <tr>\n",
       "                        <th id=\"T_7233b_level0_row11\" class=\"row_heading level0 row11\" >churn</th>\n",
       "                        <td id=\"T_7233b_row11_col0\" class=\"data row11 col0\" >0.000000</td>\n",
       "            </tr>\n",
       "    </tbody></table>"
      ],
      "text/plain": [
       "<pandas.io.formats.style.Styler at 0x7f725dbe7520>"
      ]
     },
     "execution_count": 8,
     "metadata": {},
     "output_type": "execute_result"
    }
   ],
   "source": [
    "pd.DataFrame(round((client_info.isna().mean()*100),2)).style.background_gradient()"
   ]
  },
  {
   "cell_type": "markdown",
   "metadata": {},
   "source": [
    "36% записей имеют нулевой баланс по счету"
   ]
  },
  {
   "cell_type": "markdown",
   "metadata": {},
   "source": [
    "Анализ пропусков"
   ]
  },
  {
   "cell_type": "code",
   "execution_count": 9,
   "metadata": {},
   "outputs": [
    {
     "data": {
      "text/plain": [
       "churn\n",
       "0    3117\n",
       "1     500\n",
       "Name: balance, dtype: int64"
      ]
     },
     "execution_count": 9,
     "metadata": {},
     "output_type": "execute_result"
    }
   ],
   "source": [
    "client_info.groupby('churn')['balance'].apply(lambda x: x.isna().sum())"
   ]
  },
  {
   "cell_type": "markdown",
   "metadata": {},
   "source": [
    "Из данных видим, что пропусков в данных о балансе больше у оставшихся клиентов банка"
   ]
  },
  {
   "cell_type": "markdown",
   "metadata": {},
   "source": [
    "Проверим связаты ли пропуски в балансе с использованием клиентом кредитных продуктов"
   ]
  },
  {
   "cell_type": "code",
   "execution_count": 10,
   "metadata": {},
   "outputs": [
    {
     "data": {
      "text/plain": [
       "creditcard\n",
       "0    1025\n",
       "1    2592\n",
       "Name: balance, dtype: int64"
      ]
     },
     "execution_count": 10,
     "metadata": {},
     "output_type": "execute_result"
    }
   ],
   "source": [
    "client_info.groupby('creditcard')['balance'].apply(lambda x: x.isna().sum())"
   ]
  },
  {
   "cell_type": "markdown",
   "metadata": {},
   "source": [
    "Как показывают данные большое количество клиентов использующих кредитные продукты имеют пробуски в данных о балансе"
   ]
  },
  {
   "cell_type": "markdown",
   "metadata": {},
   "source": [
    "Проверим пропуски в разрезе количесва используемых продуктов"
   ]
  },
  {
   "cell_type": "code",
   "execution_count": 11,
   "metadata": {},
   "outputs": [
    {
     "data": {
      "text/plain": [
       "products\n",
       "1     905\n",
       "2    2600\n",
       "3      98\n",
       "4      14\n",
       "Name: balance, dtype: int64"
      ]
     },
     "execution_count": 11,
     "metadata": {},
     "output_type": "execute_result"
    }
   ],
   "source": [
    "client_info.groupby('products')['balance'].apply(lambda x: x.isna().sum())"
   ]
  },
  {
   "cell_type": "markdown",
   "metadata": {},
   "source": [
    "Как видим из данных большенство пропусков приходится на клиентов пользующихся двумя продуктами. Если предположить, что в колонке баланс значение на конец периода, то возможно ряд клинтов может иметь нулевой баланс на конец отчетного периода."
   ]
  },
  {
   "cell_type": "markdown",
   "metadata": {},
   "source": [
    "Можно предположить, что у данных клиентов отсуствуют банковские продукты при которых есть дебетовый счет. При удалении такх записей мы потеряем большой объем информации, в этом случае исследование может оказаться не информативным. \n",
    "Исходя из нашего предположении о возможном отсуствии у ряда клиентов дебетового счета заменим пропуски на 0"
   ]
  },
  {
   "cell_type": "code",
   "execution_count": 12,
   "metadata": {},
   "outputs": [
    {
     "data": {
      "text/plain": [
       "userid              0\n",
       "score               0\n",
       "city                0\n",
       "gender              0\n",
       "age                 0\n",
       "objects             0\n",
       "balance             0\n",
       "products            0\n",
       "creditcard          0\n",
       "loyalty             0\n",
       "estimated_salary    0\n",
       "churn               0\n",
       "dtype: int64"
      ]
     },
     "execution_count": 12,
     "metadata": {},
     "output_type": "execute_result"
    }
   ],
   "source": [
    "client_info['balance'] = client_info['balance'].fillna(0.0)\n",
    "client_info.isnull().sum()"
   ]
  },
  {
   "cell_type": "markdown",
   "metadata": {},
   "source": [
    "# 3. Исследовательский анализ данных (EDA)"
   ]
  },
  {
   "cell_type": "markdown",
   "metadata": {},
   "source": [
    "На данном этапе расмотрим данные более детально, что позволит увидеть нам возможные аномалии"
   ]
  },
  {
   "cell_type": "code",
   "execution_count": 13,
   "metadata": {},
   "outputs": [
    {
     "data": {
      "text/plain": [
       "count    10000.000000\n",
       "mean       650.528800\n",
       "std         96.653299\n",
       "min        350.000000\n",
       "25%        584.000000\n",
       "50%        652.000000\n",
       "75%        718.000000\n",
       "max        850.000000\n",
       "Name: score, dtype: float64"
      ]
     },
     "execution_count": 13,
     "metadata": {},
     "output_type": "execute_result"
    }
   ],
   "source": [
    "client_info['score'].describe()"
   ]
  },
  {
   "cell_type": "markdown",
   "metadata": {},
   "source": [
    "Максимальный балл кредитного скоринга составляет 850 единиц, минимальный - 350. Медиана и среднее примерно равны - 652 и 650 соответственно, так что можем предположить, что данные распределены нормально."
   ]
  },
  {
   "cell_type": "code",
   "execution_count": 14,
   "metadata": {},
   "outputs": [
    {
     "data": {
      "text/plain": [
       "count    10000.000000\n",
       "mean        38.921800\n",
       "std         10.487806\n",
       "min         18.000000\n",
       "25%         32.000000\n",
       "50%         37.000000\n",
       "75%         44.000000\n",
       "max         92.000000\n",
       "Name: age, dtype: float64"
      ]
     },
     "execution_count": 14,
     "metadata": {},
     "output_type": "execute_result"
    }
   ],
   "source": [
    "client_info['age'].describe()"
   ]
  },
  {
   "cell_type": "markdown",
   "metadata": {},
   "source": [
    "Из данных видно, что средний возрас клиентов банка 40 лет"
   ]
  },
  {
   "cell_type": "code",
   "execution_count": 15,
   "metadata": {},
   "outputs": [
    {
     "data": {
      "text/plain": [
       "Ярославль         5014\n",
       "Ростов Великий    2509\n",
       "Рыбинск           2477\n",
       "Name: city, dtype: int64"
      ]
     },
     "execution_count": 15,
     "metadata": {},
     "output_type": "execute_result"
    }
   ],
   "source": [
    "client_info['city'].value_counts()"
   ]
  },
  {
   "cell_type": "markdown",
   "metadata": {},
   "source": [
    "В файле представленны данные о клиентах из трех городов: Ярославля, Ростова Великого и Рыбинска"
   ]
  },
  {
   "cell_type": "code",
   "execution_count": 16,
   "metadata": {},
   "outputs": [
    {
     "data": {
      "text/plain": [
       "М    5457\n",
       "Ж    4543\n",
       "Name: gender, dtype: int64"
      ]
     },
     "execution_count": 16,
     "metadata": {},
     "output_type": "execute_result"
    }
   ],
   "source": [
    "client_info['gender'].value_counts()"
   ]
  },
  {
   "cell_type": "markdown",
   "metadata": {},
   "source": [
    "Отношение мужчин и женщин среди клиентов банка примерно одинаковое. 55% - мужчин и 45% женщин"
   ]
  },
  {
   "cell_type": "code",
   "execution_count": 17,
   "metadata": {},
   "outputs": [
    {
     "data": {
      "text/plain": [
       "count    10000.000000\n",
       "mean         5.012800\n",
       "std          2.892174\n",
       "min          0.000000\n",
       "25%          3.000000\n",
       "50%          5.000000\n",
       "75%          7.000000\n",
       "max         10.000000\n",
       "Name: objects, dtype: float64"
      ]
     },
     "execution_count": 17,
     "metadata": {},
     "output_type": "execute_result"
    }
   ],
   "source": [
    "client_info['objects'].describe()"
   ]
  },
  {
   "cell_type": "markdown",
   "metadata": {},
   "source": [
    "Среднее и медиана - 5 объектов. Выбросов, скорее всего, здесь нет."
   ]
  },
  {
   "cell_type": "code",
   "execution_count": 18,
   "metadata": {},
   "outputs": [
    {
     "data": {
      "text/plain": [
       "count    10000.000000\n",
       "mean         1.530200\n",
       "std          0.581654\n",
       "min          1.000000\n",
       "25%          1.000000\n",
       "50%          1.000000\n",
       "75%          2.000000\n",
       "max          4.000000\n",
       "Name: products, dtype: float64"
      ]
     },
     "execution_count": 18,
     "metadata": {},
     "output_type": "execute_result"
    }
   ],
   "source": [
    "client_info['products'].describe()"
   ]
  },
  {
   "cell_type": "markdown",
   "metadata": {},
   "source": [
    "В среднем клинт банка пользуется одним продуктом"
   ]
  },
  {
   "cell_type": "code",
   "execution_count": 19,
   "metadata": {},
   "outputs": [
    {
     "data": {
      "text/plain": [
       "1    7055\n",
       "0    2945\n",
       "Name: creditcard, dtype: int64"
      ]
     },
     "execution_count": 19,
     "metadata": {},
     "output_type": "execute_result"
    }
   ],
   "source": [
    "client_info['creditcard'].value_counts()"
   ]
  },
  {
   "cell_type": "markdown",
   "metadata": {},
   "source": [
    "70% клиентов банка пользуются кредитной картой банка"
   ]
  },
  {
   "cell_type": "code",
   "execution_count": 20,
   "metadata": {},
   "outputs": [
    {
     "data": {
      "text/plain": [
       "1    5151\n",
       "0    4849\n",
       "Name: loyalty, dtype: int64"
      ]
     },
     "execution_count": 20,
     "metadata": {},
     "output_type": "execute_result"
    }
   ],
   "source": [
    "client_info['loyalty'].value_counts()"
   ]
  },
  {
   "cell_type": "markdown",
   "metadata": {},
   "source": [
    "50% клиентов банка являются активными"
   ]
  },
  {
   "cell_type": "code",
   "execution_count": 21,
   "metadata": {},
   "outputs": [
    {
     "data": {
      "text/plain": [
       "count     10000.000000\n",
       "mean     100090.239881\n",
       "std       57510.492818\n",
       "min          11.580000\n",
       "25%       51002.110000\n",
       "50%      100193.915000\n",
       "75%      149388.247500\n",
       "max      199992.480000\n",
       "Name: estimated_salary, dtype: float64"
      ]
     },
     "execution_count": 21,
     "metadata": {},
     "output_type": "execute_result"
    }
   ],
   "source": [
    "client_info['estimated_salary'].describe()"
   ]
  },
  {
   "cell_type": "markdown",
   "metadata": {},
   "source": [
    "Из представленных данныъ можно сделать вывод, что средняя заботная плата клиентов банка - 100 тысяч рублей (срорее всего выброосв нет). Данные в графе мин. - 11 рублей срорей всего связаны с ошибкой в заполнении анкеты клиентом банка"
   ]
  },
  {
   "cell_type": "code",
   "execution_count": 22,
   "metadata": {},
   "outputs": [
    {
     "data": {
      "text/plain": [
       "0    7963\n",
       "1    2037\n",
       "Name: churn, dtype: int64"
      ]
     },
     "execution_count": 22,
     "metadata": {},
     "output_type": "execute_result"
    }
   ],
   "source": [
    "client_info['churn'].value_counts()"
   ]
  },
  {
   "cell_type": "markdown",
   "metadata": {},
   "source": [
    "Отток среди клиентов банка составляет 20%"
   ]
  },
  {
   "cell_type": "code",
   "execution_count": 23,
   "metadata": {},
   "outputs": [
    {
     "data": {
      "text/html": [
       "<div>\n",
       "<style scoped>\n",
       "    .dataframe tbody tr th:only-of-type {\n",
       "        vertical-align: middle;\n",
       "    }\n",
       "\n",
       "    .dataframe tbody tr th {\n",
       "        vertical-align: top;\n",
       "    }\n",
       "\n",
       "    .dataframe thead th {\n",
       "        text-align: right;\n",
       "    }\n",
       "</style>\n",
       "<table border=\"1\" class=\"dataframe\">\n",
       "  <thead>\n",
       "    <tr style=\"text-align: right;\">\n",
       "      <th></th>\n",
       "      <th>userid</th>\n",
       "      <th>score</th>\n",
       "      <th>age</th>\n",
       "      <th>objects</th>\n",
       "      <th>balance</th>\n",
       "      <th>products</th>\n",
       "      <th>creditcard</th>\n",
       "      <th>loyalty</th>\n",
       "      <th>estimated_salary</th>\n",
       "      <th>churn</th>\n",
       "    </tr>\n",
       "  </thead>\n",
       "  <tbody>\n",
       "    <tr>\n",
       "      <th>mean</th>\n",
       "      <td>1.573368e+07</td>\n",
       "      <td>650.528800</td>\n",
       "      <td>38.921800</td>\n",
       "      <td>5.012800</td>\n",
       "      <td>76485.889288</td>\n",
       "      <td>1.530200</td>\n",
       "      <td>0.70550</td>\n",
       "      <td>0.515100</td>\n",
       "      <td>100090.239881</td>\n",
       "      <td>0.203700</td>\n",
       "    </tr>\n",
       "    <tr>\n",
       "      <th>std</th>\n",
       "      <td>7.193619e+04</td>\n",
       "      <td>96.653299</td>\n",
       "      <td>10.487806</td>\n",
       "      <td>2.892174</td>\n",
       "      <td>62397.405202</td>\n",
       "      <td>0.581654</td>\n",
       "      <td>0.45584</td>\n",
       "      <td>0.499797</td>\n",
       "      <td>57510.492818</td>\n",
       "      <td>0.402769</td>\n",
       "    </tr>\n",
       "  </tbody>\n",
       "</table>\n",
       "</div>"
      ],
      "text/plain": [
       "            userid       score        age   objects       balance  products  \\\n",
       "mean  1.573368e+07  650.528800  38.921800  5.012800  76485.889288  1.530200   \n",
       "std   7.193619e+04   96.653299  10.487806  2.892174  62397.405202  0.581654   \n",
       "\n",
       "      creditcard   loyalty  estimated_salary     churn  \n",
       "mean     0.70550  0.515100     100090.239881  0.203700  \n",
       "std      0.45584  0.499797      57510.492818  0.402769  "
      ]
     },
     "metadata": {},
     "output_type": "display_data"
    }
   ],
   "source": [
    "display(client_info.agg(['mean','std']))"
   ]
  },
  {
   "cell_type": "code",
   "execution_count": 24,
   "metadata": {},
   "outputs": [
    {
     "data": {
      "text/html": [
       "<div>\n",
       "<style scoped>\n",
       "    .dataframe tbody tr th:only-of-type {\n",
       "        vertical-align: middle;\n",
       "    }\n",
       "\n",
       "    .dataframe tbody tr th {\n",
       "        vertical-align: top;\n",
       "    }\n",
       "\n",
       "    .dataframe thead th {\n",
       "        text-align: right;\n",
       "    }\n",
       "</style>\n",
       "<table border=\"1\" class=\"dataframe\">\n",
       "  <thead>\n",
       "    <tr style=\"text-align: right;\">\n",
       "      <th></th>\n",
       "      <th>userid</th>\n",
       "      <th>score</th>\n",
       "      <th>age</th>\n",
       "      <th>objects</th>\n",
       "      <th>balance</th>\n",
       "      <th>products</th>\n",
       "      <th>creditcard</th>\n",
       "      <th>loyalty</th>\n",
       "      <th>estimated_salary</th>\n",
       "      <th>churn</th>\n",
       "    </tr>\n",
       "  </thead>\n",
       "  <tbody>\n",
       "    <tr>\n",
       "      <th>std</th>\n",
       "      <td>0.004572</td>\n",
       "      <td>0.148577</td>\n",
       "      <td>0.269458</td>\n",
       "      <td>0.576958</td>\n",
       "      <td>0.815803</td>\n",
       "      <td>0.380117</td>\n",
       "      <td>0.646124</td>\n",
       "      <td>0.970291</td>\n",
       "      <td>0.574586</td>\n",
       "      <td>1.977264</td>\n",
       "    </tr>\n",
       "  </tbody>\n",
       "</table>\n",
       "</div>"
      ],
      "text/plain": [
       "       userid     score       age   objects   balance  products  creditcard  \\\n",
       "std  0.004572  0.148577  0.269458  0.576958  0.815803  0.380117    0.646124   \n",
       "\n",
       "      loyalty  estimated_salary     churn  \n",
       "std  0.970291          0.574586  1.977264  "
      ]
     },
     "execution_count": 24,
     "metadata": {},
     "output_type": "execute_result"
    }
   ],
   "source": [
    "v = client_info.agg(['mean','std'])\n",
    "v.loc[v.index == 'std']/v.loc[v.index == 'mean'].values"
   ]
  },
  {
   "cell_type": "markdown",
   "metadata": {},
   "source": [
    "На основе анализа данных можно сделать следующие выводы:\n",
    "1. Для 'objects', 'balance', 'products', 'creditcard', 'loyalty', 'estimated_salary' - выборка вариабельна сильно.\n",
    "2. Для признака 'score\" - выборка вариабельна средне."
   ]
  },
  {
   "cell_type": "markdown",
   "metadata": {},
   "source": [
    "Изучим распределение признаков и их зависимоть"
   ]
  },
  {
   "cell_type": "code",
   "execution_count": 25,
   "metadata": {},
   "outputs": [],
   "source": [
    "def parameters(data, column):\n",
    "    sns.set_style(\"darkgrid\")\n",
    "    \n",
    "    fig, (ax1, ax2) = plt.subplots(1,2,figsize=(14,5),gridspec_kw={'width_ratios': [3, 1]})\n",
    "    \n",
    "    min_value = min(data[column])\n",
    "    max_value = max(data[column])\n",
    "    bins_range = np.linspace(min_value, max_value, 10)\n",
    "    sns.distplot(data[column], kde=False, ax=ax1, color='blue', norm_hist=True, bins = bins_range)\n",
    "    ax1.set_ylabel('Частота')\n",
    "    ax1.set_xlabel('Параметр'.format(column))\n",
    "    ax1.set_title(\"Распределение {}\".format(column))\n",
    "    \n",
    "    sns.boxplot(y=column, data=data, ax=ax2, color='#6B8E23')\n",
    "    sns.stripplot(y=column, data=data, jitter=True, zorder=1, color='#9ACD32', ax=ax2, size=2, alpha=0.2)\n",
    "    ax2.set_title(\"Для {}\".format(column))\n",
    "    ax2.set_ylabel('Параметр'.format(column))\n",
    "    plt.show()"
   ]
  },
  {
   "cell_type": "code",
   "execution_count": 26,
   "metadata": {
    "scrolled": true
   },
   "outputs": [
    {
     "data": {
      "image/png": "[encoded data removed]",
      "text/plain": [
       "<Figure size 1008x360 with 2 Axes>"
      ]
     },
     "metadata": {},
     "output_type": "display_data"
    },
    {
     "data": {
      "image/png": "[encoded data removed]",
      "text/plain": [
       "<Figure size 1008x360 with 2 Axes>"
      ]
     },
     "metadata": {},
     "output_type": "display_data"
    },
    {
     "data": {
      "image/png": "[encoded data removed]",
      "text/plain": [
       "<Figure size 1008x360 with 2 Axes>"
      ]
     },
     "metadata": {},
     "output_type": "display_data"
    },
    {
     "data": {
      "image/png": "[encoded data removed]",
      "text/plain": [
       "<Figure size 1008x360 with 2 Axes>"
      ]
     },
     "metadata": {},
     "output_type": "display_data"
    }
   ],
   "source": [
    "listing = ['score', 'age', 'balance', 'estimated_salary']\n",
    "\n",
    "for col in listing:\n",
    "    parameters(client_info, col)"
   ]
  },
  {
   "cell_type": "markdown",
   "metadata": {},
   "source": [
    "На полученных графиках видим, что параметы имеют распределение близкое к нормальному"
   ]
  },
  {
   "cell_type": "code",
   "execution_count": 27,
   "metadata": {},
   "outputs": [],
   "source": [
    "parameters_с = ['city', 'gender', 'creditcard', 'loyalty', 'products', 'objects']"
   ]
  },
  {
   "cell_type": "code",
   "execution_count": 28,
   "metadata": {
    "scrolled": true
   },
   "outputs": [
    {
     "data": {
      "image/png": "[encoded data removed]",
      "text/plain": [
       "<Figure size 1440x720 with 6 Axes>"
      ]
     },
     "metadata": {},
     "output_type": "display_data"
    }
   ],
   "source": [
    "fig, ax = plt.subplots(2, int(len(parameters_с)/2), figsize=(20, 10))\n",
    "for variable, subplot in zip(parameters_с, ax.flatten()):\n",
    "    sns.countplot(client_info[variable], ax=subplot, palette=\"Paired\")\n",
    "    subplot.set_ylabel('Количество')\n",
    "    subplot.set_xlabel('Признак {}'.format(variable))\n",
    "fig.suptitle(\"Категориальные признаки\")\n",
    "plt.show()"
   ]
  },
  {
   "cell_type": "markdown",
   "metadata": {},
   "source": [
    "На полученных графиках видим:\n",
    "\n",
    "1. Самое большое количество клиентов банка из Ярославля;\n",
    "2. Клиентов мужчин больше;\n",
    "3. Большое количество клиентов банка пользуется кредитными картами;\n",
    "4. Клиенты банка анктивные и неактивные распределены практически по ровну;\n",
    "5. Клиенты банка чаще всего пользуютмся 1 или 2 продуктами банка;\n",
    "6. Количество объектов в собственности у клиентов банка распределено практически равномерно (от 1 до 9) "
   ]
  },
  {
   "cell_type": "markdown",
   "metadata": {},
   "source": [
    "Корреляция"
   ]
  },
  {
   "cell_type": "code",
   "execution_count": 29,
   "metadata": {},
   "outputs": [
    {
     "data": {
      "image/png": "[encoded data removed]",
      "text/plain": [
       "<Figure size 1080x1080 with 2 Axes>"
      ]
     },
     "metadata": {},
     "output_type": "display_data"
    }
   ],
   "source": [
    "plt.figure(figsize = (15,15))\n",
    "sns.heatmap(client_info.corr(), annot=True, cmap=\"BuPu\")\n",
    "plt.title('Корреляция')\n",
    "plt.show()"
   ]
  },
  {
   "cell_type": "markdown",
   "metadata": {},
   "source": [
    "На основе анализа данных видим, что корреляции между параметрами слабая.\n",
    "Отток клиентав сильнее всего коррелирует с возрастам, лояльностью, количеством продуктов банка и уровнем баланса"
   ]
  },
  {
   "cell_type": "markdown",
   "metadata": {},
   "source": [
    "Составим портрет клиента склонного к оттоку"
   ]
  },
  {
   "cell_type": "code",
   "execution_count": 30,
   "metadata": {
    "scrolled": true
   },
   "outputs": [
    {
     "data": {
      "image/png": "[encoded data removed]",
      "text/plain": [
       "<Figure size 1152x576 with 4 Axes>"
      ]
     },
     "metadata": {},
     "output_type": "display_data"
    }
   ],
   "source": [
    "fig, axes = plt.subplots(nrows=2, ncols=2, figsize=(16, 8), constrained_layout=True)\n",
    "\n",
    "for col, col_name in enumerate(listing):\n",
    "    client_info.query('churn == 0')[col_name].hist(alpha=0.7, label='Остались', ax=axes[col // 2, col % 2])\n",
    "    client_info.query('churn == 1')[col_name].hist(alpha=0.7, label='Ушли', ax=axes[col // 2, col % 2])\n",
    "    axes[col // 2, col % 2].set_xlabel(col_name)\n",
    "    axes[col // 2, col % 2].legend() \n",
    "fig.suptitle('Признаки');\n",
    "           "
   ]
  },
  {
   "cell_type": "code",
   "execution_count": 31,
   "metadata": {
    "scrolled": true
   },
   "outputs": [
    {
     "data": {
      "image/png": "[encoded data removed]",
      "text/plain": [
       "<Figure size 1440x720 with 6 Axes>"
      ]
     },
     "metadata": {},
     "output_type": "display_data"
    }
   ],
   "source": [
    "fig, ax = plt.subplots(2, int(len(parameters_с)/2), figsize=(20, 10))\n",
    "for variable, subplot in zip(parameters_с, ax.flatten()):\n",
    "    sns.countplot(data=client_info, x=variable, hue='churn', ax=subplot, palette=\"Paired\")\n",
    "    subplot.set_ylabel('Количество')\n",
    "    subplot.set_xlabel('Признак {}'.format(variable))\n",
    "    subplot.legend(labels=['Остались', 'Ушли'])\n",
    "fig.suptitle(\"Категориальные переменные в оттоке\");"
   ]
  },
  {
   "cell_type": "markdown",
   "metadata": {},
   "source": [
    "На основании полученных графиков можно сделать следующие выводы:\n",
    "1. Чаще уходят клиенты старше 40 лет;\n",
    "2. С балансом на счете ниже среднего;\n",
    "3. Чаще всего к оттоку склонны женщины;\n",
    "4. Клиенты пользующиеся одним продуктов так же уходят чаще, тех кто пользульзуется двумя"
   ]
  },
  {
   "cell_type": "markdown",
   "metadata": {},
   "source": [
    "# 4. Кластеризация клиентов"
   ]
  },
  {
   "cell_type": "markdown",
   "metadata": {},
   "source": [
    "Кластеризация клиентов позволит выделить несколько категорий клиентов, что позволит сформировать для каждой категории наиболее оптимальное коммерческое предложение от банка"
   ]
  },
  {
   "cell_type": "code",
   "execution_count": 50,
   "metadata": {},
   "outputs": [
    {
     "data": {
      "text/html": [
       "<div>\n",
       "<style scoped>\n",
       "    .dataframe tbody tr th:only-of-type {\n",
       "        vertical-align: middle;\n",
       "    }\n",
       "\n",
       "    .dataframe tbody tr th {\n",
       "        vertical-align: top;\n",
       "    }\n",
       "\n",
       "    .dataframe thead th {\n",
       "        text-align: right;\n",
       "    }\n",
       "</style>\n",
       "<table border=\"1\" class=\"dataframe\">\n",
       "  <thead>\n",
       "    <tr style=\"text-align: right;\">\n",
       "      <th></th>\n",
       "      <th>userid</th>\n",
       "      <th>score</th>\n",
       "      <th>city</th>\n",
       "      <th>gender</th>\n",
       "      <th>age</th>\n",
       "      <th>objects</th>\n",
       "      <th>balance</th>\n",
       "      <th>products</th>\n",
       "      <th>creditcard</th>\n",
       "      <th>loyalty</th>\n",
       "      <th>estimated_salary</th>\n",
       "      <th>churn</th>\n",
       "      <th>gender_n_Ж</th>\n",
       "      <th>gender_n_М</th>\n",
       "      <th>city_n_Ростов Великий</th>\n",
       "      <th>city_n_Рыбинск</th>\n",
       "      <th>city_n_Ярославль</th>\n",
       "    </tr>\n",
       "  </thead>\n",
       "  <tbody>\n",
       "    <tr>\n",
       "      <th>0</th>\n",
       "      <td>15677338</td>\n",
       "      <td>619</td>\n",
       "      <td>Ярославль</td>\n",
       "      <td>Ж</td>\n",
       "      <td>42</td>\n",
       "      <td>2</td>\n",
       "      <td>0.00</td>\n",
       "      <td>1</td>\n",
       "      <td>1</td>\n",
       "      <td>1</td>\n",
       "      <td>101348.88</td>\n",
       "      <td>1</td>\n",
       "      <td>1</td>\n",
       "      <td>0</td>\n",
       "      <td>0</td>\n",
       "      <td>0</td>\n",
       "      <td>1</td>\n",
       "    </tr>\n",
       "    <tr>\n",
       "      <th>1</th>\n",
       "      <td>15690047</td>\n",
       "      <td>608</td>\n",
       "      <td>Рыбинск</td>\n",
       "      <td>Ж</td>\n",
       "      <td>41</td>\n",
       "      <td>1</td>\n",
       "      <td>83807.86</td>\n",
       "      <td>1</td>\n",
       "      <td>0</td>\n",
       "      <td>1</td>\n",
       "      <td>112542.58</td>\n",
       "      <td>0</td>\n",
       "      <td>1</td>\n",
       "      <td>0</td>\n",
       "      <td>0</td>\n",
       "      <td>1</td>\n",
       "      <td>0</td>\n",
       "    </tr>\n",
       "    <tr>\n",
       "      <th>2</th>\n",
       "      <td>15662040</td>\n",
       "      <td>502</td>\n",
       "      <td>Ярославль</td>\n",
       "      <td>Ж</td>\n",
       "      <td>42</td>\n",
       "      <td>8</td>\n",
       "      <td>159660.80</td>\n",
       "      <td>3</td>\n",
       "      <td>1</td>\n",
       "      <td>0</td>\n",
       "      <td>113931.57</td>\n",
       "      <td>1</td>\n",
       "      <td>1</td>\n",
       "      <td>0</td>\n",
       "      <td>0</td>\n",
       "      <td>0</td>\n",
       "      <td>1</td>\n",
       "    </tr>\n",
       "    <tr>\n",
       "      <th>3</th>\n",
       "      <td>15744090</td>\n",
       "      <td>699</td>\n",
       "      <td>Ярославль</td>\n",
       "      <td>Ж</td>\n",
       "      <td>39</td>\n",
       "      <td>1</td>\n",
       "      <td>0.00</td>\n",
       "      <td>2</td>\n",
       "      <td>0</td>\n",
       "      <td>0</td>\n",
       "      <td>93826.63</td>\n",
       "      <td>0</td>\n",
       "      <td>1</td>\n",
       "      <td>0</td>\n",
       "      <td>0</td>\n",
       "      <td>0</td>\n",
       "      <td>1</td>\n",
       "    </tr>\n",
       "    <tr>\n",
       "      <th>4</th>\n",
       "      <td>15780624</td>\n",
       "      <td>850</td>\n",
       "      <td>Рыбинск</td>\n",
       "      <td>Ж</td>\n",
       "      <td>43</td>\n",
       "      <td>2</td>\n",
       "      <td>125510.82</td>\n",
       "      <td>1</td>\n",
       "      <td>1</td>\n",
       "      <td>1</td>\n",
       "      <td>79084.10</td>\n",
       "      <td>0</td>\n",
       "      <td>1</td>\n",
       "      <td>0</td>\n",
       "      <td>0</td>\n",
       "      <td>1</td>\n",
       "      <td>0</td>\n",
       "    </tr>\n",
       "  </tbody>\n",
       "</table>\n",
       "</div>"
      ],
      "text/plain": [
       "     userid  score       city gender  age  objects    balance  products  \\\n",
       "0  15677338    619  Ярославль      Ж   42        2       0.00         1   \n",
       "1  15690047    608    Рыбинск      Ж   41        1   83807.86         1   \n",
       "2  15662040    502  Ярославль      Ж   42        8  159660.80         3   \n",
       "3  15744090    699  Ярославль      Ж   39        1       0.00         2   \n",
       "4  15780624    850    Рыбинск      Ж   43        2  125510.82         1   \n",
       "\n",
       "   creditcard  loyalty  estimated_salary  churn  gender_n_Ж  gender_n_М  \\\n",
       "0           1        1         101348.88      1           1           0   \n",
       "1           0        1         112542.58      0           1           0   \n",
       "2           1        0         113931.57      1           1           0   \n",
       "3           0        0          93826.63      0           1           0   \n",
       "4           1        1          79084.10      0           1           0   \n",
       "\n",
       "   city_n_Ростов Великий  city_n_Рыбинск  city_n_Ярославль  \n",
       "0                      0               0                 1  \n",
       "1                      0               1                 0  \n",
       "2                      0               0                 1  \n",
       "3                      0               0                 1  \n",
       "4                      0               1                 0  "
      ]
     },
     "metadata": {},
     "output_type": "display_data"
    }
   ],
   "source": [
    "client_info_a = client_info.copy()\n",
    "client_info_a['city_n'] = client_info_a['city']\n",
    "client_info_a['gender_n'] = client_info_a['gender']\n",
    "client_info_a = pd.get_dummies(client_info_a, columns=['gender_n','city_n'])\n",
    "display(client_info_a.head())"
   ]
  },
  {
   "cell_type": "code",
   "execution_count": 51,
   "metadata": {},
   "outputs": [],
   "source": [
    "cluster = client_info_a.drop(columns=['userid', 'city','gender'])"
   ]
  },
  {
   "cell_type": "code",
   "execution_count": 52,
   "metadata": {},
   "outputs": [],
   "source": [
    "sc = StandardScaler()\n",
    "X_sc = sc.fit_transform(cluster)\n",
    "\n",
    "linked = linkage(X_sc, method = 'ward') "
   ]
  },
  {
   "cell_type": "code",
   "execution_count": 53,
   "metadata": {},
   "outputs": [
    {
     "data": {
      "image/png": "[encoded data removed]",
      "text/plain": [
       "<Figure size 1080x720 with 1 Axes>"
      ]
     },
     "metadata": {
      "needs_background": "light"
     },
     "output_type": "display_data"
    }
   ],
   "source": [
    "plt.figure(figsize=(15, 10))  \n",
    "dendrogram(linked, orientation='top')\n",
    "plt.show()"
   ]
  },
  {
   "cell_type": "markdown",
   "metadata": {},
   "source": [
    "Из полученного графика видим, что можно выделить четыре кластера. Далее можно запустить более быстрый алгоритм K-Means"
   ]
  },
  {
   "cell_type": "code",
   "execution_count": 36,
   "metadata": {},
   "outputs": [],
   "source": [
    "KM = KMeans(n_clusters = 4, random_state=0) \n",
    "labels = KM.fit_predict(X_sc)"
   ]
  },
  {
   "cell_type": "code",
   "execution_count": 37,
   "metadata": {},
   "outputs": [
    {
     "data": {
      "text/html": [
       "<div>\n",
       "<style scoped>\n",
       "    .dataframe tbody tr th:only-of-type {\n",
       "        vertical-align: middle;\n",
       "    }\n",
       "\n",
       "    .dataframe tbody tr th {\n",
       "        vertical-align: top;\n",
       "    }\n",
       "\n",
       "    .dataframe thead th {\n",
       "        text-align: right;\n",
       "    }\n",
       "</style>\n",
       "<table border=\"1\" class=\"dataframe\">\n",
       "  <thead>\n",
       "    <tr style=\"text-align: right;\">\n",
       "      <th></th>\n",
       "      <th>score</th>\n",
       "      <th>age</th>\n",
       "      <th>objects</th>\n",
       "      <th>balance</th>\n",
       "      <th>products</th>\n",
       "      <th>creditcard</th>\n",
       "      <th>loyalty</th>\n",
       "      <th>estimated_salary</th>\n",
       "      <th>churn</th>\n",
       "      <th>gender_n_Ж</th>\n",
       "      <th>gender_n_М</th>\n",
       "      <th>city_n_Ростов Великий</th>\n",
       "      <th>city_n_Рыбинск</th>\n",
       "      <th>city_n_Ярославль</th>\n",
       "    </tr>\n",
       "    <tr>\n",
       "      <th>cluster</th>\n",
       "      <th></th>\n",
       "      <th></th>\n",
       "      <th></th>\n",
       "      <th></th>\n",
       "      <th></th>\n",
       "      <th></th>\n",
       "      <th></th>\n",
       "      <th></th>\n",
       "      <th></th>\n",
       "      <th></th>\n",
       "      <th></th>\n",
       "      <th></th>\n",
       "      <th></th>\n",
       "      <th></th>\n",
       "    </tr>\n",
       "  </thead>\n",
       "  <tbody>\n",
       "    <tr>\n",
       "      <th>0</th>\n",
       "      <td>651.333872</td>\n",
       "      <td>38.890997</td>\n",
       "      <td>5.032297</td>\n",
       "      <td>61818.147763</td>\n",
       "      <td>1.539362</td>\n",
       "      <td>0.694792</td>\n",
       "      <td>0.529673</td>\n",
       "      <td>99440.572281</td>\n",
       "      <td>0.166734</td>\n",
       "      <td>0.439645</td>\n",
       "      <td>0.560355</td>\n",
       "      <td>0.0</td>\n",
       "      <td>1.0</td>\n",
       "      <td>0.0</td>\n",
       "    </tr>\n",
       "    <tr>\n",
       "      <th>1</th>\n",
       "      <td>649.185759</td>\n",
       "      <td>38.773994</td>\n",
       "      <td>4.950022</td>\n",
       "      <td>60322.670159</td>\n",
       "      <td>1.547545</td>\n",
       "      <td>0.697921</td>\n",
       "      <td>0.513932</td>\n",
       "      <td>99564.252755</td>\n",
       "      <td>0.203450</td>\n",
       "      <td>1.000000</td>\n",
       "      <td>0.000000</td>\n",
       "      <td>0.0</td>\n",
       "      <td>0.0</td>\n",
       "      <td>1.0</td>\n",
       "    </tr>\n",
       "    <tr>\n",
       "      <th>2</th>\n",
       "      <td>650.064657</td>\n",
       "      <td>38.296404</td>\n",
       "      <td>5.049401</td>\n",
       "      <td>63546.284875</td>\n",
       "      <td>1.517254</td>\n",
       "      <td>0.713767</td>\n",
       "      <td>0.519070</td>\n",
       "      <td>100174.252495</td>\n",
       "      <td>0.127134</td>\n",
       "      <td>0.000000</td>\n",
       "      <td>1.000000</td>\n",
       "      <td>0.0</td>\n",
       "      <td>0.0</td>\n",
       "      <td>1.0</td>\n",
       "    </tr>\n",
       "    <tr>\n",
       "      <th>3</th>\n",
       "      <td>651.453567</td>\n",
       "      <td>39.771622</td>\n",
       "      <td>5.009964</td>\n",
       "      <td>119730.116134</td>\n",
       "      <td>1.519729</td>\n",
       "      <td>0.713830</td>\n",
       "      <td>0.497409</td>\n",
       "      <td>101113.435102</td>\n",
       "      <td>0.324432</td>\n",
       "      <td>0.475488</td>\n",
       "      <td>0.524512</td>\n",
       "      <td>1.0</td>\n",
       "      <td>0.0</td>\n",
       "      <td>0.0</td>\n",
       "    </tr>\n",
       "  </tbody>\n",
       "</table>\n",
       "</div>"
      ],
      "text/plain": [
       "              score        age   objects        balance  products  creditcard  \\\n",
       "cluster                                                                         \n",
       "0        651.333872  38.890997  5.032297   61818.147763  1.539362    0.694792   \n",
       "1        649.185759  38.773994  4.950022   60322.670159  1.547545    0.697921   \n",
       "2        650.064657  38.296404  5.049401   63546.284875  1.517254    0.713767   \n",
       "3        651.453567  39.771622  5.009964  119730.116134  1.519729    0.713830   \n",
       "\n",
       "          loyalty  estimated_salary     churn  gender_n_Ж  gender_n_М  \\\n",
       "cluster                                                                 \n",
       "0        0.529673      99440.572281  0.166734    0.439645    0.560355   \n",
       "1        0.513932      99564.252755  0.203450    1.000000    0.000000   \n",
       "2        0.519070     100174.252495  0.127134    0.000000    1.000000   \n",
       "3        0.497409     101113.435102  0.324432    0.475488    0.524512   \n",
       "\n",
       "         city_n_Ростов Великий  city_n_Рыбинск  city_n_Ярославль  \n",
       "cluster                                                           \n",
       "0                          0.0             1.0               0.0  \n",
       "1                          0.0             0.0               1.0  \n",
       "2                          0.0             0.0               1.0  \n",
       "3                          1.0             0.0               0.0  "
      ]
     },
     "execution_count": 37,
     "metadata": {},
     "output_type": "execute_result"
    }
   ],
   "source": [
    "cluster['cluster'] = labels\n",
    "cluster.groupby('cluster').agg('mean')"
   ]
  },
  {
   "cell_type": "code",
   "execution_count": 38,
   "metadata": {},
   "outputs": [
    {
     "data": {
      "application/javascript": "IPython.OutputArea.auto_scroll_threshold = 9999;\n",
      "text/plain": [
       "<IPython.core.display.Javascript object>"
      ]
     },
     "metadata": {},
     "output_type": "display_data"
    }
   ],
   "source": [
    "%%javascript\n",
    "IPython.OutputArea.auto_scroll_threshold = 9999;"
   ]
  },
  {
   "cell_type": "code",
   "execution_count": 39,
   "metadata": {},
   "outputs": [
    {
     "data": {
      "image/png": "[encoded data removed]",
      "text/plain": [
       "<Figure size 1152x720 with 16 Axes>"
      ]
     },
     "metadata": {},
     "output_type": "display_data"
    },
    {
     "data": {
      "image/png": "[encoded data removed]",
      "text/plain": [
       "<Figure size 1152x720 with 16 Axes>"
      ]
     },
     "metadata": {},
     "output_type": "display_data"
    },
    {
     "data": {
      "image/png": "[encoded data removed]",
      "text/plain": [
       "<Figure size 1152x720 with 16 Axes>"
      ]
     },
     "metadata": {},
     "output_type": "display_data"
    },
    {
     "data": {
      "image/png": "[encoded data removed]",
      "text/plain": [
       "<Figure size 1152x720 with 16 Axes>"
      ]
     },
     "metadata": {},
     "output_type": "display_data"
    }
   ],
   "source": [
    "for value in [0, 1, 2, 3,]:\n",
    "    cluster[cluster['cluster']==value].hist(figsize=(16,10))\n",
    "    plt.suptitle('\\nПризнаки для кластера {}'.format(value), fontsize = 15)\n",
    "    plt.show()"
   ]
  },
  {
   "cell_type": "markdown",
   "metadata": {},
   "source": [
    "На основании разделения на кластеры и полученных графиков можно сделать следующее выводы:\n",
    "\n",
    "1. Кластер 0 - клиенты проживают в Ростове Великом. Распределение между мужчинами и женщинами примерно равное (52% мужчин и 48% женщин). Средний баланс на счете - 120 тысяч рублей. Клиенты данного кластера больше всего склонны к оттоку - 32%. Средняя зарплата у клиентов - 101 тысяча рублей. 49% - лояльные пользователи. В среднем у них 1-2 продукта и 5 объектов в собственности. Среднее число баллов скоринга - 651.\n",
    "2. кластер 1 - клиенты проживают в Ярославле. Данные в кластеры представлены по клинтам женского пола. Средний баланс на счете - 60 тысяч рублей. Процент оттока - 20%. Средняя зарплата у клиентов - 100 тысяч рублей. 51% - лояльные пользователи. В среднем у них 1-2 продукта и 5 объектов в собственности. Среднее число баллов скоринга - 649.\n",
    "3. кластер 2 - клиенты проживают в Ярославле. Данные в кластеры представлены по клинтам мужского пола. Средний баланс на счете - 64 тысяч рублей. Процент оттока самый низкий - 13%. Средняя зарплата у клиентов - 100 тысяч рублей. 52% - лояльные пользователи. В среднем у них 1-2 продукта и 5 объектов в собственности. Среднее число баллов скоринга - 650.\n",
    "4. кластер 3 - клиенты проживают в Рыбинске. Распределение между мужчинами и женщинами примерно равное (56% мужчин и 44% женщин). Средний баланс на счете - 62 тысячи рублей. Процент оттока небольшой - 16%. Средняя зарплата у клиентов - 99 тысяч рублей. 53% - лояльные пользователи. В среднем у них 1-2 продукта и 5 объектов в собственности. Среднее число баллов скоринга - 651."
   ]
  },
  {
   "cell_type": "markdown",
   "metadata": {},
   "source": [
    "# 5. Проверка гипотиз"
   ]
  },
  {
   "cell_type": "markdown",
   "metadata": {},
   "source": [
    "## 5.1 Гипотиза различия дохода между теми клиентами, которые пользуются двумя продуктами банка, и теми, которые пользуются одним"
   ]
  },
  {
   "cell_type": "markdown",
   "metadata": {},
   "source": [
    "Проверим гипотезу различия дохода между теми клиентами, которые пользуются двумя продуктами банка, и теми, которые пользуются одним.\n",
    "\n",
    "Сформултруем гипотизу H0:\n",
    "\n",
    "- Доходы клиентов, которые пользуются двумя продуктами банка, и теми, которые пользуются одним, равны\n",
    "\n",
    "Исходя из Н0 сформулируем альтернативную гипотизу Н1:\n",
    "\n",
    "- Доходы клиентов, которые пользуются двумя продуктами банка, и теми, которые пользуются одним, различаются\n",
    "\n",
    "Пороговое значение alpha примем за 5%."
   ]
  },
  {
   "cell_type": "code",
   "execution_count": 40,
   "metadata": {},
   "outputs": [
    {
     "data": {
      "image/png": "[encoded data removed]",
      "text/plain": [
       "<Figure size 1440x360 with 2 Axes>"
      ]
     },
     "metadata": {},
     "output_type": "display_data"
    }
   ],
   "source": [
    "fig, (ax1, ax2) = plt.subplots(1,2,figsize=(20,5))\n",
    "\n",
    "sns.distplot(client_info.query('products == 1')['estimated_salary'], kde=False, ax=ax1)\n",
    "ax1.set_title(\"Доход клиентов c одним продуктом\")\n",
    "ax1.set_ylabel('Частота')\n",
    "ax1.set_xlabel('Доход')\n",
    "\n",
    "sns.distplot(client_info.query('products == 2')['estimated_salary'], kde=False, ax=ax2)\n",
    "ax2.set_title(\"Доход клиентов с двумя продуктами\")\n",
    "ax2.set_ylabel('Частота')\n",
    "ax2.set_xlabel('Доход')\n",
    "\n",
    "plt.show()"
   ]
  },
  {
   "cell_type": "markdown",
   "metadata": {},
   "source": [
    "Применим метод Манна—Уитни для оценки различий между двумя независимыми выборками и проверки нормального распределения."
   ]
  },
  {
   "cell_type": "code",
   "execution_count": 41,
   "metadata": {},
   "outputs": [
    {
     "name": "stdout",
     "output_type": "stream",
     "text": [
      "p-значение: 0.4079566651927651\n",
      "Не получилось отвергнуть нулевую гипотезу\n"
     ]
    }
   ],
   "source": [
    "alpha = 0.05\n",
    "\n",
    "results = st.mannwhitneyu(\n",
    "    client_info.query('products == 1')['estimated_salary'], \n",
    "    client_info.query('products == 2')['estimated_salary'], \n",
    "    alternative = 'two-sided')\n",
    "\n",
    "print('p-значение:', results.pvalue)\n",
    "\n",
    "if (results.pvalue < alpha):\n",
    "    print(\"Отвергаем нулевую гипотезу\")\n",
    "else:\n",
    "    print(\"Не получилось отвергнуть нулевую гипотезу\")"
   ]
  },
  {
   "cell_type": "markdown",
   "metadata": {},
   "source": [
    "Не удалось отвергнуть нулевую гипотезу: доходы клиентов, которые пользуются двумя продуктами банка, и теми, которые пользуются одним, не различаются."
   ]
  },
  {
   "cell_type": "markdown",
   "metadata": {},
   "source": [
    "## 5.2 Гипотеза оттока между теми клиентами, которые пользуются двумя и более продуктами банка, и теми, которые пользуются одним"
   ]
  },
  {
   "cell_type": "markdown",
   "metadata": {},
   "source": [
    "Проверим гипотезу различия оттока между теми клиентами, которые пользуются двумя и более продуктами банка, и теми, которые пользуются одним.\n",
    "\n",
    "Сформултруем гипотизу H0:\n",
    "\n",
    "- Отток клиентов, которые пользуются двумя и более продуктами банка, и отток тех, которые пользуются одним, равны\n",
    "\n",
    "Исходя из Н0 сформулируем альтернативную гипотизу Н1:\n",
    "\n",
    "- Отток клиентов, которые пользуются двумя и более продуктами банка, и отток тех, которые пользуются одним, различаются\n",
    "\n",
    "Пороговое значение alpha примем за 5%."
   ]
  },
  {
   "cell_type": "code",
   "execution_count": 42,
   "metadata": {},
   "outputs": [
    {
     "data": {
      "image/png": "[encoded data removed]",
      "text/plain": [
       "<Figure size 1080x360 with 2 Axes>"
      ]
     },
     "metadata": {},
     "output_type": "display_data"
    }
   ],
   "source": [
    "fig, (ax1, ax2) = plt.subplots(1,2,figsize=(15,5))\n",
    "\n",
    "bins_range = np.linspace(0, 1, 10)\n",
    "    \n",
    "sns.distplot(client_info.query('products == 1')['churn'], kde=False, ax=ax1, bins = bins_range)\n",
    "ax1.set_title(\"Отток клиентов c одним продуктом\")\n",
    "ax1.set(ylabel=None)\n",
    "ax1.set_xlabel('Отток')\n",
    "\n",
    "sns.distplot(client_info.query('products > 1')['churn'], kde=False, ax=ax2, bins = bins_range)\n",
    "ax2.set_title(\"Отток клиентов с двумя и более продуктами\")\n",
    "ax2.set(ylabel=None)\n",
    "ax2.set_xlabel('Отток')\n",
    "\n",
    "plt.show()"
   ]
  },
  {
   "cell_type": "markdown",
   "metadata": {},
   "source": [
    "Так как churn - величина бинарная, будет оптимальным использование Z-критерия для сравнения долей."
   ]
  },
  {
   "cell_type": "code",
   "execution_count": 43,
   "metadata": {},
   "outputs": [
    {
     "name": "stdout",
     "output_type": "stream",
     "text": [
      "p-значение: 2.0079099625883425e-79\n",
      "Отвергаем нулевую гипотезу\n"
     ]
    }
   ],
   "source": [
    "alpha = 0.05\n",
    "\n",
    "from statsmodels.stats import weightstats as stests\n",
    "\n",
    "results, pvalue = stests.ztest(\n",
    "    client_info.query('products == 1')['churn'], \n",
    "    x2=client_info.query('products > 1')['churn'],\n",
    "    value = 0,\n",
    "    alternative='two-sided')\n",
    "\n",
    "print('p-значение:', float(pvalue))\n",
    "\n",
    "if (pvalue < alpha):\n",
    "    print(\"Отвергаем нулевую гипотезу\")\n",
    "else:\n",
    "    print(\"Не получилось отвергнуть нулевую гипотезу\")           \n",
    "                  "
   ]
  },
  {
   "cell_type": "markdown",
   "metadata": {},
   "source": [
    "Отвергаем нулевую гипотезу: отток клиентов, которые пользуются двумя и более продуктами банка, и отток тех, которые пользуются одним, различаются."
   ]
  },
  {
   "cell_type": "markdown",
   "metadata": {},
   "source": [
    "Приведенный пример на правктике удалось применить только если сменить формулировку второй гипотизы в проекте. Выглядит это так:"
   ]
  },
  {
   "cell_type": "markdown",
   "metadata": {},
   "source": [
    "## 5.3 Гипотеза оттока между лояльными и нелояльными клиентами банка"
   ]
  },
  {
   "cell_type": "markdown",
   "metadata": {},
   "source": [
    "Проверим гипотезу различия оттока между лояльными и нелояльными клиентами банка.\n",
    "\n",
    "Сформултруем гипотизу H0:\n",
    "\n",
    "- Доли оттока среди лояльных и нелояльных клиентов равны\n",
    "\n",
    "Исходя из Н0 сформулируем альтернативную гипотизу Н1:\n",
    "\n",
    "- Доли оттока среди лояльных и нелояльных клиентов различаются\n",
    "\n",
    "Пороговое значение alpha примем за 5%."
   ]
  },
  {
   "cell_type": "code",
   "execution_count": 49,
   "metadata": {},
   "outputs": [
    {
     "name": "stdout",
     "output_type": "stream",
     "text": [
      "Уровень значимости: 0.05\n",
      "p-значение: 0.000\n",
      "Отвергаем нулевую гипотезу\n"
     ]
    }
   ],
   "source": [
    "def test(dep_col, ind_col, alpha):\n",
    "    \n",
    "    group_size = client_info[ind_col].value_counts()\n",
    "    share_size = client_info.groupby(ind_col)[dep_col].sum() \n",
    "   \n",
    "    \n",
    "    p = share_size / group_size\n",
    "    p_combined = share_size.sum() / group_size.sum()\n",
    "    \n",
    "    difference = p[0] - p[1]\n",
    "    \n",
    "    z_value = difference / mth.sqrt(p_combined * (1 - p_combined) * (1/group_size[0] + 1/group_size[1]))\n",
    "\n",
    "    distr = st.norm(0, 1) \n",
    "\n",
    "    p_value = (1 - distr.cdf(abs(z_value))) * 2\n",
    "\n",
    "    print(f'Уровень значимости: {alpha}')\n",
    "    print('p-значение: {0:0.3f}'.format(p_value))\n",
    "\n",
    "    if (p_value < alpha):\n",
    "        print(\"Отвергаем нулевую гипотезу\")\n",
    "    else:\n",
    "        print(\"Не получилось отвергнуть нулевую гипотезу\")\n",
    "\n",
    "test('churn', 'loyalty', .05)"
   ]
  },
  {
   "cell_type": "markdown",
   "metadata": {},
   "source": [
    "Отвергаем нулевую гипотезу: доли оттока среди лояльных и нелояльных клиентов различаются."
   ]
  },
  {
   "cell_type": "markdown",
   "metadata": {},
   "source": [
    "# 6. Общие выводы и рекомендации"
   ]
  },
  {
   "cell_type": "markdown",
   "metadata": {},
   "source": [
    "В проекте был проведен анализ данных о клиентах банка «Метанпромбанк»."
   ]
  },
  {
   "cell_type": "markdown",
   "metadata": {},
   "source": [
    "## Общие выводы"
   ]
  },
  {
   "cell_type": "markdown",
   "metadata": {},
   "source": [
    "На основании проведенного анализа клиентов банка можно разделить на следующие группы:\n",
    "1. клиенты более склонные к оттоку (32%), проживают в Ростове Великом, средний баланс на счете у них - 120 тысяч рублей, средняя зарплата - 101 тысяча рублей. В среднем у них 1-2 продукта и 5 объектов собственности.\n",
    "2. клиенты менее склонны к оттоку (16%), проживают в Рыбинске, средний баланс - 62 тысячи рублей. В среднем у клиентов 1-2 продукта и 5 объектов в собственности. Средняя зарплата - 99 тысяч рублей.\n",
    "3. клиенты менее склонны к оттоку (14-18%), проживают в Ярославле. В среднем у таких клиентов 2 продукта и 5 объектов в собственности.Средний баланс на счете у них - 60 - 65 тысяч рублей, средняя зарплата - 100 тысяч рублей."
   ]
  },
  {
   "cell_type": "markdown",
   "metadata": {},
   "source": [
    "Также удалось составить портрет клиенты более склонного к оттоку:\n",
    "1. Чаще уходят клиенты старше 40 лет;\n",
    "2. С балансом на счете ниже среднего;\n",
    "3. Чаще всего к оттоку склонны женщины;\n",
    "4. Клиенты пользующиеся одним продуктов так же уходят чаще, тех кто пользульзуется двумя"
   ]
  },
  {
   "cell_type": "markdown",
   "metadata": {},
   "source": [
    "## Рекомендации"
   ]
  },
  {
   "cell_type": "markdown",
   "metadata": {},
   "source": [
    "1. Если у клиента не указан баланс, и он является потребителем услуги, не предполагающей наличие дебетового счета, то он менее склонен к оттоку. Если у них долгосрочный банковский продукт, такие клиенты остаются с банком на довольно продолжительный срок, поэтому у банка есть отличная возможность заслужить лояльность таких клиентов, а также предложить им продукты, предполагающие наличие дебетового счета (вклады, дебетовые карты, зарплатные проекты и т.д.).\n",
    "2. В Ростове Великом довольно большой отток клиентов, стоит обратить внимание на данный филиал, с целью повышения лояльности клиентов.\n",
    "3. В Ростове Великом довольно большое число клиентов не имеющих объектов с собственности. Возможно стоит разработать для данных клиентов специальные предложения по ипотечным программам.\n",
    "4. Клиентам из Рыбинска можно порекомендовать продукты, предполагающие наличие дебетового счета. Сформировать для корпоротивных клиентов данного города специальные предложения открытию зарплатных проекторв для их сотрудников.\n",
    "5. В целом, большинство клиентов - это владельцы 1-2 продуктов (в Ярославле много клиентов, у кого 2 продукта, в Рыбинске и Ростове большинство с 1 продуктом), поэтому следует направить внимание на увеличение числа продуктов для уже имеющихся клиентов, так как они по большей части лояльны к банку и более охотно воспользуются дополнительными продуктами, чем те, кто еще не является клиентом банка. Наибольший доход банку приносят именно такие клиенты, поскольку они пользуются большим количеством продуктов.\n",
    "6. Судя по данным, клиентами банка являются люди возраста 37-45 лет. Стоит направить внимание на привлечение клиентов других возрастных сегментов, например, молодых людей (возраст 25-35) со стабильным доходом, для них возможно запустить как специальные программы по ипотеке (например направленные на молодые семьи с детьми) или инвестиционные программы. Так же возможно разработать специальные программы для людей старшего возраста, например дебитовые карты с повышенным кешбеком для получения пенсии."
   ]
  }
 ],
 "metadata": {
  "ExecuteTimeLog": [
   {
    "duration": 1634,
    "start_time": "2022-08-09T19:42:26.228Z"
   },
   {
    "duration": 366,
    "start_time": "2022-08-09T19:47:54.784Z"
   },
   {
    "duration": 44,
    "start_time": "2022-08-09T19:49:12.365Z"
   },
   {
    "duration": 44,
    "start_time": "2022-08-09T19:49:19.349Z"
   },
   {
    "duration": 10,
    "start_time": "2022-08-09T19:50:22.855Z"
   },
   {
    "duration": 17,
    "start_time": "2022-08-09T20:00:01.909Z"
   },
   {
    "duration": 12,
    "start_time": "2022-08-09T20:01:15.388Z"
   },
   {
    "duration": 10,
    "start_time": "2022-08-09T20:08:13.625Z"
   },
   {
    "duration": 13,
    "start_time": "2022-08-09T20:10:00.673Z"
   },
   {
    "duration": 45,
    "start_time": "2022-08-09T20:13:05.310Z"
   },
   {
    "duration": 8,
    "start_time": "2022-08-09T20:18:28.011Z"
   },
   {
    "duration": 1532,
    "start_time": "2022-08-14T23:39:56.546Z"
   },
   {
    "duration": 361,
    "start_time": "2022-08-14T23:39:58.080Z"
   },
   {
    "duration": 11,
    "start_time": "2022-08-14T23:39:58.442Z"
   },
   {
    "duration": 9,
    "start_time": "2022-08-14T23:39:58.455Z"
   },
   {
    "duration": 12,
    "start_time": "2022-08-14T23:39:58.466Z"
   },
   {
    "duration": 9,
    "start_time": "2022-08-14T23:39:58.479Z"
   },
   {
    "duration": 8,
    "start_time": "2022-08-14T23:39:58.490Z"
   },
   {
    "duration": 51,
    "start_time": "2022-08-14T23:39:58.499Z"
   },
   {
    "duration": 7,
    "start_time": "2022-08-14T23:39:58.551Z"
   },
   {
    "duration": 32,
    "start_time": "2022-08-14T23:52:50.727Z"
   },
   {
    "duration": 7,
    "start_time": "2022-08-15T00:22:42.313Z"
   },
   {
    "duration": 100,
    "start_time": "2022-08-15T00:31:37.826Z"
   },
   {
    "duration": 9,
    "start_time": "2022-08-15T00:31:51.227Z"
   },
   {
    "duration": 5,
    "start_time": "2022-08-15T00:34:21.430Z"
   },
   {
    "duration": 6,
    "start_time": "2022-08-15T00:35:52.536Z"
   },
   {
    "duration": 7,
    "start_time": "2022-08-15T00:38:50.230Z"
   },
   {
    "duration": 8,
    "start_time": "2022-08-15T00:39:57.927Z"
   },
   {
    "duration": 6,
    "start_time": "2022-08-15T00:41:26.798Z"
   },
   {
    "duration": 5,
    "start_time": "2022-08-15T00:42:49.024Z"
   },
   {
    "duration": 8,
    "start_time": "2022-08-15T00:44:06.966Z"
   },
   {
    "duration": 5,
    "start_time": "2022-08-15T00:47:21.428Z"
   },
   {
    "duration": 52,
    "start_time": "2022-08-15T00:49:59.247Z"
   },
   {
    "duration": 57,
    "start_time": "2022-08-15T00:51:29.309Z"
   },
   {
    "duration": 55,
    "start_time": "2022-08-15T00:56:50.032Z"
   },
   {
    "duration": 5,
    "start_time": "2022-08-15T01:03:48.060Z"
   },
   {
    "duration": 4,
    "start_time": "2022-08-15T01:03:55.263Z"
   },
   {
    "duration": 6,
    "start_time": "2022-08-15T01:05:36.594Z"
   },
   {
    "duration": 6,
    "start_time": "2022-08-15T01:08:23.049Z"
   },
   {
    "duration": 1129,
    "start_time": "2022-08-15T01:09:59.182Z"
   },
   {
    "duration": 5,
    "start_time": "2022-08-15T01:11:05.233Z"
   },
   {
    "duration": 959,
    "start_time": "2022-08-15T01:11:06.668Z"
   },
   {
    "duration": 4,
    "start_time": "2022-08-15T01:13:03.825Z"
   },
   {
    "duration": 1219,
    "start_time": "2022-08-15T01:13:05.043Z"
   },
   {
    "duration": 4,
    "start_time": "2022-08-15T01:13:49.759Z"
   },
   {
    "duration": 219,
    "start_time": "2022-08-15T01:13:50.502Z"
   },
   {
    "duration": 5,
    "start_time": "2022-08-15T01:15:39.967Z"
   },
   {
    "duration": 1120,
    "start_time": "2022-08-15T01:15:40.509Z"
   },
   {
    "duration": 4,
    "start_time": "2022-08-15T01:18:28.679Z"
   },
   {
    "duration": 14,
    "start_time": "2022-08-15T01:18:29.654Z"
   },
   {
    "duration": 6,
    "start_time": "2022-08-15T01:19:35.085Z"
   },
   {
    "duration": 304,
    "start_time": "2022-08-15T01:19:35.942Z"
   },
   {
    "duration": 4,
    "start_time": "2022-08-15T01:20:02.095Z"
   },
   {
    "duration": 216,
    "start_time": "2022-08-15T01:20:02.645Z"
   },
   {
    "duration": 9,
    "start_time": "2022-08-15T01:29:29.693Z"
   },
   {
    "duration": 221,
    "start_time": "2022-08-15T01:29:35.009Z"
   },
   {
    "duration": 5,
    "start_time": "2022-08-15T01:30:36.591Z"
   },
   {
    "duration": 217,
    "start_time": "2022-08-15T01:30:38.390Z"
   },
   {
    "duration": 1260,
    "start_time": "2022-08-15T01:30:59.366Z"
   },
   {
    "duration": 5,
    "start_time": "2022-08-15T01:32:33.629Z"
   },
   {
    "duration": 1052,
    "start_time": "2022-08-15T01:32:34.518Z"
   },
   {
    "duration": 5,
    "start_time": "2022-08-15T01:33:08.860Z"
   },
   {
    "duration": 1138,
    "start_time": "2022-08-15T01:33:09.959Z"
   },
   {
    "duration": 2,
    "start_time": "2022-08-15T01:37:17.529Z"
   },
   {
    "duration": 1751,
    "start_time": "2022-08-15T23:11:09.587Z"
   },
   {
    "duration": 110,
    "start_time": "2022-08-15T23:11:11.341Z"
   },
   {
    "duration": 20,
    "start_time": "2022-08-15T23:11:11.453Z"
   },
   {
    "duration": 25,
    "start_time": "2022-08-15T23:11:11.476Z"
   },
   {
    "duration": 19,
    "start_time": "2022-08-15T23:11:11.503Z"
   },
   {
    "duration": 20,
    "start_time": "2022-08-15T23:11:11.524Z"
   },
   {
    "duration": 16,
    "start_time": "2022-08-15T23:11:11.546Z"
   },
   {
    "duration": 81,
    "start_time": "2022-08-15T23:11:11.564Z"
   },
   {
    "duration": 8,
    "start_time": "2022-08-15T23:11:11.647Z"
   },
   {
    "duration": 10,
    "start_time": "2022-08-15T23:11:11.657Z"
   },
   {
    "duration": 7,
    "start_time": "2022-08-15T23:11:11.668Z"
   },
   {
    "duration": 10,
    "start_time": "2022-08-15T23:11:11.700Z"
   },
   {
    "duration": 10,
    "start_time": "2022-08-15T23:11:11.712Z"
   },
   {
    "duration": 11,
    "start_time": "2022-08-15T23:11:11.723Z"
   },
   {
    "duration": 10,
    "start_time": "2022-08-15T23:11:11.735Z"
   },
   {
    "duration": 7,
    "start_time": "2022-08-15T23:11:11.747Z"
   },
   {
    "duration": 12,
    "start_time": "2022-08-15T23:11:11.756Z"
   },
   {
    "duration": 32,
    "start_time": "2022-08-15T23:11:11.769Z"
   },
   {
    "duration": 5,
    "start_time": "2022-08-15T23:11:11.803Z"
   },
   {
    "duration": 61,
    "start_time": "2022-08-15T23:11:11.810Z"
   },
   {
    "duration": 74,
    "start_time": "2022-08-15T23:11:11.872Z"
   },
   {
    "duration": 6,
    "start_time": "2022-08-15T23:11:11.947Z"
   },
   {
    "duration": 1289,
    "start_time": "2022-08-15T23:11:11.955Z"
   },
   {
    "duration": 4,
    "start_time": "2022-08-15T23:11:13.245Z"
   },
   {
    "duration": 127,
    "start_time": "2022-08-15T23:17:58.439Z"
   },
   {
    "duration": 176,
    "start_time": "2022-08-15T23:18:29.661Z"
   },
   {
    "duration": 202,
    "start_time": "2022-08-15T23:19:06.691Z"
   },
   {
    "duration": 6,
    "start_time": "2022-08-15T23:22:56.817Z"
   },
   {
    "duration": 1132,
    "start_time": "2022-08-15T23:22:58.309Z"
   },
   {
    "duration": 638,
    "start_time": "2022-08-15T23:27:37.879Z"
   },
   {
    "duration": 133,
    "start_time": "2022-08-15T23:28:07.929Z"
   },
   {
    "duration": 1388,
    "start_time": "2022-08-15T23:28:10.682Z"
   },
   {
    "duration": 4,
    "start_time": "2022-08-15T23:28:17.638Z"
   },
   {
    "duration": 654,
    "start_time": "2022-08-15T23:28:22.571Z"
   },
   {
    "duration": 731,
    "start_time": "2022-08-15T23:29:49.929Z"
   },
   {
    "duration": 1045,
    "start_time": "2022-08-15T23:30:25.234Z"
   },
   {
    "duration": 947,
    "start_time": "2022-08-15T23:30:40.970Z"
   },
   {
    "duration": 1123,
    "start_time": "2022-08-15T23:31:15.549Z"
   },
   {
    "duration": 1433,
    "start_time": "2022-08-15T23:31:41.381Z"
   },
   {
    "duration": 835,
    "start_time": "2022-08-15T23:34:03.128Z"
   },
   {
    "duration": 582,
    "start_time": "2022-08-15T23:34:20.780Z"
   },
   {
    "duration": 675,
    "start_time": "2022-08-15T23:35:02.563Z"
   },
   {
    "duration": 857,
    "start_time": "2022-08-15T23:35:18.676Z"
   },
   {
    "duration": 3,
    "start_time": "2022-08-15T23:42:10.898Z"
   },
   {
    "duration": 367,
    "start_time": "2022-08-15T23:42:11.663Z"
   },
   {
    "duration": 232,
    "start_time": "2022-08-15T23:42:56.379Z"
   },
   {
    "duration": 2,
    "start_time": "2022-08-15T23:43:12.855Z"
   },
   {
    "duration": 242,
    "start_time": "2022-08-15T23:43:13.576Z"
   },
   {
    "duration": 3,
    "start_time": "2022-08-15T23:44:46.888Z"
   },
   {
    "duration": 287,
    "start_time": "2022-08-15T23:44:48.194Z"
   },
   {
    "duration": 555,
    "start_time": "2022-08-15T23:44:59.720Z"
   },
   {
    "duration": 935,
    "start_time": "2022-08-15T23:50:21.138Z"
   },
   {
    "duration": 29,
    "start_time": "2022-08-15T23:50:54.897Z"
   },
   {
    "duration": 974,
    "start_time": "2022-08-15T23:51:32.429Z"
   },
   {
    "duration": 819,
    "start_time": "2022-08-15T23:51:42.731Z"
   },
   {
    "duration": 7,
    "start_time": "2022-08-16T00:08:45.791Z"
   },
   {
    "duration": 9,
    "start_time": "2022-08-16T00:09:17.401Z"
   },
   {
    "duration": 9,
    "start_time": "2022-08-16T00:10:28.354Z"
   },
   {
    "duration": 150,
    "start_time": "2022-08-16T00:10:44.636Z"
   },
   {
    "duration": 8,
    "start_time": "2022-08-16T00:11:24.586Z"
   },
   {
    "duration": 230,
    "start_time": "2022-08-16T00:11:25.229Z"
   },
   {
    "duration": 6,
    "start_time": "2022-08-16T00:13:16.767Z"
   },
   {
    "duration": 240,
    "start_time": "2022-08-16T00:13:17.280Z"
   },
   {
    "duration": 6,
    "start_time": "2022-08-16T00:13:50.540Z"
   },
   {
    "duration": 154,
    "start_time": "2022-08-16T00:13:51.031Z"
   },
   {
    "duration": 6,
    "start_time": "2022-08-16T00:14:58.751Z"
   },
   {
    "duration": 26,
    "start_time": "2022-08-16T00:14:59.272Z"
   },
   {
    "duration": 4,
    "start_time": "2022-08-16T00:16:09.686Z"
   },
   {
    "duration": 22,
    "start_time": "2022-08-16T00:16:10.565Z"
   },
   {
    "duration": 4,
    "start_time": "2022-08-16T00:16:24.829Z"
   },
   {
    "duration": 143,
    "start_time": "2022-08-16T00:16:26.016Z"
   },
   {
    "duration": 5,
    "start_time": "2022-08-16T00:18:03.728Z"
   },
   {
    "duration": 259,
    "start_time": "2022-08-16T00:18:04.711Z"
   },
   {
    "duration": 5,
    "start_time": "2022-08-16T00:20:49.247Z"
   },
   {
    "duration": 26,
    "start_time": "2022-08-16T00:20:50.204Z"
   },
   {
    "duration": 4,
    "start_time": "2022-08-16T00:21:36.262Z"
   },
   {
    "duration": 21,
    "start_time": "2022-08-16T00:21:37.057Z"
   },
   {
    "duration": 5,
    "start_time": "2022-08-16T00:22:07.987Z"
   },
   {
    "duration": 140,
    "start_time": "2022-08-16T00:22:09.579Z"
   },
   {
    "duration": 5,
    "start_time": "2022-08-16T00:23:06.029Z"
   },
   {
    "duration": 19,
    "start_time": "2022-08-16T00:23:06.808Z"
   },
   {
    "duration": 5,
    "start_time": "2022-08-16T00:23:24.741Z"
   },
   {
    "duration": 19,
    "start_time": "2022-08-16T00:23:26.811Z"
   },
   {
    "duration": 2806,
    "start_time": "2022-08-16T00:26:36.939Z"
   },
   {
    "duration": 4165,
    "start_time": "2022-08-16T00:27:04.799Z"
   },
   {
    "duration": 3221,
    "start_time": "2022-08-16T00:31:48.159Z"
   },
   {
    "duration": 2385,
    "start_time": "2022-08-16T00:32:11.254Z"
   },
   {
    "duration": 1386,
    "start_time": "2022-08-16T00:32:34.167Z"
   },
   {
    "duration": 1338,
    "start_time": "2022-08-16T00:32:50.993Z"
   },
   {
    "duration": 561,
    "start_time": "2022-08-16T00:33:11.930Z"
   },
   {
    "duration": 1177,
    "start_time": "2022-08-16T00:33:22.244Z"
   },
   {
    "duration": 1367,
    "start_time": "2022-08-16T00:36:01.993Z"
   },
   {
    "duration": 12,
    "start_time": "2022-08-16T00:41:24.855Z"
   },
   {
    "duration": 12,
    "start_time": "2022-08-16T00:42:00.970Z"
   },
   {
    "duration": 868,
    "start_time": "2022-08-16T00:42:17.017Z"
   },
   {
    "duration": 1260,
    "start_time": "2022-08-16T00:42:52.075Z"
   },
   {
    "duration": 1001,
    "start_time": "2022-08-16T00:42:53.963Z"
   },
   {
    "duration": 9,
    "start_time": "2022-08-16T00:53:36.584Z"
   },
   {
    "duration": 15,
    "start_time": "2022-08-16T00:54:03.649Z"
   },
   {
    "duration": 4,
    "start_time": "2022-08-16T00:54:31.875Z"
   },
   {
    "duration": 5365,
    "start_time": "2022-08-16T00:55:15.249Z"
   },
   {
    "duration": 264998,
    "start_time": "2022-08-16T00:55:38.549Z"
   },
   {
    "duration": 912,
    "start_time": "2022-08-16T01:00:03.548Z"
   },
   {
    "duration": 4,
    "start_time": "2022-08-16T01:04:55.071Z"
   },
   {
    "duration": 264568,
    "start_time": "2022-08-16T01:04:56.073Z"
   },
   {
    "duration": 11,
    "start_time": "2022-08-16T01:17:03.429Z"
   },
   {
    "duration": 11,
    "start_time": "2022-08-16T01:17:15.606Z"
   },
   {
    "duration": 11,
    "start_time": "2022-08-16T01:17:33.929Z"
   },
   {
    "duration": 896,
    "start_time": "2022-08-16T01:17:49.157Z"
   },
   {
    "duration": 20,
    "start_time": "2022-08-16T01:18:28.170Z"
   },
   {
    "duration": 5,
    "start_time": "2022-08-16T01:19:32.244Z"
   },
   {
    "duration": 20,
    "start_time": "2022-08-16T01:19:41.656Z"
   },
   {
    "duration": 4,
    "start_time": "2022-08-16T01:21:29.563Z"
   },
   {
    "duration": 270733,
    "start_time": "2022-08-16T01:21:30.512Z"
   },
   {
    "duration": 1653,
    "start_time": "2022-08-16T01:27:42.747Z"
   },
   {
    "duration": 19,
    "start_time": "2022-08-16T01:29:31.277Z"
   },
   {
    "duration": 1864,
    "start_time": "2022-08-16T23:42:09.488Z"
   },
   {
    "duration": 96,
    "start_time": "2022-08-16T23:42:11.353Z"
   },
   {
    "duration": 15,
    "start_time": "2022-08-16T23:42:11.451Z"
   },
   {
    "duration": 18,
    "start_time": "2022-08-16T23:42:11.469Z"
   },
   {
    "duration": 21,
    "start_time": "2022-08-16T23:42:11.489Z"
   },
   {
    "duration": 14,
    "start_time": "2022-08-16T23:42:11.512Z"
   },
   {
    "duration": 13,
    "start_time": "2022-08-16T23:42:11.528Z"
   },
   {
    "duration": 82,
    "start_time": "2022-08-16T23:42:11.543Z"
   },
   {
    "duration": 8,
    "start_time": "2022-08-16T23:42:11.627Z"
   },
   {
    "duration": 16,
    "start_time": "2022-08-16T23:42:11.639Z"
   },
   {
    "duration": 8,
    "start_time": "2022-08-16T23:42:11.656Z"
   },
   {
    "duration": 7,
    "start_time": "2022-08-16T23:42:11.665Z"
   },
   {
    "duration": 33,
    "start_time": "2022-08-16T23:42:11.674Z"
   },
   {
    "duration": 9,
    "start_time": "2022-08-16T23:42:11.708Z"
   },
   {
    "duration": 7,
    "start_time": "2022-08-16T23:42:11.718Z"
   },
   {
    "duration": 4,
    "start_time": "2022-08-16T23:42:11.726Z"
   },
   {
    "duration": 7,
    "start_time": "2022-08-16T23:42:11.731Z"
   },
   {
    "duration": 8,
    "start_time": "2022-08-16T23:42:11.739Z"
   },
   {
    "duration": 5,
    "start_time": "2022-08-16T23:42:11.748Z"
   },
   {
    "duration": 92,
    "start_time": "2022-08-16T23:42:11.754Z"
   },
   {
    "duration": 66,
    "start_time": "2022-08-16T23:42:11.848Z"
   },
   {
    "duration": 5,
    "start_time": "2022-08-16T23:42:11.916Z"
   },
   {
    "duration": 1231,
    "start_time": "2022-08-16T23:42:11.923Z"
   },
   {
    "duration": 2,
    "start_time": "2022-08-16T23:42:13.156Z"
   },
   {
    "duration": 593,
    "start_time": "2022-08-16T23:42:13.159Z"
   },
   {
    "duration": 981,
    "start_time": "2022-08-16T23:42:13.753Z"
   },
   {
    "duration": 1287,
    "start_time": "2022-08-16T23:42:14.736Z"
   },
   {
    "duration": 960,
    "start_time": "2022-08-16T23:42:16.026Z"
   },
   {
    "duration": 23,
    "start_time": "2022-08-16T23:42:16.988Z"
   },
   {
    "duration": 4,
    "start_time": "2022-08-16T23:42:17.013Z"
   },
   {
    "duration": 1518,
    "start_time": "2022-08-16T23:46:44.485Z"
   },
   {
    "duration": 107,
    "start_time": "2022-08-16T23:46:46.005Z"
   },
   {
    "duration": 265777,
    "start_time": "2022-08-16T23:46:46.114Z"
   },
   {
    "duration": 2,
    "start_time": "2022-08-16T23:51:11.893Z"
   },
   {
    "duration": 1554,
    "start_time": "2022-08-16T23:51:33.253Z"
   },
   {
    "duration": 20,
    "start_time": "2022-08-16T23:51:35.039Z"
   },
   {
    "duration": 917,
    "start_time": "2022-08-16T23:51:49.083Z"
   },
   {
    "duration": 19,
    "start_time": "2022-08-16T23:51:51.359Z"
   },
   {
    "duration": 2,
    "start_time": "2022-08-16T23:52:00.557Z"
   },
   {
    "duration": 30,
    "start_time": "2022-08-16T23:55:04.408Z"
   },
   {
    "duration": 48,
    "start_time": "2022-08-16T23:56:12.266Z"
   },
   {
    "duration": 110,
    "start_time": "2022-08-16T23:56:21.833Z"
   },
   {
    "duration": 7446,
    "start_time": "2022-08-16T23:56:48.229Z"
   },
   {
    "duration": 45,
    "start_time": "2022-08-17T00:02:06.090Z"
   },
   {
    "duration": 7799,
    "start_time": "2022-08-17T00:02:07.173Z"
   },
   {
    "duration": 337,
    "start_time": "2022-08-17T00:28:42.727Z"
   },
   {
    "duration": 16,
    "start_time": "2022-08-17T00:30:32.369Z"
   },
   {
    "duration": 270,
    "start_time": "2022-08-17T00:35:33.387Z"
   },
   {
    "duration": 65,
    "start_time": "2022-08-17T00:37:02.795Z"
   },
   {
    "duration": 10,
    "start_time": "2022-08-17T00:37:59.990Z"
   },
   {
    "duration": 4,
    "start_time": "2022-08-17T00:41:20.271Z"
   },
   {
    "duration": 450,
    "start_time": "2022-08-17T00:41:21.391Z"
   },
   {
    "duration": 5,
    "start_time": "2022-08-17T00:45:05.274Z"
   },
   {
    "duration": 27,
    "start_time": "2022-08-17T00:45:06.001Z"
   },
   {
    "duration": 5,
    "start_time": "2022-08-17T00:45:24.005Z"
   },
   {
    "duration": 20,
    "start_time": "2022-08-17T00:45:24.588Z"
   },
   {
    "duration": 4,
    "start_time": "2022-08-17T00:46:25.651Z"
   },
   {
    "duration": 220,
    "start_time": "2022-08-17T00:46:26.603Z"
   },
   {
    "duration": 14,
    "start_time": "2022-08-17T00:50:11.372Z"
   },
   {
    "duration": 221,
    "start_time": "2022-08-17T00:50:55.195Z"
   },
   {
    "duration": 179,
    "start_time": "2022-08-17T00:51:33.193Z"
   },
   {
    "duration": 217,
    "start_time": "2022-08-17T00:52:10.403Z"
   },
   {
    "duration": 6,
    "start_time": "2022-08-17T00:52:40.376Z"
   },
   {
    "duration": 1159,
    "start_time": "2022-08-17T00:52:41.658Z"
   },
   {
    "duration": 5,
    "start_time": "2022-08-17T01:21:14.780Z"
   },
   {
    "duration": 45,
    "start_time": "2022-08-17T01:21:14.808Z"
   },
   {
    "duration": 10,
    "start_time": "2022-08-17T01:21:14.855Z"
   },
   {
    "duration": 13,
    "start_time": "2022-08-17T01:21:14.867Z"
   },
   {
    "duration": 13,
    "start_time": "2022-08-17T01:21:14.882Z"
   },
   {
    "duration": 10,
    "start_time": "2022-08-17T01:21:14.897Z"
   },
   {
    "duration": 10,
    "start_time": "2022-08-17T01:21:14.909Z"
   },
   {
    "duration": 13,
    "start_time": "2022-08-17T01:21:14.921Z"
   },
   {
    "duration": 8,
    "start_time": "2022-08-17T01:21:14.935Z"
   },
   {
    "duration": 12,
    "start_time": "2022-08-17T01:21:14.945Z"
   },
   {
    "duration": 43,
    "start_time": "2022-08-17T01:21:14.959Z"
   },
   {
    "duration": 9,
    "start_time": "2022-08-17T01:21:15.004Z"
   },
   {
    "duration": 22,
    "start_time": "2022-08-17T01:21:15.015Z"
   },
   {
    "duration": 14,
    "start_time": "2022-08-17T01:21:15.038Z"
   },
   {
    "duration": 11,
    "start_time": "2022-08-17T01:21:15.055Z"
   },
   {
    "duration": 7,
    "start_time": "2022-08-17T01:21:15.067Z"
   },
   {
    "duration": 8,
    "start_time": "2022-08-17T01:21:15.075Z"
   },
   {
    "duration": 19,
    "start_time": "2022-08-17T01:21:15.085Z"
   },
   {
    "duration": 6,
    "start_time": "2022-08-17T01:21:15.106Z"
   },
   {
    "duration": 59,
    "start_time": "2022-08-17T01:21:15.113Z"
   },
   {
    "duration": 81,
    "start_time": "2022-08-17T01:21:15.174Z"
   },
   {
    "duration": 5,
    "start_time": "2022-08-17T01:21:15.256Z"
   },
   {
    "duration": 1218,
    "start_time": "2022-08-17T01:21:15.262Z"
   },
   {
    "duration": 2,
    "start_time": "2022-08-17T01:21:16.482Z"
   },
   {
    "duration": 584,
    "start_time": "2022-08-17T01:21:16.486Z"
   },
   {
    "duration": 898,
    "start_time": "2022-08-17T01:21:17.071Z"
   },
   {
    "duration": 1470,
    "start_time": "2022-08-17T01:21:17.971Z"
   },
   {
    "duration": 932,
    "start_time": "2022-08-17T01:21:19.443Z"
   },
   {
    "duration": 32,
    "start_time": "2022-08-17T01:21:20.376Z"
   },
   {
    "duration": 6,
    "start_time": "2022-08-17T01:21:20.410Z"
   },
   {
    "duration": 269590,
    "start_time": "2022-08-17T01:21:20.417Z"
   },
   {
    "duration": 1291,
    "start_time": "2022-08-17T01:25:50.009Z"
   },
   {
    "duration": 18,
    "start_time": "2022-08-17T01:25:51.302Z"
   },
   {
    "duration": 36,
    "start_time": "2022-08-17T01:25:51.321Z"
   },
   {
    "duration": 7450,
    "start_time": "2022-08-17T01:25:51.358Z"
   },
   {
    "duration": 358,
    "start_time": "2022-08-17T01:25:58.809Z"
   },
   {
    "duration": 15,
    "start_time": "2022-08-17T01:25:59.169Z"
   },
   {
    "duration": 286,
    "start_time": "2022-08-17T01:25:59.186Z"
   },
   {
    "duration": 10,
    "start_time": "2022-08-17T01:25:59.473Z"
   },
   {
    "duration": 5,
    "start_time": "2022-08-17T01:27:45.888Z"
   },
   {
    "duration": 52,
    "start_time": "2022-08-17T01:27:45.895Z"
   },
   {
    "duration": 12,
    "start_time": "2022-08-17T01:27:45.948Z"
   },
   {
    "duration": 13,
    "start_time": "2022-08-17T01:27:45.961Z"
   },
   {
    "duration": 14,
    "start_time": "2022-08-17T01:27:45.976Z"
   },
   {
    "duration": 10,
    "start_time": "2022-08-17T01:27:45.991Z"
   },
   {
    "duration": 11,
    "start_time": "2022-08-17T01:27:46.002Z"
   },
   {
    "duration": 12,
    "start_time": "2022-08-17T01:27:46.015Z"
   },
   {
    "duration": 7,
    "start_time": "2022-08-17T01:27:46.028Z"
   },
   {
    "duration": 9,
    "start_time": "2022-08-17T01:27:46.036Z"
   },
   {
    "duration": 7,
    "start_time": "2022-08-17T01:27:46.047Z"
   },
   {
    "duration": 5,
    "start_time": "2022-08-17T01:27:46.055Z"
   },
   {
    "duration": 6,
    "start_time": "2022-08-17T01:27:46.101Z"
   },
   {
    "duration": 12,
    "start_time": "2022-08-17T01:27:46.109Z"
   },
   {
    "duration": 11,
    "start_time": "2022-08-17T01:27:46.122Z"
   },
   {
    "duration": 5,
    "start_time": "2022-08-17T01:27:46.134Z"
   },
   {
    "duration": 9,
    "start_time": "2022-08-17T01:27:46.141Z"
   },
   {
    "duration": 10,
    "start_time": "2022-08-17T01:27:46.152Z"
   },
   {
    "duration": 38,
    "start_time": "2022-08-17T01:27:46.163Z"
   },
   {
    "duration": 57,
    "start_time": "2022-08-17T01:27:46.202Z"
   },
   {
    "duration": 71,
    "start_time": "2022-08-17T01:27:46.261Z"
   },
   {
    "duration": 5,
    "start_time": "2022-08-17T01:27:46.335Z"
   },
   {
    "duration": 1126,
    "start_time": "2022-08-17T01:27:46.342Z"
   },
   {
    "duration": 3,
    "start_time": "2022-08-17T01:27:47.469Z"
   },
   {
    "duration": 742,
    "start_time": "2022-08-17T01:27:47.474Z"
   },
   {
    "duration": 854,
    "start_time": "2022-08-17T01:27:48.218Z"
   },
   {
    "duration": 1320,
    "start_time": "2022-08-17T01:27:49.074Z"
   },
   {
    "duration": 963,
    "start_time": "2022-08-17T01:27:50.396Z"
   },
   {
    "duration": 20,
    "start_time": "2022-08-17T01:27:51.360Z"
   },
   {
    "duration": 18,
    "start_time": "2022-08-17T01:27:51.382Z"
   },
   {
    "duration": 267977,
    "start_time": "2022-08-17T01:27:51.401Z"
   },
   {
    "duration": 1421,
    "start_time": "2022-08-17T01:32:19.379Z"
   },
   {
    "duration": 21,
    "start_time": "2022-08-17T01:32:20.802Z"
   },
   {
    "duration": 349,
    "start_time": "2022-08-17T01:32:20.825Z"
   },
   {
    "duration": 7820,
    "start_time": "2022-08-17T01:32:21.176Z"
   },
   {
    "duration": 403,
    "start_time": "2022-08-17T01:32:29.000Z"
   },
   {
    "duration": 17,
    "start_time": "2022-08-17T01:32:29.405Z"
   },
   {
    "duration": 299,
    "start_time": "2022-08-17T01:32:29.424Z"
   },
   {
    "duration": 11,
    "start_time": "2022-08-17T01:32:29.725Z"
   },
   {
    "duration": 5,
    "start_time": "2022-08-17T01:48:27.096Z"
   },
   {
    "duration": 45,
    "start_time": "2022-08-17T01:48:27.105Z"
   },
   {
    "duration": 11,
    "start_time": "2022-08-17T01:48:27.152Z"
   },
   {
    "duration": 11,
    "start_time": "2022-08-17T01:48:27.164Z"
   },
   {
    "duration": 10,
    "start_time": "2022-08-17T01:48:27.177Z"
   },
   {
    "duration": 19,
    "start_time": "2022-08-17T01:48:27.188Z"
   },
   {
    "duration": 11,
    "start_time": "2022-08-17T01:48:27.208Z"
   },
   {
    "duration": 12,
    "start_time": "2022-08-17T01:48:27.221Z"
   },
   {
    "duration": 7,
    "start_time": "2022-08-17T01:48:27.234Z"
   },
   {
    "duration": 9,
    "start_time": "2022-08-17T01:48:27.243Z"
   },
   {
    "duration": 7,
    "start_time": "2022-08-17T01:48:27.255Z"
   },
   {
    "duration": 7,
    "start_time": "2022-08-17T01:48:27.299Z"
   },
   {
    "duration": 9,
    "start_time": "2022-08-17T01:48:27.308Z"
   },
   {
    "duration": 9,
    "start_time": "2022-08-17T01:48:27.318Z"
   },
   {
    "duration": 7,
    "start_time": "2022-08-17T01:48:27.329Z"
   },
   {
    "duration": 5,
    "start_time": "2022-08-17T01:48:27.337Z"
   },
   {
    "duration": 6,
    "start_time": "2022-08-17T01:48:27.343Z"
   },
   {
    "duration": 10,
    "start_time": "2022-08-17T01:48:27.350Z"
   },
   {
    "duration": 39,
    "start_time": "2022-08-17T01:48:27.362Z"
   },
   {
    "duration": 63,
    "start_time": "2022-08-17T01:48:27.403Z"
   },
   {
    "duration": 72,
    "start_time": "2022-08-17T01:48:27.468Z"
   },
   {
    "duration": 6,
    "start_time": "2022-08-17T01:48:27.542Z"
   },
   {
    "duration": 1248,
    "start_time": "2022-08-17T01:48:27.549Z"
   },
   {
    "duration": 3,
    "start_time": "2022-08-17T01:48:28.799Z"
   },
   {
    "duration": 586,
    "start_time": "2022-08-17T01:48:28.803Z"
   },
   {
    "duration": 878,
    "start_time": "2022-08-17T01:48:29.392Z"
   },
   {
    "duration": 1393,
    "start_time": "2022-08-17T01:48:30.272Z"
   },
   {
    "duration": 1044,
    "start_time": "2022-08-17T01:48:31.666Z"
   },
   {
    "duration": 21,
    "start_time": "2022-08-17T01:48:32.712Z"
   },
   {
    "duration": 4,
    "start_time": "2022-08-17T01:48:32.735Z"
   },
   {
    "duration": 1466,
    "start_time": "2022-08-17T01:48:50.698Z"
   },
   {
    "duration": 49,
    "start_time": "2022-08-17T01:48:52.166Z"
   },
   {
    "duration": 11,
    "start_time": "2022-08-17T01:48:52.217Z"
   },
   {
    "duration": 10,
    "start_time": "2022-08-17T01:48:52.230Z"
   },
   {
    "duration": 11,
    "start_time": "2022-08-17T01:48:52.241Z"
   },
   {
    "duration": 11,
    "start_time": "2022-08-17T01:48:52.254Z"
   },
   {
    "duration": 38,
    "start_time": "2022-08-17T01:48:52.266Z"
   },
   {
    "duration": 46,
    "start_time": "2022-08-17T01:48:52.305Z"
   },
   {
    "duration": 8,
    "start_time": "2022-08-17T01:48:52.353Z"
   },
   {
    "duration": 8,
    "start_time": "2022-08-17T01:48:52.363Z"
   },
   {
    "duration": 28,
    "start_time": "2022-08-17T01:48:52.373Z"
   },
   {
    "duration": 6,
    "start_time": "2022-08-17T01:48:52.403Z"
   },
   {
    "duration": 7,
    "start_time": "2022-08-17T01:48:52.411Z"
   },
   {
    "duration": 10,
    "start_time": "2022-08-17T01:48:52.419Z"
   },
   {
    "duration": 7,
    "start_time": "2022-08-17T01:48:52.430Z"
   },
   {
    "duration": 5,
    "start_time": "2022-08-17T01:48:52.438Z"
   },
   {
    "duration": 6,
    "start_time": "2022-08-17T01:48:52.444Z"
   },
   {
    "duration": 7,
    "start_time": "2022-08-17T01:48:52.452Z"
   },
   {
    "duration": 39,
    "start_time": "2022-08-17T01:48:52.461Z"
   },
   {
    "duration": 55,
    "start_time": "2022-08-17T01:48:52.502Z"
   },
   {
    "duration": 69,
    "start_time": "2022-08-17T01:48:52.559Z"
   },
   {
    "duration": 5,
    "start_time": "2022-08-17T01:48:52.630Z"
   },
   {
    "duration": 1190,
    "start_time": "2022-08-17T01:48:52.637Z"
   },
   {
    "duration": 3,
    "start_time": "2022-08-17T01:48:53.829Z"
   },
   {
    "duration": 586,
    "start_time": "2022-08-17T01:48:53.834Z"
   },
   {
    "duration": 877,
    "start_time": "2022-08-17T01:48:54.422Z"
   },
   {
    "duration": 1274,
    "start_time": "2022-08-17T01:48:55.300Z"
   },
   {
    "duration": 945,
    "start_time": "2022-08-17T01:48:56.577Z"
   },
   {
    "duration": 19,
    "start_time": "2022-08-17T01:48:57.523Z"
   },
   {
    "duration": 4,
    "start_time": "2022-08-17T01:48:57.544Z"
   },
   {
    "duration": 262965,
    "start_time": "2022-08-17T01:48:57.549Z"
   },
   {
    "duration": 1293,
    "start_time": "2022-08-17T01:53:20.516Z"
   },
   {
    "duration": 20,
    "start_time": "2022-08-17T01:53:21.900Z"
   },
   {
    "duration": 45,
    "start_time": "2022-08-17T01:53:21.921Z"
   },
   {
    "duration": 7425,
    "start_time": "2022-08-17T01:53:21.968Z"
   },
   {
    "duration": 350,
    "start_time": "2022-08-17T01:53:29.395Z"
   },
   {
    "duration": 15,
    "start_time": "2022-08-17T01:53:29.747Z"
   },
   {
    "duration": 306,
    "start_time": "2022-08-17T01:53:29.764Z"
   },
   {
    "duration": 14,
    "start_time": "2022-08-17T01:53:30.072Z"
   },
   {
    "duration": 1335,
    "start_time": "2022-08-17T01:56:40.665Z"
   },
   {
    "duration": 21,
    "start_time": "2022-08-17T01:56:43.470Z"
   },
   {
    "duration": 1439,
    "start_time": "2022-08-17T01:58:18.105Z"
   },
   {
    "duration": 50,
    "start_time": "2022-08-17T01:58:19.545Z"
   },
   {
    "duration": 12,
    "start_time": "2022-08-17T01:58:19.596Z"
   },
   {
    "duration": 14,
    "start_time": "2022-08-17T01:58:19.610Z"
   },
   {
    "duration": 12,
    "start_time": "2022-08-17T01:58:19.625Z"
   },
   {
    "duration": 9,
    "start_time": "2022-08-17T01:58:19.639Z"
   },
   {
    "duration": 12,
    "start_time": "2022-08-17T01:58:19.649Z"
   },
   {
    "duration": 70,
    "start_time": "2022-08-17T01:58:19.662Z"
   },
   {
    "duration": 7,
    "start_time": "2022-08-17T01:58:19.734Z"
   },
   {
    "duration": 9,
    "start_time": "2022-08-17T01:58:19.744Z"
   },
   {
    "duration": 16,
    "start_time": "2022-08-17T01:58:19.755Z"
   },
   {
    "duration": 7,
    "start_time": "2022-08-17T01:58:19.773Z"
   },
   {
    "duration": 18,
    "start_time": "2022-08-17T01:58:19.782Z"
   },
   {
    "duration": 19,
    "start_time": "2022-08-17T01:58:19.802Z"
   },
   {
    "duration": 13,
    "start_time": "2022-08-17T01:58:19.822Z"
   },
   {
    "duration": 9,
    "start_time": "2022-08-17T01:58:19.836Z"
   },
   {
    "duration": 9,
    "start_time": "2022-08-17T01:58:19.847Z"
   },
   {
    "duration": 15,
    "start_time": "2022-08-17T01:58:19.857Z"
   },
   {
    "duration": 9,
    "start_time": "2022-08-17T01:58:19.874Z"
   },
   {
    "duration": 60,
    "start_time": "2022-08-17T01:58:19.884Z"
   },
   {
    "duration": 65,
    "start_time": "2022-08-17T01:58:19.946Z"
   },
   {
    "duration": 6,
    "start_time": "2022-08-17T01:58:20.013Z"
   },
   {
    "duration": 1278,
    "start_time": "2022-08-17T01:58:20.021Z"
   },
   {
    "duration": 2,
    "start_time": "2022-08-17T01:58:21.301Z"
   },
   {
    "duration": 654,
    "start_time": "2022-08-17T01:58:21.305Z"
   },
   {
    "duration": 921,
    "start_time": "2022-08-17T01:58:21.961Z"
   },
   {
    "duration": 1301,
    "start_time": "2022-08-17T01:58:22.884Z"
   },
   {
    "duration": 987,
    "start_time": "2022-08-17T01:58:24.200Z"
   },
   {
    "duration": 29,
    "start_time": "2022-08-17T01:58:25.189Z"
   },
   {
    "duration": 8,
    "start_time": "2022-08-17T01:58:25.220Z"
   },
   {
    "duration": 271027,
    "start_time": "2022-08-17T01:58:25.229Z"
   },
   {
    "duration": 1650,
    "start_time": "2022-08-17T02:02:56.258Z"
   },
   {
    "duration": 21,
    "start_time": "2022-08-17T02:02:58.000Z"
   },
   {
    "duration": 52,
    "start_time": "2022-08-17T02:02:58.022Z"
   },
   {
    "duration": 7824,
    "start_time": "2022-08-17T02:02:58.076Z"
   },
   {
    "duration": 348,
    "start_time": "2022-08-17T02:03:05.901Z"
   },
   {
    "duration": 16,
    "start_time": "2022-08-17T02:03:06.251Z"
   },
   {
    "duration": 301,
    "start_time": "2022-08-17T02:03:06.268Z"
   },
   {
    "duration": 11,
    "start_time": "2022-08-17T02:03:06.571Z"
   },
   {
    "duration": 2043,
    "start_time": "2022-08-18T00:20:52.020Z"
   },
   {
    "duration": 202,
    "start_time": "2022-08-18T00:20:54.066Z"
   },
   {
    "duration": 14,
    "start_time": "2022-08-18T00:20:54.270Z"
   },
   {
    "duration": 20,
    "start_time": "2022-08-18T00:20:54.286Z"
   },
   {
    "duration": 26,
    "start_time": "2022-08-18T00:20:54.309Z"
   },
   {
    "duration": 12,
    "start_time": "2022-08-18T00:20:54.336Z"
   },
   {
    "duration": 12,
    "start_time": "2022-08-18T00:20:54.350Z"
   },
   {
    "duration": 88,
    "start_time": "2022-08-18T00:20:54.363Z"
   },
   {
    "duration": 8,
    "start_time": "2022-08-18T00:20:54.453Z"
   },
   {
    "duration": 9,
    "start_time": "2022-08-18T00:20:54.463Z"
   },
   {
    "duration": 36,
    "start_time": "2022-08-18T00:20:54.473Z"
   },
   {
    "duration": 25,
    "start_time": "2022-08-18T00:20:54.511Z"
   },
   {
    "duration": 17,
    "start_time": "2022-08-18T00:20:54.538Z"
   },
   {
    "duration": 22,
    "start_time": "2022-08-18T00:20:54.560Z"
   },
   {
    "duration": 16,
    "start_time": "2022-08-18T00:20:54.584Z"
   },
   {
    "duration": 7,
    "start_time": "2022-08-18T00:20:54.602Z"
   },
   {
    "duration": 9,
    "start_time": "2022-08-18T00:20:54.611Z"
   },
   {
    "duration": 12,
    "start_time": "2022-08-18T00:20:54.622Z"
   },
   {
    "duration": 8,
    "start_time": "2022-08-18T00:20:54.636Z"
   },
   {
    "duration": 130,
    "start_time": "2022-08-18T00:20:54.646Z"
   },
   {
    "duration": 84,
    "start_time": "2022-08-18T00:20:54.778Z"
   },
   {
    "duration": 7,
    "start_time": "2022-08-18T00:20:54.863Z"
   },
   {
    "duration": 1799,
    "start_time": "2022-08-18T00:20:54.872Z"
   },
   {
    "duration": 3,
    "start_time": "2022-08-18T00:20:56.673Z"
   },
   {
    "duration": 833,
    "start_time": "2022-08-18T00:20:56.678Z"
   },
   {
    "duration": 1233,
    "start_time": "2022-08-18T00:20:57.514Z"
   },
   {
    "duration": 1715,
    "start_time": "2022-08-18T00:20:58.749Z"
   },
   {
    "duration": 1360,
    "start_time": "2022-08-18T00:21:00.466Z"
   },
   {
    "duration": 31,
    "start_time": "2022-08-18T00:21:01.829Z"
   },
   {
    "duration": 5,
    "start_time": "2022-08-18T00:21:01.862Z"
   },
   {
    "duration": 358806,
    "start_time": "2022-08-18T00:21:01.870Z"
   },
   {
    "duration": 1914,
    "start_time": "2022-08-18T00:27:00.679Z"
   },
   {
    "duration": 28,
    "start_time": "2022-08-18T00:27:02.598Z"
   },
   {
    "duration": 59,
    "start_time": "2022-08-18T00:27:02.628Z"
   },
   {
    "duration": 10307,
    "start_time": "2022-08-18T00:27:02.689Z"
   },
   {
    "duration": 448,
    "start_time": "2022-08-18T00:27:12.999Z"
   },
   {
    "duration": 18,
    "start_time": "2022-08-18T00:27:13.449Z"
   },
   {
    "duration": 406,
    "start_time": "2022-08-18T00:27:13.469Z"
   },
   {
    "duration": 17,
    "start_time": "2022-08-18T00:27:13.877Z"
   },
   {
    "duration": 164,
    "start_time": "2022-08-18T00:32:34.158Z"
   },
   {
    "duration": 6530,
    "start_time": "2022-08-18T00:33:46.558Z"
   },
   {
    "duration": 378198,
    "start_time": "2022-08-18T00:35:04.124Z"
   },
   {
    "duration": 1233,
    "start_time": "2022-08-18T00:42:04.398Z"
   },
   {
    "duration": 30,
    "start_time": "2022-08-18T00:42:07.512Z"
   },
   {
    "duration": 56,
    "start_time": "2022-08-20T13:57:09.064Z"
   },
   {
    "duration": 11,
    "start_time": "2022-08-20T13:58:24.802Z"
   },
   {
    "duration": 7,
    "start_time": "2022-08-20T13:58:42.709Z"
   },
   {
    "duration": 1672,
    "start_time": "2022-08-20T13:58:58.892Z"
   },
   {
    "duration": 96,
    "start_time": "2022-08-20T13:59:02.056Z"
   },
   {
    "duration": 13,
    "start_time": "2022-08-20T13:59:04.328Z"
   },
   {
    "duration": 860,
    "start_time": "2022-08-20T13:59:12.289Z"
   },
   {
    "duration": 875,
    "start_time": "2022-08-20T14:00:25.241Z"
   },
   {
    "duration": 1174,
    "start_time": "2022-08-20T14:00:35.829Z"
   },
   {
    "duration": 32,
    "start_time": "2022-08-20T14:04:14.658Z"
   },
   {
    "duration": 32,
    "start_time": "2022-08-20T14:04:40.902Z"
   },
   {
    "duration": 1458,
    "start_time": "2022-08-20T14:04:53.812Z"
   },
   {
    "duration": 51,
    "start_time": "2022-08-20T14:04:55.272Z"
   },
   {
    "duration": 12,
    "start_time": "2022-08-20T14:04:55.324Z"
   },
   {
    "duration": 20,
    "start_time": "2022-08-20T14:04:55.338Z"
   },
   {
    "duration": 17,
    "start_time": "2022-08-20T14:04:55.360Z"
   },
   {
    "duration": 26,
    "start_time": "2022-08-20T14:04:55.379Z"
   },
   {
    "duration": 11,
    "start_time": "2022-08-20T14:04:55.406Z"
   },
   {
    "duration": 54,
    "start_time": "2022-08-20T14:04:55.419Z"
   },
   {
    "duration": 25,
    "start_time": "2022-08-20T14:04:55.475Z"
   },
   {
    "duration": 8,
    "start_time": "2022-08-20T14:04:55.503Z"
   },
   {
    "duration": 7,
    "start_time": "2022-08-20T14:04:55.512Z"
   },
   {
    "duration": 7,
    "start_time": "2022-08-20T14:04:55.521Z"
   },
   {
    "duration": 16,
    "start_time": "2022-08-20T14:04:55.530Z"
   },
   {
    "duration": 18,
    "start_time": "2022-08-20T14:04:55.548Z"
   },
   {
    "duration": 7,
    "start_time": "2022-08-20T14:04:55.568Z"
   },
   {
    "duration": 31,
    "start_time": "2022-08-20T14:04:55.577Z"
   },
   {
    "duration": 17,
    "start_time": "2022-08-20T14:04:55.610Z"
   },
   {
    "duration": 11,
    "start_time": "2022-08-20T14:04:55.629Z"
   },
   {
    "duration": 7,
    "start_time": "2022-08-20T14:04:55.641Z"
   },
   {
    "duration": 65,
    "start_time": "2022-08-20T14:04:55.649Z"
   },
   {
    "duration": 57,
    "start_time": "2022-08-20T14:04:55.715Z"
   },
   {
    "duration": 5,
    "start_time": "2022-08-20T14:04:55.773Z"
   },
   {
    "duration": 1282,
    "start_time": "2022-08-20T14:04:55.780Z"
   },
   {
    "duration": 3,
    "start_time": "2022-08-20T14:04:57.063Z"
   },
   {
    "duration": 611,
    "start_time": "2022-08-20T14:04:57.068Z"
   },
   {
    "duration": 957,
    "start_time": "2022-08-20T14:04:57.681Z"
   },
   {
    "duration": 1304,
    "start_time": "2022-08-20T14:04:58.640Z"
   },
   {
    "duration": 1049,
    "start_time": "2022-08-20T14:04:59.947Z"
   },
   {
    "duration": 24,
    "start_time": "2022-08-20T14:05:01.000Z"
   },
   {
    "duration": 6,
    "start_time": "2022-08-20T14:05:01.025Z"
   },
   {
    "duration": 4982,
    "start_time": "2022-08-20T14:05:01.032Z"
   },
   {
    "duration": 266037,
    "start_time": "2022-08-20T14:05:06.016Z"
   },
   {
    "duration": 1355,
    "start_time": "2022-08-20T14:09:32.055Z"
   },
   {
    "duration": 20,
    "start_time": "2022-08-20T14:09:33.501Z"
   },
   {
    "duration": 29,
    "start_time": "2022-08-20T14:09:33.522Z"
   },
   {
    "duration": 7915,
    "start_time": "2022-08-20T14:09:33.552Z"
   },
   {
    "duration": 449,
    "start_time": "2022-08-20T14:09:41.469Z"
   },
   {
    "duration": 22,
    "start_time": "2022-08-20T14:09:41.919Z"
   },
   {
    "duration": 356,
    "start_time": "2022-08-20T14:09:41.943Z"
   },
   {
    "duration": 14,
    "start_time": "2022-08-20T14:09:42.301Z"
   },
   {
    "duration": 6,
    "start_time": "2022-08-20T14:14:20.031Z"
   },
   {
    "duration": 5349,
    "start_time": "2022-08-20T14:14:20.885Z"
   },
   {
    "duration": 274817,
    "start_time": "2022-08-20T14:14:26.236Z"
   },
   {
    "duration": 6,
    "start_time": "2022-08-20T14:21:57.982Z"
   },
   {
    "duration": 136,
    "start_time": "2022-08-20T14:23:10.553Z"
   },
   {
    "duration": 13,
    "start_time": "2022-08-20T14:23:56.878Z"
   },
   {
    "duration": 1090,
    "start_time": "2022-08-20T14:40:23.037Z"
   },
   {
    "duration": 829,
    "start_time": "2022-08-20T14:42:56.551Z"
   },
   {
    "duration": 834,
    "start_time": "2022-08-20T14:43:17.324Z"
   },
   {
    "duration": 1101,
    "start_time": "2022-08-20T14:44:16.844Z"
   },
   {
    "duration": 9,
    "start_time": "2022-08-20T14:44:59.856Z"
   },
   {
    "duration": 8,
    "start_time": "2022-08-20T14:57:26.201Z"
   },
   {
    "duration": 1425,
    "start_time": "2022-08-20T14:59:38.903Z"
   },
   {
    "duration": 51,
    "start_time": "2022-08-20T14:59:40.330Z"
   },
   {
    "duration": 13,
    "start_time": "2022-08-20T14:59:40.383Z"
   },
   {
    "duration": 13,
    "start_time": "2022-08-20T14:59:40.398Z"
   },
   {
    "duration": 14,
    "start_time": "2022-08-20T14:59:40.412Z"
   },
   {
    "duration": 11,
    "start_time": "2022-08-20T14:59:40.427Z"
   },
   {
    "duration": 12,
    "start_time": "2022-08-20T14:59:40.440Z"
   },
   {
    "duration": 73,
    "start_time": "2022-08-20T14:59:40.454Z"
   },
   {
    "duration": 7,
    "start_time": "2022-08-20T14:59:40.528Z"
   },
   {
    "duration": 8,
    "start_time": "2022-08-20T14:59:40.537Z"
   },
   {
    "duration": 7,
    "start_time": "2022-08-20T14:59:40.547Z"
   },
   {
    "duration": 6,
    "start_time": "2022-08-20T14:59:40.555Z"
   },
   {
    "duration": 9,
    "start_time": "2022-08-20T14:59:40.562Z"
   },
   {
    "duration": 30,
    "start_time": "2022-08-20T14:59:40.572Z"
   },
   {
    "duration": 7,
    "start_time": "2022-08-20T14:59:40.604Z"
   },
   {
    "duration": 5,
    "start_time": "2022-08-20T14:59:40.613Z"
   },
   {
    "duration": 7,
    "start_time": "2022-08-20T14:59:40.620Z"
   },
   {
    "duration": 10,
    "start_time": "2022-08-20T14:59:40.628Z"
   },
   {
    "duration": 5,
    "start_time": "2022-08-20T14:59:40.640Z"
   },
   {
    "duration": 87,
    "start_time": "2022-08-20T14:59:40.647Z"
   },
   {
    "duration": 66,
    "start_time": "2022-08-20T14:59:40.735Z"
   },
   {
    "duration": 6,
    "start_time": "2022-08-20T14:59:40.802Z"
   },
   {
    "duration": 1297,
    "start_time": "2022-08-20T14:59:40.810Z"
   },
   {
    "duration": 3,
    "start_time": "2022-08-20T14:59:42.109Z"
   },
   {
    "duration": 596,
    "start_time": "2022-08-20T14:59:42.114Z"
   },
   {
    "duration": 892,
    "start_time": "2022-08-20T14:59:42.712Z"
   },
   {
    "duration": 1252,
    "start_time": "2022-08-20T14:59:43.605Z"
   },
   {
    "duration": 1012,
    "start_time": "2022-08-20T14:59:44.860Z"
   },
   {
    "duration": 27,
    "start_time": "2022-08-20T14:59:45.874Z"
   },
   {
    "duration": 4,
    "start_time": "2022-08-20T14:59:45.903Z"
   },
   {
    "duration": 5318,
    "start_time": "2022-08-20T14:59:45.908Z"
   },
   {
    "duration": 263718,
    "start_time": "2022-08-20T14:59:51.227Z"
   },
   {
    "duration": 1553,
    "start_time": "2022-08-20T15:04:14.947Z"
   },
   {
    "duration": 18,
    "start_time": "2022-08-20T15:04:16.502Z"
   },
   {
    "duration": 27,
    "start_time": "2022-08-20T15:04:16.522Z"
   },
   {
    "duration": 7658,
    "start_time": "2022-08-20T15:04:16.551Z"
   },
   {
    "duration": 349,
    "start_time": "2022-08-20T15:04:24.211Z"
   },
   {
    "duration": 109,
    "start_time": "2022-08-20T15:04:24.561Z"
   },
   {
    "duration": 0,
    "start_time": "2022-08-20T15:04:24.671Z"
   },
   {
    "duration": 0,
    "start_time": "2022-08-20T15:04:24.672Z"
   },
   {
    "duration": 6,
    "start_time": "2022-08-20T15:07:15.320Z"
   },
   {
    "duration": 17,
    "start_time": "2022-08-20T15:07:24.670Z"
   },
   {
    "duration": 321,
    "start_time": "2022-08-20T15:07:31.326Z"
   },
   {
    "duration": 11,
    "start_time": "2022-08-20T15:07:41.327Z"
   },
   {
    "duration": 12,
    "start_time": "2022-08-20T15:11:02.890Z"
   },
   {
    "duration": 266913,
    "start_time": "2022-08-20T15:12:00.793Z"
   },
   {
    "duration": 55,
    "start_time": "2022-08-20T15:21:47.088Z"
   },
   {
    "duration": 76,
    "start_time": "2022-08-20T15:22:14.495Z"
   },
   {
    "duration": 6,
    "start_time": "2022-08-20T15:22:29.736Z"
   },
   {
    "duration": 10,
    "start_time": "2022-08-20T15:22:42.899Z"
   },
   {
    "duration": 38,
    "start_time": "2022-08-20T15:23:30.096Z"
   },
   {
    "duration": 6,
    "start_time": "2022-08-20T15:25:53.696Z"
   },
   {
    "duration": 25,
    "start_time": "2022-08-20T15:26:07.417Z"
   },
   {
    "duration": 12,
    "start_time": "2022-08-20T15:27:23.844Z"
   },
   {
    "duration": 8,
    "start_time": "2022-08-20T15:35:25.561Z"
   },
   {
    "duration": 1354,
    "start_time": "2022-08-20T15:35:51.758Z"
   },
   {
    "duration": 51,
    "start_time": "2022-08-20T15:35:53.114Z"
   },
   {
    "duration": 11,
    "start_time": "2022-08-20T15:35:53.167Z"
   },
   {
    "duration": 10,
    "start_time": "2022-08-20T15:35:53.180Z"
   },
   {
    "duration": 13,
    "start_time": "2022-08-20T15:35:53.192Z"
   },
   {
    "duration": 10,
    "start_time": "2022-08-20T15:35:53.206Z"
   },
   {
    "duration": 10,
    "start_time": "2022-08-20T15:35:53.217Z"
   },
   {
    "duration": 46,
    "start_time": "2022-08-20T15:35:53.228Z"
   },
   {
    "duration": 28,
    "start_time": "2022-08-20T15:35:53.276Z"
   },
   {
    "duration": 8,
    "start_time": "2022-08-20T15:35:53.306Z"
   },
   {
    "duration": 12,
    "start_time": "2022-08-20T15:35:53.315Z"
   },
   {
    "duration": 9,
    "start_time": "2022-08-20T15:35:53.329Z"
   },
   {
    "duration": 9,
    "start_time": "2022-08-20T15:35:53.339Z"
   },
   {
    "duration": 13,
    "start_time": "2022-08-20T15:35:53.350Z"
   },
   {
    "duration": 36,
    "start_time": "2022-08-20T15:35:53.364Z"
   },
   {
    "duration": 8,
    "start_time": "2022-08-20T15:35:53.402Z"
   },
   {
    "duration": 5,
    "start_time": "2022-08-20T15:35:53.411Z"
   },
   {
    "duration": 6,
    "start_time": "2022-08-20T15:35:53.417Z"
   },
   {
    "duration": 8,
    "start_time": "2022-08-20T15:35:53.425Z"
   },
   {
    "duration": 5,
    "start_time": "2022-08-20T15:35:53.435Z"
   },
   {
    "duration": 92,
    "start_time": "2022-08-20T15:35:53.441Z"
   },
   {
    "duration": 71,
    "start_time": "2022-08-20T15:35:53.535Z"
   },
   {
    "duration": 6,
    "start_time": "2022-08-20T15:35:53.607Z"
   },
   {
    "duration": 1218,
    "start_time": "2022-08-20T15:35:53.615Z"
   },
   {
    "duration": 11,
    "start_time": "2022-08-20T15:35:54.835Z"
   },
   {
    "duration": 582,
    "start_time": "2022-08-20T15:35:54.847Z"
   },
   {
    "duration": 833,
    "start_time": "2022-08-20T15:35:55.431Z"
   },
   {
    "duration": 1347,
    "start_time": "2022-08-20T15:35:56.267Z"
   },
   {
    "duration": 1022,
    "start_time": "2022-08-20T15:35:57.616Z"
   },
   {
    "duration": 20,
    "start_time": "2022-08-20T15:35:58.640Z"
   },
   {
    "duration": 5,
    "start_time": "2022-08-20T15:35:58.662Z"
   },
   {
    "duration": 5464,
    "start_time": "2022-08-20T15:35:58.668Z"
   },
   {
    "duration": 264217,
    "start_time": "2022-08-20T15:36:04.134Z"
   },
   {
    "duration": 1255,
    "start_time": "2022-08-20T15:40:28.353Z"
   },
   {
    "duration": 108,
    "start_time": "2022-08-20T15:40:29.609Z"
   },
   {
    "duration": 25,
    "start_time": "2022-08-20T15:40:29.719Z"
   },
   {
    "duration": 7587,
    "start_time": "2022-08-20T15:40:29.745Z"
   },
   {
    "duration": 413,
    "start_time": "2022-08-20T15:40:37.333Z"
   },
   {
    "duration": 17,
    "start_time": "2022-08-20T15:40:37.748Z"
   },
   {
    "duration": 319,
    "start_time": "2022-08-20T15:40:37.767Z"
   },
   {
    "duration": 16,
    "start_time": "2022-08-20T15:40:38.088Z"
   },
   {
    "duration": 109,
    "start_time": "2022-08-20T15:44:25.109Z"
   },
   {
    "duration": 7,
    "start_time": "2022-08-20T15:44:54.644Z"
   },
   {
    "duration": 7,
    "start_time": "2022-08-20T15:45:10.636Z"
   },
   {
    "duration": 58,
    "start_time": "2022-08-20T15:45:10.645Z"
   },
   {
    "duration": 15,
    "start_time": "2022-08-20T15:45:10.705Z"
   },
   {
    "duration": 14,
    "start_time": "2022-08-20T15:45:10.722Z"
   },
   {
    "duration": 12,
    "start_time": "2022-08-20T15:45:10.738Z"
   },
   {
    "duration": 9,
    "start_time": "2022-08-20T15:45:10.752Z"
   },
   {
    "duration": 44,
    "start_time": "2022-08-20T15:45:10.763Z"
   },
   {
    "duration": 12,
    "start_time": "2022-08-20T15:45:10.809Z"
   },
   {
    "duration": 7,
    "start_time": "2022-08-20T15:45:10.823Z"
   },
   {
    "duration": 11,
    "start_time": "2022-08-20T15:45:10.831Z"
   },
   {
    "duration": 6,
    "start_time": "2022-08-20T15:45:15.740Z"
   },
   {
    "duration": 42,
    "start_time": "2022-08-20T15:45:15.754Z"
   },
   {
    "duration": 10,
    "start_time": "2022-08-20T15:45:15.798Z"
   },
   {
    "duration": 14,
    "start_time": "2022-08-20T15:45:15.809Z"
   },
   {
    "duration": 11,
    "start_time": "2022-08-20T15:45:15.825Z"
   },
   {
    "duration": 9,
    "start_time": "2022-08-20T15:45:15.837Z"
   },
   {
    "duration": 10,
    "start_time": "2022-08-20T15:45:15.848Z"
   },
   {
    "duration": 42,
    "start_time": "2022-08-20T15:45:15.859Z"
   },
   {
    "duration": 6,
    "start_time": "2022-08-20T15:45:15.903Z"
   },
   {
    "duration": 6,
    "start_time": "2022-08-20T15:45:15.911Z"
   },
   {
    "duration": 7,
    "start_time": "2022-08-20T15:45:15.918Z"
   },
   {
    "duration": 7,
    "start_time": "2022-08-20T15:45:15.927Z"
   },
   {
    "duration": 8,
    "start_time": "2022-08-20T15:45:15.935Z"
   },
   {
    "duration": 8,
    "start_time": "2022-08-20T15:45:15.944Z"
   },
   {
    "duration": 7,
    "start_time": "2022-08-20T15:45:15.953Z"
   },
   {
    "duration": 43,
    "start_time": "2022-08-20T15:45:15.962Z"
   },
   {
    "duration": 7,
    "start_time": "2022-08-20T15:45:16.007Z"
   },
   {
    "duration": 4,
    "start_time": "2022-08-20T15:45:16.016Z"
   },
   {
    "duration": 8,
    "start_time": "2022-08-20T15:45:16.022Z"
   },
   {
    "duration": 13,
    "start_time": "2022-08-20T15:45:16.031Z"
   },
   {
    "duration": 5,
    "start_time": "2022-08-20T15:45:16.045Z"
   },
   {
    "duration": 85,
    "start_time": "2022-08-20T15:45:16.052Z"
   },
   {
    "duration": 75,
    "start_time": "2022-08-20T15:45:16.139Z"
   },
   {
    "duration": 6,
    "start_time": "2022-08-20T15:45:16.216Z"
   },
   {
    "duration": 1248,
    "start_time": "2022-08-20T15:45:16.225Z"
   },
   {
    "duration": 2,
    "start_time": "2022-08-20T15:45:17.475Z"
   },
   {
    "duration": 562,
    "start_time": "2022-08-20T15:45:17.479Z"
   },
   {
    "duration": 859,
    "start_time": "2022-08-20T15:45:18.043Z"
   },
   {
    "duration": 1261,
    "start_time": "2022-08-20T15:45:18.903Z"
   },
   {
    "duration": 1012,
    "start_time": "2022-08-20T15:45:20.166Z"
   },
   {
    "duration": 29,
    "start_time": "2022-08-20T15:45:21.179Z"
   },
   {
    "duration": 4,
    "start_time": "2022-08-20T15:45:21.209Z"
   },
   {
    "duration": 5038,
    "start_time": "2022-08-20T15:45:21.215Z"
   },
   {
    "duration": 1359,
    "start_time": "2022-08-20T15:45:34.166Z"
   },
   {
    "duration": 52,
    "start_time": "2022-08-20T15:45:35.526Z"
   },
   {
    "duration": 11,
    "start_time": "2022-08-20T15:45:35.580Z"
   },
   {
    "duration": 10,
    "start_time": "2022-08-20T15:45:35.593Z"
   },
   {
    "duration": 14,
    "start_time": "2022-08-20T15:45:35.604Z"
   },
   {
    "duration": 10,
    "start_time": "2022-08-20T15:45:35.619Z"
   },
   {
    "duration": 9,
    "start_time": "2022-08-20T15:45:35.630Z"
   },
   {
    "duration": 63,
    "start_time": "2022-08-20T15:45:35.641Z"
   },
   {
    "duration": 5,
    "start_time": "2022-08-20T15:45:35.706Z"
   },
   {
    "duration": 12,
    "start_time": "2022-08-20T15:45:35.713Z"
   },
   {
    "duration": 13,
    "start_time": "2022-08-20T15:45:35.726Z"
   },
   {
    "duration": 8,
    "start_time": "2022-08-20T15:45:35.740Z"
   },
   {
    "duration": 6,
    "start_time": "2022-08-20T15:45:35.749Z"
   },
   {
    "duration": 5,
    "start_time": "2022-08-20T15:45:35.757Z"
   },
   {
    "duration": 8,
    "start_time": "2022-08-20T15:45:35.763Z"
   },
   {
    "duration": 36,
    "start_time": "2022-08-20T15:45:35.772Z"
   },
   {
    "duration": 7,
    "start_time": "2022-08-20T15:45:35.810Z"
   },
   {
    "duration": 8,
    "start_time": "2022-08-20T15:45:35.819Z"
   },
   {
    "duration": 15,
    "start_time": "2022-08-20T15:45:35.828Z"
   },
   {
    "duration": 10,
    "start_time": "2022-08-20T15:45:35.844Z"
   },
   {
    "duration": 5,
    "start_time": "2022-08-20T15:45:35.855Z"
   },
   {
    "duration": 80,
    "start_time": "2022-08-20T15:45:35.861Z"
   },
   {
    "duration": 65,
    "start_time": "2022-08-20T15:45:35.943Z"
   },
   {
    "duration": 6,
    "start_time": "2022-08-20T15:45:36.009Z"
   },
   {
    "duration": 1181,
    "start_time": "2022-08-20T15:45:36.016Z"
   },
   {
    "duration": 2,
    "start_time": "2022-08-20T15:45:37.199Z"
   },
   {
    "duration": 581,
    "start_time": "2022-08-20T15:45:37.203Z"
   },
   {
    "duration": 875,
    "start_time": "2022-08-20T15:45:37.787Z"
   },
   {
    "duration": 1260,
    "start_time": "2022-08-20T15:45:38.664Z"
   },
   {
    "duration": 1026,
    "start_time": "2022-08-20T15:45:39.926Z"
   },
   {
    "duration": 21,
    "start_time": "2022-08-20T15:45:40.954Z"
   },
   {
    "duration": 7,
    "start_time": "2022-08-20T15:45:40.976Z"
   },
   {
    "duration": 5229,
    "start_time": "2022-08-20T15:45:40.985Z"
   },
   {
    "duration": 260589,
    "start_time": "2022-08-20T15:45:46.216Z"
   },
   {
    "duration": 1493,
    "start_time": "2022-08-20T15:50:06.807Z"
   },
   {
    "duration": 19,
    "start_time": "2022-08-20T15:50:08.302Z"
   },
   {
    "duration": 33,
    "start_time": "2022-08-20T15:50:08.322Z"
   },
   {
    "duration": 7795,
    "start_time": "2022-08-20T15:50:08.357Z"
   },
   {
    "duration": 347,
    "start_time": "2022-08-20T15:50:16.153Z"
   },
   {
    "duration": 15,
    "start_time": "2022-08-20T15:50:16.501Z"
   },
   {
    "duration": 278,
    "start_time": "2022-08-20T15:50:16.517Z"
   },
   {
    "duration": 10,
    "start_time": "2022-08-20T15:50:16.799Z"
   },
   {
    "duration": 1409,
    "start_time": "2022-08-20T15:50:49.524Z"
   },
   {
    "duration": 51,
    "start_time": "2022-08-20T15:50:50.935Z"
   },
   {
    "duration": 12,
    "start_time": "2022-08-20T15:50:50.988Z"
   },
   {
    "duration": 11,
    "start_time": "2022-08-20T15:50:51.003Z"
   },
   {
    "duration": 15,
    "start_time": "2022-08-20T15:50:51.015Z"
   },
   {
    "duration": 11,
    "start_time": "2022-08-20T15:50:51.032Z"
   },
   {
    "duration": 10,
    "start_time": "2022-08-20T15:50:51.044Z"
   },
   {
    "duration": 69,
    "start_time": "2022-08-20T15:50:51.055Z"
   },
   {
    "duration": 6,
    "start_time": "2022-08-20T15:50:51.126Z"
   },
   {
    "duration": 7,
    "start_time": "2022-08-20T15:50:51.134Z"
   },
   {
    "duration": 6,
    "start_time": "2022-08-20T15:50:51.142Z"
   },
   {
    "duration": 9,
    "start_time": "2022-08-20T15:50:51.150Z"
   },
   {
    "duration": 8,
    "start_time": "2022-08-20T15:50:51.160Z"
   },
   {
    "duration": 36,
    "start_time": "2022-08-20T15:50:51.169Z"
   },
   {
    "duration": 5,
    "start_time": "2022-08-20T15:50:51.207Z"
   },
   {
    "duration": 8,
    "start_time": "2022-08-20T15:50:51.213Z"
   },
   {
    "duration": 18,
    "start_time": "2022-08-20T15:50:51.222Z"
   },
   {
    "duration": 7,
    "start_time": "2022-08-20T15:50:51.241Z"
   },
   {
    "duration": 5,
    "start_time": "2022-08-20T15:50:51.249Z"
   },
   {
    "duration": 8,
    "start_time": "2022-08-20T15:50:51.255Z"
   },
   {
    "duration": 17,
    "start_time": "2022-08-20T15:50:51.264Z"
   },
   {
    "duration": 18,
    "start_time": "2022-08-20T15:50:51.283Z"
   },
   {
    "duration": 61,
    "start_time": "2022-08-20T15:50:51.302Z"
   },
   {
    "duration": 71,
    "start_time": "2022-08-20T15:50:51.365Z"
   },
   {
    "duration": 6,
    "start_time": "2022-08-20T15:50:51.444Z"
   },
   {
    "duration": 1280,
    "start_time": "2022-08-20T15:50:51.452Z"
   },
   {
    "duration": 3,
    "start_time": "2022-08-20T15:50:52.734Z"
   },
   {
    "duration": 619,
    "start_time": "2022-08-20T15:50:52.739Z"
   },
   {
    "duration": 935,
    "start_time": "2022-08-20T15:50:53.360Z"
   },
   {
    "duration": 1327,
    "start_time": "2022-08-20T15:50:54.297Z"
   },
   {
    "duration": 967,
    "start_time": "2022-08-20T15:50:55.626Z"
   },
   {
    "duration": 24,
    "start_time": "2022-08-20T15:50:56.595Z"
   },
   {
    "duration": 5,
    "start_time": "2022-08-20T15:50:56.621Z"
   },
   {
    "duration": 5107,
    "start_time": "2022-08-20T15:50:56.628Z"
   },
   {
    "duration": 262599,
    "start_time": "2022-08-20T15:51:01.736Z"
   },
   {
    "duration": 1269,
    "start_time": "2022-08-20T15:55:24.336Z"
   },
   {
    "duration": 104,
    "start_time": "2022-08-20T15:55:25.607Z"
   },
   {
    "duration": 29,
    "start_time": "2022-08-20T15:55:25.712Z"
   },
   {
    "duration": 7408,
    "start_time": "2022-08-20T15:55:25.743Z"
   },
   {
    "duration": 345,
    "start_time": "2022-08-20T15:55:33.153Z"
   },
   {
    "duration": 16,
    "start_time": "2022-08-20T15:55:33.499Z"
   },
   {
    "duration": 306,
    "start_time": "2022-08-20T15:55:33.516Z"
   },
   {
    "duration": 10,
    "start_time": "2022-08-20T15:55:33.824Z"
   },
   {
    "duration": 115,
    "start_time": "2022-08-20T16:07:18.904Z"
   },
   {
    "duration": 18,
    "start_time": "2022-08-20T16:07:29.647Z"
   },
   {
    "duration": 9,
    "start_time": "2022-08-20T16:08:37.621Z"
   },
   {
    "duration": 10,
    "start_time": "2022-08-20T16:08:54.435Z"
   },
   {
    "duration": 53,
    "start_time": "2022-08-20T16:12:24.575Z"
   },
   {
    "duration": 11,
    "start_time": "2022-08-20T16:12:41.759Z"
   },
   {
    "duration": 23,
    "start_time": "2022-08-20T16:13:19.061Z"
   },
   {
    "duration": 6,
    "start_time": "2022-08-20T16:13:22.355Z"
   },
   {
    "duration": 5174,
    "start_time": "2022-08-20T16:13:23.060Z"
   },
   {
    "duration": 263028,
    "start_time": "2022-08-20T16:13:28.236Z"
   }
  ],
  "kernelspec": {
   "display_name": "Python 3 (ipykernel)",
   "language": "python",
   "name": "python3"
  },
  "language_info": {
   "codemirror_mode": {
    "name": "ipython",
    "version": 3
   },
   "file_extension": ".py",
   "mimetype": "text/x-python",
   "name": "python",
   "nbconvert_exporter": "python",
   "pygments_lexer": "ipython3",
   "version": "3.9.5"
  },
  "toc": {
   "base_numbering": 1,
   "nav_menu": {},
   "number_sections": true,
   "sideBar": true,
   "skip_h1_title": true,
   "title_cell": "Table of Contents",
   "title_sidebar": "Contents",
   "toc_cell": false,
   "toc_position": {},
   "toc_section_display": true,
   "toc_window_display": false
  }
 },
 "nbformat": 4,
 "nbformat_minor": 2
}
