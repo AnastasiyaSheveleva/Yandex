{
 "cells": [
  {
   "cell_type": "markdown",
   "metadata": {},
   "source": [
    "# Часть 1. Приоритизация гипотез."
   ]
  },
  {
   "cell_type": "code",
   "execution_count": 1,
   "metadata": {},
   "outputs": [],
   "source": [
    "import pandas as pd\n",
    "import numpy as np\n",
    "from matplotlib import pyplot as plt\n",
    "\n",
    "import math\n",
    "from scipy import stats\n",
    "\n",
    "from datetime import timedelta\n",
    "import datetime as dt\n",
    "\n",
    "from statsmodels.stats.proportion import proportions_ztest\n",
    "import warnings\n",
    "\n",
    "warnings.filterwarnings('ignore')"
   ]
  },
  {
   "cell_type": "code",
   "execution_count": 2,
   "metadata": {},
   "outputs": [
    {
     "data": {
      "text/html": [
       "<div>\n",
       "<style scoped>\n",
       "    .dataframe tbody tr th:only-of-type {\n",
       "        vertical-align: middle;\n",
       "    }\n",
       "\n",
       "    .dataframe tbody tr th {\n",
       "        vertical-align: top;\n",
       "    }\n",
       "\n",
       "    .dataframe thead th {\n",
       "        text-align: right;\n",
       "    }\n",
       "</style>\n",
       "<table border=\"1\" class=\"dataframe\">\n",
       "  <thead>\n",
       "    <tr style=\"text-align: right;\">\n",
       "      <th></th>\n",
       "      <th>Hypothesis</th>\n",
       "      <th>Reach</th>\n",
       "      <th>Impact</th>\n",
       "      <th>Confidence</th>\n",
       "      <th>Efforts</th>\n",
       "    </tr>\n",
       "  </thead>\n",
       "  <tbody>\n",
       "    <tr>\n",
       "      <th>0</th>\n",
       "      <td>Добавить два новых канала привлечения трафика, что позволит привлекать на 30% больше пользователей</td>\n",
       "      <td>3</td>\n",
       "      <td>10</td>\n",
       "      <td>8</td>\n",
       "      <td>6</td>\n",
       "    </tr>\n",
       "    <tr>\n",
       "      <th>1</th>\n",
       "      <td>Запустить собственную службу доставки, что сократит срок доставки заказов</td>\n",
       "      <td>2</td>\n",
       "      <td>5</td>\n",
       "      <td>4</td>\n",
       "      <td>10</td>\n",
       "    </tr>\n",
       "    <tr>\n",
       "      <th>2</th>\n",
       "      <td>Добавить блоки рекомендаций товаров на сайт интернет магазина, чтобы повысить конверсию и средний чек заказа</td>\n",
       "      <td>8</td>\n",
       "      <td>3</td>\n",
       "      <td>7</td>\n",
       "      <td>3</td>\n",
       "    </tr>\n",
       "    <tr>\n",
       "      <th>3</th>\n",
       "      <td>Изменить структура категорий, что увеличит конверсию, т.к. пользователи быстрее найдут нужный товар</td>\n",
       "      <td>8</td>\n",
       "      <td>3</td>\n",
       "      <td>3</td>\n",
       "      <td>8</td>\n",
       "    </tr>\n",
       "    <tr>\n",
       "      <th>4</th>\n",
       "      <td>Изменить цвет фона главной страницы, чтобы увеличить вовлеченность пользователей</td>\n",
       "      <td>3</td>\n",
       "      <td>1</td>\n",
       "      <td>1</td>\n",
       "      <td>1</td>\n",
       "    </tr>\n",
       "    <tr>\n",
       "      <th>5</th>\n",
       "      <td>Добавить страницу отзывов клиентов о магазине, что позволит увеличить количество заказов</td>\n",
       "      <td>3</td>\n",
       "      <td>2</td>\n",
       "      <td>2</td>\n",
       "      <td>3</td>\n",
       "    </tr>\n",
       "    <tr>\n",
       "      <th>6</th>\n",
       "      <td>Показать на главной странице баннеры с актуальными акциями и распродажами, чтобы увеличить конверсию</td>\n",
       "      <td>5</td>\n",
       "      <td>3</td>\n",
       "      <td>8</td>\n",
       "      <td>3</td>\n",
       "    </tr>\n",
       "    <tr>\n",
       "      <th>7</th>\n",
       "      <td>Добавить форму подписки на все основные страницы, чтобы собрать базу клиентов для email-рассылок</td>\n",
       "      <td>10</td>\n",
       "      <td>7</td>\n",
       "      <td>8</td>\n",
       "      <td>5</td>\n",
       "    </tr>\n",
       "    <tr>\n",
       "      <th>8</th>\n",
       "      <td>Запустить акцию, дающую скидку на товар в день рождения</td>\n",
       "      <td>1</td>\n",
       "      <td>9</td>\n",
       "      <td>9</td>\n",
       "      <td>5</td>\n",
       "    </tr>\n",
       "  </tbody>\n",
       "</table>\n",
       "</div>"
      ],
      "text/plain": [
       "                                                                                                     Hypothesis  \\\n",
       "0            Добавить два новых канала привлечения трафика, что позволит привлекать на 30% больше пользователей   \n",
       "1                                     Запустить собственную службу доставки, что сократит срок доставки заказов   \n",
       "2  Добавить блоки рекомендаций товаров на сайт интернет магазина, чтобы повысить конверсию и средний чек заказа   \n",
       "3           Изменить структура категорий, что увеличит конверсию, т.к. пользователи быстрее найдут нужный товар   \n",
       "4                              Изменить цвет фона главной страницы, чтобы увеличить вовлеченность пользователей   \n",
       "5                      Добавить страницу отзывов клиентов о магазине, что позволит увеличить количество заказов   \n",
       "6          Показать на главной странице баннеры с актуальными акциями и распродажами, чтобы увеличить конверсию   \n",
       "7              Добавить форму подписки на все основные страницы, чтобы собрать базу клиентов для email-рассылок   \n",
       "8                                                       Запустить акцию, дающую скидку на товар в день рождения   \n",
       "\n",
       "   Reach  Impact  Confidence  Efforts  \n",
       "0      3      10           8        6  \n",
       "1      2       5           4       10  \n",
       "2      8       3           7        3  \n",
       "3      8       3           3        8  \n",
       "4      3       1           1        1  \n",
       "5      3       2           2        3  \n",
       "6      5       3           8        3  \n",
       "7     10       7           8        5  \n",
       "8      1       9           9        5  "
      ]
     },
     "execution_count": 2,
     "metadata": {},
     "output_type": "execute_result"
    }
   ],
   "source": [
    "data = pd.read_csv('/datasets/hypothesis.csv', sep=',')\n",
    "pd.set_option('display.max_columns', None)\n",
    "pd.options.display.max_colwidth = 150  \n",
    "\n",
    "data.head(9)"
   ]
  },
  {
   "cell_type": "markdown",
   "metadata": {},
   "source": [
    "Для удобства работы с данными переведем название столбцов нижний регистр"
   ]
  },
  {
   "cell_type": "code",
   "execution_count": 3,
   "metadata": {},
   "outputs": [],
   "source": [
    "data.columns = [x.lower() for x in data.columns.values]"
   ]
  },
  {
   "cell_type": "markdown",
   "metadata": {},
   "source": [
    "1. Применение фреймворка ICE для приоритизации гипотез."
   ]
  },
  {
   "cell_type": "code",
   "execution_count": 4,
   "metadata": {},
   "outputs": [],
   "source": [
    "data['ICE'] = (data['impact'] * data['confidence'] / data['efforts']).round(2)"
   ]
  },
  {
   "cell_type": "code",
   "execution_count": 5,
   "metadata": {},
   "outputs": [
    {
     "data": {
      "text/html": [
       "<div>\n",
       "<style scoped>\n",
       "    .dataframe tbody tr th:only-of-type {\n",
       "        vertical-align: middle;\n",
       "    }\n",
       "\n",
       "    .dataframe tbody tr th {\n",
       "        vertical-align: top;\n",
       "    }\n",
       "\n",
       "    .dataframe thead th {\n",
       "        text-align: right;\n",
       "    }\n",
       "</style>\n",
       "<table border=\"1\" class=\"dataframe\">\n",
       "  <thead>\n",
       "    <tr style=\"text-align: right;\">\n",
       "      <th></th>\n",
       "      <th>hypothesis</th>\n",
       "      <th>ICE</th>\n",
       "    </tr>\n",
       "  </thead>\n",
       "  <tbody>\n",
       "    <tr>\n",
       "      <th>8</th>\n",
       "      <td>Запустить акцию, дающую скидку на товар в день рождения</td>\n",
       "      <td>16.20</td>\n",
       "    </tr>\n",
       "    <tr>\n",
       "      <th>0</th>\n",
       "      <td>Добавить два новых канала привлечения трафика, что позволит привлекать на 30% больше пользователей</td>\n",
       "      <td>13.33</td>\n",
       "    </tr>\n",
       "    <tr>\n",
       "      <th>7</th>\n",
       "      <td>Добавить форму подписки на все основные страницы, чтобы собрать базу клиентов для email-рассылок</td>\n",
       "      <td>11.20</td>\n",
       "    </tr>\n",
       "    <tr>\n",
       "      <th>6</th>\n",
       "      <td>Показать на главной странице баннеры с актуальными акциями и распродажами, чтобы увеличить конверсию</td>\n",
       "      <td>8.00</td>\n",
       "    </tr>\n",
       "    <tr>\n",
       "      <th>2</th>\n",
       "      <td>Добавить блоки рекомендаций товаров на сайт интернет магазина, чтобы повысить конверсию и средний чек заказа</td>\n",
       "      <td>7.00</td>\n",
       "    </tr>\n",
       "    <tr>\n",
       "      <th>1</th>\n",
       "      <td>Запустить собственную службу доставки, что сократит срок доставки заказов</td>\n",
       "      <td>2.00</td>\n",
       "    </tr>\n",
       "    <tr>\n",
       "      <th>5</th>\n",
       "      <td>Добавить страницу отзывов клиентов о магазине, что позволит увеличить количество заказов</td>\n",
       "      <td>1.33</td>\n",
       "    </tr>\n",
       "    <tr>\n",
       "      <th>3</th>\n",
       "      <td>Изменить структура категорий, что увеличит конверсию, т.к. пользователи быстрее найдут нужный товар</td>\n",
       "      <td>1.12</td>\n",
       "    </tr>\n",
       "    <tr>\n",
       "      <th>4</th>\n",
       "      <td>Изменить цвет фона главной страницы, чтобы увеличить вовлеченность пользователей</td>\n",
       "      <td>1.00</td>\n",
       "    </tr>\n",
       "  </tbody>\n",
       "</table>\n",
       "</div>"
      ],
      "text/plain": [
       "                                                                                                     hypothesis  \\\n",
       "8                                                       Запустить акцию, дающую скидку на товар в день рождения   \n",
       "0            Добавить два новых канала привлечения трафика, что позволит привлекать на 30% больше пользователей   \n",
       "7              Добавить форму подписки на все основные страницы, чтобы собрать базу клиентов для email-рассылок   \n",
       "6          Показать на главной странице баннеры с актуальными акциями и распродажами, чтобы увеличить конверсию   \n",
       "2  Добавить блоки рекомендаций товаров на сайт интернет магазина, чтобы повысить конверсию и средний чек заказа   \n",
       "1                                     Запустить собственную службу доставки, что сократит срок доставки заказов   \n",
       "5                      Добавить страницу отзывов клиентов о магазине, что позволит увеличить количество заказов   \n",
       "3           Изменить структура категорий, что увеличит конверсию, т.к. пользователи быстрее найдут нужный товар   \n",
       "4                              Изменить цвет фона главной страницы, чтобы увеличить вовлеченность пользователей   \n",
       "\n",
       "     ICE  \n",
       "8  16.20  \n",
       "0  13.33  \n",
       "7  11.20  \n",
       "6   8.00  \n",
       "2   7.00  \n",
       "1   2.00  \n",
       "5   1.33  \n",
       "3   1.12  \n",
       "4   1.00  "
      ]
     },
     "execution_count": 5,
     "metadata": {},
     "output_type": "execute_result"
    }
   ],
   "source": [
    "data[['hypothesis', 'ICE']].sort_values(by='ICE', ascending=False)"
   ]
  },
  {
   "cell_type": "markdown",
   "metadata": {},
   "source": [
    "Наиболее перспективные гипотизы по ICE - 8, 0, 7"
   ]
  },
  {
   "cell_type": "markdown",
   "metadata": {},
   "source": [
    "2. Применение фреймворка RICE для приоритизации гипотез."
   ]
  },
  {
   "cell_type": "code",
   "execution_count": 6,
   "metadata": {},
   "outputs": [],
   "source": [
    "data['RICE'] = (data['reach'] * data['impact'] * data['confidence'] / data['efforts']).round(2)"
   ]
  },
  {
   "cell_type": "code",
   "execution_count": 7,
   "metadata": {},
   "outputs": [
    {
     "data": {
      "text/html": [
       "<div>\n",
       "<style scoped>\n",
       "    .dataframe tbody tr th:only-of-type {\n",
       "        vertical-align: middle;\n",
       "    }\n",
       "\n",
       "    .dataframe tbody tr th {\n",
       "        vertical-align: top;\n",
       "    }\n",
       "\n",
       "    .dataframe thead th {\n",
       "        text-align: right;\n",
       "    }\n",
       "</style>\n",
       "<table border=\"1\" class=\"dataframe\">\n",
       "  <thead>\n",
       "    <tr style=\"text-align: right;\">\n",
       "      <th></th>\n",
       "      <th>hypothesis</th>\n",
       "      <th>RICE</th>\n",
       "    </tr>\n",
       "  </thead>\n",
       "  <tbody>\n",
       "    <tr>\n",
       "      <th>7</th>\n",
       "      <td>Добавить форму подписки на все основные страницы, чтобы собрать базу клиентов для email-рассылок</td>\n",
       "      <td>112.0</td>\n",
       "    </tr>\n",
       "    <tr>\n",
       "      <th>2</th>\n",
       "      <td>Добавить блоки рекомендаций товаров на сайт интернет магазина, чтобы повысить конверсию и средний чек заказа</td>\n",
       "      <td>56.0</td>\n",
       "    </tr>\n",
       "    <tr>\n",
       "      <th>0</th>\n",
       "      <td>Добавить два новых канала привлечения трафика, что позволит привлекать на 30% больше пользователей</td>\n",
       "      <td>40.0</td>\n",
       "    </tr>\n",
       "    <tr>\n",
       "      <th>6</th>\n",
       "      <td>Показать на главной странице баннеры с актуальными акциями и распродажами, чтобы увеличить конверсию</td>\n",
       "      <td>40.0</td>\n",
       "    </tr>\n",
       "    <tr>\n",
       "      <th>8</th>\n",
       "      <td>Запустить акцию, дающую скидку на товар в день рождения</td>\n",
       "      <td>16.2</td>\n",
       "    </tr>\n",
       "    <tr>\n",
       "      <th>3</th>\n",
       "      <td>Изменить структура категорий, что увеличит конверсию, т.к. пользователи быстрее найдут нужный товар</td>\n",
       "      <td>9.0</td>\n",
       "    </tr>\n",
       "    <tr>\n",
       "      <th>1</th>\n",
       "      <td>Запустить собственную службу доставки, что сократит срок доставки заказов</td>\n",
       "      <td>4.0</td>\n",
       "    </tr>\n",
       "    <tr>\n",
       "      <th>5</th>\n",
       "      <td>Добавить страницу отзывов клиентов о магазине, что позволит увеличить количество заказов</td>\n",
       "      <td>4.0</td>\n",
       "    </tr>\n",
       "    <tr>\n",
       "      <th>4</th>\n",
       "      <td>Изменить цвет фона главной страницы, чтобы увеличить вовлеченность пользователей</td>\n",
       "      <td>3.0</td>\n",
       "    </tr>\n",
       "  </tbody>\n",
       "</table>\n",
       "</div>"
      ],
      "text/plain": [
       "                                                                                                     hypothesis  \\\n",
       "7              Добавить форму подписки на все основные страницы, чтобы собрать базу клиентов для email-рассылок   \n",
       "2  Добавить блоки рекомендаций товаров на сайт интернет магазина, чтобы повысить конверсию и средний чек заказа   \n",
       "0            Добавить два новых канала привлечения трафика, что позволит привлекать на 30% больше пользователей   \n",
       "6          Показать на главной странице баннеры с актуальными акциями и распродажами, чтобы увеличить конверсию   \n",
       "8                                                       Запустить акцию, дающую скидку на товар в день рождения   \n",
       "3           Изменить структура категорий, что увеличит конверсию, т.к. пользователи быстрее найдут нужный товар   \n",
       "1                                     Запустить собственную службу доставки, что сократит срок доставки заказов   \n",
       "5                      Добавить страницу отзывов клиентов о магазине, что позволит увеличить количество заказов   \n",
       "4                              Изменить цвет фона главной страницы, чтобы увеличить вовлеченность пользователей   \n",
       "\n",
       "    RICE  \n",
       "7  112.0  \n",
       "2   56.0  \n",
       "0   40.0  \n",
       "6   40.0  \n",
       "8   16.2  \n",
       "3    9.0  \n",
       "1    4.0  \n",
       "5    4.0  \n",
       "4    3.0  "
      ]
     },
     "execution_count": 7,
     "metadata": {},
     "output_type": "execute_result"
    }
   ],
   "source": [
    "data[['hypothesis', 'RICE']].sort_values(by='RICE', ascending=False)"
   ]
  },
  {
   "cell_type": "markdown",
   "metadata": {},
   "source": [
    "Наиболее перспективные гипотизы по RICE - 7, 2, 0"
   ]
  },
  {
   "cell_type": "markdown",
   "metadata": {},
   "source": [
    "На основании анализа файла с гипотизами с помощью RICE и ICE  можно сделать вывод. При применении RICE на первом месте по приоритету гипотиза 7, тогда как при применении ICE она только на третьем месте. Это связано с тем, что ее параметр \"Reach\" равен 10, в то время как у остальных гипотез он меньше. \"Reach\" помогает нам понять, как много пользователей затронет гипотеза."
   ]
  },
  {
   "cell_type": "markdown",
   "metadata": {},
   "source": [
    "# Часть 2. Анализ A/B-теста"
   ]
  },
  {
   "cell_type": "markdown",
   "metadata": {},
   "source": [
    "Был проведен A/B-тест и получены результаты, которые описаны в файлах /datasets/orders.csv и /datasets/visitors.csv."
   ]
  },
  {
   "cell_type": "markdown",
   "metadata": {},
   "source": [
    "Предобработка данных"
   ]
  },
  {
   "cell_type": "code",
   "execution_count": 8,
   "metadata": {},
   "outputs": [],
   "source": [
    "orders = pd.read_csv('/datasets/orders.csv', sep=',')\n",
    "visitors = pd.read_csv('/datasets/visitors.csv', sep=',')"
   ]
  },
  {
   "cell_type": "code",
   "execution_count": 9,
   "metadata": {},
   "outputs": [
    {
     "data": {
      "text/html": [
       "<div>\n",
       "<style scoped>\n",
       "    .dataframe tbody tr th:only-of-type {\n",
       "        vertical-align: middle;\n",
       "    }\n",
       "\n",
       "    .dataframe tbody tr th {\n",
       "        vertical-align: top;\n",
       "    }\n",
       "\n",
       "    .dataframe thead th {\n",
       "        text-align: right;\n",
       "    }\n",
       "</style>\n",
       "<table border=\"1\" class=\"dataframe\">\n",
       "  <thead>\n",
       "    <tr style=\"text-align: right;\">\n",
       "      <th></th>\n",
       "      <th>transactionId</th>\n",
       "      <th>visitorId</th>\n",
       "      <th>date</th>\n",
       "      <th>revenue</th>\n",
       "      <th>group</th>\n",
       "    </tr>\n",
       "  </thead>\n",
       "  <tbody>\n",
       "    <tr>\n",
       "      <th>0</th>\n",
       "      <td>3667963787</td>\n",
       "      <td>3312258926</td>\n",
       "      <td>2019-08-15</td>\n",
       "      <td>1650</td>\n",
       "      <td>B</td>\n",
       "    </tr>\n",
       "    <tr>\n",
       "      <th>1</th>\n",
       "      <td>2804400009</td>\n",
       "      <td>3642806036</td>\n",
       "      <td>2019-08-15</td>\n",
       "      <td>730</td>\n",
       "      <td>B</td>\n",
       "    </tr>\n",
       "    <tr>\n",
       "      <th>2</th>\n",
       "      <td>2961555356</td>\n",
       "      <td>4069496402</td>\n",
       "      <td>2019-08-15</td>\n",
       "      <td>400</td>\n",
       "      <td>A</td>\n",
       "    </tr>\n",
       "    <tr>\n",
       "      <th>3</th>\n",
       "      <td>3797467345</td>\n",
       "      <td>1196621759</td>\n",
       "      <td>2019-08-15</td>\n",
       "      <td>9759</td>\n",
       "      <td>B</td>\n",
       "    </tr>\n",
       "    <tr>\n",
       "      <th>4</th>\n",
       "      <td>2282983706</td>\n",
       "      <td>2322279887</td>\n",
       "      <td>2019-08-15</td>\n",
       "      <td>2308</td>\n",
       "      <td>B</td>\n",
       "    </tr>\n",
       "    <tr>\n",
       "      <th>5</th>\n",
       "      <td>182168103</td>\n",
       "      <td>935554773</td>\n",
       "      <td>2019-08-15</td>\n",
       "      <td>2210</td>\n",
       "      <td>B</td>\n",
       "    </tr>\n",
       "    <tr>\n",
       "      <th>6</th>\n",
       "      <td>398296753</td>\n",
       "      <td>2900797465</td>\n",
       "      <td>2019-08-15</td>\n",
       "      <td>1860</td>\n",
       "      <td>B</td>\n",
       "    </tr>\n",
       "    <tr>\n",
       "      <th>7</th>\n",
       "      <td>2626614568</td>\n",
       "      <td>78758296</td>\n",
       "      <td>2019-08-15</td>\n",
       "      <td>1044</td>\n",
       "      <td>A</td>\n",
       "    </tr>\n",
       "    <tr>\n",
       "      <th>8</th>\n",
       "      <td>1576988021</td>\n",
       "      <td>295230930</td>\n",
       "      <td>2019-08-15</td>\n",
       "      <td>13710</td>\n",
       "      <td>A</td>\n",
       "    </tr>\n",
       "    <tr>\n",
       "      <th>9</th>\n",
       "      <td>1506739906</td>\n",
       "      <td>1882260405</td>\n",
       "      <td>2019-08-15</td>\n",
       "      <td>1855</td>\n",
       "      <td>B</td>\n",
       "    </tr>\n",
       "  </tbody>\n",
       "</table>\n",
       "</div>"
      ],
      "text/plain": [
       "   transactionId   visitorId        date  revenue group\n",
       "0     3667963787  3312258926  2019-08-15     1650     B\n",
       "1     2804400009  3642806036  2019-08-15      730     B\n",
       "2     2961555356  4069496402  2019-08-15      400     A\n",
       "3     3797467345  1196621759  2019-08-15     9759     B\n",
       "4     2282983706  2322279887  2019-08-15     2308     B\n",
       "5      182168103   935554773  2019-08-15     2210     B\n",
       "6      398296753  2900797465  2019-08-15     1860     B\n",
       "7     2626614568    78758296  2019-08-15     1044     A\n",
       "8     1576988021   295230930  2019-08-15    13710     A\n",
       "9     1506739906  1882260405  2019-08-15     1855     B"
      ]
     },
     "metadata": {},
     "output_type": "display_data"
    }
   ],
   "source": [
    "display(orders.head(10))"
   ]
  },
  {
   "cell_type": "code",
   "execution_count": 10,
   "metadata": {},
   "outputs": [
    {
     "name": "stdout",
     "output_type": "stream",
     "text": [
      "<class 'pandas.core.frame.DataFrame'>\n",
      "RangeIndex: 1197 entries, 0 to 1196\n",
      "Data columns (total 5 columns):\n",
      " #   Column         Non-Null Count  Dtype \n",
      "---  ------         --------------  ----- \n",
      " 0   transactionId  1197 non-null   int64 \n",
      " 1   visitorId      1197 non-null   int64 \n",
      " 2   date           1197 non-null   object\n",
      " 3   revenue        1197 non-null   int64 \n",
      " 4   group          1197 non-null   object\n",
      "dtypes: int64(3), object(2)\n",
      "memory usage: 46.9+ KB\n"
     ]
    }
   ],
   "source": [
    "orders.info()"
   ]
  },
  {
   "cell_type": "markdown",
   "metadata": {},
   "source": [
    "Изменим формат даты"
   ]
  },
  {
   "cell_type": "code",
   "execution_count": 11,
   "metadata": {},
   "outputs": [],
   "source": [
    "orders['date'] = orders['date'].map(lambda x: dt.datetime.strptime(x, '%Y-%m-%d'))"
   ]
  },
  {
   "cell_type": "markdown",
   "metadata": {},
   "source": [
    "Переименуем столбцы для удобства использования данных"
   ]
  },
  {
   "cell_type": "code",
   "execution_count": 12,
   "metadata": {},
   "outputs": [],
   "source": [
    "orders = orders.rename(columns={\"transactionId\": \"orderId\", \"visitorId\": \"userId\"})"
   ]
  },
  {
   "cell_type": "code",
   "execution_count": 13,
   "metadata": {},
   "outputs": [
    {
     "data": {
      "text/html": [
       "<div>\n",
       "<style scoped>\n",
       "    .dataframe tbody tr th:only-of-type {\n",
       "        vertical-align: middle;\n",
       "    }\n",
       "\n",
       "    .dataframe tbody tr th {\n",
       "        vertical-align: top;\n",
       "    }\n",
       "\n",
       "    .dataframe thead th {\n",
       "        text-align: right;\n",
       "    }\n",
       "</style>\n",
       "<table border=\"1\" class=\"dataframe\">\n",
       "  <thead>\n",
       "    <tr style=\"text-align: right;\">\n",
       "      <th></th>\n",
       "      <th>orderId</th>\n",
       "      <th>userId</th>\n",
       "      <th>date</th>\n",
       "      <th>revenue</th>\n",
       "      <th>group</th>\n",
       "    </tr>\n",
       "  </thead>\n",
       "  <tbody>\n",
       "    <tr>\n",
       "      <th>0</th>\n",
       "      <td>3667963787</td>\n",
       "      <td>3312258926</td>\n",
       "      <td>2019-08-15</td>\n",
       "      <td>1650</td>\n",
       "      <td>B</td>\n",
       "    </tr>\n",
       "    <tr>\n",
       "      <th>1</th>\n",
       "      <td>2804400009</td>\n",
       "      <td>3642806036</td>\n",
       "      <td>2019-08-15</td>\n",
       "      <td>730</td>\n",
       "      <td>B</td>\n",
       "    </tr>\n",
       "    <tr>\n",
       "      <th>2</th>\n",
       "      <td>2961555356</td>\n",
       "      <td>4069496402</td>\n",
       "      <td>2019-08-15</td>\n",
       "      <td>400</td>\n",
       "      <td>A</td>\n",
       "    </tr>\n",
       "    <tr>\n",
       "      <th>3</th>\n",
       "      <td>3797467345</td>\n",
       "      <td>1196621759</td>\n",
       "      <td>2019-08-15</td>\n",
       "      <td>9759</td>\n",
       "      <td>B</td>\n",
       "    </tr>\n",
       "    <tr>\n",
       "      <th>4</th>\n",
       "      <td>2282983706</td>\n",
       "      <td>2322279887</td>\n",
       "      <td>2019-08-15</td>\n",
       "      <td>2308</td>\n",
       "      <td>B</td>\n",
       "    </tr>\n",
       "    <tr>\n",
       "      <th>5</th>\n",
       "      <td>182168103</td>\n",
       "      <td>935554773</td>\n",
       "      <td>2019-08-15</td>\n",
       "      <td>2210</td>\n",
       "      <td>B</td>\n",
       "    </tr>\n",
       "    <tr>\n",
       "      <th>6</th>\n",
       "      <td>398296753</td>\n",
       "      <td>2900797465</td>\n",
       "      <td>2019-08-15</td>\n",
       "      <td>1860</td>\n",
       "      <td>B</td>\n",
       "    </tr>\n",
       "    <tr>\n",
       "      <th>7</th>\n",
       "      <td>2626614568</td>\n",
       "      <td>78758296</td>\n",
       "      <td>2019-08-15</td>\n",
       "      <td>1044</td>\n",
       "      <td>A</td>\n",
       "    </tr>\n",
       "    <tr>\n",
       "      <th>8</th>\n",
       "      <td>1576988021</td>\n",
       "      <td>295230930</td>\n",
       "      <td>2019-08-15</td>\n",
       "      <td>13710</td>\n",
       "      <td>A</td>\n",
       "    </tr>\n",
       "    <tr>\n",
       "      <th>9</th>\n",
       "      <td>1506739906</td>\n",
       "      <td>1882260405</td>\n",
       "      <td>2019-08-15</td>\n",
       "      <td>1855</td>\n",
       "      <td>B</td>\n",
       "    </tr>\n",
       "  </tbody>\n",
       "</table>\n",
       "</div>"
      ],
      "text/plain": [
       "      orderId      userId       date  revenue group\n",
       "0  3667963787  3312258926 2019-08-15     1650     B\n",
       "1  2804400009  3642806036 2019-08-15      730     B\n",
       "2  2961555356  4069496402 2019-08-15      400     A\n",
       "3  3797467345  1196621759 2019-08-15     9759     B\n",
       "4  2282983706  2322279887 2019-08-15     2308     B\n",
       "5   182168103   935554773 2019-08-15     2210     B\n",
       "6   398296753  2900797465 2019-08-15     1860     B\n",
       "7  2626614568    78758296 2019-08-15     1044     A\n",
       "8  1576988021   295230930 2019-08-15    13710     A\n",
       "9  1506739906  1882260405 2019-08-15     1855     B"
      ]
     },
     "metadata": {},
     "output_type": "display_data"
    }
   ],
   "source": [
    "display(orders.head(10))"
   ]
  },
  {
   "cell_type": "markdown",
   "metadata": {},
   "source": [
    "Проверим данные на дубликаты"
   ]
  },
  {
   "cell_type": "code",
   "execution_count": 14,
   "metadata": {},
   "outputs": [
    {
     "data": {
      "text/html": [
       "<div>\n",
       "<style scoped>\n",
       "    .dataframe tbody tr th:only-of-type {\n",
       "        vertical-align: middle;\n",
       "    }\n",
       "\n",
       "    .dataframe tbody tr th {\n",
       "        vertical-align: top;\n",
       "    }\n",
       "\n",
       "    .dataframe thead th {\n",
       "        text-align: right;\n",
       "    }\n",
       "</style>\n",
       "<table border=\"1\" class=\"dataframe\">\n",
       "  <thead>\n",
       "    <tr style=\"text-align: right;\">\n",
       "      <th></th>\n",
       "      <th>orderId</th>\n",
       "      <th>userId</th>\n",
       "      <th>date</th>\n",
       "      <th>revenue</th>\n",
       "      <th>group</th>\n",
       "    </tr>\n",
       "  </thead>\n",
       "  <tbody>\n",
       "  </tbody>\n",
       "</table>\n",
       "</div>"
      ],
      "text/plain": [
       "Empty DataFrame\n",
       "Columns: [orderId, userId, date, revenue, group]\n",
       "Index: []"
      ]
     },
     "execution_count": 14,
     "metadata": {},
     "output_type": "execute_result"
    }
   ],
   "source": [
    "orders[orders.duplicated()]"
   ]
  },
  {
   "cell_type": "code",
   "execution_count": 15,
   "metadata": {},
   "outputs": [
    {
     "data": {
      "text/html": [
       "<div>\n",
       "<style scoped>\n",
       "    .dataframe tbody tr th:only-of-type {\n",
       "        vertical-align: middle;\n",
       "    }\n",
       "\n",
       "    .dataframe tbody tr th {\n",
       "        vertical-align: top;\n",
       "    }\n",
       "\n",
       "    .dataframe thead th {\n",
       "        text-align: right;\n",
       "    }\n",
       "</style>\n",
       "<table border=\"1\" class=\"dataframe\">\n",
       "  <thead>\n",
       "    <tr style=\"text-align: right;\">\n",
       "      <th></th>\n",
       "      <th>date</th>\n",
       "      <th>group</th>\n",
       "      <th>visitors</th>\n",
       "    </tr>\n",
       "  </thead>\n",
       "  <tbody>\n",
       "    <tr>\n",
       "      <th>0</th>\n",
       "      <td>2019-08-01</td>\n",
       "      <td>A</td>\n",
       "      <td>719</td>\n",
       "    </tr>\n",
       "    <tr>\n",
       "      <th>1</th>\n",
       "      <td>2019-08-02</td>\n",
       "      <td>A</td>\n",
       "      <td>619</td>\n",
       "    </tr>\n",
       "    <tr>\n",
       "      <th>2</th>\n",
       "      <td>2019-08-03</td>\n",
       "      <td>A</td>\n",
       "      <td>507</td>\n",
       "    </tr>\n",
       "    <tr>\n",
       "      <th>3</th>\n",
       "      <td>2019-08-04</td>\n",
       "      <td>A</td>\n",
       "      <td>717</td>\n",
       "    </tr>\n",
       "    <tr>\n",
       "      <th>4</th>\n",
       "      <td>2019-08-05</td>\n",
       "      <td>A</td>\n",
       "      <td>756</td>\n",
       "    </tr>\n",
       "    <tr>\n",
       "      <th>5</th>\n",
       "      <td>2019-08-06</td>\n",
       "      <td>A</td>\n",
       "      <td>667</td>\n",
       "    </tr>\n",
       "    <tr>\n",
       "      <th>6</th>\n",
       "      <td>2019-08-07</td>\n",
       "      <td>A</td>\n",
       "      <td>644</td>\n",
       "    </tr>\n",
       "    <tr>\n",
       "      <th>7</th>\n",
       "      <td>2019-08-08</td>\n",
       "      <td>A</td>\n",
       "      <td>610</td>\n",
       "    </tr>\n",
       "    <tr>\n",
       "      <th>8</th>\n",
       "      <td>2019-08-09</td>\n",
       "      <td>A</td>\n",
       "      <td>617</td>\n",
       "    </tr>\n",
       "    <tr>\n",
       "      <th>9</th>\n",
       "      <td>2019-08-10</td>\n",
       "      <td>A</td>\n",
       "      <td>406</td>\n",
       "    </tr>\n",
       "  </tbody>\n",
       "</table>\n",
       "</div>"
      ],
      "text/plain": [
       "         date group  visitors\n",
       "0  2019-08-01     A       719\n",
       "1  2019-08-02     A       619\n",
       "2  2019-08-03     A       507\n",
       "3  2019-08-04     A       717\n",
       "4  2019-08-05     A       756\n",
       "5  2019-08-06     A       667\n",
       "6  2019-08-07     A       644\n",
       "7  2019-08-08     A       610\n",
       "8  2019-08-09     A       617\n",
       "9  2019-08-10     A       406"
      ]
     },
     "metadata": {},
     "output_type": "display_data"
    }
   ],
   "source": [
    "display(visitors.head(10))"
   ]
  },
  {
   "cell_type": "code",
   "execution_count": 16,
   "metadata": {},
   "outputs": [
    {
     "name": "stdout",
     "output_type": "stream",
     "text": [
      "<class 'pandas.core.frame.DataFrame'>\n",
      "RangeIndex: 62 entries, 0 to 61\n",
      "Data columns (total 3 columns):\n",
      " #   Column    Non-Null Count  Dtype \n",
      "---  ------    --------------  ----- \n",
      " 0   date      62 non-null     object\n",
      " 1   group     62 non-null     object\n",
      " 2   visitors  62 non-null     int64 \n",
      "dtypes: int64(1), object(2)\n",
      "memory usage: 1.6+ KB\n"
     ]
    }
   ],
   "source": [
    "visitors.info()"
   ]
  },
  {
   "cell_type": "markdown",
   "metadata": {},
   "source": [
    "Изменим формат даты"
   ]
  },
  {
   "cell_type": "code",
   "execution_count": 17,
   "metadata": {},
   "outputs": [],
   "source": [
    "visitors['date'] = visitors['date'].map(lambda x: dt.datetime.strptime(x, '%Y-%m-%d'))"
   ]
  },
  {
   "cell_type": "markdown",
   "metadata": {},
   "source": [
    "Проверим данные на дубликаты"
   ]
  },
  {
   "cell_type": "code",
   "execution_count": 18,
   "metadata": {},
   "outputs": [
    {
     "data": {
      "text/html": [
       "<div>\n",
       "<style scoped>\n",
       "    .dataframe tbody tr th:only-of-type {\n",
       "        vertical-align: middle;\n",
       "    }\n",
       "\n",
       "    .dataframe tbody tr th {\n",
       "        vertical-align: top;\n",
       "    }\n",
       "\n",
       "    .dataframe thead th {\n",
       "        text-align: right;\n",
       "    }\n",
       "</style>\n",
       "<table border=\"1\" class=\"dataframe\">\n",
       "  <thead>\n",
       "    <tr style=\"text-align: right;\">\n",
       "      <th></th>\n",
       "      <th>date</th>\n",
       "      <th>group</th>\n",
       "      <th>visitors</th>\n",
       "    </tr>\n",
       "  </thead>\n",
       "  <tbody>\n",
       "  </tbody>\n",
       "</table>\n",
       "</div>"
      ],
      "text/plain": [
       "Empty DataFrame\n",
       "Columns: [date, group, visitors]\n",
       "Index: []"
      ]
     },
     "execution_count": 18,
     "metadata": {},
     "output_type": "execute_result"
    }
   ],
   "source": [
    "visitors[visitors.duplicated()]"
   ]
  },
  {
   "cell_type": "markdown",
   "metadata": {},
   "source": [
    "Данные готовы для дальнейшего анализа"
   ]
  },
  {
   "cell_type": "markdown",
   "metadata": {},
   "source": [
    "1. График кумулятивной выручки по группам."
   ]
  },
  {
   "cell_type": "markdown",
   "metadata": {},
   "source": [
    "Чтобы построить графики, нужно собрать кумулятивные данные."
   ]
  },
  {
   "cell_type": "code",
   "execution_count": 19,
   "metadata": {},
   "outputs": [],
   "source": [
    "# создаем массив уникальных пар значений дат и групп теста\n",
    "datesGroups = orders[['date','group']].drop_duplicates() "
   ]
  },
  {
   "cell_type": "markdown",
   "metadata": {},
   "source": [
    "Соберём агрегированные кумулятивные по дням данные о заказах"
   ]
  },
  {
   "cell_type": "code",
   "execution_count": 20,
   "metadata": {},
   "outputs": [],
   "source": [
    "ordersAggregated = datesGroups.apply(lambda x: orders[np.logical_and(orders['date'] <= x['date'], orders['group'] == x['group'])]\\\n",
    ".agg({'date' : 'max', 'group' : 'max', 'orderId' : 'nunique', 'userId' : 'nunique', 'revenue' : 'sum'}), axis=1).sort_values(by=['date','group'])"
   ]
  },
  {
   "cell_type": "code",
   "execution_count": 21,
   "metadata": {},
   "outputs": [],
   "source": [
    "visitorsAggregated = datesGroups.apply(lambda x: visitors[np.logical_and(visitors['date'] <= x['date'], visitors['group'] == x['group'])].agg({'date' : 'max', 'group' : 'max', 'visitors' : 'sum'}), axis=1).sort_values(by=['date','group'])"
   ]
  },
  {
   "cell_type": "code",
   "execution_count": 22,
   "metadata": {},
   "outputs": [
    {
     "name": "stdout",
     "output_type": "stream",
     "text": [
      "        date group  orders  buyers  revenue  visitors\n",
      "0 2019-08-01     A      24      20   148579       719\n",
      "1 2019-08-01     B      21      20   101217       713\n",
      "2 2019-08-02     A      44      38   242401      1338\n",
      "3 2019-08-02     B      45      43   266748      1294\n",
      "4 2019-08-03     A      68      62   354874      1845\n"
     ]
    }
   ],
   "source": [
    "# создаем массив уникальных пар значений дат и групп теста\n",
    "datesGroups = orders[['date','group']].drop_duplicates()\n",
    "\n",
    "# получаем агрегированные кумулятивные по дням данные о заказах \n",
    "ordersAggregated = datesGroups.apply(lambda x: orders[np.logical_and(orders['date'] <= x['date'], orders['group'] == x['group'])].agg({'date' : 'max', 'group' : 'max', 'orderId' : 'nunique', 'userId' : 'nunique', 'revenue' : 'sum'}), axis=1).sort_values(by=['date','group'])\n",
    "\n",
    "# получаем агрегированные кумулятивные по дням данные о посетителях интернет-магазина \n",
    "visitorsAggregated = datesGroups.apply(lambda x: visitors[np.logical_and(visitors['date'] <= x['date'], visitors['group'] == x['group'])].agg({'date' : 'max', 'group' : 'max', 'visitors' : 'sum'}), axis=1).sort_values(by=['date','group'])\n",
    "\n",
    "# объединяем кумулятивные данные в одной таблице и присваиваем ее столбцам понятные названия\n",
    "cumulativeData = ordersAggregated.merge(visitorsAggregated, left_on=['date', 'group'], right_on=['date', 'group'])\n",
    "cumulativeData.columns = ['date', 'group', 'orders', 'buyers', 'revenue', 'visitors']\n",
    "\n",
    "print(cumulativeData.head(5))"
   ]
  },
  {
   "cell_type": "markdown",
   "metadata": {},
   "source": [
    "Построим графики кумулятивной выручки по дням и группам A/B-тестирования"
   ]
  },
  {
   "cell_type": "code",
   "execution_count": 59,
   "metadata": {},
   "outputs": [
    {
     "data": {
      "image/png": "[encoded data removed]",
      "text/plain": [
       "<Figure size 432x288 with 1 Axes>"
      ]
     },
     "metadata": {
      "needs_background": "light"
     },
     "output_type": "display_data"
    },
    {
     "data": {
      "text/plain": [
       "<Figure size 7200x7200 with 0 Axes>"
      ]
     },
     "metadata": {},
     "output_type": "display_data"
    }
   ],
   "source": [
    "#датафрейм с кумулятивным количеством заказов и кумулятивной выручкой по дням в группе А\n",
    "cumulativeRevenueA = cumulativeData[cumulativeData['group']=='A'][['date','revenue', 'orders']]\n",
    "\n",
    "# датафрейм с кумулятивным количеством заказов и кумулятивной выручкой по дням в группе B\n",
    "cumulativeRevenueB = cumulativeData[cumulativeData['group']=='B'][['date','revenue', 'orders']]\n",
    "\n",
    "# Строим график выручки группы А\n",
    "plt.plot(cumulativeRevenueA['date'], cumulativeRevenueA['revenue'], label='A')\n",
    "\n",
    "# Строим график выручки группы B\n",
    "plt.plot(cumulativeRevenueB['date'], cumulativeRevenueB['revenue'], label='B')\n",
    "plt.xticks(rotation=45)\n",
    "plt.legend() \n",
    "plt.title('Кумулятивная выручка по группам')\n",
    "plt.xlabel('Дата')\n",
    "plt.ylabel('Выручка')\n",
    "plt.figure(figsize=(100, 100))\n",
    "\n",
    "plt.show()"
   ]
  },
  {
   "cell_type": "markdown",
   "metadata": {},
   "source": [
    "Вывод.\n",
    "Выручка практически равномерно увеличивается в течение всего теста. С самого начала группа B лидировала. В середине месяца видим довольно резкий скачок сегмента B. Это может говорить  о наличии всплеска числа заказов, либо о появлении очень дорогих заказов в выборке."
   ]
  },
  {
   "cell_type": "markdown",
   "metadata": {},
   "source": [
    "2. График кумулятивного среднего чека по группам."
   ]
  },
  {
   "cell_type": "markdown",
   "metadata": {},
   "source": [
    "Построим график среднего чека по группам — разделим кумулятивную выручку на кумулятивное число заказов"
   ]
  },
  {
   "cell_type": "code",
   "execution_count": 24,
   "metadata": {},
   "outputs": [
    {
     "data": {
      "image/png": "[encoded data removed]",
      "text/plain": [
       "<Figure size 432x288 with 1 Axes>"
      ]
     },
     "metadata": {
      "needs_background": "light"
     },
     "output_type": "display_data"
    }
   ],
   "source": [
    "plt.plot(cumulativeRevenueA['date'], cumulativeRevenueA['revenue']/cumulativeRevenueA['orders'], label='A')\n",
    "plt.plot(cumulativeRevenueB['date'], cumulativeRevenueB['revenue']/cumulativeRevenueB['orders'], label='B')\n",
    "plt.xticks(rotation=45)\n",
    "plt.title('Кумулятивный средний чек по группам')\n",
    "plt.xlabel('Дата')\n",
    "plt.ylabel('Средний чек')\n",
    "plt.legend() \n",
    "plt.show()"
   ]
  },
  {
   "cell_type": "markdown",
   "metadata": {},
   "source": [
    "Вывод. \n",
    "Кумулятивное значение среднего чека довольно нестабильно. Хотя к концу теста можно наболюдать движение к стабилизации результатов. В августе в группе В наблюдаем резкий скачек, что может нам говорить о появлении аномально крупных заказов. Для принятия решения требуется дополнительный анализ выбросов."
   ]
  },
  {
   "cell_type": "markdown",
   "metadata": {},
   "source": [
    "3. График относительного изменения кумулятивного среднего чека группы B к группе A."
   ]
  },
  {
   "cell_type": "code",
   "execution_count": 25,
   "metadata": {},
   "outputs": [
    {
     "data": {
      "image/png": "[encoded data removed]",
      "text/plain": [
       "<Figure size 432x288 with 1 Axes>"
      ]
     },
     "metadata": {
      "needs_background": "light"
     },
     "output_type": "display_data"
    }
   ],
   "source": [
    "# собираем данные в одном датафрейме\n",
    "mergedCumulativeRevenue = cumulativeRevenueA.merge(cumulativeRevenueB, left_on='date', right_on='date', how='left', suffixes=['A', 'B'])\n",
    "plt.xticks(rotation=45)\n",
    "plt.title('Относительное изменение кумулятивного среднего чека группы B к группе A')\n",
    "plt.xlabel('Дата')\n",
    "plt.ylabel('Отношение средних чеков')\n",
    "\n",
    "# cтроим отношение средних чеков\n",
    "plt.plot(mergedCumulativeRevenue['date'], (mergedCumulativeRevenue['revenueB']/mergedCumulativeRevenue['ordersB'])/(mergedCumulativeRevenue['revenueA']/mergedCumulativeRevenue['ordersA'])-1)\n",
    "\n",
    "# добавляем ось X\n",
    "plt.axhline(y=0, color='black', linestyle='--')\n",
    "plt.show()"
   ]
  },
  {
   "cell_type": "markdown",
   "metadata": {},
   "source": [
    "В некоторые даты видим, что различия между сегментами резко «скачет». Где-то уж точно спрятались крупные заказы и выбросы."
   ]
  },
  {
   "cell_type": "markdown",
   "metadata": {},
   "source": [
    "4. График кумулятивной конверсии по группам."
   ]
  },
  {
   "cell_type": "code",
   "execution_count": 26,
   "metadata": {},
   "outputs": [
    {
     "data": {
      "image/png": "[encoded data removed]",
      "text/plain": [
       "<Figure size 432x288 with 1 Axes>"
      ]
     },
     "metadata": {
      "needs_background": "light"
     },
     "output_type": "display_data"
    }
   ],
   "source": [
    "# считаем кумулятивную конверсию\n",
    "cumulativeData['conversion'] = cumulativeData['orders']/cumulativeData['visitors']\n",
    "\n",
    "# отделяем данные по группе A\n",
    "cumulativeDataA = cumulativeData[cumulativeData['group']=='A']\n",
    "\n",
    "# отделяем данные по группе B\n",
    "cumulativeDataB = cumulativeData[cumulativeData['group']=='B']\n",
    "\n",
    "# строим графики\n",
    "plt.plot(cumulativeDataA['date'], cumulativeDataA['conversion'], label='A')\n",
    "plt.plot(cumulativeDataB['date'], cumulativeDataB['conversion'], label='B')\n",
    "plt.legend()\n",
    "plt.xticks(rotation=45)\n",
    "plt.title(\"Кумулятивная конверсия по группам\")\n",
    "plt.xlabel('Дата')\n",
    "plt.ylabel('Конверсия')\n",
    "\n",
    "# задаем масштаб осей\n",
    "plt.axis([pd.to_datetime('2019-08-01'), pd.to_datetime('2019-08-31'), 0.025, 0.04])\n",
    "\n",
    "plt.show()"
   ]
  },
  {
   "cell_type": "markdown",
   "metadata": {},
   "source": [
    "Вывод. В начале теста видим резкий рост конверсии в группе А, затем произошел спад и показатель стабилизировалмя на отметке 0,03. Коверсия группы В в начале теста была на отметке 0,03, затем стабилизировалась с показателем 0,034"
   ]
  },
  {
   "cell_type": "markdown",
   "metadata": {},
   "source": [
    "5. График относительного изменения кумулятивной конверсии группы B к группе A."
   ]
  },
  {
   "cell_type": "code",
   "execution_count": 27,
   "metadata": {
    "scrolled": false
   },
   "outputs": [
    {
     "data": {
      "image/png": "[encoded data removed]",
      "text/plain": [
       "<Figure size 576x432 with 1 Axes>"
      ]
     },
     "metadata": {
      "needs_background": "light"
     },
     "output_type": "display_data"
    }
   ],
   "source": [
    "mergedCumulativeConversions = cumulativeDataA[['date','conversion']].merge(cumulativeDataB[['date','conversion']], left_on='date', right_on='date', how='left', suffixes=['A', 'B'])\n",
    "plt.figure(figsize=(8,6))\n",
    "plt.plot(mergedCumulativeConversions['date'], mergedCumulativeConversions['conversionB']/mergedCumulativeConversions['conversionA']-1, label=\"Относительный прирост конверсии группы B относительно группы A\")\n",
    "plt.legend()\n",
    "plt.xlabel('Дата')\n",
    "plt.ylabel('Значение прироста')\n",
    "plt.xticks(rotation=45)\n",
    "plt.axhline(y=0, color='black', linestyle='--')\n",
    "plt.axhline(y=0.2, color='grey', linestyle='--')\n",
    "\n",
    "plt.axis([pd.to_datetime('2019-08-01'), pd.to_datetime('2019-08-31'), -0.2, 0.3])\n",
    "\n",
    "plt.show()"
   ]
  },
  {
   "cell_type": "markdown",
   "metadata": {},
   "source": [
    "Вывод. В начале теста группа B проигрывала группе A, затем вырвалась резко вперёд, а потом упала вновь. Затем она начала расти вплоть до середины месяца, после чего стала немного снижатся, но все равно выше по сравнению с группой А. В целом отношение конверсии ещё не установилось, и сейчас делать какие-либо выводы по тесту рано. Впрочем, сперва стоит проанализировать аномалии, возможно, они изменят картину."
   ]
  },
  {
   "cell_type": "markdown",
   "metadata": {},
   "source": [
    "6. График количества заказов по пользователям."
   ]
  },
  {
   "cell_type": "code",
   "execution_count": 28,
   "metadata": {},
   "outputs": [
    {
     "data": {
      "text/html": [
       "<div>\n",
       "<style scoped>\n",
       "    .dataframe tbody tr th:only-of-type {\n",
       "        vertical-align: middle;\n",
       "    }\n",
       "\n",
       "    .dataframe tbody tr th {\n",
       "        vertical-align: top;\n",
       "    }\n",
       "\n",
       "    .dataframe thead th {\n",
       "        text-align: right;\n",
       "    }\n",
       "</style>\n",
       "<table border=\"1\" class=\"dataframe\">\n",
       "  <thead>\n",
       "    <tr style=\"text-align: right;\">\n",
       "      <th></th>\n",
       "      <th>userId</th>\n",
       "      <th>orders</th>\n",
       "    </tr>\n",
       "  </thead>\n",
       "  <tbody>\n",
       "    <tr>\n",
       "      <th>1023</th>\n",
       "      <td>4256040402</td>\n",
       "      <td>11</td>\n",
       "    </tr>\n",
       "    <tr>\n",
       "      <th>591</th>\n",
       "      <td>2458001652</td>\n",
       "      <td>11</td>\n",
       "    </tr>\n",
       "    <tr>\n",
       "      <th>569</th>\n",
       "      <td>2378935119</td>\n",
       "      <td>9</td>\n",
       "    </tr>\n",
       "    <tr>\n",
       "      <th>487</th>\n",
       "      <td>2038680547</td>\n",
       "      <td>8</td>\n",
       "    </tr>\n",
       "    <tr>\n",
       "      <th>44</th>\n",
       "      <td>199603092</td>\n",
       "      <td>5</td>\n",
       "    </tr>\n",
       "    <tr>\n",
       "      <th>744</th>\n",
       "      <td>3062433592</td>\n",
       "      <td>5</td>\n",
       "    </tr>\n",
       "    <tr>\n",
       "      <th>55</th>\n",
       "      <td>237748145</td>\n",
       "      <td>5</td>\n",
       "    </tr>\n",
       "    <tr>\n",
       "      <th>917</th>\n",
       "      <td>3803269165</td>\n",
       "      <td>5</td>\n",
       "    </tr>\n",
       "    <tr>\n",
       "      <th>299</th>\n",
       "      <td>1230306981</td>\n",
       "      <td>5</td>\n",
       "    </tr>\n",
       "    <tr>\n",
       "      <th>897</th>\n",
       "      <td>3717692402</td>\n",
       "      <td>5</td>\n",
       "    </tr>\n",
       "  </tbody>\n",
       "</table>\n",
       "</div>"
      ],
      "text/plain": [
       "          userId  orders\n",
       "1023  4256040402      11\n",
       "591   2458001652      11\n",
       "569   2378935119       9\n",
       "487   2038680547       8\n",
       "44     199603092       5\n",
       "744   3062433592       5\n",
       "55     237748145       5\n",
       "917   3803269165       5\n",
       "299   1230306981       5\n",
       "897   3717692402       5"
      ]
     },
     "execution_count": 28,
     "metadata": {},
     "output_type": "execute_result"
    }
   ],
   "source": [
    "ordersByUsers = (\n",
    "    orders.groupby('userId', as_index=False)\n",
    "    .agg({'orderId': pd.Series.nunique})\n",
    ")\n",
    "\n",
    "ordersByUsers.columns = ['userId', 'orders']\n",
    "\n",
    "ordersByUsers.sort_values(by='orders', ascending=False).head(10)"
   ]
  },
  {
   "cell_type": "markdown",
   "metadata": {},
   "source": [
    "Видим, что есть пользователи, которые совершали 8, 9, 11 заказов. Значительно больше, чем обычный пользователь за месяц."
   ]
  },
  {
   "cell_type": "markdown",
   "metadata": {},
   "source": [
    "Построим гистрограмму распределения количества заказов на одного пользователя."
   ]
  },
  {
   "cell_type": "code",
   "execution_count": 29,
   "metadata": {},
   "outputs": [
    {
     "data": {
      "image/png": "[encoded data removed]",
      "text/plain": [
       "<Figure size 432x288 with 1 Axes>"
      ]
     },
     "metadata": {
      "needs_background": "light"
     },
     "output_type": "display_data"
    }
   ],
   "source": [
    "plt.hist(ordersByUsers['orders']) \n",
    "plt.title('Распределение числа заказов по пользователям')\n",
    "plt.ylabel('Число пользователей')\n",
    "plt.xlabel('Число заказов')\n",
    "plt.show()"
   ]
  },
  {
   "cell_type": "markdown",
   "metadata": {},
   "source": [
    "Большинство покупателей заказывали только один раз."
   ]
  },
  {
   "cell_type": "markdown",
   "metadata": {},
   "source": [
    "Построим точечную диаграмму числа заказов на одного пользователя."
   ]
  },
  {
   "cell_type": "code",
   "execution_count": 30,
   "metadata": {},
   "outputs": [
    {
     "data": {
      "image/png": "[encoded data removed]",
      "text/plain": [
       "<Figure size 432x288 with 1 Axes>"
      ]
     },
     "metadata": {
      "needs_background": "light"
     },
     "output_type": "display_data"
    }
   ],
   "source": [
    "x_values = pd.Series(range(0,len(ordersByUsers)))\n",
    "\n",
    "plt.scatter(x_values, ordersByUsers['orders']) \n",
    "plt.title('Распределение числа заказов по пользователям')\n",
    "plt.xlabel('Число пользователей')\n",
    "plt.ylabel('Число заказов')\n",
    "plt.show()"
   ]
  },
  {
   "cell_type": "markdown",
   "metadata": {},
   "source": [
    "Из графика видим, что так же присутсвует большое количество пользователей сделавших два заказа за иследуемый период. Их точная доля не ясна — непонятно, считать их аномалиями или нет."
   ]
  },
  {
   "cell_type": "markdown",
   "metadata": {},
   "source": [
    "7. Расчет 95-го и 99-го перцентиля количества заказов на пользователя."
   ]
  },
  {
   "cell_type": "code",
   "execution_count": 31,
   "metadata": {},
   "outputs": [
    {
     "name": "stdout",
     "output_type": "stream",
     "text": [
      "[2. 4.]\n"
     ]
    }
   ],
   "source": [
    "print(np.percentile(ordersByUsers['orders'], [95, 99])) "
   ]
  },
  {
   "cell_type": "markdown",
   "metadata": {},
   "source": [
    "Не более 5% пользователей совершали больше двух заказов. И не более 1% пользователей - больше четырех заказов. Изходя из данных можно выбрать 2 или 3 заказов на одного пользователя за нижнюю границу числа заказов, и отсеять аномальных пользователей по ней."
   ]
  },
  {
   "cell_type": "markdown",
   "metadata": {},
   "source": [
    "8. График стоимостей заказов"
   ]
  },
  {
   "cell_type": "code",
   "execution_count": 32,
   "metadata": {},
   "outputs": [
    {
     "data": {
      "text/html": [
       "<div>\n",
       "<style scoped>\n",
       "    .dataframe tbody tr th:only-of-type {\n",
       "        vertical-align: middle;\n",
       "    }\n",
       "\n",
       "    .dataframe tbody tr th {\n",
       "        vertical-align: top;\n",
       "    }\n",
       "\n",
       "    .dataframe thead th {\n",
       "        text-align: right;\n",
       "    }\n",
       "</style>\n",
       "<table border=\"1\" class=\"dataframe\">\n",
       "  <thead>\n",
       "    <tr style=\"text-align: right;\">\n",
       "      <th></th>\n",
       "      <th>orderId</th>\n",
       "      <th>userId</th>\n",
       "      <th>date</th>\n",
       "      <th>revenue</th>\n",
       "      <th>group</th>\n",
       "    </tr>\n",
       "  </thead>\n",
       "  <tbody>\n",
       "    <tr>\n",
       "      <th>425</th>\n",
       "      <td>590470918</td>\n",
       "      <td>1920142716</td>\n",
       "      <td>2019-08-19</td>\n",
       "      <td>1294500</td>\n",
       "      <td>B</td>\n",
       "    </tr>\n",
       "    <tr>\n",
       "      <th>1196</th>\n",
       "      <td>3936777065</td>\n",
       "      <td>2108080724</td>\n",
       "      <td>2019-08-15</td>\n",
       "      <td>202740</td>\n",
       "      <td>B</td>\n",
       "    </tr>\n",
       "    <tr>\n",
       "      <th>858</th>\n",
       "      <td>192721366</td>\n",
       "      <td>1316129916</td>\n",
       "      <td>2019-08-27</td>\n",
       "      <td>93940</td>\n",
       "      <td>A</td>\n",
       "    </tr>\n",
       "    <tr>\n",
       "      <th>1136</th>\n",
       "      <td>666610489</td>\n",
       "      <td>1307669133</td>\n",
       "      <td>2019-08-13</td>\n",
       "      <td>92550</td>\n",
       "      <td>A</td>\n",
       "    </tr>\n",
       "    <tr>\n",
       "      <th>744</th>\n",
       "      <td>3668308183</td>\n",
       "      <td>888512513</td>\n",
       "      <td>2019-08-27</td>\n",
       "      <td>86620</td>\n",
       "      <td>B</td>\n",
       "    </tr>\n",
       "    <tr>\n",
       "      <th>682</th>\n",
       "      <td>1216533772</td>\n",
       "      <td>4266935830</td>\n",
       "      <td>2019-08-29</td>\n",
       "      <td>78990</td>\n",
       "      <td>B</td>\n",
       "    </tr>\n",
       "    <tr>\n",
       "      <th>662</th>\n",
       "      <td>1811671147</td>\n",
       "      <td>4266935830</td>\n",
       "      <td>2019-08-29</td>\n",
       "      <td>78990</td>\n",
       "      <td>A</td>\n",
       "    </tr>\n",
       "    <tr>\n",
       "      <th>743</th>\n",
       "      <td>3603576309</td>\n",
       "      <td>4133034833</td>\n",
       "      <td>2019-08-09</td>\n",
       "      <td>67990</td>\n",
       "      <td>A</td>\n",
       "    </tr>\n",
       "    <tr>\n",
       "      <th>1103</th>\n",
       "      <td>1348774318</td>\n",
       "      <td>1164614297</td>\n",
       "      <td>2019-08-12</td>\n",
       "      <td>66350</td>\n",
       "      <td>A</td>\n",
       "    </tr>\n",
       "    <tr>\n",
       "      <th>1099</th>\n",
       "      <td>316924019</td>\n",
       "      <td>148427295</td>\n",
       "      <td>2019-08-12</td>\n",
       "      <td>65710</td>\n",
       "      <td>A</td>\n",
       "    </tr>\n",
       "  </tbody>\n",
       "</table>\n",
       "</div>"
      ],
      "text/plain": [
       "         orderId      userId       date  revenue group\n",
       "425    590470918  1920142716 2019-08-19  1294500     B\n",
       "1196  3936777065  2108080724 2019-08-15   202740     B\n",
       "858    192721366  1316129916 2019-08-27    93940     A\n",
       "1136   666610489  1307669133 2019-08-13    92550     A\n",
       "744   3668308183   888512513 2019-08-27    86620     B\n",
       "682   1216533772  4266935830 2019-08-29    78990     B\n",
       "662   1811671147  4266935830 2019-08-29    78990     A\n",
       "743   3603576309  4133034833 2019-08-09    67990     A\n",
       "1103  1348774318  1164614297 2019-08-12    66350     A\n",
       "1099   316924019   148427295 2019-08-12    65710     A"
      ]
     },
     "metadata": {},
     "output_type": "display_data"
    }
   ],
   "source": [
    "display(orders.sort_values(by='revenue', ascending=False).head(10))"
   ]
  },
  {
   "cell_type": "code",
   "execution_count": 33,
   "metadata": {},
   "outputs": [
    {
     "data": {
      "image/png": "[encoded data removed]",
      "text/plain": [
       "<Figure size 432x288 with 1 Axes>"
      ]
     },
     "metadata": {
      "needs_background": "light"
     },
     "output_type": "display_data"
    }
   ],
   "source": [
    "plt.hist(orders['revenue'])\n",
    "plt.title('Распределение стоимости заказов')\n",
    "plt.ylabel('Число пользователей')\n",
    "plt.xlabel('Стоимость заказов')\n",
    "plt.show()"
   ]
  },
  {
   "cell_type": "code",
   "execution_count": 34,
   "metadata": {},
   "outputs": [
    {
     "data": {
      "image/png": "[encoded data removed]",
      "text/plain": [
       "<Figure size 432x288 with 1 Axes>"
      ]
     },
     "metadata": {
      "needs_background": "light"
     },
     "output_type": "display_data"
    }
   ],
   "source": [
    "x_values = pd.Series(range(0, len(orders['revenue'])))\n",
    "plt.scatter(x_values, orders['revenue'])\n",
    "plt.title('Распределение стоимости заказов')\n",
    "plt.xlabel('Число пользователей')\n",
    "plt.ylabel('Стоимость заказов')\n",
    "plt.axis([0, 1200, 0, 130000])\n",
    "\n",
    "plt.show()"
   ]
  },
  {
   "cell_type": "markdown",
   "metadata": {},
   "source": [
    "Основная часть заказов не превышает 20000. Заказы дороже можно считать за аномалии."
   ]
  },
  {
   "cell_type": "markdown",
   "metadata": {},
   "source": [
    "9. Расчет 95-го и 99-го перцентиля стоимости заказов."
   ]
  },
  {
   "cell_type": "code",
   "execution_count": 35,
   "metadata": {},
   "outputs": [
    {
     "name": "stdout",
     "output_type": "stream",
     "text": [
      "[28000.  58233.2]\n"
     ]
    }
   ],
   "source": [
    "print(np.percentile(orders['revenue'], [95, 99]))"
   ]
  },
  {
   "cell_type": "markdown",
   "metadata": {},
   "source": [
    "Не более, чем у 5% заказов сумма выше 28000. И не более, чем у 1% заказов сумма выше 58233. 28000 можно обозначить как нижнюю границу для отсеивания аномальных значений в сумме заказов. "
   ]
  },
  {
   "cell_type": "markdown",
   "metadata": {},
   "source": [
    "10. Расчет статистической значимости различий в конверсии между группами по «сырым» данным. "
   ]
  },
  {
   "cell_type": "code",
   "execution_count": 36,
   "metadata": {},
   "outputs": [
    {
     "data": {
      "text/html": [
       "<div>\n",
       "<style scoped>\n",
       "    .dataframe tbody tr th:only-of-type {\n",
       "        vertical-align: middle;\n",
       "    }\n",
       "\n",
       "    .dataframe tbody tr th {\n",
       "        vertical-align: top;\n",
       "    }\n",
       "\n",
       "    .dataframe thead th {\n",
       "        text-align: right;\n",
       "    }\n",
       "</style>\n",
       "<table border=\"1\" class=\"dataframe\">\n",
       "  <thead>\n",
       "    <tr style=\"text-align: right;\">\n",
       "      <th></th>\n",
       "      <th>date</th>\n",
       "      <th>ordersPerDateA</th>\n",
       "      <th>revenuePerDateA</th>\n",
       "      <th>ordersPerDateB</th>\n",
       "      <th>revenuePerDateB</th>\n",
       "      <th>ordersCummulativeA</th>\n",
       "      <th>revenueCummulativeA</th>\n",
       "      <th>ordersCummulativeB</th>\n",
       "      <th>revenueCummulativeB</th>\n",
       "      <th>visitorsPerDateA</th>\n",
       "      <th>visitorsPerDateB</th>\n",
       "      <th>visitorsCummulativeA</th>\n",
       "      <th>visitorsCummulativeB</th>\n",
       "    </tr>\n",
       "  </thead>\n",
       "  <tbody>\n",
       "    <tr>\n",
       "      <th>0</th>\n",
       "      <td>2019-08-01</td>\n",
       "      <td>24</td>\n",
       "      <td>148579</td>\n",
       "      <td>21</td>\n",
       "      <td>101217</td>\n",
       "      <td>24</td>\n",
       "      <td>148579</td>\n",
       "      <td>21</td>\n",
       "      <td>101217</td>\n",
       "      <td>719</td>\n",
       "      <td>713</td>\n",
       "      <td>719</td>\n",
       "      <td>713</td>\n",
       "    </tr>\n",
       "    <tr>\n",
       "      <th>1</th>\n",
       "      <td>2019-08-02</td>\n",
       "      <td>20</td>\n",
       "      <td>93822</td>\n",
       "      <td>24</td>\n",
       "      <td>165531</td>\n",
       "      <td>44</td>\n",
       "      <td>242401</td>\n",
       "      <td>45</td>\n",
       "      <td>266748</td>\n",
       "      <td>619</td>\n",
       "      <td>581</td>\n",
       "      <td>1338</td>\n",
       "      <td>1294</td>\n",
       "    </tr>\n",
       "    <tr>\n",
       "      <th>2</th>\n",
       "      <td>2019-08-03</td>\n",
       "      <td>24</td>\n",
       "      <td>112473</td>\n",
       "      <td>16</td>\n",
       "      <td>114248</td>\n",
       "      <td>68</td>\n",
       "      <td>354874</td>\n",
       "      <td>61</td>\n",
       "      <td>380996</td>\n",
       "      <td>507</td>\n",
       "      <td>509</td>\n",
       "      <td>1845</td>\n",
       "      <td>1803</td>\n",
       "    </tr>\n",
       "    <tr>\n",
       "      <th>3</th>\n",
       "      <td>2019-08-04</td>\n",
       "      <td>16</td>\n",
       "      <td>70825</td>\n",
       "      <td>17</td>\n",
       "      <td>108571</td>\n",
       "      <td>84</td>\n",
       "      <td>425699</td>\n",
       "      <td>78</td>\n",
       "      <td>489567</td>\n",
       "      <td>717</td>\n",
       "      <td>770</td>\n",
       "      <td>2562</td>\n",
       "      <td>2573</td>\n",
       "    </tr>\n",
       "    <tr>\n",
       "      <th>4</th>\n",
       "      <td>2019-08-05</td>\n",
       "      <td>25</td>\n",
       "      <td>124218</td>\n",
       "      <td>23</td>\n",
       "      <td>92428</td>\n",
       "      <td>109</td>\n",
       "      <td>549917</td>\n",
       "      <td>101</td>\n",
       "      <td>581995</td>\n",
       "      <td>756</td>\n",
       "      <td>707</td>\n",
       "      <td>3318</td>\n",
       "      <td>3280</td>\n",
       "    </tr>\n",
       "  </tbody>\n",
       "</table>\n",
       "</div>"
      ],
      "text/plain": [
       "        date  ordersPerDateA  revenuePerDateA  ordersPerDateB  \\\n",
       "0 2019-08-01              24           148579              21   \n",
       "1 2019-08-02              20            93822              24   \n",
       "2 2019-08-03              24           112473              16   \n",
       "3 2019-08-04              16            70825              17   \n",
       "4 2019-08-05              25           124218              23   \n",
       "\n",
       "   revenuePerDateB  ordersCummulativeA  revenueCummulativeA  \\\n",
       "0           101217                  24               148579   \n",
       "1           165531                  44               242401   \n",
       "2           114248                  68               354874   \n",
       "3           108571                  84               425699   \n",
       "4            92428                 109               549917   \n",
       "\n",
       "   ordersCummulativeB  revenueCummulativeB  visitorsPerDateA  \\\n",
       "0                  21               101217               719   \n",
       "1                  45               266748               619   \n",
       "2                  61               380996               507   \n",
       "3                  78               489567               717   \n",
       "4                 101               581995               756   \n",
       "\n",
       "   visitorsPerDateB  visitorsCummulativeA  visitorsCummulativeB  \n",
       "0               713                   719                   713  \n",
       "1               581                  1338                  1294  \n",
       "2               509                  1845                  1803  \n",
       "3               770                  2562                  2573  \n",
       "4               707                  3318                  3280  "
      ]
     },
     "metadata": {},
     "output_type": "display_data"
    }
   ],
   "source": [
    "visitorsADaily = visitors[visitors['group'] == 'A'][['date', 'visitors']]\n",
    "visitorsADaily.columns = ['date', 'visitorsPerDateA']\n",
    "\n",
    "visitorsACummulative = visitorsADaily.apply(\n",
    "    lambda x: visitorsADaily[visitorsADaily['date'] <= x['date']].agg(\n",
    "        {'date': 'max', 'visitorsPerDateA': 'sum'}\n",
    "    ),\n",
    "    axis=1,\n",
    ")\n",
    "visitorsACummulative.columns = ['date', 'visitorsCummulativeA']\n",
    "\n",
    "visitorsBDaily = visitors[visitors['group'] == 'B'][['date', 'visitors']]\n",
    "visitorsBDaily.columns = ['date', 'visitorsPerDateB']\n",
    "\n",
    "visitorsBCummulative = visitorsBDaily.apply(\n",
    "    lambda x: visitorsBDaily[visitorsBDaily['date'] <= x['date']].agg(\n",
    "        {'date': 'max', 'visitorsPerDateB': 'sum'}\n",
    "    ),\n",
    "    axis=1,\n",
    ")\n",
    "visitorsBCummulative.columns = ['date', 'visitorsCummulativeB']\n",
    "\n",
    "ordersADaily = (\n",
    "    orders[orders['group'] == 'A'][['date', 'orderId', 'userId', 'revenue']]\n",
    "    .groupby('date', as_index=False)\n",
    "    .agg({'orderId': pd.Series.nunique, 'revenue': 'sum'})\n",
    ")\n",
    "ordersADaily.columns = ['date', 'ordersPerDateA', 'revenuePerDateA']\n",
    "\n",
    "ordersACummulative = ordersADaily.apply(\n",
    "    lambda x: ordersADaily[ordersADaily['date'] <= x['date']].agg(\n",
    "        {'date': 'max', 'ordersPerDateA': 'sum', 'revenuePerDateA': 'sum'}\n",
    "    ),\n",
    "    axis=1,\n",
    ").sort_values(by=['date'])\n",
    "ordersACummulative.columns = [\n",
    "    'date',\n",
    "    'ordersCummulativeA',\n",
    "    'revenueCummulativeA',\n",
    "]\n",
    "\n",
    "ordersBDaily = (\n",
    "    orders[orders['group'] == 'B'][['date', 'orderId', 'userId', 'revenue']]\n",
    "    .groupby('date', as_index=False)\n",
    "    .agg({'orderId': pd.Series.nunique, 'revenue': 'sum'})\n",
    ")\n",
    "ordersBDaily.columns = ['date', 'ordersPerDateB', 'revenuePerDateB']\n",
    "\n",
    "ordersBCummulative = ordersBDaily.apply(\n",
    "    lambda x: ordersBDaily[ordersBDaily['date'] <= x['date']].agg(\n",
    "        {'date': 'max', 'ordersPerDateB': 'sum', 'revenuePerDateB': 'sum'}\n",
    "    ),\n",
    "    axis=1,\n",
    ").sort_values(by=['date'])\n",
    "ordersBCummulative.columns = [\n",
    "    'date',\n",
    "    'ordersCummulativeB',\n",
    "    'revenueCummulativeB',\n",
    "]\n",
    "\n",
    "data = (\n",
    "    ordersADaily.merge(\n",
    "        ordersBDaily, left_on='date', right_on='date', how='left'\n",
    "    )\n",
    "    .merge(ordersACummulative, left_on='date', right_on='date', how='left')\n",
    "    .merge(ordersBCummulative, left_on='date', right_on='date', how='left')\n",
    "    .merge(visitorsADaily, left_on='date', right_on='date', how='left')\n",
    "    .merge(visitorsBDaily, left_on='date', right_on='date', how='left')\n",
    "    .merge(visitorsACummulative, left_on='date', right_on='date', how='left')\n",
    "    .merge(visitorsBCummulative, left_on='date', right_on='date', how='left')\n",
    ")\n",
    "display(data.head(5))"
   ]
  },
  {
   "cell_type": "code",
   "execution_count": 37,
   "metadata": {},
   "outputs": [],
   "source": [
    "ordersByUsersA = (\n",
    "    orders[orders['group'] == 'A']\n",
    "    .groupby('userId', as_index=False)\n",
    "    .agg({'orderId': pd.Series.nunique})\n",
    ")\n",
    "ordersByUsersA.columns = ['userId', 'orders']\n",
    "\n",
    "ordersByUsersB = (\n",
    "    orders[orders['group'] == 'B']\n",
    "    .groupby('userId', as_index=False)\n",
    "    .agg({'orderId': pd.Series.nunique})\n",
    ")\n",
    "ordersByUsersB.columns = ['userId', 'orders'] "
   ]
  },
  {
   "cell_type": "code",
   "execution_count": 38,
   "metadata": {},
   "outputs": [],
   "source": [
    "sampleA = pd.concat([ordersByUsersA['orders'],pd.Series(0, index=np.arange(data['visitorsPerDateA'].sum() - len(ordersByUsersA['orders'])), name='orders')],axis=0)\n",
    "\n",
    "sampleB = pd.concat([ordersByUsersB['orders'],pd.Series(0, index=np.arange(data['visitorsPerDateB'].sum() - len(ordersByUsersB['orders'])), name='orders')],axis=0) "
   ]
  },
  {
   "cell_type": "markdown",
   "metadata": {},
   "source": [
    "Сформулируем гипотизы:\n",
    "Н0 - различий в конверсии между группами нет.\n",
    "Н1 - различия в конверсии между группами есть.\n",
    "\n",
    "Пороговое значение alpha примем за 5%."
   ]
  },
  {
   "cell_type": "markdown",
   "metadata": {},
   "source": [
    "Применим статистический критерий Манна-Уитни"
   ]
  },
  {
   "cell_type": "code",
   "execution_count": 39,
   "metadata": {},
   "outputs": [
    {
     "name": "stdout",
     "output_type": "stream",
     "text": [
      "0.017\n",
      "0.138\n"
     ]
    }
   ],
   "source": [
    "ordersByUsersA = (\n",
    "    orders[orders['group'] == 'A']\n",
    "    .groupby('userId', as_index=False)\n",
    "    .agg({'orderId': pd.Series.nunique})\n",
    ")\n",
    "ordersByUsersA.columns = ['userId', 'orders']\n",
    "\n",
    "ordersByUsersB = (\n",
    "    orders[orders['group'] == 'B']\n",
    "    .groupby('userId', as_index=False)\n",
    "    .agg({'orderId': pd.Series.nunique})\n",
    ")\n",
    "ordersByUsersB.columns = ['userId', 'orders']\n",
    "\n",
    "sampleA = pd.concat(\n",
    "    [\n",
    "        ordersByUsersA['orders'],\n",
    "        pd.Series(\n",
    "            0,\n",
    "            index=np.arange(\n",
    "                data['visitorsPerDateA'].sum() - len(ordersByUsersA['orders'])\n",
    "            ),\n",
    "            name='orders',\n",
    "        ),\n",
    "    ],\n",
    "    axis=0,\n",
    ")\n",
    "\n",
    "sampleB = pd.concat(\n",
    "    [\n",
    "        ordersByUsersB['orders'],\n",
    "        pd.Series(\n",
    "            0,\n",
    "            index=np.arange(\n",
    "                data['visitorsPerDateB'].sum() - len(ordersByUsersB['orders'])\n",
    "            ),\n",
    "            name='orders',\n",
    "        ),\n",
    "    ],\n",
    "    axis=0,\n",
    ")\n",
    "\n",
    "print(\"{0:.3f}\".format(stats.mannwhitneyu(sampleA, sampleB)[1]))\n",
    "\n",
    "print(\"{0:.3f}\".format(sampleB.mean() / sampleA.mean() - 1))\n"
   ]
  },
  {
   "cell_type": "markdown",
   "metadata": {},
   "source": [
    "Из проведенного анализа данные можно сделать следующий вывод: P-value значительно меньше 0.05, поэтому нулевую гипотезу отвергаем. Анализ сырых данных показывает, что в конверсии между группами есть статистически значимые различия. Относительный прирост конверсии группы B к конверсии группы А равен 13%."
   ]
  },
  {
   "cell_type": "markdown",
   "metadata": {},
   "source": [
    "11. Расчет статистической значимости различий в среднем чеке заказа между группами по «сырым» данным."
   ]
  },
  {
   "cell_type": "markdown",
   "metadata": {},
   "source": [
    "Сформулируем гипотизы:\n",
    "Н0 - различий в среднем чеке между группами нет.\n",
    "Н1 - различия в среднем чеке между группами есть.\n",
    "\n",
    "Пороговое значение alpha примем за 5%.\n",
    "Применим статистический критерий Манна-Уитни"
   ]
  },
  {
   "cell_type": "code",
   "execution_count": 40,
   "metadata": {},
   "outputs": [
    {
     "name": "stdout",
     "output_type": "stream",
     "text": [
      "0.729\n",
      "0.259\n"
     ]
    }
   ],
   "source": [
    "print('{0:.3f}'.format(stats.mannwhitneyu(orders[orders['group']=='A']['revenue'], orders[orders['group']=='B']['revenue'])[1]))\n",
    "print('{0:.3f}'.format(orders[orders['group']=='B']['revenue'].mean()/orders[orders['group']=='A']['revenue'].mean()-1)) "
   ]
  },
  {
   "cell_type": "markdown",
   "metadata": {},
   "source": [
    "Вывод: По «сырым» данным различий в конверсии групп A и B нет.\n",
    "Первое число — p-value = 0.729 больше 0.05. Значит, нулевую гипотезу о том, что статистически значимых различий в конверсии между группами нет, не отвергаем. Однако относительный проигрыш группы B равен 25,9% "
   ]
  },
  {
   "cell_type": "markdown",
   "metadata": {},
   "source": [
    "12. Расчет статистической значимости различий в конверсии между группами по «очищенным» данным."
   ]
  },
  {
   "cell_type": "markdown",
   "metadata": {},
   "source": [
    "Из ранее проведенного анализа:\n",
    "95-й и 99-й перцентили средних чеков равны 28000 и 58233.2\n",
    "\n",
    "95-й и 99-й перцентили числа заказов на одного пользователя равны 2 и 4 заказам на пользователя.\n",
    "Примем за аномалии тех, тех кто совершал больше 3-х заказов и на сумму больше 30000.\n",
    "Так мы уберём 1% пользователей с наибольшим числом заказов и от 1% до 5% заказов с наибольшей стоимостью."
   ]
  },
  {
   "cell_type": "code",
   "execution_count": 41,
   "metadata": {},
   "outputs": [
    {
     "name": "stdout",
     "output_type": "stream",
     "text": [
      "1099    148427295\n",
      "18      199603092\n",
      "928     204675465\n",
      "23      237748145\n",
      "684     358944393\n",
      "Name: userId, dtype: int64\n",
      "57\n"
     ]
    }
   ],
   "source": [
    "usersWithManyOrders = pd.concat(\n",
    "    [\n",
    "        ordersByUsersA[ordersByUsersA['orders'] > 3]['userId'],\n",
    "        ordersByUsersB[ordersByUsersB['orders'] > 3]['userId'],\n",
    "    ],\n",
    "    axis=0,\n",
    ")\n",
    "usersWithExpensiveOrders = orders[orders['revenue'] > 30000]['userId']\n",
    "abnormalUsers = (\n",
    "    pd.concat([usersWithManyOrders, usersWithExpensiveOrders], axis=0)\n",
    "    .drop_duplicates()\n",
    "    .sort_values()\n",
    ")\n",
    "print(abnormalUsers.head(5))\n",
    "print(abnormalUsers.shape[0]) "
   ]
  },
  {
   "cell_type": "markdown",
   "metadata": {},
   "source": [
    "Всего 57 аномальных пользователей. Узнаем, как их действия повлияли на результаты теста. Посчитаем статистическую значимость различий в конверсии между группами теста по очищенным данным. "
   ]
  },
  {
   "cell_type": "markdown",
   "metadata": {},
   "source": [
    "Сформулируем гипотизы:\n",
    "Н0 - различий в среднем чеке между группами нет.\n",
    "Н1 - различия в среднем чеке между группами есть.\n",
    "\n",
    "Пороговое значение alpha примем за 5%.\n",
    "Применим статистический критерий Манна-Уитни"
   ]
  },
  {
   "cell_type": "code",
   "execution_count": 42,
   "metadata": {},
   "outputs": [],
   "source": [
    "sampleAFiltered = pd.concat(\n",
    "    [\n",
    "        ordersByUsersA[\n",
    "            np.logical_not(ordersByUsersA['userId'].isin(abnormalUsers))\n",
    "        ]['orders'],\n",
    "        pd.Series(\n",
    "            0,\n",
    "            index=np.arange(\n",
    "                data['visitorsPerDateA'].sum() - len(ordersByUsersA['orders'])\n",
    "            ),\n",
    "            name='orders',\n",
    "        ),\n",
    "    ],\n",
    "    axis=0,\n",
    ")\n",
    "\n",
    "sampleBFiltered = pd.concat(\n",
    "    [\n",
    "        ordersByUsersB[\n",
    "            np.logical_not(ordersByUsersB['userId'].isin(abnormalUsers))\n",
    "        ]['orders'],\n",
    "        pd.Series(\n",
    "            0,\n",
    "            index=np.arange(\n",
    "                data['visitorsPerDateB'].sum() - len(ordersByUsersB['orders'])\n",
    "            ),\n",
    "            name='orders',\n",
    "        ),\n",
    "    ],\n",
    "    axis=0,\n",
    ")"
   ]
  },
  {
   "cell_type": "code",
   "execution_count": 43,
   "metadata": {},
   "outputs": [
    {
     "name": "stdout",
     "output_type": "stream",
     "text": [
      "0.018\n",
      "0.148\n"
     ]
    }
   ],
   "source": [
    "print('{0:.3f}'.format(stats.mannwhitneyu(sampleAFiltered, sampleBFiltered)[1]))\n",
    "print('{0:.3f}'.format(sampleBFiltered.mean()/sampleAFiltered.mean()-1)) "
   ]
  },
  {
   "cell_type": "markdown",
   "metadata": {},
   "source": [
    "Результаты по конверсии практически не изменились. P-value значительно меньше 0.05, поэтому нулевую гипотезу отвергаем. Относительный прирост конверсии очищенной группы B к А увеличился на 1 процентный пункт"
   ]
  },
  {
   "cell_type": "markdown",
   "metadata": {},
   "source": [
    "13. Расчет статистической значимости различий в среднем чеке заказа между группами по «очищенным» данным."
   ]
  },
  {
   "cell_type": "markdown",
   "metadata": {},
   "source": [
    "Сформулируем гипотизы:\n",
    "Н0 - различий в среднем чеке между группами нет.\n",
    "Н1 - различия в среднем чеке между группами есть.\n",
    "\n",
    "Пороговое значение alpha примем за 5%.\n",
    "Применим статистический критерий Манна-Уитни"
   ]
  },
  {
   "cell_type": "code",
   "execution_count": 44,
   "metadata": {},
   "outputs": [
    {
     "name": "stdout",
     "output_type": "stream",
     "text": [
      "0.958\n",
      "-0.020\n"
     ]
    }
   ],
   "source": [
    "print(\n",
    "    '{0:.3f}'.format(\n",
    "        stats.mannwhitneyu(\n",
    "            orders[\n",
    "                np.logical_and(\n",
    "                    orders['group'] == 'A',\n",
    "                    np.logical_not(orders['userId'].isin(abnormalUsers)),\n",
    "                )\n",
    "            ]['revenue'],\n",
    "            orders[\n",
    "                np.logical_and(\n",
    "                    orders['group'] == 'B',\n",
    "                    np.logical_not(orders['userId'].isin(abnormalUsers)),\n",
    "                )\n",
    "            ]['revenue'],\n",
    "        )[1]\n",
    "    )\n",
    ")\n",
    "\n",
    "print(\n",
    "    \"{0:.3f}\".format(\n",
    "        orders[\n",
    "            np.logical_and(\n",
    "                orders['group'] == 'B',\n",
    "                np.logical_not(orders['userId'].isin(abnormalUsers)),\n",
    "            )\n",
    "        ]['revenue'].mean()\n",
    "        / orders[\n",
    "            np.logical_and(\n",
    "                orders['group'] == 'A',\n",
    "                np.logical_not(orders['userId'].isin(abnormalUsers)),\n",
    "            )\n",
    "        ]['revenue'].mean()\n",
    "        - 1\n",
    "    )\n",
    ")"
   ]
  },
  {
   "cell_type": "markdown",
   "metadata": {},
   "source": [
    "Статистической значимости различия между средними чеками не появилось. P-value увеличился до 0.958, а разница между сегментами стала -0.02."
   ]
  },
  {
   "cell_type": "markdown",
   "metadata": {},
   "source": [
    "14. Общие выводы по результатам теста"
   ]
  },
  {
   "cell_type": "markdown",
   "metadata": {},
   "source": [
    "Опираясь на полученные результаты и несмотря на то, что по среднему чеку статистической значимости не обнаружено, нужно остановить тест и зафиксировать победу группы В. Группа B статистически значимо лучше группы A по метрике конверсии, но различий в средних чеках нет. Так как задача стоит в эффективности гипотезы по увеличению выручки, нужно смотреть на конверсию. Выручка не всегда покажет положительную или отрицательную динамику, точнее сложно понять по выручке, без учета числа покупателей.\n",
    "\n",
    "Коверсия влияет на выручку, и поэтому раз конверсия в случае группы В значимо увеличилась, то и выручка увеличилась тоже. Даже с учетом того, что средний чек остался без изменений."
   ]
  }
 ],
 "metadata": {
  "ExecuteTimeLog": [
   {
    "duration": 1262,
    "start_time": "2022-06-05T21:46:04.874Z"
   },
   {
    "duration": 71,
    "start_time": "2022-06-05T21:46:30.679Z"
   },
   {
    "duration": 32,
    "start_time": "2022-06-05T21:48:37.443Z"
   },
   {
    "duration": 3,
    "start_time": "2022-06-05T21:52:56.169Z"
   },
   {
    "duration": 30,
    "start_time": "2022-06-05T21:57:41.669Z"
   },
   {
    "duration": 11,
    "start_time": "2022-06-05T21:58:06.113Z"
   },
   {
    "duration": 4,
    "start_time": "2022-06-05T21:58:23.745Z"
   },
   {
    "duration": 9,
    "start_time": "2022-06-05T21:58:24.546Z"
   },
   {
    "duration": 4,
    "start_time": "2022-06-05T22:03:07.548Z"
   },
   {
    "duration": 10,
    "start_time": "2022-06-05T22:03:23.215Z"
   },
   {
    "duration": 10,
    "start_time": "2022-06-05T22:19:26.288Z"
   },
   {
    "duration": 207,
    "start_time": "2022-06-05T22:27:32.320Z"
   },
   {
    "duration": 99,
    "start_time": "2022-06-05T22:28:28.311Z"
   },
   {
    "duration": 9,
    "start_time": "2022-06-05T22:30:17.274Z"
   },
   {
    "duration": 13,
    "start_time": "2022-06-05T22:31:32.821Z"
   },
   {
    "duration": 13,
    "start_time": "2022-06-05T22:32:32.472Z"
   },
   {
    "duration": 5,
    "start_time": "2022-06-05T22:33:18.873Z"
   },
   {
    "duration": 10,
    "start_time": "2022-06-05T22:33:33.208Z"
   },
   {
    "duration": 12,
    "start_time": "2022-06-05T22:34:10.456Z"
   },
   {
    "duration": 9,
    "start_time": "2022-06-05T22:36:16.272Z"
   },
   {
    "duration": 8,
    "start_time": "2022-06-05T22:37:00.497Z"
   },
   {
    "duration": 11,
    "start_time": "2022-06-05T22:37:36.512Z"
   },
   {
    "duration": 4,
    "start_time": "2022-06-05T22:38:37.273Z"
   },
   {
    "duration": 8,
    "start_time": "2022-06-05T22:40:14.561Z"
   },
   {
    "duration": 6,
    "start_time": "2022-06-05T22:46:33.186Z"
   },
   {
    "duration": 151,
    "start_time": "2022-06-05T22:49:37.206Z"
   },
   {
    "duration": 111,
    "start_time": "2022-06-05T22:49:48.434Z"
   },
   {
    "duration": 260,
    "start_time": "2022-06-05T22:50:27.405Z"
   },
   {
    "duration": 396,
    "start_time": "2022-06-05T22:52:23.634Z"
   },
   {
    "duration": 185,
    "start_time": "2022-06-05T22:56:42.992Z"
   },
   {
    "duration": 31,
    "start_time": "2022-06-05T22:58:13.434Z"
   },
   {
    "duration": 186,
    "start_time": "2022-06-05T22:58:38.908Z"
   },
   {
    "duration": 185,
    "start_time": "2022-06-05T22:59:06.038Z"
   },
   {
    "duration": 166,
    "start_time": "2022-06-05T22:59:15.785Z"
   },
   {
    "duration": 178,
    "start_time": "2022-06-05T23:00:26.275Z"
   },
   {
    "duration": 175,
    "start_time": "2022-06-05T23:06:49.096Z"
   },
   {
    "duration": 176,
    "start_time": "2022-06-05T23:07:27.686Z"
   },
   {
    "duration": 322,
    "start_time": "2022-06-05T23:13:59.489Z"
   },
   {
    "duration": 281,
    "start_time": "2022-06-05T23:14:20.955Z"
   },
   {
    "duration": 289,
    "start_time": "2022-06-05T23:14:44.579Z"
   },
   {
    "duration": 251,
    "start_time": "2022-06-05T23:15:11.732Z"
   },
   {
    "duration": 299,
    "start_time": "2022-06-05T23:21:19.312Z"
   },
   {
    "duration": 199,
    "start_time": "2022-06-05T23:21:39.658Z"
   },
   {
    "duration": 208,
    "start_time": "2022-06-05T23:22:31.344Z"
   },
   {
    "duration": 178,
    "start_time": "2022-06-05T23:24:02.945Z"
   },
   {
    "duration": 1059,
    "start_time": "2022-06-05T23:25:34.626Z"
   },
   {
    "duration": 35,
    "start_time": "2022-06-05T23:25:35.687Z"
   },
   {
    "duration": 3,
    "start_time": "2022-06-05T23:25:35.724Z"
   },
   {
    "duration": 11,
    "start_time": "2022-06-05T23:25:35.729Z"
   },
   {
    "duration": 12,
    "start_time": "2022-06-05T23:25:35.741Z"
   },
   {
    "duration": 6,
    "start_time": "2022-06-05T23:25:35.755Z"
   },
   {
    "duration": 17,
    "start_time": "2022-06-05T23:25:35.763Z"
   },
   {
    "duration": 55,
    "start_time": "2022-06-05T23:25:35.781Z"
   },
   {
    "duration": 9,
    "start_time": "2022-06-05T23:25:35.837Z"
   },
   {
    "duration": 15,
    "start_time": "2022-06-05T23:25:35.848Z"
   },
   {
    "duration": 19,
    "start_time": "2022-06-05T23:25:35.864Z"
   },
   {
    "duration": 10,
    "start_time": "2022-06-05T23:25:35.885Z"
   },
   {
    "duration": 11,
    "start_time": "2022-06-05T23:25:35.897Z"
   },
   {
    "duration": 18,
    "start_time": "2022-06-05T23:25:35.910Z"
   },
   {
    "duration": 15,
    "start_time": "2022-06-05T23:25:35.930Z"
   },
   {
    "duration": 14,
    "start_time": "2022-06-05T23:25:35.946Z"
   },
   {
    "duration": 6,
    "start_time": "2022-06-05T23:25:35.962Z"
   },
   {
    "duration": 12,
    "start_time": "2022-06-05T23:25:35.969Z"
   },
   {
    "duration": 12,
    "start_time": "2022-06-05T23:25:35.982Z"
   },
   {
    "duration": 163,
    "start_time": "2022-06-05T23:25:35.995Z"
   },
   {
    "duration": 122,
    "start_time": "2022-06-05T23:25:36.160Z"
   },
   {
    "duration": 265,
    "start_time": "2022-06-05T23:25:36.284Z"
   },
   {
    "duration": 293,
    "start_time": "2022-06-05T23:25:36.551Z"
   },
   {
    "duration": 263,
    "start_time": "2022-06-05T23:25:36.846Z"
   },
   {
    "duration": 277,
    "start_time": "2022-06-05T23:25:37.111Z"
   },
   {
    "duration": 285,
    "start_time": "2022-06-05T23:25:37.389Z"
   },
   {
    "duration": 193,
    "start_time": "2022-06-05T23:27:45.273Z"
   },
   {
    "duration": 182,
    "start_time": "2022-06-05T23:29:19.424Z"
   },
   {
    "duration": 203,
    "start_time": "2022-06-05T23:36:55.554Z"
   },
   {
    "duration": 209,
    "start_time": "2022-06-05T23:37:07.839Z"
   },
   {
    "duration": 293,
    "start_time": "2022-06-05T23:38:05.027Z"
   },
   {
    "duration": 335,
    "start_time": "2022-06-05T23:38:25.376Z"
   },
   {
    "duration": 317,
    "start_time": "2022-06-05T23:39:08.004Z"
   },
   {
    "duration": 303,
    "start_time": "2022-06-05T23:40:49.899Z"
   },
   {
    "duration": 1225,
    "start_time": "2022-06-08T01:22:39.553Z"
   },
   {
    "duration": 69,
    "start_time": "2022-06-08T01:22:40.780Z"
   },
   {
    "duration": 4,
    "start_time": "2022-06-08T01:22:40.851Z"
   },
   {
    "duration": 14,
    "start_time": "2022-06-08T01:22:40.857Z"
   },
   {
    "duration": 12,
    "start_time": "2022-06-08T01:22:40.873Z"
   },
   {
    "duration": 7,
    "start_time": "2022-06-08T01:22:40.886Z"
   },
   {
    "duration": 14,
    "start_time": "2022-06-08T01:22:40.894Z"
   },
   {
    "duration": 132,
    "start_time": "2022-06-08T01:22:40.910Z"
   },
   {
    "duration": 8,
    "start_time": "2022-06-08T01:22:41.044Z"
   },
   {
    "duration": 12,
    "start_time": "2022-06-08T01:22:41.054Z"
   },
   {
    "duration": 14,
    "start_time": "2022-06-08T01:22:41.068Z"
   },
   {
    "duration": 5,
    "start_time": "2022-06-08T01:22:41.084Z"
   },
   {
    "duration": 10,
    "start_time": "2022-06-08T01:22:41.090Z"
   },
   {
    "duration": 8,
    "start_time": "2022-06-08T01:22:41.102Z"
   },
   {
    "duration": 6,
    "start_time": "2022-06-08T01:22:41.111Z"
   },
   {
    "duration": 16,
    "start_time": "2022-06-08T01:22:41.129Z"
   },
   {
    "duration": 6,
    "start_time": "2022-06-08T01:22:41.146Z"
   },
   {
    "duration": 12,
    "start_time": "2022-06-08T01:22:41.153Z"
   },
   {
    "duration": 9,
    "start_time": "2022-06-08T01:22:41.167Z"
   },
   {
    "duration": 167,
    "start_time": "2022-06-08T01:22:41.177Z"
   },
   {
    "duration": 126,
    "start_time": "2022-06-08T01:22:41.346Z"
   },
   {
    "duration": 285,
    "start_time": "2022-06-08T01:22:41.474Z"
   },
   {
    "duration": 354,
    "start_time": "2022-06-08T01:22:41.760Z"
   },
   {
    "duration": 186,
    "start_time": "2022-06-08T01:22:42.116Z"
   },
   {
    "duration": 344,
    "start_time": "2022-06-08T01:22:42.304Z"
   },
   {
    "duration": 309,
    "start_time": "2022-06-08T01:22:42.650Z"
   },
   {
    "duration": 0,
    "start_time": "2022-06-08T01:22:42.961Z"
   },
   {
    "duration": 343,
    "start_time": "2022-06-08T01:23:09.217Z"
   },
   {
    "duration": 13,
    "start_time": "2022-06-08T01:28:17.000Z"
   },
   {
    "duration": 11,
    "start_time": "2022-06-08T01:28:47.010Z"
   },
   {
    "duration": 11,
    "start_time": "2022-06-08T01:30:50.614Z"
   },
   {
    "duration": 12,
    "start_time": "2022-06-08T01:34:07.462Z"
   },
   {
    "duration": 1145,
    "start_time": "2022-06-08T01:34:18.241Z"
   },
   {
    "duration": 33,
    "start_time": "2022-06-08T01:34:19.389Z"
   },
   {
    "duration": 3,
    "start_time": "2022-06-08T01:34:19.423Z"
   },
   {
    "duration": 29,
    "start_time": "2022-06-08T01:34:19.428Z"
   },
   {
    "duration": 13,
    "start_time": "2022-06-08T01:34:19.459Z"
   },
   {
    "duration": 9,
    "start_time": "2022-06-08T01:34:19.473Z"
   },
   {
    "duration": 31,
    "start_time": "2022-06-08T01:34:19.483Z"
   },
   {
    "duration": 63,
    "start_time": "2022-06-08T01:34:19.516Z"
   },
   {
    "duration": 7,
    "start_time": "2022-06-08T01:34:19.581Z"
   },
   {
    "duration": 15,
    "start_time": "2022-06-08T01:34:19.591Z"
   },
   {
    "duration": 14,
    "start_time": "2022-06-08T01:34:19.607Z"
   },
   {
    "duration": 29,
    "start_time": "2022-06-08T01:34:19.623Z"
   },
   {
    "duration": 10,
    "start_time": "2022-06-08T01:34:19.654Z"
   },
   {
    "duration": 11,
    "start_time": "2022-06-08T01:34:19.667Z"
   },
   {
    "duration": 8,
    "start_time": "2022-06-08T01:34:19.680Z"
   },
   {
    "duration": 14,
    "start_time": "2022-06-08T01:34:19.689Z"
   },
   {
    "duration": 6,
    "start_time": "2022-06-08T01:34:19.705Z"
   },
   {
    "duration": 12,
    "start_time": "2022-06-08T01:34:19.713Z"
   },
   {
    "duration": 16,
    "start_time": "2022-06-08T01:34:19.726Z"
   },
   {
    "duration": 169,
    "start_time": "2022-06-08T01:34:19.744Z"
   },
   {
    "duration": 131,
    "start_time": "2022-06-08T01:34:19.915Z"
   },
   {
    "duration": 268,
    "start_time": "2022-06-08T01:34:20.047Z"
   },
   {
    "duration": 339,
    "start_time": "2022-06-08T01:34:20.317Z"
   },
   {
    "duration": 243,
    "start_time": "2022-06-08T01:34:20.658Z"
   },
   {
    "duration": 300,
    "start_time": "2022-06-08T01:34:20.902Z"
   },
   {
    "duration": 310,
    "start_time": "2022-06-08T01:34:21.204Z"
   },
   {
    "duration": 0,
    "start_time": "2022-06-08T01:34:21.515Z"
   },
   {
    "duration": 0,
    "start_time": "2022-06-08T01:34:21.517Z"
   },
   {
    "duration": 291,
    "start_time": "2022-06-08T01:34:49.066Z"
   },
   {
    "duration": 19,
    "start_time": "2022-06-08T01:34:54.946Z"
   },
   {
    "duration": 141,
    "start_time": "2022-06-08T01:35:31.003Z"
   },
   {
    "duration": 134,
    "start_time": "2022-06-08T01:36:15.856Z"
   },
   {
    "duration": 129,
    "start_time": "2022-06-08T01:38:58.193Z"
   },
   {
    "duration": 116,
    "start_time": "2022-06-08T01:42:07.363Z"
   },
   {
    "duration": 4,
    "start_time": "2022-06-08T01:45:34.975Z"
   },
   {
    "duration": 126,
    "start_time": "2022-06-08T01:52:59.241Z"
   },
   {
    "duration": 8,
    "start_time": "2022-06-08T01:54:15.089Z"
   },
   {
    "duration": 125,
    "start_time": "2022-06-08T01:54:19.405Z"
   },
   {
    "duration": 10,
    "start_time": "2022-06-08T01:55:49.452Z"
   },
   {
    "duration": 18,
    "start_time": "2022-06-08T01:56:02.035Z"
   },
   {
    "duration": 413,
    "start_time": "2022-06-08T01:58:40.319Z"
   },
   {
    "duration": 138,
    "start_time": "2022-06-08T01:59:01.632Z"
   },
   {
    "duration": 152,
    "start_time": "2022-06-08T01:59:41.711Z"
   },
   {
    "duration": 4,
    "start_time": "2022-06-08T02:04:36.963Z"
   },
   {
    "duration": 144,
    "start_time": "2022-06-08T02:11:13.657Z"
   },
   {
    "duration": 340,
    "start_time": "2022-06-08T02:12:27.739Z"
   },
   {
    "duration": 493,
    "start_time": "2022-06-08T02:14:04.454Z"
   },
   {
    "duration": 214,
    "start_time": "2022-06-08T02:17:12.662Z"
   },
   {
    "duration": 25,
    "start_time": "2022-06-08T02:18:18.574Z"
   },
   {
    "duration": 226,
    "start_time": "2022-06-08T02:18:27.880Z"
   },
   {
    "duration": 59,
    "start_time": "2022-06-08T02:19:08.043Z"
   },
   {
    "duration": 239,
    "start_time": "2022-06-08T02:19:39.494Z"
   },
   {
    "duration": 156,
    "start_time": "2022-06-08T02:19:53.845Z"
   },
   {
    "duration": 7,
    "start_time": "2022-06-08T02:20:01.402Z"
   },
   {
    "duration": 8,
    "start_time": "2022-06-08T02:20:42.248Z"
   },
   {
    "duration": 186,
    "start_time": "2022-06-08T02:21:12.190Z"
   },
   {
    "duration": 10,
    "start_time": "2022-06-08T02:23:52.592Z"
   },
   {
    "duration": 167,
    "start_time": "2022-06-08T02:28:57.668Z"
   },
   {
    "duration": 13,
    "start_time": "2022-06-08T02:33:19.792Z"
   },
   {
    "duration": 11,
    "start_time": "2022-06-08T02:42:36.395Z"
   },
   {
    "duration": 9,
    "start_time": "2022-06-08T02:44:34.313Z"
   },
   {
    "duration": 38,
    "start_time": "2022-06-08T02:44:53.988Z"
   },
   {
    "duration": 18,
    "start_time": "2022-06-08T02:48:34.357Z"
   },
   {
    "duration": 1198,
    "start_time": "2022-06-08T02:54:45.283Z"
   },
   {
    "duration": 40,
    "start_time": "2022-06-08T02:54:46.483Z"
   },
   {
    "duration": 11,
    "start_time": "2022-06-08T02:54:46.525Z"
   },
   {
    "duration": 48,
    "start_time": "2022-06-08T02:54:46.544Z"
   },
   {
    "duration": 16,
    "start_time": "2022-06-08T02:54:46.597Z"
   },
   {
    "duration": 10,
    "start_time": "2022-06-08T02:54:46.615Z"
   },
   {
    "duration": 40,
    "start_time": "2022-06-08T02:54:46.629Z"
   },
   {
    "duration": 89,
    "start_time": "2022-06-08T02:54:46.671Z"
   },
   {
    "duration": 11,
    "start_time": "2022-06-08T02:54:46.763Z"
   },
   {
    "duration": 26,
    "start_time": "2022-06-08T02:54:46.778Z"
   },
   {
    "duration": 35,
    "start_time": "2022-06-08T02:54:46.806Z"
   },
   {
    "duration": 25,
    "start_time": "2022-06-08T02:54:46.846Z"
   },
   {
    "duration": 16,
    "start_time": "2022-06-08T02:54:46.873Z"
   },
   {
    "duration": 18,
    "start_time": "2022-06-08T02:54:46.891Z"
   },
   {
    "duration": 9,
    "start_time": "2022-06-08T02:54:46.911Z"
   },
   {
    "duration": 34,
    "start_time": "2022-06-08T02:54:46.922Z"
   },
   {
    "duration": 8,
    "start_time": "2022-06-08T02:54:46.959Z"
   },
   {
    "duration": 12,
    "start_time": "2022-06-08T02:54:46.969Z"
   },
   {
    "duration": 9,
    "start_time": "2022-06-08T02:54:46.983Z"
   },
   {
    "duration": 174,
    "start_time": "2022-06-08T02:54:46.993Z"
   },
   {
    "duration": 201,
    "start_time": "2022-06-08T02:54:47.169Z"
   },
   {
    "duration": 320,
    "start_time": "2022-06-08T02:54:47.372Z"
   },
   {
    "duration": 318,
    "start_time": "2022-06-08T02:54:47.694Z"
   },
   {
    "duration": 270,
    "start_time": "2022-06-08T02:54:48.014Z"
   },
   {
    "duration": 347,
    "start_time": "2022-06-08T02:54:48.285Z"
   },
   {
    "duration": 341,
    "start_time": "2022-06-08T02:54:48.642Z"
   },
   {
    "duration": 0,
    "start_time": "2022-06-08T02:54:48.985Z"
   },
   {
    "duration": 0,
    "start_time": "2022-06-08T02:54:48.987Z"
   },
   {
    "duration": 0,
    "start_time": "2022-06-08T02:54:48.988Z"
   },
   {
    "duration": 0,
    "start_time": "2022-06-08T02:54:48.990Z"
   },
   {
    "duration": 0,
    "start_time": "2022-06-08T02:54:48.991Z"
   },
   {
    "duration": 0,
    "start_time": "2022-06-08T02:54:48.991Z"
   },
   {
    "duration": 0,
    "start_time": "2022-06-08T02:54:48.993Z"
   },
   {
    "duration": 0,
    "start_time": "2022-06-08T02:54:48.994Z"
   },
   {
    "duration": 0,
    "start_time": "2022-06-08T02:54:48.995Z"
   },
   {
    "duration": 0,
    "start_time": "2022-06-08T02:54:48.997Z"
   },
   {
    "duration": 0,
    "start_time": "2022-06-08T02:54:48.999Z"
   },
   {
    "duration": 0,
    "start_time": "2022-06-08T02:54:49.028Z"
   },
   {
    "duration": 0,
    "start_time": "2022-06-08T02:54:49.029Z"
   },
   {
    "duration": 0,
    "start_time": "2022-06-08T02:54:49.030Z"
   },
   {
    "duration": 0,
    "start_time": "2022-06-08T02:54:49.030Z"
   },
   {
    "duration": 0,
    "start_time": "2022-06-08T02:54:49.031Z"
   },
   {
    "duration": 0,
    "start_time": "2022-06-08T02:54:49.032Z"
   },
   {
    "duration": 0,
    "start_time": "2022-06-08T02:54:49.032Z"
   },
   {
    "duration": 310,
    "start_time": "2022-06-08T02:56:10.062Z"
   },
   {
    "duration": 184,
    "start_time": "2022-06-08T02:56:16.348Z"
   },
   {
    "duration": 132,
    "start_time": "2022-06-08T02:56:20.625Z"
   },
   {
    "duration": 121,
    "start_time": "2022-06-08T02:56:24.636Z"
   },
   {
    "duration": 4,
    "start_time": "2022-06-08T02:56:29.392Z"
   },
   {
    "duration": 11,
    "start_time": "2022-06-08T02:56:32.664Z"
   },
   {
    "duration": 182,
    "start_time": "2022-06-08T02:56:36.158Z"
   },
   {
    "duration": 175,
    "start_time": "2022-06-08T02:56:39.550Z"
   },
   {
    "duration": 6,
    "start_time": "2022-06-08T02:56:44.301Z"
   },
   {
    "duration": 229,
    "start_time": "2022-06-08T02:56:48.316Z"
   },
   {
    "duration": 131,
    "start_time": "2022-06-08T02:56:50.727Z"
   },
   {
    "duration": 7,
    "start_time": "2022-06-08T02:56:53.116Z"
   },
   {
    "duration": 173,
    "start_time": "2022-06-08T02:56:58.051Z"
   },
   {
    "duration": 20,
    "start_time": "2022-06-08T02:57:03.936Z"
   },
   {
    "duration": 12,
    "start_time": "2022-06-08T02:57:08.250Z"
   },
   {
    "duration": 11,
    "start_time": "2022-06-08T02:57:11.361Z"
   },
   {
    "duration": 30,
    "start_time": "2022-06-08T02:57:12.356Z"
   },
   {
    "duration": 15,
    "start_time": "2022-06-08T02:57:17.701Z"
   },
   {
    "duration": 56,
    "start_time": "2022-06-08T04:25:24.515Z"
   },
   {
    "duration": 1116,
    "start_time": "2022-06-08T04:25:34.437Z"
   },
   {
    "duration": 37,
    "start_time": "2022-06-08T04:25:35.555Z"
   },
   {
    "duration": 3,
    "start_time": "2022-06-08T04:25:35.593Z"
   },
   {
    "duration": 7,
    "start_time": "2022-06-08T04:25:35.597Z"
   },
   {
    "duration": 8,
    "start_time": "2022-06-08T04:25:35.606Z"
   },
   {
    "duration": 5,
    "start_time": "2022-06-08T04:25:35.616Z"
   },
   {
    "duration": 11,
    "start_time": "2022-06-08T04:25:35.622Z"
   },
   {
    "duration": 56,
    "start_time": "2022-06-08T04:25:35.635Z"
   },
   {
    "duration": 7,
    "start_time": "2022-06-08T04:25:35.692Z"
   },
   {
    "duration": 12,
    "start_time": "2022-06-08T04:25:35.702Z"
   },
   {
    "duration": 14,
    "start_time": "2022-06-08T04:25:35.715Z"
   },
   {
    "duration": 9,
    "start_time": "2022-06-08T04:25:35.731Z"
   },
   {
    "duration": 10,
    "start_time": "2022-06-08T04:25:35.742Z"
   },
   {
    "duration": 9,
    "start_time": "2022-06-08T04:25:35.754Z"
   },
   {
    "duration": 7,
    "start_time": "2022-06-08T04:25:35.765Z"
   },
   {
    "duration": 11,
    "start_time": "2022-06-08T04:25:35.773Z"
   },
   {
    "duration": 3,
    "start_time": "2022-06-08T04:25:35.786Z"
   },
   {
    "duration": 9,
    "start_time": "2022-06-08T04:25:35.791Z"
   },
   {
    "duration": 8,
    "start_time": "2022-06-08T04:25:35.802Z"
   },
   {
    "duration": 184,
    "start_time": "2022-06-08T04:25:35.812Z"
   },
   {
    "duration": 123,
    "start_time": "2022-06-08T04:25:35.998Z"
   },
   {
    "duration": 272,
    "start_time": "2022-06-08T04:25:36.123Z"
   },
   {
    "duration": 290,
    "start_time": "2022-06-08T04:25:36.397Z"
   },
   {
    "duration": 247,
    "start_time": "2022-06-08T04:25:36.688Z"
   },
   {
    "duration": 307,
    "start_time": "2022-06-08T04:25:36.937Z"
   },
   {
    "duration": 295,
    "start_time": "2022-06-08T04:25:37.246Z"
   },
   {
    "duration": 0,
    "start_time": "2022-06-08T04:25:37.543Z"
   },
   {
    "duration": 0,
    "start_time": "2022-06-08T04:25:37.544Z"
   },
   {
    "duration": 0,
    "start_time": "2022-06-08T04:25:37.545Z"
   },
   {
    "duration": 0,
    "start_time": "2022-06-08T04:25:37.546Z"
   },
   {
    "duration": 0,
    "start_time": "2022-06-08T04:25:37.547Z"
   },
   {
    "duration": 0,
    "start_time": "2022-06-08T04:25:37.548Z"
   },
   {
    "duration": 0,
    "start_time": "2022-06-08T04:25:37.549Z"
   },
   {
    "duration": 0,
    "start_time": "2022-06-08T04:25:37.550Z"
   },
   {
    "duration": 0,
    "start_time": "2022-06-08T04:25:37.551Z"
   },
   {
    "duration": 0,
    "start_time": "2022-06-08T04:25:37.564Z"
   },
   {
    "duration": 0,
    "start_time": "2022-06-08T04:25:37.566Z"
   },
   {
    "duration": 0,
    "start_time": "2022-06-08T04:25:37.567Z"
   },
   {
    "duration": 0,
    "start_time": "2022-06-08T04:25:37.568Z"
   },
   {
    "duration": 0,
    "start_time": "2022-06-08T04:25:37.569Z"
   },
   {
    "duration": 0,
    "start_time": "2022-06-08T04:25:37.570Z"
   },
   {
    "duration": 0,
    "start_time": "2022-06-08T04:25:37.571Z"
   },
   {
    "duration": 0,
    "start_time": "2022-06-08T04:25:37.572Z"
   },
   {
    "duration": 0,
    "start_time": "2022-06-08T04:25:37.573Z"
   },
   {
    "duration": 11,
    "start_time": "2022-06-08T04:26:53.369Z"
   },
   {
    "duration": 364,
    "start_time": "2022-06-08T04:30:12.235Z"
   },
   {
    "duration": 139,
    "start_time": "2022-06-08T04:32:10.400Z"
   },
   {
    "duration": 125,
    "start_time": "2022-06-08T04:32:10.541Z"
   },
   {
    "duration": 136,
    "start_time": "2022-06-08T04:32:10.667Z"
   },
   {
    "duration": 4,
    "start_time": "2022-06-08T04:32:10.805Z"
   },
   {
    "duration": 21,
    "start_time": "2022-06-08T04:32:10.810Z"
   },
   {
    "duration": 145,
    "start_time": "2022-06-08T04:32:10.832Z"
   },
   {
    "duration": 145,
    "start_time": "2022-06-08T04:32:10.979Z"
   },
   {
    "duration": 4,
    "start_time": "2022-06-08T04:32:11.126Z"
   },
   {
    "duration": 234,
    "start_time": "2022-06-08T04:32:11.132Z"
   },
   {
    "duration": 146,
    "start_time": "2022-06-08T04:32:11.368Z"
   },
   {
    "duration": 5,
    "start_time": "2022-06-08T04:32:11.516Z"
   },
   {
    "duration": 155,
    "start_time": "2022-06-08T04:32:11.523Z"
   },
   {
    "duration": 9,
    "start_time": "2022-06-08T04:32:11.680Z"
   },
   {
    "duration": 9,
    "start_time": "2022-06-08T04:32:11.691Z"
   },
   {
    "duration": 7,
    "start_time": "2022-06-08T04:32:11.702Z"
   },
   {
    "duration": 53,
    "start_time": "2022-06-08T04:32:11.711Z"
   },
   {
    "duration": 13,
    "start_time": "2022-06-08T04:32:11.766Z"
   },
   {
    "duration": 56,
    "start_time": "2022-06-08T16:43:37.384Z"
   },
   {
    "duration": 1268,
    "start_time": "2022-06-08T16:43:47.786Z"
   },
   {
    "duration": 69,
    "start_time": "2022-06-08T16:43:49.056Z"
   },
   {
    "duration": 4,
    "start_time": "2022-06-08T16:43:49.126Z"
   },
   {
    "duration": 10,
    "start_time": "2022-06-08T16:43:49.131Z"
   },
   {
    "duration": 11,
    "start_time": "2022-06-08T16:43:49.143Z"
   },
   {
    "duration": 6,
    "start_time": "2022-06-08T16:43:49.156Z"
   },
   {
    "duration": 11,
    "start_time": "2022-06-08T16:43:49.163Z"
   },
   {
    "duration": 130,
    "start_time": "2022-06-08T16:43:49.176Z"
   },
   {
    "duration": 8,
    "start_time": "2022-06-08T16:43:49.308Z"
   },
   {
    "duration": 19,
    "start_time": "2022-06-08T16:43:49.317Z"
   },
   {
    "duration": 15,
    "start_time": "2022-06-08T16:43:49.337Z"
   },
   {
    "duration": 9,
    "start_time": "2022-06-08T16:43:49.353Z"
   },
   {
    "duration": 16,
    "start_time": "2022-06-08T16:43:49.363Z"
   },
   {
    "duration": 8,
    "start_time": "2022-06-08T16:43:49.382Z"
   },
   {
    "duration": 7,
    "start_time": "2022-06-08T16:43:49.392Z"
   },
   {
    "duration": 12,
    "start_time": "2022-06-08T16:43:49.400Z"
   },
   {
    "duration": 8,
    "start_time": "2022-06-08T16:43:49.413Z"
   },
   {
    "duration": 17,
    "start_time": "2022-06-08T16:43:49.422Z"
   },
   {
    "duration": 121,
    "start_time": "2022-06-08T16:43:49.440Z"
   },
   {
    "duration": 0,
    "start_time": "2022-06-08T16:43:49.562Z"
   },
   {
    "duration": 0,
    "start_time": "2022-06-08T16:43:49.563Z"
   },
   {
    "duration": 0,
    "start_time": "2022-06-08T16:43:49.564Z"
   },
   {
    "duration": 0,
    "start_time": "2022-06-08T16:43:49.565Z"
   },
   {
    "duration": 0,
    "start_time": "2022-06-08T16:43:49.566Z"
   },
   {
    "duration": 0,
    "start_time": "2022-06-08T16:43:49.567Z"
   },
   {
    "duration": 0,
    "start_time": "2022-06-08T16:43:49.568Z"
   },
   {
    "duration": 0,
    "start_time": "2022-06-08T16:43:49.569Z"
   },
   {
    "duration": 0,
    "start_time": "2022-06-08T16:43:49.570Z"
   },
   {
    "duration": 0,
    "start_time": "2022-06-08T16:43:49.572Z"
   },
   {
    "duration": 0,
    "start_time": "2022-06-08T16:43:49.572Z"
   },
   {
    "duration": 0,
    "start_time": "2022-06-08T16:43:49.573Z"
   },
   {
    "duration": 0,
    "start_time": "2022-06-08T16:43:49.574Z"
   },
   {
    "duration": 0,
    "start_time": "2022-06-08T16:43:49.576Z"
   },
   {
    "duration": 0,
    "start_time": "2022-06-08T16:43:49.577Z"
   },
   {
    "duration": 0,
    "start_time": "2022-06-08T16:43:49.578Z"
   },
   {
    "duration": 0,
    "start_time": "2022-06-08T16:43:49.580Z"
   },
   {
    "duration": 0,
    "start_time": "2022-06-08T16:43:49.581Z"
   },
   {
    "duration": 0,
    "start_time": "2022-06-08T16:43:49.582Z"
   },
   {
    "duration": 0,
    "start_time": "2022-06-08T16:43:49.584Z"
   },
   {
    "duration": 0,
    "start_time": "2022-06-08T16:43:49.585Z"
   },
   {
    "duration": 0,
    "start_time": "2022-06-08T16:43:49.586Z"
   },
   {
    "duration": 0,
    "start_time": "2022-06-08T16:43:49.588Z"
   },
   {
    "duration": 0,
    "start_time": "2022-06-08T16:43:49.589Z"
   },
   {
    "duration": 0,
    "start_time": "2022-06-08T16:43:49.591Z"
   },
   {
    "duration": 0,
    "start_time": "2022-06-08T16:43:49.592Z"
   },
   {
    "duration": 93,
    "start_time": "2022-06-08T16:58:09.416Z"
   },
   {
    "duration": 118,
    "start_time": "2022-06-08T17:03:11.196Z"
   },
   {
    "duration": 17,
    "start_time": "2022-06-08T17:08:59.467Z"
   },
   {
    "duration": 35,
    "start_time": "2022-06-08T17:09:41.765Z"
   },
   {
    "duration": 89,
    "start_time": "2022-06-08T17:11:37.511Z"
   },
   {
    "duration": 96,
    "start_time": "2022-06-08T17:11:49.916Z"
   },
   {
    "duration": 94,
    "start_time": "2022-06-08T17:12:08.467Z"
   },
   {
    "duration": 5,
    "start_time": "2022-06-08T17:17:13.369Z"
   },
   {
    "duration": 157,
    "start_time": "2022-06-08T17:17:16.370Z"
   },
   {
    "duration": 128,
    "start_time": "2022-06-08T17:17:17.402Z"
   },
   {
    "duration": 270,
    "start_time": "2022-06-08T17:17:18.809Z"
   },
   {
    "duration": 284,
    "start_time": "2022-06-08T17:17:23.593Z"
   },
   {
    "duration": 187,
    "start_time": "2022-06-08T17:17:45.540Z"
   },
   {
    "duration": 190,
    "start_time": "2022-06-08T17:18:59.251Z"
   },
   {
    "duration": 26,
    "start_time": "2022-06-08T17:19:52.172Z"
   },
   {
    "duration": 210,
    "start_time": "2022-06-08T17:20:52.100Z"
   },
   {
    "duration": 184,
    "start_time": "2022-06-08T17:21:37.963Z"
   },
   {
    "duration": 187,
    "start_time": "2022-06-08T17:22:29.984Z"
   },
   {
    "duration": 203,
    "start_time": "2022-06-08T17:23:26.551Z"
   },
   {
    "duration": 175,
    "start_time": "2022-06-08T17:23:54.149Z"
   },
   {
    "duration": 240,
    "start_time": "2022-06-08T17:30:45.854Z"
   },
   {
    "duration": 181,
    "start_time": "2022-06-08T17:31:43.750Z"
   },
   {
    "duration": 297,
    "start_time": "2022-06-08T17:31:59.388Z"
   },
   {
    "duration": 291,
    "start_time": "2022-06-08T17:32:05.984Z"
   },
   {
    "duration": 310,
    "start_time": "2022-06-08T17:33:01.052Z"
   },
   {
    "duration": 177,
    "start_time": "2022-06-08T17:33:12.579Z"
   },
   {
    "duration": 184,
    "start_time": "2022-06-08T17:33:45.293Z"
   },
   {
    "duration": 316,
    "start_time": "2022-06-08T17:33:54.448Z"
   },
   {
    "duration": 325,
    "start_time": "2022-06-08T17:34:26.534Z"
   },
   {
    "duration": 141,
    "start_time": "2022-06-08T17:34:44.691Z"
   },
   {
    "duration": 108,
    "start_time": "2022-06-08T17:34:49.579Z"
   },
   {
    "duration": 112,
    "start_time": "2022-06-08T17:34:54.047Z"
   },
   {
    "duration": 184,
    "start_time": "2022-06-08T17:35:18.617Z"
   },
   {
    "duration": 105,
    "start_time": "2022-06-08T17:35:44.306Z"
   },
   {
    "duration": 128,
    "start_time": "2022-06-08T17:36:16.426Z"
   },
   {
    "duration": 121,
    "start_time": "2022-06-08T17:37:05.602Z"
   },
   {
    "duration": 114,
    "start_time": "2022-06-08T17:37:14.397Z"
   },
   {
    "duration": 4,
    "start_time": "2022-06-08T17:37:19.098Z"
   },
   {
    "duration": 10,
    "start_time": "2022-06-08T17:37:39.264Z"
   },
   {
    "duration": 135,
    "start_time": "2022-06-08T17:37:42.289Z"
   },
   {
    "duration": 138,
    "start_time": "2022-06-08T17:38:31.507Z"
   },
   {
    "duration": 138,
    "start_time": "2022-06-08T17:38:57.428Z"
   },
   {
    "duration": 131,
    "start_time": "2022-06-08T17:39:26.692Z"
   },
   {
    "duration": 4,
    "start_time": "2022-06-08T17:39:40.273Z"
   },
   {
    "duration": 211,
    "start_time": "2022-06-08T17:39:44.147Z"
   },
   {
    "duration": 134,
    "start_time": "2022-06-08T17:39:47.954Z"
   },
   {
    "duration": 6,
    "start_time": "2022-06-08T17:39:49.960Z"
   },
   {
    "duration": 153,
    "start_time": "2022-06-08T17:42:23.465Z"
   },
   {
    "duration": 11,
    "start_time": "2022-06-08T17:42:32.316Z"
   },
   {
    "duration": 1216,
    "start_time": "2022-06-08T19:02:58.253Z"
   },
   {
    "duration": 81,
    "start_time": "2022-06-08T19:02:59.471Z"
   },
   {
    "duration": 3,
    "start_time": "2022-06-08T19:02:59.553Z"
   },
   {
    "duration": 9,
    "start_time": "2022-06-08T19:02:59.557Z"
   },
   {
    "duration": 10,
    "start_time": "2022-06-08T19:02:59.568Z"
   },
   {
    "duration": 6,
    "start_time": "2022-06-08T19:02:59.579Z"
   },
   {
    "duration": 11,
    "start_time": "2022-06-08T19:02:59.586Z"
   },
   {
    "duration": 134,
    "start_time": "2022-06-08T19:02:59.598Z"
   },
   {
    "duration": 9,
    "start_time": "2022-06-08T19:02:59.734Z"
   },
   {
    "duration": 20,
    "start_time": "2022-06-08T19:02:59.745Z"
   },
   {
    "duration": 19,
    "start_time": "2022-06-08T19:02:59.766Z"
   },
   {
    "duration": 11,
    "start_time": "2022-06-08T19:02:59.786Z"
   },
   {
    "duration": 16,
    "start_time": "2022-06-08T19:02:59.798Z"
   },
   {
    "duration": 10,
    "start_time": "2022-06-08T19:02:59.817Z"
   },
   {
    "duration": 10,
    "start_time": "2022-06-08T19:02:59.828Z"
   },
   {
    "duration": 13,
    "start_time": "2022-06-08T19:02:59.840Z"
   },
   {
    "duration": 9,
    "start_time": "2022-06-08T19:02:59.855Z"
   },
   {
    "duration": 10,
    "start_time": "2022-06-08T19:02:59.865Z"
   },
   {
    "duration": 18,
    "start_time": "2022-06-08T19:02:59.878Z"
   },
   {
    "duration": 172,
    "start_time": "2022-06-08T19:02:59.897Z"
   },
   {
    "duration": 125,
    "start_time": "2022-06-08T19:03:00.070Z"
   },
   {
    "duration": 292,
    "start_time": "2022-06-08T19:03:00.197Z"
   },
   {
    "duration": 261,
    "start_time": "2022-06-08T19:03:00.494Z"
   },
   {
    "duration": 173,
    "start_time": "2022-06-08T19:03:00.756Z"
   },
   {
    "duration": 302,
    "start_time": "2022-06-08T19:03:00.931Z"
   },
   {
    "duration": 221,
    "start_time": "2022-06-08T19:03:01.235Z"
   },
   {
    "duration": 318,
    "start_time": "2022-06-08T19:03:01.457Z"
   },
   {
    "duration": 231,
    "start_time": "2022-06-08T19:03:01.777Z"
   },
   {
    "duration": 152,
    "start_time": "2022-06-08T19:03:02.010Z"
   },
   {
    "duration": 125,
    "start_time": "2022-06-08T19:03:02.164Z"
   },
   {
    "duration": 5,
    "start_time": "2022-06-08T19:03:02.295Z"
   },
   {
    "duration": 25,
    "start_time": "2022-06-08T19:03:02.301Z"
   },
   {
    "duration": 184,
    "start_time": "2022-06-08T19:03:02.328Z"
   },
   {
    "duration": 212,
    "start_time": "2022-06-08T19:03:02.514Z"
   },
   {
    "duration": 4,
    "start_time": "2022-06-08T19:03:02.727Z"
   },
   {
    "duration": 212,
    "start_time": "2022-06-08T19:03:02.733Z"
   },
   {
    "duration": 135,
    "start_time": "2022-06-08T19:03:02.946Z"
   },
   {
    "duration": 11,
    "start_time": "2022-06-08T19:03:03.083Z"
   },
   {
    "duration": 162,
    "start_time": "2022-06-08T19:03:03.095Z"
   },
   {
    "duration": 11,
    "start_time": "2022-06-08T19:03:03.259Z"
   },
   {
    "duration": 26,
    "start_time": "2022-06-08T19:03:03.275Z"
   },
   {
    "duration": 11,
    "start_time": "2022-06-08T19:03:03.303Z"
   },
   {
    "duration": 25,
    "start_time": "2022-06-08T19:03:03.316Z"
   },
   {
    "duration": 14,
    "start_time": "2022-06-08T19:03:03.343Z"
   },
   {
    "duration": 1596,
    "start_time": "2022-06-09T17:38:31.089Z"
   },
   {
    "duration": 80,
    "start_time": "2022-06-09T17:38:32.691Z"
   },
   {
    "duration": 6,
    "start_time": "2022-06-09T17:38:32.774Z"
   },
   {
    "duration": 37,
    "start_time": "2022-06-09T17:38:32.782Z"
   },
   {
    "duration": 13,
    "start_time": "2022-06-09T17:38:32.821Z"
   },
   {
    "duration": 11,
    "start_time": "2022-06-09T17:38:32.835Z"
   },
   {
    "duration": 26,
    "start_time": "2022-06-09T17:38:32.847Z"
   },
   {
    "duration": 184,
    "start_time": "2022-06-09T17:38:32.876Z"
   },
   {
    "duration": 14,
    "start_time": "2022-06-09T17:38:33.063Z"
   },
   {
    "duration": 30,
    "start_time": "2022-06-09T17:38:33.085Z"
   },
   {
    "duration": 18,
    "start_time": "2022-06-09T17:38:33.118Z"
   },
   {
    "duration": 11,
    "start_time": "2022-06-09T17:38:33.138Z"
   },
   {
    "duration": 16,
    "start_time": "2022-06-09T17:38:33.150Z"
   },
   {
    "duration": 45,
    "start_time": "2022-06-09T17:38:33.169Z"
   },
   {
    "duration": 14,
    "start_time": "2022-06-09T17:38:33.217Z"
   },
   {
    "duration": 39,
    "start_time": "2022-06-09T17:38:33.233Z"
   },
   {
    "duration": 30,
    "start_time": "2022-06-09T17:38:33.276Z"
   },
   {
    "duration": 16,
    "start_time": "2022-06-09T17:38:33.308Z"
   },
   {
    "duration": 9,
    "start_time": "2022-06-09T17:38:33.327Z"
   },
   {
    "duration": 212,
    "start_time": "2022-06-09T17:38:33.339Z"
   },
   {
    "duration": 179,
    "start_time": "2022-06-09T17:38:33.553Z"
   },
   {
    "duration": 462,
    "start_time": "2022-06-09T17:38:33.734Z"
   },
   {
    "duration": 397,
    "start_time": "2022-06-09T17:38:34.198Z"
   },
   {
    "duration": 241,
    "start_time": "2022-06-09T17:38:34.598Z"
   },
   {
    "duration": 397,
    "start_time": "2022-06-09T17:38:34.841Z"
   },
   {
    "duration": 335,
    "start_time": "2022-06-09T17:38:35.242Z"
   },
   {
    "duration": 338,
    "start_time": "2022-06-09T17:38:35.579Z"
   },
   {
    "duration": 209,
    "start_time": "2022-06-09T17:38:35.922Z"
   },
   {
    "duration": 193,
    "start_time": "2022-06-09T17:38:36.133Z"
   },
   {
    "duration": 194,
    "start_time": "2022-06-09T17:38:36.328Z"
   },
   {
    "duration": 5,
    "start_time": "2022-06-09T17:38:36.524Z"
   },
   {
    "duration": 18,
    "start_time": "2022-06-09T17:38:36.531Z"
   },
   {
    "duration": 191,
    "start_time": "2022-06-09T17:38:36.551Z"
   },
   {
    "duration": 319,
    "start_time": "2022-06-09T17:38:36.745Z"
   },
   {
    "duration": 5,
    "start_time": "2022-06-09T17:38:37.067Z"
   },
   {
    "duration": 362,
    "start_time": "2022-06-09T17:38:37.077Z"
   },
   {
    "duration": 208,
    "start_time": "2022-06-09T17:38:37.441Z"
   },
   {
    "duration": 15,
    "start_time": "2022-06-09T17:38:37.651Z"
   },
   {
    "duration": 257,
    "start_time": "2022-06-09T17:38:37.671Z"
   },
   {
    "duration": 12,
    "start_time": "2022-06-09T17:38:37.930Z"
   },
   {
    "duration": 23,
    "start_time": "2022-06-09T17:38:37.944Z"
   },
   {
    "duration": 14,
    "start_time": "2022-06-09T17:38:37.969Z"
   },
   {
    "duration": 78,
    "start_time": "2022-06-09T17:38:37.985Z"
   },
   {
    "duration": 21,
    "start_time": "2022-06-09T17:38:38.069Z"
   },
   {
    "duration": 268,
    "start_time": "2022-06-09T17:39:45.403Z"
   },
   {
    "duration": 285,
    "start_time": "2022-06-09T17:39:54.860Z"
   },
   {
    "duration": 238,
    "start_time": "2022-06-09T17:40:02.203Z"
   },
   {
    "duration": 264,
    "start_time": "2022-06-09T17:40:09.733Z"
   },
   {
    "duration": 328,
    "start_time": "2022-06-09T17:42:20.719Z"
   },
   {
    "duration": 298,
    "start_time": "2022-06-09T17:42:28.654Z"
   },
   {
    "duration": 309,
    "start_time": "2022-06-09T17:43:11.238Z"
   },
   {
    "duration": 298,
    "start_time": "2022-06-09T17:43:58.192Z"
   },
   {
    "duration": 474,
    "start_time": "2022-06-09T17:46:24.260Z"
   },
   {
    "duration": 27,
    "start_time": "2022-06-09T17:47:15.634Z"
   },
   {
    "duration": 325,
    "start_time": "2022-06-09T17:47:33.132Z"
   },
   {
    "duration": 290,
    "start_time": "2022-06-09T17:47:42.601Z"
   },
   {
    "duration": 304,
    "start_time": "2022-06-09T17:47:50.645Z"
   },
   {
    "duration": 381,
    "start_time": "2022-06-09T17:48:01.823Z"
   },
   {
    "duration": 299,
    "start_time": "2022-06-09T17:48:48.809Z"
   }
  ],
  "kernelspec": {
   "display_name": "Python 3 (ipykernel)",
   "language": "python",
   "name": "python3"
  },
  "language_info": {
   "codemirror_mode": {
    "name": "ipython",
    "version": 3
   },
   "file_extension": ".py",
   "mimetype": "text/x-python",
   "name": "python",
   "nbconvert_exporter": "python",
   "pygments_lexer": "ipython3",
   "version": "3.9.5"
  },
  "toc": {
   "base_numbering": 1,
   "nav_menu": {},
   "number_sections": true,
   "sideBar": true,
   "skip_h1_title": true,
   "title_cell": "Table of Contents",
   "title_sidebar": "Contents",
   "toc_cell": false,
   "toc_position": {},
   "toc_section_display": true,
   "toc_window_display": false
  }
 },
 "nbformat": 4,
 "nbformat_minor": 2
}
